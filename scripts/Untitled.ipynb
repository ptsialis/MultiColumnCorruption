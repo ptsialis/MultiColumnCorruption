{
 "cells": [
  {
   "cell_type": "code",
   "execution_count": 30,
   "id": "d893b6d1-1ddc-47b3-841a-b78eb1d4c86e",
   "metadata": {},
   "outputs": [],
   "source": [
    "from sklearn.compose import ColumnTransformer\n",
    "from sklearn.impute import SimpleImputer\n",
    "from sklearn.preprocessing import OneHotEncoder, StandardScaler\n",
    "from sklearn.pipeline import Pipeline\n",
    "import pandas as pd\n",
    "from sklearn.linear_model import SGDClassifier, SGDRegressor"
   ]
  },
  {
   "cell_type": "code",
   "execution_count": null,
   "id": "5ff868d8-8942-4447-9bd6-976837383b6b",
   "metadata": {},
   "outputs": [],
   "source": []
  },
  {
   "cell_type": "code",
   "execution_count": 47,
   "id": "ae2d5ab4-a4dc-4380-a5fc-30cc32346562",
   "metadata": {
    "scrolled": true
   },
   "outputs": [],
   "source": [
    "df = pd.read_csv(\"../train_data_corrupted.csv\",index_col=0)"
   ]
  },
  {
   "cell_type": "code",
   "execution_count": 48,
   "id": "a8190b54-fd59-4670-903e-49c6c4dce7b4",
   "metadata": {},
   "outputs": [
    {
     "data": {
      "text/html": [
       "<div>\n",
       "<style scoped>\n",
       "    .dataframe tbody tr th:only-of-type {\n",
       "        vertical-align: middle;\n",
       "    }\n",
       "\n",
       "    .dataframe tbody tr th {\n",
       "        vertical-align: top;\n",
       "    }\n",
       "\n",
       "    .dataframe thead th {\n",
       "        text-align: right;\n",
       "    }\n",
       "</style>\n",
       "<table border=\"1\" class=\"dataframe\">\n",
       "  <thead>\n",
       "    <tr style=\"text-align: right;\">\n",
       "      <th></th>\n",
       "      <th>white_king_col</th>\n",
       "      <th>white_king_row</th>\n",
       "      <th>white_rook_col</th>\n",
       "      <th>white_rook_row</th>\n",
       "      <th>black_king_col</th>\n",
       "      <th>black_king_row</th>\n",
       "    </tr>\n",
       "  </thead>\n",
       "  <tbody>\n",
       "    <tr>\n",
       "      <th>20482</th>\n",
       "      <td>d</td>\n",
       "      <td>2.0</td>\n",
       "      <td>NaN</td>\n",
       "      <td>1.0</td>\n",
       "      <td>f</td>\n",
       "      <td>8.0</td>\n",
       "    </tr>\n",
       "    <tr>\n",
       "      <th>20631</th>\n",
       "      <td>d</td>\n",
       "      <td>2.0</td>\n",
       "      <td>g</td>\n",
       "      <td>3.0</td>\n",
       "      <td>g</td>\n",
       "      <td>6.0</td>\n",
       "    </tr>\n",
       "    <tr>\n",
       "      <th>27228</th>\n",
       "      <td>c</td>\n",
       "      <td>1.0</td>\n",
       "      <td>NaN</td>\n",
       "      <td>3.0</td>\n",
       "      <td>f</td>\n",
       "      <td>5.0</td>\n",
       "    </tr>\n",
       "    <tr>\n",
       "      <th>8879</th>\n",
       "      <td>c</td>\n",
       "      <td>2.0</td>\n",
       "      <td>b</td>\n",
       "      <td>7.0</td>\n",
       "      <td>f</td>\n",
       "      <td>8.0</td>\n",
       "    </tr>\n",
       "    <tr>\n",
       "      <th>16826</th>\n",
       "      <td>NaN</td>\n",
       "      <td>1.0</td>\n",
       "      <td>NaN</td>\n",
       "      <td>5.0</td>\n",
       "      <td>h</td>\n",
       "      <td>3.0</td>\n",
       "    </tr>\n",
       "    <tr>\n",
       "      <th>...</th>\n",
       "      <td>...</td>\n",
       "      <td>...</td>\n",
       "      <td>...</td>\n",
       "      <td>...</td>\n",
       "      <td>...</td>\n",
       "      <td>...</td>\n",
       "    </tr>\n",
       "    <tr>\n",
       "      <th>21575</th>\n",
       "      <td>b</td>\n",
       "      <td>1.0</td>\n",
       "      <td>c</td>\n",
       "      <td>1.0</td>\n",
       "      <td>e</td>\n",
       "      <td>8.0</td>\n",
       "    </tr>\n",
       "    <tr>\n",
       "      <th>5390</th>\n",
       "      <td>c</td>\n",
       "      <td>1.0</td>\n",
       "      <td>h</td>\n",
       "      <td>3.0</td>\n",
       "      <td>e</td>\n",
       "      <td>1.0</td>\n",
       "    </tr>\n",
       "    <tr>\n",
       "      <th>860</th>\n",
       "      <td>c</td>\n",
       "      <td>1.0</td>\n",
       "      <td>NaN</td>\n",
       "      <td>7.0</td>\n",
       "      <td>b</td>\n",
       "      <td>8.0</td>\n",
       "    </tr>\n",
       "    <tr>\n",
       "      <th>15795</th>\n",
       "      <td>d</td>\n",
       "      <td>2.0</td>\n",
       "      <td>e</td>\n",
       "      <td>6.0</td>\n",
       "      <td>d</td>\n",
       "      <td>8.0</td>\n",
       "    </tr>\n",
       "    <tr>\n",
       "      <th>23654</th>\n",
       "      <td>c</td>\n",
       "      <td>1.0</td>\n",
       "      <td>h</td>\n",
       "      <td>8.0</td>\n",
       "      <td>d</td>\n",
       "      <td>7.0</td>\n",
       "    </tr>\n",
       "  </tbody>\n",
       "</table>\n",
       "<p>22444 rows × 6 columns</p>\n",
       "</div>"
      ],
      "text/plain": [
       "      white_king_col  white_king_row white_rook_col  white_rook_row  \\\n",
       "20482              d             2.0            NaN             1.0   \n",
       "20631              d             2.0              g             3.0   \n",
       "27228              c             1.0            NaN             3.0   \n",
       "8879               c             2.0              b             7.0   \n",
       "16826            NaN             1.0            NaN             5.0   \n",
       "...              ...             ...            ...             ...   \n",
       "21575              b             1.0              c             1.0   \n",
       "5390               c             1.0              h             3.0   \n",
       "860                c             1.0            NaN             7.0   \n",
       "15795              d             2.0              e             6.0   \n",
       "23654              c             1.0              h             8.0   \n",
       "\n",
       "      black_king_col  black_king_row  \n",
       "20482              f             8.0  \n",
       "20631              g             6.0  \n",
       "27228              f             5.0  \n",
       "8879               f             8.0  \n",
       "16826              h             3.0  \n",
       "...              ...             ...  \n",
       "21575              e             8.0  \n",
       "5390               e             1.0  \n",
       "860                b             8.0  \n",
       "15795              d             8.0  \n",
       "23654              d             7.0  \n",
       "\n",
       "[22444 rows x 6 columns]"
      ]
     },
     "execution_count": 48,
     "metadata": {},
     "output_type": "execute_result"
    }
   ],
   "source": [
    "df"
   ]
  },
  {
   "cell_type": "code",
   "execution_count": 49,
   "id": "1cebf93f-1b8c-4484-9cb4-07a8949fec36",
   "metadata": {},
   "outputs": [],
   "source": [
    "numerical_columns= []\n",
    "categorical_columns = [\"white_king_col\", \"white_king_row\", \"white_rook_col\", \"white_rook_row\" ,\"black_king_col\",\"black_king_row\"]"
   ]
  },
  {
   "cell_type": "code",
   "execution_count": 50,
   "id": "d59eca16-1ff8-4e3b-8706-548fa9030749",
   "metadata": {},
   "outputs": [],
   "source": [
    "        categorical_preprocessing = Pipeline(\n",
    "            [\n",
    "                ('mark_missing', SimpleImputer(strategy='most_frequent')),# If there is more than one such value, only the smallest is returned.\n",
    "                #('mark_missing', SimpleImputer(strategy='constant', fill_value='__NA__')),\n",
    "                #('one_hot_encode', OneHotEncoder(handle_unknown='ignore'))\n",
    "            ]\n",
    "        )\n",
    "\n",
    "        numerical_preprocessing = Pipeline(\n",
    "            [\n",
    "                ('mark_missing', SimpleImputer(strategy='mean')),\n",
    "                #('mark_missing', SimpleImputer(strategy='constant', fill_value=0)),\n",
    "                ('scaling',  StandardScaler())\n",
    "            ]\n",
    "        )\n",
    "        feature_transformation = ColumnTransformer(transformers=[\n",
    "                ('categorical_features', categorical_preprocessing, categorical_columns),\n",
    "                ('scaled_numeric', numerical_preprocessing, numerical_columns)\n",
    "            ]\n",
    "        ) "
   ]
  },
  {
   "cell_type": "code",
   "execution_count": 37,
   "id": "8de81b92-ed4e-4b38-a548-1a4705f28979",
   "metadata": {},
   "outputs": [],
   "source": [
    " pipeline = Pipeline(\n",
    "            [\n",
    "                ('features', feature_transformation),\n",
    "                ('learner', SGDClassifier(max_iter=1000, n_jobs=-1, random_state=5))#PD\n",
    "                #('learner', MLPClassifier(max_iter=3000, random_state=rng))\n",
    "                \n",
    "            ]\n",
    "        )"
   ]
  },
  {
   "cell_type": "code",
   "execution_count": 36,
   "id": "a8a67704-f3b9-4892-8b37-89aef6f3c262",
   "metadata": {},
   "outputs": [
    {
     "ename": "SyntaxError",
     "evalue": "invalid syntax (3589867455.py, line 1)",
     "output_type": "error",
     "traceback": [
      "\u001b[0;36m  Cell \u001b[0;32mIn[36], line 1\u001b[0;36m\u001b[0m\n\u001b[0;31m    pipeline.\u001b[0m\n\u001b[0m             ^\u001b[0m\n\u001b[0;31mSyntaxError\u001b[0m\u001b[0;31m:\u001b[0m invalid syntax\n"
     ]
    }
   ],
   "source": [
    "pipeline."
   ]
  },
  {
   "cell_type": "code",
   "execution_count": 51,
   "id": "f43bdd28-3691-43ef-b412-6bb98672ad88",
   "metadata": {},
   "outputs": [],
   "source": [
    "df2= feature_transformation.fit_transform(df.copy())"
   ]
  },
  {
   "cell_type": "code",
   "execution_count": 52,
   "id": "6c2cbd5f-5843-4b4c-a7c4-b6f833732254",
   "metadata": {},
   "outputs": [
    {
     "data": {
      "text/plain": [
       "array([['d', 2.0, 'g', 1.0, 'f', 8.0],\n",
       "       ['d', 2.0, 'g', 3.0, 'g', 6.0],\n",
       "       ['c', 1.0, 'g', 3.0, 'f', 5.0],\n",
       "       ...,\n",
       "       ['c', 1.0, 'g', 7.0, 'b', 8.0],\n",
       "       ['d', 2.0, 'e', 6.0, 'd', 8.0],\n",
       "       ['c', 1.0, 'h', 8.0, 'd', 7.0]], dtype=object)"
      ]
     },
     "execution_count": 52,
     "metadata": {},
     "output_type": "execute_result"
    }
   ],
   "source": [
    "df2"
   ]
  },
  {
   "cell_type": "code",
   "execution_count": null,
   "id": "31179666-62c8-4b18-8d0c-f9ceaff791b9",
   "metadata": {},
   "outputs": [],
   "source": []
  },
  {
   "cell_type": "code",
   "execution_count": null,
   "id": "ecb188d5-4510-49e9-9733-cddeff01e89e",
   "metadata": {},
   "outputs": [],
   "source": []
  }
 ],
 "metadata": {
  "kernelspec": {
   "display_name": "Python 3 (ipykernel)",
   "language": "python",
   "name": "python3"
  },
  "language_info": {
   "codemirror_mode": {
    "name": "ipython",
    "version": 3
   },
   "file_extension": ".py",
   "mimetype": "text/x-python",
   "name": "python",
   "nbconvert_exporter": "python",
   "pygments_lexer": "ipython3",
   "version": "3.8.19"
  }
 },
 "nbformat": 4,
 "nbformat_minor": 5
}
