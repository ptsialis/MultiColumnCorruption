{
 "cells": [
  {
   "cell_type": "markdown",
   "id": "accessory-identity",
   "metadata": {},
   "source": [
    "# Visualize Results: Downstream Performance - Regression Corrupted Experiments\n",
    "\n",
    "[Set Average Best Imputation Method Manually](#Set-Average-Best-Imputation-Method-Manually)\n",
    "\n",
    "This notebook should answer the questions: *Does imputation lead to better downstream performances?*\n",
    "\n",
    "Data needs to be preprocessed with other notebook, her we only import two csv files with raw data regarding the results of the experiment and information about the used datasets!\n"
   ]
  },
  {
   "cell_type": "code",
   "execution_count": 1,
   "id": "broad-cliff",
   "metadata": {},
   "outputs": [],
   "source": [
    "import numpy as np\n",
    "import matplotlib as mpl\n",
    "import matplotlib.pyplot as plt\n",
    "import os\n",
    "import pandas as pd\n",
    "import re\n",
    "import seaborn as sns\n",
    "from pandas.api.types import CategoricalDtype\n",
    "from pathlib import Path\n",
    "\n",
    "import plotly as py\n",
    "import plotly.express as px\n",
    "import plotly.graph_objects as go\n",
    "import xarray as xr\n",
    "\n",
    "\n",
    "%matplotlib inline\n",
    "\n",
    "%load_ext autoreload\n",
    "%autoreload 2"
   ]
  },
  {
   "cell_type": "markdown",
   "id": "intermediate-province",
   "metadata": {},
   "source": [
    "## Settings"
   ]
  },
  {
   "cell_type": "code",
   "execution_count": 2,
   "id": "31ecf520",
   "metadata": {},
   "outputs": [],
   "source": [
    "sns.set(style=\"whitegrid\")\n",
    "sns.set_context('paper', font_scale=1.5)\n",
    "mpl.rcParams['lines.linewidth'] = '2'"
   ]
  },
  {
   "cell_type": "code",
   "execution_count": 3,
   "id": "unlimited-petersburg",
   "metadata": {},
   "outputs": [],
   "source": [
    "CLF_METRIC = \"Classification Tasks\"\n",
    "REG_METRIC = \"Regression Tasks\"\n",
    "\n",
    "DOWNSTREAM_RESULT_TYPE = \"downstream_performance_mean\"\n",
    "IMPUTE_RESULT_TYPE = \"impute_performance_mean\"\n"
   ]
  },
  {
   "cell_type": "markdown",
   "id": "intensive-introduction",
   "metadata": {},
   "source": [
    "## Data Preparation"
   ]
  },
  {
   "cell_type": "code",
   "execution_count": 4,
   "id": "012aca62",
   "metadata": {},
   "outputs": [
    {
     "data": {
      "text/html": [
       "<div>\n",
       "<style scoped>\n",
       "    .dataframe tbody tr th:only-of-type {\n",
       "        vertical-align: middle;\n",
       "    }\n",
       "\n",
       "    .dataframe tbody tr th {\n",
       "        vertical-align: top;\n",
       "    }\n",
       "\n",
       "    .dataframe thead th {\n",
       "        text-align: right;\n",
       "    }\n",
       "</style>\n",
       "<table border=\"1\" class=\"dataframe\">\n",
       "  <thead>\n",
       "    <tr style=\"text-align: right;\">\n",
       "      <th></th>\n",
       "      <th>experiment</th>\n",
       "      <th>imputer</th>\n",
       "      <th>task</th>\n",
       "      <th>missing_type</th>\n",
       "      <th>missing_fraction</th>\n",
       "      <th>strategy</th>\n",
       "      <th>column</th>\n",
       "      <th>result_type</th>\n",
       "      <th>metric</th>\n",
       "      <th>train</th>\n",
       "      <th>test</th>\n",
       "      <th>baseline</th>\n",
       "      <th>corrupted</th>\n",
       "      <th>imputed</th>\n",
       "    </tr>\n",
       "  </thead>\n",
       "  <tbody>\n",
       "    <tr>\n",
       "      <th>0</th>\n",
       "      <td>experiment_multi_column_corrupted</td>\n",
       "      <td>KNNImputer</td>\n",
       "      <td>30</td>\n",
       "      <td>MNAR</td>\n",
       "      <td>0.50</td>\n",
       "      <td>single_all</td>\n",
       "      <td>eccen</td>\n",
       "      <td>impute_performance_std</td>\n",
       "      <td>MAE</td>\n",
       "      <td>10.103773</td>\n",
       "      <td>0.295436</td>\n",
       "      <td>NaN</td>\n",
       "      <td>NaN</td>\n",
       "      <td>NaN</td>\n",
       "    </tr>\n",
       "    <tr>\n",
       "      <th>1</th>\n",
       "      <td>experiment_multi_column_corrupted</td>\n",
       "      <td>KNNImputer</td>\n",
       "      <td>30</td>\n",
       "      <td>MNAR</td>\n",
       "      <td>0.50</td>\n",
       "      <td>single_all</td>\n",
       "      <td>eccen</td>\n",
       "      <td>impute_performance_std</td>\n",
       "      <td>MSE</td>\n",
       "      <td>223.302351</td>\n",
       "      <td>0.301545</td>\n",
       "      <td>NaN</td>\n",
       "      <td>NaN</td>\n",
       "      <td>NaN</td>\n",
       "    </tr>\n",
       "    <tr>\n",
       "      <th>2</th>\n",
       "      <td>experiment_multi_column_corrupted</td>\n",
       "      <td>KNNImputer</td>\n",
       "      <td>30</td>\n",
       "      <td>MNAR</td>\n",
       "      <td>0.50</td>\n",
       "      <td>single_all</td>\n",
       "      <td>eccen</td>\n",
       "      <td>impute_performance_std</td>\n",
       "      <td>RMSE</td>\n",
       "      <td>10.103773</td>\n",
       "      <td>0.295436</td>\n",
       "      <td>NaN</td>\n",
       "      <td>NaN</td>\n",
       "      <td>NaN</td>\n",
       "    </tr>\n",
       "    <tr>\n",
       "      <th>3</th>\n",
       "      <td>experiment_multi_column_corrupted</td>\n",
       "      <td>KNNImputer</td>\n",
       "      <td>30</td>\n",
       "      <td>MNAR</td>\n",
       "      <td>0.30</td>\n",
       "      <td>single_all</td>\n",
       "      <td>eccen</td>\n",
       "      <td>impute_performance_std</td>\n",
       "      <td>MAE</td>\n",
       "      <td>10.103773</td>\n",
       "      <td>0.295436</td>\n",
       "      <td>NaN</td>\n",
       "      <td>NaN</td>\n",
       "      <td>NaN</td>\n",
       "    </tr>\n",
       "    <tr>\n",
       "      <th>4</th>\n",
       "      <td>experiment_multi_column_corrupted</td>\n",
       "      <td>KNNImputer</td>\n",
       "      <td>30</td>\n",
       "      <td>MNAR</td>\n",
       "      <td>0.30</td>\n",
       "      <td>single_all</td>\n",
       "      <td>eccen</td>\n",
       "      <td>impute_performance_std</td>\n",
       "      <td>MSE</td>\n",
       "      <td>223.302351</td>\n",
       "      <td>0.301545</td>\n",
       "      <td>NaN</td>\n",
       "      <td>NaN</td>\n",
       "      <td>NaN</td>\n",
       "    </tr>\n",
       "    <tr>\n",
       "      <th>...</th>\n",
       "      <td>...</td>\n",
       "      <td>...</td>\n",
       "      <td>...</td>\n",
       "      <td>...</td>\n",
       "      <td>...</td>\n",
       "      <td>...</td>\n",
       "      <td>...</td>\n",
       "      <td>...</td>\n",
       "      <td>...</td>\n",
       "      <td>...</td>\n",
       "      <td>...</td>\n",
       "      <td>...</td>\n",
       "      <td>...</td>\n",
       "      <td>...</td>\n",
       "    </tr>\n",
       "    <tr>\n",
       "      <th>24787</th>\n",
       "      <td>experiment_multi_column_corrupted</td>\n",
       "      <td>VAEImputer</td>\n",
       "      <td>310</td>\n",
       "      <td>MCAR</td>\n",
       "      <td>0.01</td>\n",
       "      <td>single_all</td>\n",
       "      <td>attr2</td>\n",
       "      <td>downstream_performance_mean</td>\n",
       "      <td>F1_macro</td>\n",
       "      <td>NaN</td>\n",
       "      <td>NaN</td>\n",
       "      <td>0.774143</td>\n",
       "      <td>0.0</td>\n",
       "      <td>0.774143</td>\n",
       "    </tr>\n",
       "    <tr>\n",
       "      <th>24788</th>\n",
       "      <td>experiment_multi_column_corrupted</td>\n",
       "      <td>VAEImputer</td>\n",
       "      <td>310</td>\n",
       "      <td>MCAR</td>\n",
       "      <td>0.01</td>\n",
       "      <td>single_all</td>\n",
       "      <td>attr2</td>\n",
       "      <td>downstream_performance_mean</td>\n",
       "      <td>F1_weighted</td>\n",
       "      <td>NaN</td>\n",
       "      <td>NaN</td>\n",
       "      <td>0.982959</td>\n",
       "      <td>0.0</td>\n",
       "      <td>0.982959</td>\n",
       "    </tr>\n",
       "    <tr>\n",
       "      <th>24789</th>\n",
       "      <td>experiment_multi_column_corrupted</td>\n",
       "      <td>VAEImputer</td>\n",
       "      <td>310</td>\n",
       "      <td>MCAR</td>\n",
       "      <td>0.10</td>\n",
       "      <td>single_all</td>\n",
       "      <td>attr2</td>\n",
       "      <td>downstream_performance_mean</td>\n",
       "      <td>F1_micro</td>\n",
       "      <td>NaN</td>\n",
       "      <td>NaN</td>\n",
       "      <td>0.984801</td>\n",
       "      <td>0.0</td>\n",
       "      <td>0.985248</td>\n",
       "    </tr>\n",
       "    <tr>\n",
       "      <th>24790</th>\n",
       "      <td>experiment_multi_column_corrupted</td>\n",
       "      <td>VAEImputer</td>\n",
       "      <td>310</td>\n",
       "      <td>MCAR</td>\n",
       "      <td>0.10</td>\n",
       "      <td>single_all</td>\n",
       "      <td>attr2</td>\n",
       "      <td>downstream_performance_mean</td>\n",
       "      <td>F1_macro</td>\n",
       "      <td>NaN</td>\n",
       "      <td>NaN</td>\n",
       "      <td>0.760027</td>\n",
       "      <td>0.0</td>\n",
       "      <td>0.770133</td>\n",
       "    </tr>\n",
       "    <tr>\n",
       "      <th>24791</th>\n",
       "      <td>experiment_multi_column_corrupted</td>\n",
       "      <td>VAEImputer</td>\n",
       "      <td>310</td>\n",
       "      <td>MCAR</td>\n",
       "      <td>0.10</td>\n",
       "      <td>single_all</td>\n",
       "      <td>attr2</td>\n",
       "      <td>downstream_performance_mean</td>\n",
       "      <td>F1_weighted</td>\n",
       "      <td>NaN</td>\n",
       "      <td>NaN</td>\n",
       "      <td>0.981894</td>\n",
       "      <td>0.0</td>\n",
       "      <td>0.982561</td>\n",
       "    </tr>\n",
       "  </tbody>\n",
       "</table>\n",
       "<p>24792 rows × 14 columns</p>\n",
       "</div>"
      ],
      "text/plain": [
       "                              experiment     imputer  task missing_type  \\\n",
       "0      experiment_multi_column_corrupted  KNNImputer    30         MNAR   \n",
       "1      experiment_multi_column_corrupted  KNNImputer    30         MNAR   \n",
       "2      experiment_multi_column_corrupted  KNNImputer    30         MNAR   \n",
       "3      experiment_multi_column_corrupted  KNNImputer    30         MNAR   \n",
       "4      experiment_multi_column_corrupted  KNNImputer    30         MNAR   \n",
       "...                                  ...         ...   ...          ...   \n",
       "24787  experiment_multi_column_corrupted  VAEImputer   310         MCAR   \n",
       "24788  experiment_multi_column_corrupted  VAEImputer   310         MCAR   \n",
       "24789  experiment_multi_column_corrupted  VAEImputer   310         MCAR   \n",
       "24790  experiment_multi_column_corrupted  VAEImputer   310         MCAR   \n",
       "24791  experiment_multi_column_corrupted  VAEImputer   310         MCAR   \n",
       "\n",
       "       missing_fraction    strategy column                  result_type  \\\n",
       "0                  0.50  single_all  eccen       impute_performance_std   \n",
       "1                  0.50  single_all  eccen       impute_performance_std   \n",
       "2                  0.50  single_all  eccen       impute_performance_std   \n",
       "3                  0.30  single_all  eccen       impute_performance_std   \n",
       "4                  0.30  single_all  eccen       impute_performance_std   \n",
       "...                 ...         ...    ...                          ...   \n",
       "24787              0.01  single_all  attr2  downstream_performance_mean   \n",
       "24788              0.01  single_all  attr2  downstream_performance_mean   \n",
       "24789              0.10  single_all  attr2  downstream_performance_mean   \n",
       "24790              0.10  single_all  attr2  downstream_performance_mean   \n",
       "24791              0.10  single_all  attr2  downstream_performance_mean   \n",
       "\n",
       "            metric       train      test  baseline  corrupted   imputed  \n",
       "0              MAE   10.103773  0.295436       NaN        NaN       NaN  \n",
       "1              MSE  223.302351  0.301545       NaN        NaN       NaN  \n",
       "2             RMSE   10.103773  0.295436       NaN        NaN       NaN  \n",
       "3              MAE   10.103773  0.295436       NaN        NaN       NaN  \n",
       "4              MSE  223.302351  0.301545       NaN        NaN       NaN  \n",
       "...            ...         ...       ...       ...        ...       ...  \n",
       "24787     F1_macro         NaN       NaN  0.774143        0.0  0.774143  \n",
       "24788  F1_weighted         NaN       NaN  0.982959        0.0  0.982959  \n",
       "24789     F1_micro         NaN       NaN  0.984801        0.0  0.985248  \n",
       "24790     F1_macro         NaN       NaN  0.760027        0.0  0.770133  \n",
       "24791  F1_weighted         NaN       NaN  0.981894        0.0  0.982561  \n",
       "\n",
       "[24792 rows x 14 columns]"
      ]
     },
     "execution_count": 4,
     "metadata": {},
     "output_type": "execute_result"
    }
   ],
   "source": [
    "# import preprocessed data from experiments\n",
    "results = pd.read_csv('../multicolumn_corrupted.csv')\n",
    "results"
   ]
  },
  {
   "cell_type": "code",
   "execution_count": 5,
   "id": "severe-retreat",
   "metadata": {},
   "outputs": [
    {
     "name": "stderr",
     "output_type": "stream",
     "text": [
      "/tmp/ipykernel_2568289/2463847502.py:7: SettingWithCopyWarning: \n",
      "A value is trying to be set on a copy of a slice from a DataFrame\n",
      "\n",
      "See the caveats in the documentation: https://pandas.pydata.org/pandas-docs/stable/user_guide/indexing.html#returning-a-view-versus-a-copy\n",
      "  na_impute_results.drop([\"baseline\", \"corrupted\", \"imputed\"], axis=1, inplace=True)\n"
     ]
    },
    {
     "data": {
      "text/plain": [
       "(0, 11)"
      ]
     },
     "execution_count": 5,
     "metadata": {},
     "output_type": "execute_result"
    }
   ],
   "source": [
    "# Filtering the relevant data for downstream analysis\n",
    "\n",
    "na_impute_results = results[\n",
    "    (results[\"result_type\"] == IMPUTE_RESULT_TYPE) & \n",
    "    (results[\"metric\"].isin([\"F1_macro\", \"RMSE\"]))\n",
    "]\n",
    "na_impute_results.drop([\"baseline\", \"corrupted\", \"imputed\"], axis=1, inplace=True)\n",
    "na_impute_results = na_impute_results[na_impute_results.isna().any(axis=1)]\n",
    "na_impute_results.shape\n"
   ]
  },
  {
   "cell_type": "code",
   "execution_count": 6,
   "id": "static-treatment",
   "metadata": {},
   "outputs": [],
   "source": [
    "# check if strategy type is correct!\n",
    "STRATEGY_TYPE = \"single_all\"\n",
    "\n",
    "downstream_results = results[\n",
    "    (results[\"result_type\"] == DOWNSTREAM_RESULT_TYPE) & \n",
    "    (results[\"metric\"].isin([\"F1_macro\", \"RMSE\"]) &\n",
    "    (results[\"strategy\"] == STRATEGY_TYPE))\n",
    "]\n",
    "\n",
    "# remove experiments where imputation failed\n",
    "downstream_results = downstream_results.merge(\n",
    "    na_impute_results,\n",
    "    how = \"left\",\n",
    "    validate = \"one_to_one\",\n",
    "    indicator = True,\n",
    "    suffixes=(\"\", \"_imp\"),\n",
    "    on = [\"experiment\", \"imputer\", \"task\", \"missing_type\", \"missing_fraction\", \"strategy\", \"column\"]\n",
    ")\n",
    "downstream_results = downstream_results[downstream_results[\"_merge\"]==\"left_only\"]\n",
    "\n",
    "assert len(results[\"strategy\"].unique()) == 1\n",
    "downstream_results.drop([\"experiment\", \"strategy\", \"result_type_imp\", \"metric_imp\", \"train\", \"test\", \"train_imp\", \"test_imp\", \"_merge\"], axis=1, inplace=True)\n",
    "\n",
    "downstream_results = downstream_results.rename(\n",
    "    {\n",
    "        \"imputer\": \"Imputation_Method\",\n",
    "        \"task\": \"Task\",\n",
    "        \"missing_type\": \"Missing Type\",\n",
    "        \"missing_fraction\": \"Missing Fraction\",\n",
    "        \"column\": \"Column\",\n",
    "        \"baseline\": \"Baseline\",\n",
    "        \"imputed\": \"Imputed\",\n",
    "        \"corrupted\": \"Corrupted\"\n",
    "    },\n",
    "    axis = 1\n",
    ")"
   ]
  },
  {
   "cell_type": "code",
   "execution_count": 7,
   "id": "suitable-leonard",
   "metadata": {},
   "outputs": [
    {
     "data": {
      "text/html": [
       "<div>\n",
       "<style scoped>\n",
       "    .dataframe tbody tr th:only-of-type {\n",
       "        vertical-align: middle;\n",
       "    }\n",
       "\n",
       "    .dataframe tbody tr th {\n",
       "        vertical-align: top;\n",
       "    }\n",
       "\n",
       "    .dataframe thead th {\n",
       "        text-align: right;\n",
       "    }\n",
       "</style>\n",
       "<table border=\"1\" class=\"dataframe\">\n",
       "  <thead>\n",
       "    <tr style=\"text-align: right;\">\n",
       "      <th></th>\n",
       "      <th>Imputation_Method</th>\n",
       "      <th>Task</th>\n",
       "      <th>Missing Type</th>\n",
       "      <th>Missing Fraction</th>\n",
       "      <th>Column</th>\n",
       "      <th>result_type</th>\n",
       "      <th>metric</th>\n",
       "      <th>Baseline</th>\n",
       "      <th>Corrupted</th>\n",
       "      <th>Imputed</th>\n",
       "    </tr>\n",
       "  </thead>\n",
       "  <tbody>\n",
       "    <tr>\n",
       "      <th>0</th>\n",
       "      <td>KNN</td>\n",
       "      <td>30</td>\n",
       "      <td>MNAR</td>\n",
       "      <td>0.50</td>\n",
       "      <td>eccen</td>\n",
       "      <td>downstream_performance_mean</td>\n",
       "      <td>Classification Tasks</td>\n",
       "      <td>0.680862</td>\n",
       "      <td>0.0</td>\n",
       "      <td>0.680862</td>\n",
       "    </tr>\n",
       "    <tr>\n",
       "      <th>1</th>\n",
       "      <td>KNN</td>\n",
       "      <td>30</td>\n",
       "      <td>MNAR</td>\n",
       "      <td>0.30</td>\n",
       "      <td>eccen</td>\n",
       "      <td>downstream_performance_mean</td>\n",
       "      <td>Classification Tasks</td>\n",
       "      <td>0.680862</td>\n",
       "      <td>0.0</td>\n",
       "      <td>0.680862</td>\n",
       "    </tr>\n",
       "    <tr>\n",
       "      <th>2</th>\n",
       "      <td>KNN</td>\n",
       "      <td>30</td>\n",
       "      <td>MNAR</td>\n",
       "      <td>0.01</td>\n",
       "      <td>eccen</td>\n",
       "      <td>downstream_performance_mean</td>\n",
       "      <td>Classification Tasks</td>\n",
       "      <td>0.680862</td>\n",
       "      <td>0.0</td>\n",
       "      <td>0.680862</td>\n",
       "    </tr>\n",
       "    <tr>\n",
       "      <th>3</th>\n",
       "      <td>KNN</td>\n",
       "      <td>30</td>\n",
       "      <td>MNAR</td>\n",
       "      <td>0.10</td>\n",
       "      <td>eccen</td>\n",
       "      <td>downstream_performance_mean</td>\n",
       "      <td>Classification Tasks</td>\n",
       "      <td>0.680862</td>\n",
       "      <td>0.0</td>\n",
       "      <td>0.680862</td>\n",
       "    </tr>\n",
       "    <tr>\n",
       "      <th>4</th>\n",
       "      <td>KNN</td>\n",
       "      <td>30</td>\n",
       "      <td>MAR</td>\n",
       "      <td>0.50</td>\n",
       "      <td>eccen</td>\n",
       "      <td>downstream_performance_mean</td>\n",
       "      <td>Classification Tasks</td>\n",
       "      <td>0.680862</td>\n",
       "      <td>0.0</td>\n",
       "      <td>0.680862</td>\n",
       "    </tr>\n",
       "    <tr>\n",
       "      <th>...</th>\n",
       "      <td>...</td>\n",
       "      <td>...</td>\n",
       "      <td>...</td>\n",
       "      <td>...</td>\n",
       "      <td>...</td>\n",
       "      <td>...</td>\n",
       "      <td>...</td>\n",
       "      <td>...</td>\n",
       "      <td>...</td>\n",
       "      <td>...</td>\n",
       "    </tr>\n",
       "    <tr>\n",
       "      <th>2061</th>\n",
       "      <td>VAE</td>\n",
       "      <td>310</td>\n",
       "      <td>MAR</td>\n",
       "      <td>0.10</td>\n",
       "      <td>attr2</td>\n",
       "      <td>downstream_performance_mean</td>\n",
       "      <td>Classification Tasks</td>\n",
       "      <td>0.780147</td>\n",
       "      <td>0.0</td>\n",
       "      <td>0.780147</td>\n",
       "    </tr>\n",
       "    <tr>\n",
       "      <th>2062</th>\n",
       "      <td>VAE</td>\n",
       "      <td>310</td>\n",
       "      <td>MCAR</td>\n",
       "      <td>0.50</td>\n",
       "      <td>attr2</td>\n",
       "      <td>downstream_performance_mean</td>\n",
       "      <td>Classification Tasks</td>\n",
       "      <td>0.761074</td>\n",
       "      <td>0.0</td>\n",
       "      <td>0.744672</td>\n",
       "    </tr>\n",
       "    <tr>\n",
       "      <th>2063</th>\n",
       "      <td>VAE</td>\n",
       "      <td>310</td>\n",
       "      <td>MCAR</td>\n",
       "      <td>0.30</td>\n",
       "      <td>attr2</td>\n",
       "      <td>downstream_performance_mean</td>\n",
       "      <td>Classification Tasks</td>\n",
       "      <td>0.762688</td>\n",
       "      <td>0.0</td>\n",
       "      <td>0.770352</td>\n",
       "    </tr>\n",
       "    <tr>\n",
       "      <th>2064</th>\n",
       "      <td>VAE</td>\n",
       "      <td>310</td>\n",
       "      <td>MCAR</td>\n",
       "      <td>0.01</td>\n",
       "      <td>attr2</td>\n",
       "      <td>downstream_performance_mean</td>\n",
       "      <td>Classification Tasks</td>\n",
       "      <td>0.774143</td>\n",
       "      <td>0.0</td>\n",
       "      <td>0.774143</td>\n",
       "    </tr>\n",
       "    <tr>\n",
       "      <th>2065</th>\n",
       "      <td>VAE</td>\n",
       "      <td>310</td>\n",
       "      <td>MCAR</td>\n",
       "      <td>0.10</td>\n",
       "      <td>attr2</td>\n",
       "      <td>downstream_performance_mean</td>\n",
       "      <td>Classification Tasks</td>\n",
       "      <td>0.760027</td>\n",
       "      <td>0.0</td>\n",
       "      <td>0.770133</td>\n",
       "    </tr>\n",
       "  </tbody>\n",
       "</table>\n",
       "<p>2066 rows × 10 columns</p>\n",
       "</div>"
      ],
      "text/plain": [
       "     Imputation_Method  Task Missing Type  Missing Fraction Column  \\\n",
       "0                  KNN    30         MNAR              0.50  eccen   \n",
       "1                  KNN    30         MNAR              0.30  eccen   \n",
       "2                  KNN    30         MNAR              0.01  eccen   \n",
       "3                  KNN    30         MNAR              0.10  eccen   \n",
       "4                  KNN    30          MAR              0.50  eccen   \n",
       "...                ...   ...          ...               ...    ...   \n",
       "2061               VAE   310          MAR              0.10  attr2   \n",
       "2062               VAE   310         MCAR              0.50  attr2   \n",
       "2063               VAE   310         MCAR              0.30  attr2   \n",
       "2064               VAE   310         MCAR              0.01  attr2   \n",
       "2065               VAE   310         MCAR              0.10  attr2   \n",
       "\n",
       "                      result_type                metric  Baseline  Corrupted  \\\n",
       "0     downstream_performance_mean  Classification Tasks  0.680862        0.0   \n",
       "1     downstream_performance_mean  Classification Tasks  0.680862        0.0   \n",
       "2     downstream_performance_mean  Classification Tasks  0.680862        0.0   \n",
       "3     downstream_performance_mean  Classification Tasks  0.680862        0.0   \n",
       "4     downstream_performance_mean  Classification Tasks  0.680862        0.0   \n",
       "...                           ...                   ...       ...        ...   \n",
       "2061  downstream_performance_mean  Classification Tasks  0.780147        0.0   \n",
       "2062  downstream_performance_mean  Classification Tasks  0.761074        0.0   \n",
       "2063  downstream_performance_mean  Classification Tasks  0.762688        0.0   \n",
       "2064  downstream_performance_mean  Classification Tasks  0.774143        0.0   \n",
       "2065  downstream_performance_mean  Classification Tasks  0.760027        0.0   \n",
       "\n",
       "       Imputed  \n",
       "0     0.680862  \n",
       "1     0.680862  \n",
       "2     0.680862  \n",
       "3     0.680862  \n",
       "4     0.680862  \n",
       "...        ...  \n",
       "2061  0.780147  \n",
       "2062  0.744672  \n",
       "2063  0.770352  \n",
       "2064  0.774143  \n",
       "2065  0.770133  \n",
       "\n",
       "[2066 rows x 10 columns]"
      ]
     },
     "execution_count": 7,
     "metadata": {},
     "output_type": "execute_result"
    }
   ],
   "source": [
    "rename_imputer_dict = {\n",
    "    \"ModeImputer\": \"Mean/Mode\",\n",
    "    \"KNNImputer\": \"KNN\",\n",
    "    \"ForestImputer\": \"Random Forest\",\n",
    "    \"AutoKerasImputer\": \"Discriminative DL\",\n",
    "    \"VAEImputer\": \"VAE\",\n",
    "    \"GAINImputer\": \"GAIN\"    \n",
    "}\n",
    "\n",
    "rename_metric_dict = {\n",
    "    \"F1_macro\": CLF_METRIC,\n",
    "    \"RMSE\": REG_METRIC\n",
    "}\n",
    "\n",
    "downstream_results = downstream_results.replace(rename_imputer_dict)\n",
    "downstream_results = downstream_results.replace(rename_metric_dict)\n",
    "\n",
    "downstream_results"
   ]
  },
  {
   "cell_type": "markdown",
   "id": "satisfactory-acoustic",
   "metadata": {},
   "source": [
    "### Robustness: check which imputers yielded `NaN`values"
   ]
  },
  {
   "cell_type": "code",
   "execution_count": 8,
   "id": "choice-williams",
   "metadata": {},
   "outputs": [],
   "source": [
    "for col in downstream_results.columns:\n",
    "    na_sum = downstream_results[col].isna().sum()\n",
    "    if na_sum > 0:\n",
    "        print(\"-----\" * 10)        \n",
    "        print(col, na_sum)\n",
    "        print(\"-----\" * 10)        \n",
    "        na_idx = downstream_results[col].isna()\n",
    "        print(downstream_results.loc[na_idx, \"Imputation Method\"].value_counts(dropna=False))\n",
    "        print(\"\\n\")"
   ]
  },
  {
   "cell_type": "markdown",
   "id": "common-terry",
   "metadata": {},
   "source": [
    "## Adding Dataset Info, Sorting and Ranking"
   ]
  },
  {
   "cell_type": "code",
   "execution_count": 9,
   "id": "quick-punishment",
   "metadata": {},
   "outputs": [
    {
     "data": {
      "text/html": [
       "<div>\n",
       "<style scoped>\n",
       "    .dataframe tbody tr th:only-of-type {\n",
       "        vertical-align: middle;\n",
       "    }\n",
       "\n",
       "    .dataframe tbody tr th {\n",
       "        vertical-align: top;\n",
       "    }\n",
       "\n",
       "    .dataframe thead th {\n",
       "        text-align: right;\n",
       "    }\n",
       "</style>\n",
       "<table border=\"1\" class=\"dataframe\">\n",
       "  <thead>\n",
       "    <tr style=\"text-align: right;\">\n",
       "      <th></th>\n",
       "      <th>Imputation_Method</th>\n",
       "      <th>Task</th>\n",
       "      <th>Missing Type</th>\n",
       "      <th>Missing Fraction</th>\n",
       "      <th>Column</th>\n",
       "      <th>result_type</th>\n",
       "      <th>metric</th>\n",
       "      <th>Baseline</th>\n",
       "      <th>Corrupted</th>\n",
       "      <th>Imputed</th>\n",
       "    </tr>\n",
       "  </thead>\n",
       "  <tbody>\n",
       "    <tr>\n",
       "      <th>0</th>\n",
       "      <td>KNN</td>\n",
       "      <td>30</td>\n",
       "      <td>MNAR</td>\n",
       "      <td>0.50</td>\n",
       "      <td>eccen</td>\n",
       "      <td>downstream_performance_mean</td>\n",
       "      <td>Classification Tasks</td>\n",
       "      <td>0.680862</td>\n",
       "      <td>0.0</td>\n",
       "      <td>0.680862</td>\n",
       "    </tr>\n",
       "    <tr>\n",
       "      <th>1</th>\n",
       "      <td>KNN</td>\n",
       "      <td>30</td>\n",
       "      <td>MNAR</td>\n",
       "      <td>0.30</td>\n",
       "      <td>eccen</td>\n",
       "      <td>downstream_performance_mean</td>\n",
       "      <td>Classification Tasks</td>\n",
       "      <td>0.680862</td>\n",
       "      <td>0.0</td>\n",
       "      <td>0.680862</td>\n",
       "    </tr>\n",
       "    <tr>\n",
       "      <th>2</th>\n",
       "      <td>KNN</td>\n",
       "      <td>30</td>\n",
       "      <td>MNAR</td>\n",
       "      <td>0.01</td>\n",
       "      <td>eccen</td>\n",
       "      <td>downstream_performance_mean</td>\n",
       "      <td>Classification Tasks</td>\n",
       "      <td>0.680862</td>\n",
       "      <td>0.0</td>\n",
       "      <td>0.680862</td>\n",
       "    </tr>\n",
       "    <tr>\n",
       "      <th>3</th>\n",
       "      <td>KNN</td>\n",
       "      <td>30</td>\n",
       "      <td>MNAR</td>\n",
       "      <td>0.10</td>\n",
       "      <td>eccen</td>\n",
       "      <td>downstream_performance_mean</td>\n",
       "      <td>Classification Tasks</td>\n",
       "      <td>0.680862</td>\n",
       "      <td>0.0</td>\n",
       "      <td>0.680862</td>\n",
       "    </tr>\n",
       "    <tr>\n",
       "      <th>4</th>\n",
       "      <td>KNN</td>\n",
       "      <td>30</td>\n",
       "      <td>MAR</td>\n",
       "      <td>0.50</td>\n",
       "      <td>eccen</td>\n",
       "      <td>downstream_performance_mean</td>\n",
       "      <td>Classification Tasks</td>\n",
       "      <td>0.680862</td>\n",
       "      <td>0.0</td>\n",
       "      <td>0.680862</td>\n",
       "    </tr>\n",
       "  </tbody>\n",
       "</table>\n",
       "</div>"
      ],
      "text/plain": [
       "  Imputation_Method  Task Missing Type  Missing Fraction Column  \\\n",
       "0               KNN    30         MNAR              0.50  eccen   \n",
       "1               KNN    30         MNAR              0.30  eccen   \n",
       "2               KNN    30         MNAR              0.01  eccen   \n",
       "3               KNN    30         MNAR              0.10  eccen   \n",
       "4               KNN    30          MAR              0.50  eccen   \n",
       "\n",
       "                   result_type                metric  Baseline  Corrupted  \\\n",
       "0  downstream_performance_mean  Classification Tasks  0.680862        0.0   \n",
       "1  downstream_performance_mean  Classification Tasks  0.680862        0.0   \n",
       "2  downstream_performance_mean  Classification Tasks  0.680862        0.0   \n",
       "3  downstream_performance_mean  Classification Tasks  0.680862        0.0   \n",
       "4  downstream_performance_mean  Classification Tasks  0.680862        0.0   \n",
       "\n",
       "    Imputed  \n",
       "0  0.680862  \n",
       "1  0.680862  \n",
       "2  0.680862  \n",
       "3  0.680862  \n",
       "4  0.680862  "
      ]
     },
     "execution_count": 9,
     "metadata": {},
     "output_type": "execute_result"
    }
   ],
   "source": [
    "clf_row_idx = downstream_results[\"metric\"] == CLF_METRIC\n",
    "reg_row_idx = downstream_results[\"metric\"] == REG_METRIC\n",
    "\n",
    "# Sorting of data\n",
    "\n",
    "#adjust order to fit the processing time -> fastest first\n",
    "methods_order = CategoricalDtype(['Mean/Mode', 'KNN', 'Random Forest', 'VAE', 'GAIN', 'Discriminative DL'], ordered=True)\n",
    "downstream_results_full_sort = downstream_results.copy()\n",
    "\n",
    "downstream_results_full_sort['Imputation_Method'] = downstream_results_full_sort['Imputation_Method'].astype(methods_order)\n",
    "downstream_results_full_sort = downstream_results_full_sort.sort_values(['Task', 'Missing Type',\n",
    "                                                                         'Missing Fraction', 'Imputed','Imputation_Method'], ascending=[True, True, True, True, True])\n",
    "\n",
    "\n",
    "downstream_results.head()"
   ]
  },
  {
   "cell_type": "code",
   "execution_count": 10,
   "id": "487d6582",
   "metadata": {},
   "outputs": [],
   "source": [
    "#downstream_results_full_sort.info()"
   ]
  },
  {
   "cell_type": "code",
   "execution_count": 11,
   "id": "72092088",
   "metadata": {},
   "outputs": [
    {
     "data": {
      "text/html": [
       "<div>\n",
       "<style scoped>\n",
       "    .dataframe tbody tr th:only-of-type {\n",
       "        vertical-align: middle;\n",
       "    }\n",
       "\n",
       "    .dataframe tbody tr th {\n",
       "        vertical-align: top;\n",
       "    }\n",
       "\n",
       "    .dataframe thead th {\n",
       "        text-align: right;\n",
       "    }\n",
       "</style>\n",
       "<table border=\"1\" class=\"dataframe\">\n",
       "  <thead>\n",
       "    <tr style=\"text-align: right;\">\n",
       "      <th></th>\n",
       "      <th>Imputation_Method</th>\n",
       "      <th>Task</th>\n",
       "      <th>Missing Type</th>\n",
       "      <th>Missing Fraction</th>\n",
       "      <th>Column</th>\n",
       "      <th>result_type</th>\n",
       "      <th>metric</th>\n",
       "      <th>Baseline</th>\n",
       "      <th>Corrupted</th>\n",
       "      <th>Imputed</th>\n",
       "      <th>Unnamed: 0</th>\n",
       "      <th>name</th>\n",
       "      <th>MajorityClassSize</th>\n",
       "      <th>MinorityClassSize</th>\n",
       "      <th>NumberOfFeatures</th>\n",
       "      <th>NumberOfInstances</th>\n",
       "      <th>NumberOfNumericFeatures</th>\n",
       "      <th>NumberOfCategoricalFeatures</th>\n",
       "      <th>NumberOfClasses</th>\n",
       "    </tr>\n",
       "  </thead>\n",
       "  <tbody>\n",
       "    <tr>\n",
       "      <th>0</th>\n",
       "      <td>Mean/Mode</td>\n",
       "      <td>6</td>\n",
       "      <td>MAR</td>\n",
       "      <td>0.01</td>\n",
       "      <td>x-box</td>\n",
       "      <td>downstream_performance_mean</td>\n",
       "      <td>Classification Tasks</td>\n",
       "      <td>0.725728</td>\n",
       "      <td>0.0</td>\n",
       "      <td>0.725661</td>\n",
       "      <td>59</td>\n",
       "      <td>letter</td>\n",
       "      <td>813.0</td>\n",
       "      <td>734.0</td>\n",
       "      <td>17.0</td>\n",
       "      <td>20000.0</td>\n",
       "      <td>16.0</td>\n",
       "      <td>1.0</td>\n",
       "      <td>26.0</td>\n",
       "    </tr>\n",
       "    <tr>\n",
       "      <th>1</th>\n",
       "      <td>KNN</td>\n",
       "      <td>6</td>\n",
       "      <td>MAR</td>\n",
       "      <td>0.01</td>\n",
       "      <td>x-box</td>\n",
       "      <td>downstream_performance_mean</td>\n",
       "      <td>Classification Tasks</td>\n",
       "      <td>0.726188</td>\n",
       "      <td>0.0</td>\n",
       "      <td>0.726121</td>\n",
       "      <td>59</td>\n",
       "      <td>letter</td>\n",
       "      <td>813.0</td>\n",
       "      <td>734.0</td>\n",
       "      <td>17.0</td>\n",
       "      <td>20000.0</td>\n",
       "      <td>16.0</td>\n",
       "      <td>1.0</td>\n",
       "      <td>26.0</td>\n",
       "    </tr>\n",
       "    <tr>\n",
       "      <th>2</th>\n",
       "      <td>Mean/Mode</td>\n",
       "      <td>6</td>\n",
       "      <td>MAR</td>\n",
       "      <td>0.10</td>\n",
       "      <td>x-box</td>\n",
       "      <td>downstream_performance_mean</td>\n",
       "      <td>Classification Tasks</td>\n",
       "      <td>0.725728</td>\n",
       "      <td>0.0</td>\n",
       "      <td>0.725661</td>\n",
       "      <td>59</td>\n",
       "      <td>letter</td>\n",
       "      <td>813.0</td>\n",
       "      <td>734.0</td>\n",
       "      <td>17.0</td>\n",
       "      <td>20000.0</td>\n",
       "      <td>16.0</td>\n",
       "      <td>1.0</td>\n",
       "      <td>26.0</td>\n",
       "    </tr>\n",
       "    <tr>\n",
       "      <th>3</th>\n",
       "      <td>KNN</td>\n",
       "      <td>6</td>\n",
       "      <td>MAR</td>\n",
       "      <td>0.10</td>\n",
       "      <td>x-box</td>\n",
       "      <td>downstream_performance_mean</td>\n",
       "      <td>Classification Tasks</td>\n",
       "      <td>0.726188</td>\n",
       "      <td>0.0</td>\n",
       "      <td>0.726121</td>\n",
       "      <td>59</td>\n",
       "      <td>letter</td>\n",
       "      <td>813.0</td>\n",
       "      <td>734.0</td>\n",
       "      <td>17.0</td>\n",
       "      <td>20000.0</td>\n",
       "      <td>16.0</td>\n",
       "      <td>1.0</td>\n",
       "      <td>26.0</td>\n",
       "    </tr>\n",
       "    <tr>\n",
       "      <th>4</th>\n",
       "      <td>Mean/Mode</td>\n",
       "      <td>6</td>\n",
       "      <td>MAR</td>\n",
       "      <td>0.30</td>\n",
       "      <td>x-box</td>\n",
       "      <td>downstream_performance_mean</td>\n",
       "      <td>Classification Tasks</td>\n",
       "      <td>0.725728</td>\n",
       "      <td>0.0</td>\n",
       "      <td>0.725661</td>\n",
       "      <td>59</td>\n",
       "      <td>letter</td>\n",
       "      <td>813.0</td>\n",
       "      <td>734.0</td>\n",
       "      <td>17.0</td>\n",
       "      <td>20000.0</td>\n",
       "      <td>16.0</td>\n",
       "      <td>1.0</td>\n",
       "      <td>26.0</td>\n",
       "    </tr>\n",
       "  </tbody>\n",
       "</table>\n",
       "</div>"
      ],
      "text/plain": [
       "  Imputation_Method  Task Missing Type  Missing Fraction Column  \\\n",
       "0         Mean/Mode     6          MAR              0.01  x-box   \n",
       "1               KNN     6          MAR              0.01  x-box   \n",
       "2         Mean/Mode     6          MAR              0.10  x-box   \n",
       "3               KNN     6          MAR              0.10  x-box   \n",
       "4         Mean/Mode     6          MAR              0.30  x-box   \n",
       "\n",
       "                   result_type                metric  Baseline  Corrupted  \\\n",
       "0  downstream_performance_mean  Classification Tasks  0.725728        0.0   \n",
       "1  downstream_performance_mean  Classification Tasks  0.726188        0.0   \n",
       "2  downstream_performance_mean  Classification Tasks  0.725728        0.0   \n",
       "3  downstream_performance_mean  Classification Tasks  0.726188        0.0   \n",
       "4  downstream_performance_mean  Classification Tasks  0.725728        0.0   \n",
       "\n",
       "    Imputed  Unnamed: 0    name  MajorityClassSize  MinorityClassSize  \\\n",
       "0  0.725661          59  letter              813.0              734.0   \n",
       "1  0.726121          59  letter              813.0              734.0   \n",
       "2  0.725661          59  letter              813.0              734.0   \n",
       "3  0.726121          59  letter              813.0              734.0   \n",
       "4  0.725661          59  letter              813.0              734.0   \n",
       "\n",
       "   NumberOfFeatures  NumberOfInstances  NumberOfNumericFeatures  \\\n",
       "0              17.0            20000.0                     16.0   \n",
       "1              17.0            20000.0                     16.0   \n",
       "2              17.0            20000.0                     16.0   \n",
       "3              17.0            20000.0                     16.0   \n",
       "4              17.0            20000.0                     16.0   \n",
       "\n",
       "   NumberOfCategoricalFeatures  NumberOfClasses  \n",
       "0                          1.0             26.0  \n",
       "1                          1.0             26.0  \n",
       "2                          1.0             26.0  \n",
       "3                          1.0             26.0  \n",
       "4                          1.0             26.0  "
      ]
     },
     "execution_count": 11,
     "metadata": {},
     "output_type": "execute_result"
    }
   ],
   "source": [
    "# add dataset information from other csv file\n",
    "dataset_info = pd.read_csv('../../datasets_information_overview.csv')\n",
    "dataset_info = dataset_info.rename(columns={\"did\": \"Task\"})\n",
    "\n",
    "\n",
    "downstream_results_full_sort = pd.merge(downstream_results_full_sort, dataset_info, on='Task')\n",
    "downstream_results_full_sort.head()"
   ]
  },
  {
   "cell_type": "code",
   "execution_count": 12,
   "id": "d555e125",
   "metadata": {
    "scrolled": true
   },
   "outputs": [
    {
     "name": "stderr",
     "output_type": "stream",
     "text": [
      "/tmp/ipykernel_2568289/1906142079.py:7: FutureWarning: Dropping invalid columns in DataFrameGroupBy.rank is deprecated. In a future version, a TypeError will be raised. Before calling .rank, select only columns which should be valid for the function.\n",
      "  downstream_results_rank[\"Downstream Performance Rank\"] = downstream_results_rank.groupby(EXPERIMENTAL_CONDITIONS).rank(ascending=True, na_option=\"bottom\", method=\"first\")[\"Imputed\"]\n"
     ]
    },
    {
     "data": {
      "text/html": [
       "<div>\n",
       "<style scoped>\n",
       "    .dataframe tbody tr th:only-of-type {\n",
       "        vertical-align: middle;\n",
       "    }\n",
       "\n",
       "    .dataframe tbody tr th {\n",
       "        vertical-align: top;\n",
       "    }\n",
       "\n",
       "    .dataframe thead th {\n",
       "        text-align: right;\n",
       "    }\n",
       "</style>\n",
       "<table border=\"1\" class=\"dataframe\">\n",
       "  <thead>\n",
       "    <tr style=\"text-align: right;\">\n",
       "      <th></th>\n",
       "      <th>Imputation_Method</th>\n",
       "      <th>Task</th>\n",
       "      <th>Missing Type</th>\n",
       "      <th>Missing Fraction</th>\n",
       "      <th>Column</th>\n",
       "      <th>result_type</th>\n",
       "      <th>metric</th>\n",
       "      <th>Baseline</th>\n",
       "      <th>Corrupted</th>\n",
       "      <th>Imputed</th>\n",
       "      <th>Unnamed: 0</th>\n",
       "      <th>name</th>\n",
       "      <th>MajorityClassSize</th>\n",
       "      <th>MinorityClassSize</th>\n",
       "      <th>NumberOfFeatures</th>\n",
       "      <th>NumberOfInstances</th>\n",
       "      <th>NumberOfNumericFeatures</th>\n",
       "      <th>NumberOfCategoricalFeatures</th>\n",
       "      <th>NumberOfClasses</th>\n",
       "      <th>Downstream Performance Rank</th>\n",
       "    </tr>\n",
       "  </thead>\n",
       "  <tbody>\n",
       "    <tr>\n",
       "      <th>0</th>\n",
       "      <td>Mean/Mode</td>\n",
       "      <td>6</td>\n",
       "      <td>MAR</td>\n",
       "      <td>0.01</td>\n",
       "      <td>x-box</td>\n",
       "      <td>downstream_performance_mean</td>\n",
       "      <td>Classification Tasks</td>\n",
       "      <td>0.725728</td>\n",
       "      <td>0.0</td>\n",
       "      <td>0.725661</td>\n",
       "      <td>59</td>\n",
       "      <td>letter</td>\n",
       "      <td>813.0</td>\n",
       "      <td>734.0</td>\n",
       "      <td>17.0</td>\n",
       "      <td>20000.0</td>\n",
       "      <td>16.0</td>\n",
       "      <td>1.0</td>\n",
       "      <td>26.0</td>\n",
       "      <td>1.0</td>\n",
       "    </tr>\n",
       "    <tr>\n",
       "      <th>1</th>\n",
       "      <td>KNN</td>\n",
       "      <td>6</td>\n",
       "      <td>MAR</td>\n",
       "      <td>0.01</td>\n",
       "      <td>x-box</td>\n",
       "      <td>downstream_performance_mean</td>\n",
       "      <td>Classification Tasks</td>\n",
       "      <td>0.726188</td>\n",
       "      <td>0.0</td>\n",
       "      <td>0.726121</td>\n",
       "      <td>59</td>\n",
       "      <td>letter</td>\n",
       "      <td>813.0</td>\n",
       "      <td>734.0</td>\n",
       "      <td>17.0</td>\n",
       "      <td>20000.0</td>\n",
       "      <td>16.0</td>\n",
       "      <td>1.0</td>\n",
       "      <td>26.0</td>\n",
       "      <td>2.0</td>\n",
       "    </tr>\n",
       "    <tr>\n",
       "      <th>2</th>\n",
       "      <td>Mean/Mode</td>\n",
       "      <td>6</td>\n",
       "      <td>MAR</td>\n",
       "      <td>0.10</td>\n",
       "      <td>x-box</td>\n",
       "      <td>downstream_performance_mean</td>\n",
       "      <td>Classification Tasks</td>\n",
       "      <td>0.725728</td>\n",
       "      <td>0.0</td>\n",
       "      <td>0.725661</td>\n",
       "      <td>59</td>\n",
       "      <td>letter</td>\n",
       "      <td>813.0</td>\n",
       "      <td>734.0</td>\n",
       "      <td>17.0</td>\n",
       "      <td>20000.0</td>\n",
       "      <td>16.0</td>\n",
       "      <td>1.0</td>\n",
       "      <td>26.0</td>\n",
       "      <td>1.0</td>\n",
       "    </tr>\n",
       "    <tr>\n",
       "      <th>3</th>\n",
       "      <td>KNN</td>\n",
       "      <td>6</td>\n",
       "      <td>MAR</td>\n",
       "      <td>0.10</td>\n",
       "      <td>x-box</td>\n",
       "      <td>downstream_performance_mean</td>\n",
       "      <td>Classification Tasks</td>\n",
       "      <td>0.726188</td>\n",
       "      <td>0.0</td>\n",
       "      <td>0.726121</td>\n",
       "      <td>59</td>\n",
       "      <td>letter</td>\n",
       "      <td>813.0</td>\n",
       "      <td>734.0</td>\n",
       "      <td>17.0</td>\n",
       "      <td>20000.0</td>\n",
       "      <td>16.0</td>\n",
       "      <td>1.0</td>\n",
       "      <td>26.0</td>\n",
       "      <td>2.0</td>\n",
       "    </tr>\n",
       "    <tr>\n",
       "      <th>4</th>\n",
       "      <td>Mean/Mode</td>\n",
       "      <td>6</td>\n",
       "      <td>MAR</td>\n",
       "      <td>0.30</td>\n",
       "      <td>x-box</td>\n",
       "      <td>downstream_performance_mean</td>\n",
       "      <td>Classification Tasks</td>\n",
       "      <td>0.725728</td>\n",
       "      <td>0.0</td>\n",
       "      <td>0.725661</td>\n",
       "      <td>59</td>\n",
       "      <td>letter</td>\n",
       "      <td>813.0</td>\n",
       "      <td>734.0</td>\n",
       "      <td>17.0</td>\n",
       "      <td>20000.0</td>\n",
       "      <td>16.0</td>\n",
       "      <td>1.0</td>\n",
       "      <td>26.0</td>\n",
       "      <td>1.0</td>\n",
       "    </tr>\n",
       "  </tbody>\n",
       "</table>\n",
       "</div>"
      ],
      "text/plain": [
       "  Imputation_Method  Task Missing Type  Missing Fraction Column  \\\n",
       "0         Mean/Mode     6          MAR              0.01  x-box   \n",
       "1               KNN     6          MAR              0.01  x-box   \n",
       "2         Mean/Mode     6          MAR              0.10  x-box   \n",
       "3               KNN     6          MAR              0.10  x-box   \n",
       "4         Mean/Mode     6          MAR              0.30  x-box   \n",
       "\n",
       "                   result_type                metric  Baseline  Corrupted  \\\n",
       "0  downstream_performance_mean  Classification Tasks  0.725728        0.0   \n",
       "1  downstream_performance_mean  Classification Tasks  0.726188        0.0   \n",
       "2  downstream_performance_mean  Classification Tasks  0.725728        0.0   \n",
       "3  downstream_performance_mean  Classification Tasks  0.726188        0.0   \n",
       "4  downstream_performance_mean  Classification Tasks  0.725728        0.0   \n",
       "\n",
       "    Imputed  Unnamed: 0    name  MajorityClassSize  MinorityClassSize  \\\n",
       "0  0.725661          59  letter              813.0              734.0   \n",
       "1  0.726121          59  letter              813.0              734.0   \n",
       "2  0.725661          59  letter              813.0              734.0   \n",
       "3  0.726121          59  letter              813.0              734.0   \n",
       "4  0.725661          59  letter              813.0              734.0   \n",
       "\n",
       "   NumberOfFeatures  NumberOfInstances  NumberOfNumericFeatures  \\\n",
       "0              17.0            20000.0                     16.0   \n",
       "1              17.0            20000.0                     16.0   \n",
       "2              17.0            20000.0                     16.0   \n",
       "3              17.0            20000.0                     16.0   \n",
       "4              17.0            20000.0                     16.0   \n",
       "\n",
       "   NumberOfCategoricalFeatures  NumberOfClasses  Downstream Performance Rank  \n",
       "0                          1.0             26.0                          1.0  \n",
       "1                          1.0             26.0                          2.0  \n",
       "2                          1.0             26.0                          1.0  \n",
       "3                          1.0             26.0                          2.0  \n",
       "4                          1.0             26.0                          1.0  "
      ]
     },
     "execution_count": 12,
     "metadata": {},
     "output_type": "execute_result"
    }
   ],
   "source": [
    "# Ranking of downstream performance per data constellation for every imputation method\n",
    "\n",
    "EXPERIMENTAL_CONDITIONS = [\"Task\", \"Missing Type\", \"Missing Fraction\", \"Column\", \"result_type\"]\n",
    "\n",
    "downstream_results_rank = downstream_results_full_sort.copy()\n",
    "\n",
    "downstream_results_rank[\"Downstream Performance Rank\"] = downstream_results_rank.groupby(EXPERIMENTAL_CONDITIONS).rank(ascending=True, na_option=\"bottom\", method=\"first\")[\"Imputed\"]\n",
    "# create csv for detailled checks\n",
    "downstream_results_rank.to_csv('downstream_results_complete_overview.csv')\n",
    "downstream_results_rank.head()\n"
   ]
  },
  {
   "cell_type": "code",
   "execution_count": 13,
   "id": "531ad69f",
   "metadata": {},
   "outputs": [],
   "source": [
    "# Adjust column type for Imputation_Method\n",
    "downstream_results_rank['Imputation_Method'] = downstream_results_rank['Imputation_Method'].astype('object')\n",
    "\n",
    "#downstream_results_rank.info()"
   ]
  },
  {
   "cell_type": "code",
   "execution_count": 14,
   "id": "458871dc",
   "metadata": {
    "scrolled": true
   },
   "outputs": [
    {
     "data": {
      "text/html": [
       "<div>\n",
       "<style scoped>\n",
       "    .dataframe tbody tr th:only-of-type {\n",
       "        vertical-align: middle;\n",
       "    }\n",
       "\n",
       "    .dataframe tbody tr th {\n",
       "        vertical-align: top;\n",
       "    }\n",
       "\n",
       "    .dataframe thead th {\n",
       "        text-align: right;\n",
       "    }\n",
       "</style>\n",
       "<table border=\"1\" class=\"dataframe\">\n",
       "  <thead>\n",
       "    <tr style=\"text-align: right;\">\n",
       "      <th></th>\n",
       "      <th>Imputation_Method</th>\n",
       "      <th>Task</th>\n",
       "      <th>Missing Type</th>\n",
       "      <th>Missing Fraction</th>\n",
       "      <th>Column</th>\n",
       "      <th>result_type</th>\n",
       "      <th>metric</th>\n",
       "      <th>Baseline</th>\n",
       "      <th>Corrupted</th>\n",
       "      <th>Imputed</th>\n",
       "      <th>...</th>\n",
       "      <th>name</th>\n",
       "      <th>MajorityClassSize</th>\n",
       "      <th>MinorityClassSize</th>\n",
       "      <th>NumberOfFeatures</th>\n",
       "      <th>NumberOfInstances</th>\n",
       "      <th>NumberOfNumericFeatures</th>\n",
       "      <th>NumberOfCategoricalFeatures</th>\n",
       "      <th>NumberOfClasses</th>\n",
       "      <th>Downstream Performance Rank</th>\n",
       "      <th>Data_Constellation</th>\n",
       "    </tr>\n",
       "  </thead>\n",
       "  <tbody>\n",
       "    <tr>\n",
       "      <th>0</th>\n",
       "      <td>Mean/Mode</td>\n",
       "      <td>6</td>\n",
       "      <td>MAR</td>\n",
       "      <td>0.01</td>\n",
       "      <td>x-box</td>\n",
       "      <td>downstream_performance_mean</td>\n",
       "      <td>Classification Tasks</td>\n",
       "      <td>0.725728</td>\n",
       "      <td>0.0</td>\n",
       "      <td>0.725661</td>\n",
       "      <td>...</td>\n",
       "      <td>letter</td>\n",
       "      <td>813.0</td>\n",
       "      <td>734.0</td>\n",
       "      <td>17.0</td>\n",
       "      <td>20000.0</td>\n",
       "      <td>16.0</td>\n",
       "      <td>1.0</td>\n",
       "      <td>26.0</td>\n",
       "      <td>1.0</td>\n",
       "      <td>MAR - 0.01</td>\n",
       "    </tr>\n",
       "    <tr>\n",
       "      <th>1</th>\n",
       "      <td>KNN</td>\n",
       "      <td>6</td>\n",
       "      <td>MAR</td>\n",
       "      <td>0.01</td>\n",
       "      <td>x-box</td>\n",
       "      <td>downstream_performance_mean</td>\n",
       "      <td>Classification Tasks</td>\n",
       "      <td>0.726188</td>\n",
       "      <td>0.0</td>\n",
       "      <td>0.726121</td>\n",
       "      <td>...</td>\n",
       "      <td>letter</td>\n",
       "      <td>813.0</td>\n",
       "      <td>734.0</td>\n",
       "      <td>17.0</td>\n",
       "      <td>20000.0</td>\n",
       "      <td>16.0</td>\n",
       "      <td>1.0</td>\n",
       "      <td>26.0</td>\n",
       "      <td>2.0</td>\n",
       "      <td>MAR - 0.01</td>\n",
       "    </tr>\n",
       "    <tr>\n",
       "      <th>2</th>\n",
       "      <td>Mean/Mode</td>\n",
       "      <td>6</td>\n",
       "      <td>MAR</td>\n",
       "      <td>0.1</td>\n",
       "      <td>x-box</td>\n",
       "      <td>downstream_performance_mean</td>\n",
       "      <td>Classification Tasks</td>\n",
       "      <td>0.725728</td>\n",
       "      <td>0.0</td>\n",
       "      <td>0.725661</td>\n",
       "      <td>...</td>\n",
       "      <td>letter</td>\n",
       "      <td>813.0</td>\n",
       "      <td>734.0</td>\n",
       "      <td>17.0</td>\n",
       "      <td>20000.0</td>\n",
       "      <td>16.0</td>\n",
       "      <td>1.0</td>\n",
       "      <td>26.0</td>\n",
       "      <td>1.0</td>\n",
       "      <td>MAR - 0.1</td>\n",
       "    </tr>\n",
       "    <tr>\n",
       "      <th>3</th>\n",
       "      <td>KNN</td>\n",
       "      <td>6</td>\n",
       "      <td>MAR</td>\n",
       "      <td>0.1</td>\n",
       "      <td>x-box</td>\n",
       "      <td>downstream_performance_mean</td>\n",
       "      <td>Classification Tasks</td>\n",
       "      <td>0.726188</td>\n",
       "      <td>0.0</td>\n",
       "      <td>0.726121</td>\n",
       "      <td>...</td>\n",
       "      <td>letter</td>\n",
       "      <td>813.0</td>\n",
       "      <td>734.0</td>\n",
       "      <td>17.0</td>\n",
       "      <td>20000.0</td>\n",
       "      <td>16.0</td>\n",
       "      <td>1.0</td>\n",
       "      <td>26.0</td>\n",
       "      <td>2.0</td>\n",
       "      <td>MAR - 0.1</td>\n",
       "    </tr>\n",
       "    <tr>\n",
       "      <th>4</th>\n",
       "      <td>Mean/Mode</td>\n",
       "      <td>6</td>\n",
       "      <td>MAR</td>\n",
       "      <td>0.3</td>\n",
       "      <td>x-box</td>\n",
       "      <td>downstream_performance_mean</td>\n",
       "      <td>Classification Tasks</td>\n",
       "      <td>0.725728</td>\n",
       "      <td>0.0</td>\n",
       "      <td>0.725661</td>\n",
       "      <td>...</td>\n",
       "      <td>letter</td>\n",
       "      <td>813.0</td>\n",
       "      <td>734.0</td>\n",
       "      <td>17.0</td>\n",
       "      <td>20000.0</td>\n",
       "      <td>16.0</td>\n",
       "      <td>1.0</td>\n",
       "      <td>26.0</td>\n",
       "      <td>1.0</td>\n",
       "      <td>MAR - 0.3</td>\n",
       "    </tr>\n",
       "  </tbody>\n",
       "</table>\n",
       "<p>5 rows × 21 columns</p>\n",
       "</div>"
      ],
      "text/plain": [
       "  Imputation_Method  Task Missing Type Missing Fraction Column  \\\n",
       "0         Mean/Mode     6          MAR             0.01  x-box   \n",
       "1               KNN     6          MAR             0.01  x-box   \n",
       "2         Mean/Mode     6          MAR              0.1  x-box   \n",
       "3               KNN     6          MAR              0.1  x-box   \n",
       "4         Mean/Mode     6          MAR              0.3  x-box   \n",
       "\n",
       "                   result_type                metric  Baseline  Corrupted  \\\n",
       "0  downstream_performance_mean  Classification Tasks  0.725728        0.0   \n",
       "1  downstream_performance_mean  Classification Tasks  0.726188        0.0   \n",
       "2  downstream_performance_mean  Classification Tasks  0.725728        0.0   \n",
       "3  downstream_performance_mean  Classification Tasks  0.726188        0.0   \n",
       "4  downstream_performance_mean  Classification Tasks  0.725728        0.0   \n",
       "\n",
       "    Imputed  ...    name MajorityClassSize  MinorityClassSize  \\\n",
       "0  0.725661  ...  letter             813.0              734.0   \n",
       "1  0.726121  ...  letter             813.0              734.0   \n",
       "2  0.725661  ...  letter             813.0              734.0   \n",
       "3  0.726121  ...  letter             813.0              734.0   \n",
       "4  0.725661  ...  letter             813.0              734.0   \n",
       "\n",
       "   NumberOfFeatures  NumberOfInstances  NumberOfNumericFeatures  \\\n",
       "0              17.0            20000.0                     16.0   \n",
       "1              17.0            20000.0                     16.0   \n",
       "2              17.0            20000.0                     16.0   \n",
       "3              17.0            20000.0                     16.0   \n",
       "4              17.0            20000.0                     16.0   \n",
       "\n",
       "   NumberOfCategoricalFeatures  NumberOfClasses  Downstream Performance Rank  \\\n",
       "0                          1.0             26.0                          1.0   \n",
       "1                          1.0             26.0                          2.0   \n",
       "2                          1.0             26.0                          1.0   \n",
       "3                          1.0             26.0                          2.0   \n",
       "4                          1.0             26.0                          1.0   \n",
       "\n",
       "   Data_Constellation  \n",
       "0          MAR - 0.01  \n",
       "1          MAR - 0.01  \n",
       "2           MAR - 0.1  \n",
       "3           MAR - 0.1  \n",
       "4           MAR - 0.3  \n",
       "\n",
       "[5 rows x 21 columns]"
      ]
     },
     "execution_count": 14,
     "metadata": {},
     "output_type": "execute_result"
    }
   ],
   "source": [
    "# Merge the two columns \"Missing Type\" and \"Missing Fraction\"\n",
    "\n",
    "downstream_results_rank['Missing Type'] = downstream_results_rank['Missing Type'].astype(str)\n",
    "downstream_results_rank['Missing Fraction'] = downstream_results_rank['Missing Fraction'].astype(str)\n",
    "#datatype_new = downstream_results_rank.dtypes\n",
    "\n",
    "downstream_results_rank['Data_Constellation'] = downstream_results_rank['Missing Type'] + ' - ' + downstream_results_rank['Missing Fraction']\n",
    "#downstream_results_rank.to_csv('downstream_results_rank_temp.csv')\n",
    "downstream_results_rank_heatmap2 = downstream_results_rank.copy()\n",
    "downstream_results_rank.head()\n"
   ]
  },
  {
   "cell_type": "markdown",
   "id": "e4901660",
   "metadata": {},
   "source": [
    "## Analyzing Performance based on Rank per Data Constellation"
   ]
  },
  {
   "cell_type": "code",
   "execution_count": 15,
   "id": "20f06707",
   "metadata": {
    "scrolled": false
   },
   "outputs": [
    {
     "name": "stdout",
     "output_type": "stream",
     "text": [
      "12 Data Constellations\n",
      "_____________________\n",
      "1.0    804\n",
      "2.0    804\n",
      "3.0    252\n",
      "4.0    206\n",
      "Name: Downstream Performance Rank, dtype: int64\n",
      "_____________________\n",
      "_____________________\n",
      "Mean/Mode        462\n",
      "KNN              281\n",
      "VAE               43\n",
      "Random Forest     18\n",
      "Name: Imputation_Method, dtype: int64\n",
      "_____________________\n",
      "252 Amount of results available\n",
      "1.0     18\n",
      "2.0     24\n",
      "3.0    142\n",
      "4.0     68\n",
      "Name: Downstream Performance Rank, dtype: int64\n",
      "Average Rank for Random Forest is 3.0317460317460316\n",
      "804 Amount of results available\n",
      "1.0    281\n",
      "2.0    446\n",
      "3.0     65\n",
      "4.0     12\n",
      "Name: Downstream Performance Rank, dtype: int64\n",
      "Average Rank for KNN is 1.7611940298507462\n",
      "804 Amount of results available\n",
      "1.0    462\n",
      "2.0    300\n",
      "3.0     35\n",
      "4.0      7\n",
      "Name: Downstream Performance Rank, dtype: int64\n",
      "Average Rank for Mean/Mode is 1.486318407960199\n",
      "206 Amount of results available\n",
      "1.0     43\n",
      "2.0     34\n",
      "3.0     10\n",
      "4.0    119\n",
      "Name: Downstream Performance Rank, dtype: int64\n",
      "Average Rank for VAE is 2.995145631067961\n",
      "0 Amount of results available\n",
      "Series([], Name: Downstream Performance Rank, dtype: int64)\n",
      "Average Rank for GAIN is nan\n",
      "0 Amount of results available\n",
      "Series([], Name: Downstream Performance Rank, dtype: int64)\n",
      "Average Rank for Discriminative DL is nan\n"
     ]
    }
   ],
   "source": [
    "data = downstream_results_rank.copy()\n",
    "\n",
    "# Count amount of different Data constellations in column \"Data_Constellation\"\n",
    "dc_unique = data.Data_Constellation.unique().size\n",
    "print(dc_unique, \"Data Constellations\")\n",
    "print(\"_____________________\")\n",
    "# Count amount of 1.0 Ranking result in column \"Downstream Performance Rank\" (Numbers must match)\n",
    "rank_count = data['Downstream Performance Rank'].value_counts()\n",
    "print(rank_count)\n",
    "print(\"_____________________\")\n",
    "# Filter for 1.0 Ranking -> Overview -> save as csv\n",
    "rank_1 = data.loc[data['Downstream Performance Rank'] == 1.0]\n",
    "rank_1.to_csv('rank_1.csv')\n",
    "\n",
    "print(\"_____________________\")\n",
    "# Count how often each Imputation Method is present -> most \"wins\"\n",
    "rank_wins = rank_1['Imputation_Method'].value_counts()\n",
    "print(rank_wins)\n",
    "print(\"_____________________\")\n",
    "# Take initial overview and filter for each imputation method and calculate average rank\n",
    "methods = ['Random Forest', 'KNN', 'Mean/Mode', 'VAE', 'GAIN', 'Discriminative DL']\n",
    "for i in methods:\n",
    "    df_average_rank = data.loc[data['Imputation_Method'] == i]\n",
    "    len_ar = len(df_average_rank)\n",
    "    print(len_ar, \"Amount of results available\")\n",
    "    rank_pos = df_average_rank['Downstream Performance Rank'].value_counts().sort_index(ascending=True)\n",
    "    print(rank_pos)\n",
    "    average_rank = df_average_rank[\"Downstream Performance Rank\"].mean()\n",
    "    print(\"Average Rank for\", i, \"is\", average_rank)\n",
    "\n",
    "\n",
    "\n"
   ]
  },
  {
   "cell_type": "code",
   "execution_count": 16,
   "id": "83266607",
   "metadata": {},
   "outputs": [
    {
     "data": {
      "text/html": [
       "<div>\n",
       "<style scoped>\n",
       "    .dataframe tbody tr th:only-of-type {\n",
       "        vertical-align: middle;\n",
       "    }\n",
       "\n",
       "    .dataframe tbody tr th {\n",
       "        vertical-align: top;\n",
       "    }\n",
       "\n",
       "    .dataframe thead th {\n",
       "        text-align: right;\n",
       "    }\n",
       "</style>\n",
       "<table border=\"1\" class=\"dataframe\">\n",
       "  <thead>\n",
       "    <tr style=\"text-align: right;\">\n",
       "      <th></th>\n",
       "      <th>Imputation_Method</th>\n",
       "      <th>Task</th>\n",
       "      <th>Missing Type</th>\n",
       "      <th>Missing Fraction</th>\n",
       "      <th>Column</th>\n",
       "      <th>result_type</th>\n",
       "      <th>metric</th>\n",
       "      <th>Baseline</th>\n",
       "      <th>Corrupted</th>\n",
       "      <th>Imputed</th>\n",
       "      <th>...</th>\n",
       "      <th>name</th>\n",
       "      <th>MajorityClassSize</th>\n",
       "      <th>MinorityClassSize</th>\n",
       "      <th>NumberOfFeatures</th>\n",
       "      <th>NumberOfInstances</th>\n",
       "      <th>NumberOfNumericFeatures</th>\n",
       "      <th>NumberOfCategoricalFeatures</th>\n",
       "      <th>NumberOfClasses</th>\n",
       "      <th>Downstream Performance Rank</th>\n",
       "      <th>Data_Constellation</th>\n",
       "    </tr>\n",
       "  </thead>\n",
       "  <tbody>\n",
       "    <tr>\n",
       "      <th>0</th>\n",
       "      <td>Mean/Mode</td>\n",
       "      <td>6</td>\n",
       "      <td>MAR</td>\n",
       "      <td>0.01</td>\n",
       "      <td>x-box</td>\n",
       "      <td>downstream_performance_mean</td>\n",
       "      <td>Classification Tasks</td>\n",
       "      <td>0.725728</td>\n",
       "      <td>0.0</td>\n",
       "      <td>0.725661</td>\n",
       "      <td>...</td>\n",
       "      <td>letter</td>\n",
       "      <td>813.0</td>\n",
       "      <td>734.0</td>\n",
       "      <td>17.0</td>\n",
       "      <td>20000.0</td>\n",
       "      <td>16.0</td>\n",
       "      <td>1.0</td>\n",
       "      <td>26.0</td>\n",
       "      <td>1.0</td>\n",
       "      <td>MAR - 0.01</td>\n",
       "    </tr>\n",
       "    <tr>\n",
       "      <th>2</th>\n",
       "      <td>Mean/Mode</td>\n",
       "      <td>6</td>\n",
       "      <td>MAR</td>\n",
       "      <td>0.1</td>\n",
       "      <td>x-box</td>\n",
       "      <td>downstream_performance_mean</td>\n",
       "      <td>Classification Tasks</td>\n",
       "      <td>0.725728</td>\n",
       "      <td>0.0</td>\n",
       "      <td>0.725661</td>\n",
       "      <td>...</td>\n",
       "      <td>letter</td>\n",
       "      <td>813.0</td>\n",
       "      <td>734.0</td>\n",
       "      <td>17.0</td>\n",
       "      <td>20000.0</td>\n",
       "      <td>16.0</td>\n",
       "      <td>1.0</td>\n",
       "      <td>26.0</td>\n",
       "      <td>1.0</td>\n",
       "      <td>MAR - 0.1</td>\n",
       "    </tr>\n",
       "    <tr>\n",
       "      <th>4</th>\n",
       "      <td>Mean/Mode</td>\n",
       "      <td>6</td>\n",
       "      <td>MAR</td>\n",
       "      <td>0.3</td>\n",
       "      <td>x-box</td>\n",
       "      <td>downstream_performance_mean</td>\n",
       "      <td>Classification Tasks</td>\n",
       "      <td>0.725728</td>\n",
       "      <td>0.0</td>\n",
       "      <td>0.725661</td>\n",
       "      <td>...</td>\n",
       "      <td>letter</td>\n",
       "      <td>813.0</td>\n",
       "      <td>734.0</td>\n",
       "      <td>17.0</td>\n",
       "      <td>20000.0</td>\n",
       "      <td>16.0</td>\n",
       "      <td>1.0</td>\n",
       "      <td>26.0</td>\n",
       "      <td>1.0</td>\n",
       "      <td>MAR - 0.3</td>\n",
       "    </tr>\n",
       "    <tr>\n",
       "      <th>6</th>\n",
       "      <td>Mean/Mode</td>\n",
       "      <td>6</td>\n",
       "      <td>MAR</td>\n",
       "      <td>0.5</td>\n",
       "      <td>x-box</td>\n",
       "      <td>downstream_performance_mean</td>\n",
       "      <td>Classification Tasks</td>\n",
       "      <td>0.725728</td>\n",
       "      <td>0.0</td>\n",
       "      <td>0.725661</td>\n",
       "      <td>...</td>\n",
       "      <td>letter</td>\n",
       "      <td>813.0</td>\n",
       "      <td>734.0</td>\n",
       "      <td>17.0</td>\n",
       "      <td>20000.0</td>\n",
       "      <td>16.0</td>\n",
       "      <td>1.0</td>\n",
       "      <td>26.0</td>\n",
       "      <td>1.0</td>\n",
       "      <td>MAR - 0.5</td>\n",
       "    </tr>\n",
       "    <tr>\n",
       "      <th>8</th>\n",
       "      <td>Mean/Mode</td>\n",
       "      <td>6</td>\n",
       "      <td>MCAR</td>\n",
       "      <td>0.01</td>\n",
       "      <td>x-box</td>\n",
       "      <td>downstream_performance_mean</td>\n",
       "      <td>Classification Tasks</td>\n",
       "      <td>0.725083</td>\n",
       "      <td>0.0</td>\n",
       "      <td>0.725768</td>\n",
       "      <td>...</td>\n",
       "      <td>letter</td>\n",
       "      <td>813.0</td>\n",
       "      <td>734.0</td>\n",
       "      <td>17.0</td>\n",
       "      <td>20000.0</td>\n",
       "      <td>16.0</td>\n",
       "      <td>1.0</td>\n",
       "      <td>26.0</td>\n",
       "      <td>1.0</td>\n",
       "      <td>MCAR - 0.01</td>\n",
       "    </tr>\n",
       "    <tr>\n",
       "      <th>...</th>\n",
       "      <td>...</td>\n",
       "      <td>...</td>\n",
       "      <td>...</td>\n",
       "      <td>...</td>\n",
       "      <td>...</td>\n",
       "      <td>...</td>\n",
       "      <td>...</td>\n",
       "      <td>...</td>\n",
       "      <td>...</td>\n",
       "      <td>...</td>\n",
       "      <td>...</td>\n",
       "      <td>...</td>\n",
       "      <td>...</td>\n",
       "      <td>...</td>\n",
       "      <td>...</td>\n",
       "      <td>...</td>\n",
       "      <td>...</td>\n",
       "      <td>...</td>\n",
       "      <td>...</td>\n",
       "      <td>...</td>\n",
       "      <td>...</td>\n",
       "    </tr>\n",
       "    <tr>\n",
       "      <th>2056</th>\n",
       "      <td>KNN</td>\n",
       "      <td>42712</td>\n",
       "      <td>MCAR</td>\n",
       "      <td>0.5</td>\n",
       "      <td>humidity</td>\n",
       "      <td>downstream_performance_mean</td>\n",
       "      <td>Regression Tasks</td>\n",
       "      <td>149.574896</td>\n",
       "      <td>0.0</td>\n",
       "      <td>149.533159</td>\n",
       "      <td>...</td>\n",
       "      <td>Bike_Sharing_Demand</td>\n",
       "      <td>NaN</td>\n",
       "      <td>NaN</td>\n",
       "      <td>13.0</td>\n",
       "      <td>17379.0</td>\n",
       "      <td>9.0</td>\n",
       "      <td>4.0</td>\n",
       "      <td>NaN</td>\n",
       "      <td>1.0</td>\n",
       "      <td>MCAR - 0.5</td>\n",
       "    </tr>\n",
       "    <tr>\n",
       "      <th>2058</th>\n",
       "      <td>KNN</td>\n",
       "      <td>42712</td>\n",
       "      <td>MNAR</td>\n",
       "      <td>0.01</td>\n",
       "      <td>humidity</td>\n",
       "      <td>downstream_performance_mean</td>\n",
       "      <td>Regression Tasks</td>\n",
       "      <td>149.517948</td>\n",
       "      <td>0.0</td>\n",
       "      <td>149.519166</td>\n",
       "      <td>...</td>\n",
       "      <td>Bike_Sharing_Demand</td>\n",
       "      <td>NaN</td>\n",
       "      <td>NaN</td>\n",
       "      <td>13.0</td>\n",
       "      <td>17379.0</td>\n",
       "      <td>9.0</td>\n",
       "      <td>4.0</td>\n",
       "      <td>NaN</td>\n",
       "      <td>1.0</td>\n",
       "      <td>MNAR - 0.01</td>\n",
       "    </tr>\n",
       "    <tr>\n",
       "      <th>2060</th>\n",
       "      <td>KNN</td>\n",
       "      <td>42712</td>\n",
       "      <td>MNAR</td>\n",
       "      <td>0.1</td>\n",
       "      <td>humidity</td>\n",
       "      <td>downstream_performance_mean</td>\n",
       "      <td>Regression Tasks</td>\n",
       "      <td>149.517948</td>\n",
       "      <td>0.0</td>\n",
       "      <td>149.519166</td>\n",
       "      <td>...</td>\n",
       "      <td>Bike_Sharing_Demand</td>\n",
       "      <td>NaN</td>\n",
       "      <td>NaN</td>\n",
       "      <td>13.0</td>\n",
       "      <td>17379.0</td>\n",
       "      <td>9.0</td>\n",
       "      <td>4.0</td>\n",
       "      <td>NaN</td>\n",
       "      <td>1.0</td>\n",
       "      <td>MNAR - 0.1</td>\n",
       "    </tr>\n",
       "    <tr>\n",
       "      <th>2062</th>\n",
       "      <td>KNN</td>\n",
       "      <td>42712</td>\n",
       "      <td>MNAR</td>\n",
       "      <td>0.3</td>\n",
       "      <td>humidity</td>\n",
       "      <td>downstream_performance_mean</td>\n",
       "      <td>Regression Tasks</td>\n",
       "      <td>149.517948</td>\n",
       "      <td>0.0</td>\n",
       "      <td>149.519166</td>\n",
       "      <td>...</td>\n",
       "      <td>Bike_Sharing_Demand</td>\n",
       "      <td>NaN</td>\n",
       "      <td>NaN</td>\n",
       "      <td>13.0</td>\n",
       "      <td>17379.0</td>\n",
       "      <td>9.0</td>\n",
       "      <td>4.0</td>\n",
       "      <td>NaN</td>\n",
       "      <td>1.0</td>\n",
       "      <td>MNAR - 0.3</td>\n",
       "    </tr>\n",
       "    <tr>\n",
       "      <th>2064</th>\n",
       "      <td>KNN</td>\n",
       "      <td>42712</td>\n",
       "      <td>MNAR</td>\n",
       "      <td>0.5</td>\n",
       "      <td>humidity</td>\n",
       "      <td>downstream_performance_mean</td>\n",
       "      <td>Regression Tasks</td>\n",
       "      <td>149.517948</td>\n",
       "      <td>0.0</td>\n",
       "      <td>149.519166</td>\n",
       "      <td>...</td>\n",
       "      <td>Bike_Sharing_Demand</td>\n",
       "      <td>NaN</td>\n",
       "      <td>NaN</td>\n",
       "      <td>13.0</td>\n",
       "      <td>17379.0</td>\n",
       "      <td>9.0</td>\n",
       "      <td>4.0</td>\n",
       "      <td>NaN</td>\n",
       "      <td>1.0</td>\n",
       "      <td>MNAR - 0.5</td>\n",
       "    </tr>\n",
       "  </tbody>\n",
       "</table>\n",
       "<p>804 rows × 21 columns</p>\n",
       "</div>"
      ],
      "text/plain": [
       "     Imputation_Method   Task Missing Type Missing Fraction    Column  \\\n",
       "0            Mean/Mode      6          MAR             0.01     x-box   \n",
       "2            Mean/Mode      6          MAR              0.1     x-box   \n",
       "4            Mean/Mode      6          MAR              0.3     x-box   \n",
       "6            Mean/Mode      6          MAR              0.5     x-box   \n",
       "8            Mean/Mode      6         MCAR             0.01     x-box   \n",
       "...                ...    ...          ...              ...       ...   \n",
       "2056               KNN  42712         MCAR              0.5  humidity   \n",
       "2058               KNN  42712         MNAR             0.01  humidity   \n",
       "2060               KNN  42712         MNAR              0.1  humidity   \n",
       "2062               KNN  42712         MNAR              0.3  humidity   \n",
       "2064               KNN  42712         MNAR              0.5  humidity   \n",
       "\n",
       "                      result_type                metric    Baseline  \\\n",
       "0     downstream_performance_mean  Classification Tasks    0.725728   \n",
       "2     downstream_performance_mean  Classification Tasks    0.725728   \n",
       "4     downstream_performance_mean  Classification Tasks    0.725728   \n",
       "6     downstream_performance_mean  Classification Tasks    0.725728   \n",
       "8     downstream_performance_mean  Classification Tasks    0.725083   \n",
       "...                           ...                   ...         ...   \n",
       "2056  downstream_performance_mean      Regression Tasks  149.574896   \n",
       "2058  downstream_performance_mean      Regression Tasks  149.517948   \n",
       "2060  downstream_performance_mean      Regression Tasks  149.517948   \n",
       "2062  downstream_performance_mean      Regression Tasks  149.517948   \n",
       "2064  downstream_performance_mean      Regression Tasks  149.517948   \n",
       "\n",
       "      Corrupted     Imputed  ...                 name MajorityClassSize  \\\n",
       "0           0.0    0.725661  ...               letter             813.0   \n",
       "2           0.0    0.725661  ...               letter             813.0   \n",
       "4           0.0    0.725661  ...               letter             813.0   \n",
       "6           0.0    0.725661  ...               letter             813.0   \n",
       "8           0.0    0.725768  ...               letter             813.0   \n",
       "...         ...         ...  ...                  ...               ...   \n",
       "2056        0.0  149.533159  ...  Bike_Sharing_Demand               NaN   \n",
       "2058        0.0  149.519166  ...  Bike_Sharing_Demand               NaN   \n",
       "2060        0.0  149.519166  ...  Bike_Sharing_Demand               NaN   \n",
       "2062        0.0  149.519166  ...  Bike_Sharing_Demand               NaN   \n",
       "2064        0.0  149.519166  ...  Bike_Sharing_Demand               NaN   \n",
       "\n",
       "      MinorityClassSize  NumberOfFeatures  NumberOfInstances  \\\n",
       "0                 734.0              17.0            20000.0   \n",
       "2                 734.0              17.0            20000.0   \n",
       "4                 734.0              17.0            20000.0   \n",
       "6                 734.0              17.0            20000.0   \n",
       "8                 734.0              17.0            20000.0   \n",
       "...                 ...               ...                ...   \n",
       "2056                NaN              13.0            17379.0   \n",
       "2058                NaN              13.0            17379.0   \n",
       "2060                NaN              13.0            17379.0   \n",
       "2062                NaN              13.0            17379.0   \n",
       "2064                NaN              13.0            17379.0   \n",
       "\n",
       "      NumberOfNumericFeatures  NumberOfCategoricalFeatures  NumberOfClasses  \\\n",
       "0                        16.0                          1.0             26.0   \n",
       "2                        16.0                          1.0             26.0   \n",
       "4                        16.0                          1.0             26.0   \n",
       "6                        16.0                          1.0             26.0   \n",
       "8                        16.0                          1.0             26.0   \n",
       "...                       ...                          ...              ...   \n",
       "2056                      9.0                          4.0              NaN   \n",
       "2058                      9.0                          4.0              NaN   \n",
       "2060                      9.0                          4.0              NaN   \n",
       "2062                      9.0                          4.0              NaN   \n",
       "2064                      9.0                          4.0              NaN   \n",
       "\n",
       "      Downstream Performance Rank  Data_Constellation  \n",
       "0                             1.0          MAR - 0.01  \n",
       "2                             1.0           MAR - 0.1  \n",
       "4                             1.0           MAR - 0.3  \n",
       "6                             1.0           MAR - 0.5  \n",
       "8                             1.0         MCAR - 0.01  \n",
       "...                           ...                 ...  \n",
       "2056                          1.0          MCAR - 0.5  \n",
       "2058                          1.0         MNAR - 0.01  \n",
       "2060                          1.0          MNAR - 0.1  \n",
       "2062                          1.0          MNAR - 0.3  \n",
       "2064                          1.0          MNAR - 0.5  \n",
       "\n",
       "[804 rows x 21 columns]"
      ]
     },
     "execution_count": 16,
     "metadata": {},
     "output_type": "execute_result"
    }
   ],
   "source": [
    "rank_1_backup = rank_1.copy()\n",
    "rank_1"
   ]
  },
  {
   "cell_type": "markdown",
   "id": "b854e495",
   "metadata": {},
   "source": [
    "## Set Average Best Imputation Method Manually"
   ]
  },
  {
   "cell_type": "code",
   "execution_count": 17,
   "id": "19466a60",
   "metadata": {},
   "outputs": [],
   "source": [
    "# SET AVERAGE BEST IMPUTATION METHOD HERE, BASED ON THE PREVIOUS RESULTS\n",
    "# Alternatively you can define a baseline method here, which will be used instead, depending on your analysis goals\n",
    "\n",
    "AVERAGE_BEST_IMPUTATION_METHOD = \"Random Forest\""
   ]
  },
  {
   "cell_type": "markdown",
   "id": "5bac4a3c",
   "metadata": {},
   "source": [
    "## Differences in Performance Relative to Average Best Imputation Method"
   ]
  },
  {
   "cell_type": "code",
   "execution_count": 18,
   "id": "a37290a5",
   "metadata": {
    "scrolled": true
   },
   "outputs": [
    {
     "name": "stderr",
     "output_type": "stream",
     "text": [
      "/tmp/ipykernel_2568289/2063573927.py:2: SettingWithCopyWarning: \n",
      "A value is trying to be set on a copy of a slice from a DataFrame.\n",
      "Try using .loc[row_indexer,col_indexer] = value instead\n",
      "\n",
      "See the caveats in the documentation: https://pandas.pydata.org/pandas-docs/stable/user_guide/indexing.html#returning-a-view-versus-a-copy\n",
      "  av_best['Task'] = av_best['Task'].astype(str)\n",
      "/tmp/ipykernel_2568289/2063573927.py:3: SettingWithCopyWarning: \n",
      "A value is trying to be set on a copy of a slice from a DataFrame.\n",
      "Try using .loc[row_indexer,col_indexer] = value instead\n",
      "\n",
      "See the caveats in the documentation: https://pandas.pydata.org/pandas-docs/stable/user_guide/indexing.html#returning-a-view-versus-a-copy\n",
      "  av_best['Data_Constellation'] = av_best['Data_Constellation'] + ' - ' + av_best['Task']\n",
      "/tmp/ipykernel_2568289/2063573927.py:11: SettingWithCopyWarning: \n",
      "A value is trying to be set on a copy of a slice from a DataFrame.\n",
      "Try using .loc[row_indexer,col_indexer] = value instead\n",
      "\n",
      "See the caveats in the documentation: https://pandas.pydata.org/pandas-docs/stable/user_guide/indexing.html#returning-a-view-versus-a-copy\n",
      "  rank_1['Task'] = rank_1['Task'].astype(str)\n",
      "/tmp/ipykernel_2568289/2063573927.py:12: SettingWithCopyWarning: \n",
      "A value is trying to be set on a copy of a slice from a DataFrame.\n",
      "Try using .loc[row_indexer,col_indexer] = value instead\n",
      "\n",
      "See the caveats in the documentation: https://pandas.pydata.org/pandas-docs/stable/user_guide/indexing.html#returning-a-view-versus-a-copy\n",
      "  rank_1['Data_Constellation'] = rank_1['Data_Constellation'] + ' - ' + rank_1['Task']\n"
     ]
    }
   ],
   "source": [
    "av_best = data.loc[data['Imputation_Method'] == AVERAGE_BEST_IMPUTATION_METHOD]\n",
    "av_best['Task'] = av_best['Task'].astype(str)\n",
    "av_best['Data_Constellation'] = av_best['Data_Constellation'] + ' - ' + av_best['Task']\n",
    "\n",
    "av_best = av_best[['Imputation_Method', 'Imputed', 'Data_Constellation', 'Downstream Performance Rank']]\n",
    "av_best = av_best.rename(columns={'Imputation_Method':'Imputation_Method_average', \n",
    "                               'Imputed':'Imputed_average',\n",
    "                                 'Downstream Performance Rank':'Downstream Performance Rank Average'})\n",
    "\n",
    "\n",
    "rank_1['Task'] = rank_1['Task'].astype(str)\n",
    "rank_1['Data_Constellation'] = rank_1['Data_Constellation'] + ' - ' + rank_1['Task']\n",
    "rank_1 = rank_1[['Imputation_Method', 'Imputed', 'Data_Constellation', 'Downstream Performance Rank']]\n",
    "rank_1 = rank_1.rename(columns={'Imputation_Method':'Imputation_Method_best', \n",
    "                               'Imputed':'Imputed_best',\n",
    "                               'Downstream Performance Rank':'Downstream Performance Rank Best'})\n",
    "\n",
    "performance_difference = pd.merge(av_best, rank_1, on='Data_Constellation')\n",
    "#performance_difference.head()"
   ]
  },
  {
   "cell_type": "code",
   "execution_count": 19,
   "id": "790268dd",
   "metadata": {},
   "outputs": [
    {
     "name": "stdout",
     "output_type": "stream",
     "text": [
      "Average Difference in Improvement from best method to average best method for RMSE -0.002863331727930597\n"
     ]
    }
   ],
   "source": [
    "# Calculate the difference between the best imputation method for each data constellation to the average best imputation method in F1 score\n",
    "performance_difference['Performance Difference Best to Average'] = performance_difference['Imputed_best'] - performance_difference['Imputed_average']\n",
    "Average_Difference = performance_difference['Performance Difference Best to Average'].mean()\n",
    "print(\"Average Difference in Improvement from best method to average best method for RMSE\", Average_Difference)\n"
   ]
  },
  {
   "cell_type": "code",
   "execution_count": 20,
   "id": "2f8eb1f6",
   "metadata": {},
   "outputs": [
    {
     "data": {
      "text/html": [
       "<div>\n",
       "<style scoped>\n",
       "    .dataframe tbody tr th:only-of-type {\n",
       "        vertical-align: middle;\n",
       "    }\n",
       "\n",
       "    .dataframe tbody tr th {\n",
       "        vertical-align: top;\n",
       "    }\n",
       "\n",
       "    .dataframe thead th {\n",
       "        text-align: right;\n",
       "    }\n",
       "</style>\n",
       "<table border=\"1\" class=\"dataframe\">\n",
       "  <thead>\n",
       "    <tr style=\"text-align: right;\">\n",
       "      <th></th>\n",
       "      <th>Imputation_Method_average</th>\n",
       "      <th>Imputed_average</th>\n",
       "      <th>Data_Constellation</th>\n",
       "      <th>Downstream Performance Rank Average</th>\n",
       "      <th>Imputation_Method_best</th>\n",
       "      <th>Imputed_best</th>\n",
       "      <th>Downstream Performance Rank Best</th>\n",
       "      <th>Performance Difference Best to Average</th>\n",
       "    </tr>\n",
       "  </thead>\n",
       "  <tbody>\n",
       "    <tr>\n",
       "      <th>0</th>\n",
       "      <td>Random Forest</td>\n",
       "      <td>0.789810</td>\n",
       "      <td>MAR - 0.01 - 310</td>\n",
       "      <td>3.0</td>\n",
       "      <td>Mean/Mode</td>\n",
       "      <td>0.780147</td>\n",
       "      <td>1.0</td>\n",
       "      <td>-0.009662</td>\n",
       "    </tr>\n",
       "    <tr>\n",
       "      <th>1</th>\n",
       "      <td>Random Forest</td>\n",
       "      <td>0.789810</td>\n",
       "      <td>MAR - 0.1 - 310</td>\n",
       "      <td>4.0</td>\n",
       "      <td>Mean/Mode</td>\n",
       "      <td>0.780147</td>\n",
       "      <td>1.0</td>\n",
       "      <td>-0.009662</td>\n",
       "    </tr>\n",
       "    <tr>\n",
       "      <th>2</th>\n",
       "      <td>Random Forest</td>\n",
       "      <td>0.789810</td>\n",
       "      <td>MAR - 0.3 - 310</td>\n",
       "      <td>3.0</td>\n",
       "      <td>Mean/Mode</td>\n",
       "      <td>0.780147</td>\n",
       "      <td>1.0</td>\n",
       "      <td>-0.009662</td>\n",
       "    </tr>\n",
       "    <tr>\n",
       "      <th>3</th>\n",
       "      <td>Random Forest</td>\n",
       "      <td>0.789810</td>\n",
       "      <td>MAR - 0.5 - 310</td>\n",
       "      <td>4.0</td>\n",
       "      <td>Mean/Mode</td>\n",
       "      <td>0.780147</td>\n",
       "      <td>1.0</td>\n",
       "      <td>-0.009662</td>\n",
       "    </tr>\n",
       "    <tr>\n",
       "      <th>4</th>\n",
       "      <td>Random Forest</td>\n",
       "      <td>0.774143</td>\n",
       "      <td>MCAR - 0.01 - 310</td>\n",
       "      <td>3.0</td>\n",
       "      <td>Mean/Mode</td>\n",
       "      <td>0.774143</td>\n",
       "      <td>1.0</td>\n",
       "      <td>0.000000</td>\n",
       "    </tr>\n",
       "  </tbody>\n",
       "</table>\n",
       "</div>"
      ],
      "text/plain": [
       "  Imputation_Method_average  Imputed_average Data_Constellation  \\\n",
       "0             Random Forest         0.789810   MAR - 0.01 - 310   \n",
       "1             Random Forest         0.789810    MAR - 0.1 - 310   \n",
       "2             Random Forest         0.789810    MAR - 0.3 - 310   \n",
       "3             Random Forest         0.789810    MAR - 0.5 - 310   \n",
       "4             Random Forest         0.774143  MCAR - 0.01 - 310   \n",
       "\n",
       "   Downstream Performance Rank Average Imputation_Method_best  Imputed_best  \\\n",
       "0                                  3.0              Mean/Mode      0.780147   \n",
       "1                                  4.0              Mean/Mode      0.780147   \n",
       "2                                  3.0              Mean/Mode      0.780147   \n",
       "3                                  4.0              Mean/Mode      0.780147   \n",
       "4                                  3.0              Mean/Mode      0.774143   \n",
       "\n",
       "   Downstream Performance Rank Best  Performance Difference Best to Average  \n",
       "0                               1.0                               -0.009662  \n",
       "1                               1.0                               -0.009662  \n",
       "2                               1.0                               -0.009662  \n",
       "3                               1.0                               -0.009662  \n",
       "4                               1.0                                0.000000  "
      ]
     },
     "execution_count": 20,
     "metadata": {},
     "output_type": "execute_result"
    }
   ],
   "source": [
    "performance_difference.to_csv('performance_difference.csv')\n",
    "performance_difference.head()"
   ]
  },
  {
   "cell_type": "markdown",
   "id": "031ef8d3",
   "metadata": {},
   "source": [
    "## Analysis and Ranking based on RMSE Score"
   ]
  },
  {
   "cell_type": "code",
   "execution_count": 21,
   "id": "c8c76aa7",
   "metadata": {},
   "outputs": [
    {
     "ename": "IndexError",
     "evalue": "single positional indexer is out-of-bounds",
     "output_type": "error",
     "traceback": [
      "\u001b[0;31m---------------------------------------------------------------------------\u001b[0m",
      "\u001b[0;31mIndexError\u001b[0m                                Traceback (most recent call last)",
      "\u001b[0;32m/tmp/ipykernel_2568289/1428686177.py\u001b[0m in \u001b[0;36m<module>\u001b[0;34m\u001b[0m\n\u001b[1;32m     17\u001b[0m     \u001b[0maverage_best\u001b[0m \u001b[0;34m=\u001b[0m \u001b[0mdata_constel\u001b[0m\u001b[0;34m.\u001b[0m\u001b[0mloc\u001b[0m\u001b[0;34m[\u001b[0m\u001b[0mdata_constel\u001b[0m\u001b[0;34m[\u001b[0m\u001b[0;34m'Imputation_Method'\u001b[0m\u001b[0;34m]\u001b[0m \u001b[0;34m==\u001b[0m \u001b[0mAVERAGE_BEST_IMPUTATION_METHOD\u001b[0m\u001b[0;34m]\u001b[0m\u001b[0;34m\u001b[0m\u001b[0;34m\u001b[0m\u001b[0m\n\u001b[1;32m     18\u001b[0m     \u001b[0mbest_score_int\u001b[0m \u001b[0;34m=\u001b[0m \u001b[0mbest_score\u001b[0m\u001b[0;34m.\u001b[0m\u001b[0miloc\u001b[0m\u001b[0;34m[\u001b[0m\u001b[0;36m0\u001b[0m\u001b[0;34m]\u001b[0m\u001b[0;34m[\u001b[0m\u001b[0;34m'Imputed'\u001b[0m\u001b[0;34m]\u001b[0m\u001b[0;34m\u001b[0m\u001b[0;34m\u001b[0m\u001b[0m\n\u001b[0;32m---> 19\u001b[0;31m     \u001b[0maverage_best_int\u001b[0m \u001b[0;34m=\u001b[0m \u001b[0maverage_best\u001b[0m\u001b[0;34m.\u001b[0m\u001b[0miloc\u001b[0m\u001b[0;34m[\u001b[0m\u001b[0;36m0\u001b[0m\u001b[0;34m]\u001b[0m\u001b[0;34m[\u001b[0m\u001b[0;34m'Imputed'\u001b[0m\u001b[0;34m]\u001b[0m\u001b[0;34m\u001b[0m\u001b[0;34m\u001b[0m\u001b[0m\n\u001b[0m\u001b[1;32m     20\u001b[0m     \u001b[0mcalc_result\u001b[0m \u001b[0;34m=\u001b[0m \u001b[0;34m(\u001b[0m\u001b[0;34m(\u001b[0m\u001b[0mbest_score_int\u001b[0m \u001b[0;34m-\u001b[0m \u001b[0maverage_best_int\u001b[0m\u001b[0;34m)\u001b[0m\u001b[0;34m/\u001b[0m\u001b[0mbest_score_int\u001b[0m\u001b[0;34m)\u001b[0m\u001b[0;34m\u001b[0m\u001b[0;34m\u001b[0m\u001b[0m\n\u001b[1;32m     21\u001b[0m     \u001b[0mcalc_result\u001b[0m \u001b[0;34m=\u001b[0m \u001b[0mabs\u001b[0m\u001b[0;34m(\u001b[0m\u001b[0mcalc_result\u001b[0m\u001b[0;34m)\u001b[0m\u001b[0;34m\u001b[0m\u001b[0;34m\u001b[0m\u001b[0m\n",
      "\u001b[0;32m/opt/anaconda/lib/python3.9/site-packages/pandas/core/indexing.py\u001b[0m in \u001b[0;36m__getitem__\u001b[0;34m(self, key)\u001b[0m\n\u001b[1;32m    965\u001b[0m \u001b[0;34m\u001b[0m\u001b[0m\n\u001b[1;32m    966\u001b[0m             \u001b[0mmaybe_callable\u001b[0m \u001b[0;34m=\u001b[0m \u001b[0mcom\u001b[0m\u001b[0;34m.\u001b[0m\u001b[0mapply_if_callable\u001b[0m\u001b[0;34m(\u001b[0m\u001b[0mkey\u001b[0m\u001b[0;34m,\u001b[0m \u001b[0mself\u001b[0m\u001b[0;34m.\u001b[0m\u001b[0mobj\u001b[0m\u001b[0;34m)\u001b[0m\u001b[0;34m\u001b[0m\u001b[0;34m\u001b[0m\u001b[0m\n\u001b[0;32m--> 967\u001b[0;31m             \u001b[0;32mreturn\u001b[0m \u001b[0mself\u001b[0m\u001b[0;34m.\u001b[0m\u001b[0m_getitem_axis\u001b[0m\u001b[0;34m(\u001b[0m\u001b[0mmaybe_callable\u001b[0m\u001b[0;34m,\u001b[0m \u001b[0maxis\u001b[0m\u001b[0;34m=\u001b[0m\u001b[0maxis\u001b[0m\u001b[0;34m)\u001b[0m\u001b[0;34m\u001b[0m\u001b[0;34m\u001b[0m\u001b[0m\n\u001b[0m\u001b[1;32m    968\u001b[0m \u001b[0;34m\u001b[0m\u001b[0m\n\u001b[1;32m    969\u001b[0m     \u001b[0;32mdef\u001b[0m \u001b[0m_is_scalar_access\u001b[0m\u001b[0;34m(\u001b[0m\u001b[0mself\u001b[0m\u001b[0;34m,\u001b[0m \u001b[0mkey\u001b[0m\u001b[0;34m:\u001b[0m \u001b[0mtuple\u001b[0m\u001b[0;34m)\u001b[0m\u001b[0;34m:\u001b[0m\u001b[0;34m\u001b[0m\u001b[0;34m\u001b[0m\u001b[0m\n",
      "\u001b[0;32m/opt/anaconda/lib/python3.9/site-packages/pandas/core/indexing.py\u001b[0m in \u001b[0;36m_getitem_axis\u001b[0;34m(self, key, axis)\u001b[0m\n\u001b[1;32m   1521\u001b[0m \u001b[0;34m\u001b[0m\u001b[0m\n\u001b[1;32m   1522\u001b[0m             \u001b[0;31m# validate the location\u001b[0m\u001b[0;34m\u001b[0m\u001b[0;34m\u001b[0m\u001b[0m\n\u001b[0;32m-> 1523\u001b[0;31m             \u001b[0mself\u001b[0m\u001b[0;34m.\u001b[0m\u001b[0m_validate_integer\u001b[0m\u001b[0;34m(\u001b[0m\u001b[0mkey\u001b[0m\u001b[0;34m,\u001b[0m \u001b[0maxis\u001b[0m\u001b[0;34m)\u001b[0m\u001b[0;34m\u001b[0m\u001b[0;34m\u001b[0m\u001b[0m\n\u001b[0m\u001b[1;32m   1524\u001b[0m \u001b[0;34m\u001b[0m\u001b[0m\n\u001b[1;32m   1525\u001b[0m             \u001b[0;32mreturn\u001b[0m \u001b[0mself\u001b[0m\u001b[0;34m.\u001b[0m\u001b[0mobj\u001b[0m\u001b[0;34m.\u001b[0m\u001b[0m_ixs\u001b[0m\u001b[0;34m(\u001b[0m\u001b[0mkey\u001b[0m\u001b[0;34m,\u001b[0m \u001b[0maxis\u001b[0m\u001b[0;34m=\u001b[0m\u001b[0maxis\u001b[0m\u001b[0;34m)\u001b[0m\u001b[0;34m\u001b[0m\u001b[0;34m\u001b[0m\u001b[0m\n",
      "\u001b[0;32m/opt/anaconda/lib/python3.9/site-packages/pandas/core/indexing.py\u001b[0m in \u001b[0;36m_validate_integer\u001b[0;34m(self, key, axis)\u001b[0m\n\u001b[1;32m   1453\u001b[0m         \u001b[0mlen_axis\u001b[0m \u001b[0;34m=\u001b[0m \u001b[0mlen\u001b[0m\u001b[0;34m(\u001b[0m\u001b[0mself\u001b[0m\u001b[0;34m.\u001b[0m\u001b[0mobj\u001b[0m\u001b[0;34m.\u001b[0m\u001b[0m_get_axis\u001b[0m\u001b[0;34m(\u001b[0m\u001b[0maxis\u001b[0m\u001b[0;34m)\u001b[0m\u001b[0;34m)\u001b[0m\u001b[0;34m\u001b[0m\u001b[0;34m\u001b[0m\u001b[0m\n\u001b[1;32m   1454\u001b[0m         \u001b[0;32mif\u001b[0m \u001b[0mkey\u001b[0m \u001b[0;34m>=\u001b[0m \u001b[0mlen_axis\u001b[0m \u001b[0;32mor\u001b[0m \u001b[0mkey\u001b[0m \u001b[0;34m<\u001b[0m \u001b[0;34m-\u001b[0m\u001b[0mlen_axis\u001b[0m\u001b[0;34m:\u001b[0m\u001b[0;34m\u001b[0m\u001b[0;34m\u001b[0m\u001b[0m\n\u001b[0;32m-> 1455\u001b[0;31m             \u001b[0;32mraise\u001b[0m \u001b[0mIndexError\u001b[0m\u001b[0;34m(\u001b[0m\u001b[0;34m\"single positional indexer is out-of-bounds\"\u001b[0m\u001b[0;34m)\u001b[0m\u001b[0;34m\u001b[0m\u001b[0;34m\u001b[0m\u001b[0m\n\u001b[0m\u001b[1;32m   1456\u001b[0m \u001b[0;34m\u001b[0m\u001b[0m\n\u001b[1;32m   1457\u001b[0m     \u001b[0;31m# -------------------------------------------------------------------\u001b[0m\u001b[0;34m\u001b[0m\u001b[0;34m\u001b[0m\u001b[0m\n",
      "\u001b[0;31mIndexError\u001b[0m: single positional indexer is out-of-bounds"
     ]
    }
   ],
   "source": [
    "# Relative Difference in Percent -> Best Method to Average Best Method\n",
    "\n",
    "data = downstream_results_rank.copy()\n",
    "data['Task'] = data['Task'].astype(str)\n",
    "data['Data_Constellation_full'] = data['Data_Constellation'] + ' - ' + data['Task']\n",
    "\n",
    "dc_unique = data.Data_Constellation_full.unique()\n",
    "\n",
    "data_constellations = dc_unique.tolist()\n",
    "methods = ['Random Forest', 'KNN', 'Mean/Mode', 'VAE', 'GAIN', 'Discriminative DL']\n",
    "average_best_complete = pd.DataFrame()\n",
    "\n",
    "\n",
    "for i in data_constellations:\n",
    "    data_constel = data.loc[data['Data_Constellation_full'] == i]\n",
    "    best_score = data_constel.loc[data_constel['Downstream Performance Rank'] == 1.0]\n",
    "    average_best = data_constel.loc[data_constel['Imputation_Method'] == AVERAGE_BEST_IMPUTATION_METHOD]\n",
    "    best_score_int = best_score.iloc[0]['Imputed']\n",
    "    average_best_int = average_best.iloc[0]['Imputed']\n",
    "    calc_result = ((best_score_int - average_best_int)/best_score_int)\n",
    "    calc_result = abs(calc_result)\n",
    "    average_best['Performance Difference to Best to Average in Percent'] = calc_result\n",
    "    average_best_complete = average_best_complete.append(average_best)\n",
    "\n",
    "average_best_complete"
   ]
  },
  {
   "cell_type": "code",
   "execution_count": null,
   "id": "f81e818e",
   "metadata": {},
   "outputs": [
    {
     "name": "stdout",
     "output_type": "stream",
     "text": [
      "Empty DataFrame\n",
      "Columns: [result_type, metric, Baseline, Corrupted, Imputed, Imputation_Method, Missing Type, Missing Fraction, Column, Unnamed: 0, Task, name, MajorityClassSize, MinorityClassSize, NumberOfFeatures, NumberOfInstances, NumberOfNumericFeatures, NumberOfCategoricalFeatures, NumberOfClasses, Downstream Performance Rank, Data_Constellation]\n",
      "Index: []\n",
      "\n",
      "[0 rows x 21 columns]\n"
     ]
    }
   ],
   "source": [
    "print(downstream_results_rank)"
   ]
  },
  {
   "cell_type": "code",
   "execution_count": null,
   "id": "4a3d1557",
   "metadata": {},
   "outputs": [
    {
     "ename": "KeyError",
     "evalue": "'Performance Difference to Best to Average in Percent'",
     "output_type": "error",
     "traceback": [
      "\u001b[0;31m---------------------------------------------------------------------------\u001b[0m",
      "\u001b[0;31mKeyError\u001b[0m                                  Traceback (most recent call last)",
      "\u001b[0;32m/opt/anaconda/lib/python3.9/site-packages/pandas/core/indexes/base.py\u001b[0m in \u001b[0;36mget_loc\u001b[0;34m(self, key, method, tolerance)\u001b[0m\n\u001b[1;32m   3628\u001b[0m             \u001b[0;32mtry\u001b[0m\u001b[0;34m:\u001b[0m\u001b[0;34m\u001b[0m\u001b[0;34m\u001b[0m\u001b[0m\n\u001b[0;32m-> 3629\u001b[0;31m                 \u001b[0;32mreturn\u001b[0m \u001b[0mself\u001b[0m\u001b[0;34m.\u001b[0m\u001b[0m_engine\u001b[0m\u001b[0;34m.\u001b[0m\u001b[0mget_loc\u001b[0m\u001b[0;34m(\u001b[0m\u001b[0mcasted_key\u001b[0m\u001b[0;34m)\u001b[0m\u001b[0;34m\u001b[0m\u001b[0;34m\u001b[0m\u001b[0m\n\u001b[0m\u001b[1;32m   3630\u001b[0m             \u001b[0;32mexcept\u001b[0m \u001b[0mKeyError\u001b[0m \u001b[0;32mas\u001b[0m \u001b[0merr\u001b[0m\u001b[0;34m:\u001b[0m\u001b[0;34m\u001b[0m\u001b[0;34m\u001b[0m\u001b[0m\n",
      "\u001b[0;32m/opt/anaconda/lib/python3.9/site-packages/pandas/_libs/index.pyx\u001b[0m in \u001b[0;36mpandas._libs.index.IndexEngine.get_loc\u001b[0;34m()\u001b[0m\n",
      "\u001b[0;32m/opt/anaconda/lib/python3.9/site-packages/pandas/_libs/index.pyx\u001b[0m in \u001b[0;36mpandas._libs.index.IndexEngine.get_loc\u001b[0;34m()\u001b[0m\n",
      "\u001b[0;32mpandas/_libs/hashtable_class_helper.pxi\u001b[0m in \u001b[0;36mpandas._libs.hashtable.PyObjectHashTable.get_item\u001b[0;34m()\u001b[0m\n",
      "\u001b[0;32mpandas/_libs/hashtable_class_helper.pxi\u001b[0m in \u001b[0;36mpandas._libs.hashtable.PyObjectHashTable.get_item\u001b[0;34m()\u001b[0m\n",
      "\u001b[0;31mKeyError\u001b[0m: 'Performance Difference to Best to Average in Percent'",
      "\nThe above exception was the direct cause of the following exception:\n",
      "\u001b[0;31mKeyError\u001b[0m                                  Traceback (most recent call last)",
      "\u001b[0;32m/tmp/ipykernel_389841/2567385221.py\u001b[0m in \u001b[0;36m<module>\u001b[0;34m\u001b[0m\n\u001b[1;32m      1\u001b[0m \u001b[0;31m#Difference in Percentage\u001b[0m\u001b[0;34m\u001b[0m\u001b[0;34m\u001b[0m\u001b[0m\n\u001b[0;32m----> 2\u001b[0;31m \u001b[0maverage_difference\u001b[0m \u001b[0;34m=\u001b[0m \u001b[0maverage_best_complete\u001b[0m\u001b[0;34m[\u001b[0m\u001b[0;34m'Performance Difference to Best to Average in Percent'\u001b[0m\u001b[0;34m]\u001b[0m\u001b[0;34m.\u001b[0m\u001b[0mmean\u001b[0m\u001b[0;34m(\u001b[0m\u001b[0;34m)\u001b[0m\u001b[0;34m\u001b[0m\u001b[0;34m\u001b[0m\u001b[0m\n\u001b[0m\u001b[1;32m      3\u001b[0m \u001b[0mprint\u001b[0m\u001b[0;34m(\u001b[0m\u001b[0maverage_difference\u001b[0m\u001b[0;34m,\u001b[0m \u001b[0;34m\"average difference in Percent (Verschlechterung der durchschnittlich besten Methode relativ zu jeweils besten Methode)\"\u001b[0m\u001b[0;34m)\u001b[0m\u001b[0;34m\u001b[0m\u001b[0;34m\u001b[0m\u001b[0m\n",
      "\u001b[0;32m/opt/anaconda/lib/python3.9/site-packages/pandas/core/frame.py\u001b[0m in \u001b[0;36m__getitem__\u001b[0;34m(self, key)\u001b[0m\n\u001b[1;32m   3503\u001b[0m             \u001b[0;32mif\u001b[0m \u001b[0mself\u001b[0m\u001b[0;34m.\u001b[0m\u001b[0mcolumns\u001b[0m\u001b[0;34m.\u001b[0m\u001b[0mnlevels\u001b[0m \u001b[0;34m>\u001b[0m \u001b[0;36m1\u001b[0m\u001b[0;34m:\u001b[0m\u001b[0;34m\u001b[0m\u001b[0;34m\u001b[0m\u001b[0m\n\u001b[1;32m   3504\u001b[0m                 \u001b[0;32mreturn\u001b[0m \u001b[0mself\u001b[0m\u001b[0;34m.\u001b[0m\u001b[0m_getitem_multilevel\u001b[0m\u001b[0;34m(\u001b[0m\u001b[0mkey\u001b[0m\u001b[0;34m)\u001b[0m\u001b[0;34m\u001b[0m\u001b[0;34m\u001b[0m\u001b[0m\n\u001b[0;32m-> 3505\u001b[0;31m             \u001b[0mindexer\u001b[0m \u001b[0;34m=\u001b[0m \u001b[0mself\u001b[0m\u001b[0;34m.\u001b[0m\u001b[0mcolumns\u001b[0m\u001b[0;34m.\u001b[0m\u001b[0mget_loc\u001b[0m\u001b[0;34m(\u001b[0m\u001b[0mkey\u001b[0m\u001b[0;34m)\u001b[0m\u001b[0;34m\u001b[0m\u001b[0;34m\u001b[0m\u001b[0m\n\u001b[0m\u001b[1;32m   3506\u001b[0m             \u001b[0;32mif\u001b[0m \u001b[0mis_integer\u001b[0m\u001b[0;34m(\u001b[0m\u001b[0mindexer\u001b[0m\u001b[0;34m)\u001b[0m\u001b[0;34m:\u001b[0m\u001b[0;34m\u001b[0m\u001b[0;34m\u001b[0m\u001b[0m\n\u001b[1;32m   3507\u001b[0m                 \u001b[0mindexer\u001b[0m \u001b[0;34m=\u001b[0m \u001b[0;34m[\u001b[0m\u001b[0mindexer\u001b[0m\u001b[0;34m]\u001b[0m\u001b[0;34m\u001b[0m\u001b[0;34m\u001b[0m\u001b[0m\n",
      "\u001b[0;32m/opt/anaconda/lib/python3.9/site-packages/pandas/core/indexes/base.py\u001b[0m in \u001b[0;36mget_loc\u001b[0;34m(self, key, method, tolerance)\u001b[0m\n\u001b[1;32m   3629\u001b[0m                 \u001b[0;32mreturn\u001b[0m \u001b[0mself\u001b[0m\u001b[0;34m.\u001b[0m\u001b[0m_engine\u001b[0m\u001b[0;34m.\u001b[0m\u001b[0mget_loc\u001b[0m\u001b[0;34m(\u001b[0m\u001b[0mcasted_key\u001b[0m\u001b[0;34m)\u001b[0m\u001b[0;34m\u001b[0m\u001b[0;34m\u001b[0m\u001b[0m\n\u001b[1;32m   3630\u001b[0m             \u001b[0;32mexcept\u001b[0m \u001b[0mKeyError\u001b[0m \u001b[0;32mas\u001b[0m \u001b[0merr\u001b[0m\u001b[0;34m:\u001b[0m\u001b[0;34m\u001b[0m\u001b[0;34m\u001b[0m\u001b[0m\n\u001b[0;32m-> 3631\u001b[0;31m                 \u001b[0;32mraise\u001b[0m \u001b[0mKeyError\u001b[0m\u001b[0;34m(\u001b[0m\u001b[0mkey\u001b[0m\u001b[0;34m)\u001b[0m \u001b[0;32mfrom\u001b[0m \u001b[0merr\u001b[0m\u001b[0;34m\u001b[0m\u001b[0;34m\u001b[0m\u001b[0m\n\u001b[0m\u001b[1;32m   3632\u001b[0m             \u001b[0;32mexcept\u001b[0m \u001b[0mTypeError\u001b[0m\u001b[0;34m:\u001b[0m\u001b[0;34m\u001b[0m\u001b[0;34m\u001b[0m\u001b[0m\n\u001b[1;32m   3633\u001b[0m                 \u001b[0;31m# If we have a listlike key, _check_indexing_error will raise\u001b[0m\u001b[0;34m\u001b[0m\u001b[0;34m\u001b[0m\u001b[0m\n",
      "\u001b[0;31mKeyError\u001b[0m: 'Performance Difference to Best to Average in Percent'"
     ]
    }
   ],
   "source": [
    "#Difference in Percentage\n",
    "average_difference = average_best_complete['Performance Difference to Best to Average in Percent'].mean()\n",
    "print(average_difference, \"average difference in Percent (Verschlechterung der durchschnittlich besten Methode relativ zu jeweils besten Methode)\")"
   ]
  },
  {
   "cell_type": "code",
   "execution_count": null,
   "id": "8aa6dc72",
   "metadata": {},
   "outputs": [],
   "source": []
  },
  {
   "cell_type": "markdown",
   "id": "6902ac71",
   "metadata": {},
   "source": [
    "## Heatmap to Show Detailled Performance of Each Imputation Method for Each Data Constellation"
   ]
  },
  {
   "cell_type": "code",
   "execution_count": 22,
   "id": "4e8dd3d1",
   "metadata": {},
   "outputs": [
    {
     "data": {
      "text/html": [
       "<div>\n",
       "<style scoped>\n",
       "    .dataframe tbody tr th:only-of-type {\n",
       "        vertical-align: middle;\n",
       "    }\n",
       "\n",
       "    .dataframe tbody tr th {\n",
       "        vertical-align: top;\n",
       "    }\n",
       "\n",
       "    .dataframe thead th {\n",
       "        text-align: right;\n",
       "    }\n",
       "</style>\n",
       "<table border=\"1\" class=\"dataframe\">\n",
       "  <thead>\n",
       "    <tr style=\"text-align: right;\">\n",
       "      <th></th>\n",
       "      <th>Imputation_Method</th>\n",
       "      <th>Task</th>\n",
       "      <th>Imputed</th>\n",
       "      <th>NumberOfFeatures</th>\n",
       "      <th>NumberOfInstances</th>\n",
       "      <th>NumberOfNumericFeatures</th>\n",
       "      <th>NumberOfCategoricalFeatures</th>\n",
       "      <th>Downstream Performance Rank</th>\n",
       "      <th>Data_Constellation</th>\n",
       "    </tr>\n",
       "  </thead>\n",
       "  <tbody>\n",
       "    <tr>\n",
       "      <th>0</th>\n",
       "      <td>Mean/Mode</td>\n",
       "      <td>6</td>\n",
       "      <td>0.725661</td>\n",
       "      <td>17.0</td>\n",
       "      <td>20000.0</td>\n",
       "      <td>16.0</td>\n",
       "      <td>1.0</td>\n",
       "      <td>1.0</td>\n",
       "      <td>MAR - 0.01</td>\n",
       "    </tr>\n",
       "    <tr>\n",
       "      <th>1</th>\n",
       "      <td>KNN</td>\n",
       "      <td>6</td>\n",
       "      <td>0.726121</td>\n",
       "      <td>17.0</td>\n",
       "      <td>20000.0</td>\n",
       "      <td>16.0</td>\n",
       "      <td>1.0</td>\n",
       "      <td>2.0</td>\n",
       "      <td>MAR - 0.01</td>\n",
       "    </tr>\n",
       "    <tr>\n",
       "      <th>2</th>\n",
       "      <td>Mean/Mode</td>\n",
       "      <td>6</td>\n",
       "      <td>0.725661</td>\n",
       "      <td>17.0</td>\n",
       "      <td>20000.0</td>\n",
       "      <td>16.0</td>\n",
       "      <td>1.0</td>\n",
       "      <td>1.0</td>\n",
       "      <td>MAR - 0.1</td>\n",
       "    </tr>\n",
       "    <tr>\n",
       "      <th>3</th>\n",
       "      <td>KNN</td>\n",
       "      <td>6</td>\n",
       "      <td>0.726121</td>\n",
       "      <td>17.0</td>\n",
       "      <td>20000.0</td>\n",
       "      <td>16.0</td>\n",
       "      <td>1.0</td>\n",
       "      <td>2.0</td>\n",
       "      <td>MAR - 0.1</td>\n",
       "    </tr>\n",
       "    <tr>\n",
       "      <th>4</th>\n",
       "      <td>Mean/Mode</td>\n",
       "      <td>6</td>\n",
       "      <td>0.725661</td>\n",
       "      <td>17.0</td>\n",
       "      <td>20000.0</td>\n",
       "      <td>16.0</td>\n",
       "      <td>1.0</td>\n",
       "      <td>1.0</td>\n",
       "      <td>MAR - 0.3</td>\n",
       "    </tr>\n",
       "    <tr>\n",
       "      <th>...</th>\n",
       "      <td>...</td>\n",
       "      <td>...</td>\n",
       "      <td>...</td>\n",
       "      <td>...</td>\n",
       "      <td>...</td>\n",
       "      <td>...</td>\n",
       "      <td>...</td>\n",
       "      <td>...</td>\n",
       "      <td>...</td>\n",
       "    </tr>\n",
       "    <tr>\n",
       "      <th>2061</th>\n",
       "      <td>Mean/Mode</td>\n",
       "      <td>42712</td>\n",
       "      <td>149.536270</td>\n",
       "      <td>13.0</td>\n",
       "      <td>17379.0</td>\n",
       "      <td>9.0</td>\n",
       "      <td>4.0</td>\n",
       "      <td>2.0</td>\n",
       "      <td>MNAR - 0.1</td>\n",
       "    </tr>\n",
       "    <tr>\n",
       "      <th>2062</th>\n",
       "      <td>KNN</td>\n",
       "      <td>42712</td>\n",
       "      <td>149.519166</td>\n",
       "      <td>13.0</td>\n",
       "      <td>17379.0</td>\n",
       "      <td>9.0</td>\n",
       "      <td>4.0</td>\n",
       "      <td>1.0</td>\n",
       "      <td>MNAR - 0.3</td>\n",
       "    </tr>\n",
       "    <tr>\n",
       "      <th>2063</th>\n",
       "      <td>Mean/Mode</td>\n",
       "      <td>42712</td>\n",
       "      <td>149.536270</td>\n",
       "      <td>13.0</td>\n",
       "      <td>17379.0</td>\n",
       "      <td>9.0</td>\n",
       "      <td>4.0</td>\n",
       "      <td>2.0</td>\n",
       "      <td>MNAR - 0.3</td>\n",
       "    </tr>\n",
       "    <tr>\n",
       "      <th>2064</th>\n",
       "      <td>KNN</td>\n",
       "      <td>42712</td>\n",
       "      <td>149.519166</td>\n",
       "      <td>13.0</td>\n",
       "      <td>17379.0</td>\n",
       "      <td>9.0</td>\n",
       "      <td>4.0</td>\n",
       "      <td>1.0</td>\n",
       "      <td>MNAR - 0.5</td>\n",
       "    </tr>\n",
       "    <tr>\n",
       "      <th>2065</th>\n",
       "      <td>Mean/Mode</td>\n",
       "      <td>42712</td>\n",
       "      <td>149.536270</td>\n",
       "      <td>13.0</td>\n",
       "      <td>17379.0</td>\n",
       "      <td>9.0</td>\n",
       "      <td>4.0</td>\n",
       "      <td>2.0</td>\n",
       "      <td>MNAR - 0.5</td>\n",
       "    </tr>\n",
       "  </tbody>\n",
       "</table>\n",
       "<p>2066 rows × 9 columns</p>\n",
       "</div>"
      ],
      "text/plain": [
       "     Imputation_Method   Task     Imputed  NumberOfFeatures  \\\n",
       "0            Mean/Mode      6    0.725661              17.0   \n",
       "1                  KNN      6    0.726121              17.0   \n",
       "2            Mean/Mode      6    0.725661              17.0   \n",
       "3                  KNN      6    0.726121              17.0   \n",
       "4            Mean/Mode      6    0.725661              17.0   \n",
       "...                ...    ...         ...               ...   \n",
       "2061         Mean/Mode  42712  149.536270              13.0   \n",
       "2062               KNN  42712  149.519166              13.0   \n",
       "2063         Mean/Mode  42712  149.536270              13.0   \n",
       "2064               KNN  42712  149.519166              13.0   \n",
       "2065         Mean/Mode  42712  149.536270              13.0   \n",
       "\n",
       "      NumberOfInstances  NumberOfNumericFeatures  NumberOfCategoricalFeatures  \\\n",
       "0               20000.0                     16.0                          1.0   \n",
       "1               20000.0                     16.0                          1.0   \n",
       "2               20000.0                     16.0                          1.0   \n",
       "3               20000.0                     16.0                          1.0   \n",
       "4               20000.0                     16.0                          1.0   \n",
       "...                 ...                      ...                          ...   \n",
       "2061            17379.0                      9.0                          4.0   \n",
       "2062            17379.0                      9.0                          4.0   \n",
       "2063            17379.0                      9.0                          4.0   \n",
       "2064            17379.0                      9.0                          4.0   \n",
       "2065            17379.0                      9.0                          4.0   \n",
       "\n",
       "      Downstream Performance Rank Data_Constellation  \n",
       "0                             1.0         MAR - 0.01  \n",
       "1                             2.0         MAR - 0.01  \n",
       "2                             1.0          MAR - 0.1  \n",
       "3                             2.0          MAR - 0.1  \n",
       "4                             1.0          MAR - 0.3  \n",
       "...                           ...                ...  \n",
       "2061                          2.0         MNAR - 0.1  \n",
       "2062                          1.0         MNAR - 0.3  \n",
       "2063                          2.0         MNAR - 0.3  \n",
       "2064                          1.0         MNAR - 0.5  \n",
       "2065                          2.0         MNAR - 0.5  \n",
       "\n",
       "[2066 rows x 9 columns]"
      ]
     },
     "execution_count": 22,
     "metadata": {},
     "output_type": "execute_result"
    }
   ],
   "source": [
    "df_heat = downstream_results_rank.copy()\n",
    "df_heat.drop([\"Missing Type\", \"Missing Fraction\", \"Column\", \"result_type\", \"metric\", \"Baseline\", \"Corrupted\", \"Unnamed: 0\", \"Unnamed: 0\", \"name\", \"NumberOfClasses\", \"MajorityClassSize\", \"MinorityClassSize\"], axis=1, inplace=True)\n",
    "df_heat"
   ]
  },
  {
   "cell_type": "code",
   "execution_count": 23,
   "id": "2f5d3f97",
   "metadata": {
    "scrolled": true
   },
   "outputs": [
    {
     "data": {
      "application/vnd.plotly.v1+json": {
       "config": {
        "plotlyServerURL": "https://plot.ly"
       },
       "data": [
        {
         "autocolorscale": false,
         "colorscale": [
          [
           0,
           "rgb(255,245,240)"
          ],
          [
           0.125,
           "rgb(254,224,210)"
          ],
          [
           0.25,
           "rgb(252,187,161)"
          ],
          [
           0.375,
           "rgb(252,146,114)"
          ],
          [
           0.5,
           "rgb(251,106,74)"
          ],
          [
           0.625,
           "rgb(239,59,44)"
          ],
          [
           0.75,
           "rgb(203,24,29)"
          ],
          [
           0.875,
           "rgb(165,15,21)"
          ],
          [
           1,
           "rgb(103,0,13)"
          ]
         ],
         "type": "heatmap",
         "x": [
          "737",
          "737",
          "737",
          "737",
          "40677",
          "40677",
          "40497",
          "40497",
          "871",
          "871",
          "871",
          "871",
          "728",
          "728",
          "728",
          "728",
          "183",
          "183",
          "42636",
          "42636",
          "1558",
          "1558",
          "1558",
          "1558",
          "40983",
          "40983",
          "40983",
          "40983",
          "40498",
          "40498",
          "40701",
          "40701",
          "40701",
          "40701",
          "41146",
          "41146",
          "41146",
          "41146",
          "42192",
          "42192",
          "42192",
          "42192",
          "1489",
          "1489",
          "1489",
          "1489",
          "1526",
          "1526",
          "30",
          "30",
          "4552",
          "4552",
          "42545",
          "42545",
          "287",
          "287",
          "847",
          "847",
          "847",
          "847",
          "803",
          "803",
          "803",
          "803",
          "1496",
          "1507",
          "1496",
          "1496",
          "1507",
          "1507",
          "1507",
          "1496",
          "197",
          "189",
          "189",
          "725",
          "725",
          "725",
          "725",
          "197",
          "923",
          "923",
          "923",
          "923",
          "198",
          "198",
          "375",
          "375",
          "23515",
          "23515",
          "1459",
          "1459",
          "42688",
          "42688",
          "42183",
          "42183",
          "32",
          "32",
          "310",
          "310",
          "310",
          "310",
          "26",
          "26",
          "1471",
          "1471",
          "1471",
          "1046",
          "1046",
          "1046",
          "1046",
          "216",
          "216",
          "42712",
          "42712",
          "1199",
          "1199",
          "1120",
          "1120",
          "1120",
          "41671",
          "41671",
          "6",
          "6",
          "823",
          "823",
          "823",
          "823",
          "218",
          "218",
          "42493",
          "42493",
          "42493",
          "184",
          "184",
          "1481",
          "1481",
          "42477",
          "42477",
          "1193",
          "1193",
          "4135",
          "4135",
          "137",
          "251",
          "137",
          "251",
          "1220",
          "1220",
          "215",
          "215",
          "901",
          "881",
          "881",
          "901",
          "41027",
          "41027",
          "151",
          "151",
          "42225",
          "42225",
          "40685",
          "40685",
          "1200",
          "1200",
          "1213",
          "1213",
          "40922",
          "40922",
          "23395",
          "23395",
          "23517",
          "23517"
         ],
         "y": [
          "Mean/Mode",
          "KNN",
          "Random Forest",
          "VAE",
          "KNN",
          "Mean/Mode",
          "KNN",
          "Mean/Mode",
          "Mean/Mode",
          "KNN",
          "Random Forest",
          "VAE",
          "KNN",
          "Random Forest",
          "VAE",
          "Mean/Mode",
          "KNN",
          "Mean/Mode",
          "Mean/Mode",
          "KNN",
          "KNN",
          "VAE",
          "Random Forest",
          "Mean/Mode",
          "Mean/Mode",
          "VAE",
          "Random Forest",
          "KNN",
          "Mean/Mode",
          "KNN",
          "VAE",
          "Random Forest",
          "Mean/Mode",
          "KNN",
          "Mean/Mode",
          "KNN",
          "Random Forest",
          "VAE",
          "KNN",
          "Mean/Mode",
          "Random Forest",
          "VAE",
          "KNN",
          "Mean/Mode",
          "VAE",
          "Random Forest",
          "KNN",
          "Mean/Mode",
          "Mean/Mode",
          "KNN",
          "KNN",
          "Mean/Mode",
          "Mean/Mode",
          "KNN",
          "Mean/Mode",
          "KNN",
          "VAE",
          "KNN",
          "Random Forest",
          "Mean/Mode",
          "Mean/Mode",
          "VAE",
          "KNN",
          "Random Forest",
          "KNN",
          "Mean/Mode",
          "Random Forest",
          "VAE",
          "Random Forest",
          "VAE",
          "KNN",
          "Mean/Mode",
          "Mean/Mode",
          "KNN",
          "Mean/Mode",
          "Random Forest",
          "KNN",
          "VAE",
          "Mean/Mode",
          "KNN",
          "Random Forest",
          "VAE",
          "Mean/Mode",
          "KNN",
          "Mean/Mode",
          "KNN",
          "KNN",
          "Mean/Mode",
          "Mean/Mode",
          "KNN",
          "KNN",
          "Mean/Mode",
          "Mean/Mode",
          "KNN",
          "Mean/Mode",
          "KNN",
          "KNN",
          "Mean/Mode",
          "VAE",
          "KNN",
          "Mean/Mode",
          "Random Forest",
          "Mean/Mode",
          "KNN",
          "Random Forest",
          "KNN",
          "Mean/Mode",
          "KNN",
          "Mean/Mode",
          "Random Forest",
          "VAE",
          "Mean/Mode",
          "KNN",
          "Mean/Mode",
          "KNN",
          "KNN",
          "Mean/Mode",
          "Mean/Mode",
          "KNN",
          "Random Forest",
          "Mean/Mode",
          "KNN",
          "Mean/Mode",
          "KNN",
          "VAE",
          "Mean/Mode",
          "KNN",
          "Random Forest",
          "Mean/Mode",
          "KNN",
          "Random Forest",
          "Mean/Mode",
          "KNN",
          "Mean/Mode",
          "KNN",
          "Mean/Mode",
          "KNN",
          "Mean/Mode",
          "KNN",
          "KNN",
          "Mean/Mode",
          "KNN",
          "Mean/Mode",
          "KNN",
          "KNN",
          "Mean/Mode",
          "Mean/Mode",
          "KNN",
          "Mean/Mode",
          "KNN",
          "Mean/Mode",
          "Mean/Mode",
          "Mean/Mode",
          "KNN",
          "KNN",
          "KNN",
          "Mean/Mode",
          "Mean/Mode",
          "KNN",
          "KNN",
          "Mean/Mode",
          "Mean/Mode",
          "KNN",
          "Mean/Mode",
          "KNN",
          "KNN",
          "Mean/Mode",
          "KNN",
          "Mean/Mode",
          "KNN",
          "Mean/Mode",
          "KNN",
          "Mean/Mode"
         ],
         "z": [
          0.8278136100568401,
          0.8278136100568401,
          0.8278136100568401,
          0.8278136100568401,
          0.7537138211286069,
          0.7537138211286069,
          0.6989153675148323,
          0.7593078027860637,
          0.512487182486976,
          0.513630363206711,
          0.513630363206711,
          0.513630363206711,
          0.9891594931294444,
          0.9891594931294444,
          0.9891594931294444,
          0.9891594931294444,
          0.1007948204796585,
          0.1001933473353255,
          0.3323375707789415,
          0.3322796446736756,
          0.6317449796753936,
          0.6317449796753936,
          0.6317449796753936,
          0.6317449796753936,
          0.667808602048793,
          0.6672553784152195,
          0.667808602048793,
          0.667808602048793,
          0.1744022228748873,
          0.1740269635639018,
          0.6563899868247693,
          0.6563899868247693,
          0.6563899868247693,
          0.6563899868247693,
          0.9135518497220624,
          0.9135518497220624,
          0.9135518497220624,
          0.9135518497220624,
          0.6651328945580213,
          0.6636787353597335,
          0.6651328945580213,
          0.6640426161586268,
          0.6963989503155196,
          0.6966818891700025,
          0.6966818891700025,
          0.6966818891700025,
          0.8964262251781041,
          0.8975618095085031,
          0.6974384245173985,
          0.6808624480020361,
          0.4296799302694521,
          0.4225264691881841,
          20.76707836312329,
          20.76707753824688,
          0.7463972820691968,
          0.7463923841059797,
          0.8406385013113177,
          0.8406385013113177,
          0.8406385013113177,
          0.8406385013113177,
          0.9423495236386082,
          0.942113781469513,
          0.9418835631051986,
          0.9423495236386082,
          0.7721415778228882,
          0.9810611600222292,
          0.7723727286709292,
          0.7723727286709292,
          0.9810611600222292,
          0.9810611600222292,
          0.9810611600222292,
          0.7723727286709292,
          9.193412356922884,
          0.205047277037723,
          0.2050482538464667,
          0.930702416023045,
          0.930702416023045,
          0.9300779310949774,
          0.9298698691784674,
          9.193406121006044,
          0.9929893847364024,
          0.9929893847364024,
          0.9929893847364024,
          0.9929893847364024,
          0.0014192284192908,
          0.0014192166368504,
          0.9180045206808368,
          0.9177133163541388,
          0.0468705220353062,
          0.0468705225252847,
          0.2899728263795886,
          0.2918608752427385,
          6500.916475282553,
          6500.9164751288745,
          4.530627285721468,
          4.530629921208658,
          0.9320093851599888,
          0.9309305664974702,
          0.7898098052587711,
          0.7898098052587711,
          0.78014742014742,
          0.7898098052587711,
          0.5567671915139761,
          0.5567671915139761,
          0.5515889578625556,
          0.5515889578625556,
          0.5515889578625556,
          0.7910531156720516,
          0.7910531156720516,
          0.7910531156720516,
          0.7904584565280489,
          0.0028356064314222,
          0.0028356645796818,
          149.53627016402848,
          149.51916571120418,
          11.94846765200054,
          11.948477667904058,
          0.7606412742786901,
          0.7606412742786901,
          0.7606412742786901,
          0.2406194774852596,
          0.2406194774852596,
          0.7256613979222889,
          0.7261210145212299,
          0.9661408746313483,
          0.9661408746313483,
          0.9661408746313483,
          0.9661408746313483,
          72725.05411671719,
          72725.0541176552,
          0.627487208179315,
          0.6275647325178465,
          0.627487208179315,
          0.3009209888634342,
          0.3001885893781608,
          0.1800115980199746,
          0.2066294035774994,
          0.6282612757613111,
          0.6282612757613111,
          949.2896875446884,
          949.2896875446884,
          0.6810918462475858,
          0.6814840035451183,
          0.674685434404768,
          0.9773165779461688,
          0.674685434404768,
          0.9773165779461688,
          0.4655750753311728,
          0.4655750753311728,
          2.3784955659192657,
          2.3784953619703706,
          0.8391382512202679,
          0.9903253055588184,
          0.9903253055588184,
          0.8391382512202679,
          0.474722095838102,
          0.474722095838102,
          0.7498203876152564,
          0.7471181705232243,
          4702.286229988564,
          4702.286468900534,
          0.3826628317704124,
          0.3855875223617341,
          4.550350723026352,
          4.550201856275883,
          6.350087861090194,
          6.350095448192074,
          0.7575427283696131,
          0.7575427283696131,
          0.1514115773174291,
          0.15141157715034,
          0.5208465084233364,
          0.5208199605110604
         ],
         "zmin": 0
        }
       ],
       "layout": {
        "template": {
         "data": {
          "bar": [
           {
            "error_x": {
             "color": "#2a3f5f"
            },
            "error_y": {
             "color": "#2a3f5f"
            },
            "marker": {
             "line": {
              "color": "#E5ECF6",
              "width": 0.5
             },
             "pattern": {
              "fillmode": "overlay",
              "size": 10,
              "solidity": 0.2
             }
            },
            "type": "bar"
           }
          ],
          "barpolar": [
           {
            "marker": {
             "line": {
              "color": "#E5ECF6",
              "width": 0.5
             },
             "pattern": {
              "fillmode": "overlay",
              "size": 10,
              "solidity": 0.2
             }
            },
            "type": "barpolar"
           }
          ],
          "carpet": [
           {
            "aaxis": {
             "endlinecolor": "#2a3f5f",
             "gridcolor": "white",
             "linecolor": "white",
             "minorgridcolor": "white",
             "startlinecolor": "#2a3f5f"
            },
            "baxis": {
             "endlinecolor": "#2a3f5f",
             "gridcolor": "white",
             "linecolor": "white",
             "minorgridcolor": "white",
             "startlinecolor": "#2a3f5f"
            },
            "type": "carpet"
           }
          ],
          "choropleth": [
           {
            "colorbar": {
             "outlinewidth": 0,
             "ticks": ""
            },
            "type": "choropleth"
           }
          ],
          "contour": [
           {
            "colorbar": {
             "outlinewidth": 0,
             "ticks": ""
            },
            "colorscale": [
             [
              0,
              "#0d0887"
             ],
             [
              0.1111111111111111,
              "#46039f"
             ],
             [
              0.2222222222222222,
              "#7201a8"
             ],
             [
              0.3333333333333333,
              "#9c179e"
             ],
             [
              0.4444444444444444,
              "#bd3786"
             ],
             [
              0.5555555555555556,
              "#d8576b"
             ],
             [
              0.6666666666666666,
              "#ed7953"
             ],
             [
              0.7777777777777778,
              "#fb9f3a"
             ],
             [
              0.8888888888888888,
              "#fdca26"
             ],
             [
              1,
              "#f0f921"
             ]
            ],
            "type": "contour"
           }
          ],
          "contourcarpet": [
           {
            "colorbar": {
             "outlinewidth": 0,
             "ticks": ""
            },
            "type": "contourcarpet"
           }
          ],
          "heatmap": [
           {
            "colorbar": {
             "outlinewidth": 0,
             "ticks": ""
            },
            "colorscale": [
             [
              0,
              "#0d0887"
             ],
             [
              0.1111111111111111,
              "#46039f"
             ],
             [
              0.2222222222222222,
              "#7201a8"
             ],
             [
              0.3333333333333333,
              "#9c179e"
             ],
             [
              0.4444444444444444,
              "#bd3786"
             ],
             [
              0.5555555555555556,
              "#d8576b"
             ],
             [
              0.6666666666666666,
              "#ed7953"
             ],
             [
              0.7777777777777778,
              "#fb9f3a"
             ],
             [
              0.8888888888888888,
              "#fdca26"
             ],
             [
              1,
              "#f0f921"
             ]
            ],
            "type": "heatmap"
           }
          ],
          "heatmapgl": [
           {
            "colorbar": {
             "outlinewidth": 0,
             "ticks": ""
            },
            "colorscale": [
             [
              0,
              "#0d0887"
             ],
             [
              0.1111111111111111,
              "#46039f"
             ],
             [
              0.2222222222222222,
              "#7201a8"
             ],
             [
              0.3333333333333333,
              "#9c179e"
             ],
             [
              0.4444444444444444,
              "#bd3786"
             ],
             [
              0.5555555555555556,
              "#d8576b"
             ],
             [
              0.6666666666666666,
              "#ed7953"
             ],
             [
              0.7777777777777778,
              "#fb9f3a"
             ],
             [
              0.8888888888888888,
              "#fdca26"
             ],
             [
              1,
              "#f0f921"
             ]
            ],
            "type": "heatmapgl"
           }
          ],
          "histogram": [
           {
            "marker": {
             "pattern": {
              "fillmode": "overlay",
              "size": 10,
              "solidity": 0.2
             }
            },
            "type": "histogram"
           }
          ],
          "histogram2d": [
           {
            "colorbar": {
             "outlinewidth": 0,
             "ticks": ""
            },
            "colorscale": [
             [
              0,
              "#0d0887"
             ],
             [
              0.1111111111111111,
              "#46039f"
             ],
             [
              0.2222222222222222,
              "#7201a8"
             ],
             [
              0.3333333333333333,
              "#9c179e"
             ],
             [
              0.4444444444444444,
              "#bd3786"
             ],
             [
              0.5555555555555556,
              "#d8576b"
             ],
             [
              0.6666666666666666,
              "#ed7953"
             ],
             [
              0.7777777777777778,
              "#fb9f3a"
             ],
             [
              0.8888888888888888,
              "#fdca26"
             ],
             [
              1,
              "#f0f921"
             ]
            ],
            "type": "histogram2d"
           }
          ],
          "histogram2dcontour": [
           {
            "colorbar": {
             "outlinewidth": 0,
             "ticks": ""
            },
            "colorscale": [
             [
              0,
              "#0d0887"
             ],
             [
              0.1111111111111111,
              "#46039f"
             ],
             [
              0.2222222222222222,
              "#7201a8"
             ],
             [
              0.3333333333333333,
              "#9c179e"
             ],
             [
              0.4444444444444444,
              "#bd3786"
             ],
             [
              0.5555555555555556,
              "#d8576b"
             ],
             [
              0.6666666666666666,
              "#ed7953"
             ],
             [
              0.7777777777777778,
              "#fb9f3a"
             ],
             [
              0.8888888888888888,
              "#fdca26"
             ],
             [
              1,
              "#f0f921"
             ]
            ],
            "type": "histogram2dcontour"
           }
          ],
          "mesh3d": [
           {
            "colorbar": {
             "outlinewidth": 0,
             "ticks": ""
            },
            "type": "mesh3d"
           }
          ],
          "parcoords": [
           {
            "line": {
             "colorbar": {
              "outlinewidth": 0,
              "ticks": ""
             }
            },
            "type": "parcoords"
           }
          ],
          "pie": [
           {
            "automargin": true,
            "type": "pie"
           }
          ],
          "scatter": [
           {
            "fillpattern": {
             "fillmode": "overlay",
             "size": 10,
             "solidity": 0.2
            },
            "type": "scatter"
           }
          ],
          "scatter3d": [
           {
            "line": {
             "colorbar": {
              "outlinewidth": 0,
              "ticks": ""
             }
            },
            "marker": {
             "colorbar": {
              "outlinewidth": 0,
              "ticks": ""
             }
            },
            "type": "scatter3d"
           }
          ],
          "scattercarpet": [
           {
            "marker": {
             "colorbar": {
              "outlinewidth": 0,
              "ticks": ""
             }
            },
            "type": "scattercarpet"
           }
          ],
          "scattergeo": [
           {
            "marker": {
             "colorbar": {
              "outlinewidth": 0,
              "ticks": ""
             }
            },
            "type": "scattergeo"
           }
          ],
          "scattergl": [
           {
            "marker": {
             "colorbar": {
              "outlinewidth": 0,
              "ticks": ""
             }
            },
            "type": "scattergl"
           }
          ],
          "scattermapbox": [
           {
            "marker": {
             "colorbar": {
              "outlinewidth": 0,
              "ticks": ""
             }
            },
            "type": "scattermapbox"
           }
          ],
          "scatterpolar": [
           {
            "marker": {
             "colorbar": {
              "outlinewidth": 0,
              "ticks": ""
             }
            },
            "type": "scatterpolar"
           }
          ],
          "scatterpolargl": [
           {
            "marker": {
             "colorbar": {
              "outlinewidth": 0,
              "ticks": ""
             }
            },
            "type": "scatterpolargl"
           }
          ],
          "scatterternary": [
           {
            "marker": {
             "colorbar": {
              "outlinewidth": 0,
              "ticks": ""
             }
            },
            "type": "scatterternary"
           }
          ],
          "surface": [
           {
            "colorbar": {
             "outlinewidth": 0,
             "ticks": ""
            },
            "colorscale": [
             [
              0,
              "#0d0887"
             ],
             [
              0.1111111111111111,
              "#46039f"
             ],
             [
              0.2222222222222222,
              "#7201a8"
             ],
             [
              0.3333333333333333,
              "#9c179e"
             ],
             [
              0.4444444444444444,
              "#bd3786"
             ],
             [
              0.5555555555555556,
              "#d8576b"
             ],
             [
              0.6666666666666666,
              "#ed7953"
             ],
             [
              0.7777777777777778,
              "#fb9f3a"
             ],
             [
              0.8888888888888888,
              "#fdca26"
             ],
             [
              1,
              "#f0f921"
             ]
            ],
            "type": "surface"
           }
          ],
          "table": [
           {
            "cells": {
             "fill": {
              "color": "#EBF0F8"
             },
             "line": {
              "color": "white"
             }
            },
            "header": {
             "fill": {
              "color": "#C8D4E3"
             },
             "line": {
              "color": "white"
             }
            },
            "type": "table"
           }
          ]
         },
         "layout": {
          "annotationdefaults": {
           "arrowcolor": "#2a3f5f",
           "arrowhead": 0,
           "arrowwidth": 1
          },
          "autotypenumbers": "strict",
          "coloraxis": {
           "colorbar": {
            "outlinewidth": 0,
            "ticks": ""
           }
          },
          "colorscale": {
           "diverging": [
            [
             0,
             "#8e0152"
            ],
            [
             0.1,
             "#c51b7d"
            ],
            [
             0.2,
             "#de77ae"
            ],
            [
             0.3,
             "#f1b6da"
            ],
            [
             0.4,
             "#fde0ef"
            ],
            [
             0.5,
             "#f7f7f7"
            ],
            [
             0.6,
             "#e6f5d0"
            ],
            [
             0.7,
             "#b8e186"
            ],
            [
             0.8,
             "#7fbc41"
            ],
            [
             0.9,
             "#4d9221"
            ],
            [
             1,
             "#276419"
            ]
           ],
           "sequential": [
            [
             0,
             "#0d0887"
            ],
            [
             0.1111111111111111,
             "#46039f"
            ],
            [
             0.2222222222222222,
             "#7201a8"
            ],
            [
             0.3333333333333333,
             "#9c179e"
            ],
            [
             0.4444444444444444,
             "#bd3786"
            ],
            [
             0.5555555555555556,
             "#d8576b"
            ],
            [
             0.6666666666666666,
             "#ed7953"
            ],
            [
             0.7777777777777778,
             "#fb9f3a"
            ],
            [
             0.8888888888888888,
             "#fdca26"
            ],
            [
             1,
             "#f0f921"
            ]
           ],
           "sequentialminus": [
            [
             0,
             "#0d0887"
            ],
            [
             0.1111111111111111,
             "#46039f"
            ],
            [
             0.2222222222222222,
             "#7201a8"
            ],
            [
             0.3333333333333333,
             "#9c179e"
            ],
            [
             0.4444444444444444,
             "#bd3786"
            ],
            [
             0.5555555555555556,
             "#d8576b"
            ],
            [
             0.6666666666666666,
             "#ed7953"
            ],
            [
             0.7777777777777778,
             "#fb9f3a"
            ],
            [
             0.8888888888888888,
             "#fdca26"
            ],
            [
             1,
             "#f0f921"
            ]
           ]
          },
          "colorway": [
           "#636efa",
           "#EF553B",
           "#00cc96",
           "#ab63fa",
           "#FFA15A",
           "#19d3f3",
           "#FF6692",
           "#B6E880",
           "#FF97FF",
           "#FECB52"
          ],
          "font": {
           "color": "#2a3f5f"
          },
          "geo": {
           "bgcolor": "white",
           "lakecolor": "white",
           "landcolor": "#E5ECF6",
           "showlakes": true,
           "showland": true,
           "subunitcolor": "white"
          },
          "hoverlabel": {
           "align": "left"
          },
          "hovermode": "closest",
          "mapbox": {
           "style": "light"
          },
          "paper_bgcolor": "white",
          "plot_bgcolor": "#E5ECF6",
          "polar": {
           "angularaxis": {
            "gridcolor": "white",
            "linecolor": "white",
            "ticks": ""
           },
           "bgcolor": "#E5ECF6",
           "radialaxis": {
            "gridcolor": "white",
            "linecolor": "white",
            "ticks": ""
           }
          },
          "scene": {
           "xaxis": {
            "backgroundcolor": "#E5ECF6",
            "gridcolor": "white",
            "gridwidth": 2,
            "linecolor": "white",
            "showbackground": true,
            "ticks": "",
            "zerolinecolor": "white"
           },
           "yaxis": {
            "backgroundcolor": "#E5ECF6",
            "gridcolor": "white",
            "gridwidth": 2,
            "linecolor": "white",
            "showbackground": true,
            "ticks": "",
            "zerolinecolor": "white"
           },
           "zaxis": {
            "backgroundcolor": "#E5ECF6",
            "gridcolor": "white",
            "gridwidth": 2,
            "linecolor": "white",
            "showbackground": true,
            "ticks": "",
            "zerolinecolor": "white"
           }
          },
          "shapedefaults": {
           "line": {
            "color": "#2a3f5f"
           }
          },
          "ternary": {
           "aaxis": {
            "gridcolor": "white",
            "linecolor": "white",
            "ticks": ""
           },
           "baxis": {
            "gridcolor": "white",
            "linecolor": "white",
            "ticks": ""
           },
           "bgcolor": "#E5ECF6",
           "caxis": {
            "gridcolor": "white",
            "linecolor": "white",
            "ticks": ""
           }
          },
          "title": {
           "x": 0.05
          },
          "xaxis": {
           "automargin": true,
           "gridcolor": "white",
           "linecolor": "white",
           "ticks": "",
           "title": {
            "standoff": 15
           },
           "zerolinecolor": "white",
           "zerolinewidth": 2
          },
          "yaxis": {
           "automargin": true,
           "gridcolor": "white",
           "linecolor": "white",
           "ticks": "",
           "title": {
            "standoff": 15
           },
           "zerolinecolor": "white",
           "zerolinewidth": 2
          }
         }
        },
        "title": {
         "text": "MAR - 0.01"
        },
        "xaxis": {
         "nticks": 36
        }
       }
      }
     },
     "metadata": {},
     "output_type": "display_data"
    },
    {
     "data": {
      "application/vnd.plotly.v1+json": {
       "config": {
        "plotlyServerURL": "https://plot.ly"
       },
       "data": [
        {
         "autocolorscale": false,
         "colorscale": [
          [
           0,
           "rgb(255,245,240)"
          ],
          [
           0.125,
           "rgb(254,224,210)"
          ],
          [
           0.25,
           "rgb(252,187,161)"
          ],
          [
           0.375,
           "rgb(252,146,114)"
          ],
          [
           0.5,
           "rgb(251,106,74)"
          ],
          [
           0.625,
           "rgb(239,59,44)"
          ],
          [
           0.75,
           "rgb(203,24,29)"
          ],
          [
           0.875,
           "rgb(165,15,21)"
          ],
          [
           1,
           "rgb(103,0,13)"
          ]
         ],
         "type": "heatmap",
         "x": [
          "737",
          "737",
          "737",
          "737",
          "40677",
          "40677",
          "40497",
          "40497",
          "871",
          "871",
          "871",
          "871",
          "728",
          "728",
          "728",
          "728",
          "183",
          "183",
          "42636",
          "42636",
          "1558",
          "1558",
          "1558",
          "1558",
          "40983",
          "40983",
          "40983",
          "40983",
          "40498",
          "40498",
          "40701",
          "40701",
          "40701",
          "40701",
          "41146",
          "41146",
          "41146",
          "41146",
          "42192",
          "42192",
          "42192",
          "42192",
          "1489",
          "1489",
          "1489",
          "1489",
          "1526",
          "1526",
          "30",
          "30",
          "4552",
          "4552",
          "42545",
          "42545",
          "287",
          "287",
          "847",
          "847",
          "847",
          "847",
          "803",
          "803",
          "803",
          "803",
          "1496",
          "1507",
          "1496",
          "1496",
          "1507",
          "1507",
          "1507",
          "1496",
          "197",
          "189",
          "189",
          "725",
          "725",
          "725",
          "725",
          "197",
          "923",
          "923",
          "923",
          "923",
          "198",
          "198",
          "375",
          "375",
          "23515",
          "23515",
          "1459",
          "1459",
          "42688",
          "42688",
          "42183",
          "42183",
          "32",
          "32",
          "310",
          "310",
          "310",
          "310",
          "26",
          "26",
          "1471",
          "1471",
          "1471",
          "1046",
          "1046",
          "1046",
          "1046",
          "216",
          "216",
          "42712",
          "42712",
          "1199",
          "1199",
          "1120",
          "1120",
          "1120",
          "41671",
          "41671",
          "6",
          "6",
          "823",
          "823",
          "823",
          "823",
          "218",
          "218",
          "42493",
          "42493",
          "42493",
          "184",
          "184",
          "1481",
          "1481",
          "42477",
          "42477",
          "1193",
          "1193",
          "4135",
          "4135",
          "137",
          "251",
          "137",
          "251",
          "1220",
          "1220",
          "215",
          "215",
          "901",
          "881",
          "881",
          "901",
          "41027",
          "41027",
          "151",
          "151",
          "42225",
          "42225",
          "40685",
          "40685",
          "1200",
          "1200",
          "1213",
          "1213",
          "40922",
          "40922",
          "23395",
          "23395",
          "23517",
          "23517"
         ],
         "y": [
          "Mean/Mode",
          "KNN",
          "Random Forest",
          "VAE",
          "KNN",
          "Mean/Mode",
          "KNN",
          "Mean/Mode",
          "Mean/Mode",
          "VAE",
          "KNN",
          "Random Forest",
          "KNN",
          "Random Forest",
          "VAE",
          "Mean/Mode",
          "KNN",
          "Mean/Mode",
          "Mean/Mode",
          "KNN",
          "KNN",
          "VAE",
          "Random Forest",
          "Mean/Mode",
          "Mean/Mode",
          "VAE",
          "Random Forest",
          "KNN",
          "Mean/Mode",
          "KNN",
          "VAE",
          "Random Forest",
          "Mean/Mode",
          "KNN",
          "Mean/Mode",
          "KNN",
          "Random Forest",
          "VAE",
          "KNN",
          "Mean/Mode",
          "Random Forest",
          "VAE",
          "KNN",
          "Mean/Mode",
          "VAE",
          "Random Forest",
          "KNN",
          "Mean/Mode",
          "Mean/Mode",
          "KNN",
          "KNN",
          "Mean/Mode",
          "Mean/Mode",
          "KNN",
          "Mean/Mode",
          "KNN",
          "VAE",
          "KNN",
          "Random Forest",
          "Mean/Mode",
          "Mean/Mode",
          "KNN",
          "VAE",
          "Random Forest",
          "KNN",
          "Mean/Mode",
          "Random Forest",
          "VAE",
          "Random Forest",
          "VAE",
          "KNN",
          "Mean/Mode",
          "Mean/Mode",
          "KNN",
          "Mean/Mode",
          "VAE",
          "Random Forest",
          "KNN",
          "Mean/Mode",
          "KNN",
          "Random Forest",
          "VAE",
          "Mean/Mode",
          "KNN",
          "Mean/Mode",
          "KNN",
          "KNN",
          "Mean/Mode",
          "Mean/Mode",
          "KNN",
          "KNN",
          "Mean/Mode",
          "Mean/Mode",
          "KNN",
          "Mean/Mode",
          "KNN",
          "KNN",
          "Mean/Mode",
          "Random Forest",
          "VAE",
          "Mean/Mode",
          "KNN",
          "Mean/Mode",
          "KNN",
          "Random Forest",
          "KNN",
          "Mean/Mode",
          "KNN",
          "Mean/Mode",
          "Random Forest",
          "VAE",
          "Mean/Mode",
          "KNN",
          "Mean/Mode",
          "KNN",
          "KNN",
          "Mean/Mode",
          "Mean/Mode",
          "KNN",
          "Random Forest",
          "Mean/Mode",
          "KNN",
          "Mean/Mode",
          "KNN",
          "VAE",
          "Mean/Mode",
          "KNN",
          "Random Forest",
          "Mean/Mode",
          "KNN",
          "Random Forest",
          "Mean/Mode",
          "KNN",
          "Mean/Mode",
          "KNN",
          "Mean/Mode",
          "KNN",
          "Mean/Mode",
          "KNN",
          "KNN",
          "Mean/Mode",
          "KNN",
          "Mean/Mode",
          "KNN",
          "KNN",
          "Mean/Mode",
          "Mean/Mode",
          "KNN",
          "Mean/Mode",
          "KNN",
          "Mean/Mode",
          "Mean/Mode",
          "Mean/Mode",
          "KNN",
          "KNN",
          "KNN",
          "Mean/Mode",
          "Mean/Mode",
          "KNN",
          "KNN",
          "Mean/Mode",
          "Mean/Mode",
          "KNN",
          "Mean/Mode",
          "KNN",
          "KNN",
          "Mean/Mode",
          "KNN",
          "Mean/Mode",
          "KNN",
          "Mean/Mode",
          "KNN",
          "Mean/Mode"
         ],
         "z": [
          0.8278136100568401,
          0.8278136100568401,
          0.8278136100568401,
          0.8278136100568401,
          0.7537138211286069,
          0.7537138211286069,
          0.6989153675148323,
          0.7593078027860637,
          0.512487182486976,
          0.512487182486976,
          0.513630363206711,
          0.513630363206711,
          0.9891594931294444,
          0.9891594931294444,
          0.9891594931294444,
          0.9891594931294444,
          0.1007948204796585,
          0.1001933473353255,
          0.3323375707789415,
          0.3322796446736756,
          0.6317449796753936,
          0.6317449796753936,
          0.6317449796753936,
          0.6317449796753936,
          0.667808602048793,
          0.6667084678205399,
          0.667808602048793,
          0.667808602048793,
          0.1744022228748873,
          0.1740269635639018,
          0.6563899868247693,
          0.6563899868247693,
          0.6563899868247693,
          0.6563899868247693,
          0.9135518497220624,
          0.9135518497220624,
          0.9135518497220624,
          0.9135518497220624,
          0.6651328945580213,
          0.6636787353597335,
          0.6651328945580213,
          0.6640426161586268,
          0.6963989503155196,
          0.6966818891700025,
          0.6966818891700025,
          0.6966818891700025,
          0.8964262251781041,
          0.8975618095085031,
          0.6974384245173985,
          0.6808624480020361,
          0.4296799302694521,
          0.4225264691881841,
          20.76707836312329,
          20.76707753824688,
          0.7463972820691968,
          0.7463923841059797,
          0.8406385013113177,
          0.8406385013113177,
          0.8406385013113177,
          0.8406385013113177,
          0.9423495236386082,
          0.9418835631051986,
          0.941880801202808,
          0.9423495236386082,
          0.7721415778228882,
          0.9810611600222292,
          0.7723727286709292,
          0.7723727286709292,
          0.9810611600222292,
          0.9810611600222292,
          0.9810611600222292,
          0.7723727286709292,
          9.193412356922884,
          0.205047277037723,
          0.2050482538464667,
          0.930702416023045,
          0.930702416023045,
          0.930702416023045,
          0.9298698691784674,
          9.193406121006044,
          0.9929893847364024,
          0.9929893847364024,
          0.9929893847364024,
          0.9929893847364024,
          0.0014192284192908,
          0.0014192166368504,
          0.9180045206808368,
          0.9177133163541388,
          0.0468705220353062,
          0.0468705225252847,
          0.2899728263795886,
          0.2918608752427385,
          6500.916475282553,
          6500.9164751288745,
          4.530627285721468,
          4.530629921208658,
          0.9320093851599888,
          0.9309305664974702,
          0.7898098052587711,
          0.78014742014742,
          0.78014742014742,
          0.7898098052587711,
          0.5567671915139761,
          0.5567671915139761,
          0.5515889578625556,
          0.5515889578625556,
          0.5515889578625556,
          0.7910531156720516,
          0.7910531156720516,
          0.7910531156720516,
          0.7904584565280489,
          0.0028356064314222,
          0.0028356645796818,
          149.53627016402848,
          149.51916571120418,
          11.94846765200054,
          11.948477667904058,
          0.7606412742786901,
          0.7606412742786901,
          0.7606412742786901,
          0.2406194774852596,
          0.2406194774852596,
          0.7256613979222889,
          0.7261210145212299,
          0.9661408746313483,
          0.9661408746313483,
          0.9661408746313483,
          0.9661408746313483,
          72725.05411671719,
          72725.0541176552,
          0.627487208179315,
          0.6275647325178465,
          0.627487208179315,
          0.3009209888634342,
          0.3001885893781608,
          0.1800115980199746,
          0.2066294035774994,
          0.6282612757613111,
          0.6282612757613111,
          949.2896875446884,
          949.2896875446884,
          0.6810918462475858,
          0.6814840035451183,
          0.674685434404768,
          0.9773165779461688,
          0.674685434404768,
          0.9773165779461688,
          0.4655750753311728,
          0.4655750753311728,
          2.3784955659192657,
          2.3784953619703706,
          0.8391382512202679,
          0.9903253055588184,
          0.9903253055588184,
          0.8391382512202679,
          0.474722095838102,
          0.474722095838102,
          0.7498203876152564,
          0.7471181705232243,
          4702.286229988564,
          4702.286468900534,
          0.3826628317704124,
          0.3855875223617341,
          4.550350723026352,
          4.550201856275883,
          6.350087861090194,
          6.350095448192074,
          0.7575427283696131,
          0.7575427283696131,
          0.1514115773174291,
          0.15141157715034,
          0.5208465084233364,
          0.5208199605110604
         ],
         "zmin": 0
        }
       ],
       "layout": {
        "template": {
         "data": {
          "bar": [
           {
            "error_x": {
             "color": "#2a3f5f"
            },
            "error_y": {
             "color": "#2a3f5f"
            },
            "marker": {
             "line": {
              "color": "#E5ECF6",
              "width": 0.5
             },
             "pattern": {
              "fillmode": "overlay",
              "size": 10,
              "solidity": 0.2
             }
            },
            "type": "bar"
           }
          ],
          "barpolar": [
           {
            "marker": {
             "line": {
              "color": "#E5ECF6",
              "width": 0.5
             },
             "pattern": {
              "fillmode": "overlay",
              "size": 10,
              "solidity": 0.2
             }
            },
            "type": "barpolar"
           }
          ],
          "carpet": [
           {
            "aaxis": {
             "endlinecolor": "#2a3f5f",
             "gridcolor": "white",
             "linecolor": "white",
             "minorgridcolor": "white",
             "startlinecolor": "#2a3f5f"
            },
            "baxis": {
             "endlinecolor": "#2a3f5f",
             "gridcolor": "white",
             "linecolor": "white",
             "minorgridcolor": "white",
             "startlinecolor": "#2a3f5f"
            },
            "type": "carpet"
           }
          ],
          "choropleth": [
           {
            "colorbar": {
             "outlinewidth": 0,
             "ticks": ""
            },
            "type": "choropleth"
           }
          ],
          "contour": [
           {
            "colorbar": {
             "outlinewidth": 0,
             "ticks": ""
            },
            "colorscale": [
             [
              0,
              "#0d0887"
             ],
             [
              0.1111111111111111,
              "#46039f"
             ],
             [
              0.2222222222222222,
              "#7201a8"
             ],
             [
              0.3333333333333333,
              "#9c179e"
             ],
             [
              0.4444444444444444,
              "#bd3786"
             ],
             [
              0.5555555555555556,
              "#d8576b"
             ],
             [
              0.6666666666666666,
              "#ed7953"
             ],
             [
              0.7777777777777778,
              "#fb9f3a"
             ],
             [
              0.8888888888888888,
              "#fdca26"
             ],
             [
              1,
              "#f0f921"
             ]
            ],
            "type": "contour"
           }
          ],
          "contourcarpet": [
           {
            "colorbar": {
             "outlinewidth": 0,
             "ticks": ""
            },
            "type": "contourcarpet"
           }
          ],
          "heatmap": [
           {
            "colorbar": {
             "outlinewidth": 0,
             "ticks": ""
            },
            "colorscale": [
             [
              0,
              "#0d0887"
             ],
             [
              0.1111111111111111,
              "#46039f"
             ],
             [
              0.2222222222222222,
              "#7201a8"
             ],
             [
              0.3333333333333333,
              "#9c179e"
             ],
             [
              0.4444444444444444,
              "#bd3786"
             ],
             [
              0.5555555555555556,
              "#d8576b"
             ],
             [
              0.6666666666666666,
              "#ed7953"
             ],
             [
              0.7777777777777778,
              "#fb9f3a"
             ],
             [
              0.8888888888888888,
              "#fdca26"
             ],
             [
              1,
              "#f0f921"
             ]
            ],
            "type": "heatmap"
           }
          ],
          "heatmapgl": [
           {
            "colorbar": {
             "outlinewidth": 0,
             "ticks": ""
            },
            "colorscale": [
             [
              0,
              "#0d0887"
             ],
             [
              0.1111111111111111,
              "#46039f"
             ],
             [
              0.2222222222222222,
              "#7201a8"
             ],
             [
              0.3333333333333333,
              "#9c179e"
             ],
             [
              0.4444444444444444,
              "#bd3786"
             ],
             [
              0.5555555555555556,
              "#d8576b"
             ],
             [
              0.6666666666666666,
              "#ed7953"
             ],
             [
              0.7777777777777778,
              "#fb9f3a"
             ],
             [
              0.8888888888888888,
              "#fdca26"
             ],
             [
              1,
              "#f0f921"
             ]
            ],
            "type": "heatmapgl"
           }
          ],
          "histogram": [
           {
            "marker": {
             "pattern": {
              "fillmode": "overlay",
              "size": 10,
              "solidity": 0.2
             }
            },
            "type": "histogram"
           }
          ],
          "histogram2d": [
           {
            "colorbar": {
             "outlinewidth": 0,
             "ticks": ""
            },
            "colorscale": [
             [
              0,
              "#0d0887"
             ],
             [
              0.1111111111111111,
              "#46039f"
             ],
             [
              0.2222222222222222,
              "#7201a8"
             ],
             [
              0.3333333333333333,
              "#9c179e"
             ],
             [
              0.4444444444444444,
              "#bd3786"
             ],
             [
              0.5555555555555556,
              "#d8576b"
             ],
             [
              0.6666666666666666,
              "#ed7953"
             ],
             [
              0.7777777777777778,
              "#fb9f3a"
             ],
             [
              0.8888888888888888,
              "#fdca26"
             ],
             [
              1,
              "#f0f921"
             ]
            ],
            "type": "histogram2d"
           }
          ],
          "histogram2dcontour": [
           {
            "colorbar": {
             "outlinewidth": 0,
             "ticks": ""
            },
            "colorscale": [
             [
              0,
              "#0d0887"
             ],
             [
              0.1111111111111111,
              "#46039f"
             ],
             [
              0.2222222222222222,
              "#7201a8"
             ],
             [
              0.3333333333333333,
              "#9c179e"
             ],
             [
              0.4444444444444444,
              "#bd3786"
             ],
             [
              0.5555555555555556,
              "#d8576b"
             ],
             [
              0.6666666666666666,
              "#ed7953"
             ],
             [
              0.7777777777777778,
              "#fb9f3a"
             ],
             [
              0.8888888888888888,
              "#fdca26"
             ],
             [
              1,
              "#f0f921"
             ]
            ],
            "type": "histogram2dcontour"
           }
          ],
          "mesh3d": [
           {
            "colorbar": {
             "outlinewidth": 0,
             "ticks": ""
            },
            "type": "mesh3d"
           }
          ],
          "parcoords": [
           {
            "line": {
             "colorbar": {
              "outlinewidth": 0,
              "ticks": ""
             }
            },
            "type": "parcoords"
           }
          ],
          "pie": [
           {
            "automargin": true,
            "type": "pie"
           }
          ],
          "scatter": [
           {
            "fillpattern": {
             "fillmode": "overlay",
             "size": 10,
             "solidity": 0.2
            },
            "type": "scatter"
           }
          ],
          "scatter3d": [
           {
            "line": {
             "colorbar": {
              "outlinewidth": 0,
              "ticks": ""
             }
            },
            "marker": {
             "colorbar": {
              "outlinewidth": 0,
              "ticks": ""
             }
            },
            "type": "scatter3d"
           }
          ],
          "scattercarpet": [
           {
            "marker": {
             "colorbar": {
              "outlinewidth": 0,
              "ticks": ""
             }
            },
            "type": "scattercarpet"
           }
          ],
          "scattergeo": [
           {
            "marker": {
             "colorbar": {
              "outlinewidth": 0,
              "ticks": ""
             }
            },
            "type": "scattergeo"
           }
          ],
          "scattergl": [
           {
            "marker": {
             "colorbar": {
              "outlinewidth": 0,
              "ticks": ""
             }
            },
            "type": "scattergl"
           }
          ],
          "scattermapbox": [
           {
            "marker": {
             "colorbar": {
              "outlinewidth": 0,
              "ticks": ""
             }
            },
            "type": "scattermapbox"
           }
          ],
          "scatterpolar": [
           {
            "marker": {
             "colorbar": {
              "outlinewidth": 0,
              "ticks": ""
             }
            },
            "type": "scatterpolar"
           }
          ],
          "scatterpolargl": [
           {
            "marker": {
             "colorbar": {
              "outlinewidth": 0,
              "ticks": ""
             }
            },
            "type": "scatterpolargl"
           }
          ],
          "scatterternary": [
           {
            "marker": {
             "colorbar": {
              "outlinewidth": 0,
              "ticks": ""
             }
            },
            "type": "scatterternary"
           }
          ],
          "surface": [
           {
            "colorbar": {
             "outlinewidth": 0,
             "ticks": ""
            },
            "colorscale": [
             [
              0,
              "#0d0887"
             ],
             [
              0.1111111111111111,
              "#46039f"
             ],
             [
              0.2222222222222222,
              "#7201a8"
             ],
             [
              0.3333333333333333,
              "#9c179e"
             ],
             [
              0.4444444444444444,
              "#bd3786"
             ],
             [
              0.5555555555555556,
              "#d8576b"
             ],
             [
              0.6666666666666666,
              "#ed7953"
             ],
             [
              0.7777777777777778,
              "#fb9f3a"
             ],
             [
              0.8888888888888888,
              "#fdca26"
             ],
             [
              1,
              "#f0f921"
             ]
            ],
            "type": "surface"
           }
          ],
          "table": [
           {
            "cells": {
             "fill": {
              "color": "#EBF0F8"
             },
             "line": {
              "color": "white"
             }
            },
            "header": {
             "fill": {
              "color": "#C8D4E3"
             },
             "line": {
              "color": "white"
             }
            },
            "type": "table"
           }
          ]
         },
         "layout": {
          "annotationdefaults": {
           "arrowcolor": "#2a3f5f",
           "arrowhead": 0,
           "arrowwidth": 1
          },
          "autotypenumbers": "strict",
          "coloraxis": {
           "colorbar": {
            "outlinewidth": 0,
            "ticks": ""
           }
          },
          "colorscale": {
           "diverging": [
            [
             0,
             "#8e0152"
            ],
            [
             0.1,
             "#c51b7d"
            ],
            [
             0.2,
             "#de77ae"
            ],
            [
             0.3,
             "#f1b6da"
            ],
            [
             0.4,
             "#fde0ef"
            ],
            [
             0.5,
             "#f7f7f7"
            ],
            [
             0.6,
             "#e6f5d0"
            ],
            [
             0.7,
             "#b8e186"
            ],
            [
             0.8,
             "#7fbc41"
            ],
            [
             0.9,
             "#4d9221"
            ],
            [
             1,
             "#276419"
            ]
           ],
           "sequential": [
            [
             0,
             "#0d0887"
            ],
            [
             0.1111111111111111,
             "#46039f"
            ],
            [
             0.2222222222222222,
             "#7201a8"
            ],
            [
             0.3333333333333333,
             "#9c179e"
            ],
            [
             0.4444444444444444,
             "#bd3786"
            ],
            [
             0.5555555555555556,
             "#d8576b"
            ],
            [
             0.6666666666666666,
             "#ed7953"
            ],
            [
             0.7777777777777778,
             "#fb9f3a"
            ],
            [
             0.8888888888888888,
             "#fdca26"
            ],
            [
             1,
             "#f0f921"
            ]
           ],
           "sequentialminus": [
            [
             0,
             "#0d0887"
            ],
            [
             0.1111111111111111,
             "#46039f"
            ],
            [
             0.2222222222222222,
             "#7201a8"
            ],
            [
             0.3333333333333333,
             "#9c179e"
            ],
            [
             0.4444444444444444,
             "#bd3786"
            ],
            [
             0.5555555555555556,
             "#d8576b"
            ],
            [
             0.6666666666666666,
             "#ed7953"
            ],
            [
             0.7777777777777778,
             "#fb9f3a"
            ],
            [
             0.8888888888888888,
             "#fdca26"
            ],
            [
             1,
             "#f0f921"
            ]
           ]
          },
          "colorway": [
           "#636efa",
           "#EF553B",
           "#00cc96",
           "#ab63fa",
           "#FFA15A",
           "#19d3f3",
           "#FF6692",
           "#B6E880",
           "#FF97FF",
           "#FECB52"
          ],
          "font": {
           "color": "#2a3f5f"
          },
          "geo": {
           "bgcolor": "white",
           "lakecolor": "white",
           "landcolor": "#E5ECF6",
           "showlakes": true,
           "showland": true,
           "subunitcolor": "white"
          },
          "hoverlabel": {
           "align": "left"
          },
          "hovermode": "closest",
          "mapbox": {
           "style": "light"
          },
          "paper_bgcolor": "white",
          "plot_bgcolor": "#E5ECF6",
          "polar": {
           "angularaxis": {
            "gridcolor": "white",
            "linecolor": "white",
            "ticks": ""
           },
           "bgcolor": "#E5ECF6",
           "radialaxis": {
            "gridcolor": "white",
            "linecolor": "white",
            "ticks": ""
           }
          },
          "scene": {
           "xaxis": {
            "backgroundcolor": "#E5ECF6",
            "gridcolor": "white",
            "gridwidth": 2,
            "linecolor": "white",
            "showbackground": true,
            "ticks": "",
            "zerolinecolor": "white"
           },
           "yaxis": {
            "backgroundcolor": "#E5ECF6",
            "gridcolor": "white",
            "gridwidth": 2,
            "linecolor": "white",
            "showbackground": true,
            "ticks": "",
            "zerolinecolor": "white"
           },
           "zaxis": {
            "backgroundcolor": "#E5ECF6",
            "gridcolor": "white",
            "gridwidth": 2,
            "linecolor": "white",
            "showbackground": true,
            "ticks": "",
            "zerolinecolor": "white"
           }
          },
          "shapedefaults": {
           "line": {
            "color": "#2a3f5f"
           }
          },
          "ternary": {
           "aaxis": {
            "gridcolor": "white",
            "linecolor": "white",
            "ticks": ""
           },
           "baxis": {
            "gridcolor": "white",
            "linecolor": "white",
            "ticks": ""
           },
           "bgcolor": "#E5ECF6",
           "caxis": {
            "gridcolor": "white",
            "linecolor": "white",
            "ticks": ""
           }
          },
          "title": {
           "x": 0.05
          },
          "xaxis": {
           "automargin": true,
           "gridcolor": "white",
           "linecolor": "white",
           "ticks": "",
           "title": {
            "standoff": 15
           },
           "zerolinecolor": "white",
           "zerolinewidth": 2
          },
          "yaxis": {
           "automargin": true,
           "gridcolor": "white",
           "linecolor": "white",
           "ticks": "",
           "title": {
            "standoff": 15
           },
           "zerolinecolor": "white",
           "zerolinewidth": 2
          }
         }
        },
        "title": {
         "text": "MAR - 0.1"
        },
        "xaxis": {
         "nticks": 36
        }
       }
      }
     },
     "metadata": {},
     "output_type": "display_data"
    },
    {
     "data": {
      "application/vnd.plotly.v1+json": {
       "config": {
        "plotlyServerURL": "https://plot.ly"
       },
       "data": [
        {
         "autocolorscale": false,
         "colorscale": [
          [
           0,
           "rgb(255,245,240)"
          ],
          [
           0.125,
           "rgb(254,224,210)"
          ],
          [
           0.25,
           "rgb(252,187,161)"
          ],
          [
           0.375,
           "rgb(252,146,114)"
          ],
          [
           0.5,
           "rgb(251,106,74)"
          ],
          [
           0.625,
           "rgb(239,59,44)"
          ],
          [
           0.75,
           "rgb(203,24,29)"
          ],
          [
           0.875,
           "rgb(165,15,21)"
          ],
          [
           1,
           "rgb(103,0,13)"
          ]
         ],
         "type": "heatmap",
         "x": [
          "737",
          "737",
          "737",
          "737",
          "40677",
          "40677",
          "40497",
          "40497",
          "871",
          "871",
          "871",
          "871",
          "728",
          "728",
          "728",
          "728",
          "183",
          "183",
          "42636",
          "42636",
          "1558",
          "1558",
          "1558",
          "1558",
          "40983",
          "40983",
          "40983",
          "40983",
          "40498",
          "40498",
          "40701",
          "40701",
          "40701",
          "40701",
          "41146",
          "41146",
          "41146",
          "41146",
          "42192",
          "42192",
          "42192",
          "42192",
          "1489",
          "1489",
          "1489",
          "1489",
          "1526",
          "1526",
          "30",
          "30",
          "4552",
          "4552",
          "42545",
          "42545",
          "287",
          "287",
          "847",
          "847",
          "847",
          "847",
          "803",
          "803",
          "803",
          "803",
          "1496",
          "1496",
          "1507",
          "1496",
          "1507",
          "1507",
          "1507",
          "1496",
          "197",
          "197",
          "725",
          "725",
          "725",
          "725",
          "189",
          "189",
          "923",
          "923",
          "923",
          "923",
          "198",
          "198",
          "375",
          "375",
          "23515",
          "23515",
          "1459",
          "1459",
          "42688",
          "42688",
          "42183",
          "42183",
          "32",
          "32",
          "310",
          "310",
          "310",
          "310",
          "26",
          "26",
          "1471",
          "1471",
          "1471",
          "1046",
          "1046",
          "1046",
          "1046",
          "216",
          "216",
          "42712",
          "42712",
          "1199",
          "1199",
          "1120",
          "1120",
          "1120",
          "41671",
          "41671",
          "6",
          "6",
          "823",
          "823",
          "823",
          "218",
          "218",
          "42493",
          "42493",
          "42493",
          "184",
          "184",
          "1481",
          "1481",
          "42477",
          "42477",
          "1193",
          "1193",
          "4135",
          "4135",
          "251",
          "137",
          "137",
          "251",
          "1220",
          "1220",
          "881",
          "215",
          "215",
          "901",
          "881",
          "901",
          "41027",
          "41027",
          "151",
          "151",
          "42225",
          "42225",
          "40685",
          "40685",
          "1200",
          "1200",
          "1213",
          "1213",
          "40922",
          "40922",
          "23395",
          "23395",
          "23517",
          "23517"
         ],
         "y": [
          "Mean/Mode",
          "KNN",
          "Random Forest",
          "VAE",
          "KNN",
          "Mean/Mode",
          "KNN",
          "Mean/Mode",
          "Mean/Mode",
          "VAE",
          "KNN",
          "Random Forest",
          "KNN",
          "Random Forest",
          "VAE",
          "Mean/Mode",
          "KNN",
          "Mean/Mode",
          "KNN",
          "Mean/Mode",
          "Random Forest",
          "Mean/Mode",
          "VAE",
          "KNN",
          "KNN",
          "VAE",
          "Mean/Mode",
          "Random Forest",
          "KNN",
          "Mean/Mode",
          "VAE",
          "Mean/Mode",
          "Random Forest",
          "KNN",
          "KNN",
          "Random Forest",
          "VAE",
          "Mean/Mode",
          "VAE",
          "Mean/Mode",
          "Random Forest",
          "KNN",
          "KNN",
          "VAE",
          "Random Forest",
          "Mean/Mode",
          "KNN",
          "Mean/Mode",
          "Mean/Mode",
          "KNN",
          "Mean/Mode",
          "KNN",
          "Mean/Mode",
          "KNN",
          "Mean/Mode",
          "KNN",
          "Random Forest",
          "KNN",
          "VAE",
          "Mean/Mode",
          "Mean/Mode",
          "KNN",
          "VAE",
          "Random Forest",
          "KNN",
          "Mean/Mode",
          "KNN",
          "VAE",
          "Mean/Mode",
          "VAE",
          "Random Forest",
          "Random Forest",
          "Mean/Mode",
          "KNN",
          "VAE",
          "Random Forest",
          "KNN",
          "Mean/Mode",
          "KNN",
          "Mean/Mode",
          "VAE",
          "KNN",
          "Mean/Mode",
          "Random Forest",
          "KNN",
          "Mean/Mode",
          "KNN",
          "Mean/Mode",
          "Mean/Mode",
          "KNN",
          "KNN",
          "Mean/Mode",
          "Mean/Mode",
          "KNN",
          "Mean/Mode",
          "KNN",
          "KNN",
          "Mean/Mode",
          "VAE",
          "KNN",
          "Mean/Mode",
          "Random Forest",
          "Mean/Mode",
          "KNN",
          "Random Forest",
          "KNN",
          "Mean/Mode",
          "KNN",
          "Mean/Mode",
          "Random Forest",
          "VAE",
          "Mean/Mode",
          "KNN",
          "Mean/Mode",
          "KNN",
          "KNN",
          "Mean/Mode",
          "Mean/Mode",
          "KNN",
          "Random Forest",
          "Mean/Mode",
          "KNN",
          "Mean/Mode",
          "KNN",
          "Random Forest",
          "Mean/Mode",
          "KNN",
          "Mean/Mode",
          "KNN",
          "Random Forest",
          "Mean/Mode",
          "KNN",
          "Mean/Mode",
          "KNN",
          "KNN",
          "Mean/Mode",
          "Mean/Mode",
          "KNN",
          "KNN",
          "Mean/Mode",
          "KNN",
          "Mean/Mode",
          "KNN",
          "KNN",
          "Mean/Mode",
          "Mean/Mode",
          "Mean/Mode",
          "KNN",
          "Mean/Mode",
          "KNN",
          "Mean/Mode",
          "Mean/Mode",
          "KNN",
          "KNN",
          "KNN",
          "Mean/Mode",
          "Mean/Mode",
          "KNN",
          "KNN",
          "Mean/Mode",
          "Mean/Mode",
          "KNN",
          "Mean/Mode",
          "KNN",
          "KNN",
          "Mean/Mode",
          "KNN",
          "Mean/Mode",
          "Mean/Mode",
          "KNN",
          "KNN",
          "Mean/Mode"
         ],
         "z": [
          0.8278136100568401,
          0.8278136100568401,
          0.8278136100568401,
          0.8278136100568401,
          0.7537138211286069,
          0.7537138211286069,
          0.6989153675148323,
          0.7593078027860637,
          0.512487182486976,
          0.513127312844878,
          0.513630363206711,
          0.513630363206711,
          0.9891594931294444,
          0.9891594931294444,
          0.9891594931294444,
          0.9891594931294444,
          0.1007948204796585,
          0.1001933473353255,
          0.3322796446736756,
          0.3323375707789415,
          0.6317449796753936,
          0.6317449796753936,
          0.6317449796753936,
          0.6317449796753936,
          0.667808602048793,
          0.6672553784152195,
          0.667808602048793,
          0.667808602048793,
          0.1740269635639018,
          0.1744022228748873,
          0.6563899868247693,
          0.6563899868247693,
          0.6563899868247693,
          0.6563899868247693,
          0.9135518497220624,
          0.9135518497220624,
          0.9135518497220624,
          0.9135518497220624,
          0.6640426161586268,
          0.6636787353597335,
          0.6651328945580213,
          0.6651328945580213,
          0.6963989503155196,
          0.6966818891700025,
          0.6966818891700025,
          0.6966818891700025,
          0.8964262251781041,
          0.8975618095085031,
          0.6974384245173985,
          0.6808624480020361,
          0.4225264691881841,
          0.4296799302694521,
          20.76707836312329,
          20.76707753824688,
          0.7463972820691968,
          0.7463923841059797,
          0.8406385013113177,
          0.8406385013113177,
          0.8406385013113177,
          0.8406385013113177,
          0.9423495236386082,
          0.9418835631051986,
          0.941880801202808,
          0.9423495236386082,
          0.7721415778228882,
          0.7723727286709292,
          0.9810611600222292,
          0.7723727286709292,
          0.9810611600222292,
          0.9810611600222292,
          0.9810611600222292,
          0.7723727286709292,
          9.193412356922884,
          9.193406121006044,
          0.930702416023045,
          0.930702416023045,
          0.930702416023045,
          0.9298698691784674,
          0.205047277037723,
          0.2050482538464667,
          0.9929893847364024,
          0.9929893847364024,
          0.9929893847364024,
          0.9929893847364024,
          0.0014192166368504,
          0.0014192284192908,
          0.9180045206808368,
          0.9177133163541388,
          0.0468705220353062,
          0.0468705225252847,
          0.2899728263795886,
          0.2918608752427385,
          6500.916475282553,
          6500.9164751288745,
          4.530627285721468,
          4.530629921208658,
          0.9320093851599888,
          0.9309305664974702,
          0.7898098052587711,
          0.7898098052587711,
          0.78014742014742,
          0.7898098052587711,
          0.5567671915139761,
          0.5567671915139761,
          0.5515889578625556,
          0.5515889578625556,
          0.5515889578625556,
          0.7910531156720516,
          0.7910531156720516,
          0.7910531156720516,
          0.790904531615149,
          0.0028356064314222,
          0.0028356645796818,
          149.53627016402848,
          149.51916571120418,
          11.94846765200054,
          11.948477667904058,
          0.7606412742786901,
          0.7606412742786901,
          0.7606412742786901,
          0.2406194774852596,
          0.2406194774852596,
          0.7256613979222889,
          0.7261210145212299,
          0.9661408746313483,
          0.9661408746313483,
          0.9661408746313483,
          72725.05411671719,
          72725.0541176552,
          0.627487208179315,
          0.6275647325178465,
          0.627487208179315,
          0.3009209888634342,
          0.3001885893781608,
          0.2066294035774994,
          0.1800115980199746,
          0.6282612757613111,
          0.6282612757613111,
          949.2896875446884,
          949.2896875446884,
          0.6810918462475858,
          0.6814840035451183,
          0.9773165779461688,
          0.674685434404768,
          0.674685434404768,
          0.9773165779461688,
          0.4655750753311728,
          0.4655750753311728,
          0.9903253055588184,
          2.3784955659192657,
          2.3784953619703706,
          0.8391382512202679,
          0.9903253055588184,
          0.8391382512202679,
          0.474722095838102,
          0.474722095838102,
          0.7498203876152564,
          0.7471181705232243,
          4702.286229988564,
          4702.286468900534,
          0.3826628317704124,
          0.3855875223617341,
          4.550350723026352,
          4.550201856275883,
          6.350087861090194,
          6.350095448192074,
          0.7575427283696131,
          0.7575427283696131,
          0.15141157715034,
          0.1514115773174291,
          0.5208465084233364,
          0.5208199605110604
         ],
         "zmin": 0
        }
       ],
       "layout": {
        "template": {
         "data": {
          "bar": [
           {
            "error_x": {
             "color": "#2a3f5f"
            },
            "error_y": {
             "color": "#2a3f5f"
            },
            "marker": {
             "line": {
              "color": "#E5ECF6",
              "width": 0.5
             },
             "pattern": {
              "fillmode": "overlay",
              "size": 10,
              "solidity": 0.2
             }
            },
            "type": "bar"
           }
          ],
          "barpolar": [
           {
            "marker": {
             "line": {
              "color": "#E5ECF6",
              "width": 0.5
             },
             "pattern": {
              "fillmode": "overlay",
              "size": 10,
              "solidity": 0.2
             }
            },
            "type": "barpolar"
           }
          ],
          "carpet": [
           {
            "aaxis": {
             "endlinecolor": "#2a3f5f",
             "gridcolor": "white",
             "linecolor": "white",
             "minorgridcolor": "white",
             "startlinecolor": "#2a3f5f"
            },
            "baxis": {
             "endlinecolor": "#2a3f5f",
             "gridcolor": "white",
             "linecolor": "white",
             "minorgridcolor": "white",
             "startlinecolor": "#2a3f5f"
            },
            "type": "carpet"
           }
          ],
          "choropleth": [
           {
            "colorbar": {
             "outlinewidth": 0,
             "ticks": ""
            },
            "type": "choropleth"
           }
          ],
          "contour": [
           {
            "colorbar": {
             "outlinewidth": 0,
             "ticks": ""
            },
            "colorscale": [
             [
              0,
              "#0d0887"
             ],
             [
              0.1111111111111111,
              "#46039f"
             ],
             [
              0.2222222222222222,
              "#7201a8"
             ],
             [
              0.3333333333333333,
              "#9c179e"
             ],
             [
              0.4444444444444444,
              "#bd3786"
             ],
             [
              0.5555555555555556,
              "#d8576b"
             ],
             [
              0.6666666666666666,
              "#ed7953"
             ],
             [
              0.7777777777777778,
              "#fb9f3a"
             ],
             [
              0.8888888888888888,
              "#fdca26"
             ],
             [
              1,
              "#f0f921"
             ]
            ],
            "type": "contour"
           }
          ],
          "contourcarpet": [
           {
            "colorbar": {
             "outlinewidth": 0,
             "ticks": ""
            },
            "type": "contourcarpet"
           }
          ],
          "heatmap": [
           {
            "colorbar": {
             "outlinewidth": 0,
             "ticks": ""
            },
            "colorscale": [
             [
              0,
              "#0d0887"
             ],
             [
              0.1111111111111111,
              "#46039f"
             ],
             [
              0.2222222222222222,
              "#7201a8"
             ],
             [
              0.3333333333333333,
              "#9c179e"
             ],
             [
              0.4444444444444444,
              "#bd3786"
             ],
             [
              0.5555555555555556,
              "#d8576b"
             ],
             [
              0.6666666666666666,
              "#ed7953"
             ],
             [
              0.7777777777777778,
              "#fb9f3a"
             ],
             [
              0.8888888888888888,
              "#fdca26"
             ],
             [
              1,
              "#f0f921"
             ]
            ],
            "type": "heatmap"
           }
          ],
          "heatmapgl": [
           {
            "colorbar": {
             "outlinewidth": 0,
             "ticks": ""
            },
            "colorscale": [
             [
              0,
              "#0d0887"
             ],
             [
              0.1111111111111111,
              "#46039f"
             ],
             [
              0.2222222222222222,
              "#7201a8"
             ],
             [
              0.3333333333333333,
              "#9c179e"
             ],
             [
              0.4444444444444444,
              "#bd3786"
             ],
             [
              0.5555555555555556,
              "#d8576b"
             ],
             [
              0.6666666666666666,
              "#ed7953"
             ],
             [
              0.7777777777777778,
              "#fb9f3a"
             ],
             [
              0.8888888888888888,
              "#fdca26"
             ],
             [
              1,
              "#f0f921"
             ]
            ],
            "type": "heatmapgl"
           }
          ],
          "histogram": [
           {
            "marker": {
             "pattern": {
              "fillmode": "overlay",
              "size": 10,
              "solidity": 0.2
             }
            },
            "type": "histogram"
           }
          ],
          "histogram2d": [
           {
            "colorbar": {
             "outlinewidth": 0,
             "ticks": ""
            },
            "colorscale": [
             [
              0,
              "#0d0887"
             ],
             [
              0.1111111111111111,
              "#46039f"
             ],
             [
              0.2222222222222222,
              "#7201a8"
             ],
             [
              0.3333333333333333,
              "#9c179e"
             ],
             [
              0.4444444444444444,
              "#bd3786"
             ],
             [
              0.5555555555555556,
              "#d8576b"
             ],
             [
              0.6666666666666666,
              "#ed7953"
             ],
             [
              0.7777777777777778,
              "#fb9f3a"
             ],
             [
              0.8888888888888888,
              "#fdca26"
             ],
             [
              1,
              "#f0f921"
             ]
            ],
            "type": "histogram2d"
           }
          ],
          "histogram2dcontour": [
           {
            "colorbar": {
             "outlinewidth": 0,
             "ticks": ""
            },
            "colorscale": [
             [
              0,
              "#0d0887"
             ],
             [
              0.1111111111111111,
              "#46039f"
             ],
             [
              0.2222222222222222,
              "#7201a8"
             ],
             [
              0.3333333333333333,
              "#9c179e"
             ],
             [
              0.4444444444444444,
              "#bd3786"
             ],
             [
              0.5555555555555556,
              "#d8576b"
             ],
             [
              0.6666666666666666,
              "#ed7953"
             ],
             [
              0.7777777777777778,
              "#fb9f3a"
             ],
             [
              0.8888888888888888,
              "#fdca26"
             ],
             [
              1,
              "#f0f921"
             ]
            ],
            "type": "histogram2dcontour"
           }
          ],
          "mesh3d": [
           {
            "colorbar": {
             "outlinewidth": 0,
             "ticks": ""
            },
            "type": "mesh3d"
           }
          ],
          "parcoords": [
           {
            "line": {
             "colorbar": {
              "outlinewidth": 0,
              "ticks": ""
             }
            },
            "type": "parcoords"
           }
          ],
          "pie": [
           {
            "automargin": true,
            "type": "pie"
           }
          ],
          "scatter": [
           {
            "fillpattern": {
             "fillmode": "overlay",
             "size": 10,
             "solidity": 0.2
            },
            "type": "scatter"
           }
          ],
          "scatter3d": [
           {
            "line": {
             "colorbar": {
              "outlinewidth": 0,
              "ticks": ""
             }
            },
            "marker": {
             "colorbar": {
              "outlinewidth": 0,
              "ticks": ""
             }
            },
            "type": "scatter3d"
           }
          ],
          "scattercarpet": [
           {
            "marker": {
             "colorbar": {
              "outlinewidth": 0,
              "ticks": ""
             }
            },
            "type": "scattercarpet"
           }
          ],
          "scattergeo": [
           {
            "marker": {
             "colorbar": {
              "outlinewidth": 0,
              "ticks": ""
             }
            },
            "type": "scattergeo"
           }
          ],
          "scattergl": [
           {
            "marker": {
             "colorbar": {
              "outlinewidth": 0,
              "ticks": ""
             }
            },
            "type": "scattergl"
           }
          ],
          "scattermapbox": [
           {
            "marker": {
             "colorbar": {
              "outlinewidth": 0,
              "ticks": ""
             }
            },
            "type": "scattermapbox"
           }
          ],
          "scatterpolar": [
           {
            "marker": {
             "colorbar": {
              "outlinewidth": 0,
              "ticks": ""
             }
            },
            "type": "scatterpolar"
           }
          ],
          "scatterpolargl": [
           {
            "marker": {
             "colorbar": {
              "outlinewidth": 0,
              "ticks": ""
             }
            },
            "type": "scatterpolargl"
           }
          ],
          "scatterternary": [
           {
            "marker": {
             "colorbar": {
              "outlinewidth": 0,
              "ticks": ""
             }
            },
            "type": "scatterternary"
           }
          ],
          "surface": [
           {
            "colorbar": {
             "outlinewidth": 0,
             "ticks": ""
            },
            "colorscale": [
             [
              0,
              "#0d0887"
             ],
             [
              0.1111111111111111,
              "#46039f"
             ],
             [
              0.2222222222222222,
              "#7201a8"
             ],
             [
              0.3333333333333333,
              "#9c179e"
             ],
             [
              0.4444444444444444,
              "#bd3786"
             ],
             [
              0.5555555555555556,
              "#d8576b"
             ],
             [
              0.6666666666666666,
              "#ed7953"
             ],
             [
              0.7777777777777778,
              "#fb9f3a"
             ],
             [
              0.8888888888888888,
              "#fdca26"
             ],
             [
              1,
              "#f0f921"
             ]
            ],
            "type": "surface"
           }
          ],
          "table": [
           {
            "cells": {
             "fill": {
              "color": "#EBF0F8"
             },
             "line": {
              "color": "white"
             }
            },
            "header": {
             "fill": {
              "color": "#C8D4E3"
             },
             "line": {
              "color": "white"
             }
            },
            "type": "table"
           }
          ]
         },
         "layout": {
          "annotationdefaults": {
           "arrowcolor": "#2a3f5f",
           "arrowhead": 0,
           "arrowwidth": 1
          },
          "autotypenumbers": "strict",
          "coloraxis": {
           "colorbar": {
            "outlinewidth": 0,
            "ticks": ""
           }
          },
          "colorscale": {
           "diverging": [
            [
             0,
             "#8e0152"
            ],
            [
             0.1,
             "#c51b7d"
            ],
            [
             0.2,
             "#de77ae"
            ],
            [
             0.3,
             "#f1b6da"
            ],
            [
             0.4,
             "#fde0ef"
            ],
            [
             0.5,
             "#f7f7f7"
            ],
            [
             0.6,
             "#e6f5d0"
            ],
            [
             0.7,
             "#b8e186"
            ],
            [
             0.8,
             "#7fbc41"
            ],
            [
             0.9,
             "#4d9221"
            ],
            [
             1,
             "#276419"
            ]
           ],
           "sequential": [
            [
             0,
             "#0d0887"
            ],
            [
             0.1111111111111111,
             "#46039f"
            ],
            [
             0.2222222222222222,
             "#7201a8"
            ],
            [
             0.3333333333333333,
             "#9c179e"
            ],
            [
             0.4444444444444444,
             "#bd3786"
            ],
            [
             0.5555555555555556,
             "#d8576b"
            ],
            [
             0.6666666666666666,
             "#ed7953"
            ],
            [
             0.7777777777777778,
             "#fb9f3a"
            ],
            [
             0.8888888888888888,
             "#fdca26"
            ],
            [
             1,
             "#f0f921"
            ]
           ],
           "sequentialminus": [
            [
             0,
             "#0d0887"
            ],
            [
             0.1111111111111111,
             "#46039f"
            ],
            [
             0.2222222222222222,
             "#7201a8"
            ],
            [
             0.3333333333333333,
             "#9c179e"
            ],
            [
             0.4444444444444444,
             "#bd3786"
            ],
            [
             0.5555555555555556,
             "#d8576b"
            ],
            [
             0.6666666666666666,
             "#ed7953"
            ],
            [
             0.7777777777777778,
             "#fb9f3a"
            ],
            [
             0.8888888888888888,
             "#fdca26"
            ],
            [
             1,
             "#f0f921"
            ]
           ]
          },
          "colorway": [
           "#636efa",
           "#EF553B",
           "#00cc96",
           "#ab63fa",
           "#FFA15A",
           "#19d3f3",
           "#FF6692",
           "#B6E880",
           "#FF97FF",
           "#FECB52"
          ],
          "font": {
           "color": "#2a3f5f"
          },
          "geo": {
           "bgcolor": "white",
           "lakecolor": "white",
           "landcolor": "#E5ECF6",
           "showlakes": true,
           "showland": true,
           "subunitcolor": "white"
          },
          "hoverlabel": {
           "align": "left"
          },
          "hovermode": "closest",
          "mapbox": {
           "style": "light"
          },
          "paper_bgcolor": "white",
          "plot_bgcolor": "#E5ECF6",
          "polar": {
           "angularaxis": {
            "gridcolor": "white",
            "linecolor": "white",
            "ticks": ""
           },
           "bgcolor": "#E5ECF6",
           "radialaxis": {
            "gridcolor": "white",
            "linecolor": "white",
            "ticks": ""
           }
          },
          "scene": {
           "xaxis": {
            "backgroundcolor": "#E5ECF6",
            "gridcolor": "white",
            "gridwidth": 2,
            "linecolor": "white",
            "showbackground": true,
            "ticks": "",
            "zerolinecolor": "white"
           },
           "yaxis": {
            "backgroundcolor": "#E5ECF6",
            "gridcolor": "white",
            "gridwidth": 2,
            "linecolor": "white",
            "showbackground": true,
            "ticks": "",
            "zerolinecolor": "white"
           },
           "zaxis": {
            "backgroundcolor": "#E5ECF6",
            "gridcolor": "white",
            "gridwidth": 2,
            "linecolor": "white",
            "showbackground": true,
            "ticks": "",
            "zerolinecolor": "white"
           }
          },
          "shapedefaults": {
           "line": {
            "color": "#2a3f5f"
           }
          },
          "ternary": {
           "aaxis": {
            "gridcolor": "white",
            "linecolor": "white",
            "ticks": ""
           },
           "baxis": {
            "gridcolor": "white",
            "linecolor": "white",
            "ticks": ""
           },
           "bgcolor": "#E5ECF6",
           "caxis": {
            "gridcolor": "white",
            "linecolor": "white",
            "ticks": ""
           }
          },
          "title": {
           "x": 0.05
          },
          "xaxis": {
           "automargin": true,
           "gridcolor": "white",
           "linecolor": "white",
           "ticks": "",
           "title": {
            "standoff": 15
           },
           "zerolinecolor": "white",
           "zerolinewidth": 2
          },
          "yaxis": {
           "automargin": true,
           "gridcolor": "white",
           "linecolor": "white",
           "ticks": "",
           "title": {
            "standoff": 15
           },
           "zerolinecolor": "white",
           "zerolinewidth": 2
          }
         }
        },
        "title": {
         "text": "MAR - 0.3"
        },
        "xaxis": {
         "nticks": 36
        }
       }
      }
     },
     "metadata": {},
     "output_type": "display_data"
    },
    {
     "data": {
      "application/vnd.plotly.v1+json": {
       "config": {
        "plotlyServerURL": "https://plot.ly"
       },
       "data": [
        {
         "autocolorscale": false,
         "colorscale": [
          [
           0,
           "rgb(255,245,240)"
          ],
          [
           0.125,
           "rgb(254,224,210)"
          ],
          [
           0.25,
           "rgb(252,187,161)"
          ],
          [
           0.375,
           "rgb(252,146,114)"
          ],
          [
           0.5,
           "rgb(251,106,74)"
          ],
          [
           0.625,
           "rgb(239,59,44)"
          ],
          [
           0.75,
           "rgb(203,24,29)"
          ],
          [
           0.875,
           "rgb(165,15,21)"
          ],
          [
           1,
           "rgb(103,0,13)"
          ]
         ],
         "type": "heatmap",
         "x": [
          "737",
          "737",
          "737",
          "737",
          "40677",
          "40677",
          "40497",
          "40497",
          "871",
          "871",
          "871",
          "871",
          "728",
          "728",
          "728",
          "728",
          "183",
          "183",
          "42636",
          "42636",
          "1558",
          "1558",
          "1558",
          "1558",
          "40983",
          "40983",
          "40983",
          "40983",
          "40498",
          "40498",
          "40701",
          "40701",
          "40701",
          "40701",
          "41146",
          "41146",
          "41146",
          "41146",
          "42192",
          "42192",
          "42192",
          "42192",
          "1489",
          "1489",
          "1489",
          "1489",
          "1526",
          "1526",
          "30",
          "30",
          "4552",
          "4552",
          "42545",
          "42545",
          "287",
          "287",
          "847",
          "847",
          "847",
          "847",
          "803",
          "803",
          "803",
          "803",
          "1496",
          "1496",
          "1507",
          "1496",
          "1507",
          "1507",
          "1507",
          "1496",
          "197",
          "197",
          "725",
          "725",
          "725",
          "725",
          "189",
          "189",
          "923",
          "923",
          "923",
          "923",
          "198",
          "198",
          "375",
          "375",
          "23515",
          "23515",
          "1459",
          "1459",
          "42688",
          "42688",
          "42183",
          "42183",
          "32",
          "32",
          "310",
          "310",
          "310",
          "310",
          "26",
          "26",
          "1471",
          "1471",
          "1471",
          "1046",
          "1046",
          "1046",
          "1046",
          "216",
          "216",
          "42712",
          "42712",
          "1199",
          "1199",
          "1120",
          "1120",
          "1120",
          "41671",
          "41671",
          "6",
          "6",
          "823",
          "823",
          "823",
          "218",
          "218",
          "42493",
          "42493",
          "42493",
          "184",
          "184",
          "1481",
          "1481",
          "42477",
          "42477",
          "1193",
          "1193",
          "4135",
          "4135",
          "251",
          "137",
          "137",
          "251",
          "1220",
          "1220",
          "881",
          "215",
          "215",
          "901",
          "881",
          "901",
          "41027",
          "41027",
          "151",
          "151",
          "42225",
          "42225",
          "40685",
          "40685",
          "1200",
          "1200",
          "1213",
          "1213",
          "40922",
          "40922",
          "23395",
          "23395",
          "23517",
          "23517"
         ],
         "y": [
          "Mean/Mode",
          "KNN",
          "VAE",
          "Random Forest",
          "Mean/Mode",
          "KNN",
          "Mean/Mode",
          "KNN",
          "Random Forest",
          "KNN",
          "Mean/Mode",
          "VAE",
          "Mean/Mode",
          "VAE",
          "Random Forest",
          "KNN",
          "KNN",
          "Mean/Mode",
          "KNN",
          "Mean/Mode",
          "Random Forest",
          "Mean/Mode",
          "VAE",
          "KNN",
          "Random Forest",
          "Mean/Mode",
          "VAE",
          "KNN",
          "Mean/Mode",
          "KNN",
          "VAE",
          "Random Forest",
          "KNN",
          "Mean/Mode",
          "VAE",
          "Mean/Mode",
          "KNN",
          "Random Forest",
          "Mean/Mode",
          "Random Forest",
          "VAE",
          "KNN",
          "KNN",
          "Mean/Mode",
          "VAE",
          "Random Forest",
          "Mean/Mode",
          "KNN",
          "KNN",
          "Mean/Mode",
          "Mean/Mode",
          "KNN",
          "KNN",
          "Mean/Mode",
          "Mean/Mode",
          "KNN",
          "KNN",
          "Mean/Mode",
          "Random Forest",
          "VAE",
          "KNN",
          "Mean/Mode",
          "VAE",
          "Random Forest",
          "VAE",
          "Mean/Mode",
          "KNN",
          "Random Forest",
          "Mean/Mode",
          "Random Forest",
          "VAE",
          "KNN",
          "KNN",
          "Mean/Mode",
          "Random Forest",
          "Mean/Mode",
          "KNN",
          "VAE",
          "Mean/Mode",
          "KNN",
          "Random Forest",
          "Mean/Mode",
          "VAE",
          "KNN",
          "Mean/Mode",
          "KNN",
          "KNN",
          "Mean/Mode",
          "KNN",
          "Mean/Mode",
          "Mean/Mode",
          "KNN",
          "KNN",
          "Mean/Mode",
          "KNN",
          "Mean/Mode",
          "KNN",
          "Mean/Mode",
          "KNN",
          "Mean/Mode",
          "VAE",
          "Random Forest",
          "Mean/Mode",
          "KNN",
          "Random Forest",
          "KNN",
          "Mean/Mode",
          "KNN",
          "VAE",
          "Random Forest",
          "Mean/Mode",
          "Mean/Mode",
          "KNN",
          "Mean/Mode",
          "KNN",
          "KNN",
          "Mean/Mode",
          "Mean/Mode",
          "KNN",
          "Random Forest",
          "KNN",
          "Mean/Mode",
          "KNN",
          "Mean/Mode",
          "Mean/Mode",
          "Random Forest",
          "KNN",
          "KNN",
          "Mean/Mode",
          "Random Forest",
          "KNN",
          "Mean/Mode",
          "Mean/Mode",
          "KNN",
          "KNN",
          "Mean/Mode",
          "Mean/Mode",
          "KNN",
          "KNN",
          "Mean/Mode",
          "Mean/Mode",
          "KNN",
          "Mean/Mode",
          "Mean/Mode",
          "KNN",
          "KNN",
          "KNN",
          "Mean/Mode",
          "Mean/Mode",
          "KNN",
          "Mean/Mode",
          "KNN",
          "KNN",
          "Mean/Mode",
          "Mean/Mode",
          "KNN",
          "KNN",
          "Mean/Mode",
          "KNN",
          "Mean/Mode",
          "Mean/Mode",
          "KNN",
          "Mean/Mode",
          "KNN",
          "Mean/Mode",
          "KNN",
          "KNN",
          "Mean/Mode",
          "KNN",
          "Mean/Mode",
          "KNN",
          "Mean/Mode"
         ],
         "z": [
          0.7420412911148923,
          0.7491461867016721,
          0.753997128328937,
          0.7593690834378238,
          0.7464235720339945,
          0.7448437009737144,
          0.6978560163740801,
          0.7092771157661552,
          0.4684964704844345,
          0.4703767054142375,
          0.4761536586959998,
          0.5120369864213603,
          0.9526969630635694,
          0.9540974646737328,
          0.9577638047951188,
          0.9520494995176992,
          0.0804528355199501,
          0.0768757488359866,
          0.3340277369159753,
          0.3360043617112611,
          0.657782595090244,
          0.6546837833036739,
          0.6918831844931287,
          0.6562482580006884,
          0.5195684250821228,
          0.4851970453799397,
          0.485197627638837,
          0.5366694022614787,
          0.1732592409230936,
          0.1800733617288457,
          0.6592184328291231,
          0.6345640461885473,
          0.6539343270257161,
          0.6531931200383577,
          0.9045101931983788,
          0.9051743132713016,
          0.9051743132713016,
          0.9029184985109692,
          0.6552391836398681,
          0.6548366732550569,
          0.6595915857423857,
          0.6573640077213588,
          0.6755723826009673,
          0.6923320762434119,
          0.6894704180768443,
          0.6848028998330467,
          0.748111803565506,
          0.7532240134633348,
          0.7490734100165314,
          0.6942905330510366,
          0.4171152213989861,
          0.4191867838645947,
          20.755764716785663,
          20.75572299153228,
          0.7515389123211133,
          0.7508791070868742,
          0.839104986108898,
          0.839104986108898,
          0.8409128824581237,
          0.8388284722253854,
          0.9294579738707336,
          0.9221361858423904,
          0.9124837178921926,
          0.9334625451566864,
          0.7683858019169844,
          0.7701943431656555,
          0.976555204045686,
          0.7717698463181096,
          0.976555204045686,
          0.9799361432049142,
          0.9776814781749864,
          0.7701943431656555,
          9.425571577531512,
          9.421747673458473,
          0.9136605179346152,
          0.9117624564625284,
          0.9085683582703143,
          0.906852399794515,
          0.2089661840967835,
          0.2089719048815026,
          0.9474838963196952,
          0.9215282708684428,
          0.914767383779869,
          0.9368340992787204,
          0.0014869959297609,
          0.0014869982662678,
          0.8946657367311982,
          0.8933191598700424,
          0.047720856285563,
          0.0477244072453424,
          0.2801113060017967,
          0.2805794855467945,
          6508.646716216647,
          6508.64670426324,
          4.604716316388611,
          4.6047253728132524,
          0.905122941174949,
          0.9034837717056344,
          0.7873956061573368,
          0.7584407047099232,
          0.7446720574881449,
          0.7620304112037815,
          0.542446960882267,
          0.5556448011900321,
          0.5376759544991333,
          0.5372228277083971,
          0.5371296593459478,
          0.7869677361327184,
          0.7867493785598177,
          0.7914053535991942,
          0.7860556406312816,
          0.0032851273943124,
          0.003286920838736,
          149.64001234156606,
          149.53315895062312,
          12.123501097722574,
          12.125824462248112,
          0.746368167979449,
          0.7551455193850192,
          0.7557145287912591,
          0.2186876589464044,
          0.2465892424905522,
          0.685614398939144,
          0.6862314505334726,
          0.9392687620273392,
          0.9391331418730876,
          0.9391832131759802,
          72724.990936374,
          72724.99159938605,
          0.6129423490535308,
          0.613851912570607,
          0.6126092240437783,
          0.2487615195427816,
          0.2484659813251022,
          0.1881747351200486,
          0.1873126085938158,
          0.6238083203757117,
          0.6250247768320537,
          984.0677320287268,
          983.2117868645606,
          0.6796154433577613,
          0.6797070960341763,
          0.9753062257371228,
          0.6630883947024018,
          0.6626666218858709,
          0.9751176609479484,
          0.4640397046480578,
          0.4684023441582048,
          0.9612616059575042,
          2.5157778615414443,
          2.514752172844174,
          0.8251565948873165,
          0.9613070917821724,
          0.8264652132611254,
          0.4936623131849199,
          0.4932661047001592,
          0.741070049850758,
          0.7328572686742517,
          4724.999121278021,
          4727.402766896047,
          0.3783269422740288,
          0.3841251784221622,
          4.682776530955799,
          4.617160716089198,
          6.571459189868441,
          6.5718439400968185,
          0.7288900130878663,
          0.7263707042834179,
          0.1514481777640237,
          0.1514613623591005,
          0.519097389909068,
          0.5189843796233079
         ],
         "zmin": 0
        }
       ],
       "layout": {
        "template": {
         "data": {
          "bar": [
           {
            "error_x": {
             "color": "#2a3f5f"
            },
            "error_y": {
             "color": "#2a3f5f"
            },
            "marker": {
             "line": {
              "color": "#E5ECF6",
              "width": 0.5
             },
             "pattern": {
              "fillmode": "overlay",
              "size": 10,
              "solidity": 0.2
             }
            },
            "type": "bar"
           }
          ],
          "barpolar": [
           {
            "marker": {
             "line": {
              "color": "#E5ECF6",
              "width": 0.5
             },
             "pattern": {
              "fillmode": "overlay",
              "size": 10,
              "solidity": 0.2
             }
            },
            "type": "barpolar"
           }
          ],
          "carpet": [
           {
            "aaxis": {
             "endlinecolor": "#2a3f5f",
             "gridcolor": "white",
             "linecolor": "white",
             "minorgridcolor": "white",
             "startlinecolor": "#2a3f5f"
            },
            "baxis": {
             "endlinecolor": "#2a3f5f",
             "gridcolor": "white",
             "linecolor": "white",
             "minorgridcolor": "white",
             "startlinecolor": "#2a3f5f"
            },
            "type": "carpet"
           }
          ],
          "choropleth": [
           {
            "colorbar": {
             "outlinewidth": 0,
             "ticks": ""
            },
            "type": "choropleth"
           }
          ],
          "contour": [
           {
            "colorbar": {
             "outlinewidth": 0,
             "ticks": ""
            },
            "colorscale": [
             [
              0,
              "#0d0887"
             ],
             [
              0.1111111111111111,
              "#46039f"
             ],
             [
              0.2222222222222222,
              "#7201a8"
             ],
             [
              0.3333333333333333,
              "#9c179e"
             ],
             [
              0.4444444444444444,
              "#bd3786"
             ],
             [
              0.5555555555555556,
              "#d8576b"
             ],
             [
              0.6666666666666666,
              "#ed7953"
             ],
             [
              0.7777777777777778,
              "#fb9f3a"
             ],
             [
              0.8888888888888888,
              "#fdca26"
             ],
             [
              1,
              "#f0f921"
             ]
            ],
            "type": "contour"
           }
          ],
          "contourcarpet": [
           {
            "colorbar": {
             "outlinewidth": 0,
             "ticks": ""
            },
            "type": "contourcarpet"
           }
          ],
          "heatmap": [
           {
            "colorbar": {
             "outlinewidth": 0,
             "ticks": ""
            },
            "colorscale": [
             [
              0,
              "#0d0887"
             ],
             [
              0.1111111111111111,
              "#46039f"
             ],
             [
              0.2222222222222222,
              "#7201a8"
             ],
             [
              0.3333333333333333,
              "#9c179e"
             ],
             [
              0.4444444444444444,
              "#bd3786"
             ],
             [
              0.5555555555555556,
              "#d8576b"
             ],
             [
              0.6666666666666666,
              "#ed7953"
             ],
             [
              0.7777777777777778,
              "#fb9f3a"
             ],
             [
              0.8888888888888888,
              "#fdca26"
             ],
             [
              1,
              "#f0f921"
             ]
            ],
            "type": "heatmap"
           }
          ],
          "heatmapgl": [
           {
            "colorbar": {
             "outlinewidth": 0,
             "ticks": ""
            },
            "colorscale": [
             [
              0,
              "#0d0887"
             ],
             [
              0.1111111111111111,
              "#46039f"
             ],
             [
              0.2222222222222222,
              "#7201a8"
             ],
             [
              0.3333333333333333,
              "#9c179e"
             ],
             [
              0.4444444444444444,
              "#bd3786"
             ],
             [
              0.5555555555555556,
              "#d8576b"
             ],
             [
              0.6666666666666666,
              "#ed7953"
             ],
             [
              0.7777777777777778,
              "#fb9f3a"
             ],
             [
              0.8888888888888888,
              "#fdca26"
             ],
             [
              1,
              "#f0f921"
             ]
            ],
            "type": "heatmapgl"
           }
          ],
          "histogram": [
           {
            "marker": {
             "pattern": {
              "fillmode": "overlay",
              "size": 10,
              "solidity": 0.2
             }
            },
            "type": "histogram"
           }
          ],
          "histogram2d": [
           {
            "colorbar": {
             "outlinewidth": 0,
             "ticks": ""
            },
            "colorscale": [
             [
              0,
              "#0d0887"
             ],
             [
              0.1111111111111111,
              "#46039f"
             ],
             [
              0.2222222222222222,
              "#7201a8"
             ],
             [
              0.3333333333333333,
              "#9c179e"
             ],
             [
              0.4444444444444444,
              "#bd3786"
             ],
             [
              0.5555555555555556,
              "#d8576b"
             ],
             [
              0.6666666666666666,
              "#ed7953"
             ],
             [
              0.7777777777777778,
              "#fb9f3a"
             ],
             [
              0.8888888888888888,
              "#fdca26"
             ],
             [
              1,
              "#f0f921"
             ]
            ],
            "type": "histogram2d"
           }
          ],
          "histogram2dcontour": [
           {
            "colorbar": {
             "outlinewidth": 0,
             "ticks": ""
            },
            "colorscale": [
             [
              0,
              "#0d0887"
             ],
             [
              0.1111111111111111,
              "#46039f"
             ],
             [
              0.2222222222222222,
              "#7201a8"
             ],
             [
              0.3333333333333333,
              "#9c179e"
             ],
             [
              0.4444444444444444,
              "#bd3786"
             ],
             [
              0.5555555555555556,
              "#d8576b"
             ],
             [
              0.6666666666666666,
              "#ed7953"
             ],
             [
              0.7777777777777778,
              "#fb9f3a"
             ],
             [
              0.8888888888888888,
              "#fdca26"
             ],
             [
              1,
              "#f0f921"
             ]
            ],
            "type": "histogram2dcontour"
           }
          ],
          "mesh3d": [
           {
            "colorbar": {
             "outlinewidth": 0,
             "ticks": ""
            },
            "type": "mesh3d"
           }
          ],
          "parcoords": [
           {
            "line": {
             "colorbar": {
              "outlinewidth": 0,
              "ticks": ""
             }
            },
            "type": "parcoords"
           }
          ],
          "pie": [
           {
            "automargin": true,
            "type": "pie"
           }
          ],
          "scatter": [
           {
            "fillpattern": {
             "fillmode": "overlay",
             "size": 10,
             "solidity": 0.2
            },
            "type": "scatter"
           }
          ],
          "scatter3d": [
           {
            "line": {
             "colorbar": {
              "outlinewidth": 0,
              "ticks": ""
             }
            },
            "marker": {
             "colorbar": {
              "outlinewidth": 0,
              "ticks": ""
             }
            },
            "type": "scatter3d"
           }
          ],
          "scattercarpet": [
           {
            "marker": {
             "colorbar": {
              "outlinewidth": 0,
              "ticks": ""
             }
            },
            "type": "scattercarpet"
           }
          ],
          "scattergeo": [
           {
            "marker": {
             "colorbar": {
              "outlinewidth": 0,
              "ticks": ""
             }
            },
            "type": "scattergeo"
           }
          ],
          "scattergl": [
           {
            "marker": {
             "colorbar": {
              "outlinewidth": 0,
              "ticks": ""
             }
            },
            "type": "scattergl"
           }
          ],
          "scattermapbox": [
           {
            "marker": {
             "colorbar": {
              "outlinewidth": 0,
              "ticks": ""
             }
            },
            "type": "scattermapbox"
           }
          ],
          "scatterpolar": [
           {
            "marker": {
             "colorbar": {
              "outlinewidth": 0,
              "ticks": ""
             }
            },
            "type": "scatterpolar"
           }
          ],
          "scatterpolargl": [
           {
            "marker": {
             "colorbar": {
              "outlinewidth": 0,
              "ticks": ""
             }
            },
            "type": "scatterpolargl"
           }
          ],
          "scatterternary": [
           {
            "marker": {
             "colorbar": {
              "outlinewidth": 0,
              "ticks": ""
             }
            },
            "type": "scatterternary"
           }
          ],
          "surface": [
           {
            "colorbar": {
             "outlinewidth": 0,
             "ticks": ""
            },
            "colorscale": [
             [
              0,
              "#0d0887"
             ],
             [
              0.1111111111111111,
              "#46039f"
             ],
             [
              0.2222222222222222,
              "#7201a8"
             ],
             [
              0.3333333333333333,
              "#9c179e"
             ],
             [
              0.4444444444444444,
              "#bd3786"
             ],
             [
              0.5555555555555556,
              "#d8576b"
             ],
             [
              0.6666666666666666,
              "#ed7953"
             ],
             [
              0.7777777777777778,
              "#fb9f3a"
             ],
             [
              0.8888888888888888,
              "#fdca26"
             ],
             [
              1,
              "#f0f921"
             ]
            ],
            "type": "surface"
           }
          ],
          "table": [
           {
            "cells": {
             "fill": {
              "color": "#EBF0F8"
             },
             "line": {
              "color": "white"
             }
            },
            "header": {
             "fill": {
              "color": "#C8D4E3"
             },
             "line": {
              "color": "white"
             }
            },
            "type": "table"
           }
          ]
         },
         "layout": {
          "annotationdefaults": {
           "arrowcolor": "#2a3f5f",
           "arrowhead": 0,
           "arrowwidth": 1
          },
          "autotypenumbers": "strict",
          "coloraxis": {
           "colorbar": {
            "outlinewidth": 0,
            "ticks": ""
           }
          },
          "colorscale": {
           "diverging": [
            [
             0,
             "#8e0152"
            ],
            [
             0.1,
             "#c51b7d"
            ],
            [
             0.2,
             "#de77ae"
            ],
            [
             0.3,
             "#f1b6da"
            ],
            [
             0.4,
             "#fde0ef"
            ],
            [
             0.5,
             "#f7f7f7"
            ],
            [
             0.6,
             "#e6f5d0"
            ],
            [
             0.7,
             "#b8e186"
            ],
            [
             0.8,
             "#7fbc41"
            ],
            [
             0.9,
             "#4d9221"
            ],
            [
             1,
             "#276419"
            ]
           ],
           "sequential": [
            [
             0,
             "#0d0887"
            ],
            [
             0.1111111111111111,
             "#46039f"
            ],
            [
             0.2222222222222222,
             "#7201a8"
            ],
            [
             0.3333333333333333,
             "#9c179e"
            ],
            [
             0.4444444444444444,
             "#bd3786"
            ],
            [
             0.5555555555555556,
             "#d8576b"
            ],
            [
             0.6666666666666666,
             "#ed7953"
            ],
            [
             0.7777777777777778,
             "#fb9f3a"
            ],
            [
             0.8888888888888888,
             "#fdca26"
            ],
            [
             1,
             "#f0f921"
            ]
           ],
           "sequentialminus": [
            [
             0,
             "#0d0887"
            ],
            [
             0.1111111111111111,
             "#46039f"
            ],
            [
             0.2222222222222222,
             "#7201a8"
            ],
            [
             0.3333333333333333,
             "#9c179e"
            ],
            [
             0.4444444444444444,
             "#bd3786"
            ],
            [
             0.5555555555555556,
             "#d8576b"
            ],
            [
             0.6666666666666666,
             "#ed7953"
            ],
            [
             0.7777777777777778,
             "#fb9f3a"
            ],
            [
             0.8888888888888888,
             "#fdca26"
            ],
            [
             1,
             "#f0f921"
            ]
           ]
          },
          "colorway": [
           "#636efa",
           "#EF553B",
           "#00cc96",
           "#ab63fa",
           "#FFA15A",
           "#19d3f3",
           "#FF6692",
           "#B6E880",
           "#FF97FF",
           "#FECB52"
          ],
          "font": {
           "color": "#2a3f5f"
          },
          "geo": {
           "bgcolor": "white",
           "lakecolor": "white",
           "landcolor": "#E5ECF6",
           "showlakes": true,
           "showland": true,
           "subunitcolor": "white"
          },
          "hoverlabel": {
           "align": "left"
          },
          "hovermode": "closest",
          "mapbox": {
           "style": "light"
          },
          "paper_bgcolor": "white",
          "plot_bgcolor": "#E5ECF6",
          "polar": {
           "angularaxis": {
            "gridcolor": "white",
            "linecolor": "white",
            "ticks": ""
           },
           "bgcolor": "#E5ECF6",
           "radialaxis": {
            "gridcolor": "white",
            "linecolor": "white",
            "ticks": ""
           }
          },
          "scene": {
           "xaxis": {
            "backgroundcolor": "#E5ECF6",
            "gridcolor": "white",
            "gridwidth": 2,
            "linecolor": "white",
            "showbackground": true,
            "ticks": "",
            "zerolinecolor": "white"
           },
           "yaxis": {
            "backgroundcolor": "#E5ECF6",
            "gridcolor": "white",
            "gridwidth": 2,
            "linecolor": "white",
            "showbackground": true,
            "ticks": "",
            "zerolinecolor": "white"
           },
           "zaxis": {
            "backgroundcolor": "#E5ECF6",
            "gridcolor": "white",
            "gridwidth": 2,
            "linecolor": "white",
            "showbackground": true,
            "ticks": "",
            "zerolinecolor": "white"
           }
          },
          "shapedefaults": {
           "line": {
            "color": "#2a3f5f"
           }
          },
          "ternary": {
           "aaxis": {
            "gridcolor": "white",
            "linecolor": "white",
            "ticks": ""
           },
           "baxis": {
            "gridcolor": "white",
            "linecolor": "white",
            "ticks": ""
           },
           "bgcolor": "#E5ECF6",
           "caxis": {
            "gridcolor": "white",
            "linecolor": "white",
            "ticks": ""
           }
          },
          "title": {
           "x": 0.05
          },
          "xaxis": {
           "automargin": true,
           "gridcolor": "white",
           "linecolor": "white",
           "ticks": "",
           "title": {
            "standoff": 15
           },
           "zerolinecolor": "white",
           "zerolinewidth": 2
          },
          "yaxis": {
           "automargin": true,
           "gridcolor": "white",
           "linecolor": "white",
           "ticks": "",
           "title": {
            "standoff": 15
           },
           "zerolinecolor": "white",
           "zerolinewidth": 2
          }
         }
        },
        "title": {
         "text": "MCAR - 0.5"
        },
        "xaxis": {
         "nticks": 36
        }
       }
      }
     },
     "metadata": {},
     "output_type": "display_data"
    },
    {
     "data": {
      "application/vnd.plotly.v1+json": {
       "config": {
        "plotlyServerURL": "https://plot.ly"
       },
       "data": [
        {
         "autocolorscale": false,
         "colorscale": [
          [
           0,
           "rgb(255,245,240)"
          ],
          [
           0.125,
           "rgb(254,224,210)"
          ],
          [
           0.25,
           "rgb(252,187,161)"
          ],
          [
           0.375,
           "rgb(252,146,114)"
          ],
          [
           0.5,
           "rgb(251,106,74)"
          ],
          [
           0.625,
           "rgb(239,59,44)"
          ],
          [
           0.75,
           "rgb(203,24,29)"
          ],
          [
           0.875,
           "rgb(165,15,21)"
          ],
          [
           1,
           "rgb(103,0,13)"
          ]
         ],
         "type": "heatmap",
         "x": [
          "737",
          "737",
          "737",
          "737",
          "40677",
          "40677",
          "40497",
          "40497",
          "871",
          "871",
          "871",
          "871",
          "728",
          "728",
          "728",
          "728",
          "183",
          "183",
          "42636",
          "42636",
          "1558",
          "1558",
          "1558",
          "1558",
          "40983",
          "40983",
          "40983",
          "40983",
          "40498",
          "40498",
          "40701",
          "40701",
          "40701",
          "40701",
          "41146",
          "41146",
          "41146",
          "41146",
          "42192",
          "42192",
          "42192",
          "42192",
          "1489",
          "1489",
          "1489",
          "1489",
          "1526",
          "1526",
          "30",
          "30",
          "4552",
          "4552",
          "42545",
          "42545",
          "287",
          "287",
          "847",
          "847",
          "847",
          "847",
          "803",
          "803",
          "803",
          "803",
          "1496",
          "1496",
          "1507",
          "1496",
          "1507",
          "1507",
          "1507",
          "1496",
          "197",
          "197",
          "725",
          "725",
          "725",
          "725",
          "189",
          "189",
          "923",
          "923",
          "923",
          "923",
          "198",
          "198",
          "375",
          "375",
          "23515",
          "23515",
          "1459",
          "1459",
          "42688",
          "42688",
          "42183",
          "42183",
          "32",
          "32",
          "310",
          "310",
          "310",
          "310",
          "26",
          "26",
          "1471",
          "1471",
          "1471",
          "1046",
          "1046",
          "1046",
          "1046",
          "216",
          "216",
          "42712",
          "42712",
          "1199",
          "1199",
          "1120",
          "1120",
          "1120",
          "41671",
          "41671",
          "6",
          "6",
          "823",
          "823",
          "823",
          "218",
          "218",
          "42493",
          "42493",
          "42493",
          "184",
          "184",
          "1481",
          "1481",
          "42477",
          "42477",
          "1193",
          "1193",
          "4135",
          "4135",
          "251",
          "137",
          "137",
          "251",
          "1220",
          "1220",
          "881",
          "215",
          "215",
          "901",
          "881",
          "901",
          "41027",
          "41027",
          "151",
          "151",
          "42225",
          "42225",
          "40685",
          "40685",
          "1200",
          "1200",
          "1213",
          "1213",
          "40922",
          "40922",
          "23395",
          "23395",
          "23517",
          "23517"
         ],
         "y": [
          "VAE",
          "Random Forest",
          "KNN",
          "Mean/Mode",
          "KNN",
          "Mean/Mode",
          "Mean/Mode",
          "KNN",
          "KNN",
          "Mean/Mode",
          "Random Forest",
          "VAE",
          "Mean/Mode",
          "KNN",
          "Random Forest",
          "VAE",
          "Mean/Mode",
          "KNN",
          "Mean/Mode",
          "KNN",
          "Random Forest",
          "Mean/Mode",
          "VAE",
          "KNN",
          "Mean/Mode",
          "KNN",
          "VAE",
          "Random Forest",
          "KNN",
          "Mean/Mode",
          "VAE",
          "Mean/Mode",
          "Random Forest",
          "KNN",
          "KNN",
          "Random Forest",
          "VAE",
          "Mean/Mode",
          "KNN",
          "Mean/Mode",
          "VAE",
          "Random Forest",
          "Random Forest",
          "VAE",
          "Mean/Mode",
          "KNN",
          "Mean/Mode",
          "KNN",
          "Mean/Mode",
          "KNN",
          "Mean/Mode",
          "KNN",
          "Mean/Mode",
          "KNN",
          "KNN",
          "Mean/Mode",
          "KNN",
          "Mean/Mode",
          "VAE",
          "Random Forest",
          "KNN",
          "Mean/Mode",
          "VAE",
          "Random Forest",
          "Mean/Mode",
          "KNN",
          "KNN",
          "VAE",
          "Mean/Mode",
          "VAE",
          "Random Forest",
          "Random Forest",
          "Mean/Mode",
          "KNN",
          "Mean/Mode",
          "KNN",
          "VAE",
          "Random Forest",
          "KNN",
          "Mean/Mode",
          "Random Forest",
          "Mean/Mode",
          "VAE",
          "KNN",
          "Mean/Mode",
          "KNN",
          "KNN",
          "Mean/Mode",
          "Mean/Mode",
          "KNN",
          "KNN",
          "Mean/Mode",
          "Mean/Mode",
          "KNN",
          "Mean/Mode",
          "KNN",
          "Mean/Mode",
          "KNN",
          "VAE",
          "KNN",
          "Mean/Mode",
          "Random Forest",
          "Mean/Mode",
          "KNN",
          "Random Forest",
          "KNN",
          "Mean/Mode",
          "VAE",
          "Mean/Mode",
          "Random Forest",
          "KNN",
          "KNN",
          "Mean/Mode",
          "Mean/Mode",
          "KNN",
          "KNN",
          "Mean/Mode",
          "Mean/Mode",
          "KNN",
          "Random Forest",
          "KNN",
          "Mean/Mode",
          "Mean/Mode",
          "KNN",
          "Random Forest",
          "Mean/Mode",
          "KNN",
          "KNN",
          "Mean/Mode",
          "Random Forest",
          "KNN",
          "Mean/Mode",
          "Mean/Mode",
          "KNN",
          "Mean/Mode",
          "KNN",
          "Mean/Mode",
          "KNN",
          "KNN",
          "Mean/Mode",
          "Mean/Mode",
          "KNN",
          "KNN",
          "KNN",
          "Mean/Mode",
          "Mean/Mode",
          "Mean/Mode",
          "KNN",
          "Mean/Mode",
          "KNN",
          "Mean/Mode",
          "KNN",
          "KNN",
          "Mean/Mode",
          "KNN",
          "Mean/Mode",
          "KNN",
          "Mean/Mode",
          "KNN",
          "Mean/Mode",
          "Mean/Mode",
          "KNN",
          "Mean/Mode",
          "KNN",
          "Mean/Mode",
          "KNN",
          "KNN",
          "Mean/Mode",
          "Mean/Mode",
          "KNN",
          "Mean/Mode",
          "KNN"
         ],
         "z": [
          0.8203668166025254,
          0.8208219410871483,
          0.8208342670629039,
          0.8224926859324637,
          0.7578964405438328,
          0.7578964405438328,
          0.7137589246176897,
          0.7448510164299638,
          0.5059343434343434,
          0.5066850254188627,
          0.5068181818181818,
          0.507188130122704,
          0.9891594931294444,
          0.9891594931294444,
          0.9891594931294444,
          0.9873193180540718,
          0.1184762263413968,
          0.1179515137084781,
          0.3319258754632583,
          0.3322729774845629,
          0.6192776920821489,
          0.6192776920821489,
          0.6192776920821489,
          0.6192776920821489,
          0.7398853400295362,
          0.7309970866824184,
          0.7379266068958144,
          0.7398853400295362,
          0.1960174792686347,
          0.1961758397975758,
          0.657450245705441,
          0.6570968260785505,
          0.657450245705441,
          0.6570968260785505,
          0.9166845968108248,
          0.9166845968108248,
          0.9166845968108248,
          0.9166845968108248,
          0.663180316683724,
          0.663180316683724,
          0.663180316683724,
          0.663180316683724,
          0.6950703686226533,
          0.697620272010246,
          0.696866819048779,
          0.6953084421345731,
          0.8930642480599614,
          0.8930642480599614,
          0.7383948990222624,
          0.7354299899595976,
          0.3985781819628703,
          0.4330282616814769,
          20.767078478321903,
          20.767075358357605,
          0.7464154215442832,
          0.7464117900615076,
          0.8401216904741261,
          0.8401216904741261,
          0.8401216904741261,
          0.8398632850555302,
          0.9428235934894224,
          0.9428235934894224,
          0.9425906073042984,
          0.9428235934894224,
          0.7716792761268061,
          0.7716792761268061,
          0.9803856244724524,
          0.7716792761268061,
          0.9803856244724524,
          0.9806108029890448,
          0.9803856244724524,
          0.7716792761268061,
          9.19431540847576,
          9.194242509124352,
          0.9309247532974472,
          0.930716476298684,
          0.9300780157805968,
          0.929231537879561,
          0.2051210618812492,
          0.2051301553804732,
          0.9951372302181104,
          0.9830908973032942,
          0.9823146324720164,
          0.995136886688934,
          0.0014197969750826,
          0.001419801221289,
          0.9171578705805395,
          0.916325737568946,
          0.0468681898477405,
          0.046868690133923,
          0.2849552168202142,
          0.3177204709033222,
          6501.077511012692,
          6501.077510649899,
          4.533450055652451,
          4.533454533248094,
          0.9330203589044932,
          0.9326152383752564,
          0.7741430662830027,
          0.7741430662830027,
          0.7741430662830027,
          0.7741430662830027,
          0.5566954543554619,
          0.5566954543554619,
          0.5507270660059743,
          0.5499728508571506,
          0.5499728508571506,
          0.7903305217704407,
          0.7902238814236108,
          0.7904583486810877,
          0.7900751897279109,
          0.0028477232422042,
          0.0028477572738089,
          149.48143165185004,
          149.45321073701388,
          11.950969305351412,
          11.95112543178727,
          0.7597328706812009,
          0.7598163943230808,
          0.7598164154316077,
          0.2434610281546148,
          0.2434864120014602,
          0.7257675134138744,
          0.7261118590341087,
          0.964664351851852,
          0.9644965450785308,
          0.9644965450785308,
          72725.05580698255,
          72725.05580781381,
          0.6254813464915886,
          0.6257677054743584,
          0.6254037707947118,
          0.2974898253237579,
          0.2940526704489621,
          0.2219790955959151,
          0.2215719053201934,
          0.6286012733063997,
          0.6287581699346405,
          950.0329761831672,
          950.0115508091652,
          0.6815858816124439,
          0.6815858816124439,
          0.9776984149965656,
          0.6698914478885554,
          0.669627458965632,
          0.9776501595031524,
          0.4653283414605453,
          0.4655750753311728,
          0.9936611035087624,
          2.3808000312199664,
          2.380665315337549,
          0.8391382512251866,
          0.9936611035087624,
          0.8391382544469819,
          0.4777905566402367,
          0.4777905566402367,
          0.7470152069018337,
          0.7468436008469981,
          4702.804634826533,
          4702.860065474025,
          0.3825497001545186,
          0.3836385263386627,
          4.5541973034710725,
          4.5521895947627415,
          6.35383248341763,
          6.353941050288977,
          0.7563444068659502,
          0.7563248447618305,
          0.15141318520229,
          0.1514132161381412,
          0.5201643379706676,
          0.5201482433666389
         ],
         "zmin": 0
        }
       ],
       "layout": {
        "template": {
         "data": {
          "bar": [
           {
            "error_x": {
             "color": "#2a3f5f"
            },
            "error_y": {
             "color": "#2a3f5f"
            },
            "marker": {
             "line": {
              "color": "#E5ECF6",
              "width": 0.5
             },
             "pattern": {
              "fillmode": "overlay",
              "size": 10,
              "solidity": 0.2
             }
            },
            "type": "bar"
           }
          ],
          "barpolar": [
           {
            "marker": {
             "line": {
              "color": "#E5ECF6",
              "width": 0.5
             },
             "pattern": {
              "fillmode": "overlay",
              "size": 10,
              "solidity": 0.2
             }
            },
            "type": "barpolar"
           }
          ],
          "carpet": [
           {
            "aaxis": {
             "endlinecolor": "#2a3f5f",
             "gridcolor": "white",
             "linecolor": "white",
             "minorgridcolor": "white",
             "startlinecolor": "#2a3f5f"
            },
            "baxis": {
             "endlinecolor": "#2a3f5f",
             "gridcolor": "white",
             "linecolor": "white",
             "minorgridcolor": "white",
             "startlinecolor": "#2a3f5f"
            },
            "type": "carpet"
           }
          ],
          "choropleth": [
           {
            "colorbar": {
             "outlinewidth": 0,
             "ticks": ""
            },
            "type": "choropleth"
           }
          ],
          "contour": [
           {
            "colorbar": {
             "outlinewidth": 0,
             "ticks": ""
            },
            "colorscale": [
             [
              0,
              "#0d0887"
             ],
             [
              0.1111111111111111,
              "#46039f"
             ],
             [
              0.2222222222222222,
              "#7201a8"
             ],
             [
              0.3333333333333333,
              "#9c179e"
             ],
             [
              0.4444444444444444,
              "#bd3786"
             ],
             [
              0.5555555555555556,
              "#d8576b"
             ],
             [
              0.6666666666666666,
              "#ed7953"
             ],
             [
              0.7777777777777778,
              "#fb9f3a"
             ],
             [
              0.8888888888888888,
              "#fdca26"
             ],
             [
              1,
              "#f0f921"
             ]
            ],
            "type": "contour"
           }
          ],
          "contourcarpet": [
           {
            "colorbar": {
             "outlinewidth": 0,
             "ticks": ""
            },
            "type": "contourcarpet"
           }
          ],
          "heatmap": [
           {
            "colorbar": {
             "outlinewidth": 0,
             "ticks": ""
            },
            "colorscale": [
             [
              0,
              "#0d0887"
             ],
             [
              0.1111111111111111,
              "#46039f"
             ],
             [
              0.2222222222222222,
              "#7201a8"
             ],
             [
              0.3333333333333333,
              "#9c179e"
             ],
             [
              0.4444444444444444,
              "#bd3786"
             ],
             [
              0.5555555555555556,
              "#d8576b"
             ],
             [
              0.6666666666666666,
              "#ed7953"
             ],
             [
              0.7777777777777778,
              "#fb9f3a"
             ],
             [
              0.8888888888888888,
              "#fdca26"
             ],
             [
              1,
              "#f0f921"
             ]
            ],
            "type": "heatmap"
           }
          ],
          "heatmapgl": [
           {
            "colorbar": {
             "outlinewidth": 0,
             "ticks": ""
            },
            "colorscale": [
             [
              0,
              "#0d0887"
             ],
             [
              0.1111111111111111,
              "#46039f"
             ],
             [
              0.2222222222222222,
              "#7201a8"
             ],
             [
              0.3333333333333333,
              "#9c179e"
             ],
             [
              0.4444444444444444,
              "#bd3786"
             ],
             [
              0.5555555555555556,
              "#d8576b"
             ],
             [
              0.6666666666666666,
              "#ed7953"
             ],
             [
              0.7777777777777778,
              "#fb9f3a"
             ],
             [
              0.8888888888888888,
              "#fdca26"
             ],
             [
              1,
              "#f0f921"
             ]
            ],
            "type": "heatmapgl"
           }
          ],
          "histogram": [
           {
            "marker": {
             "pattern": {
              "fillmode": "overlay",
              "size": 10,
              "solidity": 0.2
             }
            },
            "type": "histogram"
           }
          ],
          "histogram2d": [
           {
            "colorbar": {
             "outlinewidth": 0,
             "ticks": ""
            },
            "colorscale": [
             [
              0,
              "#0d0887"
             ],
             [
              0.1111111111111111,
              "#46039f"
             ],
             [
              0.2222222222222222,
              "#7201a8"
             ],
             [
              0.3333333333333333,
              "#9c179e"
             ],
             [
              0.4444444444444444,
              "#bd3786"
             ],
             [
              0.5555555555555556,
              "#d8576b"
             ],
             [
              0.6666666666666666,
              "#ed7953"
             ],
             [
              0.7777777777777778,
              "#fb9f3a"
             ],
             [
              0.8888888888888888,
              "#fdca26"
             ],
             [
              1,
              "#f0f921"
             ]
            ],
            "type": "histogram2d"
           }
          ],
          "histogram2dcontour": [
           {
            "colorbar": {
             "outlinewidth": 0,
             "ticks": ""
            },
            "colorscale": [
             [
              0,
              "#0d0887"
             ],
             [
              0.1111111111111111,
              "#46039f"
             ],
             [
              0.2222222222222222,
              "#7201a8"
             ],
             [
              0.3333333333333333,
              "#9c179e"
             ],
             [
              0.4444444444444444,
              "#bd3786"
             ],
             [
              0.5555555555555556,
              "#d8576b"
             ],
             [
              0.6666666666666666,
              "#ed7953"
             ],
             [
              0.7777777777777778,
              "#fb9f3a"
             ],
             [
              0.8888888888888888,
              "#fdca26"
             ],
             [
              1,
              "#f0f921"
             ]
            ],
            "type": "histogram2dcontour"
           }
          ],
          "mesh3d": [
           {
            "colorbar": {
             "outlinewidth": 0,
             "ticks": ""
            },
            "type": "mesh3d"
           }
          ],
          "parcoords": [
           {
            "line": {
             "colorbar": {
              "outlinewidth": 0,
              "ticks": ""
             }
            },
            "type": "parcoords"
           }
          ],
          "pie": [
           {
            "automargin": true,
            "type": "pie"
           }
          ],
          "scatter": [
           {
            "fillpattern": {
             "fillmode": "overlay",
             "size": 10,
             "solidity": 0.2
            },
            "type": "scatter"
           }
          ],
          "scatter3d": [
           {
            "line": {
             "colorbar": {
              "outlinewidth": 0,
              "ticks": ""
             }
            },
            "marker": {
             "colorbar": {
              "outlinewidth": 0,
              "ticks": ""
             }
            },
            "type": "scatter3d"
           }
          ],
          "scattercarpet": [
           {
            "marker": {
             "colorbar": {
              "outlinewidth": 0,
              "ticks": ""
             }
            },
            "type": "scattercarpet"
           }
          ],
          "scattergeo": [
           {
            "marker": {
             "colorbar": {
              "outlinewidth": 0,
              "ticks": ""
             }
            },
            "type": "scattergeo"
           }
          ],
          "scattergl": [
           {
            "marker": {
             "colorbar": {
              "outlinewidth": 0,
              "ticks": ""
             }
            },
            "type": "scattergl"
           }
          ],
          "scattermapbox": [
           {
            "marker": {
             "colorbar": {
              "outlinewidth": 0,
              "ticks": ""
             }
            },
            "type": "scattermapbox"
           }
          ],
          "scatterpolar": [
           {
            "marker": {
             "colorbar": {
              "outlinewidth": 0,
              "ticks": ""
             }
            },
            "type": "scatterpolar"
           }
          ],
          "scatterpolargl": [
           {
            "marker": {
             "colorbar": {
              "outlinewidth": 0,
              "ticks": ""
             }
            },
            "type": "scatterpolargl"
           }
          ],
          "scatterternary": [
           {
            "marker": {
             "colorbar": {
              "outlinewidth": 0,
              "ticks": ""
             }
            },
            "type": "scatterternary"
           }
          ],
          "surface": [
           {
            "colorbar": {
             "outlinewidth": 0,
             "ticks": ""
            },
            "colorscale": [
             [
              0,
              "#0d0887"
             ],
             [
              0.1111111111111111,
              "#46039f"
             ],
             [
              0.2222222222222222,
              "#7201a8"
             ],
             [
              0.3333333333333333,
              "#9c179e"
             ],
             [
              0.4444444444444444,
              "#bd3786"
             ],
             [
              0.5555555555555556,
              "#d8576b"
             ],
             [
              0.6666666666666666,
              "#ed7953"
             ],
             [
              0.7777777777777778,
              "#fb9f3a"
             ],
             [
              0.8888888888888888,
              "#fdca26"
             ],
             [
              1,
              "#f0f921"
             ]
            ],
            "type": "surface"
           }
          ],
          "table": [
           {
            "cells": {
             "fill": {
              "color": "#EBF0F8"
             },
             "line": {
              "color": "white"
             }
            },
            "header": {
             "fill": {
              "color": "#C8D4E3"
             },
             "line": {
              "color": "white"
             }
            },
            "type": "table"
           }
          ]
         },
         "layout": {
          "annotationdefaults": {
           "arrowcolor": "#2a3f5f",
           "arrowhead": 0,
           "arrowwidth": 1
          },
          "autotypenumbers": "strict",
          "coloraxis": {
           "colorbar": {
            "outlinewidth": 0,
            "ticks": ""
           }
          },
          "colorscale": {
           "diverging": [
            [
             0,
             "#8e0152"
            ],
            [
             0.1,
             "#c51b7d"
            ],
            [
             0.2,
             "#de77ae"
            ],
            [
             0.3,
             "#f1b6da"
            ],
            [
             0.4,
             "#fde0ef"
            ],
            [
             0.5,
             "#f7f7f7"
            ],
            [
             0.6,
             "#e6f5d0"
            ],
            [
             0.7,
             "#b8e186"
            ],
            [
             0.8,
             "#7fbc41"
            ],
            [
             0.9,
             "#4d9221"
            ],
            [
             1,
             "#276419"
            ]
           ],
           "sequential": [
            [
             0,
             "#0d0887"
            ],
            [
             0.1111111111111111,
             "#46039f"
            ],
            [
             0.2222222222222222,
             "#7201a8"
            ],
            [
             0.3333333333333333,
             "#9c179e"
            ],
            [
             0.4444444444444444,
             "#bd3786"
            ],
            [
             0.5555555555555556,
             "#d8576b"
            ],
            [
             0.6666666666666666,
             "#ed7953"
            ],
            [
             0.7777777777777778,
             "#fb9f3a"
            ],
            [
             0.8888888888888888,
             "#fdca26"
            ],
            [
             1,
             "#f0f921"
            ]
           ],
           "sequentialminus": [
            [
             0,
             "#0d0887"
            ],
            [
             0.1111111111111111,
             "#46039f"
            ],
            [
             0.2222222222222222,
             "#7201a8"
            ],
            [
             0.3333333333333333,
             "#9c179e"
            ],
            [
             0.4444444444444444,
             "#bd3786"
            ],
            [
             0.5555555555555556,
             "#d8576b"
            ],
            [
             0.6666666666666666,
             "#ed7953"
            ],
            [
             0.7777777777777778,
             "#fb9f3a"
            ],
            [
             0.8888888888888888,
             "#fdca26"
            ],
            [
             1,
             "#f0f921"
            ]
           ]
          },
          "colorway": [
           "#636efa",
           "#EF553B",
           "#00cc96",
           "#ab63fa",
           "#FFA15A",
           "#19d3f3",
           "#FF6692",
           "#B6E880",
           "#FF97FF",
           "#FECB52"
          ],
          "font": {
           "color": "#2a3f5f"
          },
          "geo": {
           "bgcolor": "white",
           "lakecolor": "white",
           "landcolor": "#E5ECF6",
           "showlakes": true,
           "showland": true,
           "subunitcolor": "white"
          },
          "hoverlabel": {
           "align": "left"
          },
          "hovermode": "closest",
          "mapbox": {
           "style": "light"
          },
          "paper_bgcolor": "white",
          "plot_bgcolor": "#E5ECF6",
          "polar": {
           "angularaxis": {
            "gridcolor": "white",
            "linecolor": "white",
            "ticks": ""
           },
           "bgcolor": "#E5ECF6",
           "radialaxis": {
            "gridcolor": "white",
            "linecolor": "white",
            "ticks": ""
           }
          },
          "scene": {
           "xaxis": {
            "backgroundcolor": "#E5ECF6",
            "gridcolor": "white",
            "gridwidth": 2,
            "linecolor": "white",
            "showbackground": true,
            "ticks": "",
            "zerolinecolor": "white"
           },
           "yaxis": {
            "backgroundcolor": "#E5ECF6",
            "gridcolor": "white",
            "gridwidth": 2,
            "linecolor": "white",
            "showbackground": true,
            "ticks": "",
            "zerolinecolor": "white"
           },
           "zaxis": {
            "backgroundcolor": "#E5ECF6",
            "gridcolor": "white",
            "gridwidth": 2,
            "linecolor": "white",
            "showbackground": true,
            "ticks": "",
            "zerolinecolor": "white"
           }
          },
          "shapedefaults": {
           "line": {
            "color": "#2a3f5f"
           }
          },
          "ternary": {
           "aaxis": {
            "gridcolor": "white",
            "linecolor": "white",
            "ticks": ""
           },
           "baxis": {
            "gridcolor": "white",
            "linecolor": "white",
            "ticks": ""
           },
           "bgcolor": "#E5ECF6",
           "caxis": {
            "gridcolor": "white",
            "linecolor": "white",
            "ticks": ""
           }
          },
          "title": {
           "x": 0.05
          },
          "xaxis": {
           "automargin": true,
           "gridcolor": "white",
           "linecolor": "white",
           "ticks": "",
           "title": {
            "standoff": 15
           },
           "zerolinecolor": "white",
           "zerolinewidth": 2
          },
          "yaxis": {
           "automargin": true,
           "gridcolor": "white",
           "linecolor": "white",
           "ticks": "",
           "title": {
            "standoff": 15
           },
           "zerolinecolor": "white",
           "zerolinewidth": 2
          }
         }
        },
        "title": {
         "text": "MCAR - 0.01"
        },
        "xaxis": {
         "nticks": 36
        }
       }
      }
     },
     "metadata": {},
     "output_type": "display_data"
    },
    {
     "data": {
      "application/vnd.plotly.v1+json": {
       "config": {
        "plotlyServerURL": "https://plot.ly"
       },
       "data": [
        {
         "autocolorscale": false,
         "colorscale": [
          [
           0,
           "rgb(255,245,240)"
          ],
          [
           0.125,
           "rgb(254,224,210)"
          ],
          [
           0.25,
           "rgb(252,187,161)"
          ],
          [
           0.375,
           "rgb(252,146,114)"
          ],
          [
           0.5,
           "rgb(251,106,74)"
          ],
          [
           0.625,
           "rgb(239,59,44)"
          ],
          [
           0.75,
           "rgb(203,24,29)"
          ],
          [
           0.875,
           "rgb(165,15,21)"
          ],
          [
           1,
           "rgb(103,0,13)"
          ]
         ],
         "type": "heatmap",
         "x": [
          "737",
          "737",
          "737",
          "737",
          "40677",
          "40677",
          "40497",
          "40497",
          "871",
          "871",
          "871",
          "871",
          "728",
          "728",
          "728",
          "728",
          "183",
          "183",
          "42636",
          "42636",
          "1558",
          "1558",
          "1558",
          "1558",
          "40983",
          "40983",
          "40983",
          "40983",
          "40498",
          "40498",
          "40701",
          "40701",
          "40701",
          "40701",
          "41146",
          "41146",
          "41146",
          "41146",
          "42192",
          "42192",
          "42192",
          "42192",
          "1489",
          "1489",
          "1489",
          "1489",
          "1526",
          "1526",
          "30",
          "30",
          "4552",
          "4552",
          "42545",
          "42545",
          "287",
          "287",
          "847",
          "847",
          "847",
          "847",
          "803",
          "803",
          "803",
          "803",
          "1496",
          "1496",
          "1507",
          "1496",
          "1507",
          "1507",
          "1507",
          "1496",
          "197",
          "197",
          "725",
          "725",
          "725",
          "725",
          "189",
          "189",
          "923",
          "923",
          "923",
          "923",
          "198",
          "198",
          "375",
          "375",
          "23515",
          "23515",
          "1459",
          "1459",
          "42688",
          "42688",
          "42183",
          "42183",
          "32",
          "32",
          "310",
          "310",
          "310",
          "310",
          "26",
          "26",
          "1471",
          "1471",
          "1471",
          "1046",
          "1046",
          "1046",
          "1046",
          "216",
          "216",
          "42712",
          "42712",
          "1199",
          "1199",
          "1120",
          "1120",
          "1120",
          "41671",
          "41671",
          "6",
          "6",
          "823",
          "823",
          "823",
          "218",
          "218",
          "42493",
          "42493",
          "42493",
          "184",
          "184",
          "1481",
          "1481",
          "42477",
          "42477",
          "1193",
          "1193",
          "4135",
          "4135",
          "251",
          "137",
          "137",
          "251",
          "1220",
          "1220",
          "881",
          "215",
          "215",
          "901",
          "881",
          "901",
          "41027",
          "41027",
          "151",
          "151",
          "42225",
          "42225",
          "40685",
          "40685",
          "1200",
          "1200",
          "1213",
          "1213",
          "40922",
          "40922",
          "23395",
          "23395",
          "23517",
          "23517"
         ],
         "y": [
          "Mean/Mode",
          "KNN",
          "VAE",
          "Random Forest",
          "KNN",
          "Mean/Mode",
          "Mean/Mode",
          "KNN",
          "Mean/Mode",
          "Random Forest",
          "VAE",
          "KNN",
          "KNN",
          "VAE",
          "Random Forest",
          "Mean/Mode",
          "KNN",
          "Mean/Mode",
          "KNN",
          "Mean/Mode",
          "VAE",
          "Mean/Mode",
          "Random Forest",
          "KNN",
          "KNN",
          "VAE",
          "Mean/Mode",
          "Random Forest",
          "Mean/Mode",
          "KNN",
          "Random Forest",
          "VAE",
          "KNN",
          "Mean/Mode",
          "Mean/Mode",
          "KNN",
          "VAE",
          "Random Forest",
          "Mean/Mode",
          "VAE",
          "KNN",
          "Random Forest",
          "VAE",
          "KNN",
          "Mean/Mode",
          "Random Forest",
          "KNN",
          "Mean/Mode",
          "Mean/Mode",
          "KNN",
          "Mean/Mode",
          "KNN",
          "Mean/Mode",
          "KNN",
          "Mean/Mode",
          "KNN",
          "Mean/Mode",
          "KNN",
          "VAE",
          "Random Forest",
          "Random Forest",
          "KNN",
          "Mean/Mode",
          "VAE",
          "Mean/Mode",
          "KNN",
          "KNN",
          "VAE",
          "Random Forest",
          "VAE",
          "Mean/Mode",
          "Random Forest",
          "Mean/Mode",
          "KNN",
          "KNN",
          "Mean/Mode",
          "Random Forest",
          "VAE",
          "KNN",
          "Mean/Mode",
          "KNN",
          "Mean/Mode",
          "VAE",
          "Random Forest",
          "KNN",
          "Mean/Mode",
          "KNN",
          "Mean/Mode",
          "Mean/Mode",
          "KNN",
          "Mean/Mode",
          "KNN",
          "Mean/Mode",
          "KNN",
          "Mean/Mode",
          "KNN",
          "KNN",
          "Mean/Mode",
          "Random Forest",
          "KNN",
          "Mean/Mode",
          "VAE",
          "KNN",
          "Mean/Mode",
          "KNN",
          "Mean/Mode",
          "Random Forest",
          "Mean/Mode",
          "Random Forest",
          "VAE",
          "KNN",
          "KNN",
          "Mean/Mode",
          "Mean/Mode",
          "KNN",
          "KNN",
          "Mean/Mode",
          "Random Forest",
          "Mean/Mode",
          "KNN",
          "Mean/Mode",
          "KNN",
          "Mean/Mode",
          "KNN",
          "Random Forest",
          "Mean/Mode",
          "KNN",
          "KNN",
          "Mean/Mode",
          "Random Forest",
          "KNN",
          "Mean/Mode",
          "Mean/Mode",
          "KNN",
          "KNN",
          "Mean/Mode",
          "KNN",
          "Mean/Mode",
          "KNN",
          "Mean/Mode",
          "Mean/Mode",
          "KNN",
          "Mean/Mode",
          "Mean/Mode",
          "KNN",
          "KNN",
          "KNN",
          "Mean/Mode",
          "Mean/Mode",
          "KNN",
          "Mean/Mode",
          "KNN",
          "KNN",
          "Mean/Mode",
          "KNN",
          "Mean/Mode",
          "KNN",
          "Mean/Mode",
          "KNN",
          "Mean/Mode",
          "KNN",
          "Mean/Mode",
          "Mean/Mode",
          "KNN",
          "KNN",
          "Mean/Mode",
          "Mean/Mode",
          "KNN",
          "KNN",
          "Mean/Mode",
          "Mean/Mode",
          "KNN"
         ],
         "z": [
          0.8069182902622442,
          0.8069673026453416,
          0.814461430652786,
          0.8214481064705274,
          0.7514125356234188,
          0.7509607972495406,
          0.7389399735157843,
          0.7960486048922704,
          0.4792524122948007,
          0.5140040978471342,
          0.5145074616441365,
          0.5161489297198901,
          0.9807254583665636,
          0.981341240516024,
          0.983772246740109,
          0.9807254583665636,
          0.1320677420718619,
          0.1306182000058318,
          0.3324114133099944,
          0.3329150883901807,
          0.6983398190981761,
          0.6279284642702371,
          0.701189631033687,
          0.6279284642702371,
          0.6468989974470071,
          0.5756965863939442,
          0.6212784436100423,
          0.6634080432363695,
          0.1832730249817425,
          0.185375603087989,
          0.6301358438032384,
          0.6254320885084638,
          0.6265118137343126,
          0.6265118137343126,
          0.9134326716350142,
          0.9134326716350142,
          0.9150623686428926,
          0.9127943345203589,
          0.6604408689866482,
          0.6593520059927448,
          0.6612419975983131,
          0.6610921982777593,
          0.6875535290310992,
          0.6912107977607453,
          0.6911382073394489,
          0.6902134161839952,
          0.835666075994165,
          0.8719422078239415,
          0.735652280969096,
          0.6829631651392223,
          0.4166809876439119,
          0.4197858827683847,
          20.766670025686377,
          20.76666779711503,
          0.7469454010837376,
          0.7469183720415593,
          0.8475587952886464,
          0.8473083302250842,
          0.8498561750010363,
          0.8473010269668378,
          0.9402501945789477,
          0.9402473417288388,
          0.9397787534196596,
          0.940952080293143,
          0.7724240682513438,
          0.7724240682513438,
          0.980382713803665,
          0.7730855682269758,
          0.9799329727258348,
          0.9808342562979696,
          0.9806084922508176,
          0.772834788168753,
          9.2296036219353,
          9.229567948809809,
          0.9283710457557678,
          0.9270367400286904,
          0.9259674971951296,
          0.9246459700049257,
          0.2058614094791314,
          0.205875481734783,
          0.9857858442735256,
          0.9836568298868146,
          0.9784276228917972,
          0.9838465734924184,
          0.0014368434168898,
          0.0014369809976635,
          0.9119068495344032,
          0.9110653106170074,
          0.0470328457471412,
          0.0470340469426344,
          0.3094567006291225,
          0.3098504373350292,
          6502.348325306729,
          6502.348324836374,
          4.554823532075937,
          4.554837295772008,
          0.9237835063754,
          0.9218121488882858,
          0.7734406160735102,
          0.7701326276306365,
          0.7701326276306365,
          0.7701326276306365,
          0.5740437373812383,
          0.5835455172794435,
          0.552040390220067,
          0.552040390220067,
          0.5513945054238186,
          0.7939015622866469,
          0.7925161788265102,
          0.795111321719217,
          0.7908909181153306,
          0.00293619547476,
          0.0029362045116776,
          149.70466314413764,
          149.64582530505314,
          11.96373163861502,
          11.964943320503144,
          0.757744738196048,
          0.757864529755479,
          0.7584179057263163,
          0.2209201986273972,
          0.2307455991852807,
          0.7179074173261641,
          0.7195114837515497,
          0.9601612590751604,
          0.95966791435219,
          0.95966791435219,
          72725.0239301751,
          72725.02399569195,
          0.6199458542046015,
          0.6210811007730642,
          0.6195264851720136,
          0.2984762738549066,
          0.2849837780696493,
          0.2174182615905986,
          0.2059641453906615,
          0.6260503685587517,
          0.6262062821375758,
          955.698263584632,
          955.5615152064152,
          0.66834135292242,
          0.6760951585449279,
          0.9769302914769562,
          0.6698606170646147,
          0.6658748825506507,
          0.976836614109618,
          0.4835241481510783,
          0.483544219028293,
          0.9801795962022014,
          2.4023583201492413,
          2.401844271631098,
          0.8372577150646626,
          0.9803064601332192,
          0.8376256644737614,
          0.4721696536340054,
          0.472098266595261,
          0.7487500455363746,
          0.7478819805805418,
          4708.038416107376,
          4708.559952140153,
          0.3870973466062064,
          0.3898365363343734,
          4.578543137057037,
          4.565591033884874,
          6.398256373570476,
          6.399542060298951,
          0.7422287135879798,
          0.7198993042694907,
          0.1514296695249435,
          0.1514306055580182,
          0.520675700545331,
          0.5204120062576686
         ],
         "zmin": 0
        }
       ],
       "layout": {
        "template": {
         "data": {
          "bar": [
           {
            "error_x": {
             "color": "#2a3f5f"
            },
            "error_y": {
             "color": "#2a3f5f"
            },
            "marker": {
             "line": {
              "color": "#E5ECF6",
              "width": 0.5
             },
             "pattern": {
              "fillmode": "overlay",
              "size": 10,
              "solidity": 0.2
             }
            },
            "type": "bar"
           }
          ],
          "barpolar": [
           {
            "marker": {
             "line": {
              "color": "#E5ECF6",
              "width": 0.5
             },
             "pattern": {
              "fillmode": "overlay",
              "size": 10,
              "solidity": 0.2
             }
            },
            "type": "barpolar"
           }
          ],
          "carpet": [
           {
            "aaxis": {
             "endlinecolor": "#2a3f5f",
             "gridcolor": "white",
             "linecolor": "white",
             "minorgridcolor": "white",
             "startlinecolor": "#2a3f5f"
            },
            "baxis": {
             "endlinecolor": "#2a3f5f",
             "gridcolor": "white",
             "linecolor": "white",
             "minorgridcolor": "white",
             "startlinecolor": "#2a3f5f"
            },
            "type": "carpet"
           }
          ],
          "choropleth": [
           {
            "colorbar": {
             "outlinewidth": 0,
             "ticks": ""
            },
            "type": "choropleth"
           }
          ],
          "contour": [
           {
            "colorbar": {
             "outlinewidth": 0,
             "ticks": ""
            },
            "colorscale": [
             [
              0,
              "#0d0887"
             ],
             [
              0.1111111111111111,
              "#46039f"
             ],
             [
              0.2222222222222222,
              "#7201a8"
             ],
             [
              0.3333333333333333,
              "#9c179e"
             ],
             [
              0.4444444444444444,
              "#bd3786"
             ],
             [
              0.5555555555555556,
              "#d8576b"
             ],
             [
              0.6666666666666666,
              "#ed7953"
             ],
             [
              0.7777777777777778,
              "#fb9f3a"
             ],
             [
              0.8888888888888888,
              "#fdca26"
             ],
             [
              1,
              "#f0f921"
             ]
            ],
            "type": "contour"
           }
          ],
          "contourcarpet": [
           {
            "colorbar": {
             "outlinewidth": 0,
             "ticks": ""
            },
            "type": "contourcarpet"
           }
          ],
          "heatmap": [
           {
            "colorbar": {
             "outlinewidth": 0,
             "ticks": ""
            },
            "colorscale": [
             [
              0,
              "#0d0887"
             ],
             [
              0.1111111111111111,
              "#46039f"
             ],
             [
              0.2222222222222222,
              "#7201a8"
             ],
             [
              0.3333333333333333,
              "#9c179e"
             ],
             [
              0.4444444444444444,
              "#bd3786"
             ],
             [
              0.5555555555555556,
              "#d8576b"
             ],
             [
              0.6666666666666666,
              "#ed7953"
             ],
             [
              0.7777777777777778,
              "#fb9f3a"
             ],
             [
              0.8888888888888888,
              "#fdca26"
             ],
             [
              1,
              "#f0f921"
             ]
            ],
            "type": "heatmap"
           }
          ],
          "heatmapgl": [
           {
            "colorbar": {
             "outlinewidth": 0,
             "ticks": ""
            },
            "colorscale": [
             [
              0,
              "#0d0887"
             ],
             [
              0.1111111111111111,
              "#46039f"
             ],
             [
              0.2222222222222222,
              "#7201a8"
             ],
             [
              0.3333333333333333,
              "#9c179e"
             ],
             [
              0.4444444444444444,
              "#bd3786"
             ],
             [
              0.5555555555555556,
              "#d8576b"
             ],
             [
              0.6666666666666666,
              "#ed7953"
             ],
             [
              0.7777777777777778,
              "#fb9f3a"
             ],
             [
              0.8888888888888888,
              "#fdca26"
             ],
             [
              1,
              "#f0f921"
             ]
            ],
            "type": "heatmapgl"
           }
          ],
          "histogram": [
           {
            "marker": {
             "pattern": {
              "fillmode": "overlay",
              "size": 10,
              "solidity": 0.2
             }
            },
            "type": "histogram"
           }
          ],
          "histogram2d": [
           {
            "colorbar": {
             "outlinewidth": 0,
             "ticks": ""
            },
            "colorscale": [
             [
              0,
              "#0d0887"
             ],
             [
              0.1111111111111111,
              "#46039f"
             ],
             [
              0.2222222222222222,
              "#7201a8"
             ],
             [
              0.3333333333333333,
              "#9c179e"
             ],
             [
              0.4444444444444444,
              "#bd3786"
             ],
             [
              0.5555555555555556,
              "#d8576b"
             ],
             [
              0.6666666666666666,
              "#ed7953"
             ],
             [
              0.7777777777777778,
              "#fb9f3a"
             ],
             [
              0.8888888888888888,
              "#fdca26"
             ],
             [
              1,
              "#f0f921"
             ]
            ],
            "type": "histogram2d"
           }
          ],
          "histogram2dcontour": [
           {
            "colorbar": {
             "outlinewidth": 0,
             "ticks": ""
            },
            "colorscale": [
             [
              0,
              "#0d0887"
             ],
             [
              0.1111111111111111,
              "#46039f"
             ],
             [
              0.2222222222222222,
              "#7201a8"
             ],
             [
              0.3333333333333333,
              "#9c179e"
             ],
             [
              0.4444444444444444,
              "#bd3786"
             ],
             [
              0.5555555555555556,
              "#d8576b"
             ],
             [
              0.6666666666666666,
              "#ed7953"
             ],
             [
              0.7777777777777778,
              "#fb9f3a"
             ],
             [
              0.8888888888888888,
              "#fdca26"
             ],
             [
              1,
              "#f0f921"
             ]
            ],
            "type": "histogram2dcontour"
           }
          ],
          "mesh3d": [
           {
            "colorbar": {
             "outlinewidth": 0,
             "ticks": ""
            },
            "type": "mesh3d"
           }
          ],
          "parcoords": [
           {
            "line": {
             "colorbar": {
              "outlinewidth": 0,
              "ticks": ""
             }
            },
            "type": "parcoords"
           }
          ],
          "pie": [
           {
            "automargin": true,
            "type": "pie"
           }
          ],
          "scatter": [
           {
            "fillpattern": {
             "fillmode": "overlay",
             "size": 10,
             "solidity": 0.2
            },
            "type": "scatter"
           }
          ],
          "scatter3d": [
           {
            "line": {
             "colorbar": {
              "outlinewidth": 0,
              "ticks": ""
             }
            },
            "marker": {
             "colorbar": {
              "outlinewidth": 0,
              "ticks": ""
             }
            },
            "type": "scatter3d"
           }
          ],
          "scattercarpet": [
           {
            "marker": {
             "colorbar": {
              "outlinewidth": 0,
              "ticks": ""
             }
            },
            "type": "scattercarpet"
           }
          ],
          "scattergeo": [
           {
            "marker": {
             "colorbar": {
              "outlinewidth": 0,
              "ticks": ""
             }
            },
            "type": "scattergeo"
           }
          ],
          "scattergl": [
           {
            "marker": {
             "colorbar": {
              "outlinewidth": 0,
              "ticks": ""
             }
            },
            "type": "scattergl"
           }
          ],
          "scattermapbox": [
           {
            "marker": {
             "colorbar": {
              "outlinewidth": 0,
              "ticks": ""
             }
            },
            "type": "scattermapbox"
           }
          ],
          "scatterpolar": [
           {
            "marker": {
             "colorbar": {
              "outlinewidth": 0,
              "ticks": ""
             }
            },
            "type": "scatterpolar"
           }
          ],
          "scatterpolargl": [
           {
            "marker": {
             "colorbar": {
              "outlinewidth": 0,
              "ticks": ""
             }
            },
            "type": "scatterpolargl"
           }
          ],
          "scatterternary": [
           {
            "marker": {
             "colorbar": {
              "outlinewidth": 0,
              "ticks": ""
             }
            },
            "type": "scatterternary"
           }
          ],
          "surface": [
           {
            "colorbar": {
             "outlinewidth": 0,
             "ticks": ""
            },
            "colorscale": [
             [
              0,
              "#0d0887"
             ],
             [
              0.1111111111111111,
              "#46039f"
             ],
             [
              0.2222222222222222,
              "#7201a8"
             ],
             [
              0.3333333333333333,
              "#9c179e"
             ],
             [
              0.4444444444444444,
              "#bd3786"
             ],
             [
              0.5555555555555556,
              "#d8576b"
             ],
             [
              0.6666666666666666,
              "#ed7953"
             ],
             [
              0.7777777777777778,
              "#fb9f3a"
             ],
             [
              0.8888888888888888,
              "#fdca26"
             ],
             [
              1,
              "#f0f921"
             ]
            ],
            "type": "surface"
           }
          ],
          "table": [
           {
            "cells": {
             "fill": {
              "color": "#EBF0F8"
             },
             "line": {
              "color": "white"
             }
            },
            "header": {
             "fill": {
              "color": "#C8D4E3"
             },
             "line": {
              "color": "white"
             }
            },
            "type": "table"
           }
          ]
         },
         "layout": {
          "annotationdefaults": {
           "arrowcolor": "#2a3f5f",
           "arrowhead": 0,
           "arrowwidth": 1
          },
          "autotypenumbers": "strict",
          "coloraxis": {
           "colorbar": {
            "outlinewidth": 0,
            "ticks": ""
           }
          },
          "colorscale": {
           "diverging": [
            [
             0,
             "#8e0152"
            ],
            [
             0.1,
             "#c51b7d"
            ],
            [
             0.2,
             "#de77ae"
            ],
            [
             0.3,
             "#f1b6da"
            ],
            [
             0.4,
             "#fde0ef"
            ],
            [
             0.5,
             "#f7f7f7"
            ],
            [
             0.6,
             "#e6f5d0"
            ],
            [
             0.7,
             "#b8e186"
            ],
            [
             0.8,
             "#7fbc41"
            ],
            [
             0.9,
             "#4d9221"
            ],
            [
             1,
             "#276419"
            ]
           ],
           "sequential": [
            [
             0,
             "#0d0887"
            ],
            [
             0.1111111111111111,
             "#46039f"
            ],
            [
             0.2222222222222222,
             "#7201a8"
            ],
            [
             0.3333333333333333,
             "#9c179e"
            ],
            [
             0.4444444444444444,
             "#bd3786"
            ],
            [
             0.5555555555555556,
             "#d8576b"
            ],
            [
             0.6666666666666666,
             "#ed7953"
            ],
            [
             0.7777777777777778,
             "#fb9f3a"
            ],
            [
             0.8888888888888888,
             "#fdca26"
            ],
            [
             1,
             "#f0f921"
            ]
           ],
           "sequentialminus": [
            [
             0,
             "#0d0887"
            ],
            [
             0.1111111111111111,
             "#46039f"
            ],
            [
             0.2222222222222222,
             "#7201a8"
            ],
            [
             0.3333333333333333,
             "#9c179e"
            ],
            [
             0.4444444444444444,
             "#bd3786"
            ],
            [
             0.5555555555555556,
             "#d8576b"
            ],
            [
             0.6666666666666666,
             "#ed7953"
            ],
            [
             0.7777777777777778,
             "#fb9f3a"
            ],
            [
             0.8888888888888888,
             "#fdca26"
            ],
            [
             1,
             "#f0f921"
            ]
           ]
          },
          "colorway": [
           "#636efa",
           "#EF553B",
           "#00cc96",
           "#ab63fa",
           "#FFA15A",
           "#19d3f3",
           "#FF6692",
           "#B6E880",
           "#FF97FF",
           "#FECB52"
          ],
          "font": {
           "color": "#2a3f5f"
          },
          "geo": {
           "bgcolor": "white",
           "lakecolor": "white",
           "landcolor": "#E5ECF6",
           "showlakes": true,
           "showland": true,
           "subunitcolor": "white"
          },
          "hoverlabel": {
           "align": "left"
          },
          "hovermode": "closest",
          "mapbox": {
           "style": "light"
          },
          "paper_bgcolor": "white",
          "plot_bgcolor": "#E5ECF6",
          "polar": {
           "angularaxis": {
            "gridcolor": "white",
            "linecolor": "white",
            "ticks": ""
           },
           "bgcolor": "#E5ECF6",
           "radialaxis": {
            "gridcolor": "white",
            "linecolor": "white",
            "ticks": ""
           }
          },
          "scene": {
           "xaxis": {
            "backgroundcolor": "#E5ECF6",
            "gridcolor": "white",
            "gridwidth": 2,
            "linecolor": "white",
            "showbackground": true,
            "ticks": "",
            "zerolinecolor": "white"
           },
           "yaxis": {
            "backgroundcolor": "#E5ECF6",
            "gridcolor": "white",
            "gridwidth": 2,
            "linecolor": "white",
            "showbackground": true,
            "ticks": "",
            "zerolinecolor": "white"
           },
           "zaxis": {
            "backgroundcolor": "#E5ECF6",
            "gridcolor": "white",
            "gridwidth": 2,
            "linecolor": "white",
            "showbackground": true,
            "ticks": "",
            "zerolinecolor": "white"
           }
          },
          "shapedefaults": {
           "line": {
            "color": "#2a3f5f"
           }
          },
          "ternary": {
           "aaxis": {
            "gridcolor": "white",
            "linecolor": "white",
            "ticks": ""
           },
           "baxis": {
            "gridcolor": "white",
            "linecolor": "white",
            "ticks": ""
           },
           "bgcolor": "#E5ECF6",
           "caxis": {
            "gridcolor": "white",
            "linecolor": "white",
            "ticks": ""
           }
          },
          "title": {
           "x": 0.05
          },
          "xaxis": {
           "automargin": true,
           "gridcolor": "white",
           "linecolor": "white",
           "ticks": "",
           "title": {
            "standoff": 15
           },
           "zerolinecolor": "white",
           "zerolinewidth": 2
          },
          "yaxis": {
           "automargin": true,
           "gridcolor": "white",
           "linecolor": "white",
           "ticks": "",
           "title": {
            "standoff": 15
           },
           "zerolinecolor": "white",
           "zerolinewidth": 2
          }
         }
        },
        "title": {
         "text": "MCAR - 0.1"
        },
        "xaxis": {
         "nticks": 36
        }
       }
      }
     },
     "metadata": {},
     "output_type": "display_data"
    },
    {
     "data": {
      "application/vnd.plotly.v1+json": {
       "config": {
        "plotlyServerURL": "https://plot.ly"
       },
       "data": [
        {
         "autocolorscale": false,
         "colorscale": [
          [
           0,
           "rgb(255,245,240)"
          ],
          [
           0.125,
           "rgb(254,224,210)"
          ],
          [
           0.25,
           "rgb(252,187,161)"
          ],
          [
           0.375,
           "rgb(252,146,114)"
          ],
          [
           0.5,
           "rgb(251,106,74)"
          ],
          [
           0.625,
           "rgb(239,59,44)"
          ],
          [
           0.75,
           "rgb(203,24,29)"
          ],
          [
           0.875,
           "rgb(165,15,21)"
          ],
          [
           1,
           "rgb(103,0,13)"
          ]
         ],
         "type": "heatmap",
         "x": [
          "737",
          "737",
          "737",
          "737",
          "40677",
          "40677",
          "40497",
          "40497",
          "871",
          "871",
          "871",
          "871",
          "728",
          "728",
          "728",
          "728",
          "183",
          "183",
          "42636",
          "42636",
          "1558",
          "1558",
          "1558",
          "1558",
          "40983",
          "40983",
          "40983",
          "40983",
          "40498",
          "40498",
          "40701",
          "40701",
          "40701",
          "40701",
          "41146",
          "41146",
          "41146",
          "41146",
          "42192",
          "42192",
          "42192",
          "42192",
          "1489",
          "1489",
          "1489",
          "1489",
          "1526",
          "1526",
          "30",
          "30",
          "4552",
          "4552",
          "42545",
          "42545",
          "287",
          "287",
          "847",
          "847",
          "847",
          "847",
          "803",
          "803",
          "803",
          "803",
          "1496",
          "1496",
          "1507",
          "1496",
          "1507",
          "1507",
          "1507",
          "1496",
          "197",
          "197",
          "725",
          "725",
          "725",
          "725",
          "189",
          "189",
          "923",
          "923",
          "923",
          "923",
          "198",
          "198",
          "375",
          "375",
          "23515",
          "23515",
          "1459",
          "1459",
          "42688",
          "42688",
          "42183",
          "42183",
          "32",
          "32",
          "310",
          "310",
          "310",
          "310",
          "26",
          "26",
          "1471",
          "1471",
          "1471",
          "1046",
          "1046",
          "1046",
          "1046",
          "216",
          "216",
          "42712",
          "42712",
          "1199",
          "1199",
          "1120",
          "1120",
          "1120",
          "41671",
          "41671",
          "6",
          "6",
          "823",
          "823",
          "823",
          "218",
          "218",
          "42493",
          "42493",
          "42493",
          "184",
          "184",
          "1481",
          "1481",
          "42477",
          "42477",
          "1193",
          "1193",
          "4135",
          "4135",
          "251",
          "137",
          "137",
          "251",
          "1220",
          "1220",
          "881",
          "215",
          "215",
          "901",
          "881",
          "901",
          "41027",
          "41027",
          "151",
          "151",
          "42225",
          "42225",
          "40685",
          "40685",
          "1200",
          "1200",
          "1213",
          "1213",
          "40922",
          "40922",
          "23395",
          "23395",
          "23517",
          "23517"
         ],
         "y": [
          "Random Forest",
          "KNN",
          "Mean/Mode",
          "VAE",
          "KNN",
          "Mean/Mode",
          "Mean/Mode",
          "KNN",
          "KNN",
          "Random Forest",
          "Mean/Mode",
          "VAE",
          "KNN",
          "Random Forest",
          "VAE",
          "Mean/Mode",
          "KNN",
          "Mean/Mode",
          "KNN",
          "Mean/Mode",
          "Random Forest",
          "KNN",
          "Mean/Mode",
          "VAE",
          "Random Forest",
          "VAE",
          "Mean/Mode",
          "KNN",
          "KNN",
          "Mean/Mode",
          "Random Forest",
          "VAE",
          "KNN",
          "Mean/Mode",
          "Random Forest",
          "Mean/Mode",
          "KNN",
          "VAE",
          "Random Forest",
          "Mean/Mode",
          "VAE",
          "KNN",
          "VAE",
          "Random Forest",
          "KNN",
          "Mean/Mode",
          "KNN",
          "Mean/Mode",
          "KNN",
          "Mean/Mode",
          "Mean/Mode",
          "KNN",
          "Mean/Mode",
          "KNN",
          "KNN",
          "Mean/Mode",
          "KNN",
          "Random Forest",
          "Mean/Mode",
          "VAE",
          "KNN",
          "Mean/Mode",
          "VAE",
          "Random Forest",
          "Random Forest",
          "VAE",
          "Random Forest",
          "Mean/Mode",
          "VAE",
          "KNN",
          "Mean/Mode",
          "KNN",
          "Mean/Mode",
          "KNN",
          "Mean/Mode",
          "Random Forest",
          "KNN",
          "VAE",
          "Mean/Mode",
          "KNN",
          "VAE",
          "KNN",
          "Mean/Mode",
          "Random Forest",
          "Mean/Mode",
          "KNN",
          "KNN",
          "Mean/Mode",
          "Mean/Mode",
          "KNN",
          "Mean/Mode",
          "KNN",
          "KNN",
          "Mean/Mode",
          "Mean/Mode",
          "KNN",
          "KNN",
          "Mean/Mode",
          "KNN",
          "Random Forest",
          "VAE",
          "Mean/Mode",
          "KNN",
          "Mean/Mode",
          "KNN",
          "Mean/Mode",
          "Random Forest",
          "Random Forest",
          "KNN",
          "VAE",
          "Mean/Mode",
          "KNN",
          "Mean/Mode",
          "Mean/Mode",
          "KNN",
          "KNN",
          "Mean/Mode",
          "Random Forest",
          "KNN",
          "Mean/Mode",
          "Mean/Mode",
          "KNN",
          "Mean/Mode",
          "KNN",
          "Random Forest",
          "Mean/Mode",
          "KNN",
          "KNN",
          "Mean/Mode",
          "KNN",
          "Mean/Mode",
          "Random Forest",
          "KNN",
          "Mean/Mode",
          "Mean/Mode",
          "KNN",
          "Mean/Mode",
          "KNN",
          "KNN",
          "Mean/Mode",
          "Mean/Mode",
          "KNN",
          "KNN",
          "KNN",
          "Mean/Mode",
          "Mean/Mode",
          "KNN",
          "Mean/Mode",
          "Mean/Mode",
          "KNN",
          "Mean/Mode",
          "KNN",
          "KNN",
          "Mean/Mode",
          "KNN",
          "Mean/Mode",
          "KNN",
          "Mean/Mode",
          "KNN",
          "Mean/Mode",
          "Mean/Mode",
          "KNN",
          "Mean/Mode",
          "KNN",
          "Mean/Mode",
          "KNN",
          "KNN",
          "Mean/Mode",
          "KNN",
          "Mean/Mode",
          "Mean/Mode",
          "KNN"
         ],
         "z": [
          0.7668126503610351,
          0.7797101067658342,
          0.7824061780308847,
          0.7850952432441094,
          0.7454629997809693,
          0.7436120441613568,
          0.7204812064804864,
          0.7418619562917498,
          0.5180388338425038,
          0.5198719098598338,
          0.521631196360644,
          0.5223057073154286,
          0.9676589042071964,
          0.967691536386744,
          0.9676995379293428,
          0.9676589042071964,
          0.0931404599471667,
          0.0928755911739379,
          0.3329877520347145,
          0.3348411035947458,
          0.6896985098127879,
          0.6873206924517916,
          0.6908230433153714,
          0.6884925186470476,
          0.540885262990279,
          0.4854712646535455,
          0.4910307116867364,
          0.5656502444136245,
          0.1899578931646662,
          0.1971436689059851,
          0.6272235139988438,
          0.6229791502058281,
          0.625130767687394,
          0.625130767687394,
          0.9083243988765208,
          0.9102746978755916,
          0.9102746978755916,
          0.9083231181524132,
          0.6584301335488555,
          0.6579159362253704,
          0.6597109345469524,
          0.6587162759101337,
          0.601088306785709,
          0.655114652898266,
          0.6534687968326133,
          0.6060835891115076,
          0.7247206595457464,
          0.7279107962834811,
          0.7262553079855817,
          0.6860457714414109,
          0.4022538743789023,
          0.4463752863313315,
          20.76361143447382,
          20.76349362701352,
          0.7496414260123828,
          0.7493994028070926,
          0.8411127154468145,
          0.8408624384884457,
          0.8411299698947406,
          0.8378022808733313,
          0.930854708431634,
          0.9280347718108384,
          0.9264796460843966,
          0.9364792571487618,
          0.7701218854559909,
          0.7710794495813668,
          0.9806102292593336,
          0.771478614469315,
          0.9801581942403822,
          0.9810594460177634,
          0.9810594460177634,
          0.7714780500178392,
          9.257576401005132,
          9.257244724909947,
          0.9181491326719642,
          0.9164497242869027,
          0.916283526125242,
          0.9148070353809422,
          0.2069564184417373,
          0.2069779076675103,
          0.9506590522703046,
          0.9457894267887136,
          0.9210019072983324,
          0.9469714681800728,
          0.0014661732485051,
          0.0014661914945786,
          0.9044986974689936,
          0.9009195009232548,
          0.0476237919061133,
          0.0476239360592693,
          0.2460993333080607,
          0.2661526411043167,
          6505.4554995894005,
          6505.455494589484,
          4.612062934120574,
          4.61206480638986,
          0.911122443245116,
          0.9102865628827328,
          0.7786387363541465,
          0.7754201266007397,
          0.7703522836221843,
          0.7786387363541465,
          0.5332952216333573,
          0.5722873101488385,
          0.547395946036074,
          0.5472726422904421,
          0.5460014546997302,
          0.78952448895005,
          0.7893987058548125,
          0.7915507334374013,
          0.7881116693269427,
          0.0031351783192573,
          0.0031357153721826,
          149.61608356335816,
          149.54819665616762,
          12.024924219135457,
          12.025924060633876,
          0.7502936159263666,
          0.7511443577703921,
          0.7554883630995496,
          0.2077336454669774,
          0.2081518459368148,
          0.7009488720542635,
          0.7031120154811085,
          0.9489508492466792,
          0.9480859930914182,
          0.9480859930914182,
          72725.01011851663,
          72725.01044738338,
          0.6175377057019106,
          0.617755669188589,
          0.6172179257937517,
          0.2828978027387039,
          0.2545829468592832,
          0.2052409978243084,
          0.185186959953518,
          0.622942782180799,
          0.6231104832359087,
          969.2123944662416,
          968.9114087974258,
          0.6735908854067593,
          0.6738251643619592,
          0.9761119778342164,
          0.6640623959293487,
          0.6634838250905485,
          0.9760652601894668,
          0.4639628314750227,
          0.4640070374774527,
          0.9645222586816066,
          2.4584409830271814,
          2.456880698336823,
          0.8311650868077409,
          0.9647387716377578,
          0.8319421721470547,
          0.4931211142220861,
          0.4931020666183293,
          0.7461734347700194,
          0.7403772737510899,
          4717.934152661884,
          4719.131515449558,
          0.3747654372723874,
          0.3754385073865932,
          4.6370221985203735,
          4.589497632350279,
          6.476324551559489,
          6.4782089308884965,
          0.7464131126950081,
          0.7151395020046581,
          0.1514329773996173,
          0.1514384389401064,
          0.5202777084982183,
          0.5196661942421956
         ],
         "zmin": 0
        }
       ],
       "layout": {
        "template": {
         "data": {
          "bar": [
           {
            "error_x": {
             "color": "#2a3f5f"
            },
            "error_y": {
             "color": "#2a3f5f"
            },
            "marker": {
             "line": {
              "color": "#E5ECF6",
              "width": 0.5
             },
             "pattern": {
              "fillmode": "overlay",
              "size": 10,
              "solidity": 0.2
             }
            },
            "type": "bar"
           }
          ],
          "barpolar": [
           {
            "marker": {
             "line": {
              "color": "#E5ECF6",
              "width": 0.5
             },
             "pattern": {
              "fillmode": "overlay",
              "size": 10,
              "solidity": 0.2
             }
            },
            "type": "barpolar"
           }
          ],
          "carpet": [
           {
            "aaxis": {
             "endlinecolor": "#2a3f5f",
             "gridcolor": "white",
             "linecolor": "white",
             "minorgridcolor": "white",
             "startlinecolor": "#2a3f5f"
            },
            "baxis": {
             "endlinecolor": "#2a3f5f",
             "gridcolor": "white",
             "linecolor": "white",
             "minorgridcolor": "white",
             "startlinecolor": "#2a3f5f"
            },
            "type": "carpet"
           }
          ],
          "choropleth": [
           {
            "colorbar": {
             "outlinewidth": 0,
             "ticks": ""
            },
            "type": "choropleth"
           }
          ],
          "contour": [
           {
            "colorbar": {
             "outlinewidth": 0,
             "ticks": ""
            },
            "colorscale": [
             [
              0,
              "#0d0887"
             ],
             [
              0.1111111111111111,
              "#46039f"
             ],
             [
              0.2222222222222222,
              "#7201a8"
             ],
             [
              0.3333333333333333,
              "#9c179e"
             ],
             [
              0.4444444444444444,
              "#bd3786"
             ],
             [
              0.5555555555555556,
              "#d8576b"
             ],
             [
              0.6666666666666666,
              "#ed7953"
             ],
             [
              0.7777777777777778,
              "#fb9f3a"
             ],
             [
              0.8888888888888888,
              "#fdca26"
             ],
             [
              1,
              "#f0f921"
             ]
            ],
            "type": "contour"
           }
          ],
          "contourcarpet": [
           {
            "colorbar": {
             "outlinewidth": 0,
             "ticks": ""
            },
            "type": "contourcarpet"
           }
          ],
          "heatmap": [
           {
            "colorbar": {
             "outlinewidth": 0,
             "ticks": ""
            },
            "colorscale": [
             [
              0,
              "#0d0887"
             ],
             [
              0.1111111111111111,
              "#46039f"
             ],
             [
              0.2222222222222222,
              "#7201a8"
             ],
             [
              0.3333333333333333,
              "#9c179e"
             ],
             [
              0.4444444444444444,
              "#bd3786"
             ],
             [
              0.5555555555555556,
              "#d8576b"
             ],
             [
              0.6666666666666666,
              "#ed7953"
             ],
             [
              0.7777777777777778,
              "#fb9f3a"
             ],
             [
              0.8888888888888888,
              "#fdca26"
             ],
             [
              1,
              "#f0f921"
             ]
            ],
            "type": "heatmap"
           }
          ],
          "heatmapgl": [
           {
            "colorbar": {
             "outlinewidth": 0,
             "ticks": ""
            },
            "colorscale": [
             [
              0,
              "#0d0887"
             ],
             [
              0.1111111111111111,
              "#46039f"
             ],
             [
              0.2222222222222222,
              "#7201a8"
             ],
             [
              0.3333333333333333,
              "#9c179e"
             ],
             [
              0.4444444444444444,
              "#bd3786"
             ],
             [
              0.5555555555555556,
              "#d8576b"
             ],
             [
              0.6666666666666666,
              "#ed7953"
             ],
             [
              0.7777777777777778,
              "#fb9f3a"
             ],
             [
              0.8888888888888888,
              "#fdca26"
             ],
             [
              1,
              "#f0f921"
             ]
            ],
            "type": "heatmapgl"
           }
          ],
          "histogram": [
           {
            "marker": {
             "pattern": {
              "fillmode": "overlay",
              "size": 10,
              "solidity": 0.2
             }
            },
            "type": "histogram"
           }
          ],
          "histogram2d": [
           {
            "colorbar": {
             "outlinewidth": 0,
             "ticks": ""
            },
            "colorscale": [
             [
              0,
              "#0d0887"
             ],
             [
              0.1111111111111111,
              "#46039f"
             ],
             [
              0.2222222222222222,
              "#7201a8"
             ],
             [
              0.3333333333333333,
              "#9c179e"
             ],
             [
              0.4444444444444444,
              "#bd3786"
             ],
             [
              0.5555555555555556,
              "#d8576b"
             ],
             [
              0.6666666666666666,
              "#ed7953"
             ],
             [
              0.7777777777777778,
              "#fb9f3a"
             ],
             [
              0.8888888888888888,
              "#fdca26"
             ],
             [
              1,
              "#f0f921"
             ]
            ],
            "type": "histogram2d"
           }
          ],
          "histogram2dcontour": [
           {
            "colorbar": {
             "outlinewidth": 0,
             "ticks": ""
            },
            "colorscale": [
             [
              0,
              "#0d0887"
             ],
             [
              0.1111111111111111,
              "#46039f"
             ],
             [
              0.2222222222222222,
              "#7201a8"
             ],
             [
              0.3333333333333333,
              "#9c179e"
             ],
             [
              0.4444444444444444,
              "#bd3786"
             ],
             [
              0.5555555555555556,
              "#d8576b"
             ],
             [
              0.6666666666666666,
              "#ed7953"
             ],
             [
              0.7777777777777778,
              "#fb9f3a"
             ],
             [
              0.8888888888888888,
              "#fdca26"
             ],
             [
              1,
              "#f0f921"
             ]
            ],
            "type": "histogram2dcontour"
           }
          ],
          "mesh3d": [
           {
            "colorbar": {
             "outlinewidth": 0,
             "ticks": ""
            },
            "type": "mesh3d"
           }
          ],
          "parcoords": [
           {
            "line": {
             "colorbar": {
              "outlinewidth": 0,
              "ticks": ""
             }
            },
            "type": "parcoords"
           }
          ],
          "pie": [
           {
            "automargin": true,
            "type": "pie"
           }
          ],
          "scatter": [
           {
            "fillpattern": {
             "fillmode": "overlay",
             "size": 10,
             "solidity": 0.2
            },
            "type": "scatter"
           }
          ],
          "scatter3d": [
           {
            "line": {
             "colorbar": {
              "outlinewidth": 0,
              "ticks": ""
             }
            },
            "marker": {
             "colorbar": {
              "outlinewidth": 0,
              "ticks": ""
             }
            },
            "type": "scatter3d"
           }
          ],
          "scattercarpet": [
           {
            "marker": {
             "colorbar": {
              "outlinewidth": 0,
              "ticks": ""
             }
            },
            "type": "scattercarpet"
           }
          ],
          "scattergeo": [
           {
            "marker": {
             "colorbar": {
              "outlinewidth": 0,
              "ticks": ""
             }
            },
            "type": "scattergeo"
           }
          ],
          "scattergl": [
           {
            "marker": {
             "colorbar": {
              "outlinewidth": 0,
              "ticks": ""
             }
            },
            "type": "scattergl"
           }
          ],
          "scattermapbox": [
           {
            "marker": {
             "colorbar": {
              "outlinewidth": 0,
              "ticks": ""
             }
            },
            "type": "scattermapbox"
           }
          ],
          "scatterpolar": [
           {
            "marker": {
             "colorbar": {
              "outlinewidth": 0,
              "ticks": ""
             }
            },
            "type": "scatterpolar"
           }
          ],
          "scatterpolargl": [
           {
            "marker": {
             "colorbar": {
              "outlinewidth": 0,
              "ticks": ""
             }
            },
            "type": "scatterpolargl"
           }
          ],
          "scatterternary": [
           {
            "marker": {
             "colorbar": {
              "outlinewidth": 0,
              "ticks": ""
             }
            },
            "type": "scatterternary"
           }
          ],
          "surface": [
           {
            "colorbar": {
             "outlinewidth": 0,
             "ticks": ""
            },
            "colorscale": [
             [
              0,
              "#0d0887"
             ],
             [
              0.1111111111111111,
              "#46039f"
             ],
             [
              0.2222222222222222,
              "#7201a8"
             ],
             [
              0.3333333333333333,
              "#9c179e"
             ],
             [
              0.4444444444444444,
              "#bd3786"
             ],
             [
              0.5555555555555556,
              "#d8576b"
             ],
             [
              0.6666666666666666,
              "#ed7953"
             ],
             [
              0.7777777777777778,
              "#fb9f3a"
             ],
             [
              0.8888888888888888,
              "#fdca26"
             ],
             [
              1,
              "#f0f921"
             ]
            ],
            "type": "surface"
           }
          ],
          "table": [
           {
            "cells": {
             "fill": {
              "color": "#EBF0F8"
             },
             "line": {
              "color": "white"
             }
            },
            "header": {
             "fill": {
              "color": "#C8D4E3"
             },
             "line": {
              "color": "white"
             }
            },
            "type": "table"
           }
          ]
         },
         "layout": {
          "annotationdefaults": {
           "arrowcolor": "#2a3f5f",
           "arrowhead": 0,
           "arrowwidth": 1
          },
          "autotypenumbers": "strict",
          "coloraxis": {
           "colorbar": {
            "outlinewidth": 0,
            "ticks": ""
           }
          },
          "colorscale": {
           "diverging": [
            [
             0,
             "#8e0152"
            ],
            [
             0.1,
             "#c51b7d"
            ],
            [
             0.2,
             "#de77ae"
            ],
            [
             0.3,
             "#f1b6da"
            ],
            [
             0.4,
             "#fde0ef"
            ],
            [
             0.5,
             "#f7f7f7"
            ],
            [
             0.6,
             "#e6f5d0"
            ],
            [
             0.7,
             "#b8e186"
            ],
            [
             0.8,
             "#7fbc41"
            ],
            [
             0.9,
             "#4d9221"
            ],
            [
             1,
             "#276419"
            ]
           ],
           "sequential": [
            [
             0,
             "#0d0887"
            ],
            [
             0.1111111111111111,
             "#46039f"
            ],
            [
             0.2222222222222222,
             "#7201a8"
            ],
            [
             0.3333333333333333,
             "#9c179e"
            ],
            [
             0.4444444444444444,
             "#bd3786"
            ],
            [
             0.5555555555555556,
             "#d8576b"
            ],
            [
             0.6666666666666666,
             "#ed7953"
            ],
            [
             0.7777777777777778,
             "#fb9f3a"
            ],
            [
             0.8888888888888888,
             "#fdca26"
            ],
            [
             1,
             "#f0f921"
            ]
           ],
           "sequentialminus": [
            [
             0,
             "#0d0887"
            ],
            [
             0.1111111111111111,
             "#46039f"
            ],
            [
             0.2222222222222222,
             "#7201a8"
            ],
            [
             0.3333333333333333,
             "#9c179e"
            ],
            [
             0.4444444444444444,
             "#bd3786"
            ],
            [
             0.5555555555555556,
             "#d8576b"
            ],
            [
             0.6666666666666666,
             "#ed7953"
            ],
            [
             0.7777777777777778,
             "#fb9f3a"
            ],
            [
             0.8888888888888888,
             "#fdca26"
            ],
            [
             1,
             "#f0f921"
            ]
           ]
          },
          "colorway": [
           "#636efa",
           "#EF553B",
           "#00cc96",
           "#ab63fa",
           "#FFA15A",
           "#19d3f3",
           "#FF6692",
           "#B6E880",
           "#FF97FF",
           "#FECB52"
          ],
          "font": {
           "color": "#2a3f5f"
          },
          "geo": {
           "bgcolor": "white",
           "lakecolor": "white",
           "landcolor": "#E5ECF6",
           "showlakes": true,
           "showland": true,
           "subunitcolor": "white"
          },
          "hoverlabel": {
           "align": "left"
          },
          "hovermode": "closest",
          "mapbox": {
           "style": "light"
          },
          "paper_bgcolor": "white",
          "plot_bgcolor": "#E5ECF6",
          "polar": {
           "angularaxis": {
            "gridcolor": "white",
            "linecolor": "white",
            "ticks": ""
           },
           "bgcolor": "#E5ECF6",
           "radialaxis": {
            "gridcolor": "white",
            "linecolor": "white",
            "ticks": ""
           }
          },
          "scene": {
           "xaxis": {
            "backgroundcolor": "#E5ECF6",
            "gridcolor": "white",
            "gridwidth": 2,
            "linecolor": "white",
            "showbackground": true,
            "ticks": "",
            "zerolinecolor": "white"
           },
           "yaxis": {
            "backgroundcolor": "#E5ECF6",
            "gridcolor": "white",
            "gridwidth": 2,
            "linecolor": "white",
            "showbackground": true,
            "ticks": "",
            "zerolinecolor": "white"
           },
           "zaxis": {
            "backgroundcolor": "#E5ECF6",
            "gridcolor": "white",
            "gridwidth": 2,
            "linecolor": "white",
            "showbackground": true,
            "ticks": "",
            "zerolinecolor": "white"
           }
          },
          "shapedefaults": {
           "line": {
            "color": "#2a3f5f"
           }
          },
          "ternary": {
           "aaxis": {
            "gridcolor": "white",
            "linecolor": "white",
            "ticks": ""
           },
           "baxis": {
            "gridcolor": "white",
            "linecolor": "white",
            "ticks": ""
           },
           "bgcolor": "#E5ECF6",
           "caxis": {
            "gridcolor": "white",
            "linecolor": "white",
            "ticks": ""
           }
          },
          "title": {
           "x": 0.05
          },
          "xaxis": {
           "automargin": true,
           "gridcolor": "white",
           "linecolor": "white",
           "ticks": "",
           "title": {
            "standoff": 15
           },
           "zerolinecolor": "white",
           "zerolinewidth": 2
          },
          "yaxis": {
           "automargin": true,
           "gridcolor": "white",
           "linecolor": "white",
           "ticks": "",
           "title": {
            "standoff": 15
           },
           "zerolinecolor": "white",
           "zerolinewidth": 2
          }
         }
        },
        "title": {
         "text": "MCAR - 0.3"
        },
        "xaxis": {
         "nticks": 36
        }
       }
      }
     },
     "metadata": {},
     "output_type": "display_data"
    },
    {
     "data": {
      "application/vnd.plotly.v1+json": {
       "config": {
        "plotlyServerURL": "https://plot.ly"
       },
       "data": [
        {
         "autocolorscale": false,
         "colorscale": [
          [
           0,
           "rgb(255,245,240)"
          ],
          [
           0.125,
           "rgb(254,224,210)"
          ],
          [
           0.25,
           "rgb(252,187,161)"
          ],
          [
           0.375,
           "rgb(252,146,114)"
          ],
          [
           0.5,
           "rgb(251,106,74)"
          ],
          [
           0.625,
           "rgb(239,59,44)"
          ],
          [
           0.75,
           "rgb(203,24,29)"
          ],
          [
           0.875,
           "rgb(165,15,21)"
          ],
          [
           1,
           "rgb(103,0,13)"
          ]
         ],
         "type": "heatmap",
         "x": [
          "737",
          "737",
          "737",
          "737",
          "40677",
          "40677",
          "40497",
          "40497",
          "871",
          "871",
          "871",
          "871",
          "728",
          "728",
          "728",
          "728",
          "183",
          "183",
          "42636",
          "42636",
          "1558",
          "1558",
          "1558",
          "1558",
          "40983",
          "40983",
          "40983",
          "40983",
          "40498",
          "40498",
          "40701",
          "40701",
          "40701",
          "40701",
          "41146",
          "41146",
          "41146",
          "41146",
          "42192",
          "42192",
          "42192",
          "42192",
          "1489",
          "1489",
          "1489",
          "1489",
          "1526",
          "1526",
          "30",
          "30",
          "4552",
          "4552",
          "42545",
          "42545",
          "287",
          "287",
          "847",
          "847",
          "847",
          "847",
          "803",
          "803",
          "803",
          "803",
          "1496",
          "1496",
          "1507",
          "1496",
          "1507",
          "1507",
          "1507",
          "1496",
          "197",
          "197",
          "725",
          "725",
          "725",
          "725",
          "189",
          "189",
          "923",
          "923",
          "923",
          "923",
          "198",
          "198",
          "375",
          "375",
          "23515",
          "23515",
          "1459",
          "1459",
          "42688",
          "42688",
          "42183",
          "42183",
          "32",
          "32",
          "310",
          "310",
          "310",
          "310",
          "26",
          "26",
          "1471",
          "1471",
          "1471",
          "1046",
          "1046",
          "1046",
          "1046",
          "216",
          "216",
          "42712",
          "42712",
          "1199",
          "1199",
          "1120",
          "1120",
          "1120",
          "41671",
          "41671",
          "6",
          "6",
          "823",
          "823",
          "823",
          "218",
          "218",
          "42493",
          "42493",
          "42493",
          "184",
          "184",
          "1481",
          "1481",
          "42477",
          "42477",
          "1193",
          "1193",
          "4135",
          "4135",
          "251",
          "137",
          "137",
          "251",
          "1220",
          "1220",
          "881",
          "215",
          "215",
          "901",
          "881",
          "901",
          "41027",
          "41027",
          "151",
          "151",
          "42225",
          "42225",
          "40685",
          "40685",
          "1200",
          "1200",
          "1213",
          "1213",
          "40922",
          "40922",
          "23395",
          "23395",
          "23517",
          "23517"
         ],
         "y": [
          "Mean/Mode",
          "KNN",
          "VAE",
          "Random Forest",
          "Mean/Mode",
          "KNN",
          "Mean/Mode",
          "KNN",
          "Random Forest",
          "KNN",
          "Mean/Mode",
          "VAE",
          "Mean/Mode",
          "VAE",
          "Random Forest",
          "KNN",
          "KNN",
          "Mean/Mode",
          "KNN",
          "Mean/Mode",
          "Random Forest",
          "Mean/Mode",
          "VAE",
          "KNN",
          "Random Forest",
          "Mean/Mode",
          "VAE",
          "KNN",
          "Mean/Mode",
          "KNN",
          "VAE",
          "Random Forest",
          "KNN",
          "Mean/Mode",
          "VAE",
          "Mean/Mode",
          "KNN",
          "Random Forest",
          "Mean/Mode",
          "Random Forest",
          "VAE",
          "KNN",
          "KNN",
          "Mean/Mode",
          "VAE",
          "Random Forest",
          "Mean/Mode",
          "KNN",
          "KNN",
          "Mean/Mode",
          "Mean/Mode",
          "KNN",
          "KNN",
          "Mean/Mode",
          "Mean/Mode",
          "KNN",
          "KNN",
          "Mean/Mode",
          "Random Forest",
          "VAE",
          "KNN",
          "Mean/Mode",
          "VAE",
          "Random Forest",
          "VAE",
          "Mean/Mode",
          "KNN",
          "Random Forest",
          "Mean/Mode",
          "Random Forest",
          "VAE",
          "KNN",
          "KNN",
          "Mean/Mode",
          "Random Forest",
          "Mean/Mode",
          "KNN",
          "VAE",
          "Mean/Mode",
          "KNN",
          "Random Forest",
          "Mean/Mode",
          "VAE",
          "KNN",
          "Mean/Mode",
          "KNN",
          "KNN",
          "Mean/Mode",
          "KNN",
          "Mean/Mode",
          "Mean/Mode",
          "KNN",
          "KNN",
          "Mean/Mode",
          "KNN",
          "Mean/Mode",
          "KNN",
          "Mean/Mode",
          "KNN",
          "Mean/Mode",
          "VAE",
          "Random Forest",
          "Mean/Mode",
          "KNN",
          "Random Forest",
          "KNN",
          "Mean/Mode",
          "KNN",
          "VAE",
          "Random Forest",
          "Mean/Mode",
          "Mean/Mode",
          "KNN",
          "Mean/Mode",
          "KNN",
          "KNN",
          "Mean/Mode",
          "Mean/Mode",
          "KNN",
          "Random Forest",
          "KNN",
          "Mean/Mode",
          "KNN",
          "Mean/Mode",
          "Mean/Mode",
          "Random Forest",
          "KNN",
          "KNN",
          "Mean/Mode",
          "Random Forest",
          "KNN",
          "Mean/Mode",
          "Mean/Mode",
          "KNN",
          "KNN",
          "Mean/Mode",
          "Mean/Mode",
          "KNN",
          "KNN",
          "Mean/Mode",
          "Mean/Mode",
          "KNN",
          "Mean/Mode",
          "Mean/Mode",
          "KNN",
          "KNN",
          "KNN",
          "Mean/Mode",
          "Mean/Mode",
          "KNN",
          "Mean/Mode",
          "KNN",
          "KNN",
          "Mean/Mode",
          "Mean/Mode",
          "KNN",
          "KNN",
          "Mean/Mode",
          "KNN",
          "Mean/Mode",
          "Mean/Mode",
          "KNN",
          "Mean/Mode",
          "KNN",
          "Mean/Mode",
          "KNN",
          "KNN",
          "Mean/Mode",
          "KNN",
          "Mean/Mode",
          "KNN",
          "Mean/Mode"
         ],
         "z": [
          0.7420412911148923,
          0.7491461867016721,
          0.753997128328937,
          0.7593690834378238,
          0.7464235720339945,
          0.7448437009737144,
          0.6978560163740801,
          0.7092771157661552,
          0.4684964704844345,
          0.4703767054142375,
          0.4761536586959998,
          0.5120369864213603,
          0.9526969630635694,
          0.9540974646737328,
          0.9577638047951188,
          0.9520494995176992,
          0.0804528355199501,
          0.0768757488359866,
          0.3340277369159753,
          0.3360043617112611,
          0.657782595090244,
          0.6546837833036739,
          0.6918831844931287,
          0.6562482580006884,
          0.5195684250821228,
          0.4851970453799397,
          0.485197627638837,
          0.5366694022614787,
          0.1732592409230936,
          0.1800733617288457,
          0.6592184328291231,
          0.6345640461885473,
          0.6539343270257161,
          0.6531931200383577,
          0.9045101931983788,
          0.9051743132713016,
          0.9051743132713016,
          0.9029184985109692,
          0.6552391836398681,
          0.6548366732550569,
          0.6595915857423857,
          0.6573640077213588,
          0.6755723826009673,
          0.6923320762434119,
          0.6894704180768443,
          0.6848028998330467,
          0.748111803565506,
          0.7532240134633348,
          0.7490734100165314,
          0.6942905330510366,
          0.4171152213989861,
          0.4191867838645947,
          20.755764716785663,
          20.75572299153228,
          0.7515389123211133,
          0.7508791070868742,
          0.839104986108898,
          0.839104986108898,
          0.8409128824581237,
          0.8388284722253854,
          0.9294579738707336,
          0.9221361858423904,
          0.9124837178921926,
          0.9334625451566864,
          0.7683858019169844,
          0.7701943431656555,
          0.976555204045686,
          0.7717698463181096,
          0.976555204045686,
          0.9799361432049142,
          0.9776814781749864,
          0.7701943431656555,
          9.425571577531512,
          9.421747673458473,
          0.9136605179346152,
          0.9117624564625284,
          0.9085683582703143,
          0.906852399794515,
          0.2089661840967835,
          0.2089719048815026,
          0.9474838963196952,
          0.9215282708684428,
          0.914767383779869,
          0.9368340992787204,
          0.0014869959297609,
          0.0014869982662678,
          0.8946657367311982,
          0.8933191598700424,
          0.047720856285563,
          0.0477244072453424,
          0.2801113060017967,
          0.2805794855467945,
          6508.646716216647,
          6508.64670426324,
          4.604716316388611,
          4.6047253728132524,
          0.905122941174949,
          0.9034837717056344,
          0.7873956061573368,
          0.7584407047099232,
          0.7446720574881449,
          0.7620304112037815,
          0.542446960882267,
          0.5556448011900321,
          0.5376759544991333,
          0.5372228277083971,
          0.5371296593459478,
          0.7869677361327184,
          0.7867493785598177,
          0.7914053535991942,
          0.7860556406312816,
          0.0032851273943124,
          0.003286920838736,
          149.64001234156606,
          149.53315895062312,
          12.123501097722574,
          12.125824462248112,
          0.746368167979449,
          0.7551455193850192,
          0.7557145287912591,
          0.2186876589464044,
          0.2465892424905522,
          0.685614398939144,
          0.6862314505334726,
          0.9392687620273392,
          0.9391331418730876,
          0.9391832131759802,
          72724.990936374,
          72724.99159938605,
          0.6129423490535308,
          0.613851912570607,
          0.6126092240437783,
          0.2487615195427816,
          0.2484659813251022,
          0.1881747351200486,
          0.1873126085938158,
          0.6238083203757117,
          0.6250247768320537,
          984.0677320287268,
          983.2117868645606,
          0.6796154433577613,
          0.6797070960341763,
          0.9753062257371228,
          0.6630883947024018,
          0.6626666218858709,
          0.9751176609479484,
          0.4640397046480578,
          0.4684023441582048,
          0.9612616059575042,
          2.5157778615414443,
          2.514752172844174,
          0.8251565948873165,
          0.9613070917821724,
          0.8264652132611254,
          0.4936623131849199,
          0.4932661047001592,
          0.741070049850758,
          0.7328572686742517,
          4724.999121278021,
          4727.402766896047,
          0.3783269422740288,
          0.3841251784221622,
          4.682776530955799,
          4.617160716089198,
          6.571459189868441,
          6.5718439400968185,
          0.7288900130878663,
          0.7263707042834179,
          0.1514481777640237,
          0.1514613623591005,
          0.519097389909068,
          0.5189843796233079
         ],
         "zmin": 0
        }
       ],
       "layout": {
        "template": {
         "data": {
          "bar": [
           {
            "error_x": {
             "color": "#2a3f5f"
            },
            "error_y": {
             "color": "#2a3f5f"
            },
            "marker": {
             "line": {
              "color": "#E5ECF6",
              "width": 0.5
             },
             "pattern": {
              "fillmode": "overlay",
              "size": 10,
              "solidity": 0.2
             }
            },
            "type": "bar"
           }
          ],
          "barpolar": [
           {
            "marker": {
             "line": {
              "color": "#E5ECF6",
              "width": 0.5
             },
             "pattern": {
              "fillmode": "overlay",
              "size": 10,
              "solidity": 0.2
             }
            },
            "type": "barpolar"
           }
          ],
          "carpet": [
           {
            "aaxis": {
             "endlinecolor": "#2a3f5f",
             "gridcolor": "white",
             "linecolor": "white",
             "minorgridcolor": "white",
             "startlinecolor": "#2a3f5f"
            },
            "baxis": {
             "endlinecolor": "#2a3f5f",
             "gridcolor": "white",
             "linecolor": "white",
             "minorgridcolor": "white",
             "startlinecolor": "#2a3f5f"
            },
            "type": "carpet"
           }
          ],
          "choropleth": [
           {
            "colorbar": {
             "outlinewidth": 0,
             "ticks": ""
            },
            "type": "choropleth"
           }
          ],
          "contour": [
           {
            "colorbar": {
             "outlinewidth": 0,
             "ticks": ""
            },
            "colorscale": [
             [
              0,
              "#0d0887"
             ],
             [
              0.1111111111111111,
              "#46039f"
             ],
             [
              0.2222222222222222,
              "#7201a8"
             ],
             [
              0.3333333333333333,
              "#9c179e"
             ],
             [
              0.4444444444444444,
              "#bd3786"
             ],
             [
              0.5555555555555556,
              "#d8576b"
             ],
             [
              0.6666666666666666,
              "#ed7953"
             ],
             [
              0.7777777777777778,
              "#fb9f3a"
             ],
             [
              0.8888888888888888,
              "#fdca26"
             ],
             [
              1,
              "#f0f921"
             ]
            ],
            "type": "contour"
           }
          ],
          "contourcarpet": [
           {
            "colorbar": {
             "outlinewidth": 0,
             "ticks": ""
            },
            "type": "contourcarpet"
           }
          ],
          "heatmap": [
           {
            "colorbar": {
             "outlinewidth": 0,
             "ticks": ""
            },
            "colorscale": [
             [
              0,
              "#0d0887"
             ],
             [
              0.1111111111111111,
              "#46039f"
             ],
             [
              0.2222222222222222,
              "#7201a8"
             ],
             [
              0.3333333333333333,
              "#9c179e"
             ],
             [
              0.4444444444444444,
              "#bd3786"
             ],
             [
              0.5555555555555556,
              "#d8576b"
             ],
             [
              0.6666666666666666,
              "#ed7953"
             ],
             [
              0.7777777777777778,
              "#fb9f3a"
             ],
             [
              0.8888888888888888,
              "#fdca26"
             ],
             [
              1,
              "#f0f921"
             ]
            ],
            "type": "heatmap"
           }
          ],
          "heatmapgl": [
           {
            "colorbar": {
             "outlinewidth": 0,
             "ticks": ""
            },
            "colorscale": [
             [
              0,
              "#0d0887"
             ],
             [
              0.1111111111111111,
              "#46039f"
             ],
             [
              0.2222222222222222,
              "#7201a8"
             ],
             [
              0.3333333333333333,
              "#9c179e"
             ],
             [
              0.4444444444444444,
              "#bd3786"
             ],
             [
              0.5555555555555556,
              "#d8576b"
             ],
             [
              0.6666666666666666,
              "#ed7953"
             ],
             [
              0.7777777777777778,
              "#fb9f3a"
             ],
             [
              0.8888888888888888,
              "#fdca26"
             ],
             [
              1,
              "#f0f921"
             ]
            ],
            "type": "heatmapgl"
           }
          ],
          "histogram": [
           {
            "marker": {
             "pattern": {
              "fillmode": "overlay",
              "size": 10,
              "solidity": 0.2
             }
            },
            "type": "histogram"
           }
          ],
          "histogram2d": [
           {
            "colorbar": {
             "outlinewidth": 0,
             "ticks": ""
            },
            "colorscale": [
             [
              0,
              "#0d0887"
             ],
             [
              0.1111111111111111,
              "#46039f"
             ],
             [
              0.2222222222222222,
              "#7201a8"
             ],
             [
              0.3333333333333333,
              "#9c179e"
             ],
             [
              0.4444444444444444,
              "#bd3786"
             ],
             [
              0.5555555555555556,
              "#d8576b"
             ],
             [
              0.6666666666666666,
              "#ed7953"
             ],
             [
              0.7777777777777778,
              "#fb9f3a"
             ],
             [
              0.8888888888888888,
              "#fdca26"
             ],
             [
              1,
              "#f0f921"
             ]
            ],
            "type": "histogram2d"
           }
          ],
          "histogram2dcontour": [
           {
            "colorbar": {
             "outlinewidth": 0,
             "ticks": ""
            },
            "colorscale": [
             [
              0,
              "#0d0887"
             ],
             [
              0.1111111111111111,
              "#46039f"
             ],
             [
              0.2222222222222222,
              "#7201a8"
             ],
             [
              0.3333333333333333,
              "#9c179e"
             ],
             [
              0.4444444444444444,
              "#bd3786"
             ],
             [
              0.5555555555555556,
              "#d8576b"
             ],
             [
              0.6666666666666666,
              "#ed7953"
             ],
             [
              0.7777777777777778,
              "#fb9f3a"
             ],
             [
              0.8888888888888888,
              "#fdca26"
             ],
             [
              1,
              "#f0f921"
             ]
            ],
            "type": "histogram2dcontour"
           }
          ],
          "mesh3d": [
           {
            "colorbar": {
             "outlinewidth": 0,
             "ticks": ""
            },
            "type": "mesh3d"
           }
          ],
          "parcoords": [
           {
            "line": {
             "colorbar": {
              "outlinewidth": 0,
              "ticks": ""
             }
            },
            "type": "parcoords"
           }
          ],
          "pie": [
           {
            "automargin": true,
            "type": "pie"
           }
          ],
          "scatter": [
           {
            "fillpattern": {
             "fillmode": "overlay",
             "size": 10,
             "solidity": 0.2
            },
            "type": "scatter"
           }
          ],
          "scatter3d": [
           {
            "line": {
             "colorbar": {
              "outlinewidth": 0,
              "ticks": ""
             }
            },
            "marker": {
             "colorbar": {
              "outlinewidth": 0,
              "ticks": ""
             }
            },
            "type": "scatter3d"
           }
          ],
          "scattercarpet": [
           {
            "marker": {
             "colorbar": {
              "outlinewidth": 0,
              "ticks": ""
             }
            },
            "type": "scattercarpet"
           }
          ],
          "scattergeo": [
           {
            "marker": {
             "colorbar": {
              "outlinewidth": 0,
              "ticks": ""
             }
            },
            "type": "scattergeo"
           }
          ],
          "scattergl": [
           {
            "marker": {
             "colorbar": {
              "outlinewidth": 0,
              "ticks": ""
             }
            },
            "type": "scattergl"
           }
          ],
          "scattermapbox": [
           {
            "marker": {
             "colorbar": {
              "outlinewidth": 0,
              "ticks": ""
             }
            },
            "type": "scattermapbox"
           }
          ],
          "scatterpolar": [
           {
            "marker": {
             "colorbar": {
              "outlinewidth": 0,
              "ticks": ""
             }
            },
            "type": "scatterpolar"
           }
          ],
          "scatterpolargl": [
           {
            "marker": {
             "colorbar": {
              "outlinewidth": 0,
              "ticks": ""
             }
            },
            "type": "scatterpolargl"
           }
          ],
          "scatterternary": [
           {
            "marker": {
             "colorbar": {
              "outlinewidth": 0,
              "ticks": ""
             }
            },
            "type": "scatterternary"
           }
          ],
          "surface": [
           {
            "colorbar": {
             "outlinewidth": 0,
             "ticks": ""
            },
            "colorscale": [
             [
              0,
              "#0d0887"
             ],
             [
              0.1111111111111111,
              "#46039f"
             ],
             [
              0.2222222222222222,
              "#7201a8"
             ],
             [
              0.3333333333333333,
              "#9c179e"
             ],
             [
              0.4444444444444444,
              "#bd3786"
             ],
             [
              0.5555555555555556,
              "#d8576b"
             ],
             [
              0.6666666666666666,
              "#ed7953"
             ],
             [
              0.7777777777777778,
              "#fb9f3a"
             ],
             [
              0.8888888888888888,
              "#fdca26"
             ],
             [
              1,
              "#f0f921"
             ]
            ],
            "type": "surface"
           }
          ],
          "table": [
           {
            "cells": {
             "fill": {
              "color": "#EBF0F8"
             },
             "line": {
              "color": "white"
             }
            },
            "header": {
             "fill": {
              "color": "#C8D4E3"
             },
             "line": {
              "color": "white"
             }
            },
            "type": "table"
           }
          ]
         },
         "layout": {
          "annotationdefaults": {
           "arrowcolor": "#2a3f5f",
           "arrowhead": 0,
           "arrowwidth": 1
          },
          "autotypenumbers": "strict",
          "coloraxis": {
           "colorbar": {
            "outlinewidth": 0,
            "ticks": ""
           }
          },
          "colorscale": {
           "diverging": [
            [
             0,
             "#8e0152"
            ],
            [
             0.1,
             "#c51b7d"
            ],
            [
             0.2,
             "#de77ae"
            ],
            [
             0.3,
             "#f1b6da"
            ],
            [
             0.4,
             "#fde0ef"
            ],
            [
             0.5,
             "#f7f7f7"
            ],
            [
             0.6,
             "#e6f5d0"
            ],
            [
             0.7,
             "#b8e186"
            ],
            [
             0.8,
             "#7fbc41"
            ],
            [
             0.9,
             "#4d9221"
            ],
            [
             1,
             "#276419"
            ]
           ],
           "sequential": [
            [
             0,
             "#0d0887"
            ],
            [
             0.1111111111111111,
             "#46039f"
            ],
            [
             0.2222222222222222,
             "#7201a8"
            ],
            [
             0.3333333333333333,
             "#9c179e"
            ],
            [
             0.4444444444444444,
             "#bd3786"
            ],
            [
             0.5555555555555556,
             "#d8576b"
            ],
            [
             0.6666666666666666,
             "#ed7953"
            ],
            [
             0.7777777777777778,
             "#fb9f3a"
            ],
            [
             0.8888888888888888,
             "#fdca26"
            ],
            [
             1,
             "#f0f921"
            ]
           ],
           "sequentialminus": [
            [
             0,
             "#0d0887"
            ],
            [
             0.1111111111111111,
             "#46039f"
            ],
            [
             0.2222222222222222,
             "#7201a8"
            ],
            [
             0.3333333333333333,
             "#9c179e"
            ],
            [
             0.4444444444444444,
             "#bd3786"
            ],
            [
             0.5555555555555556,
             "#d8576b"
            ],
            [
             0.6666666666666666,
             "#ed7953"
            ],
            [
             0.7777777777777778,
             "#fb9f3a"
            ],
            [
             0.8888888888888888,
             "#fdca26"
            ],
            [
             1,
             "#f0f921"
            ]
           ]
          },
          "colorway": [
           "#636efa",
           "#EF553B",
           "#00cc96",
           "#ab63fa",
           "#FFA15A",
           "#19d3f3",
           "#FF6692",
           "#B6E880",
           "#FF97FF",
           "#FECB52"
          ],
          "font": {
           "color": "#2a3f5f"
          },
          "geo": {
           "bgcolor": "white",
           "lakecolor": "white",
           "landcolor": "#E5ECF6",
           "showlakes": true,
           "showland": true,
           "subunitcolor": "white"
          },
          "hoverlabel": {
           "align": "left"
          },
          "hovermode": "closest",
          "mapbox": {
           "style": "light"
          },
          "paper_bgcolor": "white",
          "plot_bgcolor": "#E5ECF6",
          "polar": {
           "angularaxis": {
            "gridcolor": "white",
            "linecolor": "white",
            "ticks": ""
           },
           "bgcolor": "#E5ECF6",
           "radialaxis": {
            "gridcolor": "white",
            "linecolor": "white",
            "ticks": ""
           }
          },
          "scene": {
           "xaxis": {
            "backgroundcolor": "#E5ECF6",
            "gridcolor": "white",
            "gridwidth": 2,
            "linecolor": "white",
            "showbackground": true,
            "ticks": "",
            "zerolinecolor": "white"
           },
           "yaxis": {
            "backgroundcolor": "#E5ECF6",
            "gridcolor": "white",
            "gridwidth": 2,
            "linecolor": "white",
            "showbackground": true,
            "ticks": "",
            "zerolinecolor": "white"
           },
           "zaxis": {
            "backgroundcolor": "#E5ECF6",
            "gridcolor": "white",
            "gridwidth": 2,
            "linecolor": "white",
            "showbackground": true,
            "ticks": "",
            "zerolinecolor": "white"
           }
          },
          "shapedefaults": {
           "line": {
            "color": "#2a3f5f"
           }
          },
          "ternary": {
           "aaxis": {
            "gridcolor": "white",
            "linecolor": "white",
            "ticks": ""
           },
           "baxis": {
            "gridcolor": "white",
            "linecolor": "white",
            "ticks": ""
           },
           "bgcolor": "#E5ECF6",
           "caxis": {
            "gridcolor": "white",
            "linecolor": "white",
            "ticks": ""
           }
          },
          "title": {
           "x": 0.05
          },
          "xaxis": {
           "automargin": true,
           "gridcolor": "white",
           "linecolor": "white",
           "ticks": "",
           "title": {
            "standoff": 15
           },
           "zerolinecolor": "white",
           "zerolinewidth": 2
          },
          "yaxis": {
           "automargin": true,
           "gridcolor": "white",
           "linecolor": "white",
           "ticks": "",
           "title": {
            "standoff": 15
           },
           "zerolinecolor": "white",
           "zerolinewidth": 2
          }
         }
        },
        "title": {
         "text": "MCAR - 0.5"
        },
        "xaxis": {
         "nticks": 36
        }
       }
      }
     },
     "metadata": {},
     "output_type": "display_data"
    },
    {
     "data": {
      "application/vnd.plotly.v1+json": {
       "config": {
        "plotlyServerURL": "https://plot.ly"
       },
       "data": [
        {
         "autocolorscale": false,
         "colorscale": [
          [
           0,
           "rgb(255,245,240)"
          ],
          [
           0.125,
           "rgb(254,224,210)"
          ],
          [
           0.25,
           "rgb(252,187,161)"
          ],
          [
           0.375,
           "rgb(252,146,114)"
          ],
          [
           0.5,
           "rgb(251,106,74)"
          ],
          [
           0.625,
           "rgb(239,59,44)"
          ],
          [
           0.75,
           "rgb(203,24,29)"
          ],
          [
           0.875,
           "rgb(165,15,21)"
          ],
          [
           1,
           "rgb(103,0,13)"
          ]
         ],
         "type": "heatmap",
         "x": [
          "737",
          "737",
          "737",
          "737",
          "40677",
          "40677",
          "40497",
          "40497",
          "871",
          "871",
          "871",
          "871",
          "728",
          "728",
          "728",
          "728",
          "183",
          "183",
          "42636",
          "42636",
          "1558",
          "1558",
          "1558",
          "1558",
          "40983",
          "40983",
          "40983",
          "40983",
          "40498",
          "40498",
          "40701",
          "40701",
          "40701",
          "40701",
          "41146",
          "41146",
          "41146",
          "41146",
          "42192",
          "42192",
          "42192",
          "42192",
          "1489",
          "1489",
          "1489",
          "1489",
          "1526",
          "1526",
          "30",
          "30",
          "4552",
          "4552",
          "42545",
          "42545",
          "287",
          "287",
          "847",
          "847",
          "847",
          "847",
          "803",
          "803",
          "803",
          "803",
          "1496",
          "1496",
          "1507",
          "1496",
          "1507",
          "1507",
          "1507",
          "1496",
          "197",
          "197",
          "725",
          "725",
          "725",
          "725",
          "189",
          "189",
          "923",
          "923",
          "923",
          "923",
          "198",
          "198",
          "375",
          "375",
          "23515",
          "23515",
          "1459",
          "1459",
          "42688",
          "42688",
          "42183",
          "42183",
          "32",
          "32",
          "310",
          "310",
          "310",
          "310",
          "26",
          "26",
          "1471",
          "1471",
          "1471",
          "1046",
          "1046",
          "1046",
          "1046",
          "216",
          "216",
          "42712",
          "42712",
          "1199",
          "1199",
          "1120",
          "1120",
          "1120",
          "41671",
          "41671",
          "6",
          "6",
          "823",
          "823",
          "823",
          "218",
          "218",
          "42493",
          "42493",
          "42493",
          "184",
          "184",
          "1481",
          "1481",
          "42477",
          "42477",
          "1193",
          "1193",
          "4135",
          "4135",
          "251",
          "137",
          "137",
          "251",
          "1220",
          "1220",
          "881",
          "215",
          "215",
          "901",
          "881",
          "901",
          "41027",
          "41027",
          "151",
          "151",
          "42225",
          "42225",
          "40685",
          "40685",
          "1200",
          "1200",
          "1213",
          "1213",
          "40922",
          "40922",
          "23395",
          "23395",
          "23517",
          "23517"
         ],
         "y": [
          "Mean/Mode",
          "KNN",
          "Random Forest",
          "VAE",
          "KNN",
          "Mean/Mode",
          "KNN",
          "Mean/Mode",
          "Mean/Mode",
          "KNN",
          "Random Forest",
          "VAE",
          "KNN",
          "Random Forest",
          "VAE",
          "Mean/Mode",
          "KNN",
          "Mean/Mode",
          "KNN",
          "Mean/Mode",
          "Random Forest",
          "Mean/Mode",
          "VAE",
          "KNN",
          "KNN",
          "VAE",
          "Mean/Mode",
          "Random Forest",
          "KNN",
          "Mean/Mode",
          "VAE",
          "Mean/Mode",
          "Random Forest",
          "KNN",
          "KNN",
          "Random Forest",
          "VAE",
          "Mean/Mode",
          "VAE",
          "Mean/Mode",
          "Random Forest",
          "KNN",
          "KNN",
          "Random Forest",
          "Mean/Mode",
          "VAE",
          "KNN",
          "Mean/Mode",
          "Mean/Mode",
          "KNN",
          "Mean/Mode",
          "KNN",
          "Mean/Mode",
          "KNN",
          "Mean/Mode",
          "KNN",
          "Random Forest",
          "KNN",
          "VAE",
          "Mean/Mode",
          "Mean/Mode",
          "VAE",
          "KNN",
          "Random Forest",
          "KNN",
          "Mean/Mode",
          "KNN",
          "VAE",
          "Mean/Mode",
          "VAE",
          "Random Forest",
          "Random Forest",
          "Mean/Mode",
          "KNN",
          "VAE",
          "Random Forest",
          "KNN",
          "Mean/Mode",
          "KNN",
          "Mean/Mode",
          "VAE",
          "KNN",
          "Mean/Mode",
          "Random Forest",
          "KNN",
          "Mean/Mode",
          "KNN",
          "Mean/Mode",
          "Mean/Mode",
          "KNN",
          "KNN",
          "Mean/Mode",
          "Mean/Mode",
          "KNN",
          "Mean/Mode",
          "KNN",
          "KNN",
          "Mean/Mode",
          "Random Forest",
          "VAE",
          "Mean/Mode",
          "KNN",
          "Mean/Mode",
          "KNN",
          "Random Forest",
          "KNN",
          "Mean/Mode",
          "KNN",
          "Mean/Mode",
          "Random Forest",
          "VAE",
          "Mean/Mode",
          "KNN",
          "Mean/Mode",
          "KNN",
          "KNN",
          "Mean/Mode",
          "Mean/Mode",
          "KNN",
          "Random Forest",
          "Mean/Mode",
          "KNN",
          "Mean/Mode",
          "KNN",
          "Random Forest",
          "Mean/Mode",
          "KNN",
          "Mean/Mode",
          "KNN",
          "Random Forest",
          "Mean/Mode",
          "KNN",
          "Mean/Mode",
          "KNN",
          "KNN",
          "Mean/Mode",
          "Mean/Mode",
          "KNN",
          "KNN",
          "Mean/Mode",
          "KNN",
          "Mean/Mode",
          "KNN",
          "KNN",
          "Mean/Mode",
          "Mean/Mode",
          "Mean/Mode",
          "KNN",
          "Mean/Mode",
          "KNN",
          "Mean/Mode",
          "Mean/Mode",
          "KNN",
          "KNN",
          "KNN",
          "Mean/Mode",
          "Mean/Mode",
          "KNN",
          "KNN",
          "Mean/Mode",
          "Mean/Mode",
          "KNN",
          "Mean/Mode",
          "KNN",
          "KNN",
          "Mean/Mode",
          "KNN",
          "Mean/Mode",
          "Mean/Mode",
          "KNN",
          "KNN",
          "Mean/Mode"
         ],
         "z": [
          0.8278136100568401,
          0.8278136100568401,
          0.8278136100568401,
          0.8278136100568401,
          0.7537138211286069,
          0.7537138211286069,
          0.6989153675148323,
          0.7593078027860637,
          0.512487182486976,
          0.513630363206711,
          0.513630363206711,
          0.513630363206711,
          0.9891594931294444,
          0.9891594931294444,
          0.9891594931294444,
          0.9891594931294444,
          0.1007948204796585,
          0.1001933473353255,
          0.3322796446736756,
          0.3323375707789415,
          0.6317449796753936,
          0.6317449796753936,
          0.6317449796753936,
          0.6317449796753936,
          0.667808602048793,
          0.6672553784152195,
          0.667808602048793,
          0.667808602048793,
          0.1740269635639018,
          0.1744022228748873,
          0.6563899868247693,
          0.6563899868247693,
          0.6563899868247693,
          0.6563899868247693,
          0.9135518497220624,
          0.9135518497220624,
          0.9135518497220624,
          0.9135518497220624,
          0.6640426161586268,
          0.6636787353597335,
          0.6651328945580213,
          0.6651328945580213,
          0.6963989503155196,
          0.6966818891700025,
          0.6966818891700025,
          0.6963989503155196,
          0.8964262251781041,
          0.8975618095085031,
          0.6974384245173985,
          0.6808624480020361,
          0.4225264691881841,
          0.4296799302694521,
          20.76707836312329,
          20.76707753824688,
          0.7463972820691968,
          0.7463923841059797,
          0.8406385013113177,
          0.8406385013113177,
          0.8406385013113177,
          0.8406385013113177,
          0.9423495236386082,
          0.942113781469513,
          0.9418835631051986,
          0.9423495236386082,
          0.7721415778228882,
          0.7723727286709292,
          0.9810611600222292,
          0.7723727286709292,
          0.9810611600222292,
          0.9810611600222292,
          0.9810611600222292,
          0.7723727286709292,
          9.193412356922884,
          9.193406121006044,
          0.930702416023045,
          0.930702416023045,
          0.930702416023045,
          0.9298698691784674,
          0.205047277037723,
          0.2050482538464667,
          0.9929893847364024,
          0.9929893847364024,
          0.9929893847364024,
          0.9929893847364024,
          0.0014192166368504,
          0.0014192284192908,
          0.9180045206808368,
          0.9177133163541388,
          0.0468705220353062,
          0.0468705225252847,
          0.2899728263795886,
          0.2918608752427385,
          6500.916475282553,
          6500.9164751288745,
          4.530627285721468,
          4.530629921208658,
          0.9320093851599888,
          0.9309305664974702,
          0.7898098052587711,
          0.78014742014742,
          0.78014742014742,
          0.7898098052587711,
          0.5567671915139761,
          0.5567671915139761,
          0.5515889578625556,
          0.5515889578625556,
          0.5515889578625556,
          0.7910531156720516,
          0.7910531156720516,
          0.7910531156720516,
          0.790904531615149,
          0.0028356064314222,
          0.0028356645796818,
          149.53627016402848,
          149.51916571120418,
          11.94846765200054,
          11.948477667904058,
          0.7606412742786901,
          0.7606412742786901,
          0.7606412742786901,
          0.2406194774852596,
          0.2406194774852596,
          0.7256613979222889,
          0.7261210145212299,
          0.9661408746313483,
          0.9661408746313483,
          0.9661408746313483,
          72725.05411671719,
          72725.0541176552,
          0.627487208179315,
          0.6275647325178465,
          0.627487208179315,
          0.3009209888634342,
          0.3001885893781608,
          0.2066294035774994,
          0.1800115980199746,
          0.6282612757613111,
          0.6282612757613111,
          949.2896875446884,
          949.2896875446884,
          0.6810918462475858,
          0.6814840035451183,
          0.9773165779461688,
          0.674685434404768,
          0.674685434404768,
          0.9773165779461688,
          0.4655750753311728,
          0.4655750753311728,
          0.9903253055588184,
          2.3784955659192657,
          2.3784953619703706,
          0.8391382512202679,
          0.9903253055588184,
          0.8391382512202679,
          0.474722095838102,
          0.474722095838102,
          0.7498203876152564,
          0.7471181705232243,
          4702.286229988564,
          4702.286468900534,
          0.3826628317704124,
          0.3855875223617341,
          4.550350723026352,
          4.550201856275883,
          6.350087861090194,
          6.350095448192074,
          0.7575427283696131,
          0.7575427283696131,
          0.15141157715034,
          0.1514115773174291,
          0.5208465084233364,
          0.5208199605110604
         ],
         "zmin": 0
        }
       ],
       "layout": {
        "template": {
         "data": {
          "bar": [
           {
            "error_x": {
             "color": "#2a3f5f"
            },
            "error_y": {
             "color": "#2a3f5f"
            },
            "marker": {
             "line": {
              "color": "#E5ECF6",
              "width": 0.5
             },
             "pattern": {
              "fillmode": "overlay",
              "size": 10,
              "solidity": 0.2
             }
            },
            "type": "bar"
           }
          ],
          "barpolar": [
           {
            "marker": {
             "line": {
              "color": "#E5ECF6",
              "width": 0.5
             },
             "pattern": {
              "fillmode": "overlay",
              "size": 10,
              "solidity": 0.2
             }
            },
            "type": "barpolar"
           }
          ],
          "carpet": [
           {
            "aaxis": {
             "endlinecolor": "#2a3f5f",
             "gridcolor": "white",
             "linecolor": "white",
             "minorgridcolor": "white",
             "startlinecolor": "#2a3f5f"
            },
            "baxis": {
             "endlinecolor": "#2a3f5f",
             "gridcolor": "white",
             "linecolor": "white",
             "minorgridcolor": "white",
             "startlinecolor": "#2a3f5f"
            },
            "type": "carpet"
           }
          ],
          "choropleth": [
           {
            "colorbar": {
             "outlinewidth": 0,
             "ticks": ""
            },
            "type": "choropleth"
           }
          ],
          "contour": [
           {
            "colorbar": {
             "outlinewidth": 0,
             "ticks": ""
            },
            "colorscale": [
             [
              0,
              "#0d0887"
             ],
             [
              0.1111111111111111,
              "#46039f"
             ],
             [
              0.2222222222222222,
              "#7201a8"
             ],
             [
              0.3333333333333333,
              "#9c179e"
             ],
             [
              0.4444444444444444,
              "#bd3786"
             ],
             [
              0.5555555555555556,
              "#d8576b"
             ],
             [
              0.6666666666666666,
              "#ed7953"
             ],
             [
              0.7777777777777778,
              "#fb9f3a"
             ],
             [
              0.8888888888888888,
              "#fdca26"
             ],
             [
              1,
              "#f0f921"
             ]
            ],
            "type": "contour"
           }
          ],
          "contourcarpet": [
           {
            "colorbar": {
             "outlinewidth": 0,
             "ticks": ""
            },
            "type": "contourcarpet"
           }
          ],
          "heatmap": [
           {
            "colorbar": {
             "outlinewidth": 0,
             "ticks": ""
            },
            "colorscale": [
             [
              0,
              "#0d0887"
             ],
             [
              0.1111111111111111,
              "#46039f"
             ],
             [
              0.2222222222222222,
              "#7201a8"
             ],
             [
              0.3333333333333333,
              "#9c179e"
             ],
             [
              0.4444444444444444,
              "#bd3786"
             ],
             [
              0.5555555555555556,
              "#d8576b"
             ],
             [
              0.6666666666666666,
              "#ed7953"
             ],
             [
              0.7777777777777778,
              "#fb9f3a"
             ],
             [
              0.8888888888888888,
              "#fdca26"
             ],
             [
              1,
              "#f0f921"
             ]
            ],
            "type": "heatmap"
           }
          ],
          "heatmapgl": [
           {
            "colorbar": {
             "outlinewidth": 0,
             "ticks": ""
            },
            "colorscale": [
             [
              0,
              "#0d0887"
             ],
             [
              0.1111111111111111,
              "#46039f"
             ],
             [
              0.2222222222222222,
              "#7201a8"
             ],
             [
              0.3333333333333333,
              "#9c179e"
             ],
             [
              0.4444444444444444,
              "#bd3786"
             ],
             [
              0.5555555555555556,
              "#d8576b"
             ],
             [
              0.6666666666666666,
              "#ed7953"
             ],
             [
              0.7777777777777778,
              "#fb9f3a"
             ],
             [
              0.8888888888888888,
              "#fdca26"
             ],
             [
              1,
              "#f0f921"
             ]
            ],
            "type": "heatmapgl"
           }
          ],
          "histogram": [
           {
            "marker": {
             "pattern": {
              "fillmode": "overlay",
              "size": 10,
              "solidity": 0.2
             }
            },
            "type": "histogram"
           }
          ],
          "histogram2d": [
           {
            "colorbar": {
             "outlinewidth": 0,
             "ticks": ""
            },
            "colorscale": [
             [
              0,
              "#0d0887"
             ],
             [
              0.1111111111111111,
              "#46039f"
             ],
             [
              0.2222222222222222,
              "#7201a8"
             ],
             [
              0.3333333333333333,
              "#9c179e"
             ],
             [
              0.4444444444444444,
              "#bd3786"
             ],
             [
              0.5555555555555556,
              "#d8576b"
             ],
             [
              0.6666666666666666,
              "#ed7953"
             ],
             [
              0.7777777777777778,
              "#fb9f3a"
             ],
             [
              0.8888888888888888,
              "#fdca26"
             ],
             [
              1,
              "#f0f921"
             ]
            ],
            "type": "histogram2d"
           }
          ],
          "histogram2dcontour": [
           {
            "colorbar": {
             "outlinewidth": 0,
             "ticks": ""
            },
            "colorscale": [
             [
              0,
              "#0d0887"
             ],
             [
              0.1111111111111111,
              "#46039f"
             ],
             [
              0.2222222222222222,
              "#7201a8"
             ],
             [
              0.3333333333333333,
              "#9c179e"
             ],
             [
              0.4444444444444444,
              "#bd3786"
             ],
             [
              0.5555555555555556,
              "#d8576b"
             ],
             [
              0.6666666666666666,
              "#ed7953"
             ],
             [
              0.7777777777777778,
              "#fb9f3a"
             ],
             [
              0.8888888888888888,
              "#fdca26"
             ],
             [
              1,
              "#f0f921"
             ]
            ],
            "type": "histogram2dcontour"
           }
          ],
          "mesh3d": [
           {
            "colorbar": {
             "outlinewidth": 0,
             "ticks": ""
            },
            "type": "mesh3d"
           }
          ],
          "parcoords": [
           {
            "line": {
             "colorbar": {
              "outlinewidth": 0,
              "ticks": ""
             }
            },
            "type": "parcoords"
           }
          ],
          "pie": [
           {
            "automargin": true,
            "type": "pie"
           }
          ],
          "scatter": [
           {
            "fillpattern": {
             "fillmode": "overlay",
             "size": 10,
             "solidity": 0.2
            },
            "type": "scatter"
           }
          ],
          "scatter3d": [
           {
            "line": {
             "colorbar": {
              "outlinewidth": 0,
              "ticks": ""
             }
            },
            "marker": {
             "colorbar": {
              "outlinewidth": 0,
              "ticks": ""
             }
            },
            "type": "scatter3d"
           }
          ],
          "scattercarpet": [
           {
            "marker": {
             "colorbar": {
              "outlinewidth": 0,
              "ticks": ""
             }
            },
            "type": "scattercarpet"
           }
          ],
          "scattergeo": [
           {
            "marker": {
             "colorbar": {
              "outlinewidth": 0,
              "ticks": ""
             }
            },
            "type": "scattergeo"
           }
          ],
          "scattergl": [
           {
            "marker": {
             "colorbar": {
              "outlinewidth": 0,
              "ticks": ""
             }
            },
            "type": "scattergl"
           }
          ],
          "scattermapbox": [
           {
            "marker": {
             "colorbar": {
              "outlinewidth": 0,
              "ticks": ""
             }
            },
            "type": "scattermapbox"
           }
          ],
          "scatterpolar": [
           {
            "marker": {
             "colorbar": {
              "outlinewidth": 0,
              "ticks": ""
             }
            },
            "type": "scatterpolar"
           }
          ],
          "scatterpolargl": [
           {
            "marker": {
             "colorbar": {
              "outlinewidth": 0,
              "ticks": ""
             }
            },
            "type": "scatterpolargl"
           }
          ],
          "scatterternary": [
           {
            "marker": {
             "colorbar": {
              "outlinewidth": 0,
              "ticks": ""
             }
            },
            "type": "scatterternary"
           }
          ],
          "surface": [
           {
            "colorbar": {
             "outlinewidth": 0,
             "ticks": ""
            },
            "colorscale": [
             [
              0,
              "#0d0887"
             ],
             [
              0.1111111111111111,
              "#46039f"
             ],
             [
              0.2222222222222222,
              "#7201a8"
             ],
             [
              0.3333333333333333,
              "#9c179e"
             ],
             [
              0.4444444444444444,
              "#bd3786"
             ],
             [
              0.5555555555555556,
              "#d8576b"
             ],
             [
              0.6666666666666666,
              "#ed7953"
             ],
             [
              0.7777777777777778,
              "#fb9f3a"
             ],
             [
              0.8888888888888888,
              "#fdca26"
             ],
             [
              1,
              "#f0f921"
             ]
            ],
            "type": "surface"
           }
          ],
          "table": [
           {
            "cells": {
             "fill": {
              "color": "#EBF0F8"
             },
             "line": {
              "color": "white"
             }
            },
            "header": {
             "fill": {
              "color": "#C8D4E3"
             },
             "line": {
              "color": "white"
             }
            },
            "type": "table"
           }
          ]
         },
         "layout": {
          "annotationdefaults": {
           "arrowcolor": "#2a3f5f",
           "arrowhead": 0,
           "arrowwidth": 1
          },
          "autotypenumbers": "strict",
          "coloraxis": {
           "colorbar": {
            "outlinewidth": 0,
            "ticks": ""
           }
          },
          "colorscale": {
           "diverging": [
            [
             0,
             "#8e0152"
            ],
            [
             0.1,
             "#c51b7d"
            ],
            [
             0.2,
             "#de77ae"
            ],
            [
             0.3,
             "#f1b6da"
            ],
            [
             0.4,
             "#fde0ef"
            ],
            [
             0.5,
             "#f7f7f7"
            ],
            [
             0.6,
             "#e6f5d0"
            ],
            [
             0.7,
             "#b8e186"
            ],
            [
             0.8,
             "#7fbc41"
            ],
            [
             0.9,
             "#4d9221"
            ],
            [
             1,
             "#276419"
            ]
           ],
           "sequential": [
            [
             0,
             "#0d0887"
            ],
            [
             0.1111111111111111,
             "#46039f"
            ],
            [
             0.2222222222222222,
             "#7201a8"
            ],
            [
             0.3333333333333333,
             "#9c179e"
            ],
            [
             0.4444444444444444,
             "#bd3786"
            ],
            [
             0.5555555555555556,
             "#d8576b"
            ],
            [
             0.6666666666666666,
             "#ed7953"
            ],
            [
             0.7777777777777778,
             "#fb9f3a"
            ],
            [
             0.8888888888888888,
             "#fdca26"
            ],
            [
             1,
             "#f0f921"
            ]
           ],
           "sequentialminus": [
            [
             0,
             "#0d0887"
            ],
            [
             0.1111111111111111,
             "#46039f"
            ],
            [
             0.2222222222222222,
             "#7201a8"
            ],
            [
             0.3333333333333333,
             "#9c179e"
            ],
            [
             0.4444444444444444,
             "#bd3786"
            ],
            [
             0.5555555555555556,
             "#d8576b"
            ],
            [
             0.6666666666666666,
             "#ed7953"
            ],
            [
             0.7777777777777778,
             "#fb9f3a"
            ],
            [
             0.8888888888888888,
             "#fdca26"
            ],
            [
             1,
             "#f0f921"
            ]
           ]
          },
          "colorway": [
           "#636efa",
           "#EF553B",
           "#00cc96",
           "#ab63fa",
           "#FFA15A",
           "#19d3f3",
           "#FF6692",
           "#B6E880",
           "#FF97FF",
           "#FECB52"
          ],
          "font": {
           "color": "#2a3f5f"
          },
          "geo": {
           "bgcolor": "white",
           "lakecolor": "white",
           "landcolor": "#E5ECF6",
           "showlakes": true,
           "showland": true,
           "subunitcolor": "white"
          },
          "hoverlabel": {
           "align": "left"
          },
          "hovermode": "closest",
          "mapbox": {
           "style": "light"
          },
          "paper_bgcolor": "white",
          "plot_bgcolor": "#E5ECF6",
          "polar": {
           "angularaxis": {
            "gridcolor": "white",
            "linecolor": "white",
            "ticks": ""
           },
           "bgcolor": "#E5ECF6",
           "radialaxis": {
            "gridcolor": "white",
            "linecolor": "white",
            "ticks": ""
           }
          },
          "scene": {
           "xaxis": {
            "backgroundcolor": "#E5ECF6",
            "gridcolor": "white",
            "gridwidth": 2,
            "linecolor": "white",
            "showbackground": true,
            "ticks": "",
            "zerolinecolor": "white"
           },
           "yaxis": {
            "backgroundcolor": "#E5ECF6",
            "gridcolor": "white",
            "gridwidth": 2,
            "linecolor": "white",
            "showbackground": true,
            "ticks": "",
            "zerolinecolor": "white"
           },
           "zaxis": {
            "backgroundcolor": "#E5ECF6",
            "gridcolor": "white",
            "gridwidth": 2,
            "linecolor": "white",
            "showbackground": true,
            "ticks": "",
            "zerolinecolor": "white"
           }
          },
          "shapedefaults": {
           "line": {
            "color": "#2a3f5f"
           }
          },
          "ternary": {
           "aaxis": {
            "gridcolor": "white",
            "linecolor": "white",
            "ticks": ""
           },
           "baxis": {
            "gridcolor": "white",
            "linecolor": "white",
            "ticks": ""
           },
           "bgcolor": "#E5ECF6",
           "caxis": {
            "gridcolor": "white",
            "linecolor": "white",
            "ticks": ""
           }
          },
          "title": {
           "x": 0.05
          },
          "xaxis": {
           "automargin": true,
           "gridcolor": "white",
           "linecolor": "white",
           "ticks": "",
           "title": {
            "standoff": 15
           },
           "zerolinecolor": "white",
           "zerolinewidth": 2
          },
          "yaxis": {
           "automargin": true,
           "gridcolor": "white",
           "linecolor": "white",
           "ticks": "",
           "title": {
            "standoff": 15
           },
           "zerolinecolor": "white",
           "zerolinewidth": 2
          }
         }
        },
        "title": {
         "text": "MNAR - 0.01"
        },
        "xaxis": {
         "nticks": 36
        }
       }
      }
     },
     "metadata": {},
     "output_type": "display_data"
    },
    {
     "data": {
      "application/vnd.plotly.v1+json": {
       "config": {
        "plotlyServerURL": "https://plot.ly"
       },
       "data": [
        {
         "autocolorscale": false,
         "colorscale": [
          [
           0,
           "rgb(255,245,240)"
          ],
          [
           0.125,
           "rgb(254,224,210)"
          ],
          [
           0.25,
           "rgb(252,187,161)"
          ],
          [
           0.375,
           "rgb(252,146,114)"
          ],
          [
           0.5,
           "rgb(251,106,74)"
          ],
          [
           0.625,
           "rgb(239,59,44)"
          ],
          [
           0.75,
           "rgb(203,24,29)"
          ],
          [
           0.875,
           "rgb(165,15,21)"
          ],
          [
           1,
           "rgb(103,0,13)"
          ]
         ],
         "type": "heatmap",
         "x": [
          "737",
          "737",
          "737",
          "737",
          "40677",
          "40677",
          "40497",
          "40497",
          "871",
          "871",
          "871",
          "871",
          "728",
          "728",
          "728",
          "728",
          "183",
          "183",
          "42636",
          "42636",
          "1558",
          "1558",
          "1558",
          "1558",
          "40983",
          "40983",
          "40983",
          "40983",
          "40498",
          "40498",
          "40701",
          "40701",
          "40701",
          "40701",
          "41146",
          "41146",
          "41146",
          "41146",
          "42192",
          "42192",
          "42192",
          "42192",
          "1489",
          "1489",
          "1489",
          "1489",
          "1526",
          "1526",
          "30",
          "30",
          "4552",
          "4552",
          "42545",
          "42545",
          "287",
          "287",
          "847",
          "847",
          "847",
          "847",
          "803",
          "803",
          "803",
          "803",
          "1496",
          "1496",
          "1507",
          "1496",
          "1507",
          "1507",
          "1507",
          "1496",
          "197",
          "197",
          "725",
          "725",
          "725",
          "725",
          "189",
          "189",
          "923",
          "923",
          "923",
          "923",
          "198",
          "198",
          "375",
          "375",
          "23515",
          "23515",
          "1459",
          "1459",
          "42688",
          "42688",
          "42183",
          "42183",
          "32",
          "32",
          "310",
          "310",
          "310",
          "310",
          "26",
          "26",
          "1471",
          "1471",
          "1471",
          "1046",
          "1046",
          "1046",
          "1046",
          "216",
          "216",
          "42712",
          "42712",
          "1199",
          "1199",
          "1120",
          "1120",
          "1120",
          "41671",
          "41671",
          "6",
          "6",
          "823",
          "823",
          "823",
          "218",
          "218",
          "42493",
          "42493",
          "42493",
          "184",
          "184",
          "1481",
          "1481",
          "42477",
          "42477",
          "1193",
          "1193",
          "4135",
          "4135",
          "251",
          "137",
          "137",
          "251",
          "1220",
          "1220",
          "881",
          "215",
          "215",
          "901",
          "881",
          "901",
          "41027",
          "41027",
          "151",
          "151",
          "42225",
          "42225",
          "40685",
          "40685",
          "1200",
          "1200",
          "1213",
          "1213",
          "40922",
          "40922",
          "23395",
          "23395",
          "23517",
          "23517"
         ],
         "y": [
          "Mean/Mode",
          "KNN",
          "Random Forest",
          "VAE",
          "KNN",
          "Mean/Mode",
          "KNN",
          "Mean/Mode",
          "Mean/Mode",
          "VAE",
          "KNN",
          "Random Forest",
          "KNN",
          "Random Forest",
          "VAE",
          "Mean/Mode",
          "KNN",
          "Mean/Mode",
          "KNN",
          "Mean/Mode",
          "Random Forest",
          "Mean/Mode",
          "VAE",
          "KNN",
          "KNN",
          "VAE",
          "Mean/Mode",
          "Random Forest",
          "KNN",
          "Mean/Mode",
          "VAE",
          "Mean/Mode",
          "Random Forest",
          "KNN",
          "KNN",
          "Random Forest",
          "VAE",
          "Mean/Mode",
          "VAE",
          "Mean/Mode",
          "Random Forest",
          "KNN",
          "KNN",
          "Random Forest",
          "Mean/Mode",
          "VAE",
          "KNN",
          "Mean/Mode",
          "Mean/Mode",
          "KNN",
          "Mean/Mode",
          "KNN",
          "Mean/Mode",
          "KNN",
          "Mean/Mode",
          "KNN",
          "Random Forest",
          "KNN",
          "VAE",
          "Mean/Mode",
          "Mean/Mode",
          "VAE",
          "KNN",
          "Random Forest",
          "KNN",
          "Mean/Mode",
          "KNN",
          "VAE",
          "Mean/Mode",
          "VAE",
          "Random Forest",
          "Random Forest",
          "Mean/Mode",
          "KNN",
          "VAE",
          "Random Forest",
          "KNN",
          "Mean/Mode",
          "KNN",
          "Mean/Mode",
          "VAE",
          "KNN",
          "Mean/Mode",
          "Random Forest",
          "KNN",
          "Mean/Mode",
          "KNN",
          "Mean/Mode",
          "Mean/Mode",
          "KNN",
          "KNN",
          "Mean/Mode",
          "Mean/Mode",
          "KNN",
          "Mean/Mode",
          "KNN",
          "KNN",
          "Mean/Mode",
          "Random Forest",
          "VAE",
          "Mean/Mode",
          "KNN",
          "Mean/Mode",
          "KNN",
          "Random Forest",
          "KNN",
          "Mean/Mode",
          "KNN",
          "Mean/Mode",
          "Random Forest",
          "VAE",
          "Mean/Mode",
          "KNN",
          "Mean/Mode",
          "KNN",
          "KNN",
          "Mean/Mode",
          "Mean/Mode",
          "KNN",
          "Random Forest",
          "Mean/Mode",
          "KNN",
          "Mean/Mode",
          "KNN",
          "Random Forest",
          "Mean/Mode",
          "KNN",
          "Mean/Mode",
          "KNN",
          "Random Forest",
          "Mean/Mode",
          "KNN",
          "Mean/Mode",
          "KNN",
          "KNN",
          "Mean/Mode",
          "Mean/Mode",
          "KNN",
          "KNN",
          "Mean/Mode",
          "KNN",
          "Mean/Mode",
          "KNN",
          "KNN",
          "Mean/Mode",
          "Mean/Mode",
          "Mean/Mode",
          "KNN",
          "Mean/Mode",
          "KNN",
          "Mean/Mode",
          "Mean/Mode",
          "KNN",
          "KNN",
          "KNN",
          "Mean/Mode",
          "Mean/Mode",
          "KNN",
          "KNN",
          "Mean/Mode",
          "Mean/Mode",
          "KNN",
          "Mean/Mode",
          "KNN",
          "KNN",
          "Mean/Mode",
          "KNN",
          "Mean/Mode",
          "Mean/Mode",
          "KNN",
          "KNN",
          "Mean/Mode"
         ],
         "z": [
          0.8278136100568401,
          0.8278136100568401,
          0.8278136100568401,
          0.8278136100568401,
          0.7537138211286069,
          0.7537138211286069,
          0.6989153675148323,
          0.7593078027860637,
          0.512487182486976,
          0.512487182486976,
          0.513630363206711,
          0.513630363206711,
          0.9891594931294444,
          0.9891594931294444,
          0.9891594931294444,
          0.9891594931294444,
          0.1007948204796585,
          0.1001933473353255,
          0.3322796446736756,
          0.3323375707789415,
          0.6317449796753936,
          0.6317449796753936,
          0.6317449796753936,
          0.6317449796753936,
          0.667808602048793,
          0.6672553784152195,
          0.667808602048793,
          0.667808602048793,
          0.1740269635639018,
          0.1744022228748873,
          0.6563899868247693,
          0.6563899868247693,
          0.6563899868247693,
          0.6563899868247693,
          0.9135518497220624,
          0.9135518497220624,
          0.9135518497220624,
          0.9135518497220624,
          0.6640426161586268,
          0.6636787353597335,
          0.6651328945580213,
          0.6651328945580213,
          0.6963989503155196,
          0.6966818891700025,
          0.6966818891700025,
          0.6963989503155196,
          0.8964262251781041,
          0.8975618095085031,
          0.6974384245173985,
          0.6808624480020361,
          0.4225264691881841,
          0.4296799302694521,
          20.76707836312329,
          20.76707753824688,
          0.7463972820691968,
          0.7463923841059797,
          0.8406385013113177,
          0.8406385013113177,
          0.8406385013113177,
          0.8406385013113177,
          0.9423495236386082,
          0.9421165433719034,
          0.9418835631051986,
          0.9423495236386082,
          0.7721415778228882,
          0.7723727286709292,
          0.9810611600222292,
          0.7723727286709292,
          0.9810611600222292,
          0.9810611600222292,
          0.9810611600222292,
          0.7723727286709292,
          9.193412356922884,
          9.193406121006044,
          0.930702416023045,
          0.930702416023045,
          0.930702416023045,
          0.9298698691784674,
          0.205047277037723,
          0.2050482538464667,
          0.9929893847364024,
          0.9929893847364024,
          0.9929893847364024,
          0.9929893847364024,
          0.0014192166368504,
          0.0014192284192908,
          0.9180045206808368,
          0.9177133163541388,
          0.0468705220353062,
          0.0468705225252847,
          0.2899728263795886,
          0.2918608752427385,
          6500.916475282553,
          6500.9164751288745,
          4.530627285721468,
          4.530629921208658,
          0.9320093851599888,
          0.9309305664974702,
          0.7898098052587711,
          0.78014742014742,
          0.78014742014742,
          0.7898098052587711,
          0.5567671915139761,
          0.5567671915139761,
          0.5515889578625556,
          0.5515889578625556,
          0.5515889578625556,
          0.7910531156720516,
          0.7910531156720516,
          0.7910531156720516,
          0.7904584565280489,
          0.0028356064314222,
          0.0028356645796818,
          149.53627016402848,
          149.51916571120418,
          11.94846765200054,
          11.948477667904058,
          0.7606412742786901,
          0.7606412742786901,
          0.7606412742786901,
          0.2406194774852596,
          0.2406194774852596,
          0.7256613979222889,
          0.7261210145212299,
          0.9661408746313483,
          0.9661408746313483,
          0.9661408746313483,
          72725.05411671719,
          72725.0541176552,
          0.627487208179315,
          0.6275647325178465,
          0.627487208179315,
          0.3009209888634342,
          0.3001885893781608,
          0.2066294035774994,
          0.1800115980199746,
          0.6282612757613111,
          0.6282612757613111,
          949.2896875446884,
          949.2896875446884,
          0.6810918462475858,
          0.6814840035451183,
          0.9773165779461688,
          0.674685434404768,
          0.674685434404768,
          0.9773165779461688,
          0.4655750753311728,
          0.4655750753311728,
          0.9903253055588184,
          2.3784955659192657,
          2.3784953619703706,
          0.8391382512202679,
          0.9903253055588184,
          0.8391382512202679,
          0.474722095838102,
          0.474722095838102,
          0.7498203876152564,
          0.7471181705232243,
          4702.286229988564,
          4702.286468900534,
          0.3826628317704124,
          0.3855875223617341,
          4.550350723026352,
          4.550201856275883,
          6.350087861090194,
          6.350095448192074,
          0.7575427283696131,
          0.7575427283696131,
          0.15141157715034,
          0.1514115773174291,
          0.5208465084233364,
          0.5208199605110604
         ],
         "zmin": 0
        }
       ],
       "layout": {
        "template": {
         "data": {
          "bar": [
           {
            "error_x": {
             "color": "#2a3f5f"
            },
            "error_y": {
             "color": "#2a3f5f"
            },
            "marker": {
             "line": {
              "color": "#E5ECF6",
              "width": 0.5
             },
             "pattern": {
              "fillmode": "overlay",
              "size": 10,
              "solidity": 0.2
             }
            },
            "type": "bar"
           }
          ],
          "barpolar": [
           {
            "marker": {
             "line": {
              "color": "#E5ECF6",
              "width": 0.5
             },
             "pattern": {
              "fillmode": "overlay",
              "size": 10,
              "solidity": 0.2
             }
            },
            "type": "barpolar"
           }
          ],
          "carpet": [
           {
            "aaxis": {
             "endlinecolor": "#2a3f5f",
             "gridcolor": "white",
             "linecolor": "white",
             "minorgridcolor": "white",
             "startlinecolor": "#2a3f5f"
            },
            "baxis": {
             "endlinecolor": "#2a3f5f",
             "gridcolor": "white",
             "linecolor": "white",
             "minorgridcolor": "white",
             "startlinecolor": "#2a3f5f"
            },
            "type": "carpet"
           }
          ],
          "choropleth": [
           {
            "colorbar": {
             "outlinewidth": 0,
             "ticks": ""
            },
            "type": "choropleth"
           }
          ],
          "contour": [
           {
            "colorbar": {
             "outlinewidth": 0,
             "ticks": ""
            },
            "colorscale": [
             [
              0,
              "#0d0887"
             ],
             [
              0.1111111111111111,
              "#46039f"
             ],
             [
              0.2222222222222222,
              "#7201a8"
             ],
             [
              0.3333333333333333,
              "#9c179e"
             ],
             [
              0.4444444444444444,
              "#bd3786"
             ],
             [
              0.5555555555555556,
              "#d8576b"
             ],
             [
              0.6666666666666666,
              "#ed7953"
             ],
             [
              0.7777777777777778,
              "#fb9f3a"
             ],
             [
              0.8888888888888888,
              "#fdca26"
             ],
             [
              1,
              "#f0f921"
             ]
            ],
            "type": "contour"
           }
          ],
          "contourcarpet": [
           {
            "colorbar": {
             "outlinewidth": 0,
             "ticks": ""
            },
            "type": "contourcarpet"
           }
          ],
          "heatmap": [
           {
            "colorbar": {
             "outlinewidth": 0,
             "ticks": ""
            },
            "colorscale": [
             [
              0,
              "#0d0887"
             ],
             [
              0.1111111111111111,
              "#46039f"
             ],
             [
              0.2222222222222222,
              "#7201a8"
             ],
             [
              0.3333333333333333,
              "#9c179e"
             ],
             [
              0.4444444444444444,
              "#bd3786"
             ],
             [
              0.5555555555555556,
              "#d8576b"
             ],
             [
              0.6666666666666666,
              "#ed7953"
             ],
             [
              0.7777777777777778,
              "#fb9f3a"
             ],
             [
              0.8888888888888888,
              "#fdca26"
             ],
             [
              1,
              "#f0f921"
             ]
            ],
            "type": "heatmap"
           }
          ],
          "heatmapgl": [
           {
            "colorbar": {
             "outlinewidth": 0,
             "ticks": ""
            },
            "colorscale": [
             [
              0,
              "#0d0887"
             ],
             [
              0.1111111111111111,
              "#46039f"
             ],
             [
              0.2222222222222222,
              "#7201a8"
             ],
             [
              0.3333333333333333,
              "#9c179e"
             ],
             [
              0.4444444444444444,
              "#bd3786"
             ],
             [
              0.5555555555555556,
              "#d8576b"
             ],
             [
              0.6666666666666666,
              "#ed7953"
             ],
             [
              0.7777777777777778,
              "#fb9f3a"
             ],
             [
              0.8888888888888888,
              "#fdca26"
             ],
             [
              1,
              "#f0f921"
             ]
            ],
            "type": "heatmapgl"
           }
          ],
          "histogram": [
           {
            "marker": {
             "pattern": {
              "fillmode": "overlay",
              "size": 10,
              "solidity": 0.2
             }
            },
            "type": "histogram"
           }
          ],
          "histogram2d": [
           {
            "colorbar": {
             "outlinewidth": 0,
             "ticks": ""
            },
            "colorscale": [
             [
              0,
              "#0d0887"
             ],
             [
              0.1111111111111111,
              "#46039f"
             ],
             [
              0.2222222222222222,
              "#7201a8"
             ],
             [
              0.3333333333333333,
              "#9c179e"
             ],
             [
              0.4444444444444444,
              "#bd3786"
             ],
             [
              0.5555555555555556,
              "#d8576b"
             ],
             [
              0.6666666666666666,
              "#ed7953"
             ],
             [
              0.7777777777777778,
              "#fb9f3a"
             ],
             [
              0.8888888888888888,
              "#fdca26"
             ],
             [
              1,
              "#f0f921"
             ]
            ],
            "type": "histogram2d"
           }
          ],
          "histogram2dcontour": [
           {
            "colorbar": {
             "outlinewidth": 0,
             "ticks": ""
            },
            "colorscale": [
             [
              0,
              "#0d0887"
             ],
             [
              0.1111111111111111,
              "#46039f"
             ],
             [
              0.2222222222222222,
              "#7201a8"
             ],
             [
              0.3333333333333333,
              "#9c179e"
             ],
             [
              0.4444444444444444,
              "#bd3786"
             ],
             [
              0.5555555555555556,
              "#d8576b"
             ],
             [
              0.6666666666666666,
              "#ed7953"
             ],
             [
              0.7777777777777778,
              "#fb9f3a"
             ],
             [
              0.8888888888888888,
              "#fdca26"
             ],
             [
              1,
              "#f0f921"
             ]
            ],
            "type": "histogram2dcontour"
           }
          ],
          "mesh3d": [
           {
            "colorbar": {
             "outlinewidth": 0,
             "ticks": ""
            },
            "type": "mesh3d"
           }
          ],
          "parcoords": [
           {
            "line": {
             "colorbar": {
              "outlinewidth": 0,
              "ticks": ""
             }
            },
            "type": "parcoords"
           }
          ],
          "pie": [
           {
            "automargin": true,
            "type": "pie"
           }
          ],
          "scatter": [
           {
            "fillpattern": {
             "fillmode": "overlay",
             "size": 10,
             "solidity": 0.2
            },
            "type": "scatter"
           }
          ],
          "scatter3d": [
           {
            "line": {
             "colorbar": {
              "outlinewidth": 0,
              "ticks": ""
             }
            },
            "marker": {
             "colorbar": {
              "outlinewidth": 0,
              "ticks": ""
             }
            },
            "type": "scatter3d"
           }
          ],
          "scattercarpet": [
           {
            "marker": {
             "colorbar": {
              "outlinewidth": 0,
              "ticks": ""
             }
            },
            "type": "scattercarpet"
           }
          ],
          "scattergeo": [
           {
            "marker": {
             "colorbar": {
              "outlinewidth": 0,
              "ticks": ""
             }
            },
            "type": "scattergeo"
           }
          ],
          "scattergl": [
           {
            "marker": {
             "colorbar": {
              "outlinewidth": 0,
              "ticks": ""
             }
            },
            "type": "scattergl"
           }
          ],
          "scattermapbox": [
           {
            "marker": {
             "colorbar": {
              "outlinewidth": 0,
              "ticks": ""
             }
            },
            "type": "scattermapbox"
           }
          ],
          "scatterpolar": [
           {
            "marker": {
             "colorbar": {
              "outlinewidth": 0,
              "ticks": ""
             }
            },
            "type": "scatterpolar"
           }
          ],
          "scatterpolargl": [
           {
            "marker": {
             "colorbar": {
              "outlinewidth": 0,
              "ticks": ""
             }
            },
            "type": "scatterpolargl"
           }
          ],
          "scatterternary": [
           {
            "marker": {
             "colorbar": {
              "outlinewidth": 0,
              "ticks": ""
             }
            },
            "type": "scatterternary"
           }
          ],
          "surface": [
           {
            "colorbar": {
             "outlinewidth": 0,
             "ticks": ""
            },
            "colorscale": [
             [
              0,
              "#0d0887"
             ],
             [
              0.1111111111111111,
              "#46039f"
             ],
             [
              0.2222222222222222,
              "#7201a8"
             ],
             [
              0.3333333333333333,
              "#9c179e"
             ],
             [
              0.4444444444444444,
              "#bd3786"
             ],
             [
              0.5555555555555556,
              "#d8576b"
             ],
             [
              0.6666666666666666,
              "#ed7953"
             ],
             [
              0.7777777777777778,
              "#fb9f3a"
             ],
             [
              0.8888888888888888,
              "#fdca26"
             ],
             [
              1,
              "#f0f921"
             ]
            ],
            "type": "surface"
           }
          ],
          "table": [
           {
            "cells": {
             "fill": {
              "color": "#EBF0F8"
             },
             "line": {
              "color": "white"
             }
            },
            "header": {
             "fill": {
              "color": "#C8D4E3"
             },
             "line": {
              "color": "white"
             }
            },
            "type": "table"
           }
          ]
         },
         "layout": {
          "annotationdefaults": {
           "arrowcolor": "#2a3f5f",
           "arrowhead": 0,
           "arrowwidth": 1
          },
          "autotypenumbers": "strict",
          "coloraxis": {
           "colorbar": {
            "outlinewidth": 0,
            "ticks": ""
           }
          },
          "colorscale": {
           "diverging": [
            [
             0,
             "#8e0152"
            ],
            [
             0.1,
             "#c51b7d"
            ],
            [
             0.2,
             "#de77ae"
            ],
            [
             0.3,
             "#f1b6da"
            ],
            [
             0.4,
             "#fde0ef"
            ],
            [
             0.5,
             "#f7f7f7"
            ],
            [
             0.6,
             "#e6f5d0"
            ],
            [
             0.7,
             "#b8e186"
            ],
            [
             0.8,
             "#7fbc41"
            ],
            [
             0.9,
             "#4d9221"
            ],
            [
             1,
             "#276419"
            ]
           ],
           "sequential": [
            [
             0,
             "#0d0887"
            ],
            [
             0.1111111111111111,
             "#46039f"
            ],
            [
             0.2222222222222222,
             "#7201a8"
            ],
            [
             0.3333333333333333,
             "#9c179e"
            ],
            [
             0.4444444444444444,
             "#bd3786"
            ],
            [
             0.5555555555555556,
             "#d8576b"
            ],
            [
             0.6666666666666666,
             "#ed7953"
            ],
            [
             0.7777777777777778,
             "#fb9f3a"
            ],
            [
             0.8888888888888888,
             "#fdca26"
            ],
            [
             1,
             "#f0f921"
            ]
           ],
           "sequentialminus": [
            [
             0,
             "#0d0887"
            ],
            [
             0.1111111111111111,
             "#46039f"
            ],
            [
             0.2222222222222222,
             "#7201a8"
            ],
            [
             0.3333333333333333,
             "#9c179e"
            ],
            [
             0.4444444444444444,
             "#bd3786"
            ],
            [
             0.5555555555555556,
             "#d8576b"
            ],
            [
             0.6666666666666666,
             "#ed7953"
            ],
            [
             0.7777777777777778,
             "#fb9f3a"
            ],
            [
             0.8888888888888888,
             "#fdca26"
            ],
            [
             1,
             "#f0f921"
            ]
           ]
          },
          "colorway": [
           "#636efa",
           "#EF553B",
           "#00cc96",
           "#ab63fa",
           "#FFA15A",
           "#19d3f3",
           "#FF6692",
           "#B6E880",
           "#FF97FF",
           "#FECB52"
          ],
          "font": {
           "color": "#2a3f5f"
          },
          "geo": {
           "bgcolor": "white",
           "lakecolor": "white",
           "landcolor": "#E5ECF6",
           "showlakes": true,
           "showland": true,
           "subunitcolor": "white"
          },
          "hoverlabel": {
           "align": "left"
          },
          "hovermode": "closest",
          "mapbox": {
           "style": "light"
          },
          "paper_bgcolor": "white",
          "plot_bgcolor": "#E5ECF6",
          "polar": {
           "angularaxis": {
            "gridcolor": "white",
            "linecolor": "white",
            "ticks": ""
           },
           "bgcolor": "#E5ECF6",
           "radialaxis": {
            "gridcolor": "white",
            "linecolor": "white",
            "ticks": ""
           }
          },
          "scene": {
           "xaxis": {
            "backgroundcolor": "#E5ECF6",
            "gridcolor": "white",
            "gridwidth": 2,
            "linecolor": "white",
            "showbackground": true,
            "ticks": "",
            "zerolinecolor": "white"
           },
           "yaxis": {
            "backgroundcolor": "#E5ECF6",
            "gridcolor": "white",
            "gridwidth": 2,
            "linecolor": "white",
            "showbackground": true,
            "ticks": "",
            "zerolinecolor": "white"
           },
           "zaxis": {
            "backgroundcolor": "#E5ECF6",
            "gridcolor": "white",
            "gridwidth": 2,
            "linecolor": "white",
            "showbackground": true,
            "ticks": "",
            "zerolinecolor": "white"
           }
          },
          "shapedefaults": {
           "line": {
            "color": "#2a3f5f"
           }
          },
          "ternary": {
           "aaxis": {
            "gridcolor": "white",
            "linecolor": "white",
            "ticks": ""
           },
           "baxis": {
            "gridcolor": "white",
            "linecolor": "white",
            "ticks": ""
           },
           "bgcolor": "#E5ECF6",
           "caxis": {
            "gridcolor": "white",
            "linecolor": "white",
            "ticks": ""
           }
          },
          "title": {
           "x": 0.05
          },
          "xaxis": {
           "automargin": true,
           "gridcolor": "white",
           "linecolor": "white",
           "ticks": "",
           "title": {
            "standoff": 15
           },
           "zerolinecolor": "white",
           "zerolinewidth": 2
          },
          "yaxis": {
           "automargin": true,
           "gridcolor": "white",
           "linecolor": "white",
           "ticks": "",
           "title": {
            "standoff": 15
           },
           "zerolinecolor": "white",
           "zerolinewidth": 2
          }
         }
        },
        "title": {
         "text": "MNAR - 0.1"
        },
        "xaxis": {
         "nticks": 36
        }
       }
      }
     },
     "metadata": {},
     "output_type": "display_data"
    },
    {
     "data": {
      "application/vnd.plotly.v1+json": {
       "config": {
        "plotlyServerURL": "https://plot.ly"
       },
       "data": [
        {
         "autocolorscale": false,
         "colorscale": [
          [
           0,
           "rgb(255,245,240)"
          ],
          [
           0.125,
           "rgb(254,224,210)"
          ],
          [
           0.25,
           "rgb(252,187,161)"
          ],
          [
           0.375,
           "rgb(252,146,114)"
          ],
          [
           0.5,
           "rgb(251,106,74)"
          ],
          [
           0.625,
           "rgb(239,59,44)"
          ],
          [
           0.75,
           "rgb(203,24,29)"
          ],
          [
           0.875,
           "rgb(165,15,21)"
          ],
          [
           1,
           "rgb(103,0,13)"
          ]
         ],
         "type": "heatmap",
         "x": [
          "737",
          "737",
          "737",
          "737",
          "40677",
          "40677",
          "40497",
          "40497",
          "871",
          "871",
          "871",
          "871",
          "728",
          "728",
          "728",
          "728",
          "183",
          "183",
          "42636",
          "42636",
          "1558",
          "1558",
          "1558",
          "1558",
          "40983",
          "40983",
          "40983",
          "40983",
          "40498",
          "40498",
          "40701",
          "40701",
          "40701",
          "40701",
          "41146",
          "41146",
          "41146",
          "41146",
          "42192",
          "42192",
          "42192",
          "42192",
          "1489",
          "1489",
          "1489",
          "1489",
          "1526",
          "1526",
          "30",
          "30",
          "4552",
          "4552",
          "42545",
          "42545",
          "287",
          "287",
          "847",
          "847",
          "847",
          "847",
          "803",
          "803",
          "803",
          "803",
          "1496",
          "1496",
          "1507",
          "1496",
          "1507",
          "1507",
          "1507",
          "1496",
          "197",
          "197",
          "725",
          "725",
          "725",
          "725",
          "189",
          "189",
          "923",
          "923",
          "923",
          "923",
          "198",
          "198",
          "375",
          "375",
          "23515",
          "23515",
          "1459",
          "1459",
          "42688",
          "42688",
          "42183",
          "42183",
          "32",
          "32",
          "310",
          "310",
          "310",
          "310",
          "26",
          "26",
          "1471",
          "1471",
          "1471",
          "1046",
          "1046",
          "1046",
          "1046",
          "216",
          "216",
          "42712",
          "42712",
          "1199",
          "1199",
          "1120",
          "1120",
          "1120",
          "41671",
          "41671",
          "6",
          "6",
          "823",
          "823",
          "823",
          "218",
          "218",
          "42493",
          "42493",
          "42493",
          "184",
          "184",
          "1481",
          "1481",
          "42477",
          "42477",
          "1193",
          "1193",
          "4135",
          "4135",
          "251",
          "137",
          "137",
          "251",
          "1220",
          "1220",
          "881",
          "215",
          "215",
          "901",
          "881",
          "901",
          "41027",
          "41027",
          "151",
          "151",
          "42225",
          "42225",
          "40685",
          "40685",
          "1200",
          "1200",
          "1213",
          "1213",
          "40922",
          "40922",
          "23395",
          "23395",
          "23517",
          "23517"
         ],
         "y": [
          "Mean/Mode",
          "KNN",
          "Random Forest",
          "VAE",
          "KNN",
          "Mean/Mode",
          "KNN",
          "Mean/Mode",
          "Mean/Mode",
          "VAE",
          "KNN",
          "Random Forest",
          "KNN",
          "Random Forest",
          "VAE",
          "Mean/Mode",
          "KNN",
          "Mean/Mode",
          "KNN",
          "Mean/Mode",
          "Random Forest",
          "Mean/Mode",
          "VAE",
          "KNN",
          "KNN",
          "VAE",
          "Mean/Mode",
          "Random Forest",
          "KNN",
          "Mean/Mode",
          "VAE",
          "Mean/Mode",
          "Random Forest",
          "KNN",
          "KNN",
          "Random Forest",
          "VAE",
          "Mean/Mode",
          "VAE",
          "Mean/Mode",
          "Random Forest",
          "KNN",
          "KNN",
          "VAE",
          "Mean/Mode",
          "Random Forest",
          "KNN",
          "Mean/Mode",
          "Mean/Mode",
          "KNN",
          "Mean/Mode",
          "KNN",
          "Mean/Mode",
          "KNN",
          "Mean/Mode",
          "KNN",
          "Random Forest",
          "KNN",
          "VAE",
          "Mean/Mode",
          "Random Forest",
          "Mean/Mode",
          "KNN",
          "VAE",
          "KNN",
          "Mean/Mode",
          "KNN",
          "VAE",
          "Mean/Mode",
          "VAE",
          "Random Forest",
          "Random Forest",
          "Mean/Mode",
          "KNN",
          "VAE",
          "Random Forest",
          "KNN",
          "Mean/Mode",
          "KNN",
          "Mean/Mode",
          "VAE",
          "KNN",
          "Mean/Mode",
          "Random Forest",
          "KNN",
          "Mean/Mode",
          "KNN",
          "Mean/Mode",
          "Mean/Mode",
          "KNN",
          "KNN",
          "Mean/Mode",
          "Mean/Mode",
          "KNN",
          "Mean/Mode",
          "KNN",
          "KNN",
          "Mean/Mode",
          "Random Forest",
          "VAE",
          "Mean/Mode",
          "KNN",
          "Mean/Mode",
          "KNN",
          "Random Forest",
          "KNN",
          "Mean/Mode",
          "KNN",
          "Mean/Mode",
          "Random Forest",
          "VAE",
          "Mean/Mode",
          "KNN",
          "Mean/Mode",
          "KNN",
          "KNN",
          "Mean/Mode",
          "Mean/Mode",
          "KNN",
          "Random Forest",
          "Mean/Mode",
          "KNN",
          "Mean/Mode",
          "KNN",
          "Random Forest",
          "Mean/Mode",
          "KNN",
          "Mean/Mode",
          "KNN",
          "Random Forest",
          "Mean/Mode",
          "KNN",
          "Mean/Mode",
          "KNN",
          "KNN",
          "Mean/Mode",
          "Mean/Mode",
          "KNN",
          "KNN",
          "Mean/Mode",
          "KNN",
          "Mean/Mode",
          "KNN",
          "KNN",
          "Mean/Mode",
          "Mean/Mode",
          "Mean/Mode",
          "KNN",
          "Mean/Mode",
          "KNN",
          "Mean/Mode",
          "Mean/Mode",
          "KNN",
          "KNN",
          "KNN",
          "Mean/Mode",
          "Mean/Mode",
          "KNN",
          "KNN",
          "Mean/Mode",
          "Mean/Mode",
          "KNN",
          "Mean/Mode",
          "KNN",
          "KNN",
          "Mean/Mode",
          "KNN",
          "Mean/Mode",
          "Mean/Mode",
          "KNN",
          "KNN",
          "Mean/Mode"
         ],
         "z": [
          0.8278136100568401,
          0.8278136100568401,
          0.8278136100568401,
          0.8278136100568401,
          0.7537138211286069,
          0.7537138211286069,
          0.6989153675148323,
          0.7593078027860637,
          0.512487182486976,
          0.512487182486976,
          0.513630363206711,
          0.513630363206711,
          0.9891594931294444,
          0.9891594931294444,
          0.9891594931294444,
          0.9891594931294444,
          0.1007948204796585,
          0.1001933473353255,
          0.3322796446736756,
          0.3323375707789415,
          0.6317449796753936,
          0.6317449796753936,
          0.6317449796753936,
          0.6317449796753936,
          0.667808602048793,
          0.6672553784152195,
          0.667808602048793,
          0.667808602048793,
          0.1740269635639018,
          0.1744022228748873,
          0.6563899868247693,
          0.6563899868247693,
          0.6563899868247693,
          0.6563899868247693,
          0.9135518497220624,
          0.9135518497220624,
          0.9135518497220624,
          0.9135518497220624,
          0.6644060422917583,
          0.6636787353597335,
          0.6651328945580213,
          0.6651328945580213,
          0.6963989503155196,
          0.6966818891700025,
          0.6966818891700025,
          0.6963989503155196,
          0.8964262251781041,
          0.8975618095085031,
          0.6974384245173985,
          0.6808624480020361,
          0.4225264691881841,
          0.4296799302694521,
          20.76707836312329,
          20.76707753824688,
          0.7463972820691968,
          0.7463923841059797,
          0.8406385013113177,
          0.8406385013113177,
          0.8406385013113177,
          0.8406385013113177,
          0.9423495236386082,
          0.9423495236386082,
          0.9418835631051986,
          0.9423495236386082,
          0.7721415778228882,
          0.7723727286709292,
          0.9810611600222292,
          0.7723727286709292,
          0.9810611600222292,
          0.9810611600222292,
          0.9810611600222292,
          0.7723727286709292,
          9.193412356922884,
          9.193406121006044,
          0.930702416023045,
          0.930702416023045,
          0.930702416023045,
          0.9298698691784674,
          0.205047277037723,
          0.2050482538464667,
          0.9929893847364024,
          0.9929893847364024,
          0.9929893847364024,
          0.9929893847364024,
          0.0014192166368504,
          0.0014192284192908,
          0.9180045206808368,
          0.9177133163541388,
          0.0468705220353062,
          0.0468705225252847,
          0.2899728263795886,
          0.2918608752427385,
          6500.916475282553,
          6500.9164751288745,
          4.530627285721468,
          4.530629921208658,
          0.9320093851599888,
          0.9309305664974702,
          0.7898098052587711,
          0.78014742014742,
          0.78014742014742,
          0.7898098052587711,
          0.5567671915139761,
          0.5567671915139761,
          0.5515889578625556,
          0.5515889578625556,
          0.5515889578625556,
          0.7910531156720516,
          0.7910531156720516,
          0.7910531156720516,
          0.790904531615149,
          0.0028356064314222,
          0.0028356645796818,
          149.53627016402848,
          149.51916571120418,
          11.94846765200054,
          11.948477667904058,
          0.7606412742786901,
          0.7606412742786901,
          0.7606412742786901,
          0.2406194774852596,
          0.2406194774852596,
          0.7256613979222889,
          0.7261210145212299,
          0.9661408746313483,
          0.9661408746313483,
          0.9661408746313483,
          72725.05411671719,
          72725.0541176552,
          0.627487208179315,
          0.6275647325178465,
          0.627487208179315,
          0.3009209888634342,
          0.3001885893781608,
          0.2066294035774994,
          0.1800115980199746,
          0.6282612757613111,
          0.6282612757613111,
          949.2896875446884,
          949.2896875446884,
          0.6810918462475858,
          0.6814840035451183,
          0.9773165779461688,
          0.674685434404768,
          0.674685434404768,
          0.9773165779461688,
          0.4655750753311728,
          0.4655750753311728,
          0.9903253055588184,
          2.3784955659192657,
          2.3784953619703706,
          0.8391382512202679,
          0.9903253055588184,
          0.8391382512202679,
          0.474722095838102,
          0.474722095838102,
          0.7498203876152564,
          0.7471181705232243,
          4702.286229988564,
          4702.286468900534,
          0.3826628317704124,
          0.3855875223617341,
          4.550350723026352,
          4.550201856275883,
          6.350087861090194,
          6.350095448192074,
          0.7575427283696131,
          0.7575427283696131,
          0.15141157715034,
          0.1514115773174291,
          0.5208465084233364,
          0.5208199605110604
         ],
         "zmin": 0
        }
       ],
       "layout": {
        "template": {
         "data": {
          "bar": [
           {
            "error_x": {
             "color": "#2a3f5f"
            },
            "error_y": {
             "color": "#2a3f5f"
            },
            "marker": {
             "line": {
              "color": "#E5ECF6",
              "width": 0.5
             },
             "pattern": {
              "fillmode": "overlay",
              "size": 10,
              "solidity": 0.2
             }
            },
            "type": "bar"
           }
          ],
          "barpolar": [
           {
            "marker": {
             "line": {
              "color": "#E5ECF6",
              "width": 0.5
             },
             "pattern": {
              "fillmode": "overlay",
              "size": 10,
              "solidity": 0.2
             }
            },
            "type": "barpolar"
           }
          ],
          "carpet": [
           {
            "aaxis": {
             "endlinecolor": "#2a3f5f",
             "gridcolor": "white",
             "linecolor": "white",
             "minorgridcolor": "white",
             "startlinecolor": "#2a3f5f"
            },
            "baxis": {
             "endlinecolor": "#2a3f5f",
             "gridcolor": "white",
             "linecolor": "white",
             "minorgridcolor": "white",
             "startlinecolor": "#2a3f5f"
            },
            "type": "carpet"
           }
          ],
          "choropleth": [
           {
            "colorbar": {
             "outlinewidth": 0,
             "ticks": ""
            },
            "type": "choropleth"
           }
          ],
          "contour": [
           {
            "colorbar": {
             "outlinewidth": 0,
             "ticks": ""
            },
            "colorscale": [
             [
              0,
              "#0d0887"
             ],
             [
              0.1111111111111111,
              "#46039f"
             ],
             [
              0.2222222222222222,
              "#7201a8"
             ],
             [
              0.3333333333333333,
              "#9c179e"
             ],
             [
              0.4444444444444444,
              "#bd3786"
             ],
             [
              0.5555555555555556,
              "#d8576b"
             ],
             [
              0.6666666666666666,
              "#ed7953"
             ],
             [
              0.7777777777777778,
              "#fb9f3a"
             ],
             [
              0.8888888888888888,
              "#fdca26"
             ],
             [
              1,
              "#f0f921"
             ]
            ],
            "type": "contour"
           }
          ],
          "contourcarpet": [
           {
            "colorbar": {
             "outlinewidth": 0,
             "ticks": ""
            },
            "type": "contourcarpet"
           }
          ],
          "heatmap": [
           {
            "colorbar": {
             "outlinewidth": 0,
             "ticks": ""
            },
            "colorscale": [
             [
              0,
              "#0d0887"
             ],
             [
              0.1111111111111111,
              "#46039f"
             ],
             [
              0.2222222222222222,
              "#7201a8"
             ],
             [
              0.3333333333333333,
              "#9c179e"
             ],
             [
              0.4444444444444444,
              "#bd3786"
             ],
             [
              0.5555555555555556,
              "#d8576b"
             ],
             [
              0.6666666666666666,
              "#ed7953"
             ],
             [
              0.7777777777777778,
              "#fb9f3a"
             ],
             [
              0.8888888888888888,
              "#fdca26"
             ],
             [
              1,
              "#f0f921"
             ]
            ],
            "type": "heatmap"
           }
          ],
          "heatmapgl": [
           {
            "colorbar": {
             "outlinewidth": 0,
             "ticks": ""
            },
            "colorscale": [
             [
              0,
              "#0d0887"
             ],
             [
              0.1111111111111111,
              "#46039f"
             ],
             [
              0.2222222222222222,
              "#7201a8"
             ],
             [
              0.3333333333333333,
              "#9c179e"
             ],
             [
              0.4444444444444444,
              "#bd3786"
             ],
             [
              0.5555555555555556,
              "#d8576b"
             ],
             [
              0.6666666666666666,
              "#ed7953"
             ],
             [
              0.7777777777777778,
              "#fb9f3a"
             ],
             [
              0.8888888888888888,
              "#fdca26"
             ],
             [
              1,
              "#f0f921"
             ]
            ],
            "type": "heatmapgl"
           }
          ],
          "histogram": [
           {
            "marker": {
             "pattern": {
              "fillmode": "overlay",
              "size": 10,
              "solidity": 0.2
             }
            },
            "type": "histogram"
           }
          ],
          "histogram2d": [
           {
            "colorbar": {
             "outlinewidth": 0,
             "ticks": ""
            },
            "colorscale": [
             [
              0,
              "#0d0887"
             ],
             [
              0.1111111111111111,
              "#46039f"
             ],
             [
              0.2222222222222222,
              "#7201a8"
             ],
             [
              0.3333333333333333,
              "#9c179e"
             ],
             [
              0.4444444444444444,
              "#bd3786"
             ],
             [
              0.5555555555555556,
              "#d8576b"
             ],
             [
              0.6666666666666666,
              "#ed7953"
             ],
             [
              0.7777777777777778,
              "#fb9f3a"
             ],
             [
              0.8888888888888888,
              "#fdca26"
             ],
             [
              1,
              "#f0f921"
             ]
            ],
            "type": "histogram2d"
           }
          ],
          "histogram2dcontour": [
           {
            "colorbar": {
             "outlinewidth": 0,
             "ticks": ""
            },
            "colorscale": [
             [
              0,
              "#0d0887"
             ],
             [
              0.1111111111111111,
              "#46039f"
             ],
             [
              0.2222222222222222,
              "#7201a8"
             ],
             [
              0.3333333333333333,
              "#9c179e"
             ],
             [
              0.4444444444444444,
              "#bd3786"
             ],
             [
              0.5555555555555556,
              "#d8576b"
             ],
             [
              0.6666666666666666,
              "#ed7953"
             ],
             [
              0.7777777777777778,
              "#fb9f3a"
             ],
             [
              0.8888888888888888,
              "#fdca26"
             ],
             [
              1,
              "#f0f921"
             ]
            ],
            "type": "histogram2dcontour"
           }
          ],
          "mesh3d": [
           {
            "colorbar": {
             "outlinewidth": 0,
             "ticks": ""
            },
            "type": "mesh3d"
           }
          ],
          "parcoords": [
           {
            "line": {
             "colorbar": {
              "outlinewidth": 0,
              "ticks": ""
             }
            },
            "type": "parcoords"
           }
          ],
          "pie": [
           {
            "automargin": true,
            "type": "pie"
           }
          ],
          "scatter": [
           {
            "fillpattern": {
             "fillmode": "overlay",
             "size": 10,
             "solidity": 0.2
            },
            "type": "scatter"
           }
          ],
          "scatter3d": [
           {
            "line": {
             "colorbar": {
              "outlinewidth": 0,
              "ticks": ""
             }
            },
            "marker": {
             "colorbar": {
              "outlinewidth": 0,
              "ticks": ""
             }
            },
            "type": "scatter3d"
           }
          ],
          "scattercarpet": [
           {
            "marker": {
             "colorbar": {
              "outlinewidth": 0,
              "ticks": ""
             }
            },
            "type": "scattercarpet"
           }
          ],
          "scattergeo": [
           {
            "marker": {
             "colorbar": {
              "outlinewidth": 0,
              "ticks": ""
             }
            },
            "type": "scattergeo"
           }
          ],
          "scattergl": [
           {
            "marker": {
             "colorbar": {
              "outlinewidth": 0,
              "ticks": ""
             }
            },
            "type": "scattergl"
           }
          ],
          "scattermapbox": [
           {
            "marker": {
             "colorbar": {
              "outlinewidth": 0,
              "ticks": ""
             }
            },
            "type": "scattermapbox"
           }
          ],
          "scatterpolar": [
           {
            "marker": {
             "colorbar": {
              "outlinewidth": 0,
              "ticks": ""
             }
            },
            "type": "scatterpolar"
           }
          ],
          "scatterpolargl": [
           {
            "marker": {
             "colorbar": {
              "outlinewidth": 0,
              "ticks": ""
             }
            },
            "type": "scatterpolargl"
           }
          ],
          "scatterternary": [
           {
            "marker": {
             "colorbar": {
              "outlinewidth": 0,
              "ticks": ""
             }
            },
            "type": "scatterternary"
           }
          ],
          "surface": [
           {
            "colorbar": {
             "outlinewidth": 0,
             "ticks": ""
            },
            "colorscale": [
             [
              0,
              "#0d0887"
             ],
             [
              0.1111111111111111,
              "#46039f"
             ],
             [
              0.2222222222222222,
              "#7201a8"
             ],
             [
              0.3333333333333333,
              "#9c179e"
             ],
             [
              0.4444444444444444,
              "#bd3786"
             ],
             [
              0.5555555555555556,
              "#d8576b"
             ],
             [
              0.6666666666666666,
              "#ed7953"
             ],
             [
              0.7777777777777778,
              "#fb9f3a"
             ],
             [
              0.8888888888888888,
              "#fdca26"
             ],
             [
              1,
              "#f0f921"
             ]
            ],
            "type": "surface"
           }
          ],
          "table": [
           {
            "cells": {
             "fill": {
              "color": "#EBF0F8"
             },
             "line": {
              "color": "white"
             }
            },
            "header": {
             "fill": {
              "color": "#C8D4E3"
             },
             "line": {
              "color": "white"
             }
            },
            "type": "table"
           }
          ]
         },
         "layout": {
          "annotationdefaults": {
           "arrowcolor": "#2a3f5f",
           "arrowhead": 0,
           "arrowwidth": 1
          },
          "autotypenumbers": "strict",
          "coloraxis": {
           "colorbar": {
            "outlinewidth": 0,
            "ticks": ""
           }
          },
          "colorscale": {
           "diverging": [
            [
             0,
             "#8e0152"
            ],
            [
             0.1,
             "#c51b7d"
            ],
            [
             0.2,
             "#de77ae"
            ],
            [
             0.3,
             "#f1b6da"
            ],
            [
             0.4,
             "#fde0ef"
            ],
            [
             0.5,
             "#f7f7f7"
            ],
            [
             0.6,
             "#e6f5d0"
            ],
            [
             0.7,
             "#b8e186"
            ],
            [
             0.8,
             "#7fbc41"
            ],
            [
             0.9,
             "#4d9221"
            ],
            [
             1,
             "#276419"
            ]
           ],
           "sequential": [
            [
             0,
             "#0d0887"
            ],
            [
             0.1111111111111111,
             "#46039f"
            ],
            [
             0.2222222222222222,
             "#7201a8"
            ],
            [
             0.3333333333333333,
             "#9c179e"
            ],
            [
             0.4444444444444444,
             "#bd3786"
            ],
            [
             0.5555555555555556,
             "#d8576b"
            ],
            [
             0.6666666666666666,
             "#ed7953"
            ],
            [
             0.7777777777777778,
             "#fb9f3a"
            ],
            [
             0.8888888888888888,
             "#fdca26"
            ],
            [
             1,
             "#f0f921"
            ]
           ],
           "sequentialminus": [
            [
             0,
             "#0d0887"
            ],
            [
             0.1111111111111111,
             "#46039f"
            ],
            [
             0.2222222222222222,
             "#7201a8"
            ],
            [
             0.3333333333333333,
             "#9c179e"
            ],
            [
             0.4444444444444444,
             "#bd3786"
            ],
            [
             0.5555555555555556,
             "#d8576b"
            ],
            [
             0.6666666666666666,
             "#ed7953"
            ],
            [
             0.7777777777777778,
             "#fb9f3a"
            ],
            [
             0.8888888888888888,
             "#fdca26"
            ],
            [
             1,
             "#f0f921"
            ]
           ]
          },
          "colorway": [
           "#636efa",
           "#EF553B",
           "#00cc96",
           "#ab63fa",
           "#FFA15A",
           "#19d3f3",
           "#FF6692",
           "#B6E880",
           "#FF97FF",
           "#FECB52"
          ],
          "font": {
           "color": "#2a3f5f"
          },
          "geo": {
           "bgcolor": "white",
           "lakecolor": "white",
           "landcolor": "#E5ECF6",
           "showlakes": true,
           "showland": true,
           "subunitcolor": "white"
          },
          "hoverlabel": {
           "align": "left"
          },
          "hovermode": "closest",
          "mapbox": {
           "style": "light"
          },
          "paper_bgcolor": "white",
          "plot_bgcolor": "#E5ECF6",
          "polar": {
           "angularaxis": {
            "gridcolor": "white",
            "linecolor": "white",
            "ticks": ""
           },
           "bgcolor": "#E5ECF6",
           "radialaxis": {
            "gridcolor": "white",
            "linecolor": "white",
            "ticks": ""
           }
          },
          "scene": {
           "xaxis": {
            "backgroundcolor": "#E5ECF6",
            "gridcolor": "white",
            "gridwidth": 2,
            "linecolor": "white",
            "showbackground": true,
            "ticks": "",
            "zerolinecolor": "white"
           },
           "yaxis": {
            "backgroundcolor": "#E5ECF6",
            "gridcolor": "white",
            "gridwidth": 2,
            "linecolor": "white",
            "showbackground": true,
            "ticks": "",
            "zerolinecolor": "white"
           },
           "zaxis": {
            "backgroundcolor": "#E5ECF6",
            "gridcolor": "white",
            "gridwidth": 2,
            "linecolor": "white",
            "showbackground": true,
            "ticks": "",
            "zerolinecolor": "white"
           }
          },
          "shapedefaults": {
           "line": {
            "color": "#2a3f5f"
           }
          },
          "ternary": {
           "aaxis": {
            "gridcolor": "white",
            "linecolor": "white",
            "ticks": ""
           },
           "baxis": {
            "gridcolor": "white",
            "linecolor": "white",
            "ticks": ""
           },
           "bgcolor": "#E5ECF6",
           "caxis": {
            "gridcolor": "white",
            "linecolor": "white",
            "ticks": ""
           }
          },
          "title": {
           "x": 0.05
          },
          "xaxis": {
           "automargin": true,
           "gridcolor": "white",
           "linecolor": "white",
           "ticks": "",
           "title": {
            "standoff": 15
           },
           "zerolinecolor": "white",
           "zerolinewidth": 2
          },
          "yaxis": {
           "automargin": true,
           "gridcolor": "white",
           "linecolor": "white",
           "ticks": "",
           "title": {
            "standoff": 15
           },
           "zerolinecolor": "white",
           "zerolinewidth": 2
          }
         }
        },
        "title": {
         "text": "MNAR - 0.3"
        },
        "xaxis": {
         "nticks": 36
        }
       }
      }
     },
     "metadata": {},
     "output_type": "display_data"
    },
    {
     "data": {
      "application/vnd.plotly.v1+json": {
       "config": {
        "plotlyServerURL": "https://plot.ly"
       },
       "data": [
        {
         "autocolorscale": false,
         "colorscale": [
          [
           0,
           "rgb(255,245,240)"
          ],
          [
           0.125,
           "rgb(254,224,210)"
          ],
          [
           0.25,
           "rgb(252,187,161)"
          ],
          [
           0.375,
           "rgb(252,146,114)"
          ],
          [
           0.5,
           "rgb(251,106,74)"
          ],
          [
           0.625,
           "rgb(239,59,44)"
          ],
          [
           0.75,
           "rgb(203,24,29)"
          ],
          [
           0.875,
           "rgb(165,15,21)"
          ],
          [
           1,
           "rgb(103,0,13)"
          ]
         ],
         "type": "heatmap",
         "x": [
          "737",
          "737",
          "737",
          "737",
          "40677",
          "40677",
          "40497",
          "40497",
          "871",
          "871",
          "871",
          "871",
          "728",
          "728",
          "728",
          "728",
          "183",
          "183",
          "42636",
          "42636",
          "1558",
          "1558",
          "1558",
          "1558",
          "40983",
          "40983",
          "40983",
          "40983",
          "40498",
          "40498",
          "40701",
          "40701",
          "40701",
          "40701",
          "41146",
          "41146",
          "41146",
          "41146",
          "42192",
          "42192",
          "42192",
          "42192",
          "1489",
          "1489",
          "1489",
          "1489",
          "1526",
          "1526",
          "30",
          "30",
          "4552",
          "4552",
          "42545",
          "42545",
          "287",
          "287",
          "847",
          "847",
          "847",
          "847",
          "803",
          "803",
          "803",
          "803",
          "1496",
          "1496",
          "1507",
          "1496",
          "1507",
          "1507",
          "1507",
          "1496",
          "197",
          "197",
          "725",
          "725",
          "725",
          "725",
          "189",
          "189",
          "923",
          "923",
          "923",
          "923",
          "198",
          "198",
          "375",
          "375",
          "23515",
          "23515",
          "1459",
          "1459",
          "42688",
          "42688",
          "42183",
          "42183",
          "32",
          "32",
          "310",
          "310",
          "310",
          "310",
          "26",
          "26",
          "1471",
          "1471",
          "1471",
          "1046",
          "1046",
          "1046",
          "1046",
          "216",
          "216",
          "42712",
          "42712",
          "1199",
          "1199",
          "1120",
          "1120",
          "1120",
          "41671",
          "41671",
          "6",
          "6",
          "823",
          "823",
          "823",
          "218",
          "218",
          "42493",
          "42493",
          "42493",
          "184",
          "184",
          "1481",
          "1481",
          "42477",
          "42477",
          "1193",
          "1193",
          "4135",
          "4135",
          "251",
          "137",
          "137",
          "251",
          "1220",
          "1220",
          "881",
          "215",
          "215",
          "901",
          "881",
          "901",
          "41027",
          "41027",
          "151",
          "151",
          "42225",
          "42225",
          "40685",
          "40685",
          "1200",
          "1200",
          "1213",
          "1213",
          "40922",
          "40922",
          "23395",
          "23395",
          "23517",
          "23517"
         ],
         "y": [
          "Mean/Mode",
          "KNN",
          "Random Forest",
          "VAE",
          "KNN",
          "Mean/Mode",
          "KNN",
          "Mean/Mode",
          "Mean/Mode",
          "VAE",
          "KNN",
          "Random Forest",
          "KNN",
          "Random Forest",
          "VAE",
          "Mean/Mode",
          "KNN",
          "Mean/Mode",
          "KNN",
          "Mean/Mode",
          "Random Forest",
          "Mean/Mode",
          "VAE",
          "KNN",
          "KNN",
          "VAE",
          "Mean/Mode",
          "Random Forest",
          "KNN",
          "Mean/Mode",
          "VAE",
          "Mean/Mode",
          "Random Forest",
          "KNN",
          "KNN",
          "Random Forest",
          "VAE",
          "Mean/Mode",
          "VAE",
          "Mean/Mode",
          "Random Forest",
          "KNN",
          "KNN",
          "VAE",
          "Random Forest",
          "Mean/Mode",
          "KNN",
          "Mean/Mode",
          "Mean/Mode",
          "KNN",
          "Mean/Mode",
          "KNN",
          "Mean/Mode",
          "KNN",
          "Mean/Mode",
          "KNN",
          "Random Forest",
          "KNN",
          "VAE",
          "Mean/Mode",
          "Mean/Mode",
          "VAE",
          "KNN",
          "Random Forest",
          "KNN",
          "Mean/Mode",
          "KNN",
          "VAE",
          "Mean/Mode",
          "VAE",
          "Random Forest",
          "Random Forest",
          "Mean/Mode",
          "KNN",
          "VAE",
          "Random Forest",
          "KNN",
          "Mean/Mode",
          "KNN",
          "Mean/Mode",
          "VAE",
          "KNN",
          "Mean/Mode",
          "Random Forest",
          "KNN",
          "Mean/Mode",
          "KNN",
          "Mean/Mode",
          "Mean/Mode",
          "KNN",
          "KNN",
          "Mean/Mode",
          "Mean/Mode",
          "KNN",
          "Mean/Mode",
          "KNN",
          "KNN",
          "Mean/Mode",
          "Random Forest",
          "VAE",
          "Mean/Mode",
          "KNN",
          "Mean/Mode",
          "KNN",
          "Random Forest",
          "KNN",
          "Mean/Mode",
          "KNN",
          "Mean/Mode",
          "Random Forest",
          "VAE",
          "Mean/Mode",
          "KNN",
          "Mean/Mode",
          "KNN",
          "KNN",
          "Mean/Mode",
          "Mean/Mode",
          "KNN",
          "Random Forest",
          "Mean/Mode",
          "KNN",
          "Mean/Mode",
          "KNN",
          "Random Forest",
          "Mean/Mode",
          "KNN",
          "Mean/Mode",
          "KNN",
          "Random Forest",
          "Mean/Mode",
          "KNN",
          "Mean/Mode",
          "KNN",
          "KNN",
          "Mean/Mode",
          "Mean/Mode",
          "KNN",
          "KNN",
          "Mean/Mode",
          "KNN",
          "Mean/Mode",
          "KNN",
          "KNN",
          "Mean/Mode",
          "Mean/Mode",
          "Mean/Mode",
          "KNN",
          "Mean/Mode",
          "KNN",
          "Mean/Mode",
          "Mean/Mode",
          "KNN",
          "KNN",
          "KNN",
          "Mean/Mode",
          "Mean/Mode",
          "KNN",
          "KNN",
          "Mean/Mode",
          "Mean/Mode",
          "KNN",
          "Mean/Mode",
          "KNN",
          "KNN",
          "Mean/Mode",
          "KNN",
          "Mean/Mode",
          "Mean/Mode",
          "KNN",
          "KNN",
          "Mean/Mode"
         ],
         "z": [
          0.8278136100568401,
          0.8278136100568401,
          0.8278136100568401,
          0.8278136100568401,
          0.7537138211286069,
          0.7537138211286069,
          0.6989153675148323,
          0.7593078027860637,
          0.512487182486976,
          0.512487182486976,
          0.513630363206711,
          0.513630363206711,
          0.9891594931294444,
          0.9891594931294444,
          0.9891594931294444,
          0.9891594931294444,
          0.1007948204796585,
          0.1001933473353255,
          0.3322796446736756,
          0.3323375707789415,
          0.6317449796753936,
          0.6317449796753936,
          0.6317449796753936,
          0.6317449796753936,
          0.667808602048793,
          0.6672553784152195,
          0.667808602048793,
          0.667808602048793,
          0.1740269635639018,
          0.1744022228748873,
          0.6563899868247693,
          0.6563899868247693,
          0.6563899868247693,
          0.6563899868247693,
          0.9135518497220624,
          0.9135518497220624,
          0.9135518497220624,
          0.9135518497220624,
          0.6644060422917583,
          0.6636787353597335,
          0.6651328945580213,
          0.6651328945580213,
          0.6963989503155196,
          0.6966818891700025,
          0.6966818891700025,
          0.6966818891700025,
          0.8964262251781041,
          0.8975618095085031,
          0.6974384245173985,
          0.6808624480020361,
          0.4225264691881841,
          0.4296799302694521,
          20.76707836312329,
          20.76707753824688,
          0.7463972820691968,
          0.7463923841059797,
          0.8406385013113177,
          0.8406385013113177,
          0.8406385013113177,
          0.8406385013113177,
          0.9423495236386082,
          0.942113781469513,
          0.9418835631051986,
          0.9423495236386082,
          0.7721415778228882,
          0.7723727286709292,
          0.9810611600222292,
          0.7723727286709292,
          0.9810611600222292,
          0.9810611600222292,
          0.9810611600222292,
          0.7723727286709292,
          9.193412356922884,
          9.193406121006044,
          0.930702416023045,
          0.930702416023045,
          0.930702416023045,
          0.9298698691784674,
          0.205047277037723,
          0.2050482538464667,
          0.9929893847364024,
          0.9929893847364024,
          0.9929893847364024,
          0.9929893847364024,
          0.0014192166368504,
          0.0014192284192908,
          0.9180045206808368,
          0.9177133163541388,
          0.0468705220353062,
          0.0468705225252847,
          0.2899728263795886,
          0.2918608752427385,
          6500.916475282553,
          6500.9164751288745,
          4.530627285721468,
          4.530629921208658,
          0.9320093851599888,
          0.9309305664974702,
          0.7898098052587711,
          0.78014742014742,
          0.78014742014742,
          0.7898098052587711,
          0.5567671915139761,
          0.5567671915139761,
          0.5515889578625556,
          0.5515889578625556,
          0.5515889578625556,
          0.7910531156720516,
          0.7910531156720516,
          0.7910531156720516,
          0.790904531615149,
          0.0028356064314222,
          0.0028356645796818,
          149.53627016402848,
          149.51916571120418,
          11.94846765200054,
          11.948477667904058,
          0.7606412742786901,
          0.7606412742786901,
          0.7606412742786901,
          0.2406194774852596,
          0.2406194774852596,
          0.7256613979222889,
          0.7261210145212299,
          0.9661408746313483,
          0.9661408746313483,
          0.9661408746313483,
          72725.05411671719,
          72725.0541176552,
          0.627487208179315,
          0.6275647325178465,
          0.627487208179315,
          0.3009209888634342,
          0.3001885893781608,
          0.2066294035774994,
          0.1800115980199746,
          0.6282612757613111,
          0.6282612757613111,
          949.2896875446884,
          949.2896875446884,
          0.6810918462475858,
          0.6814840035451183,
          0.9773165779461688,
          0.674685434404768,
          0.674685434404768,
          0.9773165779461688,
          0.4655750753311728,
          0.4655750753311728,
          0.9903253055588184,
          2.3784955659192657,
          2.3784953619703706,
          0.8391382512202679,
          0.9903253055588184,
          0.8391382512202679,
          0.474722095838102,
          0.474722095838102,
          0.7498203876152564,
          0.7471181705232243,
          4702.286229988564,
          4702.286468900534,
          0.3826628317704124,
          0.3855875223617341,
          4.550350723026352,
          4.550201856275883,
          6.350087861090194,
          6.350095448192074,
          0.7575427283696131,
          0.7575427283696131,
          0.15141157715034,
          0.1514115773174291,
          0.5208465084233364,
          0.5208199605110604
         ],
         "zmin": 0
        }
       ],
       "layout": {
        "template": {
         "data": {
          "bar": [
           {
            "error_x": {
             "color": "#2a3f5f"
            },
            "error_y": {
             "color": "#2a3f5f"
            },
            "marker": {
             "line": {
              "color": "#E5ECF6",
              "width": 0.5
             },
             "pattern": {
              "fillmode": "overlay",
              "size": 10,
              "solidity": 0.2
             }
            },
            "type": "bar"
           }
          ],
          "barpolar": [
           {
            "marker": {
             "line": {
              "color": "#E5ECF6",
              "width": 0.5
             },
             "pattern": {
              "fillmode": "overlay",
              "size": 10,
              "solidity": 0.2
             }
            },
            "type": "barpolar"
           }
          ],
          "carpet": [
           {
            "aaxis": {
             "endlinecolor": "#2a3f5f",
             "gridcolor": "white",
             "linecolor": "white",
             "minorgridcolor": "white",
             "startlinecolor": "#2a3f5f"
            },
            "baxis": {
             "endlinecolor": "#2a3f5f",
             "gridcolor": "white",
             "linecolor": "white",
             "minorgridcolor": "white",
             "startlinecolor": "#2a3f5f"
            },
            "type": "carpet"
           }
          ],
          "choropleth": [
           {
            "colorbar": {
             "outlinewidth": 0,
             "ticks": ""
            },
            "type": "choropleth"
           }
          ],
          "contour": [
           {
            "colorbar": {
             "outlinewidth": 0,
             "ticks": ""
            },
            "colorscale": [
             [
              0,
              "#0d0887"
             ],
             [
              0.1111111111111111,
              "#46039f"
             ],
             [
              0.2222222222222222,
              "#7201a8"
             ],
             [
              0.3333333333333333,
              "#9c179e"
             ],
             [
              0.4444444444444444,
              "#bd3786"
             ],
             [
              0.5555555555555556,
              "#d8576b"
             ],
             [
              0.6666666666666666,
              "#ed7953"
             ],
             [
              0.7777777777777778,
              "#fb9f3a"
             ],
             [
              0.8888888888888888,
              "#fdca26"
             ],
             [
              1,
              "#f0f921"
             ]
            ],
            "type": "contour"
           }
          ],
          "contourcarpet": [
           {
            "colorbar": {
             "outlinewidth": 0,
             "ticks": ""
            },
            "type": "contourcarpet"
           }
          ],
          "heatmap": [
           {
            "colorbar": {
             "outlinewidth": 0,
             "ticks": ""
            },
            "colorscale": [
             [
              0,
              "#0d0887"
             ],
             [
              0.1111111111111111,
              "#46039f"
             ],
             [
              0.2222222222222222,
              "#7201a8"
             ],
             [
              0.3333333333333333,
              "#9c179e"
             ],
             [
              0.4444444444444444,
              "#bd3786"
             ],
             [
              0.5555555555555556,
              "#d8576b"
             ],
             [
              0.6666666666666666,
              "#ed7953"
             ],
             [
              0.7777777777777778,
              "#fb9f3a"
             ],
             [
              0.8888888888888888,
              "#fdca26"
             ],
             [
              1,
              "#f0f921"
             ]
            ],
            "type": "heatmap"
           }
          ],
          "heatmapgl": [
           {
            "colorbar": {
             "outlinewidth": 0,
             "ticks": ""
            },
            "colorscale": [
             [
              0,
              "#0d0887"
             ],
             [
              0.1111111111111111,
              "#46039f"
             ],
             [
              0.2222222222222222,
              "#7201a8"
             ],
             [
              0.3333333333333333,
              "#9c179e"
             ],
             [
              0.4444444444444444,
              "#bd3786"
             ],
             [
              0.5555555555555556,
              "#d8576b"
             ],
             [
              0.6666666666666666,
              "#ed7953"
             ],
             [
              0.7777777777777778,
              "#fb9f3a"
             ],
             [
              0.8888888888888888,
              "#fdca26"
             ],
             [
              1,
              "#f0f921"
             ]
            ],
            "type": "heatmapgl"
           }
          ],
          "histogram": [
           {
            "marker": {
             "pattern": {
              "fillmode": "overlay",
              "size": 10,
              "solidity": 0.2
             }
            },
            "type": "histogram"
           }
          ],
          "histogram2d": [
           {
            "colorbar": {
             "outlinewidth": 0,
             "ticks": ""
            },
            "colorscale": [
             [
              0,
              "#0d0887"
             ],
             [
              0.1111111111111111,
              "#46039f"
             ],
             [
              0.2222222222222222,
              "#7201a8"
             ],
             [
              0.3333333333333333,
              "#9c179e"
             ],
             [
              0.4444444444444444,
              "#bd3786"
             ],
             [
              0.5555555555555556,
              "#d8576b"
             ],
             [
              0.6666666666666666,
              "#ed7953"
             ],
             [
              0.7777777777777778,
              "#fb9f3a"
             ],
             [
              0.8888888888888888,
              "#fdca26"
             ],
             [
              1,
              "#f0f921"
             ]
            ],
            "type": "histogram2d"
           }
          ],
          "histogram2dcontour": [
           {
            "colorbar": {
             "outlinewidth": 0,
             "ticks": ""
            },
            "colorscale": [
             [
              0,
              "#0d0887"
             ],
             [
              0.1111111111111111,
              "#46039f"
             ],
             [
              0.2222222222222222,
              "#7201a8"
             ],
             [
              0.3333333333333333,
              "#9c179e"
             ],
             [
              0.4444444444444444,
              "#bd3786"
             ],
             [
              0.5555555555555556,
              "#d8576b"
             ],
             [
              0.6666666666666666,
              "#ed7953"
             ],
             [
              0.7777777777777778,
              "#fb9f3a"
             ],
             [
              0.8888888888888888,
              "#fdca26"
             ],
             [
              1,
              "#f0f921"
             ]
            ],
            "type": "histogram2dcontour"
           }
          ],
          "mesh3d": [
           {
            "colorbar": {
             "outlinewidth": 0,
             "ticks": ""
            },
            "type": "mesh3d"
           }
          ],
          "parcoords": [
           {
            "line": {
             "colorbar": {
              "outlinewidth": 0,
              "ticks": ""
             }
            },
            "type": "parcoords"
           }
          ],
          "pie": [
           {
            "automargin": true,
            "type": "pie"
           }
          ],
          "scatter": [
           {
            "fillpattern": {
             "fillmode": "overlay",
             "size": 10,
             "solidity": 0.2
            },
            "type": "scatter"
           }
          ],
          "scatter3d": [
           {
            "line": {
             "colorbar": {
              "outlinewidth": 0,
              "ticks": ""
             }
            },
            "marker": {
             "colorbar": {
              "outlinewidth": 0,
              "ticks": ""
             }
            },
            "type": "scatter3d"
           }
          ],
          "scattercarpet": [
           {
            "marker": {
             "colorbar": {
              "outlinewidth": 0,
              "ticks": ""
             }
            },
            "type": "scattercarpet"
           }
          ],
          "scattergeo": [
           {
            "marker": {
             "colorbar": {
              "outlinewidth": 0,
              "ticks": ""
             }
            },
            "type": "scattergeo"
           }
          ],
          "scattergl": [
           {
            "marker": {
             "colorbar": {
              "outlinewidth": 0,
              "ticks": ""
             }
            },
            "type": "scattergl"
           }
          ],
          "scattermapbox": [
           {
            "marker": {
             "colorbar": {
              "outlinewidth": 0,
              "ticks": ""
             }
            },
            "type": "scattermapbox"
           }
          ],
          "scatterpolar": [
           {
            "marker": {
             "colorbar": {
              "outlinewidth": 0,
              "ticks": ""
             }
            },
            "type": "scatterpolar"
           }
          ],
          "scatterpolargl": [
           {
            "marker": {
             "colorbar": {
              "outlinewidth": 0,
              "ticks": ""
             }
            },
            "type": "scatterpolargl"
           }
          ],
          "scatterternary": [
           {
            "marker": {
             "colorbar": {
              "outlinewidth": 0,
              "ticks": ""
             }
            },
            "type": "scatterternary"
           }
          ],
          "surface": [
           {
            "colorbar": {
             "outlinewidth": 0,
             "ticks": ""
            },
            "colorscale": [
             [
              0,
              "#0d0887"
             ],
             [
              0.1111111111111111,
              "#46039f"
             ],
             [
              0.2222222222222222,
              "#7201a8"
             ],
             [
              0.3333333333333333,
              "#9c179e"
             ],
             [
              0.4444444444444444,
              "#bd3786"
             ],
             [
              0.5555555555555556,
              "#d8576b"
             ],
             [
              0.6666666666666666,
              "#ed7953"
             ],
             [
              0.7777777777777778,
              "#fb9f3a"
             ],
             [
              0.8888888888888888,
              "#fdca26"
             ],
             [
              1,
              "#f0f921"
             ]
            ],
            "type": "surface"
           }
          ],
          "table": [
           {
            "cells": {
             "fill": {
              "color": "#EBF0F8"
             },
             "line": {
              "color": "white"
             }
            },
            "header": {
             "fill": {
              "color": "#C8D4E3"
             },
             "line": {
              "color": "white"
             }
            },
            "type": "table"
           }
          ]
         },
         "layout": {
          "annotationdefaults": {
           "arrowcolor": "#2a3f5f",
           "arrowhead": 0,
           "arrowwidth": 1
          },
          "autotypenumbers": "strict",
          "coloraxis": {
           "colorbar": {
            "outlinewidth": 0,
            "ticks": ""
           }
          },
          "colorscale": {
           "diverging": [
            [
             0,
             "#8e0152"
            ],
            [
             0.1,
             "#c51b7d"
            ],
            [
             0.2,
             "#de77ae"
            ],
            [
             0.3,
             "#f1b6da"
            ],
            [
             0.4,
             "#fde0ef"
            ],
            [
             0.5,
             "#f7f7f7"
            ],
            [
             0.6,
             "#e6f5d0"
            ],
            [
             0.7,
             "#b8e186"
            ],
            [
             0.8,
             "#7fbc41"
            ],
            [
             0.9,
             "#4d9221"
            ],
            [
             1,
             "#276419"
            ]
           ],
           "sequential": [
            [
             0,
             "#0d0887"
            ],
            [
             0.1111111111111111,
             "#46039f"
            ],
            [
             0.2222222222222222,
             "#7201a8"
            ],
            [
             0.3333333333333333,
             "#9c179e"
            ],
            [
             0.4444444444444444,
             "#bd3786"
            ],
            [
             0.5555555555555556,
             "#d8576b"
            ],
            [
             0.6666666666666666,
             "#ed7953"
            ],
            [
             0.7777777777777778,
             "#fb9f3a"
            ],
            [
             0.8888888888888888,
             "#fdca26"
            ],
            [
             1,
             "#f0f921"
            ]
           ],
           "sequentialminus": [
            [
             0,
             "#0d0887"
            ],
            [
             0.1111111111111111,
             "#46039f"
            ],
            [
             0.2222222222222222,
             "#7201a8"
            ],
            [
             0.3333333333333333,
             "#9c179e"
            ],
            [
             0.4444444444444444,
             "#bd3786"
            ],
            [
             0.5555555555555556,
             "#d8576b"
            ],
            [
             0.6666666666666666,
             "#ed7953"
            ],
            [
             0.7777777777777778,
             "#fb9f3a"
            ],
            [
             0.8888888888888888,
             "#fdca26"
            ],
            [
             1,
             "#f0f921"
            ]
           ]
          },
          "colorway": [
           "#636efa",
           "#EF553B",
           "#00cc96",
           "#ab63fa",
           "#FFA15A",
           "#19d3f3",
           "#FF6692",
           "#B6E880",
           "#FF97FF",
           "#FECB52"
          ],
          "font": {
           "color": "#2a3f5f"
          },
          "geo": {
           "bgcolor": "white",
           "lakecolor": "white",
           "landcolor": "#E5ECF6",
           "showlakes": true,
           "showland": true,
           "subunitcolor": "white"
          },
          "hoverlabel": {
           "align": "left"
          },
          "hovermode": "closest",
          "mapbox": {
           "style": "light"
          },
          "paper_bgcolor": "white",
          "plot_bgcolor": "#E5ECF6",
          "polar": {
           "angularaxis": {
            "gridcolor": "white",
            "linecolor": "white",
            "ticks": ""
           },
           "bgcolor": "#E5ECF6",
           "radialaxis": {
            "gridcolor": "white",
            "linecolor": "white",
            "ticks": ""
           }
          },
          "scene": {
           "xaxis": {
            "backgroundcolor": "#E5ECF6",
            "gridcolor": "white",
            "gridwidth": 2,
            "linecolor": "white",
            "showbackground": true,
            "ticks": "",
            "zerolinecolor": "white"
           },
           "yaxis": {
            "backgroundcolor": "#E5ECF6",
            "gridcolor": "white",
            "gridwidth": 2,
            "linecolor": "white",
            "showbackground": true,
            "ticks": "",
            "zerolinecolor": "white"
           },
           "zaxis": {
            "backgroundcolor": "#E5ECF6",
            "gridcolor": "white",
            "gridwidth": 2,
            "linecolor": "white",
            "showbackground": true,
            "ticks": "",
            "zerolinecolor": "white"
           }
          },
          "shapedefaults": {
           "line": {
            "color": "#2a3f5f"
           }
          },
          "ternary": {
           "aaxis": {
            "gridcolor": "white",
            "linecolor": "white",
            "ticks": ""
           },
           "baxis": {
            "gridcolor": "white",
            "linecolor": "white",
            "ticks": ""
           },
           "bgcolor": "#E5ECF6",
           "caxis": {
            "gridcolor": "white",
            "linecolor": "white",
            "ticks": ""
           }
          },
          "title": {
           "x": 0.05
          },
          "xaxis": {
           "automargin": true,
           "gridcolor": "white",
           "linecolor": "white",
           "ticks": "",
           "title": {
            "standoff": 15
           },
           "zerolinecolor": "white",
           "zerolinewidth": 2
          },
          "yaxis": {
           "automargin": true,
           "gridcolor": "white",
           "linecolor": "white",
           "ticks": "",
           "title": {
            "standoff": 15
           },
           "zerolinecolor": "white",
           "zerolinewidth": 2
          }
         }
        },
        "title": {
         "text": "MNAR - 0.5"
        },
        "xaxis": {
         "nticks": 36
        }
       }
      }
     },
     "metadata": {},
     "output_type": "display_data"
    }
   ],
   "source": [
    "# Heatmap for total RMSE score for each data constellation for each method\n",
    "\n",
    "df_heat = df_heat.astype({\"Task\":\"string\"})\n",
    "\n",
    "data_constellations = ['MAR - 0.01', 'MAR - 0.1', 'MAR - 0.3', 'MCAR - 0.5', 'MCAR - 0.01', 'MCAR - 0.1', 'MCAR - 0.3', 'MCAR - 0.5', 'MNAR - 0.01', 'MNAR - 0.1', 'MNAR - 0.3', 'MNAR - 0.5']\n",
    "\n",
    "\n",
    "for i in data_constellations:\n",
    "    data_constel = df_heat.loc[df_heat['Data_Constellation'] == i]\n",
    "\n",
    "    ### uncomment whatever you want to investigate\n",
    "\n",
    "    ## sort by amount datapoints (ascending)\n",
    "    data_constel = data_constel.sort_values(by=['NumberOfInstances'])\n",
    "\n",
    "    ## sort by amount of features (ascending)\n",
    "    #data_constel = data_constel.sort_values(by=['NumberOfFeatures'])\n",
    "\n",
    "    ## sort by amount of datapoints and features (ascending)\n",
    "    #data_constel = data_constel.sort_values(by=['NumberOfInstances', 'NumberOfFeatures'])\n",
    "\n",
    "    ## sort by amount of categorical features and datapoints (ascending)\n",
    "    #data_constel = data_constel.sort_values(by=['NumberOfCategoricalFeatures', 'NumberOfInstances'])\n",
    "\n",
    "    ## sort by amount of numerical features and datapoints (ascending)\n",
    "    #data_constel = data_constel.sort_values(by=['NumberOfNumericFeatures', 'NumberOfInstances'])\n",
    "    \n",
    "    Dataset_number = data_constel[\"Task\"]\n",
    "    Imputation_Method = data_constel[\"Imputation_Method\"]\n",
    "    Improvement = data_constel[\"Imputed\"]\n",
    "    \n",
    "\n",
    "    trace = go.Heatmap(\n",
    "                   z=Improvement,\n",
    "                   x=Dataset_number,\n",
    "                   y=Imputation_Method,\n",
    "                   type = 'heatmap',\n",
    "                    autocolorscale= False,\n",
    "                    colorscale = 'Reds',\n",
    "                    zmin=0,\n",
    "                    )\n",
    "    data = [trace]\n",
    "    fig = go.Figure(data=data)\n",
    "    fig.update_layout(\n",
    "        title=i,\n",
    "        xaxis_nticks=36)\n",
    "    fig.show()"
   ]
  },
  {
   "cell_type": "code",
   "execution_count": null,
   "id": "32317114",
   "metadata": {},
   "outputs": [],
   "source": [
    "\n",
    "df_heat_dif = downstream_results_rank_heatmap2.copy()\n",
    "#df_heat_dif"
   ]
  },
  {
   "cell_type": "code",
   "execution_count": null,
   "id": "d059f920",
   "metadata": {},
   "outputs": [
    {
     "name": "stdout",
     "output_type": "stream",
     "text": [
      "Imputation Method not here ---------------------\n"
     ]
    },
    {
     "ename": "IndexError",
     "evalue": "single positional indexer is out-of-bounds",
     "output_type": "error",
     "traceback": [
      "\u001b[0;31m---------------------------------------------------------------------------\u001b[0m",
      "\u001b[0;31mIndexError\u001b[0m                                Traceback (most recent call last)",
      "\u001b[0;32m/tmp/ipykernel_1626386/248245157.py\u001b[0m in \u001b[0;36m<module>\u001b[0;34m\u001b[0m\n\u001b[1;32m     22\u001b[0m             \u001b[0mcurrent_score_row\u001b[0m \u001b[0;34m=\u001b[0m \u001b[0mdata_constel\u001b[0m\u001b[0;34m.\u001b[0m\u001b[0mloc\u001b[0m\u001b[0;34m[\u001b[0m\u001b[0mdata\u001b[0m\u001b[0;34m[\u001b[0m\u001b[0;34m'Imputation_Method'\u001b[0m\u001b[0;34m]\u001b[0m \u001b[0;34m==\u001b[0m \u001b[0mi\u001b[0m\u001b[0;34m]\u001b[0m\u001b[0;34m\u001b[0m\u001b[0;34m\u001b[0m\u001b[0m\n\u001b[1;32m     23\u001b[0m             \u001b[0mcurrent_score_int\u001b[0m \u001b[0;34m=\u001b[0m \u001b[0mcurrent_score_row\u001b[0m\u001b[0;34m.\u001b[0m\u001b[0miloc\u001b[0m\u001b[0;34m[\u001b[0m\u001b[0;36m0\u001b[0m\u001b[0;34m]\u001b[0m\u001b[0;34m[\u001b[0m\u001b[0;34m'Imputed'\u001b[0m\u001b[0;34m]\u001b[0m\u001b[0;34m\u001b[0m\u001b[0;34m\u001b[0m\u001b[0m\n\u001b[0;32m---> 24\u001b[0;31m             \u001b[0maverage_best_int\u001b[0m \u001b[0;34m=\u001b[0m \u001b[0maverage_best\u001b[0m\u001b[0;34m.\u001b[0m\u001b[0miloc\u001b[0m\u001b[0;34m[\u001b[0m\u001b[0;36m0\u001b[0m\u001b[0;34m]\u001b[0m\u001b[0;34m[\u001b[0m\u001b[0;34m'Imputed'\u001b[0m\u001b[0;34m]\u001b[0m\u001b[0;34m\u001b[0m\u001b[0;34m\u001b[0m\u001b[0m\n\u001b[0m\u001b[1;32m     25\u001b[0m             \u001b[0mcalc_result\u001b[0m \u001b[0;34m=\u001b[0m \u001b[0;34m(\u001b[0m\u001b[0;34m(\u001b[0m\u001b[0maverage_best_int\u001b[0m \u001b[0;34m-\u001b[0m \u001b[0mcurrent_score_int\u001b[0m\u001b[0;34m)\u001b[0m\u001b[0;34m/\u001b[0m\u001b[0mcurrent_score_int\u001b[0m\u001b[0;34m)\u001b[0m\u001b[0;34m\u001b[0m\u001b[0;34m\u001b[0m\u001b[0m\n\u001b[1;32m     26\u001b[0m \u001b[0;34m\u001b[0m\u001b[0m\n",
      "\u001b[0;32m/opt/anaconda/lib/python3.9/site-packages/pandas/core/indexing.py\u001b[0m in \u001b[0;36m__getitem__\u001b[0;34m(self, key)\u001b[0m\n\u001b[1;32m    965\u001b[0m \u001b[0;34m\u001b[0m\u001b[0m\n\u001b[1;32m    966\u001b[0m             \u001b[0mmaybe_callable\u001b[0m \u001b[0;34m=\u001b[0m \u001b[0mcom\u001b[0m\u001b[0;34m.\u001b[0m\u001b[0mapply_if_callable\u001b[0m\u001b[0;34m(\u001b[0m\u001b[0mkey\u001b[0m\u001b[0;34m,\u001b[0m \u001b[0mself\u001b[0m\u001b[0;34m.\u001b[0m\u001b[0mobj\u001b[0m\u001b[0;34m)\u001b[0m\u001b[0;34m\u001b[0m\u001b[0;34m\u001b[0m\u001b[0m\n\u001b[0;32m--> 967\u001b[0;31m             \u001b[0;32mreturn\u001b[0m \u001b[0mself\u001b[0m\u001b[0;34m.\u001b[0m\u001b[0m_getitem_axis\u001b[0m\u001b[0;34m(\u001b[0m\u001b[0mmaybe_callable\u001b[0m\u001b[0;34m,\u001b[0m \u001b[0maxis\u001b[0m\u001b[0;34m=\u001b[0m\u001b[0maxis\u001b[0m\u001b[0;34m)\u001b[0m\u001b[0;34m\u001b[0m\u001b[0;34m\u001b[0m\u001b[0m\n\u001b[0m\u001b[1;32m    968\u001b[0m \u001b[0;34m\u001b[0m\u001b[0m\n\u001b[1;32m    969\u001b[0m     \u001b[0;32mdef\u001b[0m \u001b[0m_is_scalar_access\u001b[0m\u001b[0;34m(\u001b[0m\u001b[0mself\u001b[0m\u001b[0;34m,\u001b[0m \u001b[0mkey\u001b[0m\u001b[0;34m:\u001b[0m \u001b[0mtuple\u001b[0m\u001b[0;34m)\u001b[0m\u001b[0;34m:\u001b[0m\u001b[0;34m\u001b[0m\u001b[0;34m\u001b[0m\u001b[0m\n",
      "\u001b[0;32m/opt/anaconda/lib/python3.9/site-packages/pandas/core/indexing.py\u001b[0m in \u001b[0;36m_getitem_axis\u001b[0;34m(self, key, axis)\u001b[0m\n\u001b[1;32m   1521\u001b[0m \u001b[0;34m\u001b[0m\u001b[0m\n\u001b[1;32m   1522\u001b[0m             \u001b[0;31m# validate the location\u001b[0m\u001b[0;34m\u001b[0m\u001b[0;34m\u001b[0m\u001b[0m\n\u001b[0;32m-> 1523\u001b[0;31m             \u001b[0mself\u001b[0m\u001b[0;34m.\u001b[0m\u001b[0m_validate_integer\u001b[0m\u001b[0;34m(\u001b[0m\u001b[0mkey\u001b[0m\u001b[0;34m,\u001b[0m \u001b[0maxis\u001b[0m\u001b[0;34m)\u001b[0m\u001b[0;34m\u001b[0m\u001b[0;34m\u001b[0m\u001b[0m\n\u001b[0m\u001b[1;32m   1524\u001b[0m \u001b[0;34m\u001b[0m\u001b[0m\n\u001b[1;32m   1525\u001b[0m             \u001b[0;32mreturn\u001b[0m \u001b[0mself\u001b[0m\u001b[0;34m.\u001b[0m\u001b[0mobj\u001b[0m\u001b[0;34m.\u001b[0m\u001b[0m_ixs\u001b[0m\u001b[0;34m(\u001b[0m\u001b[0mkey\u001b[0m\u001b[0;34m,\u001b[0m \u001b[0maxis\u001b[0m\u001b[0;34m=\u001b[0m\u001b[0maxis\u001b[0m\u001b[0;34m)\u001b[0m\u001b[0;34m\u001b[0m\u001b[0;34m\u001b[0m\u001b[0m\n",
      "\u001b[0;32m/opt/anaconda/lib/python3.9/site-packages/pandas/core/indexing.py\u001b[0m in \u001b[0;36m_validate_integer\u001b[0;34m(self, key, axis)\u001b[0m\n\u001b[1;32m   1453\u001b[0m         \u001b[0mlen_axis\u001b[0m \u001b[0;34m=\u001b[0m \u001b[0mlen\u001b[0m\u001b[0;34m(\u001b[0m\u001b[0mself\u001b[0m\u001b[0;34m.\u001b[0m\u001b[0mobj\u001b[0m\u001b[0;34m.\u001b[0m\u001b[0m_get_axis\u001b[0m\u001b[0;34m(\u001b[0m\u001b[0maxis\u001b[0m\u001b[0;34m)\u001b[0m\u001b[0;34m)\u001b[0m\u001b[0;34m\u001b[0m\u001b[0;34m\u001b[0m\u001b[0m\n\u001b[1;32m   1454\u001b[0m         \u001b[0;32mif\u001b[0m \u001b[0mkey\u001b[0m \u001b[0;34m>=\u001b[0m \u001b[0mlen_axis\u001b[0m \u001b[0;32mor\u001b[0m \u001b[0mkey\u001b[0m \u001b[0;34m<\u001b[0m \u001b[0;34m-\u001b[0m\u001b[0mlen_axis\u001b[0m\u001b[0;34m:\u001b[0m\u001b[0;34m\u001b[0m\u001b[0;34m\u001b[0m\u001b[0m\n\u001b[0;32m-> 1455\u001b[0;31m             \u001b[0;32mraise\u001b[0m \u001b[0mIndexError\u001b[0m\u001b[0;34m(\u001b[0m\u001b[0;34m\"single positional indexer is out-of-bounds\"\u001b[0m\u001b[0;34m)\u001b[0m\u001b[0;34m\u001b[0m\u001b[0;34m\u001b[0m\u001b[0m\n\u001b[0m\u001b[1;32m   1456\u001b[0m \u001b[0;34m\u001b[0m\u001b[0m\n\u001b[1;32m   1457\u001b[0m     \u001b[0;31m# -------------------------------------------------------------------\u001b[0m\u001b[0;34m\u001b[0m\u001b[0;34m\u001b[0m\u001b[0m\n",
      "\u001b[0;31mIndexError\u001b[0m: single positional indexer is out-of-bounds"
     ]
    }
   ],
   "source": [
    "# Calculate Difference for every Imputation towards average best Imputation Method per Data Constellation\n",
    "# Calculation for RMSE Differences in Percentage (RMSE alone not comparable over different datasets)\n",
    "\n",
    "data = downstream_results_rank.copy()\n",
    "data['Task'] = data['Task'].astype(str)\n",
    "data['Data_Constellation_full'] = data['Data_Constellation'] + ' - ' + data['Task']\n",
    "\n",
    "dc_unique = data.Data_Constellation_full.unique()\n",
    "#print(dc_unique)\n",
    "\n",
    "data_constellations = dc_unique.tolist()\n",
    "methods = ['Random Forest', 'KNN', 'Mean/Mode', 'VAE', 'GAIN', 'Discriminative DL']\n",
    "heatmap_data_difference = pd.DataFrame()\n",
    "\n",
    "\n",
    "for i in data_constellations:\n",
    "    data_constel = data.loc[data['Data_Constellation_full'] == i]\n",
    "    average_best = data_constel.loc[data_constel['Imputation_Method'] == AVERAGE_BEST_IMPUTATION_METHOD]\n",
    "    dataset_number = best_score.iloc[0]['Task']\n",
    "    for i in methods:\n",
    "        if ((data_constel['Imputation_Method'] == i).any()):\n",
    "            current_score_row = data_constel.loc[data['Imputation_Method'] == i]\n",
    "            current_score_int = current_score_row.iloc[0]['Imputed']\n",
    "            average_best_int = average_best.iloc[0]['Imputed']\n",
    "            calc_result = ((average_best_int - current_score_int)/current_score_int)\n",
    "\n",
    "            current_score_row['Performance Difference to Average Best in Percent'] = calc_result\n",
    "            heatmap_data_difference = heatmap_data_difference.append(current_score_row)  \n",
    "        else:\n",
    "            print(\"Imputation Method not here ---------------------\")\n",
    "\n",
    "heatmap_data_difference\n",
    "\n"
   ]
  },
  {
   "cell_type": "code",
   "execution_count": null,
   "id": "95179f29",
   "metadata": {
    "scrolled": true
   },
   "outputs": [
    {
     "ename": "KeyError",
     "evalue": "\"Only a column name can be used for the key in a dtype mappings argument. 'Task' not found in columns.\"",
     "output_type": "error",
     "traceback": [
      "\u001b[0;31m---------------------------------------------------------------------------\u001b[0m",
      "\u001b[0;31mKeyError\u001b[0m                                  Traceback (most recent call last)",
      "\u001b[0;32m/tmp/ipykernel_389841/3617192939.py\u001b[0m in \u001b[0;36m<module>\u001b[0;34m\u001b[0m\n\u001b[1;32m      1\u001b[0m \u001b[0;31m# Heatmap for RMSE differences in Percentage for each data constellation for each method relative to average best imputation method\u001b[0m\u001b[0;34m\u001b[0m\u001b[0;34m\u001b[0m\u001b[0m\n\u001b[1;32m      2\u001b[0m \u001b[0;34m\u001b[0m\u001b[0m\n\u001b[0;32m----> 3\u001b[0;31m \u001b[0mheatmap_data_difference\u001b[0m \u001b[0;34m=\u001b[0m \u001b[0mheatmap_data_difference\u001b[0m\u001b[0;34m.\u001b[0m\u001b[0mastype\u001b[0m\u001b[0;34m(\u001b[0m\u001b[0;34m{\u001b[0m\u001b[0;34m\"Task\"\u001b[0m\u001b[0;34m:\u001b[0m\u001b[0;34m\"string\"\u001b[0m\u001b[0;34m}\u001b[0m\u001b[0;34m)\u001b[0m\u001b[0;34m\u001b[0m\u001b[0;34m\u001b[0m\u001b[0m\n\u001b[0m\u001b[1;32m      4\u001b[0m \u001b[0mdata_constellations\u001b[0m \u001b[0;34m=\u001b[0m \u001b[0;34m[\u001b[0m\u001b[0;34m'MAR - 0.01'\u001b[0m\u001b[0;34m,\u001b[0m \u001b[0;34m'MAR - 0.1'\u001b[0m\u001b[0;34m,\u001b[0m \u001b[0;34m'MAR - 0.3'\u001b[0m\u001b[0;34m,\u001b[0m \u001b[0;34m'MAR - 0.5'\u001b[0m\u001b[0;34m,\u001b[0m \u001b[0;34m'MCAR - 0.01'\u001b[0m\u001b[0;34m,\u001b[0m \u001b[0;34m'MCAR - 0.1'\u001b[0m\u001b[0;34m,\u001b[0m \u001b[0;34m'MCAR - 0.3'\u001b[0m\u001b[0;34m,\u001b[0m \u001b[0;34m'MCAR - 0.5'\u001b[0m\u001b[0;34m,\u001b[0m \u001b[0;34m'MNAR - 0.01'\u001b[0m\u001b[0;34m,\u001b[0m \u001b[0;34m'MNAR - 0.1'\u001b[0m\u001b[0;34m,\u001b[0m \u001b[0;34m'MNAR - 0.3'\u001b[0m\u001b[0;34m,\u001b[0m \u001b[0;34m'MNAR - 0.5'\u001b[0m\u001b[0;34m]\u001b[0m\u001b[0;34m\u001b[0m\u001b[0;34m\u001b[0m\u001b[0m\n\u001b[1;32m      5\u001b[0m \u001b[0;32mfor\u001b[0m \u001b[0mi\u001b[0m \u001b[0;32min\u001b[0m \u001b[0mdata_constellations\u001b[0m\u001b[0;34m:\u001b[0m\u001b[0;34m\u001b[0m\u001b[0;34m\u001b[0m\u001b[0m\n",
      "\u001b[0;32m/opt/anaconda/lib/python3.9/site-packages/pandas/core/generic.py\u001b[0m in \u001b[0;36mastype\u001b[0;34m(self, dtype, copy, errors)\u001b[0m\n\u001b[1;32m   5877\u001b[0m             \u001b[0;32mfor\u001b[0m \u001b[0mcol_name\u001b[0m \u001b[0;32min\u001b[0m \u001b[0mdtype\u001b[0m\u001b[0;34m.\u001b[0m\u001b[0mkeys\u001b[0m\u001b[0;34m(\u001b[0m\u001b[0;34m)\u001b[0m\u001b[0;34m:\u001b[0m\u001b[0;34m\u001b[0m\u001b[0;34m\u001b[0m\u001b[0m\n\u001b[1;32m   5878\u001b[0m                 \u001b[0;32mif\u001b[0m \u001b[0mcol_name\u001b[0m \u001b[0;32mnot\u001b[0m \u001b[0;32min\u001b[0m \u001b[0mself\u001b[0m\u001b[0;34m:\u001b[0m\u001b[0;34m\u001b[0m\u001b[0;34m\u001b[0m\u001b[0m\n\u001b[0;32m-> 5879\u001b[0;31m                     raise KeyError(\n\u001b[0m\u001b[1;32m   5880\u001b[0m                         \u001b[0;34m\"Only a column name can be used for the \"\u001b[0m\u001b[0;34m\u001b[0m\u001b[0;34m\u001b[0m\u001b[0m\n\u001b[1;32m   5881\u001b[0m                         \u001b[0;34m\"key in a dtype mappings argument. \"\u001b[0m\u001b[0;34m\u001b[0m\u001b[0;34m\u001b[0m\u001b[0m\n",
      "\u001b[0;31mKeyError\u001b[0m: \"Only a column name can be used for the key in a dtype mappings argument. 'Task' not found in columns.\""
     ]
    }
   ],
   "source": [
    "# Heatmap for RMSE differences in Percentage for each data constellation for each method relative to average best imputation method\n",
    "\n",
    "heatmap_data_difference = heatmap_data_difference.astype({\"Task\":\"string\"})\n",
    "data_constellations = ['MAR - 0.01', 'MAR - 0.1', 'MAR - 0.3', 'MAR - 0.5', 'MCAR - 0.01', 'MCAR - 0.1', 'MCAR - 0.3', 'MCAR - 0.5', 'MNAR - 0.01', 'MNAR - 0.1', 'MNAR - 0.3', 'MNAR - 0.5']\n",
    "for i in data_constellations:\n",
    "    data_constel = heatmap_data_difference.loc[df_heat['Data_Constellation'] == i]\n",
    "\n",
    "    ### uncomment whatever you want to investigate\n",
    "\n",
    "    ## sort by amount datapoints (ascending)\n",
    "    data_constel = data_constel.sort_values(by=['NumberOfInstances'])\n",
    "\n",
    "    ## sort by amount of features (ascending)\n",
    "    #data_constel = data_constel.sort_values(by=['NumberOfFeatures'])\n",
    "\n",
    "    ## sort by amount of datapoints and features (ascending)\n",
    "    #data_constel = data_constel.sort_values(by=['NumberOfInstances', 'NumberOfFeatures'])\n",
    "\n",
    "    ## sort by amount of categorical features and datapoints (ascending)\n",
    "    #data_constel = data_constel.sort_values(by=['NumberOfCategoricalFeatures', 'NumberOfInstances'])\n",
    "\n",
    "    ## sort by amount of numerical features and datapoints (ascending)\n",
    "    #data_constel = data_constel.sort_values(by=['NumberOfNumericFeatures', 'NumberOfInstances'])\n",
    "    \n",
    "    Dataset_number = data_constel[\"Task\"]\n",
    "    Imputation_Method = data_constel[\"Imputation_Method\"]\n",
    "    Improvement = data_constel[\"Performance Difference to Average Best in Percent\"]\n",
    "    \n",
    "\n",
    "    trace = go.Heatmap(\n",
    "                   z=Improvement,\n",
    "                   x=Dataset_number,\n",
    "                   y=Imputation_Method,\n",
    "                   type = 'heatmap',\n",
    "                    autocolorscale= False,\n",
    "                    colorscale = 'RdBu_r',\n",
    "                    zmid=0,\n",
    "                    zmin=(-0.1),\n",
    "                    zmax=0.1,\n",
    "                    )\n",
    "    data = [trace]\n",
    "    fig = go.Figure(data=data)\n",
    "    fig.update_layout(\n",
    "        title=i,\n",
    "        xaxis_nticks=36)\n",
    "    fig.show()\n",
    "    fig.write_image(\"regression_heatmap_f1_score_improvement_to_avbest%s.pdf\" %i)"
   ]
  },
  {
   "cell_type": "code",
   "execution_count": null,
   "id": "908fbb48",
   "metadata": {
    "scrolled": true
   },
   "outputs": [
    {
     "ename": "KeyError",
     "evalue": "'Performance Difference to Average Best in Percent'",
     "output_type": "error",
     "traceback": [
      "\u001b[0;31m---------------------------------------------------------------------------\u001b[0m",
      "\u001b[0;31mKeyError\u001b[0m                                  Traceback (most recent call last)",
      "\u001b[0;32m/opt/anaconda/lib/python3.9/site-packages/pandas/core/indexes/base.py\u001b[0m in \u001b[0;36mget_loc\u001b[0;34m(self, key, method, tolerance)\u001b[0m\n\u001b[1;32m   3628\u001b[0m             \u001b[0;32mtry\u001b[0m\u001b[0;34m:\u001b[0m\u001b[0;34m\u001b[0m\u001b[0;34m\u001b[0m\u001b[0m\n\u001b[0;32m-> 3629\u001b[0;31m                 \u001b[0;32mreturn\u001b[0m \u001b[0mself\u001b[0m\u001b[0;34m.\u001b[0m\u001b[0m_engine\u001b[0m\u001b[0;34m.\u001b[0m\u001b[0mget_loc\u001b[0m\u001b[0;34m(\u001b[0m\u001b[0mcasted_key\u001b[0m\u001b[0;34m)\u001b[0m\u001b[0;34m\u001b[0m\u001b[0;34m\u001b[0m\u001b[0m\n\u001b[0m\u001b[1;32m   3630\u001b[0m             \u001b[0;32mexcept\u001b[0m \u001b[0mKeyError\u001b[0m \u001b[0;32mas\u001b[0m \u001b[0merr\u001b[0m\u001b[0;34m:\u001b[0m\u001b[0;34m\u001b[0m\u001b[0;34m\u001b[0m\u001b[0m\n",
      "\u001b[0;32m/opt/anaconda/lib/python3.9/site-packages/pandas/_libs/index.pyx\u001b[0m in \u001b[0;36mpandas._libs.index.IndexEngine.get_loc\u001b[0;34m()\u001b[0m\n",
      "\u001b[0;32m/opt/anaconda/lib/python3.9/site-packages/pandas/_libs/index.pyx\u001b[0m in \u001b[0;36mpandas._libs.index.IndexEngine.get_loc\u001b[0;34m()\u001b[0m\n",
      "\u001b[0;32mpandas/_libs/hashtable_class_helper.pxi\u001b[0m in \u001b[0;36mpandas._libs.hashtable.PyObjectHashTable.get_item\u001b[0;34m()\u001b[0m\n",
      "\u001b[0;32mpandas/_libs/hashtable_class_helper.pxi\u001b[0m in \u001b[0;36mpandas._libs.hashtable.PyObjectHashTable.get_item\u001b[0;34m()\u001b[0m\n",
      "\u001b[0;31mKeyError\u001b[0m: 'Performance Difference to Average Best in Percent'",
      "\nThe above exception was the direct cause of the following exception:\n",
      "\u001b[0;31mKeyError\u001b[0m                                  Traceback (most recent call last)",
      "\u001b[0;32m/tmp/ipykernel_389841/3358157854.py\u001b[0m in \u001b[0;36m<module>\u001b[0;34m\u001b[0m\n\u001b[1;32m      1\u001b[0m \u001b[0;31m#heatmap_data_difference.agg(['min', 'max'])\u001b[0m\u001b[0;34m\u001b[0m\u001b[0;34m\u001b[0m\u001b[0m\n\u001b[1;32m      2\u001b[0m \u001b[0mheatmap_data_difference\u001b[0m\u001b[0;34m.\u001b[0m\u001b[0mto_csv\u001b[0m\u001b[0;34m(\u001b[0m\u001b[0;34m'heatmap_data_difference.csv'\u001b[0m\u001b[0;34m)\u001b[0m\u001b[0;34m\u001b[0m\u001b[0;34m\u001b[0m\u001b[0m\n\u001b[0;32m----> 3\u001b[0;31m \u001b[0mheatmap_data_difference\u001b[0m\u001b[0;34m[\u001b[0m\u001b[0;34m'Performance Difference to Average Best in Percent'\u001b[0m\u001b[0;34m]\u001b[0m\u001b[0;34m.\u001b[0m\u001b[0magg\u001b[0m\u001b[0;34m(\u001b[0m\u001b[0;34m[\u001b[0m\u001b[0;34m'min'\u001b[0m\u001b[0;34m,\u001b[0m \u001b[0;34m'max'\u001b[0m\u001b[0;34m]\u001b[0m\u001b[0;34m)\u001b[0m\u001b[0;34m\u001b[0m\u001b[0;34m\u001b[0m\u001b[0m\n\u001b[0m",
      "\u001b[0;32m/opt/anaconda/lib/python3.9/site-packages/pandas/core/frame.py\u001b[0m in \u001b[0;36m__getitem__\u001b[0;34m(self, key)\u001b[0m\n\u001b[1;32m   3503\u001b[0m             \u001b[0;32mif\u001b[0m \u001b[0mself\u001b[0m\u001b[0;34m.\u001b[0m\u001b[0mcolumns\u001b[0m\u001b[0;34m.\u001b[0m\u001b[0mnlevels\u001b[0m \u001b[0;34m>\u001b[0m \u001b[0;36m1\u001b[0m\u001b[0;34m:\u001b[0m\u001b[0;34m\u001b[0m\u001b[0;34m\u001b[0m\u001b[0m\n\u001b[1;32m   3504\u001b[0m                 \u001b[0;32mreturn\u001b[0m \u001b[0mself\u001b[0m\u001b[0;34m.\u001b[0m\u001b[0m_getitem_multilevel\u001b[0m\u001b[0;34m(\u001b[0m\u001b[0mkey\u001b[0m\u001b[0;34m)\u001b[0m\u001b[0;34m\u001b[0m\u001b[0;34m\u001b[0m\u001b[0m\n\u001b[0;32m-> 3505\u001b[0;31m             \u001b[0mindexer\u001b[0m \u001b[0;34m=\u001b[0m \u001b[0mself\u001b[0m\u001b[0;34m.\u001b[0m\u001b[0mcolumns\u001b[0m\u001b[0;34m.\u001b[0m\u001b[0mget_loc\u001b[0m\u001b[0;34m(\u001b[0m\u001b[0mkey\u001b[0m\u001b[0;34m)\u001b[0m\u001b[0;34m\u001b[0m\u001b[0;34m\u001b[0m\u001b[0m\n\u001b[0m\u001b[1;32m   3506\u001b[0m             \u001b[0;32mif\u001b[0m \u001b[0mis_integer\u001b[0m\u001b[0;34m(\u001b[0m\u001b[0mindexer\u001b[0m\u001b[0;34m)\u001b[0m\u001b[0;34m:\u001b[0m\u001b[0;34m\u001b[0m\u001b[0;34m\u001b[0m\u001b[0m\n\u001b[1;32m   3507\u001b[0m                 \u001b[0mindexer\u001b[0m \u001b[0;34m=\u001b[0m \u001b[0;34m[\u001b[0m\u001b[0mindexer\u001b[0m\u001b[0;34m]\u001b[0m\u001b[0;34m\u001b[0m\u001b[0;34m\u001b[0m\u001b[0m\n",
      "\u001b[0;32m/opt/anaconda/lib/python3.9/site-packages/pandas/core/indexes/base.py\u001b[0m in \u001b[0;36mget_loc\u001b[0;34m(self, key, method, tolerance)\u001b[0m\n\u001b[1;32m   3629\u001b[0m                 \u001b[0;32mreturn\u001b[0m \u001b[0mself\u001b[0m\u001b[0;34m.\u001b[0m\u001b[0m_engine\u001b[0m\u001b[0;34m.\u001b[0m\u001b[0mget_loc\u001b[0m\u001b[0;34m(\u001b[0m\u001b[0mcasted_key\u001b[0m\u001b[0;34m)\u001b[0m\u001b[0;34m\u001b[0m\u001b[0;34m\u001b[0m\u001b[0m\n\u001b[1;32m   3630\u001b[0m             \u001b[0;32mexcept\u001b[0m \u001b[0mKeyError\u001b[0m \u001b[0;32mas\u001b[0m \u001b[0merr\u001b[0m\u001b[0;34m:\u001b[0m\u001b[0;34m\u001b[0m\u001b[0;34m\u001b[0m\u001b[0m\n\u001b[0;32m-> 3631\u001b[0;31m                 \u001b[0;32mraise\u001b[0m \u001b[0mKeyError\u001b[0m\u001b[0;34m(\u001b[0m\u001b[0mkey\u001b[0m\u001b[0;34m)\u001b[0m \u001b[0;32mfrom\u001b[0m \u001b[0merr\u001b[0m\u001b[0;34m\u001b[0m\u001b[0;34m\u001b[0m\u001b[0m\n\u001b[0m\u001b[1;32m   3632\u001b[0m             \u001b[0;32mexcept\u001b[0m \u001b[0mTypeError\u001b[0m\u001b[0;34m:\u001b[0m\u001b[0;34m\u001b[0m\u001b[0;34m\u001b[0m\u001b[0m\n\u001b[1;32m   3633\u001b[0m                 \u001b[0;31m# If we have a listlike key, _check_indexing_error will raise\u001b[0m\u001b[0;34m\u001b[0m\u001b[0;34m\u001b[0m\u001b[0m\n",
      "\u001b[0;31mKeyError\u001b[0m: 'Performance Difference to Average Best in Percent'"
     ]
    }
   ],
   "source": [
    "#heatmap_data_difference.agg(['min', 'max'])\n",
    "heatmap_data_difference.to_csv('heatmap_data_difference.csv')\n",
    "heatmap_data_difference['Performance Difference to Average Best in Percent'].agg(['min', 'max'])"
   ]
  },
  {
   "cell_type": "code",
   "execution_count": null,
   "id": "ef8a868b",
   "metadata": {},
   "outputs": [],
   "source": [
    "heatmap_data_difference\n",
    "heatmap_data_difference.to_csv('regression_imputed_full_info.csv', index=False)"
   ]
  },
  {
   "cell_type": "markdown",
   "id": "e376bb51",
   "metadata": {},
   "source": [
    "## Improvment Proportions for All Data Constellations and Methods Relative to Average Best Method"
   ]
  },
  {
   "cell_type": "code",
   "execution_count": null,
   "id": "529a722d",
   "metadata": {},
   "outputs": [
    {
     "ename": "KeyError",
     "evalue": "'Imputation_Method'",
     "output_type": "error",
     "traceback": [
      "\u001b[0;31m---------------------------------------------------------------------------\u001b[0m",
      "\u001b[0;31mKeyError\u001b[0m                                  Traceback (most recent call last)",
      "\u001b[0;32m/opt/anaconda/lib/python3.9/site-packages/pandas/core/indexes/base.py\u001b[0m in \u001b[0;36mget_loc\u001b[0;34m(self, key, method, tolerance)\u001b[0m\n\u001b[1;32m   3628\u001b[0m             \u001b[0;32mtry\u001b[0m\u001b[0;34m:\u001b[0m\u001b[0;34m\u001b[0m\u001b[0;34m\u001b[0m\u001b[0m\n\u001b[0;32m-> 3629\u001b[0;31m                 \u001b[0;32mreturn\u001b[0m \u001b[0mself\u001b[0m\u001b[0;34m.\u001b[0m\u001b[0m_engine\u001b[0m\u001b[0;34m.\u001b[0m\u001b[0mget_loc\u001b[0m\u001b[0;34m(\u001b[0m\u001b[0mcasted_key\u001b[0m\u001b[0;34m)\u001b[0m\u001b[0;34m\u001b[0m\u001b[0;34m\u001b[0m\u001b[0m\n\u001b[0m\u001b[1;32m   3630\u001b[0m             \u001b[0;32mexcept\u001b[0m \u001b[0mKeyError\u001b[0m \u001b[0;32mas\u001b[0m \u001b[0merr\u001b[0m\u001b[0;34m:\u001b[0m\u001b[0;34m\u001b[0m\u001b[0;34m\u001b[0m\u001b[0m\n",
      "\u001b[0;32m/opt/anaconda/lib/python3.9/site-packages/pandas/_libs/index.pyx\u001b[0m in \u001b[0;36mpandas._libs.index.IndexEngine.get_loc\u001b[0;34m()\u001b[0m\n",
      "\u001b[0;32m/opt/anaconda/lib/python3.9/site-packages/pandas/_libs/index.pyx\u001b[0m in \u001b[0;36mpandas._libs.index.IndexEngine.get_loc\u001b[0;34m()\u001b[0m\n",
      "\u001b[0;32mpandas/_libs/hashtable_class_helper.pxi\u001b[0m in \u001b[0;36mpandas._libs.hashtable.PyObjectHashTable.get_item\u001b[0;34m()\u001b[0m\n",
      "\u001b[0;32mpandas/_libs/hashtable_class_helper.pxi\u001b[0m in \u001b[0;36mpandas._libs.hashtable.PyObjectHashTable.get_item\u001b[0;34m()\u001b[0m\n",
      "\u001b[0;31mKeyError\u001b[0m: 'Imputation_Method'",
      "\nThe above exception was the direct cause of the following exception:\n",
      "\u001b[0;31mKeyError\u001b[0m                                  Traceback (most recent call last)",
      "\u001b[0;32m/tmp/ipykernel_389841/2799210447.py\u001b[0m in \u001b[0;36m<module>\u001b[0;34m\u001b[0m\n\u001b[1;32m      1\u001b[0m \u001b[0;31m# data preprocessing here\u001b[0m\u001b[0;34m\u001b[0m\u001b[0;34m\u001b[0m\u001b[0m\n\u001b[1;32m      2\u001b[0m \u001b[0mdf_quantiles\u001b[0m \u001b[0;34m=\u001b[0m \u001b[0mheatmap_data_difference\u001b[0m\u001b[0;34m.\u001b[0m\u001b[0mcopy\u001b[0m\u001b[0;34m(\u001b[0m\u001b[0;34m)\u001b[0m\u001b[0;34m\u001b[0m\u001b[0;34m\u001b[0m\u001b[0m\n\u001b[0;32m----> 3\u001b[0;31m \u001b[0mdf_quantiles\u001b[0m \u001b[0;34m=\u001b[0m \u001b[0mdf_quantiles\u001b[0m\u001b[0;34m.\u001b[0m\u001b[0mdrop\u001b[0m\u001b[0;34m(\u001b[0m\u001b[0mdf_quantiles\u001b[0m\u001b[0;34m[\u001b[0m\u001b[0mdf_quantiles\u001b[0m\u001b[0;34m[\u001b[0m\u001b[0;34m\"Imputation_Method\"\u001b[0m\u001b[0;34m]\u001b[0m \u001b[0;34m==\u001b[0m \u001b[0mAVERAGE_BEST_IMPUTATION_METHOD\u001b[0m\u001b[0;34m]\u001b[0m\u001b[0;34m.\u001b[0m\u001b[0mindex\u001b[0m\u001b[0;34m)\u001b[0m\u001b[0;34m\u001b[0m\u001b[0;34m\u001b[0m\u001b[0m\n\u001b[0m\u001b[1;32m      4\u001b[0m \u001b[0;34m\u001b[0m\u001b[0m\n\u001b[1;32m      5\u001b[0m \u001b[0mdf_10\u001b[0m \u001b[0;34m=\u001b[0m \u001b[0mdf_quantiles\u001b[0m\u001b[0;34m.\u001b[0m\u001b[0mdrop\u001b[0m\u001b[0;34m(\u001b[0m\u001b[0mdf_quantiles\u001b[0m\u001b[0;34m[\u001b[0m\u001b[0;34m(\u001b[0m\u001b[0mdf_quantiles\u001b[0m\u001b[0;34m[\u001b[0m\u001b[0;34m\"Performance Difference to Average Best in Percent\"\u001b[0m\u001b[0;34m]\u001b[0m \u001b[0;34m>\u001b[0m \u001b[0;34m(\u001b[0m\u001b[0;34m-\u001b[0m\u001b[0;36m0.09\u001b[0m\u001b[0;34m)\u001b[0m\u001b[0;34m)\u001b[0m\u001b[0;34m]\u001b[0m\u001b[0;34m.\u001b[0m\u001b[0mindex\u001b[0m\u001b[0;34m)\u001b[0m\u001b[0;34m\u001b[0m\u001b[0;34m\u001b[0m\u001b[0m\n",
      "\u001b[0;32m/opt/anaconda/lib/python3.9/site-packages/pandas/core/frame.py\u001b[0m in \u001b[0;36m__getitem__\u001b[0;34m(self, key)\u001b[0m\n\u001b[1;32m   3503\u001b[0m             \u001b[0;32mif\u001b[0m \u001b[0mself\u001b[0m\u001b[0;34m.\u001b[0m\u001b[0mcolumns\u001b[0m\u001b[0;34m.\u001b[0m\u001b[0mnlevels\u001b[0m \u001b[0;34m>\u001b[0m \u001b[0;36m1\u001b[0m\u001b[0;34m:\u001b[0m\u001b[0;34m\u001b[0m\u001b[0;34m\u001b[0m\u001b[0m\n\u001b[1;32m   3504\u001b[0m                 \u001b[0;32mreturn\u001b[0m \u001b[0mself\u001b[0m\u001b[0;34m.\u001b[0m\u001b[0m_getitem_multilevel\u001b[0m\u001b[0;34m(\u001b[0m\u001b[0mkey\u001b[0m\u001b[0;34m)\u001b[0m\u001b[0;34m\u001b[0m\u001b[0;34m\u001b[0m\u001b[0m\n\u001b[0;32m-> 3505\u001b[0;31m             \u001b[0mindexer\u001b[0m \u001b[0;34m=\u001b[0m \u001b[0mself\u001b[0m\u001b[0;34m.\u001b[0m\u001b[0mcolumns\u001b[0m\u001b[0;34m.\u001b[0m\u001b[0mget_loc\u001b[0m\u001b[0;34m(\u001b[0m\u001b[0mkey\u001b[0m\u001b[0;34m)\u001b[0m\u001b[0;34m\u001b[0m\u001b[0;34m\u001b[0m\u001b[0m\n\u001b[0m\u001b[1;32m   3506\u001b[0m             \u001b[0;32mif\u001b[0m \u001b[0mis_integer\u001b[0m\u001b[0;34m(\u001b[0m\u001b[0mindexer\u001b[0m\u001b[0;34m)\u001b[0m\u001b[0;34m:\u001b[0m\u001b[0;34m\u001b[0m\u001b[0;34m\u001b[0m\u001b[0m\n\u001b[1;32m   3507\u001b[0m                 \u001b[0mindexer\u001b[0m \u001b[0;34m=\u001b[0m \u001b[0;34m[\u001b[0m\u001b[0mindexer\u001b[0m\u001b[0;34m]\u001b[0m\u001b[0;34m\u001b[0m\u001b[0;34m\u001b[0m\u001b[0m\n",
      "\u001b[0;32m/opt/anaconda/lib/python3.9/site-packages/pandas/core/indexes/base.py\u001b[0m in \u001b[0;36mget_loc\u001b[0;34m(self, key, method, tolerance)\u001b[0m\n\u001b[1;32m   3629\u001b[0m                 \u001b[0;32mreturn\u001b[0m \u001b[0mself\u001b[0m\u001b[0;34m.\u001b[0m\u001b[0m_engine\u001b[0m\u001b[0;34m.\u001b[0m\u001b[0mget_loc\u001b[0m\u001b[0;34m(\u001b[0m\u001b[0mcasted_key\u001b[0m\u001b[0;34m)\u001b[0m\u001b[0;34m\u001b[0m\u001b[0;34m\u001b[0m\u001b[0m\n\u001b[1;32m   3630\u001b[0m             \u001b[0;32mexcept\u001b[0m \u001b[0mKeyError\u001b[0m \u001b[0;32mas\u001b[0m \u001b[0merr\u001b[0m\u001b[0;34m:\u001b[0m\u001b[0;34m\u001b[0m\u001b[0;34m\u001b[0m\u001b[0m\n\u001b[0;32m-> 3631\u001b[0;31m                 \u001b[0;32mraise\u001b[0m \u001b[0mKeyError\u001b[0m\u001b[0;34m(\u001b[0m\u001b[0mkey\u001b[0m\u001b[0;34m)\u001b[0m \u001b[0;32mfrom\u001b[0m \u001b[0merr\u001b[0m\u001b[0;34m\u001b[0m\u001b[0;34m\u001b[0m\u001b[0m\n\u001b[0m\u001b[1;32m   3632\u001b[0m             \u001b[0;32mexcept\u001b[0m \u001b[0mTypeError\u001b[0m\u001b[0;34m:\u001b[0m\u001b[0;34m\u001b[0m\u001b[0;34m\u001b[0m\u001b[0m\n\u001b[1;32m   3633\u001b[0m                 \u001b[0;31m# If we have a listlike key, _check_indexing_error will raise\u001b[0m\u001b[0;34m\u001b[0m\u001b[0;34m\u001b[0m\u001b[0m\n",
      "\u001b[0;31mKeyError\u001b[0m: 'Imputation_Method'"
     ]
    }
   ],
   "source": [
    "# data preprocessing here\n",
    "df_quantiles = heatmap_data_difference.copy()\n",
    "df_quantiles = df_quantiles.drop(df_quantiles[df_quantiles[\"Imputation_Method\"] == AVERAGE_BEST_IMPUTATION_METHOD].index)\n",
    "\n",
    "df_10 = df_quantiles.drop(df_quantiles[(df_quantiles[\"Performance Difference to Average Best in Percent\"] > (-0.09))].index)\n",
    "df_09 = df_quantiles.drop(df_quantiles[(df_quantiles[\"Performance Difference to Average Best in Percent\"] <= (-0.09)) | (df_quantiles[\"Performance Difference to Average Best in Percent\"] > (-0.07))].index)\n",
    "df_07 = df_quantiles.drop(df_quantiles[(df_quantiles[\"Performance Difference to Average Best in Percent\"] <= (-0.07)) | (df_quantiles[\"Performance Difference to Average Best in Percent\"] > (-0.05))].index)\n",
    "df_05 = df_quantiles.drop(df_quantiles[(df_quantiles[\"Performance Difference to Average Best in Percent\"] <= (-0.05)) | (df_quantiles[\"Performance Difference to Average Best in Percent\"] > (-0.03))].index)\n",
    "df_03 = df_quantiles.drop(df_quantiles[(df_quantiles[\"Performance Difference to Average Best in Percent\"] <= (-0.03)) | (df_quantiles[\"Performance Difference to Average Best in Percent\"] > (-0.01))].index)\n",
    "df_01 = df_quantiles.drop(df_quantiles[(df_quantiles[\"Performance Difference to Average Best in Percent\"] <= (-0.01)) | (df_quantiles[\"Performance Difference to Average Best in Percent\"] > (0.01))].index)\n",
    "df01 = df_quantiles.drop(df_quantiles[(df_quantiles[\"Performance Difference to Average Best in Percent\"] <= (0.01)) | (df_quantiles[\"Performance Difference to Average Best in Percent\"] > (0.03))].index)\n",
    "df03 = df_quantiles.drop(df_quantiles[(df_quantiles[\"Performance Difference to Average Best in Percent\"] <= (0.03)) | (df_quantiles[\"Performance Difference to Average Best in Percent\"] > (0.05))].index)\n",
    "df05 = df_quantiles.drop(df_quantiles[(df_quantiles[\"Performance Difference to Average Best in Percent\"] <= (0.05)) | (df_quantiles[\"Performance Difference to Average Best in Percent\"] > (0.07))].index)\n",
    "df07 = df_quantiles.drop(df_quantiles[(df_quantiles[\"Performance Difference to Average Best in Percent\"] <= (0.07)) | (df_quantiles[\"Performance Difference to Average Best in Percent\"] > (0.09))].index)\n",
    "df09 = df_quantiles.drop(df_quantiles[(df_quantiles[\"Performance Difference to Average Best in Percent\"] <= (0.09))].index)\n",
    "\n",
    "#df_quantiles\n",
    "#df_quantiles.dtypes"
   ]
  },
  {
   "cell_type": "code",
   "execution_count": null,
   "id": "e6cb0c3e",
   "metadata": {},
   "outputs": [
    {
     "name": "stdout",
     "output_type": "stream",
     "text": [
      "[10, 6, 8, 20, 46, 1009, 12, 2, 0, 0, 1]\n",
      "['less than -0.09', '-0.09 to -0.07', '-0.07 to -0.05', '-0.05 to -0.03', '-0.03 to -0.01', '-0.01 to 0.01', '0.01 to 0.03', '0.03 to 0.05', '0.05 to 0.07', '0.07 to 0.09', 'more than 0.09']\n"
     ]
    }
   ],
   "source": [
    "len_df_10 = len(df_10.index)\n",
    "len_df_09 = len(df_09.index)\n",
    "len_df_07 = len(df_07.index)\n",
    "len_df_05 = len(df_05.index)\n",
    "len_df_03 = len(df_03.index)\n",
    "len_df_01 = len(df_01.index)\n",
    "len_df01 = len(df01.index)\n",
    "len_df03 = len(df03.index)\n",
    "len_df05 = len(df05.index)\n",
    "len_df07 = len(df07.index)\n",
    "len_df09 = len(df09.index)\n",
    "\n",
    "quantile_freq = []\n",
    "#quantile_freq.append()\n",
    "quantile_freq.extend((len_df_10, len_df_09, len_df_07, len_df_05, len_df_03, len_df_01, len_df01, len_df03, len_df05, len_df07, len_df09))\n",
    "print(quantile_freq)\n",
    "\n",
    "\n",
    "quantiles = []\n",
    "quantiles.extend(['less than -0.09', '-0.09 to -0.07', '-0.07 to -0.05', '-0.05 to -0.03','-0.03 to -0.01', '-0.01 to 0.01', '0.01 to 0.03', '0.03 to 0.05', '0.05 to 0.07', '0.07 to 0.09', 'more than 0.09'])\n",
    "print(quantiles)\n",
    "\n",
    "improvement_quantiles = pd.DataFrame(\n",
    "    {'Improvement to Average Best in Percent': quantiles,\n",
    "     'Amount': quantile_freq,\n",
    "    })\n"
   ]
  },
  {
   "cell_type": "code",
   "execution_count": null,
   "id": "329eab9d",
   "metadata": {},
   "outputs": [
    {
     "data": {
      "application/vnd.plotly.v1+json": {
       "config": {
        "plotlyServerURL": "https://plot.ly"
       },
       "data": [
        {
         "alignmentgroup": "True",
         "hovertemplate": "Improvement to Average Best in Percent=%{x}<br>Amount=%{y}<extra></extra>",
         "legendgroup": "",
         "marker": {
          "color": "#636efa",
          "pattern": {
           "shape": ""
          }
         },
         "name": "",
         "offsetgroup": "",
         "orientation": "v",
         "showlegend": false,
         "textposition": "auto",
         "type": "bar",
         "x": [
          "less than -0.09",
          "-0.09 to -0.07",
          "-0.07 to -0.05",
          "-0.05 to -0.03",
          "-0.03 to -0.01",
          "-0.01 to 0.01",
          "0.01 to 0.03",
          "0.03 to 0.05",
          "0.05 to 0.07",
          "0.07 to 0.09",
          "more than 0.09"
         ],
         "xaxis": "x",
         "y": [
          10,
          6,
          8,
          20,
          46,
          1009,
          12,
          2,
          0,
          0,
          1
         ],
         "yaxis": "y"
        }
       ],
       "layout": {
        "barmode": "relative",
        "legend": {
         "tracegroupgap": 0
        },
        "margin": {
         "t": 60
        },
        "template": {
         "data": {
          "bar": [
           {
            "error_x": {
             "color": "#2a3f5f"
            },
            "error_y": {
             "color": "#2a3f5f"
            },
            "marker": {
             "line": {
              "color": "#E5ECF6",
              "width": 0.5
             },
             "pattern": {
              "fillmode": "overlay",
              "size": 10,
              "solidity": 0.2
             }
            },
            "type": "bar"
           }
          ],
          "barpolar": [
           {
            "marker": {
             "line": {
              "color": "#E5ECF6",
              "width": 0.5
             },
             "pattern": {
              "fillmode": "overlay",
              "size": 10,
              "solidity": 0.2
             }
            },
            "type": "barpolar"
           }
          ],
          "carpet": [
           {
            "aaxis": {
             "endlinecolor": "#2a3f5f",
             "gridcolor": "white",
             "linecolor": "white",
             "minorgridcolor": "white",
             "startlinecolor": "#2a3f5f"
            },
            "baxis": {
             "endlinecolor": "#2a3f5f",
             "gridcolor": "white",
             "linecolor": "white",
             "minorgridcolor": "white",
             "startlinecolor": "#2a3f5f"
            },
            "type": "carpet"
           }
          ],
          "choropleth": [
           {
            "colorbar": {
             "outlinewidth": 0,
             "ticks": ""
            },
            "type": "choropleth"
           }
          ],
          "contour": [
           {
            "colorbar": {
             "outlinewidth": 0,
             "ticks": ""
            },
            "colorscale": [
             [
              0,
              "#0d0887"
             ],
             [
              0.1111111111111111,
              "#46039f"
             ],
             [
              0.2222222222222222,
              "#7201a8"
             ],
             [
              0.3333333333333333,
              "#9c179e"
             ],
             [
              0.4444444444444444,
              "#bd3786"
             ],
             [
              0.5555555555555556,
              "#d8576b"
             ],
             [
              0.6666666666666666,
              "#ed7953"
             ],
             [
              0.7777777777777778,
              "#fb9f3a"
             ],
             [
              0.8888888888888888,
              "#fdca26"
             ],
             [
              1,
              "#f0f921"
             ]
            ],
            "type": "contour"
           }
          ],
          "contourcarpet": [
           {
            "colorbar": {
             "outlinewidth": 0,
             "ticks": ""
            },
            "type": "contourcarpet"
           }
          ],
          "heatmap": [
           {
            "colorbar": {
             "outlinewidth": 0,
             "ticks": ""
            },
            "colorscale": [
             [
              0,
              "#0d0887"
             ],
             [
              0.1111111111111111,
              "#46039f"
             ],
             [
              0.2222222222222222,
              "#7201a8"
             ],
             [
              0.3333333333333333,
              "#9c179e"
             ],
             [
              0.4444444444444444,
              "#bd3786"
             ],
             [
              0.5555555555555556,
              "#d8576b"
             ],
             [
              0.6666666666666666,
              "#ed7953"
             ],
             [
              0.7777777777777778,
              "#fb9f3a"
             ],
             [
              0.8888888888888888,
              "#fdca26"
             ],
             [
              1,
              "#f0f921"
             ]
            ],
            "type": "heatmap"
           }
          ],
          "heatmapgl": [
           {
            "colorbar": {
             "outlinewidth": 0,
             "ticks": ""
            },
            "colorscale": [
             [
              0,
              "#0d0887"
             ],
             [
              0.1111111111111111,
              "#46039f"
             ],
             [
              0.2222222222222222,
              "#7201a8"
             ],
             [
              0.3333333333333333,
              "#9c179e"
             ],
             [
              0.4444444444444444,
              "#bd3786"
             ],
             [
              0.5555555555555556,
              "#d8576b"
             ],
             [
              0.6666666666666666,
              "#ed7953"
             ],
             [
              0.7777777777777778,
              "#fb9f3a"
             ],
             [
              0.8888888888888888,
              "#fdca26"
             ],
             [
              1,
              "#f0f921"
             ]
            ],
            "type": "heatmapgl"
           }
          ],
          "histogram": [
           {
            "marker": {
             "pattern": {
              "fillmode": "overlay",
              "size": 10,
              "solidity": 0.2
             }
            },
            "type": "histogram"
           }
          ],
          "histogram2d": [
           {
            "colorbar": {
             "outlinewidth": 0,
             "ticks": ""
            },
            "colorscale": [
             [
              0,
              "#0d0887"
             ],
             [
              0.1111111111111111,
              "#46039f"
             ],
             [
              0.2222222222222222,
              "#7201a8"
             ],
             [
              0.3333333333333333,
              "#9c179e"
             ],
             [
              0.4444444444444444,
              "#bd3786"
             ],
             [
              0.5555555555555556,
              "#d8576b"
             ],
             [
              0.6666666666666666,
              "#ed7953"
             ],
             [
              0.7777777777777778,
              "#fb9f3a"
             ],
             [
              0.8888888888888888,
              "#fdca26"
             ],
             [
              1,
              "#f0f921"
             ]
            ],
            "type": "histogram2d"
           }
          ],
          "histogram2dcontour": [
           {
            "colorbar": {
             "outlinewidth": 0,
             "ticks": ""
            },
            "colorscale": [
             [
              0,
              "#0d0887"
             ],
             [
              0.1111111111111111,
              "#46039f"
             ],
             [
              0.2222222222222222,
              "#7201a8"
             ],
             [
              0.3333333333333333,
              "#9c179e"
             ],
             [
              0.4444444444444444,
              "#bd3786"
             ],
             [
              0.5555555555555556,
              "#d8576b"
             ],
             [
              0.6666666666666666,
              "#ed7953"
             ],
             [
              0.7777777777777778,
              "#fb9f3a"
             ],
             [
              0.8888888888888888,
              "#fdca26"
             ],
             [
              1,
              "#f0f921"
             ]
            ],
            "type": "histogram2dcontour"
           }
          ],
          "mesh3d": [
           {
            "colorbar": {
             "outlinewidth": 0,
             "ticks": ""
            },
            "type": "mesh3d"
           }
          ],
          "parcoords": [
           {
            "line": {
             "colorbar": {
              "outlinewidth": 0,
              "ticks": ""
             }
            },
            "type": "parcoords"
           }
          ],
          "pie": [
           {
            "automargin": true,
            "type": "pie"
           }
          ],
          "scatter": [
           {
            "fillpattern": {
             "fillmode": "overlay",
             "size": 10,
             "solidity": 0.2
            },
            "type": "scatter"
           }
          ],
          "scatter3d": [
           {
            "line": {
             "colorbar": {
              "outlinewidth": 0,
              "ticks": ""
             }
            },
            "marker": {
             "colorbar": {
              "outlinewidth": 0,
              "ticks": ""
             }
            },
            "type": "scatter3d"
           }
          ],
          "scattercarpet": [
           {
            "marker": {
             "colorbar": {
              "outlinewidth": 0,
              "ticks": ""
             }
            },
            "type": "scattercarpet"
           }
          ],
          "scattergeo": [
           {
            "marker": {
             "colorbar": {
              "outlinewidth": 0,
              "ticks": ""
             }
            },
            "type": "scattergeo"
           }
          ],
          "scattergl": [
           {
            "marker": {
             "colorbar": {
              "outlinewidth": 0,
              "ticks": ""
             }
            },
            "type": "scattergl"
           }
          ],
          "scattermapbox": [
           {
            "marker": {
             "colorbar": {
              "outlinewidth": 0,
              "ticks": ""
             }
            },
            "type": "scattermapbox"
           }
          ],
          "scatterpolar": [
           {
            "marker": {
             "colorbar": {
              "outlinewidth": 0,
              "ticks": ""
             }
            },
            "type": "scatterpolar"
           }
          ],
          "scatterpolargl": [
           {
            "marker": {
             "colorbar": {
              "outlinewidth": 0,
              "ticks": ""
             }
            },
            "type": "scatterpolargl"
           }
          ],
          "scatterternary": [
           {
            "marker": {
             "colorbar": {
              "outlinewidth": 0,
              "ticks": ""
             }
            },
            "type": "scatterternary"
           }
          ],
          "surface": [
           {
            "colorbar": {
             "outlinewidth": 0,
             "ticks": ""
            },
            "colorscale": [
             [
              0,
              "#0d0887"
             ],
             [
              0.1111111111111111,
              "#46039f"
             ],
             [
              0.2222222222222222,
              "#7201a8"
             ],
             [
              0.3333333333333333,
              "#9c179e"
             ],
             [
              0.4444444444444444,
              "#bd3786"
             ],
             [
              0.5555555555555556,
              "#d8576b"
             ],
             [
              0.6666666666666666,
              "#ed7953"
             ],
             [
              0.7777777777777778,
              "#fb9f3a"
             ],
             [
              0.8888888888888888,
              "#fdca26"
             ],
             [
              1,
              "#f0f921"
             ]
            ],
            "type": "surface"
           }
          ],
          "table": [
           {
            "cells": {
             "fill": {
              "color": "#EBF0F8"
             },
             "line": {
              "color": "white"
             }
            },
            "header": {
             "fill": {
              "color": "#C8D4E3"
             },
             "line": {
              "color": "white"
             }
            },
            "type": "table"
           }
          ]
         },
         "layout": {
          "annotationdefaults": {
           "arrowcolor": "#2a3f5f",
           "arrowhead": 0,
           "arrowwidth": 1
          },
          "autotypenumbers": "strict",
          "coloraxis": {
           "colorbar": {
            "outlinewidth": 0,
            "ticks": ""
           }
          },
          "colorscale": {
           "diverging": [
            [
             0,
             "#8e0152"
            ],
            [
             0.1,
             "#c51b7d"
            ],
            [
             0.2,
             "#de77ae"
            ],
            [
             0.3,
             "#f1b6da"
            ],
            [
             0.4,
             "#fde0ef"
            ],
            [
             0.5,
             "#f7f7f7"
            ],
            [
             0.6,
             "#e6f5d0"
            ],
            [
             0.7,
             "#b8e186"
            ],
            [
             0.8,
             "#7fbc41"
            ],
            [
             0.9,
             "#4d9221"
            ],
            [
             1,
             "#276419"
            ]
           ],
           "sequential": [
            [
             0,
             "#0d0887"
            ],
            [
             0.1111111111111111,
             "#46039f"
            ],
            [
             0.2222222222222222,
             "#7201a8"
            ],
            [
             0.3333333333333333,
             "#9c179e"
            ],
            [
             0.4444444444444444,
             "#bd3786"
            ],
            [
             0.5555555555555556,
             "#d8576b"
            ],
            [
             0.6666666666666666,
             "#ed7953"
            ],
            [
             0.7777777777777778,
             "#fb9f3a"
            ],
            [
             0.8888888888888888,
             "#fdca26"
            ],
            [
             1,
             "#f0f921"
            ]
           ],
           "sequentialminus": [
            [
             0,
             "#0d0887"
            ],
            [
             0.1111111111111111,
             "#46039f"
            ],
            [
             0.2222222222222222,
             "#7201a8"
            ],
            [
             0.3333333333333333,
             "#9c179e"
            ],
            [
             0.4444444444444444,
             "#bd3786"
            ],
            [
             0.5555555555555556,
             "#d8576b"
            ],
            [
             0.6666666666666666,
             "#ed7953"
            ],
            [
             0.7777777777777778,
             "#fb9f3a"
            ],
            [
             0.8888888888888888,
             "#fdca26"
            ],
            [
             1,
             "#f0f921"
            ]
           ]
          },
          "colorway": [
           "#636efa",
           "#EF553B",
           "#00cc96",
           "#ab63fa",
           "#FFA15A",
           "#19d3f3",
           "#FF6692",
           "#B6E880",
           "#FF97FF",
           "#FECB52"
          ],
          "font": {
           "color": "#2a3f5f"
          },
          "geo": {
           "bgcolor": "white",
           "lakecolor": "white",
           "landcolor": "#E5ECF6",
           "showlakes": true,
           "showland": true,
           "subunitcolor": "white"
          },
          "hoverlabel": {
           "align": "left"
          },
          "hovermode": "closest",
          "mapbox": {
           "style": "light"
          },
          "paper_bgcolor": "white",
          "plot_bgcolor": "#E5ECF6",
          "polar": {
           "angularaxis": {
            "gridcolor": "white",
            "linecolor": "white",
            "ticks": ""
           },
           "bgcolor": "#E5ECF6",
           "radialaxis": {
            "gridcolor": "white",
            "linecolor": "white",
            "ticks": ""
           }
          },
          "scene": {
           "xaxis": {
            "backgroundcolor": "#E5ECF6",
            "gridcolor": "white",
            "gridwidth": 2,
            "linecolor": "white",
            "showbackground": true,
            "ticks": "",
            "zerolinecolor": "white"
           },
           "yaxis": {
            "backgroundcolor": "#E5ECF6",
            "gridcolor": "white",
            "gridwidth": 2,
            "linecolor": "white",
            "showbackground": true,
            "ticks": "",
            "zerolinecolor": "white"
           },
           "zaxis": {
            "backgroundcolor": "#E5ECF6",
            "gridcolor": "white",
            "gridwidth": 2,
            "linecolor": "white",
            "showbackground": true,
            "ticks": "",
            "zerolinecolor": "white"
           }
          },
          "shapedefaults": {
           "line": {
            "color": "#2a3f5f"
           }
          },
          "ternary": {
           "aaxis": {
            "gridcolor": "white",
            "linecolor": "white",
            "ticks": ""
           },
           "baxis": {
            "gridcolor": "white",
            "linecolor": "white",
            "ticks": ""
           },
           "bgcolor": "#E5ECF6",
           "caxis": {
            "gridcolor": "white",
            "linecolor": "white",
            "ticks": ""
           }
          },
          "title": {
           "x": 0.05
          },
          "xaxis": {
           "automargin": true,
           "gridcolor": "white",
           "linecolor": "white",
           "ticks": "",
           "title": {
            "standoff": 15
           },
           "zerolinecolor": "white",
           "zerolinewidth": 2
          },
          "yaxis": {
           "automargin": true,
           "gridcolor": "white",
           "linecolor": "white",
           "ticks": "",
           "title": {
            "standoff": 15
           },
           "zerolinecolor": "white",
           "zerolinewidth": 2
          }
         }
        },
        "xaxis": {
         "anchor": "y",
         "domain": [
          0,
          1
         ],
         "title": {
          "text": "Improvement to Average Best in Percent"
         }
        },
        "yaxis": {
         "anchor": "x",
         "domain": [
          0,
          1
         ],
         "title": {
          "text": "Amount"
         }
        }
       }
      },
      "text/html": [
       "<div>                            <div id=\"2265c993-2558-40a3-a692-e2a86d440e5d\" class=\"plotly-graph-div\" style=\"height:525px; width:100%;\"></div>            <script type=\"text/javascript\">                require([\"plotly\"], function(Plotly) {                    window.PLOTLYENV=window.PLOTLYENV || {};                                    if (document.getElementById(\"2265c993-2558-40a3-a692-e2a86d440e5d\")) {                    Plotly.newPlot(                        \"2265c993-2558-40a3-a692-e2a86d440e5d\",                        [{\"alignmentgroup\":\"True\",\"hovertemplate\":\"Improvement to Average Best in Percent=%{x}<br>Amount=%{y}<extra></extra>\",\"legendgroup\":\"\",\"marker\":{\"color\":\"#636efa\",\"pattern\":{\"shape\":\"\"}},\"name\":\"\",\"offsetgroup\":\"\",\"orientation\":\"v\",\"showlegend\":false,\"textposition\":\"auto\",\"x\":[\"less than -0.09\",\"-0.09 to -0.07\",\"-0.07 to -0.05\",\"-0.05 to -0.03\",\"-0.03 to -0.01\",\"-0.01 to 0.01\",\"0.01 to 0.03\",\"0.03 to 0.05\",\"0.05 to 0.07\",\"0.07 to 0.09\",\"more than 0.09\"],\"xaxis\":\"x\",\"y\":[10,6,8,20,46,1009,12,2,0,0,1],\"yaxis\":\"y\",\"type\":\"bar\"}],                        {\"template\":{\"data\":{\"histogram2dcontour\":[{\"type\":\"histogram2dcontour\",\"colorbar\":{\"outlinewidth\":0,\"ticks\":\"\"},\"colorscale\":[[0.0,\"#0d0887\"],[0.1111111111111111,\"#46039f\"],[0.2222222222222222,\"#7201a8\"],[0.3333333333333333,\"#9c179e\"],[0.4444444444444444,\"#bd3786\"],[0.5555555555555556,\"#d8576b\"],[0.6666666666666666,\"#ed7953\"],[0.7777777777777778,\"#fb9f3a\"],[0.8888888888888888,\"#fdca26\"],[1.0,\"#f0f921\"]]}],\"choropleth\":[{\"type\":\"choropleth\",\"colorbar\":{\"outlinewidth\":0,\"ticks\":\"\"}}],\"histogram2d\":[{\"type\":\"histogram2d\",\"colorbar\":{\"outlinewidth\":0,\"ticks\":\"\"},\"colorscale\":[[0.0,\"#0d0887\"],[0.1111111111111111,\"#46039f\"],[0.2222222222222222,\"#7201a8\"],[0.3333333333333333,\"#9c179e\"],[0.4444444444444444,\"#bd3786\"],[0.5555555555555556,\"#d8576b\"],[0.6666666666666666,\"#ed7953\"],[0.7777777777777778,\"#fb9f3a\"],[0.8888888888888888,\"#fdca26\"],[1.0,\"#f0f921\"]]}],\"heatmap\":[{\"type\":\"heatmap\",\"colorbar\":{\"outlinewidth\":0,\"ticks\":\"\"},\"colorscale\":[[0.0,\"#0d0887\"],[0.1111111111111111,\"#46039f\"],[0.2222222222222222,\"#7201a8\"],[0.3333333333333333,\"#9c179e\"],[0.4444444444444444,\"#bd3786\"],[0.5555555555555556,\"#d8576b\"],[0.6666666666666666,\"#ed7953\"],[0.7777777777777778,\"#fb9f3a\"],[0.8888888888888888,\"#fdca26\"],[1.0,\"#f0f921\"]]}],\"heatmapgl\":[{\"type\":\"heatmapgl\",\"colorbar\":{\"outlinewidth\":0,\"ticks\":\"\"},\"colorscale\":[[0.0,\"#0d0887\"],[0.1111111111111111,\"#46039f\"],[0.2222222222222222,\"#7201a8\"],[0.3333333333333333,\"#9c179e\"],[0.4444444444444444,\"#bd3786\"],[0.5555555555555556,\"#d8576b\"],[0.6666666666666666,\"#ed7953\"],[0.7777777777777778,\"#fb9f3a\"],[0.8888888888888888,\"#fdca26\"],[1.0,\"#f0f921\"]]}],\"contourcarpet\":[{\"type\":\"contourcarpet\",\"colorbar\":{\"outlinewidth\":0,\"ticks\":\"\"}}],\"contour\":[{\"type\":\"contour\",\"colorbar\":{\"outlinewidth\":0,\"ticks\":\"\"},\"colorscale\":[[0.0,\"#0d0887\"],[0.1111111111111111,\"#46039f\"],[0.2222222222222222,\"#7201a8\"],[0.3333333333333333,\"#9c179e\"],[0.4444444444444444,\"#bd3786\"],[0.5555555555555556,\"#d8576b\"],[0.6666666666666666,\"#ed7953\"],[0.7777777777777778,\"#fb9f3a\"],[0.8888888888888888,\"#fdca26\"],[1.0,\"#f0f921\"]]}],\"surface\":[{\"type\":\"surface\",\"colorbar\":{\"outlinewidth\":0,\"ticks\":\"\"},\"colorscale\":[[0.0,\"#0d0887\"],[0.1111111111111111,\"#46039f\"],[0.2222222222222222,\"#7201a8\"],[0.3333333333333333,\"#9c179e\"],[0.4444444444444444,\"#bd3786\"],[0.5555555555555556,\"#d8576b\"],[0.6666666666666666,\"#ed7953\"],[0.7777777777777778,\"#fb9f3a\"],[0.8888888888888888,\"#fdca26\"],[1.0,\"#f0f921\"]]}],\"mesh3d\":[{\"type\":\"mesh3d\",\"colorbar\":{\"outlinewidth\":0,\"ticks\":\"\"}}],\"scatter\":[{\"fillpattern\":{\"fillmode\":\"overlay\",\"size\":10,\"solidity\":0.2},\"type\":\"scatter\"}],\"parcoords\":[{\"type\":\"parcoords\",\"line\":{\"colorbar\":{\"outlinewidth\":0,\"ticks\":\"\"}}}],\"scatterpolargl\":[{\"type\":\"scatterpolargl\",\"marker\":{\"colorbar\":{\"outlinewidth\":0,\"ticks\":\"\"}}}],\"bar\":[{\"error_x\":{\"color\":\"#2a3f5f\"},\"error_y\":{\"color\":\"#2a3f5f\"},\"marker\":{\"line\":{\"color\":\"#E5ECF6\",\"width\":0.5},\"pattern\":{\"fillmode\":\"overlay\",\"size\":10,\"solidity\":0.2}},\"type\":\"bar\"}],\"scattergeo\":[{\"type\":\"scattergeo\",\"marker\":{\"colorbar\":{\"outlinewidth\":0,\"ticks\":\"\"}}}],\"scatterpolar\":[{\"type\":\"scatterpolar\",\"marker\":{\"colorbar\":{\"outlinewidth\":0,\"ticks\":\"\"}}}],\"histogram\":[{\"marker\":{\"pattern\":{\"fillmode\":\"overlay\",\"size\":10,\"solidity\":0.2}},\"type\":\"histogram\"}],\"scattergl\":[{\"type\":\"scattergl\",\"marker\":{\"colorbar\":{\"outlinewidth\":0,\"ticks\":\"\"}}}],\"scatter3d\":[{\"type\":\"scatter3d\",\"line\":{\"colorbar\":{\"outlinewidth\":0,\"ticks\":\"\"}},\"marker\":{\"colorbar\":{\"outlinewidth\":0,\"ticks\":\"\"}}}],\"scattermapbox\":[{\"type\":\"scattermapbox\",\"marker\":{\"colorbar\":{\"outlinewidth\":0,\"ticks\":\"\"}}}],\"scatterternary\":[{\"type\":\"scatterternary\",\"marker\":{\"colorbar\":{\"outlinewidth\":0,\"ticks\":\"\"}}}],\"scattercarpet\":[{\"type\":\"scattercarpet\",\"marker\":{\"colorbar\":{\"outlinewidth\":0,\"ticks\":\"\"}}}],\"carpet\":[{\"aaxis\":{\"endlinecolor\":\"#2a3f5f\",\"gridcolor\":\"white\",\"linecolor\":\"white\",\"minorgridcolor\":\"white\",\"startlinecolor\":\"#2a3f5f\"},\"baxis\":{\"endlinecolor\":\"#2a3f5f\",\"gridcolor\":\"white\",\"linecolor\":\"white\",\"minorgridcolor\":\"white\",\"startlinecolor\":\"#2a3f5f\"},\"type\":\"carpet\"}],\"table\":[{\"cells\":{\"fill\":{\"color\":\"#EBF0F8\"},\"line\":{\"color\":\"white\"}},\"header\":{\"fill\":{\"color\":\"#C8D4E3\"},\"line\":{\"color\":\"white\"}},\"type\":\"table\"}],\"barpolar\":[{\"marker\":{\"line\":{\"color\":\"#E5ECF6\",\"width\":0.5},\"pattern\":{\"fillmode\":\"overlay\",\"size\":10,\"solidity\":0.2}},\"type\":\"barpolar\"}],\"pie\":[{\"automargin\":true,\"type\":\"pie\"}]},\"layout\":{\"autotypenumbers\":\"strict\",\"colorway\":[\"#636efa\",\"#EF553B\",\"#00cc96\",\"#ab63fa\",\"#FFA15A\",\"#19d3f3\",\"#FF6692\",\"#B6E880\",\"#FF97FF\",\"#FECB52\"],\"font\":{\"color\":\"#2a3f5f\"},\"hovermode\":\"closest\",\"hoverlabel\":{\"align\":\"left\"},\"paper_bgcolor\":\"white\",\"plot_bgcolor\":\"#E5ECF6\",\"polar\":{\"bgcolor\":\"#E5ECF6\",\"angularaxis\":{\"gridcolor\":\"white\",\"linecolor\":\"white\",\"ticks\":\"\"},\"radialaxis\":{\"gridcolor\":\"white\",\"linecolor\":\"white\",\"ticks\":\"\"}},\"ternary\":{\"bgcolor\":\"#E5ECF6\",\"aaxis\":{\"gridcolor\":\"white\",\"linecolor\":\"white\",\"ticks\":\"\"},\"baxis\":{\"gridcolor\":\"white\",\"linecolor\":\"white\",\"ticks\":\"\"},\"caxis\":{\"gridcolor\":\"white\",\"linecolor\":\"white\",\"ticks\":\"\"}},\"coloraxis\":{\"colorbar\":{\"outlinewidth\":0,\"ticks\":\"\"}},\"colorscale\":{\"sequential\":[[0.0,\"#0d0887\"],[0.1111111111111111,\"#46039f\"],[0.2222222222222222,\"#7201a8\"],[0.3333333333333333,\"#9c179e\"],[0.4444444444444444,\"#bd3786\"],[0.5555555555555556,\"#d8576b\"],[0.6666666666666666,\"#ed7953\"],[0.7777777777777778,\"#fb9f3a\"],[0.8888888888888888,\"#fdca26\"],[1.0,\"#f0f921\"]],\"sequentialminus\":[[0.0,\"#0d0887\"],[0.1111111111111111,\"#46039f\"],[0.2222222222222222,\"#7201a8\"],[0.3333333333333333,\"#9c179e\"],[0.4444444444444444,\"#bd3786\"],[0.5555555555555556,\"#d8576b\"],[0.6666666666666666,\"#ed7953\"],[0.7777777777777778,\"#fb9f3a\"],[0.8888888888888888,\"#fdca26\"],[1.0,\"#f0f921\"]],\"diverging\":[[0,\"#8e0152\"],[0.1,\"#c51b7d\"],[0.2,\"#de77ae\"],[0.3,\"#f1b6da\"],[0.4,\"#fde0ef\"],[0.5,\"#f7f7f7\"],[0.6,\"#e6f5d0\"],[0.7,\"#b8e186\"],[0.8,\"#7fbc41\"],[0.9,\"#4d9221\"],[1,\"#276419\"]]},\"xaxis\":{\"gridcolor\":\"white\",\"linecolor\":\"white\",\"ticks\":\"\",\"title\":{\"standoff\":15},\"zerolinecolor\":\"white\",\"automargin\":true,\"zerolinewidth\":2},\"yaxis\":{\"gridcolor\":\"white\",\"linecolor\":\"white\",\"ticks\":\"\",\"title\":{\"standoff\":15},\"zerolinecolor\":\"white\",\"automargin\":true,\"zerolinewidth\":2},\"scene\":{\"xaxis\":{\"backgroundcolor\":\"#E5ECF6\",\"gridcolor\":\"white\",\"linecolor\":\"white\",\"showbackground\":true,\"ticks\":\"\",\"zerolinecolor\":\"white\",\"gridwidth\":2},\"yaxis\":{\"backgroundcolor\":\"#E5ECF6\",\"gridcolor\":\"white\",\"linecolor\":\"white\",\"showbackground\":true,\"ticks\":\"\",\"zerolinecolor\":\"white\",\"gridwidth\":2},\"zaxis\":{\"backgroundcolor\":\"#E5ECF6\",\"gridcolor\":\"white\",\"linecolor\":\"white\",\"showbackground\":true,\"ticks\":\"\",\"zerolinecolor\":\"white\",\"gridwidth\":2}},\"shapedefaults\":{\"line\":{\"color\":\"#2a3f5f\"}},\"annotationdefaults\":{\"arrowcolor\":\"#2a3f5f\",\"arrowhead\":0,\"arrowwidth\":1},\"geo\":{\"bgcolor\":\"white\",\"landcolor\":\"#E5ECF6\",\"subunitcolor\":\"white\",\"showland\":true,\"showlakes\":true,\"lakecolor\":\"white\"},\"title\":{\"x\":0.05},\"mapbox\":{\"style\":\"light\"}}},\"xaxis\":{\"anchor\":\"y\",\"domain\":[0.0,1.0],\"title\":{\"text\":\"Improvement to Average Best in Percent\"}},\"yaxis\":{\"anchor\":\"x\",\"domain\":[0.0,1.0],\"title\":{\"text\":\"Amount\"}},\"legend\":{\"tracegroupgap\":0},\"margin\":{\"t\":60},\"barmode\":\"relative\"},                        {\"responsive\": true}                    ).then(function(){\n",
       "                            \n",
       "var gd = document.getElementById('2265c993-2558-40a3-a692-e2a86d440e5d');\n",
       "var x = new MutationObserver(function (mutations, observer) {{\n",
       "        var display = window.getComputedStyle(gd).display;\n",
       "        if (!display || display === 'none') {{\n",
       "            console.log([gd, 'removed!']);\n",
       "            Plotly.purge(gd);\n",
       "            observer.disconnect();\n",
       "        }}\n",
       "}});\n",
       "\n",
       "// Listen for the removal of the full notebook cells\n",
       "var notebookContainer = gd.closest('#notebook-container');\n",
       "if (notebookContainer) {{\n",
       "    x.observe(notebookContainer, {childList: true});\n",
       "}}\n",
       "\n",
       "// Listen for the clearing of the current output cell\n",
       "var outputEl = gd.closest('.output');\n",
       "if (outputEl) {{\n",
       "    x.observe(outputEl, {childList: true});\n",
       "}}\n",
       "\n",
       "                        })                };                });            </script>        </div>"
      ]
     },
     "metadata": {},
     "output_type": "display_data"
    }
   ],
   "source": [
    "fig = px.bar(improvement_quantiles, x='Improvement to Average Best in Percent', y='Amount')\n",
    "fig.show()\n",
    "fig.write_image(\"improv_rel_to_av_all_DC_no_av_incl.pdf\")"
   ]
  },
  {
   "cell_type": "code",
   "execution_count": null,
   "id": "f0c823d6",
   "metadata": {},
   "outputs": [
    {
     "name": "stdout",
     "output_type": "stream",
     "text": [
      "['KNN', 'Mean/Mode', 'VAE', 'GAIN', 'Discriminative DL']\n",
      "[]\n",
      "[0, 0, 0, 0, 3, 223, 2, 0, 0, 0, 0]\n",
      "[0, 1, 3, 7, 9, 205, 2, 1, 0, 0, 0]\n",
      "[0, 0, 0, 0, 3, 216, 3, 0, 0, 0, 0]\n",
      "[3, 3, 2, 4, 10, 203, 1, 1, 0, 0, 1]\n",
      "[7, 2, 3, 9, 21, 162, 4, 0, 0, 0, 0]\n"
     ]
    }
   ],
   "source": [
    "# split barchart stacks into methods\n",
    "\n",
    "quantile_datasets = [df_10, df_09, df_07, df_05, df_03, df_01, df01, df03, df05, df07, df09]\n",
    "\n",
    "methods = ['Random Forest', 'KNN', 'Mean/Mode', 'VAE', 'GAIN', 'Discriminative DL']\n",
    "methods.remove(AVERAGE_BEST_IMPUTATION_METHOD)\n",
    "print(methods)\n",
    "\n",
    "forest_freq = []\n",
    "knn_freq = []\n",
    "mode_freq = []\n",
    "dl_freq = []\n",
    "vae_freq = []\n",
    "gain_freq = []\n",
    "#print(quantile_datasets)\n",
    "\n",
    "for i in methods:\n",
    "    for j in quantile_datasets:\n",
    "        df_temp = j.copy()\n",
    "        df_temp = df_temp[df_temp['Imputation_Method'].str.contains(i)]\n",
    "        df_temp_len = len(df_temp.index)\n",
    "        if (i == 'Random Forest'):\n",
    "            forest_freq.append(df_temp_len)\n",
    "        elif (i == 'KNN'):\n",
    "            knn_freq.append(df_temp_len)                                       \n",
    "        elif (i == 'Mean/Mode'):\n",
    "            mode_freq.append(df_temp_len)                                                 \n",
    "        elif (i == 'Discriminative DL'):\n",
    "            dl_freq.append(df_temp_len)                                       \n",
    "        elif (i == 'VAE'):\n",
    "            vae_freq.append(df_temp_len)                                         \n",
    "        elif (i == 'GAIN'):\n",
    "            gain_freq.append(df_temp_len)                                          \n",
    "                                       \n",
    "print(forest_freq)\n",
    "print(knn_freq)\n",
    "print(mode_freq)\n",
    "print(dl_freq)\n",
    "print(vae_freq)\n",
    "print(gain_freq)"
   ]
  },
  {
   "cell_type": "code",
   "execution_count": null,
   "id": "27e36716",
   "metadata": {},
   "outputs": [
    {
     "data": {
      "application/vnd.plotly.v1+json": {
       "config": {
        "plotlyServerURL": "https://plot.ly"
       },
       "data": [
        {
         "name": "Random Forest",
         "type": "bar",
         "x": [
          "less than -0.09",
          "-0.09 to -0.07",
          "-0.07 to -0.05",
          "-0.05 to -0.03",
          "-0.03 to -0.01",
          "-0.01 to 0.01",
          "0.01 to 0.03",
          "0.03 to 0.05",
          "0.05 to 0.07",
          "0.07 to 0.09",
          "more than 0.09"
         ],
         "y": []
        },
        {
         "name": "KNN",
         "type": "bar",
         "x": [
          "less than -0.09",
          "-0.09 to -0.07",
          "-0.07 to -0.05",
          "-0.05 to -0.03",
          "-0.03 to -0.01",
          "-0.01 to 0.01",
          "0.01 to 0.03",
          "0.03 to 0.05",
          "0.05 to 0.07",
          "0.07 to 0.09",
          "more than 0.09"
         ],
         "y": [
          0,
          0,
          0,
          0,
          3,
          223,
          2,
          0,
          0,
          0,
          0
         ]
        },
        {
         "name": "Mean/Mode",
         "type": "bar",
         "x": [
          "less than -0.09",
          "-0.09 to -0.07",
          "-0.07 to -0.05",
          "-0.05 to -0.03",
          "-0.03 to -0.01",
          "-0.01 to 0.01",
          "0.01 to 0.03",
          "0.03 to 0.05",
          "0.05 to 0.07",
          "0.07 to 0.09",
          "more than 0.09"
         ],
         "y": [
          0,
          1,
          3,
          7,
          9,
          205,
          2,
          1,
          0,
          0,
          0
         ]
        },
        {
         "name": "Discriminative DL",
         "type": "bar",
         "x": [
          "less than -0.09",
          "-0.09 to -0.07",
          "-0.07 to -0.05",
          "-0.05 to -0.03",
          "-0.03 to -0.01",
          "-0.01 to 0.01",
          "0.01 to 0.03",
          "0.03 to 0.05",
          "0.05 to 0.07",
          "0.07 to 0.09",
          "more than 0.09"
         ],
         "y": [
          0,
          0,
          0,
          0,
          3,
          216,
          3,
          0,
          0,
          0,
          0
         ]
        },
        {
         "name": "VAE",
         "type": "bar",
         "x": [
          "less than -0.09",
          "-0.09 to -0.07",
          "-0.07 to -0.05",
          "-0.05 to -0.03",
          "-0.03 to -0.01",
          "-0.01 to 0.01",
          "0.01 to 0.03",
          "0.03 to 0.05",
          "0.05 to 0.07",
          "0.07 to 0.09",
          "more than 0.09"
         ],
         "y": [
          3,
          3,
          2,
          4,
          10,
          203,
          1,
          1,
          0,
          0,
          1
         ]
        },
        {
         "name": "GAIN",
         "type": "bar",
         "x": [
          "less than -0.09",
          "-0.09 to -0.07",
          "-0.07 to -0.05",
          "-0.05 to -0.03",
          "-0.03 to -0.01",
          "-0.01 to 0.01",
          "0.01 to 0.03",
          "0.03 to 0.05",
          "0.05 to 0.07",
          "0.07 to 0.09",
          "more than 0.09"
         ],
         "y": [
          7,
          2,
          3,
          9,
          21,
          162,
          4,
          0,
          0,
          0,
          0
         ]
        }
       ],
       "layout": {
        "barmode": "stack",
        "template": {
         "data": {
          "bar": [
           {
            "error_x": {
             "color": "#2a3f5f"
            },
            "error_y": {
             "color": "#2a3f5f"
            },
            "marker": {
             "line": {
              "color": "#E5ECF6",
              "width": 0.5
             },
             "pattern": {
              "fillmode": "overlay",
              "size": 10,
              "solidity": 0.2
             }
            },
            "type": "bar"
           }
          ],
          "barpolar": [
           {
            "marker": {
             "line": {
              "color": "#E5ECF6",
              "width": 0.5
             },
             "pattern": {
              "fillmode": "overlay",
              "size": 10,
              "solidity": 0.2
             }
            },
            "type": "barpolar"
           }
          ],
          "carpet": [
           {
            "aaxis": {
             "endlinecolor": "#2a3f5f",
             "gridcolor": "white",
             "linecolor": "white",
             "minorgridcolor": "white",
             "startlinecolor": "#2a3f5f"
            },
            "baxis": {
             "endlinecolor": "#2a3f5f",
             "gridcolor": "white",
             "linecolor": "white",
             "minorgridcolor": "white",
             "startlinecolor": "#2a3f5f"
            },
            "type": "carpet"
           }
          ],
          "choropleth": [
           {
            "colorbar": {
             "outlinewidth": 0,
             "ticks": ""
            },
            "type": "choropleth"
           }
          ],
          "contour": [
           {
            "colorbar": {
             "outlinewidth": 0,
             "ticks": ""
            },
            "colorscale": [
             [
              0,
              "#0d0887"
             ],
             [
              0.1111111111111111,
              "#46039f"
             ],
             [
              0.2222222222222222,
              "#7201a8"
             ],
             [
              0.3333333333333333,
              "#9c179e"
             ],
             [
              0.4444444444444444,
              "#bd3786"
             ],
             [
              0.5555555555555556,
              "#d8576b"
             ],
             [
              0.6666666666666666,
              "#ed7953"
             ],
             [
              0.7777777777777778,
              "#fb9f3a"
             ],
             [
              0.8888888888888888,
              "#fdca26"
             ],
             [
              1,
              "#f0f921"
             ]
            ],
            "type": "contour"
           }
          ],
          "contourcarpet": [
           {
            "colorbar": {
             "outlinewidth": 0,
             "ticks": ""
            },
            "type": "contourcarpet"
           }
          ],
          "heatmap": [
           {
            "colorbar": {
             "outlinewidth": 0,
             "ticks": ""
            },
            "colorscale": [
             [
              0,
              "#0d0887"
             ],
             [
              0.1111111111111111,
              "#46039f"
             ],
             [
              0.2222222222222222,
              "#7201a8"
             ],
             [
              0.3333333333333333,
              "#9c179e"
             ],
             [
              0.4444444444444444,
              "#bd3786"
             ],
             [
              0.5555555555555556,
              "#d8576b"
             ],
             [
              0.6666666666666666,
              "#ed7953"
             ],
             [
              0.7777777777777778,
              "#fb9f3a"
             ],
             [
              0.8888888888888888,
              "#fdca26"
             ],
             [
              1,
              "#f0f921"
             ]
            ],
            "type": "heatmap"
           }
          ],
          "heatmapgl": [
           {
            "colorbar": {
             "outlinewidth": 0,
             "ticks": ""
            },
            "colorscale": [
             [
              0,
              "#0d0887"
             ],
             [
              0.1111111111111111,
              "#46039f"
             ],
             [
              0.2222222222222222,
              "#7201a8"
             ],
             [
              0.3333333333333333,
              "#9c179e"
             ],
             [
              0.4444444444444444,
              "#bd3786"
             ],
             [
              0.5555555555555556,
              "#d8576b"
             ],
             [
              0.6666666666666666,
              "#ed7953"
             ],
             [
              0.7777777777777778,
              "#fb9f3a"
             ],
             [
              0.8888888888888888,
              "#fdca26"
             ],
             [
              1,
              "#f0f921"
             ]
            ],
            "type": "heatmapgl"
           }
          ],
          "histogram": [
           {
            "marker": {
             "pattern": {
              "fillmode": "overlay",
              "size": 10,
              "solidity": 0.2
             }
            },
            "type": "histogram"
           }
          ],
          "histogram2d": [
           {
            "colorbar": {
             "outlinewidth": 0,
             "ticks": ""
            },
            "colorscale": [
             [
              0,
              "#0d0887"
             ],
             [
              0.1111111111111111,
              "#46039f"
             ],
             [
              0.2222222222222222,
              "#7201a8"
             ],
             [
              0.3333333333333333,
              "#9c179e"
             ],
             [
              0.4444444444444444,
              "#bd3786"
             ],
             [
              0.5555555555555556,
              "#d8576b"
             ],
             [
              0.6666666666666666,
              "#ed7953"
             ],
             [
              0.7777777777777778,
              "#fb9f3a"
             ],
             [
              0.8888888888888888,
              "#fdca26"
             ],
             [
              1,
              "#f0f921"
             ]
            ],
            "type": "histogram2d"
           }
          ],
          "histogram2dcontour": [
           {
            "colorbar": {
             "outlinewidth": 0,
             "ticks": ""
            },
            "colorscale": [
             [
              0,
              "#0d0887"
             ],
             [
              0.1111111111111111,
              "#46039f"
             ],
             [
              0.2222222222222222,
              "#7201a8"
             ],
             [
              0.3333333333333333,
              "#9c179e"
             ],
             [
              0.4444444444444444,
              "#bd3786"
             ],
             [
              0.5555555555555556,
              "#d8576b"
             ],
             [
              0.6666666666666666,
              "#ed7953"
             ],
             [
              0.7777777777777778,
              "#fb9f3a"
             ],
             [
              0.8888888888888888,
              "#fdca26"
             ],
             [
              1,
              "#f0f921"
             ]
            ],
            "type": "histogram2dcontour"
           }
          ],
          "mesh3d": [
           {
            "colorbar": {
             "outlinewidth": 0,
             "ticks": ""
            },
            "type": "mesh3d"
           }
          ],
          "parcoords": [
           {
            "line": {
             "colorbar": {
              "outlinewidth": 0,
              "ticks": ""
             }
            },
            "type": "parcoords"
           }
          ],
          "pie": [
           {
            "automargin": true,
            "type": "pie"
           }
          ],
          "scatter": [
           {
            "fillpattern": {
             "fillmode": "overlay",
             "size": 10,
             "solidity": 0.2
            },
            "type": "scatter"
           }
          ],
          "scatter3d": [
           {
            "line": {
             "colorbar": {
              "outlinewidth": 0,
              "ticks": ""
             }
            },
            "marker": {
             "colorbar": {
              "outlinewidth": 0,
              "ticks": ""
             }
            },
            "type": "scatter3d"
           }
          ],
          "scattercarpet": [
           {
            "marker": {
             "colorbar": {
              "outlinewidth": 0,
              "ticks": ""
             }
            },
            "type": "scattercarpet"
           }
          ],
          "scattergeo": [
           {
            "marker": {
             "colorbar": {
              "outlinewidth": 0,
              "ticks": ""
             }
            },
            "type": "scattergeo"
           }
          ],
          "scattergl": [
           {
            "marker": {
             "colorbar": {
              "outlinewidth": 0,
              "ticks": ""
             }
            },
            "type": "scattergl"
           }
          ],
          "scattermapbox": [
           {
            "marker": {
             "colorbar": {
              "outlinewidth": 0,
              "ticks": ""
             }
            },
            "type": "scattermapbox"
           }
          ],
          "scatterpolar": [
           {
            "marker": {
             "colorbar": {
              "outlinewidth": 0,
              "ticks": ""
             }
            },
            "type": "scatterpolar"
           }
          ],
          "scatterpolargl": [
           {
            "marker": {
             "colorbar": {
              "outlinewidth": 0,
              "ticks": ""
             }
            },
            "type": "scatterpolargl"
           }
          ],
          "scatterternary": [
           {
            "marker": {
             "colorbar": {
              "outlinewidth": 0,
              "ticks": ""
             }
            },
            "type": "scatterternary"
           }
          ],
          "surface": [
           {
            "colorbar": {
             "outlinewidth": 0,
             "ticks": ""
            },
            "colorscale": [
             [
              0,
              "#0d0887"
             ],
             [
              0.1111111111111111,
              "#46039f"
             ],
             [
              0.2222222222222222,
              "#7201a8"
             ],
             [
              0.3333333333333333,
              "#9c179e"
             ],
             [
              0.4444444444444444,
              "#bd3786"
             ],
             [
              0.5555555555555556,
              "#d8576b"
             ],
             [
              0.6666666666666666,
              "#ed7953"
             ],
             [
              0.7777777777777778,
              "#fb9f3a"
             ],
             [
              0.8888888888888888,
              "#fdca26"
             ],
             [
              1,
              "#f0f921"
             ]
            ],
            "type": "surface"
           }
          ],
          "table": [
           {
            "cells": {
             "fill": {
              "color": "#EBF0F8"
             },
             "line": {
              "color": "white"
             }
            },
            "header": {
             "fill": {
              "color": "#C8D4E3"
             },
             "line": {
              "color": "white"
             }
            },
            "type": "table"
           }
          ]
         },
         "layout": {
          "annotationdefaults": {
           "arrowcolor": "#2a3f5f",
           "arrowhead": 0,
           "arrowwidth": 1
          },
          "autotypenumbers": "strict",
          "coloraxis": {
           "colorbar": {
            "outlinewidth": 0,
            "ticks": ""
           }
          },
          "colorscale": {
           "diverging": [
            [
             0,
             "#8e0152"
            ],
            [
             0.1,
             "#c51b7d"
            ],
            [
             0.2,
             "#de77ae"
            ],
            [
             0.3,
             "#f1b6da"
            ],
            [
             0.4,
             "#fde0ef"
            ],
            [
             0.5,
             "#f7f7f7"
            ],
            [
             0.6,
             "#e6f5d0"
            ],
            [
             0.7,
             "#b8e186"
            ],
            [
             0.8,
             "#7fbc41"
            ],
            [
             0.9,
             "#4d9221"
            ],
            [
             1,
             "#276419"
            ]
           ],
           "sequential": [
            [
             0,
             "#0d0887"
            ],
            [
             0.1111111111111111,
             "#46039f"
            ],
            [
             0.2222222222222222,
             "#7201a8"
            ],
            [
             0.3333333333333333,
             "#9c179e"
            ],
            [
             0.4444444444444444,
             "#bd3786"
            ],
            [
             0.5555555555555556,
             "#d8576b"
            ],
            [
             0.6666666666666666,
             "#ed7953"
            ],
            [
             0.7777777777777778,
             "#fb9f3a"
            ],
            [
             0.8888888888888888,
             "#fdca26"
            ],
            [
             1,
             "#f0f921"
            ]
           ],
           "sequentialminus": [
            [
             0,
             "#0d0887"
            ],
            [
             0.1111111111111111,
             "#46039f"
            ],
            [
             0.2222222222222222,
             "#7201a8"
            ],
            [
             0.3333333333333333,
             "#9c179e"
            ],
            [
             0.4444444444444444,
             "#bd3786"
            ],
            [
             0.5555555555555556,
             "#d8576b"
            ],
            [
             0.6666666666666666,
             "#ed7953"
            ],
            [
             0.7777777777777778,
             "#fb9f3a"
            ],
            [
             0.8888888888888888,
             "#fdca26"
            ],
            [
             1,
             "#f0f921"
            ]
           ]
          },
          "colorway": [
           "#636efa",
           "#EF553B",
           "#00cc96",
           "#ab63fa",
           "#FFA15A",
           "#19d3f3",
           "#FF6692",
           "#B6E880",
           "#FF97FF",
           "#FECB52"
          ],
          "font": {
           "color": "#2a3f5f"
          },
          "geo": {
           "bgcolor": "white",
           "lakecolor": "white",
           "landcolor": "#E5ECF6",
           "showlakes": true,
           "showland": true,
           "subunitcolor": "white"
          },
          "hoverlabel": {
           "align": "left"
          },
          "hovermode": "closest",
          "mapbox": {
           "style": "light"
          },
          "paper_bgcolor": "white",
          "plot_bgcolor": "#E5ECF6",
          "polar": {
           "angularaxis": {
            "gridcolor": "white",
            "linecolor": "white",
            "ticks": ""
           },
           "bgcolor": "#E5ECF6",
           "radialaxis": {
            "gridcolor": "white",
            "linecolor": "white",
            "ticks": ""
           }
          },
          "scene": {
           "xaxis": {
            "backgroundcolor": "#E5ECF6",
            "gridcolor": "white",
            "gridwidth": 2,
            "linecolor": "white",
            "showbackground": true,
            "ticks": "",
            "zerolinecolor": "white"
           },
           "yaxis": {
            "backgroundcolor": "#E5ECF6",
            "gridcolor": "white",
            "gridwidth": 2,
            "linecolor": "white",
            "showbackground": true,
            "ticks": "",
            "zerolinecolor": "white"
           },
           "zaxis": {
            "backgroundcolor": "#E5ECF6",
            "gridcolor": "white",
            "gridwidth": 2,
            "linecolor": "white",
            "showbackground": true,
            "ticks": "",
            "zerolinecolor": "white"
           }
          },
          "shapedefaults": {
           "line": {
            "color": "#2a3f5f"
           }
          },
          "ternary": {
           "aaxis": {
            "gridcolor": "white",
            "linecolor": "white",
            "ticks": ""
           },
           "baxis": {
            "gridcolor": "white",
            "linecolor": "white",
            "ticks": ""
           },
           "bgcolor": "#E5ECF6",
           "caxis": {
            "gridcolor": "white",
            "linecolor": "white",
            "ticks": ""
           }
          },
          "title": {
           "x": 0.05
          },
          "xaxis": {
           "automargin": true,
           "gridcolor": "white",
           "linecolor": "white",
           "ticks": "",
           "title": {
            "standoff": 15
           },
           "zerolinecolor": "white",
           "zerolinewidth": 2
          },
          "yaxis": {
           "automargin": true,
           "gridcolor": "white",
           "linecolor": "white",
           "ticks": "",
           "title": {
            "standoff": 15
           },
           "zerolinecolor": "white",
           "zerolinewidth": 2
          }
         }
        }
       }
      },
      "text/html": [
       "<div>                            <div id=\"cc3c56fb-25d3-41e2-b585-cf8c9e7b2159\" class=\"plotly-graph-div\" style=\"height:525px; width:100%;\"></div>            <script type=\"text/javascript\">                require([\"plotly\"], function(Plotly) {                    window.PLOTLYENV=window.PLOTLYENV || {};                                    if (document.getElementById(\"cc3c56fb-25d3-41e2-b585-cf8c9e7b2159\")) {                    Plotly.newPlot(                        \"cc3c56fb-25d3-41e2-b585-cf8c9e7b2159\",                        [{\"name\":\"Random Forest\",\"x\":[\"less than -0.09\",\"-0.09 to -0.07\",\"-0.07 to -0.05\",\"-0.05 to -0.03\",\"-0.03 to -0.01\",\"-0.01 to 0.01\",\"0.01 to 0.03\",\"0.03 to 0.05\",\"0.05 to 0.07\",\"0.07 to 0.09\",\"more than 0.09\"],\"y\":[],\"type\":\"bar\"},{\"name\":\"KNN\",\"x\":[\"less than -0.09\",\"-0.09 to -0.07\",\"-0.07 to -0.05\",\"-0.05 to -0.03\",\"-0.03 to -0.01\",\"-0.01 to 0.01\",\"0.01 to 0.03\",\"0.03 to 0.05\",\"0.05 to 0.07\",\"0.07 to 0.09\",\"more than 0.09\"],\"y\":[0,0,0,0,3,223,2,0,0,0,0],\"type\":\"bar\"},{\"name\":\"Mean/Mode\",\"x\":[\"less than -0.09\",\"-0.09 to -0.07\",\"-0.07 to -0.05\",\"-0.05 to -0.03\",\"-0.03 to -0.01\",\"-0.01 to 0.01\",\"0.01 to 0.03\",\"0.03 to 0.05\",\"0.05 to 0.07\",\"0.07 to 0.09\",\"more than 0.09\"],\"y\":[0,1,3,7,9,205,2,1,0,0,0],\"type\":\"bar\"},{\"name\":\"Discriminative DL\",\"x\":[\"less than -0.09\",\"-0.09 to -0.07\",\"-0.07 to -0.05\",\"-0.05 to -0.03\",\"-0.03 to -0.01\",\"-0.01 to 0.01\",\"0.01 to 0.03\",\"0.03 to 0.05\",\"0.05 to 0.07\",\"0.07 to 0.09\",\"more than 0.09\"],\"y\":[0,0,0,0,3,216,3,0,0,0,0],\"type\":\"bar\"},{\"name\":\"VAE\",\"x\":[\"less than -0.09\",\"-0.09 to -0.07\",\"-0.07 to -0.05\",\"-0.05 to -0.03\",\"-0.03 to -0.01\",\"-0.01 to 0.01\",\"0.01 to 0.03\",\"0.03 to 0.05\",\"0.05 to 0.07\",\"0.07 to 0.09\",\"more than 0.09\"],\"y\":[3,3,2,4,10,203,1,1,0,0,1],\"type\":\"bar\"},{\"name\":\"GAIN\",\"x\":[\"less than -0.09\",\"-0.09 to -0.07\",\"-0.07 to -0.05\",\"-0.05 to -0.03\",\"-0.03 to -0.01\",\"-0.01 to 0.01\",\"0.01 to 0.03\",\"0.03 to 0.05\",\"0.05 to 0.07\",\"0.07 to 0.09\",\"more than 0.09\"],\"y\":[7,2,3,9,21,162,4,0,0,0,0],\"type\":\"bar\"}],                        {\"template\":{\"data\":{\"histogram2dcontour\":[{\"type\":\"histogram2dcontour\",\"colorbar\":{\"outlinewidth\":0,\"ticks\":\"\"},\"colorscale\":[[0.0,\"#0d0887\"],[0.1111111111111111,\"#46039f\"],[0.2222222222222222,\"#7201a8\"],[0.3333333333333333,\"#9c179e\"],[0.4444444444444444,\"#bd3786\"],[0.5555555555555556,\"#d8576b\"],[0.6666666666666666,\"#ed7953\"],[0.7777777777777778,\"#fb9f3a\"],[0.8888888888888888,\"#fdca26\"],[1.0,\"#f0f921\"]]}],\"choropleth\":[{\"type\":\"choropleth\",\"colorbar\":{\"outlinewidth\":0,\"ticks\":\"\"}}],\"histogram2d\":[{\"type\":\"histogram2d\",\"colorbar\":{\"outlinewidth\":0,\"ticks\":\"\"},\"colorscale\":[[0.0,\"#0d0887\"],[0.1111111111111111,\"#46039f\"],[0.2222222222222222,\"#7201a8\"],[0.3333333333333333,\"#9c179e\"],[0.4444444444444444,\"#bd3786\"],[0.5555555555555556,\"#d8576b\"],[0.6666666666666666,\"#ed7953\"],[0.7777777777777778,\"#fb9f3a\"],[0.8888888888888888,\"#fdca26\"],[1.0,\"#f0f921\"]]}],\"heatmap\":[{\"type\":\"heatmap\",\"colorbar\":{\"outlinewidth\":0,\"ticks\":\"\"},\"colorscale\":[[0.0,\"#0d0887\"],[0.1111111111111111,\"#46039f\"],[0.2222222222222222,\"#7201a8\"],[0.3333333333333333,\"#9c179e\"],[0.4444444444444444,\"#bd3786\"],[0.5555555555555556,\"#d8576b\"],[0.6666666666666666,\"#ed7953\"],[0.7777777777777778,\"#fb9f3a\"],[0.8888888888888888,\"#fdca26\"],[1.0,\"#f0f921\"]]}],\"heatmapgl\":[{\"type\":\"heatmapgl\",\"colorbar\":{\"outlinewidth\":0,\"ticks\":\"\"},\"colorscale\":[[0.0,\"#0d0887\"],[0.1111111111111111,\"#46039f\"],[0.2222222222222222,\"#7201a8\"],[0.3333333333333333,\"#9c179e\"],[0.4444444444444444,\"#bd3786\"],[0.5555555555555556,\"#d8576b\"],[0.6666666666666666,\"#ed7953\"],[0.7777777777777778,\"#fb9f3a\"],[0.8888888888888888,\"#fdca26\"],[1.0,\"#f0f921\"]]}],\"contourcarpet\":[{\"type\":\"contourcarpet\",\"colorbar\":{\"outlinewidth\":0,\"ticks\":\"\"}}],\"contour\":[{\"type\":\"contour\",\"colorbar\":{\"outlinewidth\":0,\"ticks\":\"\"},\"colorscale\":[[0.0,\"#0d0887\"],[0.1111111111111111,\"#46039f\"],[0.2222222222222222,\"#7201a8\"],[0.3333333333333333,\"#9c179e\"],[0.4444444444444444,\"#bd3786\"],[0.5555555555555556,\"#d8576b\"],[0.6666666666666666,\"#ed7953\"],[0.7777777777777778,\"#fb9f3a\"],[0.8888888888888888,\"#fdca26\"],[1.0,\"#f0f921\"]]}],\"surface\":[{\"type\":\"surface\",\"colorbar\":{\"outlinewidth\":0,\"ticks\":\"\"},\"colorscale\":[[0.0,\"#0d0887\"],[0.1111111111111111,\"#46039f\"],[0.2222222222222222,\"#7201a8\"],[0.3333333333333333,\"#9c179e\"],[0.4444444444444444,\"#bd3786\"],[0.5555555555555556,\"#d8576b\"],[0.6666666666666666,\"#ed7953\"],[0.7777777777777778,\"#fb9f3a\"],[0.8888888888888888,\"#fdca26\"],[1.0,\"#f0f921\"]]}],\"mesh3d\":[{\"type\":\"mesh3d\",\"colorbar\":{\"outlinewidth\":0,\"ticks\":\"\"}}],\"scatter\":[{\"fillpattern\":{\"fillmode\":\"overlay\",\"size\":10,\"solidity\":0.2},\"type\":\"scatter\"}],\"parcoords\":[{\"type\":\"parcoords\",\"line\":{\"colorbar\":{\"outlinewidth\":0,\"ticks\":\"\"}}}],\"scatterpolargl\":[{\"type\":\"scatterpolargl\",\"marker\":{\"colorbar\":{\"outlinewidth\":0,\"ticks\":\"\"}}}],\"bar\":[{\"error_x\":{\"color\":\"#2a3f5f\"},\"error_y\":{\"color\":\"#2a3f5f\"},\"marker\":{\"line\":{\"color\":\"#E5ECF6\",\"width\":0.5},\"pattern\":{\"fillmode\":\"overlay\",\"size\":10,\"solidity\":0.2}},\"type\":\"bar\"}],\"scattergeo\":[{\"type\":\"scattergeo\",\"marker\":{\"colorbar\":{\"outlinewidth\":0,\"ticks\":\"\"}}}],\"scatterpolar\":[{\"type\":\"scatterpolar\",\"marker\":{\"colorbar\":{\"outlinewidth\":0,\"ticks\":\"\"}}}],\"histogram\":[{\"marker\":{\"pattern\":{\"fillmode\":\"overlay\",\"size\":10,\"solidity\":0.2}},\"type\":\"histogram\"}],\"scattergl\":[{\"type\":\"scattergl\",\"marker\":{\"colorbar\":{\"outlinewidth\":0,\"ticks\":\"\"}}}],\"scatter3d\":[{\"type\":\"scatter3d\",\"line\":{\"colorbar\":{\"outlinewidth\":0,\"ticks\":\"\"}},\"marker\":{\"colorbar\":{\"outlinewidth\":0,\"ticks\":\"\"}}}],\"scattermapbox\":[{\"type\":\"scattermapbox\",\"marker\":{\"colorbar\":{\"outlinewidth\":0,\"ticks\":\"\"}}}],\"scatterternary\":[{\"type\":\"scatterternary\",\"marker\":{\"colorbar\":{\"outlinewidth\":0,\"ticks\":\"\"}}}],\"scattercarpet\":[{\"type\":\"scattercarpet\",\"marker\":{\"colorbar\":{\"outlinewidth\":0,\"ticks\":\"\"}}}],\"carpet\":[{\"aaxis\":{\"endlinecolor\":\"#2a3f5f\",\"gridcolor\":\"white\",\"linecolor\":\"white\",\"minorgridcolor\":\"white\",\"startlinecolor\":\"#2a3f5f\"},\"baxis\":{\"endlinecolor\":\"#2a3f5f\",\"gridcolor\":\"white\",\"linecolor\":\"white\",\"minorgridcolor\":\"white\",\"startlinecolor\":\"#2a3f5f\"},\"type\":\"carpet\"}],\"table\":[{\"cells\":{\"fill\":{\"color\":\"#EBF0F8\"},\"line\":{\"color\":\"white\"}},\"header\":{\"fill\":{\"color\":\"#C8D4E3\"},\"line\":{\"color\":\"white\"}},\"type\":\"table\"}],\"barpolar\":[{\"marker\":{\"line\":{\"color\":\"#E5ECF6\",\"width\":0.5},\"pattern\":{\"fillmode\":\"overlay\",\"size\":10,\"solidity\":0.2}},\"type\":\"barpolar\"}],\"pie\":[{\"automargin\":true,\"type\":\"pie\"}]},\"layout\":{\"autotypenumbers\":\"strict\",\"colorway\":[\"#636efa\",\"#EF553B\",\"#00cc96\",\"#ab63fa\",\"#FFA15A\",\"#19d3f3\",\"#FF6692\",\"#B6E880\",\"#FF97FF\",\"#FECB52\"],\"font\":{\"color\":\"#2a3f5f\"},\"hovermode\":\"closest\",\"hoverlabel\":{\"align\":\"left\"},\"paper_bgcolor\":\"white\",\"plot_bgcolor\":\"#E5ECF6\",\"polar\":{\"bgcolor\":\"#E5ECF6\",\"angularaxis\":{\"gridcolor\":\"white\",\"linecolor\":\"white\",\"ticks\":\"\"},\"radialaxis\":{\"gridcolor\":\"white\",\"linecolor\":\"white\",\"ticks\":\"\"}},\"ternary\":{\"bgcolor\":\"#E5ECF6\",\"aaxis\":{\"gridcolor\":\"white\",\"linecolor\":\"white\",\"ticks\":\"\"},\"baxis\":{\"gridcolor\":\"white\",\"linecolor\":\"white\",\"ticks\":\"\"},\"caxis\":{\"gridcolor\":\"white\",\"linecolor\":\"white\",\"ticks\":\"\"}},\"coloraxis\":{\"colorbar\":{\"outlinewidth\":0,\"ticks\":\"\"}},\"colorscale\":{\"sequential\":[[0.0,\"#0d0887\"],[0.1111111111111111,\"#46039f\"],[0.2222222222222222,\"#7201a8\"],[0.3333333333333333,\"#9c179e\"],[0.4444444444444444,\"#bd3786\"],[0.5555555555555556,\"#d8576b\"],[0.6666666666666666,\"#ed7953\"],[0.7777777777777778,\"#fb9f3a\"],[0.8888888888888888,\"#fdca26\"],[1.0,\"#f0f921\"]],\"sequentialminus\":[[0.0,\"#0d0887\"],[0.1111111111111111,\"#46039f\"],[0.2222222222222222,\"#7201a8\"],[0.3333333333333333,\"#9c179e\"],[0.4444444444444444,\"#bd3786\"],[0.5555555555555556,\"#d8576b\"],[0.6666666666666666,\"#ed7953\"],[0.7777777777777778,\"#fb9f3a\"],[0.8888888888888888,\"#fdca26\"],[1.0,\"#f0f921\"]],\"diverging\":[[0,\"#8e0152\"],[0.1,\"#c51b7d\"],[0.2,\"#de77ae\"],[0.3,\"#f1b6da\"],[0.4,\"#fde0ef\"],[0.5,\"#f7f7f7\"],[0.6,\"#e6f5d0\"],[0.7,\"#b8e186\"],[0.8,\"#7fbc41\"],[0.9,\"#4d9221\"],[1,\"#276419\"]]},\"xaxis\":{\"gridcolor\":\"white\",\"linecolor\":\"white\",\"ticks\":\"\",\"title\":{\"standoff\":15},\"zerolinecolor\":\"white\",\"automargin\":true,\"zerolinewidth\":2},\"yaxis\":{\"gridcolor\":\"white\",\"linecolor\":\"white\",\"ticks\":\"\",\"title\":{\"standoff\":15},\"zerolinecolor\":\"white\",\"automargin\":true,\"zerolinewidth\":2},\"scene\":{\"xaxis\":{\"backgroundcolor\":\"#E5ECF6\",\"gridcolor\":\"white\",\"linecolor\":\"white\",\"showbackground\":true,\"ticks\":\"\",\"zerolinecolor\":\"white\",\"gridwidth\":2},\"yaxis\":{\"backgroundcolor\":\"#E5ECF6\",\"gridcolor\":\"white\",\"linecolor\":\"white\",\"showbackground\":true,\"ticks\":\"\",\"zerolinecolor\":\"white\",\"gridwidth\":2},\"zaxis\":{\"backgroundcolor\":\"#E5ECF6\",\"gridcolor\":\"white\",\"linecolor\":\"white\",\"showbackground\":true,\"ticks\":\"\",\"zerolinecolor\":\"white\",\"gridwidth\":2}},\"shapedefaults\":{\"line\":{\"color\":\"#2a3f5f\"}},\"annotationdefaults\":{\"arrowcolor\":\"#2a3f5f\",\"arrowhead\":0,\"arrowwidth\":1},\"geo\":{\"bgcolor\":\"white\",\"landcolor\":\"#E5ECF6\",\"subunitcolor\":\"white\",\"showland\":true,\"showlakes\":true,\"lakecolor\":\"white\"},\"title\":{\"x\":0.05},\"mapbox\":{\"style\":\"light\"}}},\"barmode\":\"stack\"},                        {\"responsive\": true}                    ).then(function(){\n",
       "                            \n",
       "var gd = document.getElementById('cc3c56fb-25d3-41e2-b585-cf8c9e7b2159');\n",
       "var x = new MutationObserver(function (mutations, observer) {{\n",
       "        var display = window.getComputedStyle(gd).display;\n",
       "        if (!display || display === 'none') {{\n",
       "            console.log([gd, 'removed!']);\n",
       "            Plotly.purge(gd);\n",
       "            observer.disconnect();\n",
       "        }}\n",
       "}});\n",
       "\n",
       "// Listen for the removal of the full notebook cells\n",
       "var notebookContainer = gd.closest('#notebook-container');\n",
       "if (notebookContainer) {{\n",
       "    x.observe(notebookContainer, {childList: true});\n",
       "}}\n",
       "\n",
       "// Listen for the clearing of the current output cell\n",
       "var outputEl = gd.closest('.output');\n",
       "if (outputEl) {{\n",
       "    x.observe(outputEl, {childList: true});\n",
       "}}\n",
       "\n",
       "                        })                };                });            </script>        </div>"
      ]
     },
     "metadata": {},
     "output_type": "display_data"
    }
   ],
   "source": [
    "quantiles = ['less than -0.09', '-0.09 to -0.07', '-0.07 to -0.05', '-0.05 to -0.03','-0.03 to -0.01', '-0.01 to 0.01', '0.01 to 0.03', '0.03 to 0.05', '0.05 to 0.07', '0.07 to 0.09', 'more than 0.09']\n",
    "\n",
    "fig = go.Figure(data=[\n",
    "    go.Bar(name='Random Forest', x=quantiles, y=forest_freq),\n",
    "    go.Bar(name='KNN', x=quantiles, y=knn_freq),\n",
    "    go.Bar(name='Mean/Mode', x=quantiles, y=mode_freq),\n",
    "    go.Bar(name='Discriminative DL', x=quantiles, y=dl_freq),\n",
    "    go.Bar(name='VAE', x=quantiles, y=vae_freq),\n",
    "    go.Bar(name='GAIN', x=quantiles, y=gain_freq)\n",
    "])\n",
    "# Change the bar mode\n",
    "fig.update_layout(barmode='stack')\n",
    "fig.show()\n",
    "fig.write_image(\"improv_rel_to_av_all_DC_no_av_incl_per_method.pdf\")"
   ]
  },
  {
   "cell_type": "code",
   "execution_count": null,
   "id": "563bbca4",
   "metadata": {},
   "outputs": [
    {
     "name": "stdout",
     "output_type": "stream",
     "text": [
      "[0, 0, 0, 0, 0, 267, 0, 0, 0, 0, 0]\n",
      "[2, 0, 1, 1, 17, 259, 0, 0, 0, 0, 0]\n",
      "[3, 3, 5, 7, 12, 248, 5, 0, 0, 0, 1]\n",
      "[5, 3, 2, 12, 17, 235, 7, 2, 0, 0, 0]\n"
     ]
    }
   ],
   "source": [
    "# split barchart stacks into methods\n",
    "\n",
    "quantile_datasets = [df_10, df_09, df_07, df_05, df_03, df_01, df01, df03, df05, df07, df09]\n",
    "\n",
    "fractions = ['0.01', '0.1', '0.3', '0.5']\n",
    "#print(fractions)\n",
    "#print(df_10)\n",
    "\n",
    "freq_001 = []\n",
    "freq_01 = []\n",
    "freq_03 = []\n",
    "freq_05 = []\n",
    "#print(quantile_datasets)\n",
    "\n",
    "for i in fractions:\n",
    "    for j in quantile_datasets:\n",
    "        df_temp = j.copy()\n",
    "        df_temp = df_temp[df_temp['Missing Fraction'].str.contains(i)]\n",
    "        df_temp_len = len(df_temp.index)\n",
    "        if (i == '0.01'):\n",
    "            freq_001.append(df_temp_len)\n",
    "        elif (i == '0.1'):\n",
    "            freq_01.append(df_temp_len)                                       \n",
    "        elif (i == '0.3'):\n",
    "            freq_03.append(df_temp_len)                                                 \n",
    "        elif (i == '0.5'):\n",
    "            freq_05.append(df_temp_len)                                       \n",
    "                                        \n",
    "                                       \n",
    "print(freq_001)\n",
    "print(freq_01)\n",
    "print(freq_03)\n",
    "print(freq_05)"
   ]
  },
  {
   "cell_type": "code",
   "execution_count": null,
   "id": "115db008",
   "metadata": {},
   "outputs": [
    {
     "data": {
      "application/vnd.plotly.v1+json": {
       "config": {
        "plotlyServerURL": "https://plot.ly"
       },
       "data": [
        {
         "marker": {
          "color": "#FD3216"
         },
         "name": "1% Missing Data",
         "type": "bar",
         "x": [
          "less than -0.09",
          "-0.09 to -0.07",
          "-0.07 to -0.05",
          "-0.05 to -0.03",
          "-0.03 to -0.01",
          "-0.01 to 0.01",
          "0.01 to 0.03",
          "0.03 to 0.05",
          "0.05 to 0.07",
          "0.07 to 0.09",
          "more than 0.09"
         ],
         "y": [
          0,
          0,
          0,
          0,
          0,
          267,
          0,
          0,
          0,
          0,
          0
         ]
        },
        {
         "marker": {
          "color": "#00FE35"
         },
         "name": "10% Missing Data",
         "type": "bar",
         "x": [
          "less than -0.09",
          "-0.09 to -0.07",
          "-0.07 to -0.05",
          "-0.05 to -0.03",
          "-0.03 to -0.01",
          "-0.01 to 0.01",
          "0.01 to 0.03",
          "0.03 to 0.05",
          "0.05 to 0.07",
          "0.07 to 0.09",
          "more than 0.09"
         ],
         "y": [
          2,
          0,
          1,
          1,
          17,
          259,
          0,
          0,
          0,
          0,
          0
         ]
        },
        {
         "marker": {
          "color": "#511CFB"
         },
         "name": "30% Missing Data",
         "type": "bar",
         "x": [
          "less than -0.09",
          "-0.09 to -0.07",
          "-0.07 to -0.05",
          "-0.05 to -0.03",
          "-0.03 to -0.01",
          "-0.01 to 0.01",
          "0.01 to 0.03",
          "0.03 to 0.05",
          "0.05 to 0.07",
          "0.07 to 0.09",
          "more than 0.09"
         ],
         "y": [
          3,
          3,
          5,
          7,
          12,
          248,
          5,
          0,
          0,
          0,
          1
         ]
        },
        {
         "marker": {
          "color": "#FF7F0E"
         },
         "name": "50% Missing Data",
         "type": "bar",
         "x": [
          "less than -0.09",
          "-0.09 to -0.07",
          "-0.07 to -0.05",
          "-0.05 to -0.03",
          "-0.03 to -0.01",
          "-0.01 to 0.01",
          "0.01 to 0.03",
          "0.03 to 0.05",
          "0.05 to 0.07",
          "0.07 to 0.09",
          "more than 0.09"
         ],
         "y": [
          5,
          3,
          2,
          12,
          17,
          235,
          7,
          2,
          0,
          0,
          0
         ]
        }
       ],
       "layout": {
        "barmode": "stack",
        "template": {
         "data": {
          "bar": [
           {
            "error_x": {
             "color": "#2a3f5f"
            },
            "error_y": {
             "color": "#2a3f5f"
            },
            "marker": {
             "line": {
              "color": "#E5ECF6",
              "width": 0.5
             },
             "pattern": {
              "fillmode": "overlay",
              "size": 10,
              "solidity": 0.2
             }
            },
            "type": "bar"
           }
          ],
          "barpolar": [
           {
            "marker": {
             "line": {
              "color": "#E5ECF6",
              "width": 0.5
             },
             "pattern": {
              "fillmode": "overlay",
              "size": 10,
              "solidity": 0.2
             }
            },
            "type": "barpolar"
           }
          ],
          "carpet": [
           {
            "aaxis": {
             "endlinecolor": "#2a3f5f",
             "gridcolor": "white",
             "linecolor": "white",
             "minorgridcolor": "white",
             "startlinecolor": "#2a3f5f"
            },
            "baxis": {
             "endlinecolor": "#2a3f5f",
             "gridcolor": "white",
             "linecolor": "white",
             "minorgridcolor": "white",
             "startlinecolor": "#2a3f5f"
            },
            "type": "carpet"
           }
          ],
          "choropleth": [
           {
            "colorbar": {
             "outlinewidth": 0,
             "ticks": ""
            },
            "type": "choropleth"
           }
          ],
          "contour": [
           {
            "colorbar": {
             "outlinewidth": 0,
             "ticks": ""
            },
            "colorscale": [
             [
              0,
              "#0d0887"
             ],
             [
              0.1111111111111111,
              "#46039f"
             ],
             [
              0.2222222222222222,
              "#7201a8"
             ],
             [
              0.3333333333333333,
              "#9c179e"
             ],
             [
              0.4444444444444444,
              "#bd3786"
             ],
             [
              0.5555555555555556,
              "#d8576b"
             ],
             [
              0.6666666666666666,
              "#ed7953"
             ],
             [
              0.7777777777777778,
              "#fb9f3a"
             ],
             [
              0.8888888888888888,
              "#fdca26"
             ],
             [
              1,
              "#f0f921"
             ]
            ],
            "type": "contour"
           }
          ],
          "contourcarpet": [
           {
            "colorbar": {
             "outlinewidth": 0,
             "ticks": ""
            },
            "type": "contourcarpet"
           }
          ],
          "heatmap": [
           {
            "colorbar": {
             "outlinewidth": 0,
             "ticks": ""
            },
            "colorscale": [
             [
              0,
              "#0d0887"
             ],
             [
              0.1111111111111111,
              "#46039f"
             ],
             [
              0.2222222222222222,
              "#7201a8"
             ],
             [
              0.3333333333333333,
              "#9c179e"
             ],
             [
              0.4444444444444444,
              "#bd3786"
             ],
             [
              0.5555555555555556,
              "#d8576b"
             ],
             [
              0.6666666666666666,
              "#ed7953"
             ],
             [
              0.7777777777777778,
              "#fb9f3a"
             ],
             [
              0.8888888888888888,
              "#fdca26"
             ],
             [
              1,
              "#f0f921"
             ]
            ],
            "type": "heatmap"
           }
          ],
          "heatmapgl": [
           {
            "colorbar": {
             "outlinewidth": 0,
             "ticks": ""
            },
            "colorscale": [
             [
              0,
              "#0d0887"
             ],
             [
              0.1111111111111111,
              "#46039f"
             ],
             [
              0.2222222222222222,
              "#7201a8"
             ],
             [
              0.3333333333333333,
              "#9c179e"
             ],
             [
              0.4444444444444444,
              "#bd3786"
             ],
             [
              0.5555555555555556,
              "#d8576b"
             ],
             [
              0.6666666666666666,
              "#ed7953"
             ],
             [
              0.7777777777777778,
              "#fb9f3a"
             ],
             [
              0.8888888888888888,
              "#fdca26"
             ],
             [
              1,
              "#f0f921"
             ]
            ],
            "type": "heatmapgl"
           }
          ],
          "histogram": [
           {
            "marker": {
             "pattern": {
              "fillmode": "overlay",
              "size": 10,
              "solidity": 0.2
             }
            },
            "type": "histogram"
           }
          ],
          "histogram2d": [
           {
            "colorbar": {
             "outlinewidth": 0,
             "ticks": ""
            },
            "colorscale": [
             [
              0,
              "#0d0887"
             ],
             [
              0.1111111111111111,
              "#46039f"
             ],
             [
              0.2222222222222222,
              "#7201a8"
             ],
             [
              0.3333333333333333,
              "#9c179e"
             ],
             [
              0.4444444444444444,
              "#bd3786"
             ],
             [
              0.5555555555555556,
              "#d8576b"
             ],
             [
              0.6666666666666666,
              "#ed7953"
             ],
             [
              0.7777777777777778,
              "#fb9f3a"
             ],
             [
              0.8888888888888888,
              "#fdca26"
             ],
             [
              1,
              "#f0f921"
             ]
            ],
            "type": "histogram2d"
           }
          ],
          "histogram2dcontour": [
           {
            "colorbar": {
             "outlinewidth": 0,
             "ticks": ""
            },
            "colorscale": [
             [
              0,
              "#0d0887"
             ],
             [
              0.1111111111111111,
              "#46039f"
             ],
             [
              0.2222222222222222,
              "#7201a8"
             ],
             [
              0.3333333333333333,
              "#9c179e"
             ],
             [
              0.4444444444444444,
              "#bd3786"
             ],
             [
              0.5555555555555556,
              "#d8576b"
             ],
             [
              0.6666666666666666,
              "#ed7953"
             ],
             [
              0.7777777777777778,
              "#fb9f3a"
             ],
             [
              0.8888888888888888,
              "#fdca26"
             ],
             [
              1,
              "#f0f921"
             ]
            ],
            "type": "histogram2dcontour"
           }
          ],
          "mesh3d": [
           {
            "colorbar": {
             "outlinewidth": 0,
             "ticks": ""
            },
            "type": "mesh3d"
           }
          ],
          "parcoords": [
           {
            "line": {
             "colorbar": {
              "outlinewidth": 0,
              "ticks": ""
             }
            },
            "type": "parcoords"
           }
          ],
          "pie": [
           {
            "automargin": true,
            "type": "pie"
           }
          ],
          "scatter": [
           {
            "fillpattern": {
             "fillmode": "overlay",
             "size": 10,
             "solidity": 0.2
            },
            "type": "scatter"
           }
          ],
          "scatter3d": [
           {
            "line": {
             "colorbar": {
              "outlinewidth": 0,
              "ticks": ""
             }
            },
            "marker": {
             "colorbar": {
              "outlinewidth": 0,
              "ticks": ""
             }
            },
            "type": "scatter3d"
           }
          ],
          "scattercarpet": [
           {
            "marker": {
             "colorbar": {
              "outlinewidth": 0,
              "ticks": ""
             }
            },
            "type": "scattercarpet"
           }
          ],
          "scattergeo": [
           {
            "marker": {
             "colorbar": {
              "outlinewidth": 0,
              "ticks": ""
             }
            },
            "type": "scattergeo"
           }
          ],
          "scattergl": [
           {
            "marker": {
             "colorbar": {
              "outlinewidth": 0,
              "ticks": ""
             }
            },
            "type": "scattergl"
           }
          ],
          "scattermapbox": [
           {
            "marker": {
             "colorbar": {
              "outlinewidth": 0,
              "ticks": ""
             }
            },
            "type": "scattermapbox"
           }
          ],
          "scatterpolar": [
           {
            "marker": {
             "colorbar": {
              "outlinewidth": 0,
              "ticks": ""
             }
            },
            "type": "scatterpolar"
           }
          ],
          "scatterpolargl": [
           {
            "marker": {
             "colorbar": {
              "outlinewidth": 0,
              "ticks": ""
             }
            },
            "type": "scatterpolargl"
           }
          ],
          "scatterternary": [
           {
            "marker": {
             "colorbar": {
              "outlinewidth": 0,
              "ticks": ""
             }
            },
            "type": "scatterternary"
           }
          ],
          "surface": [
           {
            "colorbar": {
             "outlinewidth": 0,
             "ticks": ""
            },
            "colorscale": [
             [
              0,
              "#0d0887"
             ],
             [
              0.1111111111111111,
              "#46039f"
             ],
             [
              0.2222222222222222,
              "#7201a8"
             ],
             [
              0.3333333333333333,
              "#9c179e"
             ],
             [
              0.4444444444444444,
              "#bd3786"
             ],
             [
              0.5555555555555556,
              "#d8576b"
             ],
             [
              0.6666666666666666,
              "#ed7953"
             ],
             [
              0.7777777777777778,
              "#fb9f3a"
             ],
             [
              0.8888888888888888,
              "#fdca26"
             ],
             [
              1,
              "#f0f921"
             ]
            ],
            "type": "surface"
           }
          ],
          "table": [
           {
            "cells": {
             "fill": {
              "color": "#EBF0F8"
             },
             "line": {
              "color": "white"
             }
            },
            "header": {
             "fill": {
              "color": "#C8D4E3"
             },
             "line": {
              "color": "white"
             }
            },
            "type": "table"
           }
          ]
         },
         "layout": {
          "annotationdefaults": {
           "arrowcolor": "#2a3f5f",
           "arrowhead": 0,
           "arrowwidth": 1
          },
          "autotypenumbers": "strict",
          "coloraxis": {
           "colorbar": {
            "outlinewidth": 0,
            "ticks": ""
           }
          },
          "colorscale": {
           "diverging": [
            [
             0,
             "#8e0152"
            ],
            [
             0.1,
             "#c51b7d"
            ],
            [
             0.2,
             "#de77ae"
            ],
            [
             0.3,
             "#f1b6da"
            ],
            [
             0.4,
             "#fde0ef"
            ],
            [
             0.5,
             "#f7f7f7"
            ],
            [
             0.6,
             "#e6f5d0"
            ],
            [
             0.7,
             "#b8e186"
            ],
            [
             0.8,
             "#7fbc41"
            ],
            [
             0.9,
             "#4d9221"
            ],
            [
             1,
             "#276419"
            ]
           ],
           "sequential": [
            [
             0,
             "#0d0887"
            ],
            [
             0.1111111111111111,
             "#46039f"
            ],
            [
             0.2222222222222222,
             "#7201a8"
            ],
            [
             0.3333333333333333,
             "#9c179e"
            ],
            [
             0.4444444444444444,
             "#bd3786"
            ],
            [
             0.5555555555555556,
             "#d8576b"
            ],
            [
             0.6666666666666666,
             "#ed7953"
            ],
            [
             0.7777777777777778,
             "#fb9f3a"
            ],
            [
             0.8888888888888888,
             "#fdca26"
            ],
            [
             1,
             "#f0f921"
            ]
           ],
           "sequentialminus": [
            [
             0,
             "#0d0887"
            ],
            [
             0.1111111111111111,
             "#46039f"
            ],
            [
             0.2222222222222222,
             "#7201a8"
            ],
            [
             0.3333333333333333,
             "#9c179e"
            ],
            [
             0.4444444444444444,
             "#bd3786"
            ],
            [
             0.5555555555555556,
             "#d8576b"
            ],
            [
             0.6666666666666666,
             "#ed7953"
            ],
            [
             0.7777777777777778,
             "#fb9f3a"
            ],
            [
             0.8888888888888888,
             "#fdca26"
            ],
            [
             1,
             "#f0f921"
            ]
           ]
          },
          "colorway": [
           "#636efa",
           "#EF553B",
           "#00cc96",
           "#ab63fa",
           "#FFA15A",
           "#19d3f3",
           "#FF6692",
           "#B6E880",
           "#FF97FF",
           "#FECB52"
          ],
          "font": {
           "color": "#2a3f5f"
          },
          "geo": {
           "bgcolor": "white",
           "lakecolor": "white",
           "landcolor": "#E5ECF6",
           "showlakes": true,
           "showland": true,
           "subunitcolor": "white"
          },
          "hoverlabel": {
           "align": "left"
          },
          "hovermode": "closest",
          "mapbox": {
           "style": "light"
          },
          "paper_bgcolor": "white",
          "plot_bgcolor": "#E5ECF6",
          "polar": {
           "angularaxis": {
            "gridcolor": "white",
            "linecolor": "white",
            "ticks": ""
           },
           "bgcolor": "#E5ECF6",
           "radialaxis": {
            "gridcolor": "white",
            "linecolor": "white",
            "ticks": ""
           }
          },
          "scene": {
           "xaxis": {
            "backgroundcolor": "#E5ECF6",
            "gridcolor": "white",
            "gridwidth": 2,
            "linecolor": "white",
            "showbackground": true,
            "ticks": "",
            "zerolinecolor": "white"
           },
           "yaxis": {
            "backgroundcolor": "#E5ECF6",
            "gridcolor": "white",
            "gridwidth": 2,
            "linecolor": "white",
            "showbackground": true,
            "ticks": "",
            "zerolinecolor": "white"
           },
           "zaxis": {
            "backgroundcolor": "#E5ECF6",
            "gridcolor": "white",
            "gridwidth": 2,
            "linecolor": "white",
            "showbackground": true,
            "ticks": "",
            "zerolinecolor": "white"
           }
          },
          "shapedefaults": {
           "line": {
            "color": "#2a3f5f"
           }
          },
          "ternary": {
           "aaxis": {
            "gridcolor": "white",
            "linecolor": "white",
            "ticks": ""
           },
           "baxis": {
            "gridcolor": "white",
            "linecolor": "white",
            "ticks": ""
           },
           "bgcolor": "#E5ECF6",
           "caxis": {
            "gridcolor": "white",
            "linecolor": "white",
            "ticks": ""
           }
          },
          "title": {
           "x": 0.05
          },
          "xaxis": {
           "automargin": true,
           "gridcolor": "white",
           "linecolor": "white",
           "ticks": "",
           "title": {
            "standoff": 15
           },
           "zerolinecolor": "white",
           "zerolinewidth": 2
          },
          "yaxis": {
           "automargin": true,
           "gridcolor": "white",
           "linecolor": "white",
           "ticks": "",
           "title": {
            "standoff": 15
           },
           "zerolinecolor": "white",
           "zerolinewidth": 2
          }
         }
        }
       }
      },
      "text/html": [
       "<div>                            <div id=\"c4438901-4d2f-40eb-bf12-900c459b8052\" class=\"plotly-graph-div\" style=\"height:525px; width:100%;\"></div>            <script type=\"text/javascript\">                require([\"plotly\"], function(Plotly) {                    window.PLOTLYENV=window.PLOTLYENV || {};                                    if (document.getElementById(\"c4438901-4d2f-40eb-bf12-900c459b8052\")) {                    Plotly.newPlot(                        \"c4438901-4d2f-40eb-bf12-900c459b8052\",                        [{\"marker\":{\"color\":\"#FD3216\"},\"name\":\"1% Missing Data\",\"x\":[\"less than -0.09\",\"-0.09 to -0.07\",\"-0.07 to -0.05\",\"-0.05 to -0.03\",\"-0.03 to -0.01\",\"-0.01 to 0.01\",\"0.01 to 0.03\",\"0.03 to 0.05\",\"0.05 to 0.07\",\"0.07 to 0.09\",\"more than 0.09\"],\"y\":[0,0,0,0,0,267,0,0,0,0,0],\"type\":\"bar\"},{\"marker\":{\"color\":\"#00FE35\"},\"name\":\"10% Missing Data\",\"x\":[\"less than -0.09\",\"-0.09 to -0.07\",\"-0.07 to -0.05\",\"-0.05 to -0.03\",\"-0.03 to -0.01\",\"-0.01 to 0.01\",\"0.01 to 0.03\",\"0.03 to 0.05\",\"0.05 to 0.07\",\"0.07 to 0.09\",\"more than 0.09\"],\"y\":[2,0,1,1,17,259,0,0,0,0,0],\"type\":\"bar\"},{\"marker\":{\"color\":\"#511CFB\"},\"name\":\"30% Missing Data\",\"x\":[\"less than -0.09\",\"-0.09 to -0.07\",\"-0.07 to -0.05\",\"-0.05 to -0.03\",\"-0.03 to -0.01\",\"-0.01 to 0.01\",\"0.01 to 0.03\",\"0.03 to 0.05\",\"0.05 to 0.07\",\"0.07 to 0.09\",\"more than 0.09\"],\"y\":[3,3,5,7,12,248,5,0,0,0,1],\"type\":\"bar\"},{\"marker\":{\"color\":\"#FF7F0E\"},\"name\":\"50% Missing Data\",\"x\":[\"less than -0.09\",\"-0.09 to -0.07\",\"-0.07 to -0.05\",\"-0.05 to -0.03\",\"-0.03 to -0.01\",\"-0.01 to 0.01\",\"0.01 to 0.03\",\"0.03 to 0.05\",\"0.05 to 0.07\",\"0.07 to 0.09\",\"more than 0.09\"],\"y\":[5,3,2,12,17,235,7,2,0,0,0],\"type\":\"bar\"}],                        {\"template\":{\"data\":{\"histogram2dcontour\":[{\"type\":\"histogram2dcontour\",\"colorbar\":{\"outlinewidth\":0,\"ticks\":\"\"},\"colorscale\":[[0.0,\"#0d0887\"],[0.1111111111111111,\"#46039f\"],[0.2222222222222222,\"#7201a8\"],[0.3333333333333333,\"#9c179e\"],[0.4444444444444444,\"#bd3786\"],[0.5555555555555556,\"#d8576b\"],[0.6666666666666666,\"#ed7953\"],[0.7777777777777778,\"#fb9f3a\"],[0.8888888888888888,\"#fdca26\"],[1.0,\"#f0f921\"]]}],\"choropleth\":[{\"type\":\"choropleth\",\"colorbar\":{\"outlinewidth\":0,\"ticks\":\"\"}}],\"histogram2d\":[{\"type\":\"histogram2d\",\"colorbar\":{\"outlinewidth\":0,\"ticks\":\"\"},\"colorscale\":[[0.0,\"#0d0887\"],[0.1111111111111111,\"#46039f\"],[0.2222222222222222,\"#7201a8\"],[0.3333333333333333,\"#9c179e\"],[0.4444444444444444,\"#bd3786\"],[0.5555555555555556,\"#d8576b\"],[0.6666666666666666,\"#ed7953\"],[0.7777777777777778,\"#fb9f3a\"],[0.8888888888888888,\"#fdca26\"],[1.0,\"#f0f921\"]]}],\"heatmap\":[{\"type\":\"heatmap\",\"colorbar\":{\"outlinewidth\":0,\"ticks\":\"\"},\"colorscale\":[[0.0,\"#0d0887\"],[0.1111111111111111,\"#46039f\"],[0.2222222222222222,\"#7201a8\"],[0.3333333333333333,\"#9c179e\"],[0.4444444444444444,\"#bd3786\"],[0.5555555555555556,\"#d8576b\"],[0.6666666666666666,\"#ed7953\"],[0.7777777777777778,\"#fb9f3a\"],[0.8888888888888888,\"#fdca26\"],[1.0,\"#f0f921\"]]}],\"heatmapgl\":[{\"type\":\"heatmapgl\",\"colorbar\":{\"outlinewidth\":0,\"ticks\":\"\"},\"colorscale\":[[0.0,\"#0d0887\"],[0.1111111111111111,\"#46039f\"],[0.2222222222222222,\"#7201a8\"],[0.3333333333333333,\"#9c179e\"],[0.4444444444444444,\"#bd3786\"],[0.5555555555555556,\"#d8576b\"],[0.6666666666666666,\"#ed7953\"],[0.7777777777777778,\"#fb9f3a\"],[0.8888888888888888,\"#fdca26\"],[1.0,\"#f0f921\"]]}],\"contourcarpet\":[{\"type\":\"contourcarpet\",\"colorbar\":{\"outlinewidth\":0,\"ticks\":\"\"}}],\"contour\":[{\"type\":\"contour\",\"colorbar\":{\"outlinewidth\":0,\"ticks\":\"\"},\"colorscale\":[[0.0,\"#0d0887\"],[0.1111111111111111,\"#46039f\"],[0.2222222222222222,\"#7201a8\"],[0.3333333333333333,\"#9c179e\"],[0.4444444444444444,\"#bd3786\"],[0.5555555555555556,\"#d8576b\"],[0.6666666666666666,\"#ed7953\"],[0.7777777777777778,\"#fb9f3a\"],[0.8888888888888888,\"#fdca26\"],[1.0,\"#f0f921\"]]}],\"surface\":[{\"type\":\"surface\",\"colorbar\":{\"outlinewidth\":0,\"ticks\":\"\"},\"colorscale\":[[0.0,\"#0d0887\"],[0.1111111111111111,\"#46039f\"],[0.2222222222222222,\"#7201a8\"],[0.3333333333333333,\"#9c179e\"],[0.4444444444444444,\"#bd3786\"],[0.5555555555555556,\"#d8576b\"],[0.6666666666666666,\"#ed7953\"],[0.7777777777777778,\"#fb9f3a\"],[0.8888888888888888,\"#fdca26\"],[1.0,\"#f0f921\"]]}],\"mesh3d\":[{\"type\":\"mesh3d\",\"colorbar\":{\"outlinewidth\":0,\"ticks\":\"\"}}],\"scatter\":[{\"fillpattern\":{\"fillmode\":\"overlay\",\"size\":10,\"solidity\":0.2},\"type\":\"scatter\"}],\"parcoords\":[{\"type\":\"parcoords\",\"line\":{\"colorbar\":{\"outlinewidth\":0,\"ticks\":\"\"}}}],\"scatterpolargl\":[{\"type\":\"scatterpolargl\",\"marker\":{\"colorbar\":{\"outlinewidth\":0,\"ticks\":\"\"}}}],\"bar\":[{\"error_x\":{\"color\":\"#2a3f5f\"},\"error_y\":{\"color\":\"#2a3f5f\"},\"marker\":{\"line\":{\"color\":\"#E5ECF6\",\"width\":0.5},\"pattern\":{\"fillmode\":\"overlay\",\"size\":10,\"solidity\":0.2}},\"type\":\"bar\"}],\"scattergeo\":[{\"type\":\"scattergeo\",\"marker\":{\"colorbar\":{\"outlinewidth\":0,\"ticks\":\"\"}}}],\"scatterpolar\":[{\"type\":\"scatterpolar\",\"marker\":{\"colorbar\":{\"outlinewidth\":0,\"ticks\":\"\"}}}],\"histogram\":[{\"marker\":{\"pattern\":{\"fillmode\":\"overlay\",\"size\":10,\"solidity\":0.2}},\"type\":\"histogram\"}],\"scattergl\":[{\"type\":\"scattergl\",\"marker\":{\"colorbar\":{\"outlinewidth\":0,\"ticks\":\"\"}}}],\"scatter3d\":[{\"type\":\"scatter3d\",\"line\":{\"colorbar\":{\"outlinewidth\":0,\"ticks\":\"\"}},\"marker\":{\"colorbar\":{\"outlinewidth\":0,\"ticks\":\"\"}}}],\"scattermapbox\":[{\"type\":\"scattermapbox\",\"marker\":{\"colorbar\":{\"outlinewidth\":0,\"ticks\":\"\"}}}],\"scatterternary\":[{\"type\":\"scatterternary\",\"marker\":{\"colorbar\":{\"outlinewidth\":0,\"ticks\":\"\"}}}],\"scattercarpet\":[{\"type\":\"scattercarpet\",\"marker\":{\"colorbar\":{\"outlinewidth\":0,\"ticks\":\"\"}}}],\"carpet\":[{\"aaxis\":{\"endlinecolor\":\"#2a3f5f\",\"gridcolor\":\"white\",\"linecolor\":\"white\",\"minorgridcolor\":\"white\",\"startlinecolor\":\"#2a3f5f\"},\"baxis\":{\"endlinecolor\":\"#2a3f5f\",\"gridcolor\":\"white\",\"linecolor\":\"white\",\"minorgridcolor\":\"white\",\"startlinecolor\":\"#2a3f5f\"},\"type\":\"carpet\"}],\"table\":[{\"cells\":{\"fill\":{\"color\":\"#EBF0F8\"},\"line\":{\"color\":\"white\"}},\"header\":{\"fill\":{\"color\":\"#C8D4E3\"},\"line\":{\"color\":\"white\"}},\"type\":\"table\"}],\"barpolar\":[{\"marker\":{\"line\":{\"color\":\"#E5ECF6\",\"width\":0.5},\"pattern\":{\"fillmode\":\"overlay\",\"size\":10,\"solidity\":0.2}},\"type\":\"barpolar\"}],\"pie\":[{\"automargin\":true,\"type\":\"pie\"}]},\"layout\":{\"autotypenumbers\":\"strict\",\"colorway\":[\"#636efa\",\"#EF553B\",\"#00cc96\",\"#ab63fa\",\"#FFA15A\",\"#19d3f3\",\"#FF6692\",\"#B6E880\",\"#FF97FF\",\"#FECB52\"],\"font\":{\"color\":\"#2a3f5f\"},\"hovermode\":\"closest\",\"hoverlabel\":{\"align\":\"left\"},\"paper_bgcolor\":\"white\",\"plot_bgcolor\":\"#E5ECF6\",\"polar\":{\"bgcolor\":\"#E5ECF6\",\"angularaxis\":{\"gridcolor\":\"white\",\"linecolor\":\"white\",\"ticks\":\"\"},\"radialaxis\":{\"gridcolor\":\"white\",\"linecolor\":\"white\",\"ticks\":\"\"}},\"ternary\":{\"bgcolor\":\"#E5ECF6\",\"aaxis\":{\"gridcolor\":\"white\",\"linecolor\":\"white\",\"ticks\":\"\"},\"baxis\":{\"gridcolor\":\"white\",\"linecolor\":\"white\",\"ticks\":\"\"},\"caxis\":{\"gridcolor\":\"white\",\"linecolor\":\"white\",\"ticks\":\"\"}},\"coloraxis\":{\"colorbar\":{\"outlinewidth\":0,\"ticks\":\"\"}},\"colorscale\":{\"sequential\":[[0.0,\"#0d0887\"],[0.1111111111111111,\"#46039f\"],[0.2222222222222222,\"#7201a8\"],[0.3333333333333333,\"#9c179e\"],[0.4444444444444444,\"#bd3786\"],[0.5555555555555556,\"#d8576b\"],[0.6666666666666666,\"#ed7953\"],[0.7777777777777778,\"#fb9f3a\"],[0.8888888888888888,\"#fdca26\"],[1.0,\"#f0f921\"]],\"sequentialminus\":[[0.0,\"#0d0887\"],[0.1111111111111111,\"#46039f\"],[0.2222222222222222,\"#7201a8\"],[0.3333333333333333,\"#9c179e\"],[0.4444444444444444,\"#bd3786\"],[0.5555555555555556,\"#d8576b\"],[0.6666666666666666,\"#ed7953\"],[0.7777777777777778,\"#fb9f3a\"],[0.8888888888888888,\"#fdca26\"],[1.0,\"#f0f921\"]],\"diverging\":[[0,\"#8e0152\"],[0.1,\"#c51b7d\"],[0.2,\"#de77ae\"],[0.3,\"#f1b6da\"],[0.4,\"#fde0ef\"],[0.5,\"#f7f7f7\"],[0.6,\"#e6f5d0\"],[0.7,\"#b8e186\"],[0.8,\"#7fbc41\"],[0.9,\"#4d9221\"],[1,\"#276419\"]]},\"xaxis\":{\"gridcolor\":\"white\",\"linecolor\":\"white\",\"ticks\":\"\",\"title\":{\"standoff\":15},\"zerolinecolor\":\"white\",\"automargin\":true,\"zerolinewidth\":2},\"yaxis\":{\"gridcolor\":\"white\",\"linecolor\":\"white\",\"ticks\":\"\",\"title\":{\"standoff\":15},\"zerolinecolor\":\"white\",\"automargin\":true,\"zerolinewidth\":2},\"scene\":{\"xaxis\":{\"backgroundcolor\":\"#E5ECF6\",\"gridcolor\":\"white\",\"linecolor\":\"white\",\"showbackground\":true,\"ticks\":\"\",\"zerolinecolor\":\"white\",\"gridwidth\":2},\"yaxis\":{\"backgroundcolor\":\"#E5ECF6\",\"gridcolor\":\"white\",\"linecolor\":\"white\",\"showbackground\":true,\"ticks\":\"\",\"zerolinecolor\":\"white\",\"gridwidth\":2},\"zaxis\":{\"backgroundcolor\":\"#E5ECF6\",\"gridcolor\":\"white\",\"linecolor\":\"white\",\"showbackground\":true,\"ticks\":\"\",\"zerolinecolor\":\"white\",\"gridwidth\":2}},\"shapedefaults\":{\"line\":{\"color\":\"#2a3f5f\"}},\"annotationdefaults\":{\"arrowcolor\":\"#2a3f5f\",\"arrowhead\":0,\"arrowwidth\":1},\"geo\":{\"bgcolor\":\"white\",\"landcolor\":\"#E5ECF6\",\"subunitcolor\":\"white\",\"showland\":true,\"showlakes\":true,\"lakecolor\":\"white\"},\"title\":{\"x\":0.05},\"mapbox\":{\"style\":\"light\"}}},\"barmode\":\"stack\"},                        {\"responsive\": true}                    ).then(function(){\n",
       "                            \n",
       "var gd = document.getElementById('c4438901-4d2f-40eb-bf12-900c459b8052');\n",
       "var x = new MutationObserver(function (mutations, observer) {{\n",
       "        var display = window.getComputedStyle(gd).display;\n",
       "        if (!display || display === 'none') {{\n",
       "            console.log([gd, 'removed!']);\n",
       "            Plotly.purge(gd);\n",
       "            observer.disconnect();\n",
       "        }}\n",
       "}});\n",
       "\n",
       "// Listen for the removal of the full notebook cells\n",
       "var notebookContainer = gd.closest('#notebook-container');\n",
       "if (notebookContainer) {{\n",
       "    x.observe(notebookContainer, {childList: true});\n",
       "}}\n",
       "\n",
       "// Listen for the clearing of the current output cell\n",
       "var outputEl = gd.closest('.output');\n",
       "if (outputEl) {{\n",
       "    x.observe(outputEl, {childList: true});\n",
       "}}\n",
       "\n",
       "                        })                };                });            </script>        </div>"
      ]
     },
     "metadata": {},
     "output_type": "display_data"
    }
   ],
   "source": [
    "quantiles = ['less than -0.09', '-0.09 to -0.07', '-0.07 to -0.05', '-0.05 to -0.03','-0.03 to -0.01', '-0.01 to 0.01', '0.01 to 0.03', '0.03 to 0.05', '0.05 to 0.07', '0.07 to 0.09', 'more than 0.09']\n",
    "\n",
    "\n",
    "fig = go.Figure(data=[\n",
    "    go.Bar(name='1% Missing Data', x=quantiles, y=freq_001, marker_color='#FD3216'),\n",
    "    go.Bar(name='10% Missing Data', x=quantiles, y=freq_01, marker_color='#00FE35'),\n",
    "    go.Bar(name='30% Missing Data', x=quantiles, y=freq_03, marker_color='#511CFB'),\n",
    "    go.Bar(name='50% Missing Data', x=quantiles, y=freq_05, marker_color='#FF7F0E'),\n",
    "])\n",
    "# Change the bar mode\n",
    "fig.update_layout(barmode='stack')\n",
    "fig.show()\n",
    "fig.write_image(\"improv_rel_to_av_all_DC_no_av_incl_per_frac.pdf\")"
   ]
  },
  {
   "cell_type": "code",
   "execution_count": null,
   "id": "3dbf018a",
   "metadata": {},
   "outputs": [
    {
     "name": "stdout",
     "output_type": "stream",
     "text": [
      "['MCAR', 'MAR', 'MNAR']\n",
      "[3, 4, 1, 8, 13, 341, 0, 0, 0, 0, 0]\n",
      "[4, 2, 1, 6, 19, 336, 3, 0, 0, 0, 0]\n",
      "[3, 0, 6, 6, 14, 332, 9, 2, 0, 0, 1]\n"
     ]
    }
   ],
   "source": [
    "# split barchart stacks into methods\n",
    "\n",
    "quantile_datasets = [df_10, df_09, df_07, df_05, df_03, df_01, df01, df03, df05, df07, df09]\n",
    "\n",
    "fractions = ['MCAR', 'MAR', 'MNAR']\n",
    "print(fractions)\n",
    "#print(df_10)\n",
    "\n",
    "freq_001 = []\n",
    "freq_01 = []\n",
    "freq_03 = []\n",
    "#print(quantile_datasets)\n",
    "\n",
    "for i in fractions:\n",
    "    for j in quantile_datasets:\n",
    "        df_temp = j.copy()\n",
    "        df_temp = df_temp[df_temp['Missing Type'].str.contains(i)]\n",
    "        df_temp_len = len(df_temp.index)\n",
    "        if (i == 'MCAR'):\n",
    "            freq_001.append(df_temp_len)\n",
    "        elif (i == 'MAR'):\n",
    "            freq_01.append(df_temp_len)                                       \n",
    "        elif (i == 'MNAR'):\n",
    "            freq_03.append(df_temp_len)                                                 \n",
    "\n",
    "                                       \n",
    "print(freq_001)\n",
    "print(freq_01)\n",
    "print(freq_03)"
   ]
  },
  {
   "cell_type": "code",
   "execution_count": null,
   "id": "b6284375",
   "metadata": {},
   "outputs": [
    {
     "data": {
      "application/vnd.plotly.v1+json": {
       "config": {
        "plotlyServerURL": "https://plot.ly"
       },
       "data": [
        {
         "marker": {
          "color": "#222A2A"
         },
         "name": "MCAR",
         "type": "bar",
         "x": [
          "less than -0.09",
          "-0.09 to -0.07",
          "-0.07 to -0.05",
          "-0.05 to -0.03",
          "-0.03 to -0.01",
          "-0.01 to 0.01",
          "0.01 to 0.03",
          "0.03 to 0.05",
          "0.05 to 0.07",
          "0.07 to 0.09",
          "more than 0.09"
         ],
         "y": [
          3,
          4,
          1,
          8,
          13,
          341,
          0,
          0,
          0,
          0,
          0
         ]
        },
        {
         "marker": {
          "color": "#B68100"
         },
         "name": "MAR",
         "type": "bar",
         "x": [
          "less than -0.09",
          "-0.09 to -0.07",
          "-0.07 to -0.05",
          "-0.05 to -0.03",
          "-0.03 to -0.01",
          "-0.01 to 0.01",
          "0.01 to 0.03",
          "0.03 to 0.05",
          "0.05 to 0.07",
          "0.07 to 0.09",
          "more than 0.09"
         ],
         "y": [
          4,
          2,
          1,
          6,
          19,
          336,
          3,
          0,
          0,
          0,
          0
         ]
        },
        {
         "marker": {
          "color": "#750D86"
         },
         "name": "MNAR",
         "type": "bar",
         "x": [
          "less than -0.09",
          "-0.09 to -0.07",
          "-0.07 to -0.05",
          "-0.05 to -0.03",
          "-0.03 to -0.01",
          "-0.01 to 0.01",
          "0.01 to 0.03",
          "0.03 to 0.05",
          "0.05 to 0.07",
          "0.07 to 0.09",
          "more than 0.09"
         ],
         "y": [
          3,
          0,
          6,
          6,
          14,
          332,
          9,
          2,
          0,
          0,
          1
         ]
        }
       ],
       "layout": {
        "barmode": "stack",
        "template": {
         "data": {
          "bar": [
           {
            "error_x": {
             "color": "#2a3f5f"
            },
            "error_y": {
             "color": "#2a3f5f"
            },
            "marker": {
             "line": {
              "color": "#E5ECF6",
              "width": 0.5
             },
             "pattern": {
              "fillmode": "overlay",
              "size": 10,
              "solidity": 0.2
             }
            },
            "type": "bar"
           }
          ],
          "barpolar": [
           {
            "marker": {
             "line": {
              "color": "#E5ECF6",
              "width": 0.5
             },
             "pattern": {
              "fillmode": "overlay",
              "size": 10,
              "solidity": 0.2
             }
            },
            "type": "barpolar"
           }
          ],
          "carpet": [
           {
            "aaxis": {
             "endlinecolor": "#2a3f5f",
             "gridcolor": "white",
             "linecolor": "white",
             "minorgridcolor": "white",
             "startlinecolor": "#2a3f5f"
            },
            "baxis": {
             "endlinecolor": "#2a3f5f",
             "gridcolor": "white",
             "linecolor": "white",
             "minorgridcolor": "white",
             "startlinecolor": "#2a3f5f"
            },
            "type": "carpet"
           }
          ],
          "choropleth": [
           {
            "colorbar": {
             "outlinewidth": 0,
             "ticks": ""
            },
            "type": "choropleth"
           }
          ],
          "contour": [
           {
            "colorbar": {
             "outlinewidth": 0,
             "ticks": ""
            },
            "colorscale": [
             [
              0,
              "#0d0887"
             ],
             [
              0.1111111111111111,
              "#46039f"
             ],
             [
              0.2222222222222222,
              "#7201a8"
             ],
             [
              0.3333333333333333,
              "#9c179e"
             ],
             [
              0.4444444444444444,
              "#bd3786"
             ],
             [
              0.5555555555555556,
              "#d8576b"
             ],
             [
              0.6666666666666666,
              "#ed7953"
             ],
             [
              0.7777777777777778,
              "#fb9f3a"
             ],
             [
              0.8888888888888888,
              "#fdca26"
             ],
             [
              1,
              "#f0f921"
             ]
            ],
            "type": "contour"
           }
          ],
          "contourcarpet": [
           {
            "colorbar": {
             "outlinewidth": 0,
             "ticks": ""
            },
            "type": "contourcarpet"
           }
          ],
          "heatmap": [
           {
            "colorbar": {
             "outlinewidth": 0,
             "ticks": ""
            },
            "colorscale": [
             [
              0,
              "#0d0887"
             ],
             [
              0.1111111111111111,
              "#46039f"
             ],
             [
              0.2222222222222222,
              "#7201a8"
             ],
             [
              0.3333333333333333,
              "#9c179e"
             ],
             [
              0.4444444444444444,
              "#bd3786"
             ],
             [
              0.5555555555555556,
              "#d8576b"
             ],
             [
              0.6666666666666666,
              "#ed7953"
             ],
             [
              0.7777777777777778,
              "#fb9f3a"
             ],
             [
              0.8888888888888888,
              "#fdca26"
             ],
             [
              1,
              "#f0f921"
             ]
            ],
            "type": "heatmap"
           }
          ],
          "heatmapgl": [
           {
            "colorbar": {
             "outlinewidth": 0,
             "ticks": ""
            },
            "colorscale": [
             [
              0,
              "#0d0887"
             ],
             [
              0.1111111111111111,
              "#46039f"
             ],
             [
              0.2222222222222222,
              "#7201a8"
             ],
             [
              0.3333333333333333,
              "#9c179e"
             ],
             [
              0.4444444444444444,
              "#bd3786"
             ],
             [
              0.5555555555555556,
              "#d8576b"
             ],
             [
              0.6666666666666666,
              "#ed7953"
             ],
             [
              0.7777777777777778,
              "#fb9f3a"
             ],
             [
              0.8888888888888888,
              "#fdca26"
             ],
             [
              1,
              "#f0f921"
             ]
            ],
            "type": "heatmapgl"
           }
          ],
          "histogram": [
           {
            "marker": {
             "pattern": {
              "fillmode": "overlay",
              "size": 10,
              "solidity": 0.2
             }
            },
            "type": "histogram"
           }
          ],
          "histogram2d": [
           {
            "colorbar": {
             "outlinewidth": 0,
             "ticks": ""
            },
            "colorscale": [
             [
              0,
              "#0d0887"
             ],
             [
              0.1111111111111111,
              "#46039f"
             ],
             [
              0.2222222222222222,
              "#7201a8"
             ],
             [
              0.3333333333333333,
              "#9c179e"
             ],
             [
              0.4444444444444444,
              "#bd3786"
             ],
             [
              0.5555555555555556,
              "#d8576b"
             ],
             [
              0.6666666666666666,
              "#ed7953"
             ],
             [
              0.7777777777777778,
              "#fb9f3a"
             ],
             [
              0.8888888888888888,
              "#fdca26"
             ],
             [
              1,
              "#f0f921"
             ]
            ],
            "type": "histogram2d"
           }
          ],
          "histogram2dcontour": [
           {
            "colorbar": {
             "outlinewidth": 0,
             "ticks": ""
            },
            "colorscale": [
             [
              0,
              "#0d0887"
             ],
             [
              0.1111111111111111,
              "#46039f"
             ],
             [
              0.2222222222222222,
              "#7201a8"
             ],
             [
              0.3333333333333333,
              "#9c179e"
             ],
             [
              0.4444444444444444,
              "#bd3786"
             ],
             [
              0.5555555555555556,
              "#d8576b"
             ],
             [
              0.6666666666666666,
              "#ed7953"
             ],
             [
              0.7777777777777778,
              "#fb9f3a"
             ],
             [
              0.8888888888888888,
              "#fdca26"
             ],
             [
              1,
              "#f0f921"
             ]
            ],
            "type": "histogram2dcontour"
           }
          ],
          "mesh3d": [
           {
            "colorbar": {
             "outlinewidth": 0,
             "ticks": ""
            },
            "type": "mesh3d"
           }
          ],
          "parcoords": [
           {
            "line": {
             "colorbar": {
              "outlinewidth": 0,
              "ticks": ""
             }
            },
            "type": "parcoords"
           }
          ],
          "pie": [
           {
            "automargin": true,
            "type": "pie"
           }
          ],
          "scatter": [
           {
            "fillpattern": {
             "fillmode": "overlay",
             "size": 10,
             "solidity": 0.2
            },
            "type": "scatter"
           }
          ],
          "scatter3d": [
           {
            "line": {
             "colorbar": {
              "outlinewidth": 0,
              "ticks": ""
             }
            },
            "marker": {
             "colorbar": {
              "outlinewidth": 0,
              "ticks": ""
             }
            },
            "type": "scatter3d"
           }
          ],
          "scattercarpet": [
           {
            "marker": {
             "colorbar": {
              "outlinewidth": 0,
              "ticks": ""
             }
            },
            "type": "scattercarpet"
           }
          ],
          "scattergeo": [
           {
            "marker": {
             "colorbar": {
              "outlinewidth": 0,
              "ticks": ""
             }
            },
            "type": "scattergeo"
           }
          ],
          "scattergl": [
           {
            "marker": {
             "colorbar": {
              "outlinewidth": 0,
              "ticks": ""
             }
            },
            "type": "scattergl"
           }
          ],
          "scattermapbox": [
           {
            "marker": {
             "colorbar": {
              "outlinewidth": 0,
              "ticks": ""
             }
            },
            "type": "scattermapbox"
           }
          ],
          "scatterpolar": [
           {
            "marker": {
             "colorbar": {
              "outlinewidth": 0,
              "ticks": ""
             }
            },
            "type": "scatterpolar"
           }
          ],
          "scatterpolargl": [
           {
            "marker": {
             "colorbar": {
              "outlinewidth": 0,
              "ticks": ""
             }
            },
            "type": "scatterpolargl"
           }
          ],
          "scatterternary": [
           {
            "marker": {
             "colorbar": {
              "outlinewidth": 0,
              "ticks": ""
             }
            },
            "type": "scatterternary"
           }
          ],
          "surface": [
           {
            "colorbar": {
             "outlinewidth": 0,
             "ticks": ""
            },
            "colorscale": [
             [
              0,
              "#0d0887"
             ],
             [
              0.1111111111111111,
              "#46039f"
             ],
             [
              0.2222222222222222,
              "#7201a8"
             ],
             [
              0.3333333333333333,
              "#9c179e"
             ],
             [
              0.4444444444444444,
              "#bd3786"
             ],
             [
              0.5555555555555556,
              "#d8576b"
             ],
             [
              0.6666666666666666,
              "#ed7953"
             ],
             [
              0.7777777777777778,
              "#fb9f3a"
             ],
             [
              0.8888888888888888,
              "#fdca26"
             ],
             [
              1,
              "#f0f921"
             ]
            ],
            "type": "surface"
           }
          ],
          "table": [
           {
            "cells": {
             "fill": {
              "color": "#EBF0F8"
             },
             "line": {
              "color": "white"
             }
            },
            "header": {
             "fill": {
              "color": "#C8D4E3"
             },
             "line": {
              "color": "white"
             }
            },
            "type": "table"
           }
          ]
         },
         "layout": {
          "annotationdefaults": {
           "arrowcolor": "#2a3f5f",
           "arrowhead": 0,
           "arrowwidth": 1
          },
          "autotypenumbers": "strict",
          "coloraxis": {
           "colorbar": {
            "outlinewidth": 0,
            "ticks": ""
           }
          },
          "colorscale": {
           "diverging": [
            [
             0,
             "#8e0152"
            ],
            [
             0.1,
             "#c51b7d"
            ],
            [
             0.2,
             "#de77ae"
            ],
            [
             0.3,
             "#f1b6da"
            ],
            [
             0.4,
             "#fde0ef"
            ],
            [
             0.5,
             "#f7f7f7"
            ],
            [
             0.6,
             "#e6f5d0"
            ],
            [
             0.7,
             "#b8e186"
            ],
            [
             0.8,
             "#7fbc41"
            ],
            [
             0.9,
             "#4d9221"
            ],
            [
             1,
             "#276419"
            ]
           ],
           "sequential": [
            [
             0,
             "#0d0887"
            ],
            [
             0.1111111111111111,
             "#46039f"
            ],
            [
             0.2222222222222222,
             "#7201a8"
            ],
            [
             0.3333333333333333,
             "#9c179e"
            ],
            [
             0.4444444444444444,
             "#bd3786"
            ],
            [
             0.5555555555555556,
             "#d8576b"
            ],
            [
             0.6666666666666666,
             "#ed7953"
            ],
            [
             0.7777777777777778,
             "#fb9f3a"
            ],
            [
             0.8888888888888888,
             "#fdca26"
            ],
            [
             1,
             "#f0f921"
            ]
           ],
           "sequentialminus": [
            [
             0,
             "#0d0887"
            ],
            [
             0.1111111111111111,
             "#46039f"
            ],
            [
             0.2222222222222222,
             "#7201a8"
            ],
            [
             0.3333333333333333,
             "#9c179e"
            ],
            [
             0.4444444444444444,
             "#bd3786"
            ],
            [
             0.5555555555555556,
             "#d8576b"
            ],
            [
             0.6666666666666666,
             "#ed7953"
            ],
            [
             0.7777777777777778,
             "#fb9f3a"
            ],
            [
             0.8888888888888888,
             "#fdca26"
            ],
            [
             1,
             "#f0f921"
            ]
           ]
          },
          "colorway": [
           "#636efa",
           "#EF553B",
           "#00cc96",
           "#ab63fa",
           "#FFA15A",
           "#19d3f3",
           "#FF6692",
           "#B6E880",
           "#FF97FF",
           "#FECB52"
          ],
          "font": {
           "color": "#2a3f5f"
          },
          "geo": {
           "bgcolor": "white",
           "lakecolor": "white",
           "landcolor": "#E5ECF6",
           "showlakes": true,
           "showland": true,
           "subunitcolor": "white"
          },
          "hoverlabel": {
           "align": "left"
          },
          "hovermode": "closest",
          "mapbox": {
           "style": "light"
          },
          "paper_bgcolor": "white",
          "plot_bgcolor": "#E5ECF6",
          "polar": {
           "angularaxis": {
            "gridcolor": "white",
            "linecolor": "white",
            "ticks": ""
           },
           "bgcolor": "#E5ECF6",
           "radialaxis": {
            "gridcolor": "white",
            "linecolor": "white",
            "ticks": ""
           }
          },
          "scene": {
           "xaxis": {
            "backgroundcolor": "#E5ECF6",
            "gridcolor": "white",
            "gridwidth": 2,
            "linecolor": "white",
            "showbackground": true,
            "ticks": "",
            "zerolinecolor": "white"
           },
           "yaxis": {
            "backgroundcolor": "#E5ECF6",
            "gridcolor": "white",
            "gridwidth": 2,
            "linecolor": "white",
            "showbackground": true,
            "ticks": "",
            "zerolinecolor": "white"
           },
           "zaxis": {
            "backgroundcolor": "#E5ECF6",
            "gridcolor": "white",
            "gridwidth": 2,
            "linecolor": "white",
            "showbackground": true,
            "ticks": "",
            "zerolinecolor": "white"
           }
          },
          "shapedefaults": {
           "line": {
            "color": "#2a3f5f"
           }
          },
          "ternary": {
           "aaxis": {
            "gridcolor": "white",
            "linecolor": "white",
            "ticks": ""
           },
           "baxis": {
            "gridcolor": "white",
            "linecolor": "white",
            "ticks": ""
           },
           "bgcolor": "#E5ECF6",
           "caxis": {
            "gridcolor": "white",
            "linecolor": "white",
            "ticks": ""
           }
          },
          "title": {
           "x": 0.05
          },
          "xaxis": {
           "automargin": true,
           "gridcolor": "white",
           "linecolor": "white",
           "ticks": "",
           "title": {
            "standoff": 15
           },
           "zerolinecolor": "white",
           "zerolinewidth": 2
          },
          "yaxis": {
           "automargin": true,
           "gridcolor": "white",
           "linecolor": "white",
           "ticks": "",
           "title": {
            "standoff": 15
           },
           "zerolinecolor": "white",
           "zerolinewidth": 2
          }
         }
        }
       }
      },
      "text/html": [
       "<div>                            <div id=\"7eaae14f-ea0d-4b7f-a24d-06f8c8c3d567\" class=\"plotly-graph-div\" style=\"height:525px; width:100%;\"></div>            <script type=\"text/javascript\">                require([\"plotly\"], function(Plotly) {                    window.PLOTLYENV=window.PLOTLYENV || {};                                    if (document.getElementById(\"7eaae14f-ea0d-4b7f-a24d-06f8c8c3d567\")) {                    Plotly.newPlot(                        \"7eaae14f-ea0d-4b7f-a24d-06f8c8c3d567\",                        [{\"marker\":{\"color\":\"#222A2A\"},\"name\":\"MCAR\",\"x\":[\"less than -0.09\",\"-0.09 to -0.07\",\"-0.07 to -0.05\",\"-0.05 to -0.03\",\"-0.03 to -0.01\",\"-0.01 to 0.01\",\"0.01 to 0.03\",\"0.03 to 0.05\",\"0.05 to 0.07\",\"0.07 to 0.09\",\"more than 0.09\"],\"y\":[3,4,1,8,13,341,0,0,0,0,0],\"type\":\"bar\"},{\"marker\":{\"color\":\"#B68100\"},\"name\":\"MAR\",\"x\":[\"less than -0.09\",\"-0.09 to -0.07\",\"-0.07 to -0.05\",\"-0.05 to -0.03\",\"-0.03 to -0.01\",\"-0.01 to 0.01\",\"0.01 to 0.03\",\"0.03 to 0.05\",\"0.05 to 0.07\",\"0.07 to 0.09\",\"more than 0.09\"],\"y\":[4,2,1,6,19,336,3,0,0,0,0],\"type\":\"bar\"},{\"marker\":{\"color\":\"#750D86\"},\"name\":\"MNAR\",\"x\":[\"less than -0.09\",\"-0.09 to -0.07\",\"-0.07 to -0.05\",\"-0.05 to -0.03\",\"-0.03 to -0.01\",\"-0.01 to 0.01\",\"0.01 to 0.03\",\"0.03 to 0.05\",\"0.05 to 0.07\",\"0.07 to 0.09\",\"more than 0.09\"],\"y\":[3,0,6,6,14,332,9,2,0,0,1],\"type\":\"bar\"}],                        {\"template\":{\"data\":{\"histogram2dcontour\":[{\"type\":\"histogram2dcontour\",\"colorbar\":{\"outlinewidth\":0,\"ticks\":\"\"},\"colorscale\":[[0.0,\"#0d0887\"],[0.1111111111111111,\"#46039f\"],[0.2222222222222222,\"#7201a8\"],[0.3333333333333333,\"#9c179e\"],[0.4444444444444444,\"#bd3786\"],[0.5555555555555556,\"#d8576b\"],[0.6666666666666666,\"#ed7953\"],[0.7777777777777778,\"#fb9f3a\"],[0.8888888888888888,\"#fdca26\"],[1.0,\"#f0f921\"]]}],\"choropleth\":[{\"type\":\"choropleth\",\"colorbar\":{\"outlinewidth\":0,\"ticks\":\"\"}}],\"histogram2d\":[{\"type\":\"histogram2d\",\"colorbar\":{\"outlinewidth\":0,\"ticks\":\"\"},\"colorscale\":[[0.0,\"#0d0887\"],[0.1111111111111111,\"#46039f\"],[0.2222222222222222,\"#7201a8\"],[0.3333333333333333,\"#9c179e\"],[0.4444444444444444,\"#bd3786\"],[0.5555555555555556,\"#d8576b\"],[0.6666666666666666,\"#ed7953\"],[0.7777777777777778,\"#fb9f3a\"],[0.8888888888888888,\"#fdca26\"],[1.0,\"#f0f921\"]]}],\"heatmap\":[{\"type\":\"heatmap\",\"colorbar\":{\"outlinewidth\":0,\"ticks\":\"\"},\"colorscale\":[[0.0,\"#0d0887\"],[0.1111111111111111,\"#46039f\"],[0.2222222222222222,\"#7201a8\"],[0.3333333333333333,\"#9c179e\"],[0.4444444444444444,\"#bd3786\"],[0.5555555555555556,\"#d8576b\"],[0.6666666666666666,\"#ed7953\"],[0.7777777777777778,\"#fb9f3a\"],[0.8888888888888888,\"#fdca26\"],[1.0,\"#f0f921\"]]}],\"heatmapgl\":[{\"type\":\"heatmapgl\",\"colorbar\":{\"outlinewidth\":0,\"ticks\":\"\"},\"colorscale\":[[0.0,\"#0d0887\"],[0.1111111111111111,\"#46039f\"],[0.2222222222222222,\"#7201a8\"],[0.3333333333333333,\"#9c179e\"],[0.4444444444444444,\"#bd3786\"],[0.5555555555555556,\"#d8576b\"],[0.6666666666666666,\"#ed7953\"],[0.7777777777777778,\"#fb9f3a\"],[0.8888888888888888,\"#fdca26\"],[1.0,\"#f0f921\"]]}],\"contourcarpet\":[{\"type\":\"contourcarpet\",\"colorbar\":{\"outlinewidth\":0,\"ticks\":\"\"}}],\"contour\":[{\"type\":\"contour\",\"colorbar\":{\"outlinewidth\":0,\"ticks\":\"\"},\"colorscale\":[[0.0,\"#0d0887\"],[0.1111111111111111,\"#46039f\"],[0.2222222222222222,\"#7201a8\"],[0.3333333333333333,\"#9c179e\"],[0.4444444444444444,\"#bd3786\"],[0.5555555555555556,\"#d8576b\"],[0.6666666666666666,\"#ed7953\"],[0.7777777777777778,\"#fb9f3a\"],[0.8888888888888888,\"#fdca26\"],[1.0,\"#f0f921\"]]}],\"surface\":[{\"type\":\"surface\",\"colorbar\":{\"outlinewidth\":0,\"ticks\":\"\"},\"colorscale\":[[0.0,\"#0d0887\"],[0.1111111111111111,\"#46039f\"],[0.2222222222222222,\"#7201a8\"],[0.3333333333333333,\"#9c179e\"],[0.4444444444444444,\"#bd3786\"],[0.5555555555555556,\"#d8576b\"],[0.6666666666666666,\"#ed7953\"],[0.7777777777777778,\"#fb9f3a\"],[0.8888888888888888,\"#fdca26\"],[1.0,\"#f0f921\"]]}],\"mesh3d\":[{\"type\":\"mesh3d\",\"colorbar\":{\"outlinewidth\":0,\"ticks\":\"\"}}],\"scatter\":[{\"fillpattern\":{\"fillmode\":\"overlay\",\"size\":10,\"solidity\":0.2},\"type\":\"scatter\"}],\"parcoords\":[{\"type\":\"parcoords\",\"line\":{\"colorbar\":{\"outlinewidth\":0,\"ticks\":\"\"}}}],\"scatterpolargl\":[{\"type\":\"scatterpolargl\",\"marker\":{\"colorbar\":{\"outlinewidth\":0,\"ticks\":\"\"}}}],\"bar\":[{\"error_x\":{\"color\":\"#2a3f5f\"},\"error_y\":{\"color\":\"#2a3f5f\"},\"marker\":{\"line\":{\"color\":\"#E5ECF6\",\"width\":0.5},\"pattern\":{\"fillmode\":\"overlay\",\"size\":10,\"solidity\":0.2}},\"type\":\"bar\"}],\"scattergeo\":[{\"type\":\"scattergeo\",\"marker\":{\"colorbar\":{\"outlinewidth\":0,\"ticks\":\"\"}}}],\"scatterpolar\":[{\"type\":\"scatterpolar\",\"marker\":{\"colorbar\":{\"outlinewidth\":0,\"ticks\":\"\"}}}],\"histogram\":[{\"marker\":{\"pattern\":{\"fillmode\":\"overlay\",\"size\":10,\"solidity\":0.2}},\"type\":\"histogram\"}],\"scattergl\":[{\"type\":\"scattergl\",\"marker\":{\"colorbar\":{\"outlinewidth\":0,\"ticks\":\"\"}}}],\"scatter3d\":[{\"type\":\"scatter3d\",\"line\":{\"colorbar\":{\"outlinewidth\":0,\"ticks\":\"\"}},\"marker\":{\"colorbar\":{\"outlinewidth\":0,\"ticks\":\"\"}}}],\"scattermapbox\":[{\"type\":\"scattermapbox\",\"marker\":{\"colorbar\":{\"outlinewidth\":0,\"ticks\":\"\"}}}],\"scatterternary\":[{\"type\":\"scatterternary\",\"marker\":{\"colorbar\":{\"outlinewidth\":0,\"ticks\":\"\"}}}],\"scattercarpet\":[{\"type\":\"scattercarpet\",\"marker\":{\"colorbar\":{\"outlinewidth\":0,\"ticks\":\"\"}}}],\"carpet\":[{\"aaxis\":{\"endlinecolor\":\"#2a3f5f\",\"gridcolor\":\"white\",\"linecolor\":\"white\",\"minorgridcolor\":\"white\",\"startlinecolor\":\"#2a3f5f\"},\"baxis\":{\"endlinecolor\":\"#2a3f5f\",\"gridcolor\":\"white\",\"linecolor\":\"white\",\"minorgridcolor\":\"white\",\"startlinecolor\":\"#2a3f5f\"},\"type\":\"carpet\"}],\"table\":[{\"cells\":{\"fill\":{\"color\":\"#EBF0F8\"},\"line\":{\"color\":\"white\"}},\"header\":{\"fill\":{\"color\":\"#C8D4E3\"},\"line\":{\"color\":\"white\"}},\"type\":\"table\"}],\"barpolar\":[{\"marker\":{\"line\":{\"color\":\"#E5ECF6\",\"width\":0.5},\"pattern\":{\"fillmode\":\"overlay\",\"size\":10,\"solidity\":0.2}},\"type\":\"barpolar\"}],\"pie\":[{\"automargin\":true,\"type\":\"pie\"}]},\"layout\":{\"autotypenumbers\":\"strict\",\"colorway\":[\"#636efa\",\"#EF553B\",\"#00cc96\",\"#ab63fa\",\"#FFA15A\",\"#19d3f3\",\"#FF6692\",\"#B6E880\",\"#FF97FF\",\"#FECB52\"],\"font\":{\"color\":\"#2a3f5f\"},\"hovermode\":\"closest\",\"hoverlabel\":{\"align\":\"left\"},\"paper_bgcolor\":\"white\",\"plot_bgcolor\":\"#E5ECF6\",\"polar\":{\"bgcolor\":\"#E5ECF6\",\"angularaxis\":{\"gridcolor\":\"white\",\"linecolor\":\"white\",\"ticks\":\"\"},\"radialaxis\":{\"gridcolor\":\"white\",\"linecolor\":\"white\",\"ticks\":\"\"}},\"ternary\":{\"bgcolor\":\"#E5ECF6\",\"aaxis\":{\"gridcolor\":\"white\",\"linecolor\":\"white\",\"ticks\":\"\"},\"baxis\":{\"gridcolor\":\"white\",\"linecolor\":\"white\",\"ticks\":\"\"},\"caxis\":{\"gridcolor\":\"white\",\"linecolor\":\"white\",\"ticks\":\"\"}},\"coloraxis\":{\"colorbar\":{\"outlinewidth\":0,\"ticks\":\"\"}},\"colorscale\":{\"sequential\":[[0.0,\"#0d0887\"],[0.1111111111111111,\"#46039f\"],[0.2222222222222222,\"#7201a8\"],[0.3333333333333333,\"#9c179e\"],[0.4444444444444444,\"#bd3786\"],[0.5555555555555556,\"#d8576b\"],[0.6666666666666666,\"#ed7953\"],[0.7777777777777778,\"#fb9f3a\"],[0.8888888888888888,\"#fdca26\"],[1.0,\"#f0f921\"]],\"sequentialminus\":[[0.0,\"#0d0887\"],[0.1111111111111111,\"#46039f\"],[0.2222222222222222,\"#7201a8\"],[0.3333333333333333,\"#9c179e\"],[0.4444444444444444,\"#bd3786\"],[0.5555555555555556,\"#d8576b\"],[0.6666666666666666,\"#ed7953\"],[0.7777777777777778,\"#fb9f3a\"],[0.8888888888888888,\"#fdca26\"],[1.0,\"#f0f921\"]],\"diverging\":[[0,\"#8e0152\"],[0.1,\"#c51b7d\"],[0.2,\"#de77ae\"],[0.3,\"#f1b6da\"],[0.4,\"#fde0ef\"],[0.5,\"#f7f7f7\"],[0.6,\"#e6f5d0\"],[0.7,\"#b8e186\"],[0.8,\"#7fbc41\"],[0.9,\"#4d9221\"],[1,\"#276419\"]]},\"xaxis\":{\"gridcolor\":\"white\",\"linecolor\":\"white\",\"ticks\":\"\",\"title\":{\"standoff\":15},\"zerolinecolor\":\"white\",\"automargin\":true,\"zerolinewidth\":2},\"yaxis\":{\"gridcolor\":\"white\",\"linecolor\":\"white\",\"ticks\":\"\",\"title\":{\"standoff\":15},\"zerolinecolor\":\"white\",\"automargin\":true,\"zerolinewidth\":2},\"scene\":{\"xaxis\":{\"backgroundcolor\":\"#E5ECF6\",\"gridcolor\":\"white\",\"linecolor\":\"white\",\"showbackground\":true,\"ticks\":\"\",\"zerolinecolor\":\"white\",\"gridwidth\":2},\"yaxis\":{\"backgroundcolor\":\"#E5ECF6\",\"gridcolor\":\"white\",\"linecolor\":\"white\",\"showbackground\":true,\"ticks\":\"\",\"zerolinecolor\":\"white\",\"gridwidth\":2},\"zaxis\":{\"backgroundcolor\":\"#E5ECF6\",\"gridcolor\":\"white\",\"linecolor\":\"white\",\"showbackground\":true,\"ticks\":\"\",\"zerolinecolor\":\"white\",\"gridwidth\":2}},\"shapedefaults\":{\"line\":{\"color\":\"#2a3f5f\"}},\"annotationdefaults\":{\"arrowcolor\":\"#2a3f5f\",\"arrowhead\":0,\"arrowwidth\":1},\"geo\":{\"bgcolor\":\"white\",\"landcolor\":\"#E5ECF6\",\"subunitcolor\":\"white\",\"showland\":true,\"showlakes\":true,\"lakecolor\":\"white\"},\"title\":{\"x\":0.05},\"mapbox\":{\"style\":\"light\"}}},\"barmode\":\"stack\"},                        {\"responsive\": true}                    ).then(function(){\n",
       "                            \n",
       "var gd = document.getElementById('7eaae14f-ea0d-4b7f-a24d-06f8c8c3d567');\n",
       "var x = new MutationObserver(function (mutations, observer) {{\n",
       "        var display = window.getComputedStyle(gd).display;\n",
       "        if (!display || display === 'none') {{\n",
       "            console.log([gd, 'removed!']);\n",
       "            Plotly.purge(gd);\n",
       "            observer.disconnect();\n",
       "        }}\n",
       "}});\n",
       "\n",
       "// Listen for the removal of the full notebook cells\n",
       "var notebookContainer = gd.closest('#notebook-container');\n",
       "if (notebookContainer) {{\n",
       "    x.observe(notebookContainer, {childList: true});\n",
       "}}\n",
       "\n",
       "// Listen for the clearing of the current output cell\n",
       "var outputEl = gd.closest('.output');\n",
       "if (outputEl) {{\n",
       "    x.observe(outputEl, {childList: true});\n",
       "}}\n",
       "\n",
       "                        })                };                });            </script>        </div>"
      ]
     },
     "metadata": {},
     "output_type": "display_data"
    }
   ],
   "source": [
    "quantiles = ['less than -0.09', '-0.09 to -0.07', '-0.07 to -0.05', '-0.05 to -0.03','-0.03 to -0.01', '-0.01 to 0.01', '0.01 to 0.03', '0.03 to 0.05', '0.05 to 0.07', '0.07 to 0.09', 'more than 0.09']\n",
    "\n",
    "\n",
    "fig = go.Figure(data=[\n",
    "    go.Bar(name='MCAR', x=quantiles, y=freq_001, marker_color='#222A2A'),\n",
    "    go.Bar(name='MAR', x=quantiles, y=freq_01, marker_color='#B68100'),\n",
    "    go.Bar(name='MNAR', x=quantiles, y=freq_03, marker_color='#750D86'),\n",
    "])\n",
    "# Change the bar mode\n",
    "fig.update_layout(barmode='stack')\n",
    "fig.show()\n",
    "fig.write_image(\"improv_rel_to_av_all_DC_no_av_incl_per_patt.pdf\")"
   ]
  },
  {
   "cell_type": "code",
   "execution_count": null,
   "id": "a496cd14",
   "metadata": {},
   "outputs": [],
   "source": []
  },
  {
   "cell_type": "markdown",
   "id": "72ae68ba",
   "metadata": {},
   "source": [
    "## Improvment Proportions for the Best Imputation Method per Data Constellation Relative to Average Best Method"
   ]
  },
  {
   "cell_type": "code",
   "execution_count": null,
   "id": "734371e1",
   "metadata": {},
   "outputs": [
    {
     "data": {
      "text/html": [
       "<div>\n",
       "<style scoped>\n",
       "    .dataframe tbody tr th:only-of-type {\n",
       "        vertical-align: middle;\n",
       "    }\n",
       "\n",
       "    .dataframe tbody tr th {\n",
       "        vertical-align: top;\n",
       "    }\n",
       "\n",
       "    .dataframe thead th {\n",
       "        text-align: right;\n",
       "    }\n",
       "</style>\n",
       "<table border=\"1\" class=\"dataframe\">\n",
       "  <thead>\n",
       "    <tr style=\"text-align: right;\">\n",
       "      <th></th>\n",
       "      <th>Imputation_Method</th>\n",
       "      <th>Task</th>\n",
       "      <th>Missing Type</th>\n",
       "      <th>Missing Fraction</th>\n",
       "      <th>Column</th>\n",
       "      <th>result_type</th>\n",
       "      <th>metric</th>\n",
       "      <th>Baseline</th>\n",
       "      <th>Corrupted</th>\n",
       "      <th>Imputed</th>\n",
       "      <th>...</th>\n",
       "      <th>MinorityClassSize</th>\n",
       "      <th>NumberOfFeatures</th>\n",
       "      <th>NumberOfInstances</th>\n",
       "      <th>NumberOfNumericFeatures</th>\n",
       "      <th>NumberOfCategoricalFeatures</th>\n",
       "      <th>NumberOfClasses</th>\n",
       "      <th>Downstream Performance Rank</th>\n",
       "      <th>Data_Constellation</th>\n",
       "      <th>Data_Constellation_full</th>\n",
       "      <th>Performance Difference to Average Best in Percent</th>\n",
       "    </tr>\n",
       "  </thead>\n",
       "  <tbody>\n",
       "    <tr>\n",
       "      <th>0</th>\n",
       "      <td>GAIN</td>\n",
       "      <td>189</td>\n",
       "      <td>MAR</td>\n",
       "      <td>0.01</td>\n",
       "      <td>theta8</td>\n",
       "      <td>downstream_performance_mean</td>\n",
       "      <td>Regression Tasks</td>\n",
       "      <td>0.204873</td>\n",
       "      <td>0.0</td>\n",
       "      <td>0.204926</td>\n",
       "      <td>...</td>\n",
       "      <td>NaN</td>\n",
       "      <td>9.0</td>\n",
       "      <td>8192.0</td>\n",
       "      <td>9.0</td>\n",
       "      <td>0.0</td>\n",
       "      <td>NaN</td>\n",
       "      <td>1.0</td>\n",
       "      <td>MAR - 0.01</td>\n",
       "      <td>MAR - 0.01 - 189</td>\n",
       "      <td>0.000356</td>\n",
       "    </tr>\n",
       "    <tr>\n",
       "      <th>6</th>\n",
       "      <td>Discriminative DL</td>\n",
       "      <td>189</td>\n",
       "      <td>MAR</td>\n",
       "      <td>0.1</td>\n",
       "      <td>theta8</td>\n",
       "      <td>downstream_performance_mean</td>\n",
       "      <td>Regression Tasks</td>\n",
       "      <td>0.204813</td>\n",
       "      <td>0.0</td>\n",
       "      <td>0.204953</td>\n",
       "      <td>...</td>\n",
       "      <td>NaN</td>\n",
       "      <td>9.0</td>\n",
       "      <td>8192.0</td>\n",
       "      <td>9.0</td>\n",
       "      <td>0.0</td>\n",
       "      <td>NaN</td>\n",
       "      <td>1.0</td>\n",
       "      <td>MAR - 0.1</td>\n",
       "      <td>MAR - 0.1 - 189</td>\n",
       "      <td>0.000270</td>\n",
       "    </tr>\n",
       "    <tr>\n",
       "      <th>12</th>\n",
       "      <td>Mean/Mode</td>\n",
       "      <td>189</td>\n",
       "      <td>MAR</td>\n",
       "      <td>0.3</td>\n",
       "      <td>theta8</td>\n",
       "      <td>downstream_performance_mean</td>\n",
       "      <td>Regression Tasks</td>\n",
       "      <td>0.204820</td>\n",
       "      <td>0.0</td>\n",
       "      <td>0.205069</td>\n",
       "      <td>...</td>\n",
       "      <td>NaN</td>\n",
       "      <td>9.0</td>\n",
       "      <td>8192.0</td>\n",
       "      <td>9.0</td>\n",
       "      <td>0.0</td>\n",
       "      <td>NaN</td>\n",
       "      <td>1.0</td>\n",
       "      <td>MAR - 0.3</td>\n",
       "      <td>MAR - 0.3 - 189</td>\n",
       "      <td>0.002178</td>\n",
       "    </tr>\n",
       "    <tr>\n",
       "      <th>18</th>\n",
       "      <td>Discriminative DL</td>\n",
       "      <td>189</td>\n",
       "      <td>MAR</td>\n",
       "      <td>0.5</td>\n",
       "      <td>theta8</td>\n",
       "      <td>downstream_performance_mean</td>\n",
       "      <td>Regression Tasks</td>\n",
       "      <td>0.205841</td>\n",
       "      <td>0.0</td>\n",
       "      <td>0.205878</td>\n",
       "      <td>...</td>\n",
       "      <td>NaN</td>\n",
       "      <td>9.0</td>\n",
       "      <td>8192.0</td>\n",
       "      <td>9.0</td>\n",
       "      <td>0.0</td>\n",
       "      <td>NaN</td>\n",
       "      <td>1.0</td>\n",
       "      <td>MAR - 0.5</td>\n",
       "      <td>MAR - 0.5 - 189</td>\n",
       "      <td>0.000489</td>\n",
       "    </tr>\n",
       "    <tr>\n",
       "      <th>24</th>\n",
       "      <td>Discriminative DL</td>\n",
       "      <td>189</td>\n",
       "      <td>MCAR</td>\n",
       "      <td>0.01</td>\n",
       "      <td>theta8</td>\n",
       "      <td>downstream_performance_mean</td>\n",
       "      <td>Regression Tasks</td>\n",
       "      <td>0.205083</td>\n",
       "      <td>0.0</td>\n",
       "      <td>0.204972</td>\n",
       "      <td>...</td>\n",
       "      <td>NaN</td>\n",
       "      <td>9.0</td>\n",
       "      <td>8192.0</td>\n",
       "      <td>9.0</td>\n",
       "      <td>0.0</td>\n",
       "      <td>NaN</td>\n",
       "      <td>1.0</td>\n",
       "      <td>MCAR - 0.01</td>\n",
       "      <td>MCAR - 0.01 - 189</td>\n",
       "      <td>0.000514</td>\n",
       "    </tr>\n",
       "    <tr>\n",
       "      <th>...</th>\n",
       "      <td>...</td>\n",
       "      <td>...</td>\n",
       "      <td>...</td>\n",
       "      <td>...</td>\n",
       "      <td>...</td>\n",
       "      <td>...</td>\n",
       "      <td>...</td>\n",
       "      <td>...</td>\n",
       "      <td>...</td>\n",
       "      <td>...</td>\n",
       "      <td>...</td>\n",
       "      <td>...</td>\n",
       "      <td>...</td>\n",
       "      <td>...</td>\n",
       "      <td>...</td>\n",
       "      <td>...</td>\n",
       "      <td>...</td>\n",
       "      <td>...</td>\n",
       "      <td>...</td>\n",
       "      <td>...</td>\n",
       "      <td>...</td>\n",
       "    </tr>\n",
       "    <tr>\n",
       "      <th>1312</th>\n",
       "      <td>Random Forest</td>\n",
       "      <td>42712</td>\n",
       "      <td>MCAR</td>\n",
       "      <td>0.5</td>\n",
       "      <td>humidity</td>\n",
       "      <td>downstream_performance_mean</td>\n",
       "      <td>Regression Tasks</td>\n",
       "      <td>148.991778</td>\n",
       "      <td>0.0</td>\n",
       "      <td>148.880924</td>\n",
       "      <td>...</td>\n",
       "      <td>NaN</td>\n",
       "      <td>13.0</td>\n",
       "      <td>17379.0</td>\n",
       "      <td>9.0</td>\n",
       "      <td>4.0</td>\n",
       "      <td>NaN</td>\n",
       "      <td>1.0</td>\n",
       "      <td>MCAR - 0.5</td>\n",
       "      <td>MCAR - 0.5 - 42712</td>\n",
       "      <td>0.000000</td>\n",
       "    </tr>\n",
       "    <tr>\n",
       "      <th>1318</th>\n",
       "      <td>Discriminative DL</td>\n",
       "      <td>42712</td>\n",
       "      <td>MNAR</td>\n",
       "      <td>0.01</td>\n",
       "      <td>humidity</td>\n",
       "      <td>downstream_performance_mean</td>\n",
       "      <td>Regression Tasks</td>\n",
       "      <td>149.507994</td>\n",
       "      <td>0.0</td>\n",
       "      <td>149.475688</td>\n",
       "      <td>...</td>\n",
       "      <td>NaN</td>\n",
       "      <td>13.0</td>\n",
       "      <td>17379.0</td>\n",
       "      <td>9.0</td>\n",
       "      <td>4.0</td>\n",
       "      <td>NaN</td>\n",
       "      <td>1.0</td>\n",
       "      <td>MNAR - 0.01</td>\n",
       "      <td>MNAR - 0.01 - 42712</td>\n",
       "      <td>0.000490</td>\n",
       "    </tr>\n",
       "    <tr>\n",
       "      <th>1324</th>\n",
       "      <td>Discriminative DL</td>\n",
       "      <td>42712</td>\n",
       "      <td>MNAR</td>\n",
       "      <td>0.1</td>\n",
       "      <td>humidity</td>\n",
       "      <td>downstream_performance_mean</td>\n",
       "      <td>Regression Tasks</td>\n",
       "      <td>149.523046</td>\n",
       "      <td>0.0</td>\n",
       "      <td>149.372273</td>\n",
       "      <td>...</td>\n",
       "      <td>NaN</td>\n",
       "      <td>13.0</td>\n",
       "      <td>17379.0</td>\n",
       "      <td>9.0</td>\n",
       "      <td>4.0</td>\n",
       "      <td>NaN</td>\n",
       "      <td>1.0</td>\n",
       "      <td>MNAR - 0.1</td>\n",
       "      <td>MNAR - 0.1 - 42712</td>\n",
       "      <td>0.002744</td>\n",
       "    </tr>\n",
       "    <tr>\n",
       "      <th>1330</th>\n",
       "      <td>Discriminative DL</td>\n",
       "      <td>42712</td>\n",
       "      <td>MNAR</td>\n",
       "      <td>0.3</td>\n",
       "      <td>humidity</td>\n",
       "      <td>downstream_performance_mean</td>\n",
       "      <td>Regression Tasks</td>\n",
       "      <td>149.431371</td>\n",
       "      <td>0.0</td>\n",
       "      <td>149.346814</td>\n",
       "      <td>...</td>\n",
       "      <td>NaN</td>\n",
       "      <td>13.0</td>\n",
       "      <td>17379.0</td>\n",
       "      <td>9.0</td>\n",
       "      <td>4.0</td>\n",
       "      <td>NaN</td>\n",
       "      <td>1.0</td>\n",
       "      <td>MNAR - 0.3</td>\n",
       "      <td>MNAR - 0.3 - 42712</td>\n",
       "      <td>0.004428</td>\n",
       "    </tr>\n",
       "    <tr>\n",
       "      <th>1336</th>\n",
       "      <td>Mean/Mode</td>\n",
       "      <td>42712</td>\n",
       "      <td>MNAR</td>\n",
       "      <td>0.5</td>\n",
       "      <td>humidity</td>\n",
       "      <td>downstream_performance_mean</td>\n",
       "      <td>Regression Tasks</td>\n",
       "      <td>147.017846</td>\n",
       "      <td>0.0</td>\n",
       "      <td>146.311138</td>\n",
       "      <td>...</td>\n",
       "      <td>NaN</td>\n",
       "      <td>13.0</td>\n",
       "      <td>17379.0</td>\n",
       "      <td>9.0</td>\n",
       "      <td>4.0</td>\n",
       "      <td>NaN</td>\n",
       "      <td>1.0</td>\n",
       "      <td>MNAR - 0.5</td>\n",
       "      <td>MNAR - 0.5 - 42712</td>\n",
       "      <td>0.009543</td>\n",
       "    </tr>\n",
       "  </tbody>\n",
       "</table>\n",
       "<p>228 rows × 23 columns</p>\n",
       "</div>"
      ],
      "text/plain": [
       "      Imputation_Method   Task Missing Type Missing Fraction    Column  \\\n",
       "0                  GAIN    189          MAR             0.01    theta8   \n",
       "6     Discriminative DL    189          MAR              0.1    theta8   \n",
       "12            Mean/Mode    189          MAR              0.3    theta8   \n",
       "18    Discriminative DL    189          MAR              0.5    theta8   \n",
       "24    Discriminative DL    189         MCAR             0.01    theta8   \n",
       "...                 ...    ...          ...              ...       ...   \n",
       "1312      Random Forest  42712         MCAR              0.5  humidity   \n",
       "1318  Discriminative DL  42712         MNAR             0.01  humidity   \n",
       "1324  Discriminative DL  42712         MNAR              0.1  humidity   \n",
       "1330  Discriminative DL  42712         MNAR              0.3  humidity   \n",
       "1336          Mean/Mode  42712         MNAR              0.5  humidity   \n",
       "\n",
       "                      result_type            metric    Baseline  Corrupted  \\\n",
       "0     downstream_performance_mean  Regression Tasks    0.204873        0.0   \n",
       "6     downstream_performance_mean  Regression Tasks    0.204813        0.0   \n",
       "12    downstream_performance_mean  Regression Tasks    0.204820        0.0   \n",
       "18    downstream_performance_mean  Regression Tasks    0.205841        0.0   \n",
       "24    downstream_performance_mean  Regression Tasks    0.205083        0.0   \n",
       "...                           ...               ...         ...        ...   \n",
       "1312  downstream_performance_mean  Regression Tasks  148.991778        0.0   \n",
       "1318  downstream_performance_mean  Regression Tasks  149.507994        0.0   \n",
       "1324  downstream_performance_mean  Regression Tasks  149.523046        0.0   \n",
       "1330  downstream_performance_mean  Regression Tasks  149.431371        0.0   \n",
       "1336  downstream_performance_mean  Regression Tasks  147.017846        0.0   \n",
       "\n",
       "         Imputed  ...  MinorityClassSize NumberOfFeatures  NumberOfInstances  \\\n",
       "0       0.204926  ...                NaN              9.0             8192.0   \n",
       "6       0.204953  ...                NaN              9.0             8192.0   \n",
       "12      0.205069  ...                NaN              9.0             8192.0   \n",
       "18      0.205878  ...                NaN              9.0             8192.0   \n",
       "24      0.204972  ...                NaN              9.0             8192.0   \n",
       "...          ...  ...                ...              ...                ...   \n",
       "1312  148.880924  ...                NaN             13.0            17379.0   \n",
       "1318  149.475688  ...                NaN             13.0            17379.0   \n",
       "1324  149.372273  ...                NaN             13.0            17379.0   \n",
       "1330  149.346814  ...                NaN             13.0            17379.0   \n",
       "1336  146.311138  ...                NaN             13.0            17379.0   \n",
       "\n",
       "      NumberOfNumericFeatures  NumberOfCategoricalFeatures  NumberOfClasses  \\\n",
       "0                         9.0                          0.0              NaN   \n",
       "6                         9.0                          0.0              NaN   \n",
       "12                        9.0                          0.0              NaN   \n",
       "18                        9.0                          0.0              NaN   \n",
       "24                        9.0                          0.0              NaN   \n",
       "...                       ...                          ...              ...   \n",
       "1312                      9.0                          4.0              NaN   \n",
       "1318                      9.0                          4.0              NaN   \n",
       "1324                      9.0                          4.0              NaN   \n",
       "1330                      9.0                          4.0              NaN   \n",
       "1336                      9.0                          4.0              NaN   \n",
       "\n",
       "      Downstream Performance Rank  Data_Constellation  \\\n",
       "0                             1.0          MAR - 0.01   \n",
       "6                             1.0           MAR - 0.1   \n",
       "12                            1.0           MAR - 0.3   \n",
       "18                            1.0           MAR - 0.5   \n",
       "24                            1.0         MCAR - 0.01   \n",
       "...                           ...                 ...   \n",
       "1312                          1.0          MCAR - 0.5   \n",
       "1318                          1.0         MNAR - 0.01   \n",
       "1324                          1.0          MNAR - 0.1   \n",
       "1330                          1.0          MNAR - 0.3   \n",
       "1336                          1.0          MNAR - 0.5   \n",
       "\n",
       "      Data_Constellation_full  \\\n",
       "0            MAR - 0.01 - 189   \n",
       "6             MAR - 0.1 - 189   \n",
       "12            MAR - 0.3 - 189   \n",
       "18            MAR - 0.5 - 189   \n",
       "24          MCAR - 0.01 - 189   \n",
       "...                       ...   \n",
       "1312       MCAR - 0.5 - 42712   \n",
       "1318      MNAR - 0.01 - 42712   \n",
       "1324       MNAR - 0.1 - 42712   \n",
       "1330       MNAR - 0.3 - 42712   \n",
       "1336       MNAR - 0.5 - 42712   \n",
       "\n",
       "      Performance Difference to Average Best in Percent  \n",
       "0                                              0.000356  \n",
       "6                                              0.000270  \n",
       "12                                             0.002178  \n",
       "18                                             0.000489  \n",
       "24                                             0.000514  \n",
       "...                                                 ...  \n",
       "1312                                           0.000000  \n",
       "1318                                           0.000490  \n",
       "1324                                           0.002744  \n",
       "1330                                           0.004428  \n",
       "1336                                           0.009543  \n",
       "\n",
       "[228 rows x 23 columns]"
      ]
     },
     "execution_count": 93,
     "metadata": {},
     "output_type": "execute_result"
    }
   ],
   "source": [
    "improv_to_av_bar = heatmap_data_difference.copy()\n",
    "\n",
    "improv_to_av_bar = improv_to_av_bar.drop(improv_to_av_bar[improv_to_av_bar[\"Downstream Performance Rank\"] != 1.0].index)\n",
    "\n",
    "df_01 = improv_to_av_bar.drop(improv_to_av_bar[(improv_to_av_bar[\"Performance Difference to Average Best in Percent\"] <= (-0.01)) | (improv_to_av_bar[\"Performance Difference to Average Best in Percent\"] > (0.01))].index)\n",
    "df01 = improv_to_av_bar.drop(improv_to_av_bar[(improv_to_av_bar[\"Performance Difference to Average Best in Percent\"] <= (0.01)) | (improv_to_av_bar[\"Performance Difference to Average Best in Percent\"] > (0.03))].index)\n",
    "df03 = improv_to_av_bar.drop(improv_to_av_bar[(improv_to_av_bar[\"Performance Difference to Average Best in Percent\"] <= (0.03)) | (improv_to_av_bar[\"Performance Difference to Average Best in Percent\"] > (0.05))].index)\n",
    "df05 = improv_to_av_bar.drop(improv_to_av_bar[(improv_to_av_bar[\"Performance Difference to Average Best in Percent\"] <= (0.05)) | (improv_to_av_bar[\"Performance Difference to Average Best in Percent\"] > (0.07))].index)\n",
    "df07 = improv_to_av_bar.drop(improv_to_av_bar[(improv_to_av_bar[\"Performance Difference to Average Best in Percent\"] <= (0.07)) | (improv_to_av_bar[\"Performance Difference to Average Best in Percent\"] > (0.09))].index)\n",
    "df09 = improv_to_av_bar.drop(improv_to_av_bar[(improv_to_av_bar[\"Performance Difference to Average Best in Percent\"] <= (0.09))].index)\n",
    "\n",
    "improv_to_av_bar"
   ]
  },
  {
   "cell_type": "code",
   "execution_count": null,
   "id": "9cf72f1d",
   "metadata": {},
   "outputs": [
    {
     "data": {
      "text/html": [
       "<div>\n",
       "<style scoped>\n",
       "    .dataframe tbody tr th:only-of-type {\n",
       "        vertical-align: middle;\n",
       "    }\n",
       "\n",
       "    .dataframe tbody tr th {\n",
       "        vertical-align: top;\n",
       "    }\n",
       "\n",
       "    .dataframe thead th {\n",
       "        text-align: right;\n",
       "    }\n",
       "</style>\n",
       "<table border=\"1\" class=\"dataframe\">\n",
       "  <thead>\n",
       "    <tr style=\"text-align: right;\">\n",
       "      <th></th>\n",
       "      <th>Imputation_Method</th>\n",
       "      <th>Task</th>\n",
       "      <th>Missing Type</th>\n",
       "      <th>Missing Fraction</th>\n",
       "      <th>Column</th>\n",
       "      <th>result_type</th>\n",
       "      <th>metric</th>\n",
       "      <th>Baseline</th>\n",
       "      <th>Corrupted</th>\n",
       "      <th>Imputed</th>\n",
       "      <th>...</th>\n",
       "      <th>MinorityClassSize</th>\n",
       "      <th>NumberOfFeatures</th>\n",
       "      <th>NumberOfInstances</th>\n",
       "      <th>NumberOfNumericFeatures</th>\n",
       "      <th>NumberOfCategoricalFeatures</th>\n",
       "      <th>NumberOfClasses</th>\n",
       "      <th>Downstream Performance Rank</th>\n",
       "      <th>Data_Constellation</th>\n",
       "      <th>Data_Constellation_full</th>\n",
       "      <th>Performance Difference to Average Best in Percent</th>\n",
       "    </tr>\n",
       "  </thead>\n",
       "  <tbody>\n",
       "    <tr>\n",
       "      <th>min</th>\n",
       "      <td>Discriminative DL</td>\n",
       "      <td>1193</td>\n",
       "      <td>MAR</td>\n",
       "      <td>0.01</td>\n",
       "      <td>Material</td>\n",
       "      <td>downstream_performance_mean</td>\n",
       "      <td>Regression Tasks</td>\n",
       "      <td>0.001417</td>\n",
       "      <td>0.0</td>\n",
       "      <td>0.001418</td>\n",
       "      <td>...</td>\n",
       "      <td>NaN</td>\n",
       "      <td>6.0</td>\n",
       "      <td>4477.0</td>\n",
       "      <td>3.0</td>\n",
       "      <td>0.0</td>\n",
       "      <td>NaN</td>\n",
       "      <td>1.0</td>\n",
       "      <td>MAR - 0.01</td>\n",
       "      <td>MAR - 0.01 - 1193</td>\n",
       "      <td>0.000000</td>\n",
       "    </tr>\n",
       "    <tr>\n",
       "      <th>max</th>\n",
       "      <td>VAE</td>\n",
       "      <td>42712</td>\n",
       "      <td>MNAR</td>\n",
       "      <td>0.5</td>\n",
       "      <td>x6</td>\n",
       "      <td>downstream_performance_mean</td>\n",
       "      <td>Regression Tasks</td>\n",
       "      <td>72725.060283</td>\n",
       "      <td>0.0</td>\n",
       "      <td>72725.053954</td>\n",
       "      <td>...</td>\n",
       "      <td>NaN</td>\n",
       "      <td>22.0</td>\n",
       "      <td>89640.0</td>\n",
       "      <td>22.0</td>\n",
       "      <td>7.0</td>\n",
       "      <td>NaN</td>\n",
       "      <td>1.0</td>\n",
       "      <td>MNAR - 0.5</td>\n",
       "      <td>MNAR - 0.5 - 42712</td>\n",
       "      <td>0.160131</td>\n",
       "    </tr>\n",
       "  </tbody>\n",
       "</table>\n",
       "<p>2 rows × 23 columns</p>\n",
       "</div>"
      ],
      "text/plain": [
       "     Imputation_Method   Task Missing Type Missing Fraction    Column  \\\n",
       "min  Discriminative DL   1193          MAR             0.01  Material   \n",
       "max                VAE  42712         MNAR              0.5        x6   \n",
       "\n",
       "                     result_type            metric      Baseline  Corrupted  \\\n",
       "min  downstream_performance_mean  Regression Tasks      0.001417        0.0   \n",
       "max  downstream_performance_mean  Regression Tasks  72725.060283        0.0   \n",
       "\n",
       "          Imputed  ...  MinorityClassSize NumberOfFeatures  NumberOfInstances  \\\n",
       "min      0.001418  ...                NaN              6.0             4477.0   \n",
       "max  72725.053954  ...                NaN             22.0            89640.0   \n",
       "\n",
       "     NumberOfNumericFeatures  NumberOfCategoricalFeatures  NumberOfClasses  \\\n",
       "min                      3.0                          0.0              NaN   \n",
       "max                     22.0                          7.0              NaN   \n",
       "\n",
       "     Downstream Performance Rank  Data_Constellation  Data_Constellation_full  \\\n",
       "min                          1.0          MAR - 0.01        MAR - 0.01 - 1193   \n",
       "max                          1.0          MNAR - 0.5       MNAR - 0.5 - 42712   \n",
       "\n",
       "     Performance Difference to Average Best in Percent  \n",
       "min                                           0.000000  \n",
       "max                                           0.160131  \n",
       "\n",
       "[2 rows x 23 columns]"
      ]
     },
     "execution_count": 94,
     "metadata": {},
     "output_type": "execute_result"
    }
   ],
   "source": [
    "#improv_to_av_bar.agg(['min', 'max'])"
   ]
  },
  {
   "cell_type": "code",
   "execution_count": null,
   "id": "a797b48c",
   "metadata": {},
   "outputs": [
    {
     "name": "stdout",
     "output_type": "stream",
     "text": [
      "[218, 7, 2, 0, 0, 1]\n",
      "['less than 0.01', '0.01 to 0.03', '0.03 to 0.05', '0.05 to 0.07', '0.07 to 0.09', 'more than 0.09']\n"
     ]
    },
    {
     "data": {
      "application/vnd.plotly.v1+json": {
       "config": {
        "plotlyServerURL": "https://plot.ly"
       },
       "data": [
        {
         "alignmentgroup": "True",
         "hovertemplate": "Improvement to Average Best in Percent=%{x}<br>Amount=%{y}<extra></extra>",
         "legendgroup": "",
         "marker": {
          "color": "#636efa",
          "pattern": {
           "shape": ""
          }
         },
         "name": "",
         "offsetgroup": "",
         "orientation": "v",
         "showlegend": false,
         "textposition": "auto",
         "type": "bar",
         "x": [
          "less than 0.01",
          "0.01 to 0.03",
          "0.03 to 0.05",
          "0.05 to 0.07",
          "0.07 to 0.09",
          "more than 0.09"
         ],
         "xaxis": "x",
         "y": [
          218,
          7,
          2,
          0,
          0,
          1
         ],
         "yaxis": "y"
        }
       ],
       "layout": {
        "barmode": "relative",
        "legend": {
         "tracegroupgap": 0
        },
        "margin": {
         "t": 60
        },
        "template": {
         "data": {
          "bar": [
           {
            "error_x": {
             "color": "#2a3f5f"
            },
            "error_y": {
             "color": "#2a3f5f"
            },
            "marker": {
             "line": {
              "color": "#E5ECF6",
              "width": 0.5
             },
             "pattern": {
              "fillmode": "overlay",
              "size": 10,
              "solidity": 0.2
             }
            },
            "type": "bar"
           }
          ],
          "barpolar": [
           {
            "marker": {
             "line": {
              "color": "#E5ECF6",
              "width": 0.5
             },
             "pattern": {
              "fillmode": "overlay",
              "size": 10,
              "solidity": 0.2
             }
            },
            "type": "barpolar"
           }
          ],
          "carpet": [
           {
            "aaxis": {
             "endlinecolor": "#2a3f5f",
             "gridcolor": "white",
             "linecolor": "white",
             "minorgridcolor": "white",
             "startlinecolor": "#2a3f5f"
            },
            "baxis": {
             "endlinecolor": "#2a3f5f",
             "gridcolor": "white",
             "linecolor": "white",
             "minorgridcolor": "white",
             "startlinecolor": "#2a3f5f"
            },
            "type": "carpet"
           }
          ],
          "choropleth": [
           {
            "colorbar": {
             "outlinewidth": 0,
             "ticks": ""
            },
            "type": "choropleth"
           }
          ],
          "contour": [
           {
            "colorbar": {
             "outlinewidth": 0,
             "ticks": ""
            },
            "colorscale": [
             [
              0,
              "#0d0887"
             ],
             [
              0.1111111111111111,
              "#46039f"
             ],
             [
              0.2222222222222222,
              "#7201a8"
             ],
             [
              0.3333333333333333,
              "#9c179e"
             ],
             [
              0.4444444444444444,
              "#bd3786"
             ],
             [
              0.5555555555555556,
              "#d8576b"
             ],
             [
              0.6666666666666666,
              "#ed7953"
             ],
             [
              0.7777777777777778,
              "#fb9f3a"
             ],
             [
              0.8888888888888888,
              "#fdca26"
             ],
             [
              1,
              "#f0f921"
             ]
            ],
            "type": "contour"
           }
          ],
          "contourcarpet": [
           {
            "colorbar": {
             "outlinewidth": 0,
             "ticks": ""
            },
            "type": "contourcarpet"
           }
          ],
          "heatmap": [
           {
            "colorbar": {
             "outlinewidth": 0,
             "ticks": ""
            },
            "colorscale": [
             [
              0,
              "#0d0887"
             ],
             [
              0.1111111111111111,
              "#46039f"
             ],
             [
              0.2222222222222222,
              "#7201a8"
             ],
             [
              0.3333333333333333,
              "#9c179e"
             ],
             [
              0.4444444444444444,
              "#bd3786"
             ],
             [
              0.5555555555555556,
              "#d8576b"
             ],
             [
              0.6666666666666666,
              "#ed7953"
             ],
             [
              0.7777777777777778,
              "#fb9f3a"
             ],
             [
              0.8888888888888888,
              "#fdca26"
             ],
             [
              1,
              "#f0f921"
             ]
            ],
            "type": "heatmap"
           }
          ],
          "heatmapgl": [
           {
            "colorbar": {
             "outlinewidth": 0,
             "ticks": ""
            },
            "colorscale": [
             [
              0,
              "#0d0887"
             ],
             [
              0.1111111111111111,
              "#46039f"
             ],
             [
              0.2222222222222222,
              "#7201a8"
             ],
             [
              0.3333333333333333,
              "#9c179e"
             ],
             [
              0.4444444444444444,
              "#bd3786"
             ],
             [
              0.5555555555555556,
              "#d8576b"
             ],
             [
              0.6666666666666666,
              "#ed7953"
             ],
             [
              0.7777777777777778,
              "#fb9f3a"
             ],
             [
              0.8888888888888888,
              "#fdca26"
             ],
             [
              1,
              "#f0f921"
             ]
            ],
            "type": "heatmapgl"
           }
          ],
          "histogram": [
           {
            "marker": {
             "pattern": {
              "fillmode": "overlay",
              "size": 10,
              "solidity": 0.2
             }
            },
            "type": "histogram"
           }
          ],
          "histogram2d": [
           {
            "colorbar": {
             "outlinewidth": 0,
             "ticks": ""
            },
            "colorscale": [
             [
              0,
              "#0d0887"
             ],
             [
              0.1111111111111111,
              "#46039f"
             ],
             [
              0.2222222222222222,
              "#7201a8"
             ],
             [
              0.3333333333333333,
              "#9c179e"
             ],
             [
              0.4444444444444444,
              "#bd3786"
             ],
             [
              0.5555555555555556,
              "#d8576b"
             ],
             [
              0.6666666666666666,
              "#ed7953"
             ],
             [
              0.7777777777777778,
              "#fb9f3a"
             ],
             [
              0.8888888888888888,
              "#fdca26"
             ],
             [
              1,
              "#f0f921"
             ]
            ],
            "type": "histogram2d"
           }
          ],
          "histogram2dcontour": [
           {
            "colorbar": {
             "outlinewidth": 0,
             "ticks": ""
            },
            "colorscale": [
             [
              0,
              "#0d0887"
             ],
             [
              0.1111111111111111,
              "#46039f"
             ],
             [
              0.2222222222222222,
              "#7201a8"
             ],
             [
              0.3333333333333333,
              "#9c179e"
             ],
             [
              0.4444444444444444,
              "#bd3786"
             ],
             [
              0.5555555555555556,
              "#d8576b"
             ],
             [
              0.6666666666666666,
              "#ed7953"
             ],
             [
              0.7777777777777778,
              "#fb9f3a"
             ],
             [
              0.8888888888888888,
              "#fdca26"
             ],
             [
              1,
              "#f0f921"
             ]
            ],
            "type": "histogram2dcontour"
           }
          ],
          "mesh3d": [
           {
            "colorbar": {
             "outlinewidth": 0,
             "ticks": ""
            },
            "type": "mesh3d"
           }
          ],
          "parcoords": [
           {
            "line": {
             "colorbar": {
              "outlinewidth": 0,
              "ticks": ""
             }
            },
            "type": "parcoords"
           }
          ],
          "pie": [
           {
            "automargin": true,
            "type": "pie"
           }
          ],
          "scatter": [
           {
            "fillpattern": {
             "fillmode": "overlay",
             "size": 10,
             "solidity": 0.2
            },
            "type": "scatter"
           }
          ],
          "scatter3d": [
           {
            "line": {
             "colorbar": {
              "outlinewidth": 0,
              "ticks": ""
             }
            },
            "marker": {
             "colorbar": {
              "outlinewidth": 0,
              "ticks": ""
             }
            },
            "type": "scatter3d"
           }
          ],
          "scattercarpet": [
           {
            "marker": {
             "colorbar": {
              "outlinewidth": 0,
              "ticks": ""
             }
            },
            "type": "scattercarpet"
           }
          ],
          "scattergeo": [
           {
            "marker": {
             "colorbar": {
              "outlinewidth": 0,
              "ticks": ""
             }
            },
            "type": "scattergeo"
           }
          ],
          "scattergl": [
           {
            "marker": {
             "colorbar": {
              "outlinewidth": 0,
              "ticks": ""
             }
            },
            "type": "scattergl"
           }
          ],
          "scattermapbox": [
           {
            "marker": {
             "colorbar": {
              "outlinewidth": 0,
              "ticks": ""
             }
            },
            "type": "scattermapbox"
           }
          ],
          "scatterpolar": [
           {
            "marker": {
             "colorbar": {
              "outlinewidth": 0,
              "ticks": ""
             }
            },
            "type": "scatterpolar"
           }
          ],
          "scatterpolargl": [
           {
            "marker": {
             "colorbar": {
              "outlinewidth": 0,
              "ticks": ""
             }
            },
            "type": "scatterpolargl"
           }
          ],
          "scatterternary": [
           {
            "marker": {
             "colorbar": {
              "outlinewidth": 0,
              "ticks": ""
             }
            },
            "type": "scatterternary"
           }
          ],
          "surface": [
           {
            "colorbar": {
             "outlinewidth": 0,
             "ticks": ""
            },
            "colorscale": [
             [
              0,
              "#0d0887"
             ],
             [
              0.1111111111111111,
              "#46039f"
             ],
             [
              0.2222222222222222,
              "#7201a8"
             ],
             [
              0.3333333333333333,
              "#9c179e"
             ],
             [
              0.4444444444444444,
              "#bd3786"
             ],
             [
              0.5555555555555556,
              "#d8576b"
             ],
             [
              0.6666666666666666,
              "#ed7953"
             ],
             [
              0.7777777777777778,
              "#fb9f3a"
             ],
             [
              0.8888888888888888,
              "#fdca26"
             ],
             [
              1,
              "#f0f921"
             ]
            ],
            "type": "surface"
           }
          ],
          "table": [
           {
            "cells": {
             "fill": {
              "color": "#EBF0F8"
             },
             "line": {
              "color": "white"
             }
            },
            "header": {
             "fill": {
              "color": "#C8D4E3"
             },
             "line": {
              "color": "white"
             }
            },
            "type": "table"
           }
          ]
         },
         "layout": {
          "annotationdefaults": {
           "arrowcolor": "#2a3f5f",
           "arrowhead": 0,
           "arrowwidth": 1
          },
          "autotypenumbers": "strict",
          "coloraxis": {
           "colorbar": {
            "outlinewidth": 0,
            "ticks": ""
           }
          },
          "colorscale": {
           "diverging": [
            [
             0,
             "#8e0152"
            ],
            [
             0.1,
             "#c51b7d"
            ],
            [
             0.2,
             "#de77ae"
            ],
            [
             0.3,
             "#f1b6da"
            ],
            [
             0.4,
             "#fde0ef"
            ],
            [
             0.5,
             "#f7f7f7"
            ],
            [
             0.6,
             "#e6f5d0"
            ],
            [
             0.7,
             "#b8e186"
            ],
            [
             0.8,
             "#7fbc41"
            ],
            [
             0.9,
             "#4d9221"
            ],
            [
             1,
             "#276419"
            ]
           ],
           "sequential": [
            [
             0,
             "#0d0887"
            ],
            [
             0.1111111111111111,
             "#46039f"
            ],
            [
             0.2222222222222222,
             "#7201a8"
            ],
            [
             0.3333333333333333,
             "#9c179e"
            ],
            [
             0.4444444444444444,
             "#bd3786"
            ],
            [
             0.5555555555555556,
             "#d8576b"
            ],
            [
             0.6666666666666666,
             "#ed7953"
            ],
            [
             0.7777777777777778,
             "#fb9f3a"
            ],
            [
             0.8888888888888888,
             "#fdca26"
            ],
            [
             1,
             "#f0f921"
            ]
           ],
           "sequentialminus": [
            [
             0,
             "#0d0887"
            ],
            [
             0.1111111111111111,
             "#46039f"
            ],
            [
             0.2222222222222222,
             "#7201a8"
            ],
            [
             0.3333333333333333,
             "#9c179e"
            ],
            [
             0.4444444444444444,
             "#bd3786"
            ],
            [
             0.5555555555555556,
             "#d8576b"
            ],
            [
             0.6666666666666666,
             "#ed7953"
            ],
            [
             0.7777777777777778,
             "#fb9f3a"
            ],
            [
             0.8888888888888888,
             "#fdca26"
            ],
            [
             1,
             "#f0f921"
            ]
           ]
          },
          "colorway": [
           "#636efa",
           "#EF553B",
           "#00cc96",
           "#ab63fa",
           "#FFA15A",
           "#19d3f3",
           "#FF6692",
           "#B6E880",
           "#FF97FF",
           "#FECB52"
          ],
          "font": {
           "color": "#2a3f5f"
          },
          "geo": {
           "bgcolor": "white",
           "lakecolor": "white",
           "landcolor": "#E5ECF6",
           "showlakes": true,
           "showland": true,
           "subunitcolor": "white"
          },
          "hoverlabel": {
           "align": "left"
          },
          "hovermode": "closest",
          "mapbox": {
           "style": "light"
          },
          "paper_bgcolor": "white",
          "plot_bgcolor": "#E5ECF6",
          "polar": {
           "angularaxis": {
            "gridcolor": "white",
            "linecolor": "white",
            "ticks": ""
           },
           "bgcolor": "#E5ECF6",
           "radialaxis": {
            "gridcolor": "white",
            "linecolor": "white",
            "ticks": ""
           }
          },
          "scene": {
           "xaxis": {
            "backgroundcolor": "#E5ECF6",
            "gridcolor": "white",
            "gridwidth": 2,
            "linecolor": "white",
            "showbackground": true,
            "ticks": "",
            "zerolinecolor": "white"
           },
           "yaxis": {
            "backgroundcolor": "#E5ECF6",
            "gridcolor": "white",
            "gridwidth": 2,
            "linecolor": "white",
            "showbackground": true,
            "ticks": "",
            "zerolinecolor": "white"
           },
           "zaxis": {
            "backgroundcolor": "#E5ECF6",
            "gridcolor": "white",
            "gridwidth": 2,
            "linecolor": "white",
            "showbackground": true,
            "ticks": "",
            "zerolinecolor": "white"
           }
          },
          "shapedefaults": {
           "line": {
            "color": "#2a3f5f"
           }
          },
          "ternary": {
           "aaxis": {
            "gridcolor": "white",
            "linecolor": "white",
            "ticks": ""
           },
           "baxis": {
            "gridcolor": "white",
            "linecolor": "white",
            "ticks": ""
           },
           "bgcolor": "#E5ECF6",
           "caxis": {
            "gridcolor": "white",
            "linecolor": "white",
            "ticks": ""
           }
          },
          "title": {
           "x": 0.05
          },
          "xaxis": {
           "automargin": true,
           "gridcolor": "white",
           "linecolor": "white",
           "ticks": "",
           "title": {
            "standoff": 15
           },
           "zerolinecolor": "white",
           "zerolinewidth": 2
          },
          "yaxis": {
           "automargin": true,
           "gridcolor": "white",
           "linecolor": "white",
           "ticks": "",
           "title": {
            "standoff": 15
           },
           "zerolinecolor": "white",
           "zerolinewidth": 2
          }
         }
        },
        "xaxis": {
         "anchor": "y",
         "domain": [
          0,
          1
         ],
         "title": {
          "text": "Improvement to Average Best in Percent"
         }
        },
        "yaxis": {
         "anchor": "x",
         "domain": [
          0,
          1
         ],
         "title": {
          "text": "Amount"
         }
        }
       }
      },
      "text/html": [
       "<div>                            <div id=\"97521d17-9655-4115-8188-99f1967d87ee\" class=\"plotly-graph-div\" style=\"height:525px; width:100%;\"></div>            <script type=\"text/javascript\">                require([\"plotly\"], function(Plotly) {                    window.PLOTLYENV=window.PLOTLYENV || {};                                    if (document.getElementById(\"97521d17-9655-4115-8188-99f1967d87ee\")) {                    Plotly.newPlot(                        \"97521d17-9655-4115-8188-99f1967d87ee\",                        [{\"alignmentgroup\":\"True\",\"hovertemplate\":\"Improvement to Average Best in Percent=%{x}<br>Amount=%{y}<extra></extra>\",\"legendgroup\":\"\",\"marker\":{\"color\":\"#636efa\",\"pattern\":{\"shape\":\"\"}},\"name\":\"\",\"offsetgroup\":\"\",\"orientation\":\"v\",\"showlegend\":false,\"textposition\":\"auto\",\"x\":[\"less than 0.01\",\"0.01 to 0.03\",\"0.03 to 0.05\",\"0.05 to 0.07\",\"0.07 to 0.09\",\"more than 0.09\"],\"xaxis\":\"x\",\"y\":[218,7,2,0,0,1],\"yaxis\":\"y\",\"type\":\"bar\"}],                        {\"template\":{\"data\":{\"histogram2dcontour\":[{\"type\":\"histogram2dcontour\",\"colorbar\":{\"outlinewidth\":0,\"ticks\":\"\"},\"colorscale\":[[0.0,\"#0d0887\"],[0.1111111111111111,\"#46039f\"],[0.2222222222222222,\"#7201a8\"],[0.3333333333333333,\"#9c179e\"],[0.4444444444444444,\"#bd3786\"],[0.5555555555555556,\"#d8576b\"],[0.6666666666666666,\"#ed7953\"],[0.7777777777777778,\"#fb9f3a\"],[0.8888888888888888,\"#fdca26\"],[1.0,\"#f0f921\"]]}],\"choropleth\":[{\"type\":\"choropleth\",\"colorbar\":{\"outlinewidth\":0,\"ticks\":\"\"}}],\"histogram2d\":[{\"type\":\"histogram2d\",\"colorbar\":{\"outlinewidth\":0,\"ticks\":\"\"},\"colorscale\":[[0.0,\"#0d0887\"],[0.1111111111111111,\"#46039f\"],[0.2222222222222222,\"#7201a8\"],[0.3333333333333333,\"#9c179e\"],[0.4444444444444444,\"#bd3786\"],[0.5555555555555556,\"#d8576b\"],[0.6666666666666666,\"#ed7953\"],[0.7777777777777778,\"#fb9f3a\"],[0.8888888888888888,\"#fdca26\"],[1.0,\"#f0f921\"]]}],\"heatmap\":[{\"type\":\"heatmap\",\"colorbar\":{\"outlinewidth\":0,\"ticks\":\"\"},\"colorscale\":[[0.0,\"#0d0887\"],[0.1111111111111111,\"#46039f\"],[0.2222222222222222,\"#7201a8\"],[0.3333333333333333,\"#9c179e\"],[0.4444444444444444,\"#bd3786\"],[0.5555555555555556,\"#d8576b\"],[0.6666666666666666,\"#ed7953\"],[0.7777777777777778,\"#fb9f3a\"],[0.8888888888888888,\"#fdca26\"],[1.0,\"#f0f921\"]]}],\"heatmapgl\":[{\"type\":\"heatmapgl\",\"colorbar\":{\"outlinewidth\":0,\"ticks\":\"\"},\"colorscale\":[[0.0,\"#0d0887\"],[0.1111111111111111,\"#46039f\"],[0.2222222222222222,\"#7201a8\"],[0.3333333333333333,\"#9c179e\"],[0.4444444444444444,\"#bd3786\"],[0.5555555555555556,\"#d8576b\"],[0.6666666666666666,\"#ed7953\"],[0.7777777777777778,\"#fb9f3a\"],[0.8888888888888888,\"#fdca26\"],[1.0,\"#f0f921\"]]}],\"contourcarpet\":[{\"type\":\"contourcarpet\",\"colorbar\":{\"outlinewidth\":0,\"ticks\":\"\"}}],\"contour\":[{\"type\":\"contour\",\"colorbar\":{\"outlinewidth\":0,\"ticks\":\"\"},\"colorscale\":[[0.0,\"#0d0887\"],[0.1111111111111111,\"#46039f\"],[0.2222222222222222,\"#7201a8\"],[0.3333333333333333,\"#9c179e\"],[0.4444444444444444,\"#bd3786\"],[0.5555555555555556,\"#d8576b\"],[0.6666666666666666,\"#ed7953\"],[0.7777777777777778,\"#fb9f3a\"],[0.8888888888888888,\"#fdca26\"],[1.0,\"#f0f921\"]]}],\"surface\":[{\"type\":\"surface\",\"colorbar\":{\"outlinewidth\":0,\"ticks\":\"\"},\"colorscale\":[[0.0,\"#0d0887\"],[0.1111111111111111,\"#46039f\"],[0.2222222222222222,\"#7201a8\"],[0.3333333333333333,\"#9c179e\"],[0.4444444444444444,\"#bd3786\"],[0.5555555555555556,\"#d8576b\"],[0.6666666666666666,\"#ed7953\"],[0.7777777777777778,\"#fb9f3a\"],[0.8888888888888888,\"#fdca26\"],[1.0,\"#f0f921\"]]}],\"mesh3d\":[{\"type\":\"mesh3d\",\"colorbar\":{\"outlinewidth\":0,\"ticks\":\"\"}}],\"scatter\":[{\"fillpattern\":{\"fillmode\":\"overlay\",\"size\":10,\"solidity\":0.2},\"type\":\"scatter\"}],\"parcoords\":[{\"type\":\"parcoords\",\"line\":{\"colorbar\":{\"outlinewidth\":0,\"ticks\":\"\"}}}],\"scatterpolargl\":[{\"type\":\"scatterpolargl\",\"marker\":{\"colorbar\":{\"outlinewidth\":0,\"ticks\":\"\"}}}],\"bar\":[{\"error_x\":{\"color\":\"#2a3f5f\"},\"error_y\":{\"color\":\"#2a3f5f\"},\"marker\":{\"line\":{\"color\":\"#E5ECF6\",\"width\":0.5},\"pattern\":{\"fillmode\":\"overlay\",\"size\":10,\"solidity\":0.2}},\"type\":\"bar\"}],\"scattergeo\":[{\"type\":\"scattergeo\",\"marker\":{\"colorbar\":{\"outlinewidth\":0,\"ticks\":\"\"}}}],\"scatterpolar\":[{\"type\":\"scatterpolar\",\"marker\":{\"colorbar\":{\"outlinewidth\":0,\"ticks\":\"\"}}}],\"histogram\":[{\"marker\":{\"pattern\":{\"fillmode\":\"overlay\",\"size\":10,\"solidity\":0.2}},\"type\":\"histogram\"}],\"scattergl\":[{\"type\":\"scattergl\",\"marker\":{\"colorbar\":{\"outlinewidth\":0,\"ticks\":\"\"}}}],\"scatter3d\":[{\"type\":\"scatter3d\",\"line\":{\"colorbar\":{\"outlinewidth\":0,\"ticks\":\"\"}},\"marker\":{\"colorbar\":{\"outlinewidth\":0,\"ticks\":\"\"}}}],\"scattermapbox\":[{\"type\":\"scattermapbox\",\"marker\":{\"colorbar\":{\"outlinewidth\":0,\"ticks\":\"\"}}}],\"scatterternary\":[{\"type\":\"scatterternary\",\"marker\":{\"colorbar\":{\"outlinewidth\":0,\"ticks\":\"\"}}}],\"scattercarpet\":[{\"type\":\"scattercarpet\",\"marker\":{\"colorbar\":{\"outlinewidth\":0,\"ticks\":\"\"}}}],\"carpet\":[{\"aaxis\":{\"endlinecolor\":\"#2a3f5f\",\"gridcolor\":\"white\",\"linecolor\":\"white\",\"minorgridcolor\":\"white\",\"startlinecolor\":\"#2a3f5f\"},\"baxis\":{\"endlinecolor\":\"#2a3f5f\",\"gridcolor\":\"white\",\"linecolor\":\"white\",\"minorgridcolor\":\"white\",\"startlinecolor\":\"#2a3f5f\"},\"type\":\"carpet\"}],\"table\":[{\"cells\":{\"fill\":{\"color\":\"#EBF0F8\"},\"line\":{\"color\":\"white\"}},\"header\":{\"fill\":{\"color\":\"#C8D4E3\"},\"line\":{\"color\":\"white\"}},\"type\":\"table\"}],\"barpolar\":[{\"marker\":{\"line\":{\"color\":\"#E5ECF6\",\"width\":0.5},\"pattern\":{\"fillmode\":\"overlay\",\"size\":10,\"solidity\":0.2}},\"type\":\"barpolar\"}],\"pie\":[{\"automargin\":true,\"type\":\"pie\"}]},\"layout\":{\"autotypenumbers\":\"strict\",\"colorway\":[\"#636efa\",\"#EF553B\",\"#00cc96\",\"#ab63fa\",\"#FFA15A\",\"#19d3f3\",\"#FF6692\",\"#B6E880\",\"#FF97FF\",\"#FECB52\"],\"font\":{\"color\":\"#2a3f5f\"},\"hovermode\":\"closest\",\"hoverlabel\":{\"align\":\"left\"},\"paper_bgcolor\":\"white\",\"plot_bgcolor\":\"#E5ECF6\",\"polar\":{\"bgcolor\":\"#E5ECF6\",\"angularaxis\":{\"gridcolor\":\"white\",\"linecolor\":\"white\",\"ticks\":\"\"},\"radialaxis\":{\"gridcolor\":\"white\",\"linecolor\":\"white\",\"ticks\":\"\"}},\"ternary\":{\"bgcolor\":\"#E5ECF6\",\"aaxis\":{\"gridcolor\":\"white\",\"linecolor\":\"white\",\"ticks\":\"\"},\"baxis\":{\"gridcolor\":\"white\",\"linecolor\":\"white\",\"ticks\":\"\"},\"caxis\":{\"gridcolor\":\"white\",\"linecolor\":\"white\",\"ticks\":\"\"}},\"coloraxis\":{\"colorbar\":{\"outlinewidth\":0,\"ticks\":\"\"}},\"colorscale\":{\"sequential\":[[0.0,\"#0d0887\"],[0.1111111111111111,\"#46039f\"],[0.2222222222222222,\"#7201a8\"],[0.3333333333333333,\"#9c179e\"],[0.4444444444444444,\"#bd3786\"],[0.5555555555555556,\"#d8576b\"],[0.6666666666666666,\"#ed7953\"],[0.7777777777777778,\"#fb9f3a\"],[0.8888888888888888,\"#fdca26\"],[1.0,\"#f0f921\"]],\"sequentialminus\":[[0.0,\"#0d0887\"],[0.1111111111111111,\"#46039f\"],[0.2222222222222222,\"#7201a8\"],[0.3333333333333333,\"#9c179e\"],[0.4444444444444444,\"#bd3786\"],[0.5555555555555556,\"#d8576b\"],[0.6666666666666666,\"#ed7953\"],[0.7777777777777778,\"#fb9f3a\"],[0.8888888888888888,\"#fdca26\"],[1.0,\"#f0f921\"]],\"diverging\":[[0,\"#8e0152\"],[0.1,\"#c51b7d\"],[0.2,\"#de77ae\"],[0.3,\"#f1b6da\"],[0.4,\"#fde0ef\"],[0.5,\"#f7f7f7\"],[0.6,\"#e6f5d0\"],[0.7,\"#b8e186\"],[0.8,\"#7fbc41\"],[0.9,\"#4d9221\"],[1,\"#276419\"]]},\"xaxis\":{\"gridcolor\":\"white\",\"linecolor\":\"white\",\"ticks\":\"\",\"title\":{\"standoff\":15},\"zerolinecolor\":\"white\",\"automargin\":true,\"zerolinewidth\":2},\"yaxis\":{\"gridcolor\":\"white\",\"linecolor\":\"white\",\"ticks\":\"\",\"title\":{\"standoff\":15},\"zerolinecolor\":\"white\",\"automargin\":true,\"zerolinewidth\":2},\"scene\":{\"xaxis\":{\"backgroundcolor\":\"#E5ECF6\",\"gridcolor\":\"white\",\"linecolor\":\"white\",\"showbackground\":true,\"ticks\":\"\",\"zerolinecolor\":\"white\",\"gridwidth\":2},\"yaxis\":{\"backgroundcolor\":\"#E5ECF6\",\"gridcolor\":\"white\",\"linecolor\":\"white\",\"showbackground\":true,\"ticks\":\"\",\"zerolinecolor\":\"white\",\"gridwidth\":2},\"zaxis\":{\"backgroundcolor\":\"#E5ECF6\",\"gridcolor\":\"white\",\"linecolor\":\"white\",\"showbackground\":true,\"ticks\":\"\",\"zerolinecolor\":\"white\",\"gridwidth\":2}},\"shapedefaults\":{\"line\":{\"color\":\"#2a3f5f\"}},\"annotationdefaults\":{\"arrowcolor\":\"#2a3f5f\",\"arrowhead\":0,\"arrowwidth\":1},\"geo\":{\"bgcolor\":\"white\",\"landcolor\":\"#E5ECF6\",\"subunitcolor\":\"white\",\"showland\":true,\"showlakes\":true,\"lakecolor\":\"white\"},\"title\":{\"x\":0.05},\"mapbox\":{\"style\":\"light\"}}},\"xaxis\":{\"anchor\":\"y\",\"domain\":[0.0,1.0],\"title\":{\"text\":\"Improvement to Average Best in Percent\"}},\"yaxis\":{\"anchor\":\"x\",\"domain\":[0.0,1.0],\"title\":{\"text\":\"Amount\"}},\"legend\":{\"tracegroupgap\":0},\"margin\":{\"t\":60},\"barmode\":\"relative\"},                        {\"responsive\": true}                    ).then(function(){\n",
       "                            \n",
       "var gd = document.getElementById('97521d17-9655-4115-8188-99f1967d87ee');\n",
       "var x = new MutationObserver(function (mutations, observer) {{\n",
       "        var display = window.getComputedStyle(gd).display;\n",
       "        if (!display || display === 'none') {{\n",
       "            console.log([gd, 'removed!']);\n",
       "            Plotly.purge(gd);\n",
       "            observer.disconnect();\n",
       "        }}\n",
       "}});\n",
       "\n",
       "// Listen for the removal of the full notebook cells\n",
       "var notebookContainer = gd.closest('#notebook-container');\n",
       "if (notebookContainer) {{\n",
       "    x.observe(notebookContainer, {childList: true});\n",
       "}}\n",
       "\n",
       "// Listen for the clearing of the current output cell\n",
       "var outputEl = gd.closest('.output');\n",
       "if (outputEl) {{\n",
       "    x.observe(outputEl, {childList: true});\n",
       "}}\n",
       "\n",
       "                        })                };                });            </script>        </div>"
      ]
     },
     "metadata": {},
     "output_type": "display_data"
    }
   ],
   "source": [
    "len_df_01 = len(df_01.index)\n",
    "len_df01 = len(df01.index)\n",
    "len_df03 = len(df03.index)\n",
    "len_df05 = len(df05.index)\n",
    "len_df07 = len(df07.index)\n",
    "len_df09 = len(df09.index)\n",
    "\n",
    "quantile_freq = []\n",
    "quantile_freq.extend((len_df_01, len_df01, len_df03, len_df05, len_df07, len_df09))\n",
    "print(quantile_freq)\n",
    "\n",
    "\n",
    "quantiles = []\n",
    "quantiles.extend(['less than 0.01', '0.01 to 0.03', '0.03 to 0.05', '0.05 to 0.07', '0.07 to 0.09', 'more than 0.09'])\n",
    "print(quantiles)\n",
    "\n",
    "improvement_quantiles = pd.DataFrame(\n",
    "    {'Improvement to Average Best in Percent': quantiles,\n",
    "     'Amount': quantile_freq,\n",
    "    })\n",
    "\n",
    "fig = px.bar(improvement_quantiles, x='Improvement to Average Best in Percent', y='Amount')\n",
    "fig.show()\n",
    "fig.write_image(\"improv_rel_to_av_all_DC_no_av_incl_only_best.pdf\")"
   ]
  },
  {
   "cell_type": "code",
   "execution_count": null,
   "id": "1fa55f07",
   "metadata": {},
   "outputs": [
    {
     "name": "stdout",
     "output_type": "stream",
     "text": [
      "['KNN', 'Mean/Mode', 'VAE', 'GAIN', 'Discriminative DL']\n",
      "[]\n",
      "[23, 1, 0, 0, 0, 0]\n",
      "[47, 2, 1, 0, 0, 0]\n",
      "[35, 2, 0, 0, 0, 0]\n",
      "[29, 0, 1, 0, 0, 1]\n",
      "[36, 2, 0, 0, 0, 0]\n"
     ]
    }
   ],
   "source": [
    "# split barchart stacks into methods\n",
    "\n",
    "quantile_datasets = [df_01, df01, df03, df05, df07, df09]\n",
    "\n",
    "methods = ['Random Forest', 'KNN', 'Mean/Mode', 'VAE', 'GAIN', 'Discriminative DL']\n",
    "methods.remove(AVERAGE_BEST_IMPUTATION_METHOD)\n",
    "print(methods)\n",
    "\n",
    "forest_freq = []\n",
    "knn_freq = []\n",
    "mode_freq = []\n",
    "dl_freq = []\n",
    "vae_freq = []\n",
    "gain_freq = []\n",
    "#print(quantile_datasets)\n",
    "\n",
    "for i in methods:\n",
    "    for j in quantile_datasets:\n",
    "        df_temp = j.copy()\n",
    "        df_temp = df_temp[df_temp['Imputation_Method'].str.contains(i)]\n",
    "        df_temp_len = len(df_temp.index)\n",
    "        if (i == 'Random Forest'):\n",
    "            forest_freq.append(df_temp_len)\n",
    "        elif (i == 'KNN'):\n",
    "            knn_freq.append(df_temp_len)                                       \n",
    "        elif (i == 'Mean/Mode'):\n",
    "            mode_freq.append(df_temp_len)                                                 \n",
    "        elif (i == 'Discriminative DL'):\n",
    "            dl_freq.append(df_temp_len)                                       \n",
    "        elif (i == 'VAE'):\n",
    "            vae_freq.append(df_temp_len)                                         \n",
    "        elif (i == 'GAIN'):\n",
    "            gain_freq.append(df_temp_len)                                          \n",
    "                                       \n",
    "print(forest_freq)\n",
    "print(knn_freq)\n",
    "print(mode_freq)\n",
    "print(dl_freq)\n",
    "print(vae_freq)\n",
    "print(gain_freq)"
   ]
  },
  {
   "cell_type": "code",
   "execution_count": null,
   "id": "b168b49a",
   "metadata": {},
   "outputs": [
    {
     "data": {
      "application/vnd.plotly.v1+json": {
       "config": {
        "plotlyServerURL": "https://plot.ly"
       },
       "data": [
        {
         "name": "Random Forest",
         "type": "bar",
         "x": [
          "less than 0.01",
          "0.01 to 0.03",
          "0.03 to 0.05",
          "0.05 to 0.07",
          "0.07 to 0.09",
          "more than 0.09"
         ],
         "y": []
        },
        {
         "name": "KNN",
         "type": "bar",
         "x": [
          "less than 0.01",
          "0.01 to 0.03",
          "0.03 to 0.05",
          "0.05 to 0.07",
          "0.07 to 0.09",
          "more than 0.09"
         ],
         "y": [
          23,
          1,
          0,
          0,
          0,
          0
         ]
        },
        {
         "name": "Mean/Mode",
         "type": "bar",
         "x": [
          "less than 0.01",
          "0.01 to 0.03",
          "0.03 to 0.05",
          "0.05 to 0.07",
          "0.07 to 0.09",
          "more than 0.09"
         ],
         "y": [
          47,
          2,
          1,
          0,
          0,
          0
         ]
        },
        {
         "name": "Discriminative DL",
         "type": "bar",
         "x": [
          "less than 0.01",
          "0.01 to 0.03",
          "0.03 to 0.05",
          "0.05 to 0.07",
          "0.07 to 0.09",
          "more than 0.09"
         ],
         "y": [
          35,
          2,
          0,
          0,
          0,
          0
         ]
        },
        {
         "name": "VAE",
         "type": "bar",
         "x": [
          "less than 0.01",
          "0.01 to 0.03",
          "0.03 to 0.05",
          "0.05 to 0.07",
          "0.07 to 0.09",
          "more than 0.09"
         ],
         "y": [
          29,
          0,
          1,
          0,
          0,
          1
         ]
        },
        {
         "name": "GAIN",
         "type": "bar",
         "x": [
          "less than 0.01",
          "0.01 to 0.03",
          "0.03 to 0.05",
          "0.05 to 0.07",
          "0.07 to 0.09",
          "more than 0.09"
         ],
         "y": [
          36,
          2,
          0,
          0,
          0,
          0
         ]
        }
       ],
       "layout": {
        "barmode": "stack",
        "template": {
         "data": {
          "bar": [
           {
            "error_x": {
             "color": "#2a3f5f"
            },
            "error_y": {
             "color": "#2a3f5f"
            },
            "marker": {
             "line": {
              "color": "#E5ECF6",
              "width": 0.5
             },
             "pattern": {
              "fillmode": "overlay",
              "size": 10,
              "solidity": 0.2
             }
            },
            "type": "bar"
           }
          ],
          "barpolar": [
           {
            "marker": {
             "line": {
              "color": "#E5ECF6",
              "width": 0.5
             },
             "pattern": {
              "fillmode": "overlay",
              "size": 10,
              "solidity": 0.2
             }
            },
            "type": "barpolar"
           }
          ],
          "carpet": [
           {
            "aaxis": {
             "endlinecolor": "#2a3f5f",
             "gridcolor": "white",
             "linecolor": "white",
             "minorgridcolor": "white",
             "startlinecolor": "#2a3f5f"
            },
            "baxis": {
             "endlinecolor": "#2a3f5f",
             "gridcolor": "white",
             "linecolor": "white",
             "minorgridcolor": "white",
             "startlinecolor": "#2a3f5f"
            },
            "type": "carpet"
           }
          ],
          "choropleth": [
           {
            "colorbar": {
             "outlinewidth": 0,
             "ticks": ""
            },
            "type": "choropleth"
           }
          ],
          "contour": [
           {
            "colorbar": {
             "outlinewidth": 0,
             "ticks": ""
            },
            "colorscale": [
             [
              0,
              "#0d0887"
             ],
             [
              0.1111111111111111,
              "#46039f"
             ],
             [
              0.2222222222222222,
              "#7201a8"
             ],
             [
              0.3333333333333333,
              "#9c179e"
             ],
             [
              0.4444444444444444,
              "#bd3786"
             ],
             [
              0.5555555555555556,
              "#d8576b"
             ],
             [
              0.6666666666666666,
              "#ed7953"
             ],
             [
              0.7777777777777778,
              "#fb9f3a"
             ],
             [
              0.8888888888888888,
              "#fdca26"
             ],
             [
              1,
              "#f0f921"
             ]
            ],
            "type": "contour"
           }
          ],
          "contourcarpet": [
           {
            "colorbar": {
             "outlinewidth": 0,
             "ticks": ""
            },
            "type": "contourcarpet"
           }
          ],
          "heatmap": [
           {
            "colorbar": {
             "outlinewidth": 0,
             "ticks": ""
            },
            "colorscale": [
             [
              0,
              "#0d0887"
             ],
             [
              0.1111111111111111,
              "#46039f"
             ],
             [
              0.2222222222222222,
              "#7201a8"
             ],
             [
              0.3333333333333333,
              "#9c179e"
             ],
             [
              0.4444444444444444,
              "#bd3786"
             ],
             [
              0.5555555555555556,
              "#d8576b"
             ],
             [
              0.6666666666666666,
              "#ed7953"
             ],
             [
              0.7777777777777778,
              "#fb9f3a"
             ],
             [
              0.8888888888888888,
              "#fdca26"
             ],
             [
              1,
              "#f0f921"
             ]
            ],
            "type": "heatmap"
           }
          ],
          "heatmapgl": [
           {
            "colorbar": {
             "outlinewidth": 0,
             "ticks": ""
            },
            "colorscale": [
             [
              0,
              "#0d0887"
             ],
             [
              0.1111111111111111,
              "#46039f"
             ],
             [
              0.2222222222222222,
              "#7201a8"
             ],
             [
              0.3333333333333333,
              "#9c179e"
             ],
             [
              0.4444444444444444,
              "#bd3786"
             ],
             [
              0.5555555555555556,
              "#d8576b"
             ],
             [
              0.6666666666666666,
              "#ed7953"
             ],
             [
              0.7777777777777778,
              "#fb9f3a"
             ],
             [
              0.8888888888888888,
              "#fdca26"
             ],
             [
              1,
              "#f0f921"
             ]
            ],
            "type": "heatmapgl"
           }
          ],
          "histogram": [
           {
            "marker": {
             "pattern": {
              "fillmode": "overlay",
              "size": 10,
              "solidity": 0.2
             }
            },
            "type": "histogram"
           }
          ],
          "histogram2d": [
           {
            "colorbar": {
             "outlinewidth": 0,
             "ticks": ""
            },
            "colorscale": [
             [
              0,
              "#0d0887"
             ],
             [
              0.1111111111111111,
              "#46039f"
             ],
             [
              0.2222222222222222,
              "#7201a8"
             ],
             [
              0.3333333333333333,
              "#9c179e"
             ],
             [
              0.4444444444444444,
              "#bd3786"
             ],
             [
              0.5555555555555556,
              "#d8576b"
             ],
             [
              0.6666666666666666,
              "#ed7953"
             ],
             [
              0.7777777777777778,
              "#fb9f3a"
             ],
             [
              0.8888888888888888,
              "#fdca26"
             ],
             [
              1,
              "#f0f921"
             ]
            ],
            "type": "histogram2d"
           }
          ],
          "histogram2dcontour": [
           {
            "colorbar": {
             "outlinewidth": 0,
             "ticks": ""
            },
            "colorscale": [
             [
              0,
              "#0d0887"
             ],
             [
              0.1111111111111111,
              "#46039f"
             ],
             [
              0.2222222222222222,
              "#7201a8"
             ],
             [
              0.3333333333333333,
              "#9c179e"
             ],
             [
              0.4444444444444444,
              "#bd3786"
             ],
             [
              0.5555555555555556,
              "#d8576b"
             ],
             [
              0.6666666666666666,
              "#ed7953"
             ],
             [
              0.7777777777777778,
              "#fb9f3a"
             ],
             [
              0.8888888888888888,
              "#fdca26"
             ],
             [
              1,
              "#f0f921"
             ]
            ],
            "type": "histogram2dcontour"
           }
          ],
          "mesh3d": [
           {
            "colorbar": {
             "outlinewidth": 0,
             "ticks": ""
            },
            "type": "mesh3d"
           }
          ],
          "parcoords": [
           {
            "line": {
             "colorbar": {
              "outlinewidth": 0,
              "ticks": ""
             }
            },
            "type": "parcoords"
           }
          ],
          "pie": [
           {
            "automargin": true,
            "type": "pie"
           }
          ],
          "scatter": [
           {
            "fillpattern": {
             "fillmode": "overlay",
             "size": 10,
             "solidity": 0.2
            },
            "type": "scatter"
           }
          ],
          "scatter3d": [
           {
            "line": {
             "colorbar": {
              "outlinewidth": 0,
              "ticks": ""
             }
            },
            "marker": {
             "colorbar": {
              "outlinewidth": 0,
              "ticks": ""
             }
            },
            "type": "scatter3d"
           }
          ],
          "scattercarpet": [
           {
            "marker": {
             "colorbar": {
              "outlinewidth": 0,
              "ticks": ""
             }
            },
            "type": "scattercarpet"
           }
          ],
          "scattergeo": [
           {
            "marker": {
             "colorbar": {
              "outlinewidth": 0,
              "ticks": ""
             }
            },
            "type": "scattergeo"
           }
          ],
          "scattergl": [
           {
            "marker": {
             "colorbar": {
              "outlinewidth": 0,
              "ticks": ""
             }
            },
            "type": "scattergl"
           }
          ],
          "scattermapbox": [
           {
            "marker": {
             "colorbar": {
              "outlinewidth": 0,
              "ticks": ""
             }
            },
            "type": "scattermapbox"
           }
          ],
          "scatterpolar": [
           {
            "marker": {
             "colorbar": {
              "outlinewidth": 0,
              "ticks": ""
             }
            },
            "type": "scatterpolar"
           }
          ],
          "scatterpolargl": [
           {
            "marker": {
             "colorbar": {
              "outlinewidth": 0,
              "ticks": ""
             }
            },
            "type": "scatterpolargl"
           }
          ],
          "scatterternary": [
           {
            "marker": {
             "colorbar": {
              "outlinewidth": 0,
              "ticks": ""
             }
            },
            "type": "scatterternary"
           }
          ],
          "surface": [
           {
            "colorbar": {
             "outlinewidth": 0,
             "ticks": ""
            },
            "colorscale": [
             [
              0,
              "#0d0887"
             ],
             [
              0.1111111111111111,
              "#46039f"
             ],
             [
              0.2222222222222222,
              "#7201a8"
             ],
             [
              0.3333333333333333,
              "#9c179e"
             ],
             [
              0.4444444444444444,
              "#bd3786"
             ],
             [
              0.5555555555555556,
              "#d8576b"
             ],
             [
              0.6666666666666666,
              "#ed7953"
             ],
             [
              0.7777777777777778,
              "#fb9f3a"
             ],
             [
              0.8888888888888888,
              "#fdca26"
             ],
             [
              1,
              "#f0f921"
             ]
            ],
            "type": "surface"
           }
          ],
          "table": [
           {
            "cells": {
             "fill": {
              "color": "#EBF0F8"
             },
             "line": {
              "color": "white"
             }
            },
            "header": {
             "fill": {
              "color": "#C8D4E3"
             },
             "line": {
              "color": "white"
             }
            },
            "type": "table"
           }
          ]
         },
         "layout": {
          "annotationdefaults": {
           "arrowcolor": "#2a3f5f",
           "arrowhead": 0,
           "arrowwidth": 1
          },
          "autotypenumbers": "strict",
          "coloraxis": {
           "colorbar": {
            "outlinewidth": 0,
            "ticks": ""
           }
          },
          "colorscale": {
           "diverging": [
            [
             0,
             "#8e0152"
            ],
            [
             0.1,
             "#c51b7d"
            ],
            [
             0.2,
             "#de77ae"
            ],
            [
             0.3,
             "#f1b6da"
            ],
            [
             0.4,
             "#fde0ef"
            ],
            [
             0.5,
             "#f7f7f7"
            ],
            [
             0.6,
             "#e6f5d0"
            ],
            [
             0.7,
             "#b8e186"
            ],
            [
             0.8,
             "#7fbc41"
            ],
            [
             0.9,
             "#4d9221"
            ],
            [
             1,
             "#276419"
            ]
           ],
           "sequential": [
            [
             0,
             "#0d0887"
            ],
            [
             0.1111111111111111,
             "#46039f"
            ],
            [
             0.2222222222222222,
             "#7201a8"
            ],
            [
             0.3333333333333333,
             "#9c179e"
            ],
            [
             0.4444444444444444,
             "#bd3786"
            ],
            [
             0.5555555555555556,
             "#d8576b"
            ],
            [
             0.6666666666666666,
             "#ed7953"
            ],
            [
             0.7777777777777778,
             "#fb9f3a"
            ],
            [
             0.8888888888888888,
             "#fdca26"
            ],
            [
             1,
             "#f0f921"
            ]
           ],
           "sequentialminus": [
            [
             0,
             "#0d0887"
            ],
            [
             0.1111111111111111,
             "#46039f"
            ],
            [
             0.2222222222222222,
             "#7201a8"
            ],
            [
             0.3333333333333333,
             "#9c179e"
            ],
            [
             0.4444444444444444,
             "#bd3786"
            ],
            [
             0.5555555555555556,
             "#d8576b"
            ],
            [
             0.6666666666666666,
             "#ed7953"
            ],
            [
             0.7777777777777778,
             "#fb9f3a"
            ],
            [
             0.8888888888888888,
             "#fdca26"
            ],
            [
             1,
             "#f0f921"
            ]
           ]
          },
          "colorway": [
           "#636efa",
           "#EF553B",
           "#00cc96",
           "#ab63fa",
           "#FFA15A",
           "#19d3f3",
           "#FF6692",
           "#B6E880",
           "#FF97FF",
           "#FECB52"
          ],
          "font": {
           "color": "#2a3f5f"
          },
          "geo": {
           "bgcolor": "white",
           "lakecolor": "white",
           "landcolor": "#E5ECF6",
           "showlakes": true,
           "showland": true,
           "subunitcolor": "white"
          },
          "hoverlabel": {
           "align": "left"
          },
          "hovermode": "closest",
          "mapbox": {
           "style": "light"
          },
          "paper_bgcolor": "white",
          "plot_bgcolor": "#E5ECF6",
          "polar": {
           "angularaxis": {
            "gridcolor": "white",
            "linecolor": "white",
            "ticks": ""
           },
           "bgcolor": "#E5ECF6",
           "radialaxis": {
            "gridcolor": "white",
            "linecolor": "white",
            "ticks": ""
           }
          },
          "scene": {
           "xaxis": {
            "backgroundcolor": "#E5ECF6",
            "gridcolor": "white",
            "gridwidth": 2,
            "linecolor": "white",
            "showbackground": true,
            "ticks": "",
            "zerolinecolor": "white"
           },
           "yaxis": {
            "backgroundcolor": "#E5ECF6",
            "gridcolor": "white",
            "gridwidth": 2,
            "linecolor": "white",
            "showbackground": true,
            "ticks": "",
            "zerolinecolor": "white"
           },
           "zaxis": {
            "backgroundcolor": "#E5ECF6",
            "gridcolor": "white",
            "gridwidth": 2,
            "linecolor": "white",
            "showbackground": true,
            "ticks": "",
            "zerolinecolor": "white"
           }
          },
          "shapedefaults": {
           "line": {
            "color": "#2a3f5f"
           }
          },
          "ternary": {
           "aaxis": {
            "gridcolor": "white",
            "linecolor": "white",
            "ticks": ""
           },
           "baxis": {
            "gridcolor": "white",
            "linecolor": "white",
            "ticks": ""
           },
           "bgcolor": "#E5ECF6",
           "caxis": {
            "gridcolor": "white",
            "linecolor": "white",
            "ticks": ""
           }
          },
          "title": {
           "x": 0.05
          },
          "xaxis": {
           "automargin": true,
           "gridcolor": "white",
           "linecolor": "white",
           "ticks": "",
           "title": {
            "standoff": 15
           },
           "zerolinecolor": "white",
           "zerolinewidth": 2
          },
          "yaxis": {
           "automargin": true,
           "gridcolor": "white",
           "linecolor": "white",
           "ticks": "",
           "title": {
            "standoff": 15
           },
           "zerolinecolor": "white",
           "zerolinewidth": 2
          }
         }
        }
       }
      },
      "text/html": [
       "<div>                            <div id=\"914da0fa-acd4-471f-add1-a555449f21e6\" class=\"plotly-graph-div\" style=\"height:525px; width:100%;\"></div>            <script type=\"text/javascript\">                require([\"plotly\"], function(Plotly) {                    window.PLOTLYENV=window.PLOTLYENV || {};                                    if (document.getElementById(\"914da0fa-acd4-471f-add1-a555449f21e6\")) {                    Plotly.newPlot(                        \"914da0fa-acd4-471f-add1-a555449f21e6\",                        [{\"name\":\"Random Forest\",\"x\":[\"less than 0.01\",\"0.01 to 0.03\",\"0.03 to 0.05\",\"0.05 to 0.07\",\"0.07 to 0.09\",\"more than 0.09\"],\"y\":[],\"type\":\"bar\"},{\"name\":\"KNN\",\"x\":[\"less than 0.01\",\"0.01 to 0.03\",\"0.03 to 0.05\",\"0.05 to 0.07\",\"0.07 to 0.09\",\"more than 0.09\"],\"y\":[23,1,0,0,0,0],\"type\":\"bar\"},{\"name\":\"Mean/Mode\",\"x\":[\"less than 0.01\",\"0.01 to 0.03\",\"0.03 to 0.05\",\"0.05 to 0.07\",\"0.07 to 0.09\",\"more than 0.09\"],\"y\":[47,2,1,0,0,0],\"type\":\"bar\"},{\"name\":\"Discriminative DL\",\"x\":[\"less than 0.01\",\"0.01 to 0.03\",\"0.03 to 0.05\",\"0.05 to 0.07\",\"0.07 to 0.09\",\"more than 0.09\"],\"y\":[35,2,0,0,0,0],\"type\":\"bar\"},{\"name\":\"VAE\",\"x\":[\"less than 0.01\",\"0.01 to 0.03\",\"0.03 to 0.05\",\"0.05 to 0.07\",\"0.07 to 0.09\",\"more than 0.09\"],\"y\":[29,0,1,0,0,1],\"type\":\"bar\"},{\"name\":\"GAIN\",\"x\":[\"less than 0.01\",\"0.01 to 0.03\",\"0.03 to 0.05\",\"0.05 to 0.07\",\"0.07 to 0.09\",\"more than 0.09\"],\"y\":[36,2,0,0,0,0],\"type\":\"bar\"}],                        {\"template\":{\"data\":{\"histogram2dcontour\":[{\"type\":\"histogram2dcontour\",\"colorbar\":{\"outlinewidth\":0,\"ticks\":\"\"},\"colorscale\":[[0.0,\"#0d0887\"],[0.1111111111111111,\"#46039f\"],[0.2222222222222222,\"#7201a8\"],[0.3333333333333333,\"#9c179e\"],[0.4444444444444444,\"#bd3786\"],[0.5555555555555556,\"#d8576b\"],[0.6666666666666666,\"#ed7953\"],[0.7777777777777778,\"#fb9f3a\"],[0.8888888888888888,\"#fdca26\"],[1.0,\"#f0f921\"]]}],\"choropleth\":[{\"type\":\"choropleth\",\"colorbar\":{\"outlinewidth\":0,\"ticks\":\"\"}}],\"histogram2d\":[{\"type\":\"histogram2d\",\"colorbar\":{\"outlinewidth\":0,\"ticks\":\"\"},\"colorscale\":[[0.0,\"#0d0887\"],[0.1111111111111111,\"#46039f\"],[0.2222222222222222,\"#7201a8\"],[0.3333333333333333,\"#9c179e\"],[0.4444444444444444,\"#bd3786\"],[0.5555555555555556,\"#d8576b\"],[0.6666666666666666,\"#ed7953\"],[0.7777777777777778,\"#fb9f3a\"],[0.8888888888888888,\"#fdca26\"],[1.0,\"#f0f921\"]]}],\"heatmap\":[{\"type\":\"heatmap\",\"colorbar\":{\"outlinewidth\":0,\"ticks\":\"\"},\"colorscale\":[[0.0,\"#0d0887\"],[0.1111111111111111,\"#46039f\"],[0.2222222222222222,\"#7201a8\"],[0.3333333333333333,\"#9c179e\"],[0.4444444444444444,\"#bd3786\"],[0.5555555555555556,\"#d8576b\"],[0.6666666666666666,\"#ed7953\"],[0.7777777777777778,\"#fb9f3a\"],[0.8888888888888888,\"#fdca26\"],[1.0,\"#f0f921\"]]}],\"heatmapgl\":[{\"type\":\"heatmapgl\",\"colorbar\":{\"outlinewidth\":0,\"ticks\":\"\"},\"colorscale\":[[0.0,\"#0d0887\"],[0.1111111111111111,\"#46039f\"],[0.2222222222222222,\"#7201a8\"],[0.3333333333333333,\"#9c179e\"],[0.4444444444444444,\"#bd3786\"],[0.5555555555555556,\"#d8576b\"],[0.6666666666666666,\"#ed7953\"],[0.7777777777777778,\"#fb9f3a\"],[0.8888888888888888,\"#fdca26\"],[1.0,\"#f0f921\"]]}],\"contourcarpet\":[{\"type\":\"contourcarpet\",\"colorbar\":{\"outlinewidth\":0,\"ticks\":\"\"}}],\"contour\":[{\"type\":\"contour\",\"colorbar\":{\"outlinewidth\":0,\"ticks\":\"\"},\"colorscale\":[[0.0,\"#0d0887\"],[0.1111111111111111,\"#46039f\"],[0.2222222222222222,\"#7201a8\"],[0.3333333333333333,\"#9c179e\"],[0.4444444444444444,\"#bd3786\"],[0.5555555555555556,\"#d8576b\"],[0.6666666666666666,\"#ed7953\"],[0.7777777777777778,\"#fb9f3a\"],[0.8888888888888888,\"#fdca26\"],[1.0,\"#f0f921\"]]}],\"surface\":[{\"type\":\"surface\",\"colorbar\":{\"outlinewidth\":0,\"ticks\":\"\"},\"colorscale\":[[0.0,\"#0d0887\"],[0.1111111111111111,\"#46039f\"],[0.2222222222222222,\"#7201a8\"],[0.3333333333333333,\"#9c179e\"],[0.4444444444444444,\"#bd3786\"],[0.5555555555555556,\"#d8576b\"],[0.6666666666666666,\"#ed7953\"],[0.7777777777777778,\"#fb9f3a\"],[0.8888888888888888,\"#fdca26\"],[1.0,\"#f0f921\"]]}],\"mesh3d\":[{\"type\":\"mesh3d\",\"colorbar\":{\"outlinewidth\":0,\"ticks\":\"\"}}],\"scatter\":[{\"fillpattern\":{\"fillmode\":\"overlay\",\"size\":10,\"solidity\":0.2},\"type\":\"scatter\"}],\"parcoords\":[{\"type\":\"parcoords\",\"line\":{\"colorbar\":{\"outlinewidth\":0,\"ticks\":\"\"}}}],\"scatterpolargl\":[{\"type\":\"scatterpolargl\",\"marker\":{\"colorbar\":{\"outlinewidth\":0,\"ticks\":\"\"}}}],\"bar\":[{\"error_x\":{\"color\":\"#2a3f5f\"},\"error_y\":{\"color\":\"#2a3f5f\"},\"marker\":{\"line\":{\"color\":\"#E5ECF6\",\"width\":0.5},\"pattern\":{\"fillmode\":\"overlay\",\"size\":10,\"solidity\":0.2}},\"type\":\"bar\"}],\"scattergeo\":[{\"type\":\"scattergeo\",\"marker\":{\"colorbar\":{\"outlinewidth\":0,\"ticks\":\"\"}}}],\"scatterpolar\":[{\"type\":\"scatterpolar\",\"marker\":{\"colorbar\":{\"outlinewidth\":0,\"ticks\":\"\"}}}],\"histogram\":[{\"marker\":{\"pattern\":{\"fillmode\":\"overlay\",\"size\":10,\"solidity\":0.2}},\"type\":\"histogram\"}],\"scattergl\":[{\"type\":\"scattergl\",\"marker\":{\"colorbar\":{\"outlinewidth\":0,\"ticks\":\"\"}}}],\"scatter3d\":[{\"type\":\"scatter3d\",\"line\":{\"colorbar\":{\"outlinewidth\":0,\"ticks\":\"\"}},\"marker\":{\"colorbar\":{\"outlinewidth\":0,\"ticks\":\"\"}}}],\"scattermapbox\":[{\"type\":\"scattermapbox\",\"marker\":{\"colorbar\":{\"outlinewidth\":0,\"ticks\":\"\"}}}],\"scatterternary\":[{\"type\":\"scatterternary\",\"marker\":{\"colorbar\":{\"outlinewidth\":0,\"ticks\":\"\"}}}],\"scattercarpet\":[{\"type\":\"scattercarpet\",\"marker\":{\"colorbar\":{\"outlinewidth\":0,\"ticks\":\"\"}}}],\"carpet\":[{\"aaxis\":{\"endlinecolor\":\"#2a3f5f\",\"gridcolor\":\"white\",\"linecolor\":\"white\",\"minorgridcolor\":\"white\",\"startlinecolor\":\"#2a3f5f\"},\"baxis\":{\"endlinecolor\":\"#2a3f5f\",\"gridcolor\":\"white\",\"linecolor\":\"white\",\"minorgridcolor\":\"white\",\"startlinecolor\":\"#2a3f5f\"},\"type\":\"carpet\"}],\"table\":[{\"cells\":{\"fill\":{\"color\":\"#EBF0F8\"},\"line\":{\"color\":\"white\"}},\"header\":{\"fill\":{\"color\":\"#C8D4E3\"},\"line\":{\"color\":\"white\"}},\"type\":\"table\"}],\"barpolar\":[{\"marker\":{\"line\":{\"color\":\"#E5ECF6\",\"width\":0.5},\"pattern\":{\"fillmode\":\"overlay\",\"size\":10,\"solidity\":0.2}},\"type\":\"barpolar\"}],\"pie\":[{\"automargin\":true,\"type\":\"pie\"}]},\"layout\":{\"autotypenumbers\":\"strict\",\"colorway\":[\"#636efa\",\"#EF553B\",\"#00cc96\",\"#ab63fa\",\"#FFA15A\",\"#19d3f3\",\"#FF6692\",\"#B6E880\",\"#FF97FF\",\"#FECB52\"],\"font\":{\"color\":\"#2a3f5f\"},\"hovermode\":\"closest\",\"hoverlabel\":{\"align\":\"left\"},\"paper_bgcolor\":\"white\",\"plot_bgcolor\":\"#E5ECF6\",\"polar\":{\"bgcolor\":\"#E5ECF6\",\"angularaxis\":{\"gridcolor\":\"white\",\"linecolor\":\"white\",\"ticks\":\"\"},\"radialaxis\":{\"gridcolor\":\"white\",\"linecolor\":\"white\",\"ticks\":\"\"}},\"ternary\":{\"bgcolor\":\"#E5ECF6\",\"aaxis\":{\"gridcolor\":\"white\",\"linecolor\":\"white\",\"ticks\":\"\"},\"baxis\":{\"gridcolor\":\"white\",\"linecolor\":\"white\",\"ticks\":\"\"},\"caxis\":{\"gridcolor\":\"white\",\"linecolor\":\"white\",\"ticks\":\"\"}},\"coloraxis\":{\"colorbar\":{\"outlinewidth\":0,\"ticks\":\"\"}},\"colorscale\":{\"sequential\":[[0.0,\"#0d0887\"],[0.1111111111111111,\"#46039f\"],[0.2222222222222222,\"#7201a8\"],[0.3333333333333333,\"#9c179e\"],[0.4444444444444444,\"#bd3786\"],[0.5555555555555556,\"#d8576b\"],[0.6666666666666666,\"#ed7953\"],[0.7777777777777778,\"#fb9f3a\"],[0.8888888888888888,\"#fdca26\"],[1.0,\"#f0f921\"]],\"sequentialminus\":[[0.0,\"#0d0887\"],[0.1111111111111111,\"#46039f\"],[0.2222222222222222,\"#7201a8\"],[0.3333333333333333,\"#9c179e\"],[0.4444444444444444,\"#bd3786\"],[0.5555555555555556,\"#d8576b\"],[0.6666666666666666,\"#ed7953\"],[0.7777777777777778,\"#fb9f3a\"],[0.8888888888888888,\"#fdca26\"],[1.0,\"#f0f921\"]],\"diverging\":[[0,\"#8e0152\"],[0.1,\"#c51b7d\"],[0.2,\"#de77ae\"],[0.3,\"#f1b6da\"],[0.4,\"#fde0ef\"],[0.5,\"#f7f7f7\"],[0.6,\"#e6f5d0\"],[0.7,\"#b8e186\"],[0.8,\"#7fbc41\"],[0.9,\"#4d9221\"],[1,\"#276419\"]]},\"xaxis\":{\"gridcolor\":\"white\",\"linecolor\":\"white\",\"ticks\":\"\",\"title\":{\"standoff\":15},\"zerolinecolor\":\"white\",\"automargin\":true,\"zerolinewidth\":2},\"yaxis\":{\"gridcolor\":\"white\",\"linecolor\":\"white\",\"ticks\":\"\",\"title\":{\"standoff\":15},\"zerolinecolor\":\"white\",\"automargin\":true,\"zerolinewidth\":2},\"scene\":{\"xaxis\":{\"backgroundcolor\":\"#E5ECF6\",\"gridcolor\":\"white\",\"linecolor\":\"white\",\"showbackground\":true,\"ticks\":\"\",\"zerolinecolor\":\"white\",\"gridwidth\":2},\"yaxis\":{\"backgroundcolor\":\"#E5ECF6\",\"gridcolor\":\"white\",\"linecolor\":\"white\",\"showbackground\":true,\"ticks\":\"\",\"zerolinecolor\":\"white\",\"gridwidth\":2},\"zaxis\":{\"backgroundcolor\":\"#E5ECF6\",\"gridcolor\":\"white\",\"linecolor\":\"white\",\"showbackground\":true,\"ticks\":\"\",\"zerolinecolor\":\"white\",\"gridwidth\":2}},\"shapedefaults\":{\"line\":{\"color\":\"#2a3f5f\"}},\"annotationdefaults\":{\"arrowcolor\":\"#2a3f5f\",\"arrowhead\":0,\"arrowwidth\":1},\"geo\":{\"bgcolor\":\"white\",\"landcolor\":\"#E5ECF6\",\"subunitcolor\":\"white\",\"showland\":true,\"showlakes\":true,\"lakecolor\":\"white\"},\"title\":{\"x\":0.05},\"mapbox\":{\"style\":\"light\"}}},\"barmode\":\"stack\"},                        {\"responsive\": true}                    ).then(function(){\n",
       "                            \n",
       "var gd = document.getElementById('914da0fa-acd4-471f-add1-a555449f21e6');\n",
       "var x = new MutationObserver(function (mutations, observer) {{\n",
       "        var display = window.getComputedStyle(gd).display;\n",
       "        if (!display || display === 'none') {{\n",
       "            console.log([gd, 'removed!']);\n",
       "            Plotly.purge(gd);\n",
       "            observer.disconnect();\n",
       "        }}\n",
       "}});\n",
       "\n",
       "// Listen for the removal of the full notebook cells\n",
       "var notebookContainer = gd.closest('#notebook-container');\n",
       "if (notebookContainer) {{\n",
       "    x.observe(notebookContainer, {childList: true});\n",
       "}}\n",
       "\n",
       "// Listen for the clearing of the current output cell\n",
       "var outputEl = gd.closest('.output');\n",
       "if (outputEl) {{\n",
       "    x.observe(outputEl, {childList: true});\n",
       "}}\n",
       "\n",
       "                        })                };                });            </script>        </div>"
      ]
     },
     "metadata": {},
     "output_type": "display_data"
    }
   ],
   "source": [
    "quantiles = ['less than 0.01', '0.01 to 0.03', '0.03 to 0.05', '0.05 to 0.07', '0.07 to 0.09', 'more than 0.09']\n",
    "\n",
    "\n",
    "fig = go.Figure(data=[\n",
    "    go.Bar(name='Random Forest', x=quantiles, y=forest_freq),\n",
    "    go.Bar(name='KNN', x=quantiles, y=knn_freq),\n",
    "    go.Bar(name='Mean/Mode', x=quantiles, y=mode_freq),\n",
    "    go.Bar(name='Discriminative DL', x=quantiles, y=dl_freq),\n",
    "    go.Bar(name='VAE', x=quantiles, y=vae_freq),\n",
    "    go.Bar(name='GAIN', x=quantiles, y=gain_freq)\n",
    "])\n",
    "# Change the bar mode\n",
    "fig.update_layout(barmode='stack')\n",
    "fig.show()\n",
    "fig.write_image(\"improv_rel_to_av_all_DC_no_av_incl_only_best_per_method.pdf\")"
   ]
  },
  {
   "cell_type": "code",
   "execution_count": null,
   "id": "5f958304",
   "metadata": {},
   "outputs": [
    {
     "name": "stdout",
     "output_type": "stream",
     "text": [
      "['0.01', '0.1', '0.3', '0.5']\n",
      "[57, 0, 0, 0, 0, 0]\n",
      "[57, 0, 0, 0, 0, 0]\n",
      "[53, 3, 0, 0, 0, 1]\n",
      "[51, 4, 2, 0, 0, 0]\n"
     ]
    }
   ],
   "source": [
    "# split barchart stacks into missingness fractions\n",
    "\n",
    "quantile_datasets = [df_01, df01, df03, df05, df07, df09]\n",
    "\n",
    "fractions = ['0.01', '0.1', '0.3', '0.5']\n",
    "print(fractions)\n",
    "\n",
    "\n",
    "freq_001 = []\n",
    "freq_01 = []\n",
    "freq_03 = []\n",
    "freq_05 = []\n",
    "#print(quantile_datasets)\n",
    "\n",
    "for i in fractions:\n",
    "    for j in quantile_datasets:\n",
    "        df_temp = j.copy()\n",
    "        df_temp = df_temp[df_temp['Missing Fraction'].str.contains(i)]\n",
    "        df_temp_len = len(df_temp.index)\n",
    "        if (i == '0.01'):\n",
    "            freq_001.append(df_temp_len)\n",
    "        elif (i == '0.1'):\n",
    "            freq_01.append(df_temp_len)                                       \n",
    "        elif (i == '0.3'):\n",
    "            freq_03.append(df_temp_len)                                                 \n",
    "        elif (i == '0.5'):\n",
    "            freq_05.append(df_temp_len)                                       \n",
    "                                        \n",
    "                                       \n",
    "print(freq_001)\n",
    "print(freq_01)\n",
    "print(freq_03)\n",
    "print(freq_05)"
   ]
  },
  {
   "cell_type": "code",
   "execution_count": null,
   "id": "71ae0b53",
   "metadata": {},
   "outputs": [
    {
     "data": {
      "application/vnd.plotly.v1+json": {
       "config": {
        "plotlyServerURL": "https://plot.ly"
       },
       "data": [
        {
         "marker": {
          "color": "#FD3216"
         },
         "name": "1% Missing Data",
         "type": "bar",
         "x": [
          "less than 0.01",
          "0.01 to 0.03",
          "0.03 to 0.05",
          "0.05 to 0.07",
          "0.07 to 0.09",
          "more than 0.09"
         ],
         "y": [
          57,
          0,
          0,
          0,
          0,
          0
         ]
        },
        {
         "marker": {
          "color": "#00FE35"
         },
         "name": "10% Missing Data",
         "type": "bar",
         "x": [
          "less than 0.01",
          "0.01 to 0.03",
          "0.03 to 0.05",
          "0.05 to 0.07",
          "0.07 to 0.09",
          "more than 0.09"
         ],
         "y": [
          57,
          0,
          0,
          0,
          0,
          0
         ]
        },
        {
         "marker": {
          "color": "#511CFB"
         },
         "name": "30% Missing Data",
         "type": "bar",
         "x": [
          "less than 0.01",
          "0.01 to 0.03",
          "0.03 to 0.05",
          "0.05 to 0.07",
          "0.07 to 0.09",
          "more than 0.09"
         ],
         "y": [
          53,
          3,
          0,
          0,
          0,
          1
         ]
        },
        {
         "marker": {
          "color": "#FF7F0E"
         },
         "name": "50% Missing Data",
         "type": "bar",
         "x": [
          "less than 0.01",
          "0.01 to 0.03",
          "0.03 to 0.05",
          "0.05 to 0.07",
          "0.07 to 0.09",
          "more than 0.09"
         ],
         "y": [
          51,
          4,
          2,
          0,
          0,
          0
         ]
        }
       ],
       "layout": {
        "barmode": "stack",
        "template": {
         "data": {
          "bar": [
           {
            "error_x": {
             "color": "#2a3f5f"
            },
            "error_y": {
             "color": "#2a3f5f"
            },
            "marker": {
             "line": {
              "color": "#E5ECF6",
              "width": 0.5
             },
             "pattern": {
              "fillmode": "overlay",
              "size": 10,
              "solidity": 0.2
             }
            },
            "type": "bar"
           }
          ],
          "barpolar": [
           {
            "marker": {
             "line": {
              "color": "#E5ECF6",
              "width": 0.5
             },
             "pattern": {
              "fillmode": "overlay",
              "size": 10,
              "solidity": 0.2
             }
            },
            "type": "barpolar"
           }
          ],
          "carpet": [
           {
            "aaxis": {
             "endlinecolor": "#2a3f5f",
             "gridcolor": "white",
             "linecolor": "white",
             "minorgridcolor": "white",
             "startlinecolor": "#2a3f5f"
            },
            "baxis": {
             "endlinecolor": "#2a3f5f",
             "gridcolor": "white",
             "linecolor": "white",
             "minorgridcolor": "white",
             "startlinecolor": "#2a3f5f"
            },
            "type": "carpet"
           }
          ],
          "choropleth": [
           {
            "colorbar": {
             "outlinewidth": 0,
             "ticks": ""
            },
            "type": "choropleth"
           }
          ],
          "contour": [
           {
            "colorbar": {
             "outlinewidth": 0,
             "ticks": ""
            },
            "colorscale": [
             [
              0,
              "#0d0887"
             ],
             [
              0.1111111111111111,
              "#46039f"
             ],
             [
              0.2222222222222222,
              "#7201a8"
             ],
             [
              0.3333333333333333,
              "#9c179e"
             ],
             [
              0.4444444444444444,
              "#bd3786"
             ],
             [
              0.5555555555555556,
              "#d8576b"
             ],
             [
              0.6666666666666666,
              "#ed7953"
             ],
             [
              0.7777777777777778,
              "#fb9f3a"
             ],
             [
              0.8888888888888888,
              "#fdca26"
             ],
             [
              1,
              "#f0f921"
             ]
            ],
            "type": "contour"
           }
          ],
          "contourcarpet": [
           {
            "colorbar": {
             "outlinewidth": 0,
             "ticks": ""
            },
            "type": "contourcarpet"
           }
          ],
          "heatmap": [
           {
            "colorbar": {
             "outlinewidth": 0,
             "ticks": ""
            },
            "colorscale": [
             [
              0,
              "#0d0887"
             ],
             [
              0.1111111111111111,
              "#46039f"
             ],
             [
              0.2222222222222222,
              "#7201a8"
             ],
             [
              0.3333333333333333,
              "#9c179e"
             ],
             [
              0.4444444444444444,
              "#bd3786"
             ],
             [
              0.5555555555555556,
              "#d8576b"
             ],
             [
              0.6666666666666666,
              "#ed7953"
             ],
             [
              0.7777777777777778,
              "#fb9f3a"
             ],
             [
              0.8888888888888888,
              "#fdca26"
             ],
             [
              1,
              "#f0f921"
             ]
            ],
            "type": "heatmap"
           }
          ],
          "heatmapgl": [
           {
            "colorbar": {
             "outlinewidth": 0,
             "ticks": ""
            },
            "colorscale": [
             [
              0,
              "#0d0887"
             ],
             [
              0.1111111111111111,
              "#46039f"
             ],
             [
              0.2222222222222222,
              "#7201a8"
             ],
             [
              0.3333333333333333,
              "#9c179e"
             ],
             [
              0.4444444444444444,
              "#bd3786"
             ],
             [
              0.5555555555555556,
              "#d8576b"
             ],
             [
              0.6666666666666666,
              "#ed7953"
             ],
             [
              0.7777777777777778,
              "#fb9f3a"
             ],
             [
              0.8888888888888888,
              "#fdca26"
             ],
             [
              1,
              "#f0f921"
             ]
            ],
            "type": "heatmapgl"
           }
          ],
          "histogram": [
           {
            "marker": {
             "pattern": {
              "fillmode": "overlay",
              "size": 10,
              "solidity": 0.2
             }
            },
            "type": "histogram"
           }
          ],
          "histogram2d": [
           {
            "colorbar": {
             "outlinewidth": 0,
             "ticks": ""
            },
            "colorscale": [
             [
              0,
              "#0d0887"
             ],
             [
              0.1111111111111111,
              "#46039f"
             ],
             [
              0.2222222222222222,
              "#7201a8"
             ],
             [
              0.3333333333333333,
              "#9c179e"
             ],
             [
              0.4444444444444444,
              "#bd3786"
             ],
             [
              0.5555555555555556,
              "#d8576b"
             ],
             [
              0.6666666666666666,
              "#ed7953"
             ],
             [
              0.7777777777777778,
              "#fb9f3a"
             ],
             [
              0.8888888888888888,
              "#fdca26"
             ],
             [
              1,
              "#f0f921"
             ]
            ],
            "type": "histogram2d"
           }
          ],
          "histogram2dcontour": [
           {
            "colorbar": {
             "outlinewidth": 0,
             "ticks": ""
            },
            "colorscale": [
             [
              0,
              "#0d0887"
             ],
             [
              0.1111111111111111,
              "#46039f"
             ],
             [
              0.2222222222222222,
              "#7201a8"
             ],
             [
              0.3333333333333333,
              "#9c179e"
             ],
             [
              0.4444444444444444,
              "#bd3786"
             ],
             [
              0.5555555555555556,
              "#d8576b"
             ],
             [
              0.6666666666666666,
              "#ed7953"
             ],
             [
              0.7777777777777778,
              "#fb9f3a"
             ],
             [
              0.8888888888888888,
              "#fdca26"
             ],
             [
              1,
              "#f0f921"
             ]
            ],
            "type": "histogram2dcontour"
           }
          ],
          "mesh3d": [
           {
            "colorbar": {
             "outlinewidth": 0,
             "ticks": ""
            },
            "type": "mesh3d"
           }
          ],
          "parcoords": [
           {
            "line": {
             "colorbar": {
              "outlinewidth": 0,
              "ticks": ""
             }
            },
            "type": "parcoords"
           }
          ],
          "pie": [
           {
            "automargin": true,
            "type": "pie"
           }
          ],
          "scatter": [
           {
            "fillpattern": {
             "fillmode": "overlay",
             "size": 10,
             "solidity": 0.2
            },
            "type": "scatter"
           }
          ],
          "scatter3d": [
           {
            "line": {
             "colorbar": {
              "outlinewidth": 0,
              "ticks": ""
             }
            },
            "marker": {
             "colorbar": {
              "outlinewidth": 0,
              "ticks": ""
             }
            },
            "type": "scatter3d"
           }
          ],
          "scattercarpet": [
           {
            "marker": {
             "colorbar": {
              "outlinewidth": 0,
              "ticks": ""
             }
            },
            "type": "scattercarpet"
           }
          ],
          "scattergeo": [
           {
            "marker": {
             "colorbar": {
              "outlinewidth": 0,
              "ticks": ""
             }
            },
            "type": "scattergeo"
           }
          ],
          "scattergl": [
           {
            "marker": {
             "colorbar": {
              "outlinewidth": 0,
              "ticks": ""
             }
            },
            "type": "scattergl"
           }
          ],
          "scattermapbox": [
           {
            "marker": {
             "colorbar": {
              "outlinewidth": 0,
              "ticks": ""
             }
            },
            "type": "scattermapbox"
           }
          ],
          "scatterpolar": [
           {
            "marker": {
             "colorbar": {
              "outlinewidth": 0,
              "ticks": ""
             }
            },
            "type": "scatterpolar"
           }
          ],
          "scatterpolargl": [
           {
            "marker": {
             "colorbar": {
              "outlinewidth": 0,
              "ticks": ""
             }
            },
            "type": "scatterpolargl"
           }
          ],
          "scatterternary": [
           {
            "marker": {
             "colorbar": {
              "outlinewidth": 0,
              "ticks": ""
             }
            },
            "type": "scatterternary"
           }
          ],
          "surface": [
           {
            "colorbar": {
             "outlinewidth": 0,
             "ticks": ""
            },
            "colorscale": [
             [
              0,
              "#0d0887"
             ],
             [
              0.1111111111111111,
              "#46039f"
             ],
             [
              0.2222222222222222,
              "#7201a8"
             ],
             [
              0.3333333333333333,
              "#9c179e"
             ],
             [
              0.4444444444444444,
              "#bd3786"
             ],
             [
              0.5555555555555556,
              "#d8576b"
             ],
             [
              0.6666666666666666,
              "#ed7953"
             ],
             [
              0.7777777777777778,
              "#fb9f3a"
             ],
             [
              0.8888888888888888,
              "#fdca26"
             ],
             [
              1,
              "#f0f921"
             ]
            ],
            "type": "surface"
           }
          ],
          "table": [
           {
            "cells": {
             "fill": {
              "color": "#EBF0F8"
             },
             "line": {
              "color": "white"
             }
            },
            "header": {
             "fill": {
              "color": "#C8D4E3"
             },
             "line": {
              "color": "white"
             }
            },
            "type": "table"
           }
          ]
         },
         "layout": {
          "annotationdefaults": {
           "arrowcolor": "#2a3f5f",
           "arrowhead": 0,
           "arrowwidth": 1
          },
          "autotypenumbers": "strict",
          "coloraxis": {
           "colorbar": {
            "outlinewidth": 0,
            "ticks": ""
           }
          },
          "colorscale": {
           "diverging": [
            [
             0,
             "#8e0152"
            ],
            [
             0.1,
             "#c51b7d"
            ],
            [
             0.2,
             "#de77ae"
            ],
            [
             0.3,
             "#f1b6da"
            ],
            [
             0.4,
             "#fde0ef"
            ],
            [
             0.5,
             "#f7f7f7"
            ],
            [
             0.6,
             "#e6f5d0"
            ],
            [
             0.7,
             "#b8e186"
            ],
            [
             0.8,
             "#7fbc41"
            ],
            [
             0.9,
             "#4d9221"
            ],
            [
             1,
             "#276419"
            ]
           ],
           "sequential": [
            [
             0,
             "#0d0887"
            ],
            [
             0.1111111111111111,
             "#46039f"
            ],
            [
             0.2222222222222222,
             "#7201a8"
            ],
            [
             0.3333333333333333,
             "#9c179e"
            ],
            [
             0.4444444444444444,
             "#bd3786"
            ],
            [
             0.5555555555555556,
             "#d8576b"
            ],
            [
             0.6666666666666666,
             "#ed7953"
            ],
            [
             0.7777777777777778,
             "#fb9f3a"
            ],
            [
             0.8888888888888888,
             "#fdca26"
            ],
            [
             1,
             "#f0f921"
            ]
           ],
           "sequentialminus": [
            [
             0,
             "#0d0887"
            ],
            [
             0.1111111111111111,
             "#46039f"
            ],
            [
             0.2222222222222222,
             "#7201a8"
            ],
            [
             0.3333333333333333,
             "#9c179e"
            ],
            [
             0.4444444444444444,
             "#bd3786"
            ],
            [
             0.5555555555555556,
             "#d8576b"
            ],
            [
             0.6666666666666666,
             "#ed7953"
            ],
            [
             0.7777777777777778,
             "#fb9f3a"
            ],
            [
             0.8888888888888888,
             "#fdca26"
            ],
            [
             1,
             "#f0f921"
            ]
           ]
          },
          "colorway": [
           "#636efa",
           "#EF553B",
           "#00cc96",
           "#ab63fa",
           "#FFA15A",
           "#19d3f3",
           "#FF6692",
           "#B6E880",
           "#FF97FF",
           "#FECB52"
          ],
          "font": {
           "color": "#2a3f5f"
          },
          "geo": {
           "bgcolor": "white",
           "lakecolor": "white",
           "landcolor": "#E5ECF6",
           "showlakes": true,
           "showland": true,
           "subunitcolor": "white"
          },
          "hoverlabel": {
           "align": "left"
          },
          "hovermode": "closest",
          "mapbox": {
           "style": "light"
          },
          "paper_bgcolor": "white",
          "plot_bgcolor": "#E5ECF6",
          "polar": {
           "angularaxis": {
            "gridcolor": "white",
            "linecolor": "white",
            "ticks": ""
           },
           "bgcolor": "#E5ECF6",
           "radialaxis": {
            "gridcolor": "white",
            "linecolor": "white",
            "ticks": ""
           }
          },
          "scene": {
           "xaxis": {
            "backgroundcolor": "#E5ECF6",
            "gridcolor": "white",
            "gridwidth": 2,
            "linecolor": "white",
            "showbackground": true,
            "ticks": "",
            "zerolinecolor": "white"
           },
           "yaxis": {
            "backgroundcolor": "#E5ECF6",
            "gridcolor": "white",
            "gridwidth": 2,
            "linecolor": "white",
            "showbackground": true,
            "ticks": "",
            "zerolinecolor": "white"
           },
           "zaxis": {
            "backgroundcolor": "#E5ECF6",
            "gridcolor": "white",
            "gridwidth": 2,
            "linecolor": "white",
            "showbackground": true,
            "ticks": "",
            "zerolinecolor": "white"
           }
          },
          "shapedefaults": {
           "line": {
            "color": "#2a3f5f"
           }
          },
          "ternary": {
           "aaxis": {
            "gridcolor": "white",
            "linecolor": "white",
            "ticks": ""
           },
           "baxis": {
            "gridcolor": "white",
            "linecolor": "white",
            "ticks": ""
           },
           "bgcolor": "#E5ECF6",
           "caxis": {
            "gridcolor": "white",
            "linecolor": "white",
            "ticks": ""
           }
          },
          "title": {
           "x": 0.05
          },
          "xaxis": {
           "automargin": true,
           "gridcolor": "white",
           "linecolor": "white",
           "ticks": "",
           "title": {
            "standoff": 15
           },
           "zerolinecolor": "white",
           "zerolinewidth": 2
          },
          "yaxis": {
           "automargin": true,
           "gridcolor": "white",
           "linecolor": "white",
           "ticks": "",
           "title": {
            "standoff": 15
           },
           "zerolinecolor": "white",
           "zerolinewidth": 2
          }
         }
        }
       }
      },
      "text/html": [
       "<div>                            <div id=\"c00b6d7e-b9b5-414f-a508-a0df9235bf97\" class=\"plotly-graph-div\" style=\"height:525px; width:100%;\"></div>            <script type=\"text/javascript\">                require([\"plotly\"], function(Plotly) {                    window.PLOTLYENV=window.PLOTLYENV || {};                                    if (document.getElementById(\"c00b6d7e-b9b5-414f-a508-a0df9235bf97\")) {                    Plotly.newPlot(                        \"c00b6d7e-b9b5-414f-a508-a0df9235bf97\",                        [{\"marker\":{\"color\":\"#FD3216\"},\"name\":\"1% Missing Data\",\"x\":[\"less than 0.01\",\"0.01 to 0.03\",\"0.03 to 0.05\",\"0.05 to 0.07\",\"0.07 to 0.09\",\"more than 0.09\"],\"y\":[57,0,0,0,0,0],\"type\":\"bar\"},{\"marker\":{\"color\":\"#00FE35\"},\"name\":\"10% Missing Data\",\"x\":[\"less than 0.01\",\"0.01 to 0.03\",\"0.03 to 0.05\",\"0.05 to 0.07\",\"0.07 to 0.09\",\"more than 0.09\"],\"y\":[57,0,0,0,0,0],\"type\":\"bar\"},{\"marker\":{\"color\":\"#511CFB\"},\"name\":\"30% Missing Data\",\"x\":[\"less than 0.01\",\"0.01 to 0.03\",\"0.03 to 0.05\",\"0.05 to 0.07\",\"0.07 to 0.09\",\"more than 0.09\"],\"y\":[53,3,0,0,0,1],\"type\":\"bar\"},{\"marker\":{\"color\":\"#FF7F0E\"},\"name\":\"50% Missing Data\",\"x\":[\"less than 0.01\",\"0.01 to 0.03\",\"0.03 to 0.05\",\"0.05 to 0.07\",\"0.07 to 0.09\",\"more than 0.09\"],\"y\":[51,4,2,0,0,0],\"type\":\"bar\"}],                        {\"template\":{\"data\":{\"histogram2dcontour\":[{\"type\":\"histogram2dcontour\",\"colorbar\":{\"outlinewidth\":0,\"ticks\":\"\"},\"colorscale\":[[0.0,\"#0d0887\"],[0.1111111111111111,\"#46039f\"],[0.2222222222222222,\"#7201a8\"],[0.3333333333333333,\"#9c179e\"],[0.4444444444444444,\"#bd3786\"],[0.5555555555555556,\"#d8576b\"],[0.6666666666666666,\"#ed7953\"],[0.7777777777777778,\"#fb9f3a\"],[0.8888888888888888,\"#fdca26\"],[1.0,\"#f0f921\"]]}],\"choropleth\":[{\"type\":\"choropleth\",\"colorbar\":{\"outlinewidth\":0,\"ticks\":\"\"}}],\"histogram2d\":[{\"type\":\"histogram2d\",\"colorbar\":{\"outlinewidth\":0,\"ticks\":\"\"},\"colorscale\":[[0.0,\"#0d0887\"],[0.1111111111111111,\"#46039f\"],[0.2222222222222222,\"#7201a8\"],[0.3333333333333333,\"#9c179e\"],[0.4444444444444444,\"#bd3786\"],[0.5555555555555556,\"#d8576b\"],[0.6666666666666666,\"#ed7953\"],[0.7777777777777778,\"#fb9f3a\"],[0.8888888888888888,\"#fdca26\"],[1.0,\"#f0f921\"]]}],\"heatmap\":[{\"type\":\"heatmap\",\"colorbar\":{\"outlinewidth\":0,\"ticks\":\"\"},\"colorscale\":[[0.0,\"#0d0887\"],[0.1111111111111111,\"#46039f\"],[0.2222222222222222,\"#7201a8\"],[0.3333333333333333,\"#9c179e\"],[0.4444444444444444,\"#bd3786\"],[0.5555555555555556,\"#d8576b\"],[0.6666666666666666,\"#ed7953\"],[0.7777777777777778,\"#fb9f3a\"],[0.8888888888888888,\"#fdca26\"],[1.0,\"#f0f921\"]]}],\"heatmapgl\":[{\"type\":\"heatmapgl\",\"colorbar\":{\"outlinewidth\":0,\"ticks\":\"\"},\"colorscale\":[[0.0,\"#0d0887\"],[0.1111111111111111,\"#46039f\"],[0.2222222222222222,\"#7201a8\"],[0.3333333333333333,\"#9c179e\"],[0.4444444444444444,\"#bd3786\"],[0.5555555555555556,\"#d8576b\"],[0.6666666666666666,\"#ed7953\"],[0.7777777777777778,\"#fb9f3a\"],[0.8888888888888888,\"#fdca26\"],[1.0,\"#f0f921\"]]}],\"contourcarpet\":[{\"type\":\"contourcarpet\",\"colorbar\":{\"outlinewidth\":0,\"ticks\":\"\"}}],\"contour\":[{\"type\":\"contour\",\"colorbar\":{\"outlinewidth\":0,\"ticks\":\"\"},\"colorscale\":[[0.0,\"#0d0887\"],[0.1111111111111111,\"#46039f\"],[0.2222222222222222,\"#7201a8\"],[0.3333333333333333,\"#9c179e\"],[0.4444444444444444,\"#bd3786\"],[0.5555555555555556,\"#d8576b\"],[0.6666666666666666,\"#ed7953\"],[0.7777777777777778,\"#fb9f3a\"],[0.8888888888888888,\"#fdca26\"],[1.0,\"#f0f921\"]]}],\"surface\":[{\"type\":\"surface\",\"colorbar\":{\"outlinewidth\":0,\"ticks\":\"\"},\"colorscale\":[[0.0,\"#0d0887\"],[0.1111111111111111,\"#46039f\"],[0.2222222222222222,\"#7201a8\"],[0.3333333333333333,\"#9c179e\"],[0.4444444444444444,\"#bd3786\"],[0.5555555555555556,\"#d8576b\"],[0.6666666666666666,\"#ed7953\"],[0.7777777777777778,\"#fb9f3a\"],[0.8888888888888888,\"#fdca26\"],[1.0,\"#f0f921\"]]}],\"mesh3d\":[{\"type\":\"mesh3d\",\"colorbar\":{\"outlinewidth\":0,\"ticks\":\"\"}}],\"scatter\":[{\"fillpattern\":{\"fillmode\":\"overlay\",\"size\":10,\"solidity\":0.2},\"type\":\"scatter\"}],\"parcoords\":[{\"type\":\"parcoords\",\"line\":{\"colorbar\":{\"outlinewidth\":0,\"ticks\":\"\"}}}],\"scatterpolargl\":[{\"type\":\"scatterpolargl\",\"marker\":{\"colorbar\":{\"outlinewidth\":0,\"ticks\":\"\"}}}],\"bar\":[{\"error_x\":{\"color\":\"#2a3f5f\"},\"error_y\":{\"color\":\"#2a3f5f\"},\"marker\":{\"line\":{\"color\":\"#E5ECF6\",\"width\":0.5},\"pattern\":{\"fillmode\":\"overlay\",\"size\":10,\"solidity\":0.2}},\"type\":\"bar\"}],\"scattergeo\":[{\"type\":\"scattergeo\",\"marker\":{\"colorbar\":{\"outlinewidth\":0,\"ticks\":\"\"}}}],\"scatterpolar\":[{\"type\":\"scatterpolar\",\"marker\":{\"colorbar\":{\"outlinewidth\":0,\"ticks\":\"\"}}}],\"histogram\":[{\"marker\":{\"pattern\":{\"fillmode\":\"overlay\",\"size\":10,\"solidity\":0.2}},\"type\":\"histogram\"}],\"scattergl\":[{\"type\":\"scattergl\",\"marker\":{\"colorbar\":{\"outlinewidth\":0,\"ticks\":\"\"}}}],\"scatter3d\":[{\"type\":\"scatter3d\",\"line\":{\"colorbar\":{\"outlinewidth\":0,\"ticks\":\"\"}},\"marker\":{\"colorbar\":{\"outlinewidth\":0,\"ticks\":\"\"}}}],\"scattermapbox\":[{\"type\":\"scattermapbox\",\"marker\":{\"colorbar\":{\"outlinewidth\":0,\"ticks\":\"\"}}}],\"scatterternary\":[{\"type\":\"scatterternary\",\"marker\":{\"colorbar\":{\"outlinewidth\":0,\"ticks\":\"\"}}}],\"scattercarpet\":[{\"type\":\"scattercarpet\",\"marker\":{\"colorbar\":{\"outlinewidth\":0,\"ticks\":\"\"}}}],\"carpet\":[{\"aaxis\":{\"endlinecolor\":\"#2a3f5f\",\"gridcolor\":\"white\",\"linecolor\":\"white\",\"minorgridcolor\":\"white\",\"startlinecolor\":\"#2a3f5f\"},\"baxis\":{\"endlinecolor\":\"#2a3f5f\",\"gridcolor\":\"white\",\"linecolor\":\"white\",\"minorgridcolor\":\"white\",\"startlinecolor\":\"#2a3f5f\"},\"type\":\"carpet\"}],\"table\":[{\"cells\":{\"fill\":{\"color\":\"#EBF0F8\"},\"line\":{\"color\":\"white\"}},\"header\":{\"fill\":{\"color\":\"#C8D4E3\"},\"line\":{\"color\":\"white\"}},\"type\":\"table\"}],\"barpolar\":[{\"marker\":{\"line\":{\"color\":\"#E5ECF6\",\"width\":0.5},\"pattern\":{\"fillmode\":\"overlay\",\"size\":10,\"solidity\":0.2}},\"type\":\"barpolar\"}],\"pie\":[{\"automargin\":true,\"type\":\"pie\"}]},\"layout\":{\"autotypenumbers\":\"strict\",\"colorway\":[\"#636efa\",\"#EF553B\",\"#00cc96\",\"#ab63fa\",\"#FFA15A\",\"#19d3f3\",\"#FF6692\",\"#B6E880\",\"#FF97FF\",\"#FECB52\"],\"font\":{\"color\":\"#2a3f5f\"},\"hovermode\":\"closest\",\"hoverlabel\":{\"align\":\"left\"},\"paper_bgcolor\":\"white\",\"plot_bgcolor\":\"#E5ECF6\",\"polar\":{\"bgcolor\":\"#E5ECF6\",\"angularaxis\":{\"gridcolor\":\"white\",\"linecolor\":\"white\",\"ticks\":\"\"},\"radialaxis\":{\"gridcolor\":\"white\",\"linecolor\":\"white\",\"ticks\":\"\"}},\"ternary\":{\"bgcolor\":\"#E5ECF6\",\"aaxis\":{\"gridcolor\":\"white\",\"linecolor\":\"white\",\"ticks\":\"\"},\"baxis\":{\"gridcolor\":\"white\",\"linecolor\":\"white\",\"ticks\":\"\"},\"caxis\":{\"gridcolor\":\"white\",\"linecolor\":\"white\",\"ticks\":\"\"}},\"coloraxis\":{\"colorbar\":{\"outlinewidth\":0,\"ticks\":\"\"}},\"colorscale\":{\"sequential\":[[0.0,\"#0d0887\"],[0.1111111111111111,\"#46039f\"],[0.2222222222222222,\"#7201a8\"],[0.3333333333333333,\"#9c179e\"],[0.4444444444444444,\"#bd3786\"],[0.5555555555555556,\"#d8576b\"],[0.6666666666666666,\"#ed7953\"],[0.7777777777777778,\"#fb9f3a\"],[0.8888888888888888,\"#fdca26\"],[1.0,\"#f0f921\"]],\"sequentialminus\":[[0.0,\"#0d0887\"],[0.1111111111111111,\"#46039f\"],[0.2222222222222222,\"#7201a8\"],[0.3333333333333333,\"#9c179e\"],[0.4444444444444444,\"#bd3786\"],[0.5555555555555556,\"#d8576b\"],[0.6666666666666666,\"#ed7953\"],[0.7777777777777778,\"#fb9f3a\"],[0.8888888888888888,\"#fdca26\"],[1.0,\"#f0f921\"]],\"diverging\":[[0,\"#8e0152\"],[0.1,\"#c51b7d\"],[0.2,\"#de77ae\"],[0.3,\"#f1b6da\"],[0.4,\"#fde0ef\"],[0.5,\"#f7f7f7\"],[0.6,\"#e6f5d0\"],[0.7,\"#b8e186\"],[0.8,\"#7fbc41\"],[0.9,\"#4d9221\"],[1,\"#276419\"]]},\"xaxis\":{\"gridcolor\":\"white\",\"linecolor\":\"white\",\"ticks\":\"\",\"title\":{\"standoff\":15},\"zerolinecolor\":\"white\",\"automargin\":true,\"zerolinewidth\":2},\"yaxis\":{\"gridcolor\":\"white\",\"linecolor\":\"white\",\"ticks\":\"\",\"title\":{\"standoff\":15},\"zerolinecolor\":\"white\",\"automargin\":true,\"zerolinewidth\":2},\"scene\":{\"xaxis\":{\"backgroundcolor\":\"#E5ECF6\",\"gridcolor\":\"white\",\"linecolor\":\"white\",\"showbackground\":true,\"ticks\":\"\",\"zerolinecolor\":\"white\",\"gridwidth\":2},\"yaxis\":{\"backgroundcolor\":\"#E5ECF6\",\"gridcolor\":\"white\",\"linecolor\":\"white\",\"showbackground\":true,\"ticks\":\"\",\"zerolinecolor\":\"white\",\"gridwidth\":2},\"zaxis\":{\"backgroundcolor\":\"#E5ECF6\",\"gridcolor\":\"white\",\"linecolor\":\"white\",\"showbackground\":true,\"ticks\":\"\",\"zerolinecolor\":\"white\",\"gridwidth\":2}},\"shapedefaults\":{\"line\":{\"color\":\"#2a3f5f\"}},\"annotationdefaults\":{\"arrowcolor\":\"#2a3f5f\",\"arrowhead\":0,\"arrowwidth\":1},\"geo\":{\"bgcolor\":\"white\",\"landcolor\":\"#E5ECF6\",\"subunitcolor\":\"white\",\"showland\":true,\"showlakes\":true,\"lakecolor\":\"white\"},\"title\":{\"x\":0.05},\"mapbox\":{\"style\":\"light\"}}},\"barmode\":\"stack\"},                        {\"responsive\": true}                    ).then(function(){\n",
       "                            \n",
       "var gd = document.getElementById('c00b6d7e-b9b5-414f-a508-a0df9235bf97');\n",
       "var x = new MutationObserver(function (mutations, observer) {{\n",
       "        var display = window.getComputedStyle(gd).display;\n",
       "        if (!display || display === 'none') {{\n",
       "            console.log([gd, 'removed!']);\n",
       "            Plotly.purge(gd);\n",
       "            observer.disconnect();\n",
       "        }}\n",
       "}});\n",
       "\n",
       "// Listen for the removal of the full notebook cells\n",
       "var notebookContainer = gd.closest('#notebook-container');\n",
       "if (notebookContainer) {{\n",
       "    x.observe(notebookContainer, {childList: true});\n",
       "}}\n",
       "\n",
       "// Listen for the clearing of the current output cell\n",
       "var outputEl = gd.closest('.output');\n",
       "if (outputEl) {{\n",
       "    x.observe(outputEl, {childList: true});\n",
       "}}\n",
       "\n",
       "                        })                };                });            </script>        </div>"
      ]
     },
     "metadata": {},
     "output_type": "display_data"
    }
   ],
   "source": [
    "quantiles = ['less than 0.01', '0.01 to 0.03', '0.03 to 0.05', '0.05 to 0.07', '0.07 to 0.09', 'more than 0.09']\n",
    "\n",
    "\n",
    "fig = go.Figure(data=[\n",
    "    go.Bar(name='1% Missing Data', x=quantiles, y=freq_001, marker_color='#FD3216'),\n",
    "    go.Bar(name='10% Missing Data', x=quantiles, y=freq_01, marker_color='#00FE35'),\n",
    "    go.Bar(name='30% Missing Data', x=quantiles, y=freq_03, marker_color='#511CFB'),\n",
    "    go.Bar(name='50% Missing Data', x=quantiles, y=freq_05, marker_color='#FF7F0E'),\n",
    "])\n",
    "# Change the bar mode\n",
    "fig.update_layout(barmode='stack')\n",
    "fig.show()\n",
    "fig.write_image(\"improv_rel_to_av_all_DC_no_av_incl_only_best_per_frac.pdf\")"
   ]
  },
  {
   "cell_type": "code",
   "execution_count": null,
   "id": "d2ebeb9e",
   "metadata": {},
   "outputs": [
    {
     "name": "stdout",
     "output_type": "stream",
     "text": [
      "['MCAR', 'MAR', 'MNAR']\n",
      "[76, 0, 0, 0, 0, 0]\n",
      "[73, 3, 0, 0, 0, 0]\n",
      "[69, 4, 2, 0, 0, 1]\n"
     ]
    }
   ],
   "source": [
    "# split barchart stacks into missingness fractions\n",
    "\n",
    "quantile_datasets = [df_01, df01, df03, df05, df07, df09]\n",
    "\n",
    "fractions = ['MCAR', 'MAR', 'MNAR']\n",
    "print(fractions)\n",
    "\n",
    "\n",
    "freq_001 = []\n",
    "freq_01 = []\n",
    "freq_03 = []\n",
    "#print(quantile_datasets)\n",
    "\n",
    "for i in fractions:\n",
    "    for j in quantile_datasets:\n",
    "        df_temp = j.copy()\n",
    "        df_temp = df_temp[df_temp['Missing Type'].str.contains(i)]\n",
    "        df_temp_len = len(df_temp.index)\n",
    "        if (i == 'MCAR'):\n",
    "            freq_001.append(df_temp_len)\n",
    "        elif (i == 'MAR'):\n",
    "            freq_01.append(df_temp_len)                                       \n",
    "        elif (i == 'MNAR'):\n",
    "            freq_03.append(df_temp_len)                                                 \n",
    "\n",
    "                                       \n",
    "print(freq_001)\n",
    "print(freq_01)\n",
    "print(freq_03)"
   ]
  },
  {
   "cell_type": "code",
   "execution_count": null,
   "id": "99aebbe0",
   "metadata": {},
   "outputs": [
    {
     "data": {
      "application/vnd.plotly.v1+json": {
       "config": {
        "plotlyServerURL": "https://plot.ly"
       },
       "data": [
        {
         "marker": {
          "color": "#222A2A"
         },
         "name": "MCAR",
         "type": "bar",
         "x": [
          "less than 0.01",
          "0.01 to 0.03",
          "0.03 to 0.05",
          "0.05 to 0.07",
          "0.07 to 0.09",
          "more than 0.09"
         ],
         "y": [
          76,
          0,
          0,
          0,
          0,
          0
         ]
        },
        {
         "marker": {
          "color": "#B68100"
         },
         "name": "MAR",
         "type": "bar",
         "x": [
          "less than 0.01",
          "0.01 to 0.03",
          "0.03 to 0.05",
          "0.05 to 0.07",
          "0.07 to 0.09",
          "more than 0.09"
         ],
         "y": [
          73,
          3,
          0,
          0,
          0,
          0
         ]
        },
        {
         "marker": {
          "color": "#750D86"
         },
         "name": "MNAR",
         "type": "bar",
         "x": [
          "less than 0.01",
          "0.01 to 0.03",
          "0.03 to 0.05",
          "0.05 to 0.07",
          "0.07 to 0.09",
          "more than 0.09"
         ],
         "y": [
          69,
          4,
          2,
          0,
          0,
          1
         ]
        }
       ],
       "layout": {
        "barmode": "stack",
        "template": {
         "data": {
          "bar": [
           {
            "error_x": {
             "color": "#2a3f5f"
            },
            "error_y": {
             "color": "#2a3f5f"
            },
            "marker": {
             "line": {
              "color": "#E5ECF6",
              "width": 0.5
             },
             "pattern": {
              "fillmode": "overlay",
              "size": 10,
              "solidity": 0.2
             }
            },
            "type": "bar"
           }
          ],
          "barpolar": [
           {
            "marker": {
             "line": {
              "color": "#E5ECF6",
              "width": 0.5
             },
             "pattern": {
              "fillmode": "overlay",
              "size": 10,
              "solidity": 0.2
             }
            },
            "type": "barpolar"
           }
          ],
          "carpet": [
           {
            "aaxis": {
             "endlinecolor": "#2a3f5f",
             "gridcolor": "white",
             "linecolor": "white",
             "minorgridcolor": "white",
             "startlinecolor": "#2a3f5f"
            },
            "baxis": {
             "endlinecolor": "#2a3f5f",
             "gridcolor": "white",
             "linecolor": "white",
             "minorgridcolor": "white",
             "startlinecolor": "#2a3f5f"
            },
            "type": "carpet"
           }
          ],
          "choropleth": [
           {
            "colorbar": {
             "outlinewidth": 0,
             "ticks": ""
            },
            "type": "choropleth"
           }
          ],
          "contour": [
           {
            "colorbar": {
             "outlinewidth": 0,
             "ticks": ""
            },
            "colorscale": [
             [
              0,
              "#0d0887"
             ],
             [
              0.1111111111111111,
              "#46039f"
             ],
             [
              0.2222222222222222,
              "#7201a8"
             ],
             [
              0.3333333333333333,
              "#9c179e"
             ],
             [
              0.4444444444444444,
              "#bd3786"
             ],
             [
              0.5555555555555556,
              "#d8576b"
             ],
             [
              0.6666666666666666,
              "#ed7953"
             ],
             [
              0.7777777777777778,
              "#fb9f3a"
             ],
             [
              0.8888888888888888,
              "#fdca26"
             ],
             [
              1,
              "#f0f921"
             ]
            ],
            "type": "contour"
           }
          ],
          "contourcarpet": [
           {
            "colorbar": {
             "outlinewidth": 0,
             "ticks": ""
            },
            "type": "contourcarpet"
           }
          ],
          "heatmap": [
           {
            "colorbar": {
             "outlinewidth": 0,
             "ticks": ""
            },
            "colorscale": [
             [
              0,
              "#0d0887"
             ],
             [
              0.1111111111111111,
              "#46039f"
             ],
             [
              0.2222222222222222,
              "#7201a8"
             ],
             [
              0.3333333333333333,
              "#9c179e"
             ],
             [
              0.4444444444444444,
              "#bd3786"
             ],
             [
              0.5555555555555556,
              "#d8576b"
             ],
             [
              0.6666666666666666,
              "#ed7953"
             ],
             [
              0.7777777777777778,
              "#fb9f3a"
             ],
             [
              0.8888888888888888,
              "#fdca26"
             ],
             [
              1,
              "#f0f921"
             ]
            ],
            "type": "heatmap"
           }
          ],
          "heatmapgl": [
           {
            "colorbar": {
             "outlinewidth": 0,
             "ticks": ""
            },
            "colorscale": [
             [
              0,
              "#0d0887"
             ],
             [
              0.1111111111111111,
              "#46039f"
             ],
             [
              0.2222222222222222,
              "#7201a8"
             ],
             [
              0.3333333333333333,
              "#9c179e"
             ],
             [
              0.4444444444444444,
              "#bd3786"
             ],
             [
              0.5555555555555556,
              "#d8576b"
             ],
             [
              0.6666666666666666,
              "#ed7953"
             ],
             [
              0.7777777777777778,
              "#fb9f3a"
             ],
             [
              0.8888888888888888,
              "#fdca26"
             ],
             [
              1,
              "#f0f921"
             ]
            ],
            "type": "heatmapgl"
           }
          ],
          "histogram": [
           {
            "marker": {
             "pattern": {
              "fillmode": "overlay",
              "size": 10,
              "solidity": 0.2
             }
            },
            "type": "histogram"
           }
          ],
          "histogram2d": [
           {
            "colorbar": {
             "outlinewidth": 0,
             "ticks": ""
            },
            "colorscale": [
             [
              0,
              "#0d0887"
             ],
             [
              0.1111111111111111,
              "#46039f"
             ],
             [
              0.2222222222222222,
              "#7201a8"
             ],
             [
              0.3333333333333333,
              "#9c179e"
             ],
             [
              0.4444444444444444,
              "#bd3786"
             ],
             [
              0.5555555555555556,
              "#d8576b"
             ],
             [
              0.6666666666666666,
              "#ed7953"
             ],
             [
              0.7777777777777778,
              "#fb9f3a"
             ],
             [
              0.8888888888888888,
              "#fdca26"
             ],
             [
              1,
              "#f0f921"
             ]
            ],
            "type": "histogram2d"
           }
          ],
          "histogram2dcontour": [
           {
            "colorbar": {
             "outlinewidth": 0,
             "ticks": ""
            },
            "colorscale": [
             [
              0,
              "#0d0887"
             ],
             [
              0.1111111111111111,
              "#46039f"
             ],
             [
              0.2222222222222222,
              "#7201a8"
             ],
             [
              0.3333333333333333,
              "#9c179e"
             ],
             [
              0.4444444444444444,
              "#bd3786"
             ],
             [
              0.5555555555555556,
              "#d8576b"
             ],
             [
              0.6666666666666666,
              "#ed7953"
             ],
             [
              0.7777777777777778,
              "#fb9f3a"
             ],
             [
              0.8888888888888888,
              "#fdca26"
             ],
             [
              1,
              "#f0f921"
             ]
            ],
            "type": "histogram2dcontour"
           }
          ],
          "mesh3d": [
           {
            "colorbar": {
             "outlinewidth": 0,
             "ticks": ""
            },
            "type": "mesh3d"
           }
          ],
          "parcoords": [
           {
            "line": {
             "colorbar": {
              "outlinewidth": 0,
              "ticks": ""
             }
            },
            "type": "parcoords"
           }
          ],
          "pie": [
           {
            "automargin": true,
            "type": "pie"
           }
          ],
          "scatter": [
           {
            "fillpattern": {
             "fillmode": "overlay",
             "size": 10,
             "solidity": 0.2
            },
            "type": "scatter"
           }
          ],
          "scatter3d": [
           {
            "line": {
             "colorbar": {
              "outlinewidth": 0,
              "ticks": ""
             }
            },
            "marker": {
             "colorbar": {
              "outlinewidth": 0,
              "ticks": ""
             }
            },
            "type": "scatter3d"
           }
          ],
          "scattercarpet": [
           {
            "marker": {
             "colorbar": {
              "outlinewidth": 0,
              "ticks": ""
             }
            },
            "type": "scattercarpet"
           }
          ],
          "scattergeo": [
           {
            "marker": {
             "colorbar": {
              "outlinewidth": 0,
              "ticks": ""
             }
            },
            "type": "scattergeo"
           }
          ],
          "scattergl": [
           {
            "marker": {
             "colorbar": {
              "outlinewidth": 0,
              "ticks": ""
             }
            },
            "type": "scattergl"
           }
          ],
          "scattermapbox": [
           {
            "marker": {
             "colorbar": {
              "outlinewidth": 0,
              "ticks": ""
             }
            },
            "type": "scattermapbox"
           }
          ],
          "scatterpolar": [
           {
            "marker": {
             "colorbar": {
              "outlinewidth": 0,
              "ticks": ""
             }
            },
            "type": "scatterpolar"
           }
          ],
          "scatterpolargl": [
           {
            "marker": {
             "colorbar": {
              "outlinewidth": 0,
              "ticks": ""
             }
            },
            "type": "scatterpolargl"
           }
          ],
          "scatterternary": [
           {
            "marker": {
             "colorbar": {
              "outlinewidth": 0,
              "ticks": ""
             }
            },
            "type": "scatterternary"
           }
          ],
          "surface": [
           {
            "colorbar": {
             "outlinewidth": 0,
             "ticks": ""
            },
            "colorscale": [
             [
              0,
              "#0d0887"
             ],
             [
              0.1111111111111111,
              "#46039f"
             ],
             [
              0.2222222222222222,
              "#7201a8"
             ],
             [
              0.3333333333333333,
              "#9c179e"
             ],
             [
              0.4444444444444444,
              "#bd3786"
             ],
             [
              0.5555555555555556,
              "#d8576b"
             ],
             [
              0.6666666666666666,
              "#ed7953"
             ],
             [
              0.7777777777777778,
              "#fb9f3a"
             ],
             [
              0.8888888888888888,
              "#fdca26"
             ],
             [
              1,
              "#f0f921"
             ]
            ],
            "type": "surface"
           }
          ],
          "table": [
           {
            "cells": {
             "fill": {
              "color": "#EBF0F8"
             },
             "line": {
              "color": "white"
             }
            },
            "header": {
             "fill": {
              "color": "#C8D4E3"
             },
             "line": {
              "color": "white"
             }
            },
            "type": "table"
           }
          ]
         },
         "layout": {
          "annotationdefaults": {
           "arrowcolor": "#2a3f5f",
           "arrowhead": 0,
           "arrowwidth": 1
          },
          "autotypenumbers": "strict",
          "coloraxis": {
           "colorbar": {
            "outlinewidth": 0,
            "ticks": ""
           }
          },
          "colorscale": {
           "diverging": [
            [
             0,
             "#8e0152"
            ],
            [
             0.1,
             "#c51b7d"
            ],
            [
             0.2,
             "#de77ae"
            ],
            [
             0.3,
             "#f1b6da"
            ],
            [
             0.4,
             "#fde0ef"
            ],
            [
             0.5,
             "#f7f7f7"
            ],
            [
             0.6,
             "#e6f5d0"
            ],
            [
             0.7,
             "#b8e186"
            ],
            [
             0.8,
             "#7fbc41"
            ],
            [
             0.9,
             "#4d9221"
            ],
            [
             1,
             "#276419"
            ]
           ],
           "sequential": [
            [
             0,
             "#0d0887"
            ],
            [
             0.1111111111111111,
             "#46039f"
            ],
            [
             0.2222222222222222,
             "#7201a8"
            ],
            [
             0.3333333333333333,
             "#9c179e"
            ],
            [
             0.4444444444444444,
             "#bd3786"
            ],
            [
             0.5555555555555556,
             "#d8576b"
            ],
            [
             0.6666666666666666,
             "#ed7953"
            ],
            [
             0.7777777777777778,
             "#fb9f3a"
            ],
            [
             0.8888888888888888,
             "#fdca26"
            ],
            [
             1,
             "#f0f921"
            ]
           ],
           "sequentialminus": [
            [
             0,
             "#0d0887"
            ],
            [
             0.1111111111111111,
             "#46039f"
            ],
            [
             0.2222222222222222,
             "#7201a8"
            ],
            [
             0.3333333333333333,
             "#9c179e"
            ],
            [
             0.4444444444444444,
             "#bd3786"
            ],
            [
             0.5555555555555556,
             "#d8576b"
            ],
            [
             0.6666666666666666,
             "#ed7953"
            ],
            [
             0.7777777777777778,
             "#fb9f3a"
            ],
            [
             0.8888888888888888,
             "#fdca26"
            ],
            [
             1,
             "#f0f921"
            ]
           ]
          },
          "colorway": [
           "#636efa",
           "#EF553B",
           "#00cc96",
           "#ab63fa",
           "#FFA15A",
           "#19d3f3",
           "#FF6692",
           "#B6E880",
           "#FF97FF",
           "#FECB52"
          ],
          "font": {
           "color": "#2a3f5f"
          },
          "geo": {
           "bgcolor": "white",
           "lakecolor": "white",
           "landcolor": "#E5ECF6",
           "showlakes": true,
           "showland": true,
           "subunitcolor": "white"
          },
          "hoverlabel": {
           "align": "left"
          },
          "hovermode": "closest",
          "mapbox": {
           "style": "light"
          },
          "paper_bgcolor": "white",
          "plot_bgcolor": "#E5ECF6",
          "polar": {
           "angularaxis": {
            "gridcolor": "white",
            "linecolor": "white",
            "ticks": ""
           },
           "bgcolor": "#E5ECF6",
           "radialaxis": {
            "gridcolor": "white",
            "linecolor": "white",
            "ticks": ""
           }
          },
          "scene": {
           "xaxis": {
            "backgroundcolor": "#E5ECF6",
            "gridcolor": "white",
            "gridwidth": 2,
            "linecolor": "white",
            "showbackground": true,
            "ticks": "",
            "zerolinecolor": "white"
           },
           "yaxis": {
            "backgroundcolor": "#E5ECF6",
            "gridcolor": "white",
            "gridwidth": 2,
            "linecolor": "white",
            "showbackground": true,
            "ticks": "",
            "zerolinecolor": "white"
           },
           "zaxis": {
            "backgroundcolor": "#E5ECF6",
            "gridcolor": "white",
            "gridwidth": 2,
            "linecolor": "white",
            "showbackground": true,
            "ticks": "",
            "zerolinecolor": "white"
           }
          },
          "shapedefaults": {
           "line": {
            "color": "#2a3f5f"
           }
          },
          "ternary": {
           "aaxis": {
            "gridcolor": "white",
            "linecolor": "white",
            "ticks": ""
           },
           "baxis": {
            "gridcolor": "white",
            "linecolor": "white",
            "ticks": ""
           },
           "bgcolor": "#E5ECF6",
           "caxis": {
            "gridcolor": "white",
            "linecolor": "white",
            "ticks": ""
           }
          },
          "title": {
           "x": 0.05
          },
          "xaxis": {
           "automargin": true,
           "gridcolor": "white",
           "linecolor": "white",
           "ticks": "",
           "title": {
            "standoff": 15
           },
           "zerolinecolor": "white",
           "zerolinewidth": 2
          },
          "yaxis": {
           "automargin": true,
           "gridcolor": "white",
           "linecolor": "white",
           "ticks": "",
           "title": {
            "standoff": 15
           },
           "zerolinecolor": "white",
           "zerolinewidth": 2
          }
         }
        }
       }
      },
      "text/html": [
       "<div>                            <div id=\"45fb9573-79ca-4a77-a102-98d7008386cc\" class=\"plotly-graph-div\" style=\"height:525px; width:100%;\"></div>            <script type=\"text/javascript\">                require([\"plotly\"], function(Plotly) {                    window.PLOTLYENV=window.PLOTLYENV || {};                                    if (document.getElementById(\"45fb9573-79ca-4a77-a102-98d7008386cc\")) {                    Plotly.newPlot(                        \"45fb9573-79ca-4a77-a102-98d7008386cc\",                        [{\"marker\":{\"color\":\"#222A2A\"},\"name\":\"MCAR\",\"x\":[\"less than 0.01\",\"0.01 to 0.03\",\"0.03 to 0.05\",\"0.05 to 0.07\",\"0.07 to 0.09\",\"more than 0.09\"],\"y\":[76,0,0,0,0,0],\"type\":\"bar\"},{\"marker\":{\"color\":\"#B68100\"},\"name\":\"MAR\",\"x\":[\"less than 0.01\",\"0.01 to 0.03\",\"0.03 to 0.05\",\"0.05 to 0.07\",\"0.07 to 0.09\",\"more than 0.09\"],\"y\":[73,3,0,0,0,0],\"type\":\"bar\"},{\"marker\":{\"color\":\"#750D86\"},\"name\":\"MNAR\",\"x\":[\"less than 0.01\",\"0.01 to 0.03\",\"0.03 to 0.05\",\"0.05 to 0.07\",\"0.07 to 0.09\",\"more than 0.09\"],\"y\":[69,4,2,0,0,1],\"type\":\"bar\"}],                        {\"template\":{\"data\":{\"histogram2dcontour\":[{\"type\":\"histogram2dcontour\",\"colorbar\":{\"outlinewidth\":0,\"ticks\":\"\"},\"colorscale\":[[0.0,\"#0d0887\"],[0.1111111111111111,\"#46039f\"],[0.2222222222222222,\"#7201a8\"],[0.3333333333333333,\"#9c179e\"],[0.4444444444444444,\"#bd3786\"],[0.5555555555555556,\"#d8576b\"],[0.6666666666666666,\"#ed7953\"],[0.7777777777777778,\"#fb9f3a\"],[0.8888888888888888,\"#fdca26\"],[1.0,\"#f0f921\"]]}],\"choropleth\":[{\"type\":\"choropleth\",\"colorbar\":{\"outlinewidth\":0,\"ticks\":\"\"}}],\"histogram2d\":[{\"type\":\"histogram2d\",\"colorbar\":{\"outlinewidth\":0,\"ticks\":\"\"},\"colorscale\":[[0.0,\"#0d0887\"],[0.1111111111111111,\"#46039f\"],[0.2222222222222222,\"#7201a8\"],[0.3333333333333333,\"#9c179e\"],[0.4444444444444444,\"#bd3786\"],[0.5555555555555556,\"#d8576b\"],[0.6666666666666666,\"#ed7953\"],[0.7777777777777778,\"#fb9f3a\"],[0.8888888888888888,\"#fdca26\"],[1.0,\"#f0f921\"]]}],\"heatmap\":[{\"type\":\"heatmap\",\"colorbar\":{\"outlinewidth\":0,\"ticks\":\"\"},\"colorscale\":[[0.0,\"#0d0887\"],[0.1111111111111111,\"#46039f\"],[0.2222222222222222,\"#7201a8\"],[0.3333333333333333,\"#9c179e\"],[0.4444444444444444,\"#bd3786\"],[0.5555555555555556,\"#d8576b\"],[0.6666666666666666,\"#ed7953\"],[0.7777777777777778,\"#fb9f3a\"],[0.8888888888888888,\"#fdca26\"],[1.0,\"#f0f921\"]]}],\"heatmapgl\":[{\"type\":\"heatmapgl\",\"colorbar\":{\"outlinewidth\":0,\"ticks\":\"\"},\"colorscale\":[[0.0,\"#0d0887\"],[0.1111111111111111,\"#46039f\"],[0.2222222222222222,\"#7201a8\"],[0.3333333333333333,\"#9c179e\"],[0.4444444444444444,\"#bd3786\"],[0.5555555555555556,\"#d8576b\"],[0.6666666666666666,\"#ed7953\"],[0.7777777777777778,\"#fb9f3a\"],[0.8888888888888888,\"#fdca26\"],[1.0,\"#f0f921\"]]}],\"contourcarpet\":[{\"type\":\"contourcarpet\",\"colorbar\":{\"outlinewidth\":0,\"ticks\":\"\"}}],\"contour\":[{\"type\":\"contour\",\"colorbar\":{\"outlinewidth\":0,\"ticks\":\"\"},\"colorscale\":[[0.0,\"#0d0887\"],[0.1111111111111111,\"#46039f\"],[0.2222222222222222,\"#7201a8\"],[0.3333333333333333,\"#9c179e\"],[0.4444444444444444,\"#bd3786\"],[0.5555555555555556,\"#d8576b\"],[0.6666666666666666,\"#ed7953\"],[0.7777777777777778,\"#fb9f3a\"],[0.8888888888888888,\"#fdca26\"],[1.0,\"#f0f921\"]]}],\"surface\":[{\"type\":\"surface\",\"colorbar\":{\"outlinewidth\":0,\"ticks\":\"\"},\"colorscale\":[[0.0,\"#0d0887\"],[0.1111111111111111,\"#46039f\"],[0.2222222222222222,\"#7201a8\"],[0.3333333333333333,\"#9c179e\"],[0.4444444444444444,\"#bd3786\"],[0.5555555555555556,\"#d8576b\"],[0.6666666666666666,\"#ed7953\"],[0.7777777777777778,\"#fb9f3a\"],[0.8888888888888888,\"#fdca26\"],[1.0,\"#f0f921\"]]}],\"mesh3d\":[{\"type\":\"mesh3d\",\"colorbar\":{\"outlinewidth\":0,\"ticks\":\"\"}}],\"scatter\":[{\"fillpattern\":{\"fillmode\":\"overlay\",\"size\":10,\"solidity\":0.2},\"type\":\"scatter\"}],\"parcoords\":[{\"type\":\"parcoords\",\"line\":{\"colorbar\":{\"outlinewidth\":0,\"ticks\":\"\"}}}],\"scatterpolargl\":[{\"type\":\"scatterpolargl\",\"marker\":{\"colorbar\":{\"outlinewidth\":0,\"ticks\":\"\"}}}],\"bar\":[{\"error_x\":{\"color\":\"#2a3f5f\"},\"error_y\":{\"color\":\"#2a3f5f\"},\"marker\":{\"line\":{\"color\":\"#E5ECF6\",\"width\":0.5},\"pattern\":{\"fillmode\":\"overlay\",\"size\":10,\"solidity\":0.2}},\"type\":\"bar\"}],\"scattergeo\":[{\"type\":\"scattergeo\",\"marker\":{\"colorbar\":{\"outlinewidth\":0,\"ticks\":\"\"}}}],\"scatterpolar\":[{\"type\":\"scatterpolar\",\"marker\":{\"colorbar\":{\"outlinewidth\":0,\"ticks\":\"\"}}}],\"histogram\":[{\"marker\":{\"pattern\":{\"fillmode\":\"overlay\",\"size\":10,\"solidity\":0.2}},\"type\":\"histogram\"}],\"scattergl\":[{\"type\":\"scattergl\",\"marker\":{\"colorbar\":{\"outlinewidth\":0,\"ticks\":\"\"}}}],\"scatter3d\":[{\"type\":\"scatter3d\",\"line\":{\"colorbar\":{\"outlinewidth\":0,\"ticks\":\"\"}},\"marker\":{\"colorbar\":{\"outlinewidth\":0,\"ticks\":\"\"}}}],\"scattermapbox\":[{\"type\":\"scattermapbox\",\"marker\":{\"colorbar\":{\"outlinewidth\":0,\"ticks\":\"\"}}}],\"scatterternary\":[{\"type\":\"scatterternary\",\"marker\":{\"colorbar\":{\"outlinewidth\":0,\"ticks\":\"\"}}}],\"scattercarpet\":[{\"type\":\"scattercarpet\",\"marker\":{\"colorbar\":{\"outlinewidth\":0,\"ticks\":\"\"}}}],\"carpet\":[{\"aaxis\":{\"endlinecolor\":\"#2a3f5f\",\"gridcolor\":\"white\",\"linecolor\":\"white\",\"minorgridcolor\":\"white\",\"startlinecolor\":\"#2a3f5f\"},\"baxis\":{\"endlinecolor\":\"#2a3f5f\",\"gridcolor\":\"white\",\"linecolor\":\"white\",\"minorgridcolor\":\"white\",\"startlinecolor\":\"#2a3f5f\"},\"type\":\"carpet\"}],\"table\":[{\"cells\":{\"fill\":{\"color\":\"#EBF0F8\"},\"line\":{\"color\":\"white\"}},\"header\":{\"fill\":{\"color\":\"#C8D4E3\"},\"line\":{\"color\":\"white\"}},\"type\":\"table\"}],\"barpolar\":[{\"marker\":{\"line\":{\"color\":\"#E5ECF6\",\"width\":0.5},\"pattern\":{\"fillmode\":\"overlay\",\"size\":10,\"solidity\":0.2}},\"type\":\"barpolar\"}],\"pie\":[{\"automargin\":true,\"type\":\"pie\"}]},\"layout\":{\"autotypenumbers\":\"strict\",\"colorway\":[\"#636efa\",\"#EF553B\",\"#00cc96\",\"#ab63fa\",\"#FFA15A\",\"#19d3f3\",\"#FF6692\",\"#B6E880\",\"#FF97FF\",\"#FECB52\"],\"font\":{\"color\":\"#2a3f5f\"},\"hovermode\":\"closest\",\"hoverlabel\":{\"align\":\"left\"},\"paper_bgcolor\":\"white\",\"plot_bgcolor\":\"#E5ECF6\",\"polar\":{\"bgcolor\":\"#E5ECF6\",\"angularaxis\":{\"gridcolor\":\"white\",\"linecolor\":\"white\",\"ticks\":\"\"},\"radialaxis\":{\"gridcolor\":\"white\",\"linecolor\":\"white\",\"ticks\":\"\"}},\"ternary\":{\"bgcolor\":\"#E5ECF6\",\"aaxis\":{\"gridcolor\":\"white\",\"linecolor\":\"white\",\"ticks\":\"\"},\"baxis\":{\"gridcolor\":\"white\",\"linecolor\":\"white\",\"ticks\":\"\"},\"caxis\":{\"gridcolor\":\"white\",\"linecolor\":\"white\",\"ticks\":\"\"}},\"coloraxis\":{\"colorbar\":{\"outlinewidth\":0,\"ticks\":\"\"}},\"colorscale\":{\"sequential\":[[0.0,\"#0d0887\"],[0.1111111111111111,\"#46039f\"],[0.2222222222222222,\"#7201a8\"],[0.3333333333333333,\"#9c179e\"],[0.4444444444444444,\"#bd3786\"],[0.5555555555555556,\"#d8576b\"],[0.6666666666666666,\"#ed7953\"],[0.7777777777777778,\"#fb9f3a\"],[0.8888888888888888,\"#fdca26\"],[1.0,\"#f0f921\"]],\"sequentialminus\":[[0.0,\"#0d0887\"],[0.1111111111111111,\"#46039f\"],[0.2222222222222222,\"#7201a8\"],[0.3333333333333333,\"#9c179e\"],[0.4444444444444444,\"#bd3786\"],[0.5555555555555556,\"#d8576b\"],[0.6666666666666666,\"#ed7953\"],[0.7777777777777778,\"#fb9f3a\"],[0.8888888888888888,\"#fdca26\"],[1.0,\"#f0f921\"]],\"diverging\":[[0,\"#8e0152\"],[0.1,\"#c51b7d\"],[0.2,\"#de77ae\"],[0.3,\"#f1b6da\"],[0.4,\"#fde0ef\"],[0.5,\"#f7f7f7\"],[0.6,\"#e6f5d0\"],[0.7,\"#b8e186\"],[0.8,\"#7fbc41\"],[0.9,\"#4d9221\"],[1,\"#276419\"]]},\"xaxis\":{\"gridcolor\":\"white\",\"linecolor\":\"white\",\"ticks\":\"\",\"title\":{\"standoff\":15},\"zerolinecolor\":\"white\",\"automargin\":true,\"zerolinewidth\":2},\"yaxis\":{\"gridcolor\":\"white\",\"linecolor\":\"white\",\"ticks\":\"\",\"title\":{\"standoff\":15},\"zerolinecolor\":\"white\",\"automargin\":true,\"zerolinewidth\":2},\"scene\":{\"xaxis\":{\"backgroundcolor\":\"#E5ECF6\",\"gridcolor\":\"white\",\"linecolor\":\"white\",\"showbackground\":true,\"ticks\":\"\",\"zerolinecolor\":\"white\",\"gridwidth\":2},\"yaxis\":{\"backgroundcolor\":\"#E5ECF6\",\"gridcolor\":\"white\",\"linecolor\":\"white\",\"showbackground\":true,\"ticks\":\"\",\"zerolinecolor\":\"white\",\"gridwidth\":2},\"zaxis\":{\"backgroundcolor\":\"#E5ECF6\",\"gridcolor\":\"white\",\"linecolor\":\"white\",\"showbackground\":true,\"ticks\":\"\",\"zerolinecolor\":\"white\",\"gridwidth\":2}},\"shapedefaults\":{\"line\":{\"color\":\"#2a3f5f\"}},\"annotationdefaults\":{\"arrowcolor\":\"#2a3f5f\",\"arrowhead\":0,\"arrowwidth\":1},\"geo\":{\"bgcolor\":\"white\",\"landcolor\":\"#E5ECF6\",\"subunitcolor\":\"white\",\"showland\":true,\"showlakes\":true,\"lakecolor\":\"white\"},\"title\":{\"x\":0.05},\"mapbox\":{\"style\":\"light\"}}},\"barmode\":\"stack\"},                        {\"responsive\": true}                    ).then(function(){\n",
       "                            \n",
       "var gd = document.getElementById('45fb9573-79ca-4a77-a102-98d7008386cc');\n",
       "var x = new MutationObserver(function (mutations, observer) {{\n",
       "        var display = window.getComputedStyle(gd).display;\n",
       "        if (!display || display === 'none') {{\n",
       "            console.log([gd, 'removed!']);\n",
       "            Plotly.purge(gd);\n",
       "            observer.disconnect();\n",
       "        }}\n",
       "}});\n",
       "\n",
       "// Listen for the removal of the full notebook cells\n",
       "var notebookContainer = gd.closest('#notebook-container');\n",
       "if (notebookContainer) {{\n",
       "    x.observe(notebookContainer, {childList: true});\n",
       "}}\n",
       "\n",
       "// Listen for the clearing of the current output cell\n",
       "var outputEl = gd.closest('.output');\n",
       "if (outputEl) {{\n",
       "    x.observe(outputEl, {childList: true});\n",
       "}}\n",
       "\n",
       "                        })                };                });            </script>        </div>"
      ]
     },
     "metadata": {},
     "output_type": "display_data"
    }
   ],
   "source": [
    "quantiles = ['less than 0.01', '0.01 to 0.03', '0.03 to 0.05', '0.05 to 0.07', '0.07 to 0.09', 'more than 0.09']\n",
    "\n",
    "\n",
    "fig = go.Figure(data=[\n",
    "    go.Bar(name='MCAR', x=quantiles, y=freq_001, marker_color='#222A2A'),\n",
    "    go.Bar(name='MAR', x=quantiles, y=freq_01, marker_color='#B68100'),\n",
    "    go.Bar(name='MNAR', x=quantiles, y=freq_03, marker_color='#750D86'),\n",
    "])\n",
    "# Change the bar mode\n",
    "fig.update_layout(barmode='stack')\n",
    "fig.show()\n",
    "fig.write_image(\"improv_rel_to_av_all_DC_no_av_incl_only_best_per_patt.pdf\")"
   ]
  },
  {
   "cell_type": "code",
   "execution_count": null,
   "id": "1f77d845",
   "metadata": {},
   "outputs": [],
   "source": []
  },
  {
   "cell_type": "markdown",
   "id": "262bda73",
   "metadata": {},
   "source": [
    "## Extract datasets for Automated Imputation Method Selection -> not used for thesis\n",
    "\n",
    "To Do: Explore the possibility, that the average best method replaces the best method for a data constellation, if the improvement gain for the best method is below 1%\n",
    "\n",
    "### Potential Features:\n",
    "Missingess Pattern (Missing Type)  \n",
    "Missing Fraction (Missing Fraction)  \n",
    "Datapoints (NumberOfInstances)  \n",
    "Features in total (NumberOfFeatures)  \n",
    "Numeric Features (NumberOfNumericFeatures)  \n",
    "Categorical Features (NumberOfCategoricalFeatures)  \n",
    "Downstream Task Type -> Classification/Regression (metric)\n",
    "  \n",
    "    \n",
    "      \n",
    "Label: Best Imputation Method (Imputation_Method)"
   ]
  },
  {
   "cell_type": "code",
   "execution_count": null,
   "id": "52dcdcd9",
   "metadata": {},
   "outputs": [
    {
     "data": {
      "text/html": [
       "<div>\n",
       "<style scoped>\n",
       "    .dataframe tbody tr th:only-of-type {\n",
       "        vertical-align: middle;\n",
       "    }\n",
       "\n",
       "    .dataframe tbody tr th {\n",
       "        vertical-align: top;\n",
       "    }\n",
       "\n",
       "    .dataframe thead th {\n",
       "        text-align: right;\n",
       "    }\n",
       "</style>\n",
       "<table border=\"1\" class=\"dataframe\">\n",
       "  <thead>\n",
       "    <tr style=\"text-align: right;\">\n",
       "      <th></th>\n",
       "      <th>Imputation_Method</th>\n",
       "      <th>Task</th>\n",
       "      <th>Missing Type</th>\n",
       "      <th>Missing Fraction</th>\n",
       "      <th>Column</th>\n",
       "      <th>result_type</th>\n",
       "      <th>metric</th>\n",
       "      <th>Baseline</th>\n",
       "      <th>Corrupted</th>\n",
       "      <th>Imputed</th>\n",
       "      <th>...</th>\n",
       "      <th>name</th>\n",
       "      <th>MajorityClassSize</th>\n",
       "      <th>MinorityClassSize</th>\n",
       "      <th>NumberOfFeatures</th>\n",
       "      <th>NumberOfInstances</th>\n",
       "      <th>NumberOfNumericFeatures</th>\n",
       "      <th>NumberOfCategoricalFeatures</th>\n",
       "      <th>NumberOfClasses</th>\n",
       "      <th>Downstream Performance Rank</th>\n",
       "      <th>Data_Constellation</th>\n",
       "    </tr>\n",
       "  </thead>\n",
       "  <tbody>\n",
       "    <tr>\n",
       "      <th>0</th>\n",
       "      <td>GAIN</td>\n",
       "      <td>189</td>\n",
       "      <td>MAR</td>\n",
       "      <td>0.01</td>\n",
       "      <td>theta8</td>\n",
       "      <td>downstream_performance_mean</td>\n",
       "      <td>Regression Tasks</td>\n",
       "      <td>0.204873</td>\n",
       "      <td>0.0</td>\n",
       "      <td>0.204926</td>\n",
       "      <td>...</td>\n",
       "      <td>kin8nm</td>\n",
       "      <td>NaN</td>\n",
       "      <td>NaN</td>\n",
       "      <td>9.0</td>\n",
       "      <td>8192.0</td>\n",
       "      <td>9.0</td>\n",
       "      <td>0.0</td>\n",
       "      <td>NaN</td>\n",
       "      <td>1.0</td>\n",
       "      <td>MAR - 0.01</td>\n",
       "    </tr>\n",
       "    <tr>\n",
       "      <th>6</th>\n",
       "      <td>Discriminative DL</td>\n",
       "      <td>189</td>\n",
       "      <td>MAR</td>\n",
       "      <td>0.1</td>\n",
       "      <td>theta8</td>\n",
       "      <td>downstream_performance_mean</td>\n",
       "      <td>Regression Tasks</td>\n",
       "      <td>0.204813</td>\n",
       "      <td>0.0</td>\n",
       "      <td>0.204953</td>\n",
       "      <td>...</td>\n",
       "      <td>kin8nm</td>\n",
       "      <td>NaN</td>\n",
       "      <td>NaN</td>\n",
       "      <td>9.0</td>\n",
       "      <td>8192.0</td>\n",
       "      <td>9.0</td>\n",
       "      <td>0.0</td>\n",
       "      <td>NaN</td>\n",
       "      <td>1.0</td>\n",
       "      <td>MAR - 0.1</td>\n",
       "    </tr>\n",
       "    <tr>\n",
       "      <th>12</th>\n",
       "      <td>Mean/Mode</td>\n",
       "      <td>189</td>\n",
       "      <td>MAR</td>\n",
       "      <td>0.3</td>\n",
       "      <td>theta8</td>\n",
       "      <td>downstream_performance_mean</td>\n",
       "      <td>Regression Tasks</td>\n",
       "      <td>0.204820</td>\n",
       "      <td>0.0</td>\n",
       "      <td>0.205069</td>\n",
       "      <td>...</td>\n",
       "      <td>kin8nm</td>\n",
       "      <td>NaN</td>\n",
       "      <td>NaN</td>\n",
       "      <td>9.0</td>\n",
       "      <td>8192.0</td>\n",
       "      <td>9.0</td>\n",
       "      <td>0.0</td>\n",
       "      <td>NaN</td>\n",
       "      <td>1.0</td>\n",
       "      <td>MAR - 0.3</td>\n",
       "    </tr>\n",
       "    <tr>\n",
       "      <th>18</th>\n",
       "      <td>Discriminative DL</td>\n",
       "      <td>189</td>\n",
       "      <td>MAR</td>\n",
       "      <td>0.5</td>\n",
       "      <td>theta8</td>\n",
       "      <td>downstream_performance_mean</td>\n",
       "      <td>Regression Tasks</td>\n",
       "      <td>0.205841</td>\n",
       "      <td>0.0</td>\n",
       "      <td>0.205878</td>\n",
       "      <td>...</td>\n",
       "      <td>kin8nm</td>\n",
       "      <td>NaN</td>\n",
       "      <td>NaN</td>\n",
       "      <td>9.0</td>\n",
       "      <td>8192.0</td>\n",
       "      <td>9.0</td>\n",
       "      <td>0.0</td>\n",
       "      <td>NaN</td>\n",
       "      <td>1.0</td>\n",
       "      <td>MAR - 0.5</td>\n",
       "    </tr>\n",
       "    <tr>\n",
       "      <th>24</th>\n",
       "      <td>Discriminative DL</td>\n",
       "      <td>189</td>\n",
       "      <td>MCAR</td>\n",
       "      <td>0.01</td>\n",
       "      <td>theta8</td>\n",
       "      <td>downstream_performance_mean</td>\n",
       "      <td>Regression Tasks</td>\n",
       "      <td>0.205083</td>\n",
       "      <td>0.0</td>\n",
       "      <td>0.204972</td>\n",
       "      <td>...</td>\n",
       "      <td>kin8nm</td>\n",
       "      <td>NaN</td>\n",
       "      <td>NaN</td>\n",
       "      <td>9.0</td>\n",
       "      <td>8192.0</td>\n",
       "      <td>9.0</td>\n",
       "      <td>0.0</td>\n",
       "      <td>NaN</td>\n",
       "      <td>1.0</td>\n",
       "      <td>MCAR - 0.01</td>\n",
       "    </tr>\n",
       "    <tr>\n",
       "      <th>...</th>\n",
       "      <td>...</td>\n",
       "      <td>...</td>\n",
       "      <td>...</td>\n",
       "      <td>...</td>\n",
       "      <td>...</td>\n",
       "      <td>...</td>\n",
       "      <td>...</td>\n",
       "      <td>...</td>\n",
       "      <td>...</td>\n",
       "      <td>...</td>\n",
       "      <td>...</td>\n",
       "      <td>...</td>\n",
       "      <td>...</td>\n",
       "      <td>...</td>\n",
       "      <td>...</td>\n",
       "      <td>...</td>\n",
       "      <td>...</td>\n",
       "      <td>...</td>\n",
       "      <td>...</td>\n",
       "      <td>...</td>\n",
       "      <td>...</td>\n",
       "    </tr>\n",
       "    <tr>\n",
       "      <th>1312</th>\n",
       "      <td>Random Forest</td>\n",
       "      <td>42712</td>\n",
       "      <td>MCAR</td>\n",
       "      <td>0.5</td>\n",
       "      <td>humidity</td>\n",
       "      <td>downstream_performance_mean</td>\n",
       "      <td>Regression Tasks</td>\n",
       "      <td>148.991778</td>\n",
       "      <td>0.0</td>\n",
       "      <td>148.880924</td>\n",
       "      <td>...</td>\n",
       "      <td>Bike_Sharing_Demand</td>\n",
       "      <td>NaN</td>\n",
       "      <td>NaN</td>\n",
       "      <td>13.0</td>\n",
       "      <td>17379.0</td>\n",
       "      <td>9.0</td>\n",
       "      <td>4.0</td>\n",
       "      <td>NaN</td>\n",
       "      <td>1.0</td>\n",
       "      <td>MCAR - 0.5</td>\n",
       "    </tr>\n",
       "    <tr>\n",
       "      <th>1318</th>\n",
       "      <td>Discriminative DL</td>\n",
       "      <td>42712</td>\n",
       "      <td>MNAR</td>\n",
       "      <td>0.01</td>\n",
       "      <td>humidity</td>\n",
       "      <td>downstream_performance_mean</td>\n",
       "      <td>Regression Tasks</td>\n",
       "      <td>149.507994</td>\n",
       "      <td>0.0</td>\n",
       "      <td>149.475688</td>\n",
       "      <td>...</td>\n",
       "      <td>Bike_Sharing_Demand</td>\n",
       "      <td>NaN</td>\n",
       "      <td>NaN</td>\n",
       "      <td>13.0</td>\n",
       "      <td>17379.0</td>\n",
       "      <td>9.0</td>\n",
       "      <td>4.0</td>\n",
       "      <td>NaN</td>\n",
       "      <td>1.0</td>\n",
       "      <td>MNAR - 0.01</td>\n",
       "    </tr>\n",
       "    <tr>\n",
       "      <th>1324</th>\n",
       "      <td>Discriminative DL</td>\n",
       "      <td>42712</td>\n",
       "      <td>MNAR</td>\n",
       "      <td>0.1</td>\n",
       "      <td>humidity</td>\n",
       "      <td>downstream_performance_mean</td>\n",
       "      <td>Regression Tasks</td>\n",
       "      <td>149.523046</td>\n",
       "      <td>0.0</td>\n",
       "      <td>149.372273</td>\n",
       "      <td>...</td>\n",
       "      <td>Bike_Sharing_Demand</td>\n",
       "      <td>NaN</td>\n",
       "      <td>NaN</td>\n",
       "      <td>13.0</td>\n",
       "      <td>17379.0</td>\n",
       "      <td>9.0</td>\n",
       "      <td>4.0</td>\n",
       "      <td>NaN</td>\n",
       "      <td>1.0</td>\n",
       "      <td>MNAR - 0.1</td>\n",
       "    </tr>\n",
       "    <tr>\n",
       "      <th>1330</th>\n",
       "      <td>Discriminative DL</td>\n",
       "      <td>42712</td>\n",
       "      <td>MNAR</td>\n",
       "      <td>0.3</td>\n",
       "      <td>humidity</td>\n",
       "      <td>downstream_performance_mean</td>\n",
       "      <td>Regression Tasks</td>\n",
       "      <td>149.431371</td>\n",
       "      <td>0.0</td>\n",
       "      <td>149.346814</td>\n",
       "      <td>...</td>\n",
       "      <td>Bike_Sharing_Demand</td>\n",
       "      <td>NaN</td>\n",
       "      <td>NaN</td>\n",
       "      <td>13.0</td>\n",
       "      <td>17379.0</td>\n",
       "      <td>9.0</td>\n",
       "      <td>4.0</td>\n",
       "      <td>NaN</td>\n",
       "      <td>1.0</td>\n",
       "      <td>MNAR - 0.3</td>\n",
       "    </tr>\n",
       "    <tr>\n",
       "      <th>1336</th>\n",
       "      <td>Mean/Mode</td>\n",
       "      <td>42712</td>\n",
       "      <td>MNAR</td>\n",
       "      <td>0.5</td>\n",
       "      <td>humidity</td>\n",
       "      <td>downstream_performance_mean</td>\n",
       "      <td>Regression Tasks</td>\n",
       "      <td>147.017846</td>\n",
       "      <td>0.0</td>\n",
       "      <td>146.311138</td>\n",
       "      <td>...</td>\n",
       "      <td>Bike_Sharing_Demand</td>\n",
       "      <td>NaN</td>\n",
       "      <td>NaN</td>\n",
       "      <td>13.0</td>\n",
       "      <td>17379.0</td>\n",
       "      <td>9.0</td>\n",
       "      <td>4.0</td>\n",
       "      <td>NaN</td>\n",
       "      <td>1.0</td>\n",
       "      <td>MNAR - 0.5</td>\n",
       "    </tr>\n",
       "  </tbody>\n",
       "</table>\n",
       "<p>228 rows × 21 columns</p>\n",
       "</div>"
      ],
      "text/plain": [
       "      Imputation_Method   Task Missing Type Missing Fraction    Column  \\\n",
       "0                  GAIN    189          MAR             0.01    theta8   \n",
       "6     Discriminative DL    189          MAR              0.1    theta8   \n",
       "12            Mean/Mode    189          MAR              0.3    theta8   \n",
       "18    Discriminative DL    189          MAR              0.5    theta8   \n",
       "24    Discriminative DL    189         MCAR             0.01    theta8   \n",
       "...                 ...    ...          ...              ...       ...   \n",
       "1312      Random Forest  42712         MCAR              0.5  humidity   \n",
       "1318  Discriminative DL  42712         MNAR             0.01  humidity   \n",
       "1324  Discriminative DL  42712         MNAR              0.1  humidity   \n",
       "1330  Discriminative DL  42712         MNAR              0.3  humidity   \n",
       "1336          Mean/Mode  42712         MNAR              0.5  humidity   \n",
       "\n",
       "                      result_type            metric    Baseline  Corrupted  \\\n",
       "0     downstream_performance_mean  Regression Tasks    0.204873        0.0   \n",
       "6     downstream_performance_mean  Regression Tasks    0.204813        0.0   \n",
       "12    downstream_performance_mean  Regression Tasks    0.204820        0.0   \n",
       "18    downstream_performance_mean  Regression Tasks    0.205841        0.0   \n",
       "24    downstream_performance_mean  Regression Tasks    0.205083        0.0   \n",
       "...                           ...               ...         ...        ...   \n",
       "1312  downstream_performance_mean  Regression Tasks  148.991778        0.0   \n",
       "1318  downstream_performance_mean  Regression Tasks  149.507994        0.0   \n",
       "1324  downstream_performance_mean  Regression Tasks  149.523046        0.0   \n",
       "1330  downstream_performance_mean  Regression Tasks  149.431371        0.0   \n",
       "1336  downstream_performance_mean  Regression Tasks  147.017846        0.0   \n",
       "\n",
       "         Imputed  ...                 name MajorityClassSize  \\\n",
       "0       0.204926  ...               kin8nm               NaN   \n",
       "6       0.204953  ...               kin8nm               NaN   \n",
       "12      0.205069  ...               kin8nm               NaN   \n",
       "18      0.205878  ...               kin8nm               NaN   \n",
       "24      0.204972  ...               kin8nm               NaN   \n",
       "...          ...  ...                  ...               ...   \n",
       "1312  148.880924  ...  Bike_Sharing_Demand               NaN   \n",
       "1318  149.475688  ...  Bike_Sharing_Demand               NaN   \n",
       "1324  149.372273  ...  Bike_Sharing_Demand               NaN   \n",
       "1330  149.346814  ...  Bike_Sharing_Demand               NaN   \n",
       "1336  146.311138  ...  Bike_Sharing_Demand               NaN   \n",
       "\n",
       "      MinorityClassSize  NumberOfFeatures  NumberOfInstances  \\\n",
       "0                   NaN               9.0             8192.0   \n",
       "6                   NaN               9.0             8192.0   \n",
       "12                  NaN               9.0             8192.0   \n",
       "18                  NaN               9.0             8192.0   \n",
       "24                  NaN               9.0             8192.0   \n",
       "...                 ...               ...                ...   \n",
       "1312                NaN              13.0            17379.0   \n",
       "1318                NaN              13.0            17379.0   \n",
       "1324                NaN              13.0            17379.0   \n",
       "1330                NaN              13.0            17379.0   \n",
       "1336                NaN              13.0            17379.0   \n",
       "\n",
       "      NumberOfNumericFeatures  NumberOfCategoricalFeatures  NumberOfClasses  \\\n",
       "0                         9.0                          0.0              NaN   \n",
       "6                         9.0                          0.0              NaN   \n",
       "12                        9.0                          0.0              NaN   \n",
       "18                        9.0                          0.0              NaN   \n",
       "24                        9.0                          0.0              NaN   \n",
       "...                       ...                          ...              ...   \n",
       "1312                      9.0                          4.0              NaN   \n",
       "1318                      9.0                          4.0              NaN   \n",
       "1324                      9.0                          4.0              NaN   \n",
       "1330                      9.0                          4.0              NaN   \n",
       "1336                      9.0                          4.0              NaN   \n",
       "\n",
       "      Downstream Performance Rank  Data_Constellation  \n",
       "0                             1.0          MAR - 0.01  \n",
       "6                             1.0           MAR - 0.1  \n",
       "12                            1.0           MAR - 0.3  \n",
       "18                            1.0           MAR - 0.5  \n",
       "24                            1.0         MCAR - 0.01  \n",
       "...                           ...                 ...  \n",
       "1312                          1.0          MCAR - 0.5  \n",
       "1318                          1.0         MNAR - 0.01  \n",
       "1324                          1.0          MNAR - 0.1  \n",
       "1330                          1.0          MNAR - 0.3  \n",
       "1336                          1.0          MNAR - 0.5  \n",
       "\n",
       "[228 rows x 21 columns]"
      ]
     },
     "execution_count": 102,
     "metadata": {},
     "output_type": "execute_result"
    }
   ],
   "source": [
    "# Use dataset with only the best method for each data constellation\n",
    "rank_1_backup.to_csv('rank_1_backup.csv')\n",
    "rank_1_backup"
   ]
  },
  {
   "cell_type": "code",
   "execution_count": null,
   "id": "bd56ae9c",
   "metadata": {},
   "outputs": [
    {
     "data": {
      "text/html": [
       "<div>\n",
       "<style scoped>\n",
       "    .dataframe tbody tr th:only-of-type {\n",
       "        vertical-align: middle;\n",
       "    }\n",
       "\n",
       "    .dataframe tbody tr th {\n",
       "        vertical-align: top;\n",
       "    }\n",
       "\n",
       "    .dataframe thead th {\n",
       "        text-align: right;\n",
       "    }\n",
       "</style>\n",
       "<table border=\"1\" class=\"dataframe\">\n",
       "  <thead>\n",
       "    <tr style=\"text-align: right;\">\n",
       "      <th></th>\n",
       "      <th>Imputation_Method</th>\n",
       "      <th>Missing Type</th>\n",
       "      <th>Missing Fraction</th>\n",
       "      <th>NumberOfInstances</th>\n",
       "      <th>NumberOfFeatures</th>\n",
       "      <th>NumberOfNumericFeatures</th>\n",
       "      <th>NumberOfCategoricalFeatures</th>\n",
       "      <th>metric</th>\n",
       "    </tr>\n",
       "  </thead>\n",
       "  <tbody>\n",
       "    <tr>\n",
       "      <th>0</th>\n",
       "      <td>GAIN</td>\n",
       "      <td>MAR</td>\n",
       "      <td>0.01</td>\n",
       "      <td>8192.0</td>\n",
       "      <td>9.0</td>\n",
       "      <td>9.0</td>\n",
       "      <td>0.0</td>\n",
       "      <td>Regression Tasks</td>\n",
       "    </tr>\n",
       "    <tr>\n",
       "      <th>6</th>\n",
       "      <td>Discriminative DL</td>\n",
       "      <td>MAR</td>\n",
       "      <td>0.1</td>\n",
       "      <td>8192.0</td>\n",
       "      <td>9.0</td>\n",
       "      <td>9.0</td>\n",
       "      <td>0.0</td>\n",
       "      <td>Regression Tasks</td>\n",
       "    </tr>\n",
       "    <tr>\n",
       "      <th>12</th>\n",
       "      <td>Mean/Mode</td>\n",
       "      <td>MAR</td>\n",
       "      <td>0.3</td>\n",
       "      <td>8192.0</td>\n",
       "      <td>9.0</td>\n",
       "      <td>9.0</td>\n",
       "      <td>0.0</td>\n",
       "      <td>Regression Tasks</td>\n",
       "    </tr>\n",
       "    <tr>\n",
       "      <th>18</th>\n",
       "      <td>Discriminative DL</td>\n",
       "      <td>MAR</td>\n",
       "      <td>0.5</td>\n",
       "      <td>8192.0</td>\n",
       "      <td>9.0</td>\n",
       "      <td>9.0</td>\n",
       "      <td>0.0</td>\n",
       "      <td>Regression Tasks</td>\n",
       "    </tr>\n",
       "    <tr>\n",
       "      <th>24</th>\n",
       "      <td>Discriminative DL</td>\n",
       "      <td>MCAR</td>\n",
       "      <td>0.01</td>\n",
       "      <td>8192.0</td>\n",
       "      <td>9.0</td>\n",
       "      <td>9.0</td>\n",
       "      <td>0.0</td>\n",
       "      <td>Regression Tasks</td>\n",
       "    </tr>\n",
       "    <tr>\n",
       "      <th>...</th>\n",
       "      <td>...</td>\n",
       "      <td>...</td>\n",
       "      <td>...</td>\n",
       "      <td>...</td>\n",
       "      <td>...</td>\n",
       "      <td>...</td>\n",
       "      <td>...</td>\n",
       "      <td>...</td>\n",
       "    </tr>\n",
       "    <tr>\n",
       "      <th>1312</th>\n",
       "      <td>Random Forest</td>\n",
       "      <td>MCAR</td>\n",
       "      <td>0.5</td>\n",
       "      <td>17379.0</td>\n",
       "      <td>13.0</td>\n",
       "      <td>9.0</td>\n",
       "      <td>4.0</td>\n",
       "      <td>Regression Tasks</td>\n",
       "    </tr>\n",
       "    <tr>\n",
       "      <th>1318</th>\n",
       "      <td>Discriminative DL</td>\n",
       "      <td>MNAR</td>\n",
       "      <td>0.01</td>\n",
       "      <td>17379.0</td>\n",
       "      <td>13.0</td>\n",
       "      <td>9.0</td>\n",
       "      <td>4.0</td>\n",
       "      <td>Regression Tasks</td>\n",
       "    </tr>\n",
       "    <tr>\n",
       "      <th>1324</th>\n",
       "      <td>Discriminative DL</td>\n",
       "      <td>MNAR</td>\n",
       "      <td>0.1</td>\n",
       "      <td>17379.0</td>\n",
       "      <td>13.0</td>\n",
       "      <td>9.0</td>\n",
       "      <td>4.0</td>\n",
       "      <td>Regression Tasks</td>\n",
       "    </tr>\n",
       "    <tr>\n",
       "      <th>1330</th>\n",
       "      <td>Discriminative DL</td>\n",
       "      <td>MNAR</td>\n",
       "      <td>0.3</td>\n",
       "      <td>17379.0</td>\n",
       "      <td>13.0</td>\n",
       "      <td>9.0</td>\n",
       "      <td>4.0</td>\n",
       "      <td>Regression Tasks</td>\n",
       "    </tr>\n",
       "    <tr>\n",
       "      <th>1336</th>\n",
       "      <td>Mean/Mode</td>\n",
       "      <td>MNAR</td>\n",
       "      <td>0.5</td>\n",
       "      <td>17379.0</td>\n",
       "      <td>13.0</td>\n",
       "      <td>9.0</td>\n",
       "      <td>4.0</td>\n",
       "      <td>Regression Tasks</td>\n",
       "    </tr>\n",
       "  </tbody>\n",
       "</table>\n",
       "<p>228 rows × 8 columns</p>\n",
       "</div>"
      ],
      "text/plain": [
       "      Imputation_Method Missing Type Missing Fraction  NumberOfInstances  \\\n",
       "0                  GAIN          MAR             0.01             8192.0   \n",
       "6     Discriminative DL          MAR              0.1             8192.0   \n",
       "12            Mean/Mode          MAR              0.3             8192.0   \n",
       "18    Discriminative DL          MAR              0.5             8192.0   \n",
       "24    Discriminative DL         MCAR             0.01             8192.0   \n",
       "...                 ...          ...              ...                ...   \n",
       "1312      Random Forest         MCAR              0.5            17379.0   \n",
       "1318  Discriminative DL         MNAR             0.01            17379.0   \n",
       "1324  Discriminative DL         MNAR              0.1            17379.0   \n",
       "1330  Discriminative DL         MNAR              0.3            17379.0   \n",
       "1336          Mean/Mode         MNAR              0.5            17379.0   \n",
       "\n",
       "      NumberOfFeatures  NumberOfNumericFeatures  NumberOfCategoricalFeatures  \\\n",
       "0                  9.0                      9.0                          0.0   \n",
       "6                  9.0                      9.0                          0.0   \n",
       "12                 9.0                      9.0                          0.0   \n",
       "18                 9.0                      9.0                          0.0   \n",
       "24                 9.0                      9.0                          0.0   \n",
       "...                ...                      ...                          ...   \n",
       "1312              13.0                      9.0                          4.0   \n",
       "1318              13.0                      9.0                          4.0   \n",
       "1324              13.0                      9.0                          4.0   \n",
       "1330              13.0                      9.0                          4.0   \n",
       "1336              13.0                      9.0                          4.0   \n",
       "\n",
       "                metric  \n",
       "0     Regression Tasks  \n",
       "6     Regression Tasks  \n",
       "12    Regression Tasks  \n",
       "18    Regression Tasks  \n",
       "24    Regression Tasks  \n",
       "...                ...  \n",
       "1312  Regression Tasks  \n",
       "1318  Regression Tasks  \n",
       "1324  Regression Tasks  \n",
       "1330  Regression Tasks  \n",
       "1336  Regression Tasks  \n",
       "\n",
       "[228 rows x 8 columns]"
      ]
     },
     "execution_count": 103,
     "metadata": {},
     "output_type": "execute_result"
    }
   ],
   "source": [
    "# Dataset for Training \n",
    "properties_train_dataset_8 = rank_1_backup.copy()\n",
    "properties_train_dataset_8 = properties_train_dataset_8[['Imputation_Method','Missing Type','Missing Fraction',\n",
    "                                                         'NumberOfInstances','NumberOfFeatures','NumberOfNumericFeatures',\n",
    "                                                         'NumberOfCategoricalFeatures','metric']]\n",
    "\n",
    "properties_train_dataset_8\n"
   ]
  },
  {
   "cell_type": "code",
   "execution_count": null,
   "id": "5fef5eeb",
   "metadata": {},
   "outputs": [],
   "source": [
    "# Dataset for Training \n",
    "properties_train_dataset_7 = rank_1_backup.copy()\n",
    "properties_train_dataset_7 = properties_train_dataset_7[['Imputation_Method','Missing Type','Missing Fraction',\n",
    "                                                         'NumberOfInstances','NumberOfFeatures','NumberOfNumericFeatures',\n",
    "                                                         'NumberOfCategoricalFeatures']]\n",
    "\n",
    "properties_train_dataset_7\n",
    "properties_train_dataset_7.to_csv('properties_train_dataset_7.csv', index=False)"
   ]
  },
  {
   "cell_type": "code",
   "execution_count": null,
   "id": "472545ca",
   "metadata": {},
   "outputs": [],
   "source": []
  }
 ],
 "metadata": {
  "kernelspec": {
   "display_name": "Python 3 (ipykernel)",
   "language": "python",
   "name": "python3"
  },
  "language_info": {
   "codemirror_mode": {
    "name": "ipython",
    "version": 3
   },
   "file_extension": ".py",
   "mimetype": "text/x-python",
   "name": "python",
   "nbconvert_exporter": "python",
   "pygments_lexer": "ipython3",
   "version": "3.9.13"
  }
 },
 "nbformat": 4,
 "nbformat_minor": 5
}
