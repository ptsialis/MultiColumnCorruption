{
 "cells": [
  {
   "cell_type": "code",
   "execution_count": 1,
   "id": "03fa197e-ed92-4fe9-97e1-0abb8183449e",
   "metadata": {},
   "outputs": [],
   "source": [
    "import pandas as pd\n",
    "import numpy as np"
   ]
  },
  {
   "cell_type": "code",
   "execution_count": null,
   "id": "f93fc36a-6e90-438c-bba7-5217e2f2224b",
   "metadata": {},
   "outputs": [],
   "source": []
  },
  {
   "cell_type": "code",
   "execution_count": 11,
   "id": "9108b1ec-f419-489a-ac38-573e39147168",
   "metadata": {},
   "outputs": [],
   "source": [
    "sgd_binary = pd.read_csv(\"../../results/baseline_SGD_binary/downstream_baseline_perfomance_sgd_binary.csv\",index_col=0)\n",
    "sgd_multi = pd.read_csv(\"../../results/baseline_SGD/downstream_baseline_perfomance_sgd_multi.csv\",index_col=0)"
   ]
  },
  {
   "cell_type": "code",
   "execution_count": 12,
   "id": "f7c03d66-a038-4cbf-a9e0-b5bc86c91d7a",
   "metadata": {
    "scrolled": true
   },
   "outputs": [],
   "source": [
    "autogluon_multi =  pd.read_csv(\"../../results/baseline_autogluon_multi/downstream_baseline_perfomance_autogluon_multi.csv\",index_col=0)\n",
    "autogluonbinary=  pd.read_csv(\"../../results/baseline_autogluon/downstream_baseline_perfomance_autogluon_binary.csv\",index_col=0)"
   ]
  },
  {
   "cell_type": "code",
   "execution_count": 13,
   "id": "e0b6be37-ccbc-453d-a91c-979689fd0bc5",
   "metadata": {},
   "outputs": [],
   "source": [
    "merged_df = pd.merge(autogluon_multi, sgd_multi, on='dataset_id')"
   ]
  },
  {
   "cell_type": "code",
   "execution_count": 14,
   "id": "9a2b7ff2-11b7-4a1d-a8bf-5cfa15e6281e",
   "metadata": {},
   "outputs": [
    {
     "data": {
      "text/html": [
       "<div>\n",
       "<style scoped>\n",
       "    .dataframe tbody tr th:only-of-type {\n",
       "        vertical-align: middle;\n",
       "    }\n",
       "\n",
       "    .dataframe tbody tr th {\n",
       "        vertical-align: top;\n",
       "    }\n",
       "\n",
       "    .dataframe thead th {\n",
       "        text-align: right;\n",
       "    }\n",
       "</style>\n",
       "<table border=\"1\" class=\"dataframe\">\n",
       "  <thead>\n",
       "    <tr style=\"text-align: right;\">\n",
       "      <th></th>\n",
       "      <th>baseline_performance_x</th>\n",
       "      <th>dataset_id</th>\n",
       "      <th>baseline_performance_y</th>\n",
       "    </tr>\n",
       "  </thead>\n",
       "  <tbody>\n",
       "    <tr>\n",
       "      <th>0</th>\n",
       "      <td>0.885814</td>\n",
       "      <td>1459</td>\n",
       "      <td>0.290493</td>\n",
       "    </tr>\n",
       "    <tr>\n",
       "      <th>1</th>\n",
       "      <td>1.000000</td>\n",
       "      <td>1526</td>\n",
       "      <td>0.896994</td>\n",
       "    </tr>\n",
       "    <tr>\n",
       "      <th>2</th>\n",
       "      <td>0.157067</td>\n",
       "      <td>183</td>\n",
       "      <td>0.100795</td>\n",
       "    </tr>\n",
       "    <tr>\n",
       "      <th>3</th>\n",
       "      <td>0.777791</td>\n",
       "      <td>26</td>\n",
       "      <td>0.556767</td>\n",
       "    </tr>\n",
       "    <tr>\n",
       "      <th>4</th>\n",
       "      <td>0.871874</td>\n",
       "      <td>30</td>\n",
       "      <td>0.752163</td>\n",
       "    </tr>\n",
       "    <tr>\n",
       "      <th>5</th>\n",
       "      <td>0.969456</td>\n",
       "      <td>375</td>\n",
       "      <td>0.918005</td>\n",
       "    </tr>\n",
       "    <tr>\n",
       "      <th>6</th>\n",
       "      <td>0.992365</td>\n",
       "      <td>32</td>\n",
       "      <td>0.932061</td>\n",
       "    </tr>\n",
       "    <tr>\n",
       "      <th>7</th>\n",
       "      <td>0.987555</td>\n",
       "      <td>40497</td>\n",
       "      <td>0.698915</td>\n",
       "    </tr>\n",
       "    <tr>\n",
       "      <th>8</th>\n",
       "      <td>0.470031</td>\n",
       "      <td>40498</td>\n",
       "      <td>0.174904</td>\n",
       "    </tr>\n",
       "    <tr>\n",
       "      <th>9</th>\n",
       "      <td>0.850218</td>\n",
       "      <td>40685</td>\n",
       "      <td>0.385588</td>\n",
       "    </tr>\n",
       "    <tr>\n",
       "      <th>10</th>\n",
       "      <td>0.387487</td>\n",
       "      <td>41671</td>\n",
       "      <td>0.240619</td>\n",
       "    </tr>\n",
       "    <tr>\n",
       "      <th>11</th>\n",
       "      <td>0.457271</td>\n",
       "      <td>4552</td>\n",
       "      <td>0.422108</td>\n",
       "    </tr>\n",
       "    <tr>\n",
       "      <th>12</th>\n",
       "      <td>0.720760</td>\n",
       "      <td>41027</td>\n",
       "      <td>0.474722</td>\n",
       "    </tr>\n",
       "    <tr>\n",
       "      <th>13</th>\n",
       "      <td>0.961756</td>\n",
       "      <td>6</td>\n",
       "      <td>0.726188</td>\n",
       "    </tr>\n",
       "  </tbody>\n",
       "</table>\n",
       "</div>"
      ],
      "text/plain": [
       "    baseline_performance_x  dataset_id  baseline_performance_y\n",
       "0                 0.885814        1459                0.290493\n",
       "1                 1.000000        1526                0.896994\n",
       "2                 0.157067         183                0.100795\n",
       "3                 0.777791          26                0.556767\n",
       "4                 0.871874          30                0.752163\n",
       "5                 0.969456         375                0.918005\n",
       "6                 0.992365          32                0.932061\n",
       "7                 0.987555       40497                0.698915\n",
       "8                 0.470031       40498                0.174904\n",
       "9                 0.850218       40685                0.385588\n",
       "10                0.387487       41671                0.240619\n",
       "11                0.457271        4552                0.422108\n",
       "12                0.720760       41027                0.474722\n",
       "13                0.961756           6                0.726188"
      ]
     },
     "execution_count": 14,
     "metadata": {},
     "output_type": "execute_result"
    }
   ],
   "source": [
    "merged_df"
   ]
  },
  {
   "cell_type": "code",
   "execution_count": 17,
   "id": "62f4bcc1-d623-49c2-a33e-6cff7b4d0630",
   "metadata": {
    "scrolled": true
   },
   "outputs": [
    {
     "data": {
      "text/html": [
       "<div>\n",
       "<style scoped>\n",
       "    .dataframe tbody tr th:only-of-type {\n",
       "        vertical-align: middle;\n",
       "    }\n",
       "\n",
       "    .dataframe tbody tr th {\n",
       "        vertical-align: top;\n",
       "    }\n",
       "\n",
       "    .dataframe thead th {\n",
       "        text-align: right;\n",
       "    }\n",
       "</style>\n",
       "<table border=\"1\" class=\"dataframe\">\n",
       "  <thead>\n",
       "    <tr style=\"text-align: right;\">\n",
       "      <th></th>\n",
       "      <th>baseline_performance_x</th>\n",
       "      <th>dataset_id</th>\n",
       "      <th>baseline_performance_y</th>\n",
       "      <th>difference</th>\n",
       "    </tr>\n",
       "  </thead>\n",
       "  <tbody>\n",
       "    <tr>\n",
       "      <th>0</th>\n",
       "      <td>0.885814</td>\n",
       "      <td>1459</td>\n",
       "      <td>0.290493</td>\n",
       "      <td>0.595321</td>\n",
       "    </tr>\n",
       "    <tr>\n",
       "      <th>1</th>\n",
       "      <td>1.000000</td>\n",
       "      <td>1526</td>\n",
       "      <td>0.896994</td>\n",
       "      <td>0.103006</td>\n",
       "    </tr>\n",
       "    <tr>\n",
       "      <th>2</th>\n",
       "      <td>0.157067</td>\n",
       "      <td>183</td>\n",
       "      <td>0.100795</td>\n",
       "      <td>0.056272</td>\n",
       "    </tr>\n",
       "    <tr>\n",
       "      <th>3</th>\n",
       "      <td>0.777791</td>\n",
       "      <td>26</td>\n",
       "      <td>0.556767</td>\n",
       "      <td>0.221024</td>\n",
       "    </tr>\n",
       "    <tr>\n",
       "      <th>4</th>\n",
       "      <td>0.871874</td>\n",
       "      <td>30</td>\n",
       "      <td>0.752163</td>\n",
       "      <td>0.119711</td>\n",
       "    </tr>\n",
       "    <tr>\n",
       "      <th>5</th>\n",
       "      <td>0.969456</td>\n",
       "      <td>375</td>\n",
       "      <td>0.918005</td>\n",
       "      <td>0.051452</td>\n",
       "    </tr>\n",
       "    <tr>\n",
       "      <th>6</th>\n",
       "      <td>0.992365</td>\n",
       "      <td>32</td>\n",
       "      <td>0.932061</td>\n",
       "      <td>0.060304</td>\n",
       "    </tr>\n",
       "    <tr>\n",
       "      <th>7</th>\n",
       "      <td>0.987555</td>\n",
       "      <td>40497</td>\n",
       "      <td>0.698915</td>\n",
       "      <td>0.288639</td>\n",
       "    </tr>\n",
       "    <tr>\n",
       "      <th>8</th>\n",
       "      <td>0.470031</td>\n",
       "      <td>40498</td>\n",
       "      <td>0.174904</td>\n",
       "      <td>0.295127</td>\n",
       "    </tr>\n",
       "    <tr>\n",
       "      <th>9</th>\n",
       "      <td>0.850218</td>\n",
       "      <td>40685</td>\n",
       "      <td>0.385588</td>\n",
       "      <td>0.464631</td>\n",
       "    </tr>\n",
       "    <tr>\n",
       "      <th>10</th>\n",
       "      <td>0.387487</td>\n",
       "      <td>41671</td>\n",
       "      <td>0.240619</td>\n",
       "      <td>0.146867</td>\n",
       "    </tr>\n",
       "    <tr>\n",
       "      <th>11</th>\n",
       "      <td>0.457271</td>\n",
       "      <td>4552</td>\n",
       "      <td>0.422108</td>\n",
       "      <td>0.035163</td>\n",
       "    </tr>\n",
       "    <tr>\n",
       "      <th>12</th>\n",
       "      <td>0.720760</td>\n",
       "      <td>41027</td>\n",
       "      <td>0.474722</td>\n",
       "      <td>0.246038</td>\n",
       "    </tr>\n",
       "    <tr>\n",
       "      <th>13</th>\n",
       "      <td>0.961756</td>\n",
       "      <td>6</td>\n",
       "      <td>0.726188</td>\n",
       "      <td>0.235568</td>\n",
       "    </tr>\n",
       "  </tbody>\n",
       "</table>\n",
       "</div>"
      ],
      "text/plain": [
       "    baseline_performance_x  dataset_id  baseline_performance_y  difference\n",
       "0                 0.885814        1459                0.290493    0.595321\n",
       "1                 1.000000        1526                0.896994    0.103006\n",
       "2                 0.157067         183                0.100795    0.056272\n",
       "3                 0.777791          26                0.556767    0.221024\n",
       "4                 0.871874          30                0.752163    0.119711\n",
       "5                 0.969456         375                0.918005    0.051452\n",
       "6                 0.992365          32                0.932061    0.060304\n",
       "7                 0.987555       40497                0.698915    0.288639\n",
       "8                 0.470031       40498                0.174904    0.295127\n",
       "9                 0.850218       40685                0.385588    0.464631\n",
       "10                0.387487       41671                0.240619    0.146867\n",
       "11                0.457271        4552                0.422108    0.035163\n",
       "12                0.720760       41027                0.474722    0.246038\n",
       "13                0.961756           6                0.726188    0.235568"
      ]
     },
     "execution_count": 17,
     "metadata": {},
     "output_type": "execute_result"
    }
   ],
   "source": [
    "merged_df['difference'] = merged_df['baseline_performance_x'] - merged_df['baseline_performance_y']\n",
    "merged_df"
   ]
  },
  {
   "cell_type": "code",
   "execution_count": 18,
   "id": "f3dd4c5b-d89d-467f-9ab8-9de230e557ac",
   "metadata": {},
   "outputs": [
    {
     "data": {
      "text/plain": [
       "0.2085087540505768"
      ]
     },
     "execution_count": 18,
     "metadata": {},
     "output_type": "execute_result"
    }
   ],
   "source": [
    "merged_df['difference'].mean()"
   ]
  },
  {
   "cell_type": "code",
   "execution_count": 19,
   "id": "38b23dc8-93f0-4a89-96e4-a0296ab4715b",
   "metadata": {},
   "outputs": [
    {
     "data": {
      "text/plain": [
       "0.03516284678192372"
      ]
     },
     "execution_count": 19,
     "metadata": {},
     "output_type": "execute_result"
    }
   ],
   "source": [
    "merged_df['difference'].min()"
   ]
  },
  {
   "cell_type": "code",
   "execution_count": 20,
   "id": "a0d34b8c-24e7-410f-b77d-a48ca4d4e5b9",
   "metadata": {},
   "outputs": [
    {
     "data": {
      "text/plain": [
       "0.5953211712317252"
      ]
     },
     "execution_count": 20,
     "metadata": {},
     "output_type": "execute_result"
    }
   ],
   "source": [
    "merged_df['difference'].max()"
   ]
  },
  {
   "cell_type": "code",
   "execution_count": null,
   "id": "790b5e71-5f83-4356-a7b8-8101dbf276e4",
   "metadata": {},
   "outputs": [],
   "source": []
  },
  {
   "cell_type": "code",
   "execution_count": null,
   "id": "78d910a5-ae0d-4fc7-b83d-89a5dfaed2e7",
   "metadata": {},
   "outputs": [],
   "source": []
  },
  {
   "cell_type": "code",
   "execution_count": null,
   "id": "475dbca2-2189-44f8-b183-d40e1a0ce5c8",
   "metadata": {},
   "outputs": [],
   "source": []
  },
  {
   "cell_type": "code",
   "execution_count": null,
   "id": "387b4f6a-beab-4f6d-a3af-084dfad4c0b6",
   "metadata": {},
   "outputs": [],
   "source": []
  }
 ],
 "metadata": {
  "kernelspec": {
   "display_name": "Python 3 (ipykernel)",
   "language": "python",
   "name": "python3"
  },
  "language_info": {
   "codemirror_mode": {
    "name": "ipython",
    "version": 3
   },
   "file_extension": ".py",
   "mimetype": "text/x-python",
   "name": "python",
   "nbconvert_exporter": "python",
   "pygments_lexer": "ipython3",
   "version": "3.8.19"
  }
 },
 "nbformat": 4,
 "nbformat_minor": 5
}
