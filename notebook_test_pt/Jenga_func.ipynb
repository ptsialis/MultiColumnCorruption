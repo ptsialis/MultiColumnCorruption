{
 "cells": [
  {
   "cell_type": "code",
   "execution_count": 1,
   "id": "1cc711a1-c598-46d5-9629-79f8e222fb76",
   "metadata": {},
   "outputs": [],
   "source": [
    "import json\n",
    "import numpy as np\n",
    "import pandas as pd"
   ]
  },
  {
   "cell_type": "code",
   "execution_count": 85,
   "id": "3ad41e36-5186-41ec-8eca-de1d907847ac",
   "metadata": {},
   "outputs": [],
   "source": [
    "data= pd.read_csv(\"../original_dataset.csv\",index_col=0)"
   ]
  },
  {
   "cell_type": "code",
   "execution_count": 86,
   "id": "98c6437a-fad2-4ca8-a47c-b1bb2e87c4fa",
   "metadata": {},
   "outputs": [
    {
     "data": {
      "text/html": [
       "<div>\n",
       "<style scoped>\n",
       "    .dataframe tbody tr th:only-of-type {\n",
       "        vertical-align: middle;\n",
       "    }\n",
       "\n",
       "    .dataframe tbody tr th {\n",
       "        vertical-align: top;\n",
       "    }\n",
       "\n",
       "    .dataframe thead th {\n",
       "        text-align: right;\n",
       "    }\n",
       "</style>\n",
       "<table border=\"1\" class=\"dataframe\">\n",
       "  <thead>\n",
       "    <tr style=\"text-align: right;\">\n",
       "      <th></th>\n",
       "      <th>white_king_col</th>\n",
       "      <th>white_king_row</th>\n",
       "      <th>white_rook_col</th>\n",
       "      <th>white_rook_row</th>\n",
       "      <th>black_king_col</th>\n",
       "      <th>black_king_row</th>\n",
       "    </tr>\n",
       "  </thead>\n",
       "  <tbody>\n",
       "    <tr>\n",
       "      <th>20482</th>\n",
       "      <td>d</td>\n",
       "      <td>2</td>\n",
       "      <td>f</td>\n",
       "      <td>1</td>\n",
       "      <td>f</td>\n",
       "      <td>8</td>\n",
       "    </tr>\n",
       "    <tr>\n",
       "      <th>20631</th>\n",
       "      <td>d</td>\n",
       "      <td>2</td>\n",
       "      <td>g</td>\n",
       "      <td>3</td>\n",
       "      <td>g</td>\n",
       "      <td>6</td>\n",
       "    </tr>\n",
       "    <tr>\n",
       "      <th>27228</th>\n",
       "      <td>c</td>\n",
       "      <td>1</td>\n",
       "      <td>g</td>\n",
       "      <td>3</td>\n",
       "      <td>f</td>\n",
       "      <td>5</td>\n",
       "    </tr>\n",
       "    <tr>\n",
       "      <th>8879</th>\n",
       "      <td>c</td>\n",
       "      <td>2</td>\n",
       "      <td>b</td>\n",
       "      <td>7</td>\n",
       "      <td>f</td>\n",
       "      <td>8</td>\n",
       "    </tr>\n",
       "    <tr>\n",
       "      <th>16826</th>\n",
       "      <td>a</td>\n",
       "      <td>1</td>\n",
       "      <td>d</td>\n",
       "      <td>5</td>\n",
       "      <td>h</td>\n",
       "      <td>3</td>\n",
       "    </tr>\n",
       "    <tr>\n",
       "      <th>...</th>\n",
       "      <td>...</td>\n",
       "      <td>...</td>\n",
       "      <td>...</td>\n",
       "      <td>...</td>\n",
       "      <td>...</td>\n",
       "      <td>...</td>\n",
       "    </tr>\n",
       "    <tr>\n",
       "      <th>21575</th>\n",
       "      <td>b</td>\n",
       "      <td>1</td>\n",
       "      <td>c</td>\n",
       "      <td>1</td>\n",
       "      <td>e</td>\n",
       "      <td>8</td>\n",
       "    </tr>\n",
       "    <tr>\n",
       "      <th>5390</th>\n",
       "      <td>c</td>\n",
       "      <td>1</td>\n",
       "      <td>h</td>\n",
       "      <td>3</td>\n",
       "      <td>e</td>\n",
       "      <td>1</td>\n",
       "    </tr>\n",
       "    <tr>\n",
       "      <th>860</th>\n",
       "      <td>c</td>\n",
       "      <td>1</td>\n",
       "      <td>c</td>\n",
       "      <td>7</td>\n",
       "      <td>b</td>\n",
       "      <td>8</td>\n",
       "    </tr>\n",
       "    <tr>\n",
       "      <th>15795</th>\n",
       "      <td>d</td>\n",
       "      <td>2</td>\n",
       "      <td>e</td>\n",
       "      <td>6</td>\n",
       "      <td>d</td>\n",
       "      <td>8</td>\n",
       "    </tr>\n",
       "    <tr>\n",
       "      <th>23654</th>\n",
       "      <td>c</td>\n",
       "      <td>1</td>\n",
       "      <td>h</td>\n",
       "      <td>8</td>\n",
       "      <td>d</td>\n",
       "      <td>7</td>\n",
       "    </tr>\n",
       "  </tbody>\n",
       "</table>\n",
       "<p>22444 rows × 6 columns</p>\n",
       "</div>"
      ],
      "text/plain": [
       "      white_king_col  white_king_row white_rook_col  white_rook_row  \\\n",
       "20482              d               2              f               1   \n",
       "20631              d               2              g               3   \n",
       "27228              c               1              g               3   \n",
       "8879               c               2              b               7   \n",
       "16826              a               1              d               5   \n",
       "...              ...             ...            ...             ...   \n",
       "21575              b               1              c               1   \n",
       "5390               c               1              h               3   \n",
       "860                c               1              c               7   \n",
       "15795              d               2              e               6   \n",
       "23654              c               1              h               8   \n",
       "\n",
       "      black_king_col  black_king_row  \n",
       "20482              f               8  \n",
       "20631              g               6  \n",
       "27228              f               5  \n",
       "8879               f               8  \n",
       "16826              h               3  \n",
       "...              ...             ...  \n",
       "21575              e               8  \n",
       "5390               e               1  \n",
       "860                b               8  \n",
       "15795              d               8  \n",
       "23654              d               7  \n",
       "\n",
       "[22444 rows x 6 columns]"
      ]
     },
     "execution_count": 86,
     "metadata": {},
     "output_type": "execute_result"
    }
   ],
   "source": [
    "data"
   ]
  },
  {
   "cell_type": "markdown",
   "id": "24b6b309-cdd6-485e-9d0b-79ebf2cce037",
   "metadata": {},
   "source": [
    "# MCAR"
   ]
  },
  {
   "cell_type": "code",
   "execution_count": 87,
   "id": "316c1cb4-5788-49c7-9ccc-7471ea5f1bf0",
   "metadata": {},
   "outputs": [],
   "source": [
    "rows = np.random.permutation(data.index)[:int(len(data)*0.5)]"
   ]
  },
  {
   "cell_type": "code",
   "execution_count": 88,
   "id": "a79fd650-0481-4d9e-9a56-a271974c967f",
   "metadata": {},
   "outputs": [
    {
     "data": {
      "text/plain": [
       "array([24318, 10025, 23892, ...,  1016, 16987,   842])"
      ]
     },
     "execution_count": 88,
     "metadata": {},
     "output_type": "execute_result"
    }
   ],
   "source": [
    "rows"
   ]
  },
  {
   "cell_type": "markdown",
   "id": "94900b08-cf03-4b19-9320-2e2ab80e3ec0",
   "metadata": {},
   "source": [
    "# Prep for MNAR/ MAR"
   ]
  },
  {
   "cell_type": "code",
   "execution_count": 102,
   "id": "53864cdd-262e-4064-8292-4f71fe8c5e17",
   "metadata": {},
   "outputs": [],
   "source": [
    "n_values_to_discard = int(len(data) * 0.5)"
   ]
  },
  {
   "cell_type": "code",
   "execution_count": 103,
   "id": "23a65191-1b0e-446c-8931-453db5d22e8f",
   "metadata": {},
   "outputs": [
    {
     "data": {
      "text/plain": [
       "11222"
      ]
     },
     "execution_count": 103,
     "metadata": {},
     "output_type": "execute_result"
    }
   ],
   "source": [
    "n_values_to_discard "
   ]
  },
  {
   "cell_type": "code",
   "execution_count": 91,
   "id": "7ce38bf0-5143-4fc7-9017-a4714fa222ff",
   "metadata": {},
   "outputs": [],
   "source": [
    "perc_lower_start = np.random.randint(0, len(data) - n_values_to_discard)"
   ]
  },
  {
   "cell_type": "code",
   "execution_count": 92,
   "id": "96c7e79e-94e3-4a62-a245-621d1e090c0e",
   "metadata": {},
   "outputs": [
    {
     "data": {
      "text/plain": [
       "10632"
      ]
     },
     "execution_count": 92,
     "metadata": {},
     "output_type": "execute_result"
    }
   ],
   "source": [
    "perc_lower_start"
   ]
  },
  {
   "cell_type": "code",
   "execution_count": 93,
   "id": "d6653413-74db-46b6-b6ab-a8b725ed7936",
   "metadata": {},
   "outputs": [],
   "source": [
    "perc_idx = range(perc_lower_start, perc_lower_start + n_values_to_discard)"
   ]
  },
  {
   "cell_type": "code",
   "execution_count": 94,
   "id": "3faaffd7-5e04-43e0-a316-9b9ebff40178",
   "metadata": {},
   "outputs": [
    {
     "data": {
      "text/plain": [
       "range(10632, 21854)"
      ]
     },
     "execution_count": 94,
     "metadata": {},
     "output_type": "execute_result"
    }
   ],
   "source": [
    "perc_idx"
   ]
  },
  {
   "cell_type": "markdown",
   "id": "3e234977-5029-4c97-8edf-df62618deda1",
   "metadata": {},
   "source": [
    "# MNAR"
   ]
  },
  {
   "cell_type": "code",
   "execution_count": 95,
   "id": "3a3872c0-4977-42f9-9f89-7b3f350f9d74",
   "metadata": {},
   "outputs": [],
   "source": [
    "rows = data[\"white_king_col\"].sort_values().iloc[perc_idx].index"
   ]
  },
  {
   "cell_type": "code",
   "execution_count": 96,
   "id": "e6e7b50f-889a-4e96-92f7-b343b9f5ae10",
   "metadata": {},
   "outputs": [
    {
     "data": {
      "text/plain": [
       "16926    a\n",
       "25910    a\n",
       "13239    a\n",
       "8382     a\n",
       "21068    a\n",
       "        ..\n",
       "25151    d\n",
       "3661     d\n",
       "24436    d\n",
       "16587    d\n",
       "20482    d\n",
       "Name: white_king_col, Length: 22444, dtype: object"
      ]
     },
     "execution_count": 96,
     "metadata": {},
     "output_type": "execute_result"
    }
   ],
   "source": [
    "data[\"white_king_col\"].sort_values()"
   ]
  },
  {
   "cell_type": "markdown",
   "id": "de6fa98f-600b-40aa-a93f-ba91cdb22697",
   "metadata": {},
   "source": [
    "# MAR"
   ]
  },
  {
   "cell_type": "code",
   "execution_count": 50,
   "id": "a2026440-6af1-4cc7-9565-315ac456796d",
   "metadata": {},
   "outputs": [],
   "source": [
    "depends_on_col = np.random.choice(list(set(data.columns) - {\"white_king_col\"}))"
   ]
  },
  {
   "cell_type": "code",
   "execution_count": 73,
   "id": "7ecf72f9-8d86-4c6f-ac92-25d046b9a6a7",
   "metadata": {},
   "outputs": [
    {
     "data": {
      "text/plain": [
       "'white_rook_col'"
      ]
     },
     "execution_count": 73,
     "metadata": {},
     "output_type": "execute_result"
    }
   ],
   "source": [
    "np.random.choice(list(set(data.columns) - {\"white_king_col\"}))"
   ]
  },
  {
   "cell_type": "code",
   "execution_count": 51,
   "id": "dc78ebfb-afa2-4c3b-ab6e-98219e920c19",
   "metadata": {},
   "outputs": [],
   "source": [
    "rows = data[depends_on_col].sort_values().iloc[perc_idx].index"
   ]
  },
  {
   "cell_type": "code",
   "execution_count": null,
   "id": "7d3ec190-b798-4166-a037-949bc784606a",
   "metadata": {},
   "outputs": [],
   "source": []
  }
 ],
 "metadata": {
  "kernelspec": {
   "display_name": "Python 3 (ipykernel)",
   "language": "python",
   "name": "python3"
  },
  "language_info": {
   "codemirror_mode": {
    "name": "ipython",
    "version": 3
   },
   "file_extension": ".py",
   "mimetype": "text/x-python",
   "name": "python",
   "nbconvert_exporter": "python",
   "pygments_lexer": "ipython3",
   "version": "3.11.7"
  }
 },
 "nbformat": 4,
 "nbformat_minor": 5
}
