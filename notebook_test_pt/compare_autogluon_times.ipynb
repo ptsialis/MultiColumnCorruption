{
 "cells": [
  {
   "cell_type": "code",
   "execution_count": 10,
   "id": "870b7577-a968-4246-9b9e-2ee6d78df51b",
   "metadata": {},
   "outputs": [],
   "source": [
    "import pandas as pd"
   ]
  },
  {
   "cell_type": "code",
   "execution_count": 36,
   "id": "ade1ae7e-bb84-426b-8f2a-cca28f86329b",
   "metadata": {},
   "outputs": [],
   "source": [
    "autogluon_multi_XGB_30 = pd.read_csv(\"../../results/baseline_autogluon_multi_30_XGB/downstream_baseline_perfomance_autogluon_multi_XGB_30.csv\",index_col=0)\n",
    "autogluon_multi_XGB_60 = pd.read_csv(\"../../results/baseline_autogluon_multi_60_XGB/downstream_baseline_perfomance_autogluon_multi_XGB_60.csv\",index_col=0)\n",
    "autogluon_multi_XGB_120 = pd.read_csv(\"../../results/baseline_autogluon_multi_120_XGB/downstream_baseline_perfomance_autogluon_multi_XGB_120.csv\",index_col=0)\n",
    "autogluon_multi_XGB_360 = pd.read_csv(\"../../results/baseline_autogluon_multi_360_XGB/downstream_baseline_perfomance_autogluon_multi_XGB_360.csv\",index_col=0)"
   ]
  },
  {
   "cell_type": "code",
   "execution_count": 29,
   "id": "06911a7c-9d3a-4360-8c56-3bba388660ae",
   "metadata": {
    "scrolled": true
   },
   "outputs": [],
   "source": [
    "autogluon_multi_30 =  pd.read_csv(\"../../results/baseline_autogluon_multi_30/downstream_baseline_perfomance_autogluon_multi.csv\",index_col=0)\n",
    "autogluon_multi_60 =  pd.read_csv(\"../../results/baseline_autogluon_multi_60/downstream_baseline_perfomance_autogluon_multi_60.csv\",index_col=0)\n",
    "autogluon_multi_120 =  pd.read_csv(\"../../results/baseline_autogluon_multi_120/downstream_baseline_perfomance_autogluon_multi_120.csv\",index_col=0)\n",
    "autogluon_multi_360 =  pd.read_csv(\"../../results/baseline_autogluon_multi_360/downstream_baseline_perfomance_autogluon_muti_360.csv\",index_col=0)"
   ]
  },
  {
   "cell_type": "code",
   "execution_count": 16,
   "id": "2f0f0d85-4d33-49ba-9b50-61c659bcd3d2",
   "metadata": {},
   "outputs": [
    {
     "data": {
      "text/html": [
       "<div>\n",
       "<style scoped>\n",
       "    .dataframe tbody tr th:only-of-type {\n",
       "        vertical-align: middle;\n",
       "    }\n",
       "\n",
       "    .dataframe tbody tr th {\n",
       "        vertical-align: top;\n",
       "    }\n",
       "\n",
       "    .dataframe thead th {\n",
       "        text-align: right;\n",
       "    }\n",
       "</style>\n",
       "<table border=\"1\" class=\"dataframe\">\n",
       "  <thead>\n",
       "    <tr style=\"text-align: right;\">\n",
       "      <th></th>\n",
       "      <th>baseline_performance_x</th>\n",
       "      <th>dataset_id</th>\n",
       "      <th>baseline_performance_y</th>\n",
       "    </tr>\n",
       "  </thead>\n",
       "  <tbody>\n",
       "    <tr>\n",
       "      <th>0</th>\n",
       "      <td>0.885814</td>\n",
       "      <td>1459</td>\n",
       "      <td>0.885814</td>\n",
       "    </tr>\n",
       "    <tr>\n",
       "      <th>1</th>\n",
       "      <td>0.662725</td>\n",
       "      <td>1481</td>\n",
       "      <td>0.662725</td>\n",
       "    </tr>\n",
       "    <tr>\n",
       "      <th>2</th>\n",
       "      <td>1.000000</td>\n",
       "      <td>1526</td>\n",
       "      <td>1.000000</td>\n",
       "    </tr>\n",
       "    <tr>\n",
       "      <th>3</th>\n",
       "      <td>0.157067</td>\n",
       "      <td>183</td>\n",
       "      <td>0.157067</td>\n",
       "    </tr>\n",
       "    <tr>\n",
       "      <th>4</th>\n",
       "      <td>0.777791</td>\n",
       "      <td>26</td>\n",
       "      <td>0.777791</td>\n",
       "    </tr>\n",
       "    <tr>\n",
       "      <th>5</th>\n",
       "      <td>0.737710</td>\n",
       "      <td>184</td>\n",
       "      <td>0.737710</td>\n",
       "    </tr>\n",
       "    <tr>\n",
       "      <th>6</th>\n",
       "      <td>0.871874</td>\n",
       "      <td>30</td>\n",
       "      <td>0.871874</td>\n",
       "    </tr>\n",
       "    <tr>\n",
       "      <th>7</th>\n",
       "      <td>0.969456</td>\n",
       "      <td>375</td>\n",
       "      <td>0.969456</td>\n",
       "    </tr>\n",
       "    <tr>\n",
       "      <th>8</th>\n",
       "      <td>0.992365</td>\n",
       "      <td>32</td>\n",
       "      <td>0.992365</td>\n",
       "    </tr>\n",
       "    <tr>\n",
       "      <th>9</th>\n",
       "      <td>0.987555</td>\n",
       "      <td>40497</td>\n",
       "      <td>0.987555</td>\n",
       "    </tr>\n",
       "    <tr>\n",
       "      <th>10</th>\n",
       "      <td>0.470031</td>\n",
       "      <td>40498</td>\n",
       "      <td>0.470031</td>\n",
       "    </tr>\n",
       "    <tr>\n",
       "      <th>11</th>\n",
       "      <td>0.850218</td>\n",
       "      <td>40685</td>\n",
       "      <td>0.850218</td>\n",
       "    </tr>\n",
       "    <tr>\n",
       "      <th>12</th>\n",
       "      <td>0.457271</td>\n",
       "      <td>4552</td>\n",
       "      <td>0.457271</td>\n",
       "    </tr>\n",
       "    <tr>\n",
       "      <th>13</th>\n",
       "      <td>0.720760</td>\n",
       "      <td>41027</td>\n",
       "      <td>0.720760</td>\n",
       "    </tr>\n",
       "    <tr>\n",
       "      <th>14</th>\n",
       "      <td>0.961756</td>\n",
       "      <td>6</td>\n",
       "      <td>0.961756</td>\n",
       "    </tr>\n",
       "  </tbody>\n",
       "</table>\n",
       "</div>"
      ],
      "text/plain": [
       "    baseline_performance_x  dataset_id  baseline_performance_y\n",
       "0                 0.885814        1459                0.885814\n",
       "1                 0.662725        1481                0.662725\n",
       "2                 1.000000        1526                1.000000\n",
       "3                 0.157067         183                0.157067\n",
       "4                 0.777791          26                0.777791\n",
       "5                 0.737710         184                0.737710\n",
       "6                 0.871874          30                0.871874\n",
       "7                 0.969456         375                0.969456\n",
       "8                 0.992365          32                0.992365\n",
       "9                 0.987555       40497                0.987555\n",
       "10                0.470031       40498                0.470031\n",
       "11                0.850218       40685                0.850218\n",
       "12                0.457271        4552                0.457271\n",
       "13                0.720760       41027                0.720760\n",
       "14                0.961756           6                0.961756"
      ]
     },
     "execution_count": 16,
     "metadata": {},
     "output_type": "execute_result"
    }
   ],
   "source": [
    "merged_df = pd.merge(autogluon_multi_30, autogluon_multi_60, on='dataset_id')\n",
    "merged_df"
   ]
  },
  {
   "cell_type": "code",
   "execution_count": 30,
   "id": "12f01711-44b5-4e43-9ab1-aef22cb07534",
   "metadata": {},
   "outputs": [
    {
     "data": {
      "text/plain": [
       "0.7423545854583318"
      ]
     },
     "execution_count": 30,
     "metadata": {},
     "output_type": "execute_result"
    }
   ],
   "source": [
    "autogluon_multi_30[\"baseline_performance\"].mean()"
   ]
  },
  {
   "cell_type": "code",
   "execution_count": 31,
   "id": "2db1b712-1793-4ebf-a521-b104d9f85d91",
   "metadata": {},
   "outputs": [
    {
     "data": {
      "text/plain": [
       "0.7668262430067279"
      ]
     },
     "execution_count": 31,
     "metadata": {},
     "output_type": "execute_result"
    }
   ],
   "source": [
    "autogluon_multi_60[\"baseline_performance\"].mean()"
   ]
  },
  {
   "cell_type": "code",
   "execution_count": 32,
   "id": "59c4bbd7-6935-441b-8d0d-d70d038539c0",
   "metadata": {},
   "outputs": [
    {
     "data": {
      "text/plain": [
       "0.7356130959628002"
      ]
     },
     "execution_count": 32,
     "metadata": {},
     "output_type": "execute_result"
    }
   ],
   "source": [
    "autogluon_multi_120[\"baseline_performance\"].mean()"
   ]
  },
  {
   "cell_type": "code",
   "execution_count": 33,
   "id": "c46b96b6-cec3-48a2-8ecf-5e257962e790",
   "metadata": {},
   "outputs": [
    {
     "data": {
      "text/plain": [
       "0.7270295867448431"
      ]
     },
     "execution_count": 33,
     "metadata": {},
     "output_type": "execute_result"
    }
   ],
   "source": [
    "autogluon_multi_360[\"baseline_performance\"].mean()"
   ]
  },
  {
   "cell_type": "code",
   "execution_count": null,
   "id": "7a588125-0e21-4023-a190-f9a7070adae9",
   "metadata": {},
   "outputs": [],
   "source": []
  },
  {
   "cell_type": "code",
   "execution_count": 37,
   "id": "764a96a3-462c-43de-aa39-0d7f87236cdf",
   "metadata": {},
   "outputs": [
    {
     "data": {
      "text/plain": [
       "0.7596225950052851"
      ]
     },
     "execution_count": 37,
     "metadata": {},
     "output_type": "execute_result"
    }
   ],
   "source": [
    "autogluon_multi_XGB_30[\"baseline_performance\"].mean()"
   ]
  },
  {
   "cell_type": "code",
   "execution_count": 26,
   "id": "ea8ab162-60cb-4027-b2aa-e4b03f96d6d6",
   "metadata": {},
   "outputs": [
    {
     "data": {
      "text/plain": [
       "0.7380269435057545"
      ]
     },
     "execution_count": 26,
     "metadata": {},
     "output_type": "execute_result"
    }
   ],
   "source": [
    "autogluon_multi_XGB_60[\"baseline_performance\"].mean()"
   ]
  },
  {
   "cell_type": "code",
   "execution_count": 28,
   "id": "fd8eb349-1105-4089-be2e-821002c81fa0",
   "metadata": {},
   "outputs": [
    {
     "data": {
      "text/plain": [
       "0.7681315067134982"
      ]
     },
     "execution_count": 28,
     "metadata": {},
     "output_type": "execute_result"
    }
   ],
   "source": [
    "autogluon_multi_XGB_120[\"baseline_performance\"].mean()"
   ]
  },
  {
   "cell_type": "code",
   "execution_count": 35,
   "id": "c7a6a1b2-35c8-4aa0-8ce3-f3a053791ec1",
   "metadata": {},
   "outputs": [
    {
     "data": {
      "text/plain": [
       "0.7425433550705777"
      ]
     },
     "execution_count": 35,
     "metadata": {},
     "output_type": "execute_result"
    }
   ],
   "source": [
    "autogluon_multi_XGB_360[\"baseline_performance\"].mean()"
   ]
  },
  {
   "cell_type": "code",
   "execution_count": null,
   "id": "542c24b0-1a3d-4d8b-90db-9c43de31d08c",
   "metadata": {},
   "outputs": [],
   "source": []
  }
 ],
 "metadata": {
  "kernelspec": {
   "display_name": "Python 3 (ipykernel)",
   "language": "python",
   "name": "python3"
  },
  "language_info": {
   "codemirror_mode": {
    "name": "ipython",
    "version": 3
   },
   "file_extension": ".py",
   "mimetype": "text/x-python",
   "name": "python",
   "nbconvert_exporter": "python",
   "pygments_lexer": "ipython3",
   "version": "3.8.19"
  }
 },
 "nbformat": 4,
 "nbformat_minor": 5
}
